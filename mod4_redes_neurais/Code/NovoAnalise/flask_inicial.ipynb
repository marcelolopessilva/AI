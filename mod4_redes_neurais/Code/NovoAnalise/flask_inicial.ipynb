{
 "cells": [
  {
   "cell_type": "code",
   "execution_count": null,
   "id": "fdef97b1-e19d-4b43-a61c-a6fc113eb2fb",
   "metadata": {},
   "outputs": [],
   "source": [
    "# pip install -U Flask"
   ]
  },
  {
   "cell_type": "code",
   "execution_count": 1,
   "id": "d59a0367-8cbc-43a3-bef1-6783d2032ca3",
   "metadata": {},
   "outputs": [],
   "source": [
    "# save this as app.py\n",
    "from flask import Flask\n",
    "\n",
    "app = Flask(__name__)\n",
    "\n",
    "@app.route(\"/\")\n",
    "def hello():\n",
    "    return \"Hello, World!\""
   ]
  },
  {
   "cell_type": "code",
   "execution_count": null,
   "id": "c2681d0c-4f6b-4b4d-8cee-0ae8a14d550d",
   "metadata": {},
   "outputs": [
    {
     "name": "stdout",
     "output_type": "stream",
     "text": [
      " * Serving Flask app '__main__' (lazy loading)\n",
      " * Environment: production\n",
      "   WARNING: This is a development server. Do not use it in a production deployment.\n",
      "   Use a production WSGI server instead.\n",
      " * Debug mode: off\n"
     ]
    },
    {
     "name": "stderr",
     "output_type": "stream",
     "text": [
      " * Running on http://127.0.0.1:5000/ (Press CTRL+C to quit)\n",
      "127.0.0.1 - - [10/Aug/2021 21:17:39] \"GET / HTTP/1.1\" 200 -\n",
      "127.0.0.1 - - [10/Aug/2021 21:17:39] \"GET /favicon.ico HTTP/1.1\" 404 -\n"
     ]
    }
   ],
   "source": [
    "app.run()"
   ]
  },
  {
   "cell_type": "code",
   "execution_count": null,
   "id": "ce22ea0f-d783-439c-bd37-66eb8d748c99",
   "metadata": {},
   "outputs": [],
   "source": []
  }
 ],
 "metadata": {
  "kernelspec": {
   "display_name": "Python 3",
   "language": "python",
   "name": "python3"
  },
  "language_info": {
   "codemirror_mode": {
    "name": "ipython",
    "version": 3
   },
   "file_extension": ".py",
   "mimetype": "text/x-python",
   "name": "python",
   "nbconvert_exporter": "python",
   "pygments_lexer": "ipython3",
   "version": "3.7.10"
  }
 },
 "nbformat": 4,
 "nbformat_minor": 5
}
