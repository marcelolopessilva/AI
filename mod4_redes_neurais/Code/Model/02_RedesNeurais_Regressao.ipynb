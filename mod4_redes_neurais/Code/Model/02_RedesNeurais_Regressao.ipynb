{
 "cells": [
  {
   "cell_type": "markdown",
   "id": "5cc749bf-1b48-4983-a4f8-50a04c9497ba",
   "metadata": {},
   "source": [
    "## <span style=\"color:#000080\"> **Modelo Desenvolvido**\n",
    "### <span style=\"color:#4169E1\"><b>Predição serie-temporal de valores de Magnitude do Vento Verificado(m/s) utilizando Redes Neurais Long Short-Term Memory (LSTM) do Keras. <br>\n",
    "    \n",
    "<b>Objetivos pricipais deste tutorial:</b><br>\n",
    "- Preparar os dados para que eles se adequem ao formato de um problema de predição serie-temporal\n",
    "- Desenvolver um modelo LSTM para predição de series-temporais\n",
    "- Avaliar o desempenho da rede LSTM para predição de valores para multiplos pontos no tempo."
   ]
  },
  {
   "cell_type": "code",
   "execution_count": 1,
   "id": "c454cb09-6a93-4231-9f16-8b0504215680",
   "metadata": {},
   "outputs": [],
   "source": [
    "import pandas as pd\n",
    "import numpy as np\n",
    "import matplotlib.pyplot as plt\n",
    "from datetime import datetime\n",
    "from math import sqrt\n",
    "\n",
    "from sklearn.model_selection import train_test_split\n",
    "from sklearn.neural_network import MLPRegressor\n",
    "\n",
    "\n",
    "from sklearn.preprocessing import MinMaxScaler\n",
    "from sklearn.metrics import mean_squared_error\n",
    "from sklearn.datasets import make_regression\n",
    "\n",
    "from sklearn.preprocessing import StandardScaler\n",
    "from sklearn.pipeline import make_pipeline\n",
    "from sklearn.tree import DecisionTreeRegressor\n",
    "from sklearn.inspection import plot_partial_dependence\n",
    "\n",
    "from keras.models import Sequential\n",
    "from keras.layers import Dense\n",
    "from keras.layers import LSTM\n"
   ]
  },
  {
   "cell_type": "code",
   "execution_count": 13,
   "id": "ed16009c-9a84-4a95-ae8c-1057c6797029",
   "metadata": {},
   "outputs": [],
   "source": []
  },
  {
   "cell_type": "markdown",
   "id": "b280d12d-2bea-466d-8c4e-465237690453",
   "metadata": {},
   "source": [
    "### ***A) Importar Dados de Chuvas, Pressao, Precipitação e Temperatura***"
   ]
  },
  {
   "cell_type": "code",
   "execution_count": 2,
   "id": "ce7758ab-5872-49b8-9f81-da961f22e2cc",
   "metadata": {},
   "outputs": [],
   "source": [
    "source_file = '../../Data/process/resultDados_patio1_completo.csv'\n",
    "dataframe = pd.read_csv(source_file, delimiter=';',  index_col=0, parse_dates=['Data'])"
   ]
  },
  {
   "cell_type": "code",
   "execution_count": 3,
   "id": "db188984-0f7b-43f7-8c10-101544ceaf58",
   "metadata": {},
   "outputs": [
    {
     "name": "stdout",
     "output_type": "stream",
     "text": [
      "<class 'pandas.core.frame.DataFrame'>\n",
      "Int64Index: 8760 entries, 0 to 8759\n",
      "Data columns (total 9 columns):\n",
      " #   Column               Non-Null Count  Dtype         \n",
      "---  ------               --------------  -----         \n",
      " 0   Longitude            8760 non-null   float64       \n",
      " 1   Latitude             8760 non-null   float64       \n",
      " 2   Magnitude_Observada  8760 non-null   float64       \n",
      " 3   Direcao              8760 non-null   float64       \n",
      " 4   Data                 8760 non-null   datetime64[ns]\n",
      " 5   Valor_Pressao        8760 non-null   float64       \n",
      " 6   Valor_Temp           8760 non-null   float64       \n",
      " 7   Valor_Chuva          8760 non-null   float64       \n",
      " 8   Magnitude_Verif      8760 non-null   float64       \n",
      "dtypes: datetime64[ns](1), float64(8)\n",
      "memory usage: 684.4 KB\n"
     ]
    }
   ],
   "source": [
    "dataframe.info()"
   ]
  },
  {
   "cell_type": "markdown",
   "id": "507d18f4-024a-4519-b3f3-b0f9b1702a7d",
   "metadata": {},
   "source": [
    "### <span style=\"color:#006400\"> **B) Algoritmo do Modelo de Rede Neural**"
   ]
  },
  {
   "cell_type": "markdown",
   "id": "97f2e18f-2694-4e78-94ec-cf598d77b772",
   "metadata": {},
   "source": [
    "Iremos transformar os dados de séries temporais para um problema de aprendizado supervisionado, isto é, \n",
    "transformar de uma lista de números para uma lista de padrões de entrada e saída.\n",
    "Podemos conseguir isso usando uma função pré-preparada chamada <b>series_to_supervised().</b>"
   ]
  },
  {
   "cell_type": "code",
   "execution_count": 71,
   "id": "5241f908-e265-41f8-9f9d-b5813ba4539d",
   "metadata": {},
   "outputs": [],
   "source": [
    "from sklearn.preprocessing import MinMaxScaler\n",
    "from sklearn.metrics import mean_squared_error\n",
    "\n",
    "from keras.models import Sequential\n",
    "from keras.layers import Dense\n",
    "from keras.layers import LSTM\n",
    "\n",
    "from math import sqrt\n",
    "from datetime import datetime"
   ]
  },
  {
   "cell_type": "markdown",
   "id": "b7133339-b086-4b50-9799-77b424088994",
   "metadata": {},
   "source": [
    "#### <span style=\"color:#006400\"> B.1)**Transformando de series temporais para um problema de aprendizado supervisonado**"
   ]
  },
  {
   "cell_type": "markdown",
   "id": "0b3983fb-9f0e-4fca-8322-b0c7d8f75e83",
   "metadata": {},
   "source": [
    "Como podemos observar no método abaixo, o objetivo dela é criar uma sequencia de informações.<br>\n",
    "É utilizada a função <b>shift</b> do pandas para que seja concatenada uma coluna com n posições de deslocamento.<br>\n",
    "Dessa maneira poderemos colocar o mês de entrada (X), e os N meses de saída à frente (y)"
   ]
  },
  {
   "cell_type": "code",
   "execution_count": 85,
   "id": "33150119-9820-4e15-997c-8e5a2c06dfd7",
   "metadata": {},
   "outputs": [
    {
     "data": {
      "image/jpeg": "[encoded data removed]",
      "text/plain": [
       "<IPython.core.display.Image object>"
      ]
     },
     "execution_count": 85,
     "metadata": {},
     "output_type": "execute_result"
    }
   ],
   "source": [
    "from IPython.display import Image\n",
    "Image(filename='shift.jpg')"
   ]
  },
  {
   "cell_type": "code",
   "execution_count": 72,
   "id": "ddb80d8c-03c3-4b38-85df-396c03869b4f",
   "metadata": {},
   "outputs": [],
   "source": [
    "def series_to_supervised(data, n_in=1, n_out=1, dropnan=True):\n",
    "    import pandas as pd\n",
    "    \n",
    "    # ###################################################### \n",
    "    # Frame a time series as a supervised learning dataset.\n",
    "    # Arguments:\n",
    "    #    data: Sequence of observations as a list or NumPy array.\n",
    "    #    n_in: Number of lag observations as input (X).\n",
    "    #    n_out: Number of observations as output (y).\n",
    "    #    dropnan: Boolean whether or not to drop rows with NaN values.\n",
    "    # Returns:\n",
    "    #    Pandas DataFrame of series framed for supervised learning.\n",
    "    # ###################################################### \n",
    "\n",
    "    n_vars = 1 if type(data) is list else data.shape[1]\n",
    "    df = pd.DataFrame(data)\n",
    "    cols, names = list(), list()\n",
    "\n",
    "    # input sequence (t-n, ... t-1)\n",
    "    for i in range(n_in, 0, -1):\n",
    "        cols.append(df.shift(i))   # Copia os valores pra frente\n",
    "        names += [('var%d(t-%d)' % (j+1, i)) for j in range(n_vars)]\n",
    "\n",
    "    # forecast sequence (t, t+1, ... t+n)\n",
    "    for i in range(0, n_out):\n",
    "        cols.append(df.shift(-i))\n",
    "        if i == 0:\n",
    "            names += [('var%d(t)' % (j+1)) for j in range(n_vars)]\n",
    "        else:\n",
    "            names += [('var%d(t+%d)' % (j+1, i)) for j in range(n_vars)]\n",
    "\n",
    "    # put it all together\n",
    "    agg = pd.concat(cols, axis=1)\n",
    "    agg.columns = names\n",
    "\n",
    "    # drop rows with NaN values\n",
    "    if dropnan:\n",
    "        agg.dropna(inplace=True)\n",
    "    return agg\n"
   ]
  },
  {
   "cell_type": "code",
   "execution_count": 99,
   "id": "e521d3cb-7c6e-4e57-847d-f3ad2eb31510",
   "metadata": {},
   "outputs": [
    {
     "name": "stdout",
     "output_type": "stream",
     "text": [
      "(8760, 1)\n"
     ]
    },
    {
     "data": {
      "text/plain": [
       "array([[9.82],\n",
       "       [8.74],\n",
       "       [8.45],\n",
       "       ...,\n",
       "       [6.04],\n",
       "       [6.72],\n",
       "       [5.61]])"
      ]
     },
     "execution_count": 99,
     "metadata": {},
     "output_type": "execute_result"
    }
   ],
   "source": [
    "n_lag = 1  # Features\n",
    "n_sec = 7  # Saidas (dias a frente)\n",
    "\n",
    "df_serietemporal = dataframe.drop(['Longitude', 'Latitude','Magnitude_Observada','Direcao','Valor_Pressao','Valor_Temp','Valor_Chuva'], axis=1)\n",
    "df_serietemporal = df_serietemporal.set_index('Data')\n",
    "\n",
    "raw_values = df_serietemporal.values\n",
    "raw_values = raw_values.reshape(len(raw_values),1)\n",
    "print(raw_values.shape)\n",
    "raw_values"
   ]
  },
  {
   "cell_type": "code",
   "execution_count": 100,
   "id": "b27fae71-b161-4a4b-9beb-ed01822b1f66",
   "metadata": {},
   "outputs": [
    {
     "data": {
      "text/html": [
       "<div>\n",
       "<style scoped>\n",
       "    .dataframe tbody tr th:only-of-type {\n",
       "        vertical-align: middle;\n",
       "    }\n",
       "\n",
       "    .dataframe tbody tr th {\n",
       "        vertical-align: top;\n",
       "    }\n",
       "\n",
       "    .dataframe thead th {\n",
       "        text-align: right;\n",
       "    }\n",
       "</style>\n",
       "<table border=\"1\" class=\"dataframe\">\n",
       "  <thead>\n",
       "    <tr style=\"text-align: right;\">\n",
       "      <th></th>\n",
       "      <th>var1(t-1)</th>\n",
       "      <th>var1(t)</th>\n",
       "      <th>var1(t+1)</th>\n",
       "      <th>var1(t+2)</th>\n",
       "      <th>var1(t+3)</th>\n",
       "      <th>var1(t+4)</th>\n",
       "      <th>var1(t+5)</th>\n",
       "      <th>var1(t+6)</th>\n",
       "    </tr>\n",
       "  </thead>\n",
       "  <tbody>\n",
       "    <tr>\n",
       "      <th>1</th>\n",
       "      <td>9.82</td>\n",
       "      <td>8.74</td>\n",
       "      <td>8.45</td>\n",
       "      <td>9.18</td>\n",
       "      <td>9.19</td>\n",
       "      <td>9.36</td>\n",
       "      <td>8.40</td>\n",
       "      <td>7.40</td>\n",
       "    </tr>\n",
       "    <tr>\n",
       "      <th>2</th>\n",
       "      <td>8.74</td>\n",
       "      <td>8.45</td>\n",
       "      <td>9.18</td>\n",
       "      <td>9.19</td>\n",
       "      <td>9.36</td>\n",
       "      <td>8.40</td>\n",
       "      <td>7.40</td>\n",
       "      <td>7.83</td>\n",
       "    </tr>\n",
       "    <tr>\n",
       "      <th>3</th>\n",
       "      <td>8.45</td>\n",
       "      <td>9.18</td>\n",
       "      <td>9.19</td>\n",
       "      <td>9.36</td>\n",
       "      <td>8.40</td>\n",
       "      <td>7.40</td>\n",
       "      <td>7.83</td>\n",
       "      <td>7.38</td>\n",
       "    </tr>\n",
       "    <tr>\n",
       "      <th>4</th>\n",
       "      <td>9.18</td>\n",
       "      <td>9.19</td>\n",
       "      <td>9.36</td>\n",
       "      <td>8.40</td>\n",
       "      <td>7.40</td>\n",
       "      <td>7.83</td>\n",
       "      <td>7.38</td>\n",
       "      <td>7.10</td>\n",
       "    </tr>\n",
       "    <tr>\n",
       "      <th>5</th>\n",
       "      <td>9.19</td>\n",
       "      <td>9.36</td>\n",
       "      <td>8.40</td>\n",
       "      <td>7.40</td>\n",
       "      <td>7.83</td>\n",
       "      <td>7.38</td>\n",
       "      <td>7.10</td>\n",
       "      <td>6.60</td>\n",
       "    </tr>\n",
       "    <tr>\n",
       "      <th>...</th>\n",
       "      <td>...</td>\n",
       "      <td>...</td>\n",
       "      <td>...</td>\n",
       "      <td>...</td>\n",
       "      <td>...</td>\n",
       "      <td>...</td>\n",
       "      <td>...</td>\n",
       "      <td>...</td>\n",
       "    </tr>\n",
       "    <tr>\n",
       "      <th>8749</th>\n",
       "      <td>4.46</td>\n",
       "      <td>5.40</td>\n",
       "      <td>5.27</td>\n",
       "      <td>6.98</td>\n",
       "      <td>6.75</td>\n",
       "      <td>6.00</td>\n",
       "      <td>6.84</td>\n",
       "      <td>7.22</td>\n",
       "    </tr>\n",
       "    <tr>\n",
       "      <th>8750</th>\n",
       "      <td>5.40</td>\n",
       "      <td>5.27</td>\n",
       "      <td>6.98</td>\n",
       "      <td>6.75</td>\n",
       "      <td>6.00</td>\n",
       "      <td>6.84</td>\n",
       "      <td>7.22</td>\n",
       "      <td>6.14</td>\n",
       "    </tr>\n",
       "    <tr>\n",
       "      <th>8751</th>\n",
       "      <td>5.27</td>\n",
       "      <td>6.98</td>\n",
       "      <td>6.75</td>\n",
       "      <td>6.00</td>\n",
       "      <td>6.84</td>\n",
       "      <td>7.22</td>\n",
       "      <td>6.14</td>\n",
       "      <td>6.04</td>\n",
       "    </tr>\n",
       "    <tr>\n",
       "      <th>8752</th>\n",
       "      <td>6.98</td>\n",
       "      <td>6.75</td>\n",
       "      <td>6.00</td>\n",
       "      <td>6.84</td>\n",
       "      <td>7.22</td>\n",
       "      <td>6.14</td>\n",
       "      <td>6.04</td>\n",
       "      <td>6.72</td>\n",
       "    </tr>\n",
       "    <tr>\n",
       "      <th>8753</th>\n",
       "      <td>6.75</td>\n",
       "      <td>6.00</td>\n",
       "      <td>6.84</td>\n",
       "      <td>7.22</td>\n",
       "      <td>6.14</td>\n",
       "      <td>6.04</td>\n",
       "      <td>6.72</td>\n",
       "      <td>5.61</td>\n",
       "    </tr>\n",
       "  </tbody>\n",
       "</table>\n",
       "<p>8753 rows × 8 columns</p>\n",
       "</div>"
      ],
      "text/plain": [
       "      var1(t-1)  var1(t)  var1(t+1)  var1(t+2)  var1(t+3)  var1(t+4)  \\\n",
       "1          9.82     8.74       8.45       9.18       9.19       9.36   \n",
       "2          8.74     8.45       9.18       9.19       9.36       8.40   \n",
       "3          8.45     9.18       9.19       9.36       8.40       7.40   \n",
       "4          9.18     9.19       9.36       8.40       7.40       7.83   \n",
       "5          9.19     9.36       8.40       7.40       7.83       7.38   \n",
       "...         ...      ...        ...        ...        ...        ...   \n",
       "8749       4.46     5.40       5.27       6.98       6.75       6.00   \n",
       "8750       5.40     5.27       6.98       6.75       6.00       6.84   \n",
       "8751       5.27     6.98       6.75       6.00       6.84       7.22   \n",
       "8752       6.98     6.75       6.00       6.84       7.22       6.14   \n",
       "8753       6.75     6.00       6.84       7.22       6.14       6.04   \n",
       "\n",
       "      var1(t+5)  var1(t+6)  \n",
       "1          8.40       7.40  \n",
       "2          7.40       7.83  \n",
       "3          7.83       7.38  \n",
       "4          7.38       7.10  \n",
       "5          7.10       6.60  \n",
       "...         ...        ...  \n",
       "8749       6.84       7.22  \n",
       "8750       7.22       6.14  \n",
       "8751       6.14       6.04  \n",
       "8752       6.04       6.72  \n",
       "8753       6.72       5.61  \n",
       "\n",
       "[8753 rows x 8 columns]"
      ]
     },
     "execution_count": 100,
     "metadata": {},
     "output_type": "execute_result"
    }
   ],
   "source": [
    "supervised = series_to_supervised(raw_values, n_lag, n_sec)   # Dataframe com Valores, Feautres de Entrada, Output de Saida\n",
    "supervised"
   ]
  },
  {
   "cell_type": "markdown",
   "id": "091726c3-60ad-4d57-b39c-820901aedcb5",
   "metadata": {},
   "source": [
    "#### <span style=\"color:#006400\"> B.2)**Dividindo dataset em treino e teste**"
   ]
  },
  {
   "cell_type": "code",
   "execution_count": 101,
   "id": "12d14316-404c-439a-b00a-368b183cd85d",
   "metadata": {},
   "outputs": [
    {
     "name": "stdout",
     "output_type": "stream",
     "text": [
      "[[4.23 4.67 5.15 ... 5.34 5.12 4.44]\n",
      " [4.67 5.15 4.69 ... 5.12 4.44 4.21]\n",
      " [5.15 4.69 4.82 ... 4.44 4.21 4.43]\n",
      " ...\n",
      " [5.27 6.98 6.75 ... 7.22 6.14 6.04]\n",
      " [6.98 6.75 6.   ... 6.14 6.04 6.72]\n",
      " [6.75 6.   6.84 ... 6.04 6.72 5.61]]\n",
      "(7753, 8)\n",
      "(1000, 8)\n"
     ]
    }
   ],
   "source": [
    "# Sabemos que as ultimas 744 linhas do dataset contêm informações sobre os dados do Conjunto de Teste\n",
    "\n",
    "size = supervised.shape[0] - 1000\n",
    "n_test = 1000\n",
    "\n",
    "supervised_values = supervised.values\n",
    "\n",
    "# separando em conjunto de treino e conjunto de teste\n",
    "train, test = supervised_values[0:size], supervised_values[-n_test:]\n",
    "\n",
    "print(test)\n",
    "print(train.shape)\n",
    "print(test.shape)"
   ]
  },
  {
   "cell_type": "markdown",
   "id": "7cfdfe7e-a034-4e50-8e5b-2b8d93099fc5",
   "metadata": {},
   "source": [
    "#### <span style=\"color:#006400\"> B.2)**Rede LSTM**"
   ]
  },
  {
   "cell_type": "markdown",
   "id": "63a36e6d-ec61-4f57-bb5c-4b17c514db11",
   "metadata": {},
   "source": [
    "Antes de usarmos o LSTM precisamos fazer duas mudanças nos dados:<br>\n",
    "- Estacionário. Os dados mostram uma tendência crescente que deve ser removida por diferenciação. Utilizaremos uma função chamada difference() que transformará os valores da serie temporal em uma serie de diferenças\n",
    "- Escala. A escala dos dados deve ser reduzida para valores entre -1 e 1 compatível com a função de ativação das unidades LSTM. Utilizaremos o MinMaxScaler do sklearn."
   ]
  },
  {
   "cell_type": "code",
   "execution_count": 102,
   "id": "4c1feac4-ce9b-4842-a207-89fbf5d6b788",
   "metadata": {},
   "outputs": [],
   "source": [
    "# create a differenced series\n",
    "# ---------------------------------------\n",
    "def difference(dataset, interval=1):\n",
    "    import pandas as pd\n",
    "    diff = list()\n",
    "\n",
    "    for i in range(interval,len(dataset)):\n",
    "        values = dataset[i] - dataset[i - interval]\n",
    "        diff.append(values)\n",
    "        \n",
    "    return pd.Series(diff)"
   ]
  },
  {
   "cell_type": "code",
   "execution_count": 103,
   "id": "9177f3a1-84e9-4585-8b71-485a9f37e7d6",
   "metadata": {},
   "outputs": [],
   "source": [
    "# Tranformando series temporais em um problema para LSTM\n",
    "# ---------------------------------------\n",
    "def prepare_data(series, n_test, n_lag, n_seq):\n",
    "\n",
    "    # Extrair dados brutos\n",
    "    raw_values = series.values\n",
    "    raw_values = raw_values.reshape(len(raw_values),1)\n",
    "    \n",
    "    #Transformar para ser estacionario\n",
    "    diff_series = difference(raw_values,1)\n",
    "    diff_values = diff_series.values\n",
    "    diff_values = diff_values.reshape(len(diff_values),1)\n",
    "    \n",
    "    #Reescalar os valores para ficar entre -1 e 1\n",
    "    scaler = MinMaxScaler(feature_range=(-1 , 1))\n",
    "    scaled_values = scaler.fit_transform(diff_values)\n",
    "    scaled_values = scaled_values.reshape(len(scaled_values),1)\n",
    "\n",
    "    #Transformaremum problema de aprendizado supervisionado\n",
    "    supervised = series_to_supervised(scaled_values, n_lag, n_seq)\n",
    "    supervised_values = supervised.values\n",
    "\n",
    "    # Dividindo os conjuntos de treino e teste\n",
    "    train, test = supervised_values[0:size], supervised_values[-n_test:]\n",
    "    \n",
    "    return scaler, train, test\n"
   ]
  },
  {
   "cell_type": "code",
   "execution_count": 105,
   "id": "6504d090-b9ea-4c60-b4e1-25b40dcc03bc",
   "metadata": {},
   "outputs": [],
   "source": [
    "scaler, train, test = prepare_data( df_serietemporal, n_test, n_lag, n_sec)\n",
    "# print(test)\n",
    "# print(train.shape)\n",
    "# print(test.shape)"
   ]
  },
  {
   "cell_type": "markdown",
   "id": "1a036ddb-ff5d-4f1c-83e5-c1a903874c85",
   "metadata": {},
   "source": [
    "#### <span style=\"color:#006400\"> B.3)**Treinando o modelo em LTSM**"
   ]
  },
  {
   "cell_type": "markdown",
   "id": "08137250-2b0c-4e12-9df9-bdae123561d2",
   "metadata": {},
   "source": [
    "Isso requer primeiro que o conjunto de dados de treinamento seja transformado de uma matriz 2D[samples, features] para uma matriz 3D[samples, timesteps, features]. Fixaremos as etapas de tempo em 1, portanto, essa alteração é direta.<br:\n",
    "\n",
    "<b>Rede LSTM:</b>\n",
    "- Hidden Layer LSTM \n",
    "- Output Layer com 7 valores de saída\n",
    "- Função de perda utilizado é o erro quadratico médio (MSE)\n",
    "- Otimizador ADAM.\n",
    "\n",
    "A rede LSTM é guarda o estado, portanto teremos que resetar o estado da rede a cada época, pois queremos expor para a rede toda a sequência, e fazê-la aprender interdependências e não um conjunto restrito de regras.<p>\n",
    "O mesmo batch size deve ser usado para treinamento e teste, e como exigimos que sejam feitas previsões em cada etapa do conjunto de dados de teste, significa o batch size deve ser 1. Um batch size igual a 1 também é chamado de aprendizado on-line, pois os pesos da rede serão atualizados durante o treinamento após cada padrão de treinamento."
   ]
  },
  {
   "cell_type": "code",
   "execution_count": 106,
   "id": "c366b03e-a11c-401f-89a2-bccf85cce7d5",
   "metadata": {},
   "outputs": [],
   "source": [
    "# Transformando em um matriz 3D\n",
    "X_train, Y_train = train[:, 0:n_lag], train[:,n_lag:]\n",
    "X_train = X_train.reshape(X_train.shape[0], 1 , X_train.shape[1])\n",
    "X_test, Y_test = test[:, 0:n_lag], train[:,n_lag:]\n",
    "\n",
    "# Montando a Rede\n",
    "model = Sequential()\n",
    "model.add(LSTM(1, batch_input_shape=(1, X_train.shape[1], X_train.shape[2]),stateful=True))\n",
    "model.add(Dense(Y_train.shape[1]))\n",
    "model.compile(loss='mean_squared_error', optimizer='adam')\n",
    "\n",
    "#Realizando treinamento\n",
    "for i in range(1500):\n",
    "    model.fit(X_train, Y_train, epochs=1, batch_size=1, verbose=0, shuffle=False)\n",
    "    model.reset_states()"
   ]
  },
  {
   "cell_type": "markdown",
   "id": "a610156a-b88a-4b57-b6bb-7c26dc365480",
   "metadata": {},
   "source": [
    "#### <span style=\"color:#006400\"> B.4)**Realização das Predições**"
   ]
  },
  {
   "cell_type": "code",
   "execution_count": 107,
   "id": "6a216e06-6fb1-4ab0-9b6b-b0add9724ccf",
   "metadata": {},
   "outputs": [],
   "source": [
    "# Realizando um predição\n",
    "\n",
    "def forecast_lstm(model, X):\n",
    "    # Transformando X para o formato 3D [samples, timesteps, features]\n",
    "    X = X.reshape(1,1,len(X))\n",
    "    \n",
    "    # Realizando predicao\n",
    "    forecast = model.predict(X, batch_size=1)\n",
    "\n",
    "    #Convertendo para array\n",
    "    return [x for x in forecast[0,:]]\n",
    "\n"
   ]
  },
  {
   "cell_type": "markdown",
   "id": "3694b20c-013c-4f77-94d8-93d7c47c3a16",
   "metadata": {},
   "source": [
    "#### <span style=\"color:#006400\"> B.5)**Avaliação do Modelo**"
   ]
  },
  {
   "cell_type": "markdown",
   "id": "e650d78e-4c0e-4210-90d6-360ee44d1840",
   "metadata": {},
   "source": [
    "Um cenário de previsão contínua será utilizado, também chamado de validação walk-forward\n",
    "<p>\n",
    "Cada etapa do conjunto de dados de teste será percorrida uma de cada vez. Um modelo será usado para fazer uma previsão para o intervalo de tempo; em seguida, o valor real do próximo mês do conjunto de dados de testes será disponibilizado ao modelo para realizar a predição no próximo intervalo de tempo. Imitando um cenário de mundo real, onde os valores reais vão sendo disponibilidos para serem utilizados nas pŕoximas predições.\n",
    "<p>\n",
    "Será utilizado o <b>Root Mean Squared Error (RMSE)</b> para avaliação do modelo\n",
    "\n"
   ]
  },
  {
   "cell_type": "code",
   "execution_count": 108,
   "id": "df167182-bae3-4f91-b5b0-227cdbfa3eb6",
   "metadata": {},
   "outputs": [],
   "source": [
    "\n",
    "# Avaliando o modelo para cada passo do dataset de teste\n",
    "Y_pred = list()\n",
    "for i in range(len(test)):\n",
    "    X_test, Y_test = test[i, 0:n_lag], test[i,n_lag:]\n",
    "\n",
    "    # Realizando predicao\n",
    "    forecast = forecast_lstm(model, X_test)\n",
    "\n",
    "    # Salvando o resultado\n",
    "    Y_pred.append(forecast)                  "
   ]
  },
  {
   "cell_type": "markdown",
   "id": "8027351a-e8fb-4a5d-bf3a-573aff9bcab4",
   "metadata": {},
   "source": [
    "#### <span style=\"color:#006400\"> B.5)**Invertendo transformações para análise dos resultados**"
   ]
  },
  {
   "cell_type": "code",
   "execution_count": 109,
   "id": "9244fff0-eabc-4a21-8953-4ec63c074f52",
   "metadata": {},
   "outputs": [],
   "source": [
    "# invert differenced forecast\n",
    "\n",
    "def inverse_difference(last_ob, forecast):\n",
    "    \n",
    "    # invert first forecast\n",
    "    inverted = list()\n",
    "    inverted.append(forecast[0] + last_ob)\n",
    "\n",
    "    # propagate difference forecast using inverted first values\n",
    "    for i in range(1, len(forecast)):\n",
    "        inverted.append(forecast[i] + inverted[i-1])\n",
    "    return inverted"
   ]
  },
  {
   "cell_type": "code",
   "execution_count": 110,
   "id": "d44f0b27-edca-400b-8992-50d8cf7302c7",
   "metadata": {},
   "outputs": [],
   "source": [
    "# Transformando os valores preditos para a escala real\n",
    "\n",
    "def inverse_transform(series, forecasts, scaler, n_test):\n",
    "    inverted = list()\n",
    "    for i in range(len(forecasts)):\n",
    "        \n",
    "        #Criando um array das predições\n",
    "        forecast = np.array(forecasts[i])\n",
    "        forecast = forecast.reshape(1, len(forecast))\n",
    "\n",
    "        #Invertendo escala\n",
    "        inv_scale = scaler.inverse_transform(forecast)\n",
    "        inv_scale = inv_scale[0, :]\n",
    "    \n",
    "        # Invertendo diferença\n",
    "        index = len(series) - n_test + i -1\n",
    "        last_ob = series.values[index]\n",
    "        inv_diff = inverse_difference(last_ob, inv_scale)\n",
    "\n",
    "        # Guardando valores\n",
    "        inverted.append(inv_diff)\n",
    "    return inverted"
   ]
  },
  {
   "cell_type": "markdown",
   "id": "47b07ced-b81c-490f-af6c-fef593e61eba",
   "metadata": {},
   "source": [
    "#### <span style=\"color:#006400\"> B.6)**A Raiz Quadrada do Valor Médio Quadrático**"
   ]
  },
  {
   "cell_type": "code",
   "execution_count": 111,
   "id": "0eb93ad2-6f93-451d-b2e2-ad6ad626b219",
   "metadata": {},
   "outputs": [
    {
     "name": "stdout",
     "output_type": "stream",
     "text": [
      "t+1 RMSE: 7.186198\n",
      "t+2 RMSE: 7.122909\n",
      "t+3 RMSE: 7.069743\n",
      "t+4 RMSE: 7.012767\n",
      "t+5 RMSE: 6.961066\n",
      "t+6 RMSE: 6.927327\n",
      "t+7 RMSE: 6.885188\n"
     ]
    }
   ],
   "source": [
    "# invertendo as tranormações daspredições\n",
    "Y_pred = inverse_transform(df_serietemporal, Y_pred, scaler,n_test + 2)\n",
    "\n",
    "# Avaliando os resultados\n",
    "for i in range(n_sec):\n",
    "    actual = [row[i] for row in test]\n",
    "    predicted = [forecast[i] for forecast in Y_pred]    \n",
    "    rmse = sqrt(mean_squared_error(actual, predicted))\n",
    "    print('t+%d RMSE: %f' % ((i+1), rmse)) # Erro da Raiz da Média Quadrada\n",
    "    \n",
    "    "
   ]
  },
  {
   "cell_type": "code",
   "execution_count": null,
   "id": "69e16cf4-21dc-407f-a562-81791ccead7c",
   "metadata": {},
   "outputs": [],
   "source": []
  }
 ],
 "metadata": {
  "kernelspec": {
   "display_name": "Python 3",
   "language": "python",
   "name": "python3"
  },
  "language_info": {
   "codemirror_mode": {
    "name": "ipython",
    "version": 3
   },
   "file_extension": ".py",
   "mimetype": "text/x-python",
   "name": "python",
   "nbconvert_exporter": "python",
   "pygments_lexer": "ipython3",
   "version": "3.7.10"
  }
 },
 "nbformat": 4,
 "nbformat_minor": 5
}
