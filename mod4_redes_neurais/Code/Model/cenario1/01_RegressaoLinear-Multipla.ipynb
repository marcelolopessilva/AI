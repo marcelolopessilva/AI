{
 "cells": [
  {
   "cell_type": "code",
   "execution_count": 1,
   "id": "80ff0e0f-bb06-4ca6-9d03-13306362380f",
   "metadata": {},
   "outputs": [
    {
     "name": "stderr",
     "output_type": "stream",
     "text": [
      "d:\\anaconda3\\lib\\site-packages\\numpy\\_distributor_init.py:32: UserWarning: loaded more than 1 DLL from .libs:\n",
      "d:\\anaconda3\\lib\\site-packages\\numpy\\.libs\\libopenblas.NOIJJG62EMASZI6NYURL6JBKM4EVBGM7.gfortran-win_amd64.dll\n",
      "d:\\anaconda3\\lib\\site-packages\\numpy\\.libs\\libopenblas.WCDJNK7YVMPZQ2ME2ZZHJJRJ3JIKNDB7.gfortran-win_amd64.dll\n",
      "  stacklevel=1)\n"
     ]
    }
   ],
   "source": [
    "import pandas as pd\n",
    "import numpy as np\n",
    "\n",
    "import matplotlib.pyplot as plt\n",
    "import seaborn as sns\n",
    "\n",
    "from scipy import stats\n",
    "from statsmodels.formula.api import ols\n",
    "\n",
    "import warnings\n",
    "warnings.filterwarnings(\"ignore\")"
   ]
  },
  {
   "cell_type": "markdown",
   "id": "dd3a7668-b596-471c-9b64-893ca81f749e",
   "metadata": {},
   "source": [
    "### *A) Importar Dados de Chuvas, Pressao, Precipitação e Temperatura*"
   ]
  },
  {
   "cell_type": "code",
   "execution_count": 2,
   "id": "44ec584b-50c8-4abe-bc3c-a577ea79dd71",
   "metadata": {},
   "outputs": [
    {
     "name": "stdout",
     "output_type": "stream",
     "text": [
      "<class 'pandas.core.frame.DataFrame'>\n",
      "Int64Index: 8760 entries, 0 to 8759\n",
      "Data columns (total 8 columns):\n",
      " #   Column         Non-Null Count  Dtype         \n",
      "---  ------         --------------  -----         \n",
      " 0   Longitude      8760 non-null   float64       \n",
      " 1   Latitude       8760 non-null   float64       \n",
      " 2   VentoPrevisto  8760 non-null   float64       \n",
      " 3   Direcao        8760 non-null   float64       \n",
      " 4   Data           8760 non-null   datetime64[ns]\n",
      " 5   Pressao        8760 non-null   float64       \n",
      " 6   Temperatura    8760 non-null   float64       \n",
      " 7   Chuva          8760 non-null   float64       \n",
      "dtypes: datetime64[ns](1), float64(7)\n",
      "memory usage: 615.9 KB\n"
     ]
    }
   ],
   "source": [
    "source_file =  '../../../../PrevisaoVento/Data/process/cenario1/dados_cenario1.csv'\n",
    "df_wind = pd.read_csv(source_file, delimiter=';', index_col=0, parse_dates=['Data'])\n",
    "df_wind.info()"
   ]
  },
  {
   "cell_type": "code",
   "execution_count": 3,
   "id": "17217f2b-d52c-47ed-a987-684640f50921",
   "metadata": {},
   "outputs": [
    {
     "data": {
      "text/plain": [
       "Longitude        0\n",
       "Latitude         0\n",
       "VentoPrevisto    0\n",
       "Direcao          0\n",
       "Data             0\n",
       "Pressao          0\n",
       "Temperatura      0\n",
       "Chuva            0\n",
       "dtype: int64"
      ]
     },
     "execution_count": 3,
     "metadata": {},
     "output_type": "execute_result"
    }
   ],
   "source": [
    "df_wind.isnull().sum() # registros nulos"
   ]
  },
  {
   "cell_type": "markdown",
   "id": "5e2020e1-82ca-4d33-9cac-b5316e8393a6",
   "metadata": {},
   "source": [
    "### <span style=\"color:Blue\"> ***D) Regressão Linear*** "
   ]
  },
  {
   "cell_type": "markdown",
   "id": "592f1819-7f1d-47ce-87d8-151f0b365747",
   "metadata": {},
   "source": [
    "### <span style=\"color:#4169E1\">**D1. Cálculos**"
   ]
  },
  {
   "cell_type": "markdown",
   "id": "260514a7-6078-42fc-a831-38d6ea8a20eb",
   "metadata": {},
   "source": [
    "- slope = Inclinação da linha de regressão.<br>\n",
    "- intercept= Interceptação da linha de regressão.<br>\n",
    "- rvalue = Coeficiente de correlação.<br>\n",
    "- pvalue= Valor p bilateral para um teste de hipótese cuja hipótese nula é que a inclinação é zero, usando o Teste de Wald com distribuição t da estatística de teste<br>\n",
    "- stderr = (Desvio)Erro padrão da inclinação estimada (gradiente), considerando a normalidade residual.<br>\n"
   ]
  },
  {
   "cell_type": "code",
   "execution_count": 4,
   "id": "fe16c682-e82d-45ba-852a-a88a91ef0ff5",
   "metadata": {},
   "outputs": [],
   "source": [
    "x = df_wind['Temperatura'] \n",
    "y = df_wind['VentoPrevisto']\n",
    "a, b, r, p, std_err = stats.linregress(x,y)"
   ]
  },
  {
   "cell_type": "code",
   "execution_count": 5,
   "id": "1dc7a988-40b3-4f20-8e04-dfe77c6db082",
   "metadata": {},
   "outputs": [
    {
     "data": {
      "image/png": "[encoded data removed]",
      "text/plain": [
       "<Figure size 432x288 with 1 Axes>"
      ]
     },
     "metadata": {
      "needs_background": "light"
     },
     "output_type": "display_data"
    }
   ],
   "source": [
    "def estimate_y(x):\n",
    "    return a * x + b\n",
    "\n",
    "df_wind['y_Vento'] = df_wind['Temperatura'].apply(estimate_y)  \n",
    "# A partir da coluna Vento observado, será criado uma nova coluna chamada y_estimado\n",
    "\n",
    "plt.figure()\n",
    "plt.plot(df_wind['Temperatura'], df_wind['y_Vento'])\n",
    "plt.scatter(df_wind['Temperatura'], df_wind['VentoPrevisto'], color='#B0C4DE')\n",
    "plt.show()"
   ]
  },
  {
   "cell_type": "markdown",
   "id": "b27718ca-af26-43b3-9e5b-a8c0fed6491b",
   "metadata": {},
   "source": [
    "<span style=\"color:#4169E1\">**D2. Coeficiente de Determinação**"
   ]
  },
  {
   "cell_type": "code",
   "execution_count": 6,
   "id": "6f7444d1-88eb-4f85-a0a9-768cdfd8f114",
   "metadata": {},
   "outputs": [
    {
     "name": "stdout",
     "output_type": "stream",
     "text": [
      "A correlação é de: 0.26828085349080355 %\n"
     ]
    }
   ],
   "source": [
    "coef_determinacao = r**2\n",
    "\n",
    "print(\"A correlação é de: \" + str(coef_determinacao) + \" %\") # Proximo de 1 é uma boa estimativa"
   ]
  },
  {
   "cell_type": "markdown",
   "id": "c8543754-eaa4-44b0-a2b9-96c0594b3afc",
   "metadata": {},
   "source": [
    "### <span style=\"color:#8B008B\"> ***E) Regressão Linear Multipla*** "
   ]
  },
  {
   "cell_type": "markdown",
   "id": "ed055d12-5c34-4850-9cff-9cda3bf703dd",
   "metadata": {},
   "source": [
    "<b>Formula:</b><br>\n",
    "<i>\n",
    "VentoVerificado = b0 + (b1 x VentoObservado) + (b2 x PressaoAtmosferica) + (b3 x Temperatura) + (b4 x Chuva) + (b5 x DirecaoGraus)\n",
    "</i>\n",
    "<p>\n",
    "<b>Avaliação do P-valor:</b>\n",
    "<br>p-valor = Probabilidade dos valores se referirem à hipotese nula\n",
    "<br>p-valor baixo -> Melhor associação entre o preditor e o valor\n",
    "\n",
    "<p><b>Tabela:</b>\n",
    "<br>p-valor < 0.001 -> Alto nivel de certeza\n",
    "<br>p-valor < 0.05  -> Nível de certeza moderado\n",
    "<br>p-valor < 0.01  -> Nível de certeza fraco\n",
    "<br>p-valor > 0.1  -> Não há nivel de certezaaceitávelno resultado\n",
    "\n",
    "<i>Ou seja,</i> Coluna P>|t|. Quanto mais próximo o valor for de zero(0), mais correlacionado a variavel é.\n",
    "<p>\n",
    "<b>Como Avaliar o Summary:</b><br>\n",
    "    1. <b><i>Teste F de Significancia  Global</b></i> (O modelo é útil para prever ?)<br>\n",
    "Resposta: Verifique se o valor da coluna 'Prob(F-statistic) = valor p do teste F' é < 0,05. \n",
    "<br>Se houver, significa pelo menos 1 variavel no modelo está correlacionada a variavel dependente\n",
    "<p>\n",
    "    2. <b><i>Teste de significancia individua</b></i><br>\n",
    "Resposta: Na tabela, verifique o valor P>|y| das variaveis independente são menores que 0.05.\n",
    "<br>Se houver, há evidencias estatisticas de relação.\n",
    "<p>\n",
    "    3.<b><i> R2 e R2-Ajustado.</b></i><br>\n",
    "Resposta: As variaveis independente explicam qual % de variabilidade da variavel dependente.<br>\n",
    "    Verifique o valor da variavel \"R-squared\" para responder. Já o R2-Ajustado,que é sempre um pouco menor que o R2\n",
    "    deve ser usado quando queremos comparar modelos com diferentes quantidades de variaveis.\n",
    "<p>\n",
    "<b><i>Quais são os coeficientes da equação</b></i><br>\n",
    "Resposta: y = coef.intercept + coef.direcao x {valorDirecao} + coef.Magnitude_Observada x {Magnitude_Observada} + ..."
   ]
  },
  {
   "cell_type": "markdown",
   "id": "a5f20665-9e4a-4079-838d-8466e40a92cf",
   "metadata": {},
   "source": [
    "#### <span style=\"color:#8B008B\"> **R2 = 0.062 ~ Usando (  Direção )**"
   ]
  },
  {
   "cell_type": "code",
   "execution_count": 7,
   "id": "8e864848-664b-4edf-9027-3ebb2f1f3230",
   "metadata": {},
   "outputs": [
    {
     "data": {
      "text/html": [
       "<table class=\"simpletable\">\n",
       "<caption>OLS Regression Results</caption>\n",
       "<tr>\n",
       "  <th>Dep. Variable:</th>      <td>VentoPrevisto</td>  <th>  R-squared:         </th> <td>   0.062</td> \n",
       "</tr>\n",
       "<tr>\n",
       "  <th>Model:</th>                   <td>OLS</td>       <th>  Adj. R-squared:    </th> <td>   0.062</td> \n",
       "</tr>\n",
       "<tr>\n",
       "  <th>Method:</th>             <td>Least Squares</td>  <th>  F-statistic:       </th> <td>   582.8</td> \n",
       "</tr>\n",
       "<tr>\n",
       "  <th>Date:</th>             <td>Sat, 25 Sep 2021</td> <th>  Prob (F-statistic):</th> <td>1.05e-124</td>\n",
       "</tr>\n",
       "<tr>\n",
       "  <th>Time:</th>                 <td>11:00:57</td>     <th>  Log-Likelihood:    </th> <td> -18971.</td> \n",
       "</tr>\n",
       "<tr>\n",
       "  <th>No. Observations:</th>      <td>  8760</td>      <th>  AIC:               </th> <td>3.795e+04</td>\n",
       "</tr>\n",
       "<tr>\n",
       "  <th>Df Residuals:</th>          <td>  8758</td>      <th>  BIC:               </th> <td>3.796e+04</td>\n",
       "</tr>\n",
       "<tr>\n",
       "  <th>Df Model:</th>              <td>     1</td>      <th>                     </th>     <td> </td>    \n",
       "</tr>\n",
       "<tr>\n",
       "  <th>Covariance Type:</th>      <td>nonrobust</td>    <th>                     </th>     <td> </td>    \n",
       "</tr>\n",
       "</table>\n",
       "<table class=\"simpletable\">\n",
       "<tr>\n",
       "      <td></td>         <th>coef</th>     <th>std err</th>      <th>t</th>      <th>P>|t|</th>  <th>[0.025</th>    <th>0.975]</th>  \n",
       "</tr>\n",
       "<tr>\n",
       "  <th>Intercept</th> <td>    7.0395</td> <td>    0.057</td> <td>  123.049</td> <td> 0.000</td> <td>    6.927</td> <td>    7.152</td>\n",
       "</tr>\n",
       "<tr>\n",
       "  <th>Direcao</th>   <td>   -0.0119</td> <td>    0.000</td> <td>  -24.140</td> <td> 0.000</td> <td>   -0.013</td> <td>   -0.011</td>\n",
       "</tr>\n",
       "</table>\n",
       "<table class=\"simpletable\">\n",
       "<tr>\n",
       "  <th>Omnibus:</th>       <td>339.102</td> <th>  Durbin-Watson:     </th> <td>   0.102</td>\n",
       "</tr>\n",
       "<tr>\n",
       "  <th>Prob(Omnibus):</th> <td> 0.000</td>  <th>  Jarque-Bera (JB):  </th> <td> 344.049</td>\n",
       "</tr>\n",
       "<tr>\n",
       "  <th>Skew:</th>          <td>-0.453</td>  <th>  Prob(JB):          </th> <td>1.95e-75</td>\n",
       "</tr>\n",
       "<tr>\n",
       "  <th>Kurtosis:</th>      <td> 2.651</td>  <th>  Cond. No.          </th> <td>    294.</td>\n",
       "</tr>\n",
       "</table><br/><br/>Notes:<br/>[1] Standard Errors assume that the covariance matrix of the errors is correctly specified."
      ],
      "text/plain": [
       "<class 'statsmodels.iolib.summary.Summary'>\n",
       "\"\"\"\n",
       "                            OLS Regression Results                            \n",
       "==============================================================================\n",
       "Dep. Variable:          VentoPrevisto   R-squared:                       0.062\n",
       "Model:                            OLS   Adj. R-squared:                  0.062\n",
       "Method:                 Least Squares   F-statistic:                     582.8\n",
       "Date:                Sat, 25 Sep 2021   Prob (F-statistic):          1.05e-124\n",
       "Time:                        11:00:57   Log-Likelihood:                -18971.\n",
       "No. Observations:                8760   AIC:                         3.795e+04\n",
       "Df Residuals:                    8758   BIC:                         3.796e+04\n",
       "Df Model:                           1                                         \n",
       "Covariance Type:            nonrobust                                         \n",
       "==============================================================================\n",
       "                 coef    std err          t      P>|t|      [0.025      0.975]\n",
       "------------------------------------------------------------------------------\n",
       "Intercept      7.0395      0.057    123.049      0.000       6.927       7.152\n",
       "Direcao       -0.0119      0.000    -24.140      0.000      -0.013      -0.011\n",
       "==============================================================================\n",
       "Omnibus:                      339.102   Durbin-Watson:                   0.102\n",
       "Prob(Omnibus):                  0.000   Jarque-Bera (JB):              344.049\n",
       "Skew:                          -0.453   Prob(JB):                     1.95e-75\n",
       "Kurtosis:                       2.651   Cond. No.                         294.\n",
       "==============================================================================\n",
       "\n",
       "Notes:\n",
       "[1] Standard Errors assume that the covariance matrix of the errors is correctly specified.\n",
       "\"\"\""
      ]
     },
     "execution_count": 7,
     "metadata": {},
     "output_type": "execute_result"
    }
   ],
   "source": [
    "# Método: Ordinary Least Square\n",
    "# Estimador escolhido: R2\n",
    "#\n",
    "model = ols('VentoPrevisto ~  Direcao' , data = df_wind) \n",
    "response = model.fit()\n",
    "response.summary()"
   ]
  },
  {
   "cell_type": "markdown",
   "id": "30bdff79-a221-48e4-8ba1-ea4cb14fa36c",
   "metadata": {},
   "source": [
    "#### <span style=\"color:#8B008B\"> **R2 = 0.309 ~  Usando ( Direção + Temperatura )**"
   ]
  },
  {
   "cell_type": "code",
   "execution_count": 8,
   "id": "dfaf1712-e3c2-4fd1-b3fe-09c55847a955",
   "metadata": {},
   "outputs": [
    {
     "data": {
      "text/html": [
       "<table class=\"simpletable\">\n",
       "<caption>OLS Regression Results</caption>\n",
       "<tr>\n",
       "  <th>Dep. Variable:</th>      <td>VentoPrevisto</td>  <th>  R-squared:         </th> <td>   0.309</td> \n",
       "</tr>\n",
       "<tr>\n",
       "  <th>Model:</th>                   <td>OLS</td>       <th>  Adj. R-squared:    </th> <td>   0.309</td> \n",
       "</tr>\n",
       "<tr>\n",
       "  <th>Method:</th>             <td>Least Squares</td>  <th>  F-statistic:       </th> <td>   1955.</td> \n",
       "</tr>\n",
       "<tr>\n",
       "  <th>Date:</th>             <td>Sat, 25 Sep 2021</td> <th>  Prob (F-statistic):</th>  <td>  0.00</td>  \n",
       "</tr>\n",
       "<tr>\n",
       "  <th>Time:</th>                 <td>11:01:00</td>     <th>  Log-Likelihood:    </th> <td> -17636.</td> \n",
       "</tr>\n",
       "<tr>\n",
       "  <th>No. Observations:</th>      <td>  8760</td>      <th>  AIC:               </th> <td>3.528e+04</td>\n",
       "</tr>\n",
       "<tr>\n",
       "  <th>Df Residuals:</th>          <td>  8757</td>      <th>  BIC:               </th> <td>3.530e+04</td>\n",
       "</tr>\n",
       "<tr>\n",
       "  <th>Df Model:</th>              <td>     2</td>      <th>                     </th>     <td> </td>    \n",
       "</tr>\n",
       "<tr>\n",
       "  <th>Covariance Type:</th>      <td>nonrobust</td>    <th>                     </th>     <td> </td>    \n",
       "</tr>\n",
       "</table>\n",
       "<table class=\"simpletable\">\n",
       "<tr>\n",
       "       <td></td>          <th>coef</th>     <th>std err</th>      <th>t</th>      <th>P>|t|</th>  <th>[0.025</th>    <th>0.975]</th>  \n",
       "</tr>\n",
       "<tr>\n",
       "  <th>Intercept</th>   <td>   12.8703</td> <td>    0.115</td> <td>  111.552</td> <td> 0.000</td> <td>   12.644</td> <td>   13.096</td>\n",
       "</tr>\n",
       "<tr>\n",
       "  <th>Temperatura</th> <td>   -0.2439</td> <td>    0.004</td> <td>  -55.854</td> <td> 0.000</td> <td>   -0.252</td> <td>   -0.235</td>\n",
       "</tr>\n",
       "<tr>\n",
       "  <th>Direcao</th>     <td>   -0.0096</td> <td>    0.000</td> <td>  -22.620</td> <td> 0.000</td> <td>   -0.010</td> <td>   -0.009</td>\n",
       "</tr>\n",
       "</table>\n",
       "<table class=\"simpletable\">\n",
       "<tr>\n",
       "  <th>Omnibus:</th>       <td>466.759</td> <th>  Durbin-Watson:     </th> <td>   0.147</td> \n",
       "</tr>\n",
       "<tr>\n",
       "  <th>Prob(Omnibus):</th> <td> 0.000</td>  <th>  Jarque-Bera (JB):  </th> <td> 546.908</td> \n",
       "</tr>\n",
       "<tr>\n",
       "  <th>Skew:</th>          <td>-0.582</td>  <th>  Prob(JB):          </th> <td>1.74e-119</td>\n",
       "</tr>\n",
       "<tr>\n",
       "  <th>Kurtosis:</th>      <td> 3.380</td>  <th>  Cond. No.          </th> <td>    704.</td> \n",
       "</tr>\n",
       "</table><br/><br/>Notes:<br/>[1] Standard Errors assume that the covariance matrix of the errors is correctly specified."
      ],
      "text/plain": [
       "<class 'statsmodels.iolib.summary.Summary'>\n",
       "\"\"\"\n",
       "                            OLS Regression Results                            \n",
       "==============================================================================\n",
       "Dep. Variable:          VentoPrevisto   R-squared:                       0.309\n",
       "Model:                            OLS   Adj. R-squared:                  0.309\n",
       "Method:                 Least Squares   F-statistic:                     1955.\n",
       "Date:                Sat, 25 Sep 2021   Prob (F-statistic):               0.00\n",
       "Time:                        11:01:00   Log-Likelihood:                -17636.\n",
       "No. Observations:                8760   AIC:                         3.528e+04\n",
       "Df Residuals:                    8757   BIC:                         3.530e+04\n",
       "Df Model:                           2                                         \n",
       "Covariance Type:            nonrobust                                         \n",
       "===============================================================================\n",
       "                  coef    std err          t      P>|t|      [0.025      0.975]\n",
       "-------------------------------------------------------------------------------\n",
       "Intercept      12.8703      0.115    111.552      0.000      12.644      13.096\n",
       "Temperatura    -0.2439      0.004    -55.854      0.000      -0.252      -0.235\n",
       "Direcao        -0.0096      0.000    -22.620      0.000      -0.010      -0.009\n",
       "==============================================================================\n",
       "Omnibus:                      466.759   Durbin-Watson:                   0.147\n",
       "Prob(Omnibus):                  0.000   Jarque-Bera (JB):              546.908\n",
       "Skew:                          -0.582   Prob(JB):                    1.74e-119\n",
       "Kurtosis:                       3.380   Cond. No.                         704.\n",
       "==============================================================================\n",
       "\n",
       "Notes:\n",
       "[1] Standard Errors assume that the covariance matrix of the errors is correctly specified.\n",
       "\"\"\""
      ]
     },
     "execution_count": 8,
     "metadata": {},
     "output_type": "execute_result"
    }
   ],
   "source": [
    "model = ols('VentoPrevisto ~ Temperatura + Direcao ' , data = df_wind) \n",
    "response = model.fit()\n",
    "response.summary()"
   ]
  },
  {
   "cell_type": "markdown",
   "id": "e6d95f6f-e862-4378-a0f5-b9b446880e8d",
   "metadata": {},
   "source": [
    "#### <span style=\"color:#8B008B\"> **R2 = 0.353 ~  Usando (Direção + Pressão )**"
   ]
  },
  {
   "cell_type": "code",
   "execution_count": 9,
   "id": "3acdc387-d149-47f5-892e-b0e2c6e4b54f",
   "metadata": {},
   "outputs": [
    {
     "data": {
      "text/html": [
       "<table class=\"simpletable\">\n",
       "<caption>OLS Regression Results</caption>\n",
       "<tr>\n",
       "  <th>Dep. Variable:</th>      <td>VentoPrevisto</td>  <th>  R-squared:         </th> <td>   0.353</td> \n",
       "</tr>\n",
       "<tr>\n",
       "  <th>Model:</th>                   <td>OLS</td>       <th>  Adj. R-squared:    </th> <td>   0.353</td> \n",
       "</tr>\n",
       "<tr>\n",
       "  <th>Method:</th>             <td>Least Squares</td>  <th>  F-statistic:       </th> <td>   2394.</td> \n",
       "</tr>\n",
       "<tr>\n",
       "  <th>Date:</th>             <td>Sat, 25 Sep 2021</td> <th>  Prob (F-statistic):</th>  <td>  0.00</td>  \n",
       "</tr>\n",
       "<tr>\n",
       "  <th>Time:</th>                 <td>11:01:03</td>     <th>  Log-Likelihood:    </th> <td> -17343.</td> \n",
       "</tr>\n",
       "<tr>\n",
       "  <th>No. Observations:</th>      <td>  8760</td>      <th>  AIC:               </th> <td>3.469e+04</td>\n",
       "</tr>\n",
       "<tr>\n",
       "  <th>Df Residuals:</th>          <td>  8757</td>      <th>  BIC:               </th> <td>3.471e+04</td>\n",
       "</tr>\n",
       "<tr>\n",
       "  <th>Df Model:</th>              <td>     2</td>      <th>                     </th>     <td> </td>    \n",
       "</tr>\n",
       "<tr>\n",
       "  <th>Covariance Type:</th>      <td>nonrobust</td>    <th>                     </th>     <td> </td>    \n",
       "</tr>\n",
       "</table>\n",
       "<table class=\"simpletable\">\n",
       "<tr>\n",
       "      <td></td>         <th>coef</th>     <th>std err</th>      <th>t</th>      <th>P>|t|</th>  <th>[0.025</th>    <th>0.975]</th>  \n",
       "</tr>\n",
       "<tr>\n",
       "  <th>Intercept</th> <td> -315.7816</td> <td>    5.141</td> <td>  -61.418</td> <td> 0.000</td> <td> -325.860</td> <td> -305.703</td>\n",
       "</tr>\n",
       "<tr>\n",
       "  <th>Direcao</th>   <td>   -0.0078</td> <td>    0.000</td> <td>  -18.767</td> <td> 0.000</td> <td>   -0.009</td> <td>   -0.007</td>\n",
       "</tr>\n",
       "<tr>\n",
       "  <th>Pressao</th>   <td>    0.3176</td> <td>    0.005</td> <td>   62.790</td> <td> 0.000</td> <td>    0.308</td> <td>    0.328</td>\n",
       "</tr>\n",
       "</table>\n",
       "<table class=\"simpletable\">\n",
       "<tr>\n",
       "  <th>Omnibus:</th>       <td>54.607</td> <th>  Durbin-Watson:     </th> <td>   0.122</td>\n",
       "</tr>\n",
       "<tr>\n",
       "  <th>Prob(Omnibus):</th> <td> 0.000</td> <th>  Jarque-Bera (JB):  </th> <td>  55.470</td>\n",
       "</tr>\n",
       "<tr>\n",
       "  <th>Skew:</th>          <td>-0.193</td> <th>  Prob(JB):          </th> <td>9.01e-13</td>\n",
       "</tr>\n",
       "<tr>\n",
       "  <th>Kurtosis:</th>      <td> 3.047</td> <th>  Cond. No.          </th> <td>2.80e+05</td>\n",
       "</tr>\n",
       "</table><br/><br/>Notes:<br/>[1] Standard Errors assume that the covariance matrix of the errors is correctly specified.<br/>[2] The condition number is large, 2.8e+05. This might indicate that there are<br/>strong multicollinearity or other numerical problems."
      ],
      "text/plain": [
       "<class 'statsmodels.iolib.summary.Summary'>\n",
       "\"\"\"\n",
       "                            OLS Regression Results                            \n",
       "==============================================================================\n",
       "Dep. Variable:          VentoPrevisto   R-squared:                       0.353\n",
       "Model:                            OLS   Adj. R-squared:                  0.353\n",
       "Method:                 Least Squares   F-statistic:                     2394.\n",
       "Date:                Sat, 25 Sep 2021   Prob (F-statistic):               0.00\n",
       "Time:                        11:01:03   Log-Likelihood:                -17343.\n",
       "No. Observations:                8760   AIC:                         3.469e+04\n",
       "Df Residuals:                    8757   BIC:                         3.471e+04\n",
       "Df Model:                           2                                         \n",
       "Covariance Type:            nonrobust                                         \n",
       "==============================================================================\n",
       "                 coef    std err          t      P>|t|      [0.025      0.975]\n",
       "------------------------------------------------------------------------------\n",
       "Intercept   -315.7816      5.141    -61.418      0.000    -325.860    -305.703\n",
       "Direcao       -0.0078      0.000    -18.767      0.000      -0.009      -0.007\n",
       "Pressao        0.3176      0.005     62.790      0.000       0.308       0.328\n",
       "==============================================================================\n",
       "Omnibus:                       54.607   Durbin-Watson:                   0.122\n",
       "Prob(Omnibus):                  0.000   Jarque-Bera (JB):               55.470\n",
       "Skew:                          -0.193   Prob(JB):                     9.01e-13\n",
       "Kurtosis:                       3.047   Cond. No.                     2.80e+05\n",
       "==============================================================================\n",
       "\n",
       "Notes:\n",
       "[1] Standard Errors assume that the covariance matrix of the errors is correctly specified.\n",
       "[2] The condition number is large, 2.8e+05. This might indicate that there are\n",
       "strong multicollinearity or other numerical problems.\n",
       "\"\"\""
      ]
     },
     "execution_count": 9,
     "metadata": {},
     "output_type": "execute_result"
    }
   ],
   "source": [
    "model = ols('VentoPrevisto ~  Direcao + Pressao ' , data = df_wind) \n",
    "response = model.fit()\n",
    "response.summary()"
   ]
  },
  {
   "cell_type": "markdown",
   "id": "daafc618-b66e-4fbb-87cb-fb9cdf88405d",
   "metadata": {},
   "source": [
    "#### <span style=\"color:#8B008B\"> **R2 = 0.076 ~  Usando (Direção + Chuva )**"
   ]
  },
  {
   "cell_type": "code",
   "execution_count": 10,
   "id": "4380c216-955a-4a6e-aa61-7b060379fa1c",
   "metadata": {},
   "outputs": [
    {
     "data": {
      "text/html": [
       "<table class=\"simpletable\">\n",
       "<caption>OLS Regression Results</caption>\n",
       "<tr>\n",
       "  <th>Dep. Variable:</th>      <td>VentoPrevisto</td>  <th>  R-squared:         </th> <td>   0.076</td> \n",
       "</tr>\n",
       "<tr>\n",
       "  <th>Model:</th>                   <td>OLS</td>       <th>  Adj. R-squared:    </th> <td>   0.076</td> \n",
       "</tr>\n",
       "<tr>\n",
       "  <th>Method:</th>             <td>Least Squares</td>  <th>  F-statistic:       </th> <td>   362.0</td> \n",
       "</tr>\n",
       "<tr>\n",
       "  <th>Date:</th>             <td>Sat, 25 Sep 2021</td> <th>  Prob (F-statistic):</th> <td>8.48e-152</td>\n",
       "</tr>\n",
       "<tr>\n",
       "  <th>Time:</th>                 <td>11:01:06</td>     <th>  Log-Likelihood:    </th> <td> -18905.</td> \n",
       "</tr>\n",
       "<tr>\n",
       "  <th>No. Observations:</th>      <td>  8760</td>      <th>  AIC:               </th> <td>3.782e+04</td>\n",
       "</tr>\n",
       "<tr>\n",
       "  <th>Df Residuals:</th>          <td>  8757</td>      <th>  BIC:               </th> <td>3.784e+04</td>\n",
       "</tr>\n",
       "<tr>\n",
       "  <th>Df Model:</th>              <td>     2</td>      <th>                     </th>     <td> </td>    \n",
       "</tr>\n",
       "<tr>\n",
       "  <th>Covariance Type:</th>      <td>nonrobust</td>    <th>                     </th>     <td> </td>    \n",
       "</tr>\n",
       "</table>\n",
       "<table class=\"simpletable\">\n",
       "<tr>\n",
       "      <td></td>         <th>coef</th>     <th>std err</th>      <th>t</th>      <th>P>|t|</th>  <th>[0.025</th>    <th>0.975]</th>  \n",
       "</tr>\n",
       "<tr>\n",
       "  <th>Intercept</th> <td>    7.0006</td> <td>    0.057</td> <td>  123.064</td> <td> 0.000</td> <td>    6.889</td> <td>    7.112</td>\n",
       "</tr>\n",
       "<tr>\n",
       "  <th>Chuva</th>     <td>   -0.9513</td> <td>    0.083</td> <td>  -11.514</td> <td> 0.000</td> <td>   -1.113</td> <td>   -0.789</td>\n",
       "</tr>\n",
       "<tr>\n",
       "  <th>Direcao</th>   <td>   -0.0112</td> <td>    0.000</td> <td>  -22.601</td> <td> 0.000</td> <td>   -0.012</td> <td>   -0.010</td>\n",
       "</tr>\n",
       "</table>\n",
       "<table class=\"simpletable\">\n",
       "<tr>\n",
       "  <th>Omnibus:</th>       <td>288.541</td> <th>  Durbin-Watson:     </th> <td>   0.110</td>\n",
       "</tr>\n",
       "<tr>\n",
       "  <th>Prob(Omnibus):</th> <td> 0.000</td>  <th>  Jarque-Bera (JB):  </th> <td> 285.293</td>\n",
       "</tr>\n",
       "<tr>\n",
       "  <th>Skew:</th>          <td>-0.407</td>  <th>  Prob(JB):          </th> <td>1.12e-62</td>\n",
       "</tr>\n",
       "<tr>\n",
       "  <th>Kurtosis:</th>      <td> 2.654</td>  <th>  Cond. No.          </th> <td>    428.</td>\n",
       "</tr>\n",
       "</table><br/><br/>Notes:<br/>[1] Standard Errors assume that the covariance matrix of the errors is correctly specified."
      ],
      "text/plain": [
       "<class 'statsmodels.iolib.summary.Summary'>\n",
       "\"\"\"\n",
       "                            OLS Regression Results                            \n",
       "==============================================================================\n",
       "Dep. Variable:          VentoPrevisto   R-squared:                       0.076\n",
       "Model:                            OLS   Adj. R-squared:                  0.076\n",
       "Method:                 Least Squares   F-statistic:                     362.0\n",
       "Date:                Sat, 25 Sep 2021   Prob (F-statistic):          8.48e-152\n",
       "Time:                        11:01:06   Log-Likelihood:                -18905.\n",
       "No. Observations:                8760   AIC:                         3.782e+04\n",
       "Df Residuals:                    8757   BIC:                         3.784e+04\n",
       "Df Model:                           2                                         \n",
       "Covariance Type:            nonrobust                                         \n",
       "==============================================================================\n",
       "                 coef    std err          t      P>|t|      [0.025      0.975]\n",
       "------------------------------------------------------------------------------\n",
       "Intercept      7.0006      0.057    123.064      0.000       6.889       7.112\n",
       "Chuva         -0.9513      0.083    -11.514      0.000      -1.113      -0.789\n",
       "Direcao       -0.0112      0.000    -22.601      0.000      -0.012      -0.010\n",
       "==============================================================================\n",
       "Omnibus:                      288.541   Durbin-Watson:                   0.110\n",
       "Prob(Omnibus):                  0.000   Jarque-Bera (JB):              285.293\n",
       "Skew:                          -0.407   Prob(JB):                     1.12e-62\n",
       "Kurtosis:                       2.654   Cond. No.                         428.\n",
       "==============================================================================\n",
       "\n",
       "Notes:\n",
       "[1] Standard Errors assume that the covariance matrix of the errors is correctly specified.\n",
       "\"\"\""
      ]
     },
     "execution_count": 10,
     "metadata": {},
     "output_type": "execute_result"
    }
   ],
   "source": [
    "model = ols('VentoPrevisto ~ Chuva + Direcao ' , data = df_wind) \n",
    "response = model.fit()\n",
    "response.summary()"
   ]
  },
  {
   "cell_type": "markdown",
   "id": "ded5d43b-0445-47d4-b97e-9f3f9f1641d7",
   "metadata": {},
   "source": [
    "#### <span style=\"color:#8B008B\"> **R2 = 0.407 ~  Usando (Direção + Temperatura + Pressão )**"
   ]
  },
  {
   "cell_type": "code",
   "execution_count": 11,
   "id": "3b29f6cf-cb6d-487e-8269-d32f3d31af61",
   "metadata": {},
   "outputs": [
    {
     "data": {
      "text/html": [
       "<table class=\"simpletable\">\n",
       "<caption>OLS Regression Results</caption>\n",
       "<tr>\n",
       "  <th>Dep. Variable:</th>      <td>VentoPrevisto</td>  <th>  R-squared:         </th> <td>   0.407</td> \n",
       "</tr>\n",
       "<tr>\n",
       "  <th>Model:</th>                   <td>OLS</td>       <th>  Adj. R-squared:    </th> <td>   0.407</td> \n",
       "</tr>\n",
       "<tr>\n",
       "  <th>Method:</th>             <td>Least Squares</td>  <th>  F-statistic:       </th> <td>   2007.</td> \n",
       "</tr>\n",
       "<tr>\n",
       "  <th>Date:</th>             <td>Sat, 25 Sep 2021</td> <th>  Prob (F-statistic):</th>  <td>  0.00</td>  \n",
       "</tr>\n",
       "<tr>\n",
       "  <th>Time:</th>                 <td>11:01:09</td>     <th>  Log-Likelihood:    </th> <td> -16961.</td> \n",
       "</tr>\n",
       "<tr>\n",
       "  <th>No. Observations:</th>      <td>  8760</td>      <th>  AIC:               </th> <td>3.393e+04</td>\n",
       "</tr>\n",
       "<tr>\n",
       "  <th>Df Residuals:</th>          <td>  8756</td>      <th>  BIC:               </th> <td>3.396e+04</td>\n",
       "</tr>\n",
       "<tr>\n",
       "  <th>Df Model:</th>              <td>     3</td>      <th>                     </th>     <td> </td>    \n",
       "</tr>\n",
       "<tr>\n",
       "  <th>Covariance Type:</th>      <td>nonrobust</td>    <th>                     </th>     <td> </td>    \n",
       "</tr>\n",
       "</table>\n",
       "<table class=\"simpletable\">\n",
       "<tr>\n",
       "       <td></td>          <th>coef</th>     <th>std err</th>      <th>t</th>      <th>P>|t|</th>  <th>[0.025</th>    <th>0.975]</th>  \n",
       "</tr>\n",
       "<tr>\n",
       "  <th>Intercept</th>   <td> -217.4477</td> <td>    6.029</td> <td>  -36.066</td> <td> 0.000</td> <td> -229.266</td> <td> -205.629</td>\n",
       "</tr>\n",
       "<tr>\n",
       "  <th>Temperatura</th> <td>   -0.1383</td> <td>    0.005</td> <td>  -28.245</td> <td> 0.000</td> <td>   -0.148</td> <td>   -0.129</td>\n",
       "</tr>\n",
       "<tr>\n",
       "  <th>Direcao</th>     <td>   -0.0077</td> <td>    0.000</td> <td>  -19.399</td> <td> 0.000</td> <td>   -0.009</td> <td>   -0.007</td>\n",
       "</tr>\n",
       "<tr>\n",
       "  <th>Pressao</th>     <td>    0.2241</td> <td>    0.006</td> <td>   38.207</td> <td> 0.000</td> <td>    0.213</td> <td>    0.236</td>\n",
       "</tr>\n",
       "</table>\n",
       "<table class=\"simpletable\">\n",
       "<tr>\n",
       "  <th>Omnibus:</th>       <td>168.592</td> <th>  Durbin-Watson:     </th> <td>   0.134</td>\n",
       "</tr>\n",
       "<tr>\n",
       "  <th>Prob(Omnibus):</th> <td> 0.000</td>  <th>  Jarque-Bera (JB):  </th> <td> 178.981</td>\n",
       "</tr>\n",
       "<tr>\n",
       "  <th>Skew:</th>          <td>-0.336</td>  <th>  Prob(JB):          </th> <td>1.36e-39</td>\n",
       "</tr>\n",
       "<tr>\n",
       "  <th>Kurtosis:</th>      <td> 3.199</td>  <th>  Cond. No.          </th> <td>3.43e+05</td>\n",
       "</tr>\n",
       "</table><br/><br/>Notes:<br/>[1] Standard Errors assume that the covariance matrix of the errors is correctly specified.<br/>[2] The condition number is large, 3.43e+05. This might indicate that there are<br/>strong multicollinearity or other numerical problems."
      ],
      "text/plain": [
       "<class 'statsmodels.iolib.summary.Summary'>\n",
       "\"\"\"\n",
       "                            OLS Regression Results                            \n",
       "==============================================================================\n",
       "Dep. Variable:          VentoPrevisto   R-squared:                       0.407\n",
       "Model:                            OLS   Adj. R-squared:                  0.407\n",
       "Method:                 Least Squares   F-statistic:                     2007.\n",
       "Date:                Sat, 25 Sep 2021   Prob (F-statistic):               0.00\n",
       "Time:                        11:01:09   Log-Likelihood:                -16961.\n",
       "No. Observations:                8760   AIC:                         3.393e+04\n",
       "Df Residuals:                    8756   BIC:                         3.396e+04\n",
       "Df Model:                           3                                         \n",
       "Covariance Type:            nonrobust                                         \n",
       "===============================================================================\n",
       "                  coef    std err          t      P>|t|      [0.025      0.975]\n",
       "-------------------------------------------------------------------------------\n",
       "Intercept    -217.4477      6.029    -36.066      0.000    -229.266    -205.629\n",
       "Temperatura    -0.1383      0.005    -28.245      0.000      -0.148      -0.129\n",
       "Direcao        -0.0077      0.000    -19.399      0.000      -0.009      -0.007\n",
       "Pressao         0.2241      0.006     38.207      0.000       0.213       0.236\n",
       "==============================================================================\n",
       "Omnibus:                      168.592   Durbin-Watson:                   0.134\n",
       "Prob(Omnibus):                  0.000   Jarque-Bera (JB):              178.981\n",
       "Skew:                          -0.336   Prob(JB):                     1.36e-39\n",
       "Kurtosis:                       3.199   Cond. No.                     3.43e+05\n",
       "==============================================================================\n",
       "\n",
       "Notes:\n",
       "[1] Standard Errors assume that the covariance matrix of the errors is correctly specified.\n",
       "[2] The condition number is large, 3.43e+05. This might indicate that there are\n",
       "strong multicollinearity or other numerical problems.\n",
       "\"\"\""
      ]
     },
     "execution_count": 11,
     "metadata": {},
     "output_type": "execute_result"
    }
   ],
   "source": [
    "model = ols('VentoPrevisto ~ Temperatura + Direcao + Pressao ' , data = df_wind) \n",
    "response = model.fit()\n",
    "response.summary()"
   ]
  },
  {
   "cell_type": "markdown",
   "id": "c4f7a0db-f49b-4e8b-b133-7ae966cb922b",
   "metadata": {},
   "source": [
    "#### <span style=\"color:#8B008B\"> **R2 = 0.415 ~  Usando (Direção + Temperatura + Pressão + Chuva )**"
   ]
  },
  {
   "cell_type": "code",
   "execution_count": 12,
   "id": "97f8905f-bf0e-4ef6-90b8-ec85e8b5144e",
   "metadata": {},
   "outputs": [
    {
     "data": {
      "text/html": [
       "<table class=\"simpletable\">\n",
       "<caption>OLS Regression Results</caption>\n",
       "<tr>\n",
       "  <th>Dep. Variable:</th>      <td>VentoPrevisto</td>  <th>  R-squared:         </th> <td>   0.415</td> \n",
       "</tr>\n",
       "<tr>\n",
       "  <th>Model:</th>                   <td>OLS</td>       <th>  Adj. R-squared:    </th> <td>   0.415</td> \n",
       "</tr>\n",
       "<tr>\n",
       "  <th>Method:</th>             <td>Least Squares</td>  <th>  F-statistic:       </th> <td>   1553.</td> \n",
       "</tr>\n",
       "<tr>\n",
       "  <th>Date:</th>             <td>Sat, 25 Sep 2021</td> <th>  Prob (F-statistic):</th>  <td>  0.00</td>  \n",
       "</tr>\n",
       "<tr>\n",
       "  <th>Time:</th>                 <td>11:01:12</td>     <th>  Log-Likelihood:    </th> <td> -16905.</td> \n",
       "</tr>\n",
       "<tr>\n",
       "  <th>No. Observations:</th>      <td>  8760</td>      <th>  AIC:               </th> <td>3.382e+04</td>\n",
       "</tr>\n",
       "<tr>\n",
       "  <th>Df Residuals:</th>          <td>  8755</td>      <th>  BIC:               </th> <td>3.385e+04</td>\n",
       "</tr>\n",
       "<tr>\n",
       "  <th>Df Model:</th>              <td>     4</td>      <th>                     </th>     <td> </td>    \n",
       "</tr>\n",
       "<tr>\n",
       "  <th>Covariance Type:</th>      <td>nonrobust</td>    <th>                     </th>     <td> </td>    \n",
       "</tr>\n",
       "</table>\n",
       "<table class=\"simpletable\">\n",
       "<tr>\n",
       "       <td></td>          <th>coef</th>     <th>std err</th>      <th>t</th>      <th>P>|t|</th>  <th>[0.025</th>    <th>0.975]</th>  \n",
       "</tr>\n",
       "<tr>\n",
       "  <th>Intercept</th>   <td> -206.4049</td> <td>    6.080</td> <td>  -33.948</td> <td> 0.000</td> <td> -218.323</td> <td> -194.486</td>\n",
       "</tr>\n",
       "<tr>\n",
       "  <th>Temperatura</th> <td>   -0.1452</td> <td>    0.005</td> <td>  -29.580</td> <td> 0.000</td> <td>   -0.155</td> <td>   -0.136</td>\n",
       "</tr>\n",
       "<tr>\n",
       "  <th>Direcao</th>     <td>   -0.0072</td> <td>    0.000</td> <td>  -18.181</td> <td> 0.000</td> <td>   -0.008</td> <td>   -0.006</td>\n",
       "</tr>\n",
       "<tr>\n",
       "  <th>Pressao</th>     <td>    0.2134</td> <td>    0.006</td> <td>   36.074</td> <td> 0.000</td> <td>    0.202</td> <td>    0.225</td>\n",
       "</tr>\n",
       "<tr>\n",
       "  <th>Chuva</th>       <td>   -0.7107</td> <td>    0.067</td> <td>  -10.640</td> <td> 0.000</td> <td>   -0.842</td> <td>   -0.580</td>\n",
       "</tr>\n",
       "</table>\n",
       "<table class=\"simpletable\">\n",
       "<tr>\n",
       "  <th>Omnibus:</th>       <td>130.556</td> <th>  Durbin-Watson:     </th> <td>   0.144</td>\n",
       "</tr>\n",
       "<tr>\n",
       "  <th>Prob(Omnibus):</th> <td> 0.000</td>  <th>  Jarque-Bera (JB):  </th> <td> 137.757</td>\n",
       "</tr>\n",
       "<tr>\n",
       "  <th>Skew:</th>          <td>-0.288</td>  <th>  Prob(JB):          </th> <td>1.22e-30</td>\n",
       "</tr>\n",
       "<tr>\n",
       "  <th>Kurtosis:</th>      <td> 3.214</td>  <th>  Cond. No.          </th> <td>3.48e+05</td>\n",
       "</tr>\n",
       "</table><br/><br/>Notes:<br/>[1] Standard Errors assume that the covariance matrix of the errors is correctly specified.<br/>[2] The condition number is large, 3.48e+05. This might indicate that there are<br/>strong multicollinearity or other numerical problems."
      ],
      "text/plain": [
       "<class 'statsmodels.iolib.summary.Summary'>\n",
       "\"\"\"\n",
       "                            OLS Regression Results                            \n",
       "==============================================================================\n",
       "Dep. Variable:          VentoPrevisto   R-squared:                       0.415\n",
       "Model:                            OLS   Adj. R-squared:                  0.415\n",
       "Method:                 Least Squares   F-statistic:                     1553.\n",
       "Date:                Sat, 25 Sep 2021   Prob (F-statistic):               0.00\n",
       "Time:                        11:01:12   Log-Likelihood:                -16905.\n",
       "No. Observations:                8760   AIC:                         3.382e+04\n",
       "Df Residuals:                    8755   BIC:                         3.385e+04\n",
       "Df Model:                           4                                         \n",
       "Covariance Type:            nonrobust                                         \n",
       "===============================================================================\n",
       "                  coef    std err          t      P>|t|      [0.025      0.975]\n",
       "-------------------------------------------------------------------------------\n",
       "Intercept    -206.4049      6.080    -33.948      0.000    -218.323    -194.486\n",
       "Temperatura    -0.1452      0.005    -29.580      0.000      -0.155      -0.136\n",
       "Direcao        -0.0072      0.000    -18.181      0.000      -0.008      -0.006\n",
       "Pressao         0.2134      0.006     36.074      0.000       0.202       0.225\n",
       "Chuva          -0.7107      0.067    -10.640      0.000      -0.842      -0.580\n",
       "==============================================================================\n",
       "Omnibus:                      130.556   Durbin-Watson:                   0.144\n",
       "Prob(Omnibus):                  0.000   Jarque-Bera (JB):              137.757\n",
       "Skew:                          -0.288   Prob(JB):                     1.22e-30\n",
       "Kurtosis:                       3.214   Cond. No.                     3.48e+05\n",
       "==============================================================================\n",
       "\n",
       "Notes:\n",
       "[1] Standard Errors assume that the covariance matrix of the errors is correctly specified.\n",
       "[2] The condition number is large, 3.48e+05. This might indicate that there are\n",
       "strong multicollinearity or other numerical problems.\n",
       "\"\"\""
      ]
     },
     "execution_count": 12,
     "metadata": {},
     "output_type": "execute_result"
    }
   ],
   "source": [
    "model = ols('VentoPrevisto ~ Temperatura + Direcao + Pressao + Chuva' , data = df_wind) \n",
    "response = model.fit()\n",
    "response.summary()"
   ]
  },
  {
   "cell_type": "code",
   "execution_count": null,
   "id": "ab7f3cba-0e8e-43af-bffa-97de6699de37",
   "metadata": {},
   "outputs": [],
   "source": []
  }
 ],
 "metadata": {
  "kernelspec": {
   "display_name": "Python 3",
   "language": "python",
   "name": "python3"
  },
  "language_info": {
   "codemirror_mode": {
    "name": "ipython",
    "version": 3
   },
   "file_extension": ".py",
   "mimetype": "text/x-python",
   "name": "python",
   "nbconvert_exporter": "python",
   "pygments_lexer": "ipython3",
   "version": "3.7.10"
  }
 },
 "nbformat": 4,
 "nbformat_minor": 5
}
