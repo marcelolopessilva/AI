{
 "cells": [
  {
   "cell_type": "code",
   "execution_count": 5,
   "id": "5355fd2c-b544-4e34-988f-b4a7e0e8019e",
   "metadata": {},
   "outputs": [
    {
     "name": "stderr",
     "output_type": "stream",
     "text": [
      "d:\\anaconda3\\lib\\site-packages\\ipykernel_launcher.py:5: FutureWarning: The pandas.datetime class is deprecated and will be removed from pandas in a future version. Import from datetime module instead.\n",
      "  \"\"\"\n"
     ]
    }
   ],
   "source": [
    "import numpy as np # linear algebra\n",
    "import pandas as pd # data processing, CSV file I/O (e.g. pd.read_csv)\n",
    "import matplotlib.pyplot as plt\n",
    "%matplotlib inline\n",
    "from pandas import datetime\n",
    "import math, time\n",
    "import itertools\n",
    "from sklearn import preprocessing\n",
    "import datetime\n",
    "from operator import itemgetter\n",
    "from sklearn.preprocessing import MinMaxScaler\n",
    "from sklearn.metrics import mean_squared_error\n",
    "from math import sqrt\n",
    "from keras.models import Sequential\n",
    "from keras.layers.core import Dense, Dropout, Activation\n",
    "from keras.layers.recurrent import LSTM\n",
    "from keras.models import load_model\n",
    "import keras\n",
    "import h5py\n",
    "import requests\n",
    "import os\n",
    "\n",
    "# Retornado a versao do np.__version__  #1.20.1 \n",
    "# Mudei para '1.19.2' com o comando pip install numpy==1.19.2"
   ]
  },
  {
   "cell_type": "code",
   "execution_count": 6,
   "id": "d47bc822-1667-488a-8ed8-091366a6616d",
   "metadata": {},
   "outputs": [
    {
     "name": "stdout",
     "output_type": "stream",
     "text": [
      "<class 'pandas.core.frame.DataFrame'>\n",
      "Int64Index: 8808 entries, 0 to 8807\n",
      "Data columns (total 4 columns):\n",
      " #   Column     Non-Null Count  Dtype         \n",
      "---  ------     --------------  -----         \n",
      " 0   Longitude  8808 non-null   float64       \n",
      " 1   Latitude   8808 non-null   float64       \n",
      " 2   Data       8808 non-null   datetime64[ns]\n",
      " 3   VentoC     8808 non-null   float64       \n",
      "dtypes: datetime64[ns](1), float64(3)\n",
      "memory usage: 344.1 KB\n"
     ]
    }
   ],
   "source": [
    "source_file =  '../../../../PrevisaoVento/Data/process/cenario3/dados_cenario3.csv'\n",
    "df_wind = pd.read_csv(source_file, delimiter=';', index_col=0, parse_dates=['Data'])\n",
    "df_wind.info()"
   ]
  },
  {
   "cell_type": "code",
   "execution_count": 7,
   "id": "900af338-a929-4f52-8d0a-c65a699b5637",
   "metadata": {},
   "outputs": [
    {
     "data": {
      "text/plain": [
       "Longitude    0\n",
       "Latitude     0\n",
       "Data         0\n",
       "VentoC       0\n",
       "dtype: int64"
      ]
     },
     "execution_count": 7,
     "metadata": {},
     "output_type": "execute_result"
    }
   ],
   "source": [
    "df_wind.isnull().sum()"
   ]
  },
  {
   "cell_type": "markdown",
   "id": "c2f06aca-6df3-4aca-bcb3-b31e45c92d6f",
   "metadata": {},
   "source": [
    "import matplotlib.pyplot as plt\n",
    "df_serietemporal = df_wind\n",
    "df_serietemporal = df_serietemporal.drop(['Longitude', 'Latitude','Direcao','Pressao','Temperatura','Chuva'], axis=1)\n",
    "df_serietemporal = df_serietemporal.set_index('Data')\n",
    "\n",
    "df_serietemporal.plot(figsize=(12,5)) #,color='#4F4F4F' >> força uma cor para todo grafico\n",
    "plt.xticks(rotation=45)\n",
    "plt.xlabel('Data')\n",
    "plt.ylabel('Vento PREVISTO-m/s')\n",
    "plt.tight_layout()"
   ]
  },
  {
   "cell_type": "code",
   "execution_count": 8,
   "id": "d7ee400c-fd4b-456b-bea9-4651e358e79d",
   "metadata": {},
   "outputs": [
    {
     "data": {
      "text/html": [
       "<div>\n",
       "<style scoped>\n",
       "    .dataframe tbody tr th:only-of-type {\n",
       "        vertical-align: middle;\n",
       "    }\n",
       "\n",
       "    .dataframe tbody tr th {\n",
       "        vertical-align: top;\n",
       "    }\n",
       "\n",
       "    .dataframe thead th {\n",
       "        text-align: right;\n",
       "    }\n",
       "</style>\n",
       "<table border=\"1\" class=\"dataframe\">\n",
       "  <thead>\n",
       "    <tr style=\"text-align: right;\">\n",
       "      <th></th>\n",
       "      <th>Longitude</th>\n",
       "      <th>Latitude</th>\n",
       "      <th>Data</th>\n",
       "      <th>VentoC</th>\n",
       "      <th>Date</th>\n",
       "    </tr>\n",
       "  </thead>\n",
       "  <tbody>\n",
       "    <tr>\n",
       "      <th>0</th>\n",
       "      <td>-42.75</td>\n",
       "      <td>-14.25</td>\n",
       "      <td>2017-01-01 00:00:00</td>\n",
       "      <td>9.815</td>\n",
       "      <td>0</td>\n",
       "    </tr>\n",
       "    <tr>\n",
       "      <th>1</th>\n",
       "      <td>-42.75</td>\n",
       "      <td>-14.25</td>\n",
       "      <td>2017-01-01 01:00:00</td>\n",
       "      <td>8.735</td>\n",
       "      <td>1</td>\n",
       "    </tr>\n",
       "  </tbody>\n",
       "</table>\n",
       "</div>"
      ],
      "text/plain": [
       "   Longitude  Latitude                Data  VentoC  Date\n",
       "0     -42.75    -14.25 2017-01-01 00:00:00   9.815     0\n",
       "1     -42.75    -14.25 2017-01-01 01:00:00   8.735     1"
      ]
     },
     "execution_count": 8,
     "metadata": {},
     "output_type": "execute_result"
    }
   ],
   "source": [
    "df_serietemporal = df_wind\n",
    "df_serietemporal['Date'] = df_serietemporal.index\n",
    "df_serietemporal.head(2)"
   ]
  },
  {
   "cell_type": "code",
   "execution_count": 9,
   "id": "c1843300-c218-488b-8217-ad8ea7a4383e",
   "metadata": {},
   "outputs": [
    {
     "data": {
      "text/html": [
       "<div>\n",
       "<style scoped>\n",
       "    .dataframe tbody tr th:only-of-type {\n",
       "        vertical-align: middle;\n",
       "    }\n",
       "\n",
       "    .dataframe tbody tr th {\n",
       "        vertical-align: top;\n",
       "    }\n",
       "\n",
       "    .dataframe thead th {\n",
       "        text-align: right;\n",
       "    }\n",
       "</style>\n",
       "<table border=\"1\" class=\"dataframe\">\n",
       "  <thead>\n",
       "    <tr style=\"text-align: right;\">\n",
       "      <th></th>\n",
       "      <th>Longitude</th>\n",
       "      <th>Latitude</th>\n",
       "      <th>Data</th>\n",
       "      <th>VentoC</th>\n",
       "      <th>Date</th>\n",
       "    </tr>\n",
       "  </thead>\n",
       "  <tbody>\n",
       "    <tr>\n",
       "      <th>8806</th>\n",
       "      <td>-42.75</td>\n",
       "      <td>-14.25</td>\n",
       "      <td>2018-01-02 22:00:00</td>\n",
       "      <td>3.352</td>\n",
       "      <td>8806</td>\n",
       "    </tr>\n",
       "    <tr>\n",
       "      <th>8807</th>\n",
       "      <td>-42.75</td>\n",
       "      <td>-14.25</td>\n",
       "      <td>2018-01-02 23:00:00</td>\n",
       "      <td>5.190</td>\n",
       "      <td>8807</td>\n",
       "    </tr>\n",
       "  </tbody>\n",
       "</table>\n",
       "</div>"
      ],
      "text/plain": [
       "      Longitude  Latitude                Data  VentoC  Date\n",
       "8806     -42.75    -14.25 2018-01-02 22:00:00   3.352  8806\n",
       "8807     -42.75    -14.25 2018-01-02 23:00:00   5.190  8807"
      ]
     },
     "execution_count": 9,
     "metadata": {},
     "output_type": "execute_result"
    }
   ],
   "source": [
    "df_serietemporal.tail(2) # Tail = mostra ps ultimos registros"
   ]
  },
  {
   "cell_type": "markdown",
   "id": "c9eec278-070a-4321-a6f9-484e6c8dc8e0",
   "metadata": {},
   "source": [
    "### LSTMs são sensíveis à escala dos dados de entrada, especificamente quando as funções de ativação sigmóide (padrão) ou tanh são usadas. Pode ser uma boa prática redimensionar os dados para o intervalo de 0 a 1, também chamado de normalização."
   ]
  },
  {
   "cell_type": "code",
   "execution_count": 10,
   "id": "6d12c1d7-8e9d-4286-8806-2c826072847f",
   "metadata": {},
   "outputs": [],
   "source": [
    "min_max_scaler = preprocessing.MinMaxScaler(feature_range=(0, 1))\n",
    "dataset = min_max_scaler.fit_transform(df_serietemporal['VentoC'].values.reshape(-1, 1))"
   ]
  },
  {
   "cell_type": "code",
   "execution_count": 11,
   "id": "29562700-bae8-4520-bc7b-c3cfdcd2a9a6",
   "metadata": {},
   "outputs": [
    {
     "data": {
      "text/plain": [
       "array([[0.55909119],\n",
       "       [0.49223055],\n",
       "       [0.4748344 ],\n",
       "       [0.51965579],\n",
       "       [0.52015106],\n",
       "       [0.53098496],\n",
       "       [0.47167709],\n",
       "       [0.40933573],\n",
       "       [0.4362038 ],\n",
       "       [0.40853092]])"
      ]
     },
     "execution_count": 11,
     "metadata": {},
     "output_type": "execute_result"
    }
   ],
   "source": [
    "dataset[0:10]"
   ]
  },
  {
   "cell_type": "markdown",
   "id": "c83f1ce5-cac8-4407-b882-5d96547b9372",
   "metadata": {},
   "source": [
    "### Dividir em conjuntos de treinamento e teste"
   ]
  },
  {
   "cell_type": "code",
   "execution_count": 12,
   "id": "4e9762f8-1494-4f68-af40-aded3caf3ad5",
   "metadata": {},
   "outputs": [
    {
     "name": "stdout",
     "output_type": "stream",
     "text": [
      "6165 2643\n"
     ]
    }
   ],
   "source": [
    "# split into train and test sets\n",
    "train_size = int(len(dataset) * 0.7)\n",
    "test_size = len(dataset) - train_size\n",
    "train, test = dataset[0:train_size,:], dataset[train_size:len(dataset),:]\n",
    "print(len(train), len(test))"
   ]
  },
  {
   "cell_type": "markdown",
   "id": "fffbe64f-ad64-4cef-aa02-115bdd08e244",
   "metadata": {},
   "source": [
    "### Define-se a data de \"look back\" como 7 dias, que é o número de etapas de tempo anteriores para usar como variáveis de entrada para prever o próximo período de tempo"
   ]
  },
  {
   "cell_type": "code",
   "execution_count": 13,
   "id": "fe237c77-d83a-4911-8128-1d2be2a17593",
   "metadata": {},
   "outputs": [],
   "source": [
    "# Converter uma matriz de valores em uma matriz de conjunto de dados\n",
    "def create_dataset(dataset, look_back=7):\n",
    "    dataX, dataY = [], []\n",
    "    for i in range(len(dataset)-look_back-1):\n",
    "        a = dataset[i:(i+look_back), 0]\n",
    "        dataX.append(a)\n",
    "        dataY.append(dataset[i + look_back, 0])\n",
    "    return np.array(dataX), np.array(dataY)"
   ]
  },
  {
   "cell_type": "code",
   "execution_count": 14,
   "id": "f3c0343c-407e-4894-95ba-507e56dba73a",
   "metadata": {},
   "outputs": [],
   "source": [
    "x_train, y_train = create_dataset(train, look_back=7)\n",
    "x_test, y_test = create_dataset(test, look_back=7)"
   ]
  },
  {
   "cell_type": "code",
   "execution_count": 15,
   "id": "64ad5084-9d3a-4b31-a699-c330009b62c1",
   "metadata": {},
   "outputs": [
    {
     "name": "stdout",
     "output_type": "stream",
     "text": [
      "(6157, 7)\n",
      "(6157,)\n",
      "(2635, 7)\n",
      "(2635,)\n"
     ]
    }
   ],
   "source": [
    "print(x_train.shape)\n",
    "print(y_train.shape)\n",
    "print(x_test.shape)\n",
    "print(y_test.shape)"
   ]
  },
  {
   "cell_type": "markdown",
   "id": "689261b5-8464-4798-a0e0-53e71fa5645d",
   "metadata": {},
   "source": [
    "### A rede LSTM espera que os dados de entrada (X) sejam fornecidos com uma estrutura de array específica na forma de: [amostras, intervalos de tempo, recursos]. Atualmente, esses dados estão no formato: [amostras, recursos] e estamos enquadrando o problema como uma etapa de tempo para cada amostra. <br>\n",
    "### Podemos transformar o \"treino\" e os dados de entrada de teste na estrutura esperada usando numpy.reshape () da seguinte maneira:"
   ]
  },
  {
   "cell_type": "code",
   "execution_count": 16,
   "id": "e5e642e2-40d8-4348-bd83-f0783450b6f4",
   "metadata": {},
   "outputs": [],
   "source": [
    "x_train = np.reshape(x_train, (x_train.shape[0], 1, x_train.shape[1]))\n",
    "x_test = np.reshape(x_test, (x_test.shape[0], 1, x_test.shape[1]))"
   ]
  },
  {
   "cell_type": "code",
   "execution_count": 17,
   "id": "791cc3f5-7392-4897-98b6-5dd4b2d4aee9",
   "metadata": {},
   "outputs": [
    {
     "name": "stdout",
     "output_type": "stream",
     "text": [
      "(6157, 1, 7)\n",
      "(6157,)\n",
      "(2635, 1, 7)\n",
      "(2635,)\n"
     ]
    }
   ],
   "source": [
    "print(x_train.shape)\n",
    "print(y_train.shape)\n",
    "print(x_test.shape)\n",
    "print(y_test.shape)"
   ]
  },
  {
   "cell_type": "markdown",
   "id": "27be419f-68a0-4b47-9e12-a44c94e00a01",
   "metadata": {},
   "source": [
    "LSTM\n",
    "\n",
    "A rede Long Short-Term Memory, ou rede LSTM, é uma rede neural recorrente que é treinada usando Backpropagation Through Time e supera o problema do gradiente de desaparecimento.\n",
    "\n",
    "Como tal, ele pode ser usado para criar grandes redes recorrentes que, por sua vez, podem ser usadas para resolver problemas de sequência difíceis no aprendizado de máquina e obter resultados de última geração.\n",
    "\n",
    "Em vez de neurônios, as redes LSTM têm blocos de memória que são conectados por meio de camadas.\n",
    "\n",
    "Um bloco possui componentes que o tornam mais inteligente do que um neurônio clássico e uma memória para sequências recentes. Um bloco contém portas que gerenciam o estado e a saída do bloco. Um bloco opera em uma sequência de entrada e cada porta dentro de um bloco usa as unidades de ativação sigmóide para controlar se elas são disparadas ou não, tornando a mudança de estado e adição de informações que fluem através do bloco condicional.\n",
    "\n",
    "Existem três tipos de portas dentro de uma unidade:\n",
    "Forget Gate:Porta de entrada: decide condicionalmente quais valores da entrada atualizar o estado da memória.\n",
    "\n",
    "Forget Gate: decide condicionalmente quais informações jogar fora do bloco.\n",
    "Input Gate:: decide condicionalmente quais valores da entrada atualizar o estado da memória.\n",
    "Output Gate: decide condicionalmente o que produzir com base na entrada e na memória do bloco.\n",
    "\n",
    "Cada unidade é como uma mini-máquina de estados onde os portões das unidades possuem pesos que são aprendidos durante o procedimento de treinamento."
   ]
  },
  {
   "cell_type": "markdown",
   "id": "85f50c92-5d74-4a19-bf6c-4fdcacef3f7c",
   "metadata": {},
   "source": [
    "### A rede tem uma camada visível com 1 entrada, uma camada oculta com 20 blocos LSTM ou neurônios e uma camada de saída que faz uma previsão de 7 valores. A função de ativação sigmóide padrão é usada para os blocos LSTM. A rede é treinada para 20 épocas e um tamanho de lote de 1 é usado."
   ]
  },
  {
   "cell_type": "markdown",
   "id": "068f37d6-d60d-4bea-b40a-cee2157a62a7",
   "metadata": {},
   "source": [
    "KERAS: Model.fit(epochs,verbose)\n",
    "1.epochs: Inteiro. Número de épocas para treinar o modelo. Uma época é uma iteração sobre todos os dados x e y fornecidos. \n",
    "2.verbose: 'auto', 0, 1 ou 2. Modo de verbosidade. 0 = silencioso, 1 = barra de progresso, 2 = uma linha por época. "
   ]
  },
  {
   "cell_type": "code",
   "execution_count": 18,
   "id": "a24506d5-06fd-4e09-99d7-efe2c8d0517c",
   "metadata": {},
   "outputs": [
    {
     "name": "stdout",
     "output_type": "stream",
     "text": [
      "Epoch 1/20\n",
      "6157/6157 - 16s - loss: 0.0054\n",
      "Epoch 2/20\n",
      "6157/6157 - 8s - loss: 0.0033\n",
      "Epoch 3/20\n",
      "6157/6157 - 8s - loss: 0.0032\n",
      "Epoch 4/20\n",
      "6157/6157 - 8s - loss: 0.0032\n",
      "Epoch 5/20\n",
      "6157/6157 - 8s - loss: 0.0032\n",
      "Epoch 6/20\n",
      "6157/6157 - 8s - loss: 0.0031\n",
      "Epoch 7/20\n",
      "6157/6157 - 9s - loss: 0.0031\n",
      "Epoch 8/20\n",
      "6157/6157 - 9s - loss: 0.0032\n",
      "Epoch 9/20\n",
      "6157/6157 - 9s - loss: 0.0031\n",
      "Epoch 10/20\n",
      "6157/6157 - 9s - loss: 0.0031\n",
      "Epoch 11/20\n",
      "6157/6157 - 9s - loss: 0.0031\n",
      "Epoch 12/20\n",
      "6157/6157 - 9s - loss: 0.0031\n",
      "Epoch 13/20\n",
      "6157/6157 - 12s - loss: 0.0031\n",
      "Epoch 14/20\n",
      "6157/6157 - 18s - loss: 0.0031\n",
      "Epoch 15/20\n",
      "6157/6157 - 19s - loss: 0.0031\n",
      "Epoch 16/20\n",
      "6157/6157 - 14s - loss: 0.0031\n",
      "Epoch 17/20\n",
      "6157/6157 - 24s - loss: 0.0031\n",
      "Epoch 18/20\n",
      "6157/6157 - 20s - loss: 0.0031\n",
      "Epoch 19/20\n",
      "6157/6157 - 22s - loss: 0.0031\n",
      "Epoch 20/20\n",
      "6157/6157 - 19s - loss: 0.0031\n"
     ]
    },
    {
     "data": {
      "text/plain": [
       "<tensorflow.python.keras.callbacks.History at 0x2c7baf82e88>"
      ]
     },
     "execution_count": 18,
     "metadata": {},
     "output_type": "execute_result"
    }
   ],
   "source": [
    "# create and fit the LSTM network\n",
    "look_back = 7\n",
    "model = Sequential()\n",
    "model.add(LSTM(20, input_shape=(1, look_back)))\n",
    "model.add(Dense(1))\n",
    "#model.compile(loss='mean_squared_error', optimizer='adam')\n",
    "model.compile(loss='mse', optimizer='adam')\n",
    "\n",
    "model.fit(x_train, y_train, epochs=20, batch_size=1, verbose=2)\n",
    "\n",
    "# ** model = Sequential()\n",
    "# ** model.add(Dense(2, init='uniform', input_dim=64))\n",
    "# ** model.add(Activation('softmax'))\n",
    "# ** model.compile(optimizer='sgd', loss='mse')"
   ]
  },
  {
   "cell_type": "code",
   "execution_count": 19,
   "id": "bafabf8d-9447-4f42-8785-c351c7b9b305",
   "metadata": {},
   "outputs": [
    {
     "name": "stdout",
     "output_type": "stream",
     "text": [
      "Train Score: 0.87 RMSE\n",
      "Test Score: 0.90 RMSE\n"
     ]
    }
   ],
   "source": [
    "trainPredict = model.predict(x_train)\n",
    "testPredict = model.predict(x_test)\n",
    "# invert predictions\n",
    "trainPredict = min_max_scaler.inverse_transform(trainPredict)\n",
    "trainY = min_max_scaler.inverse_transform([y_train])\n",
    "testPredict = min_max_scaler.inverse_transform(testPredict)\n",
    "testY = min_max_scaler.inverse_transform([y_test])\n",
    "\n",
    "\n",
    "# calculate root mean squared error\n",
    "trainScore = math.sqrt(mean_squared_error(trainY[0], trainPredict[:,0]))\n",
    "print('Train Score: %.2f RMSE' % (trainScore))\n",
    "\n",
    "testScore = math.sqrt(mean_squared_error(testY[0], testPredict[:,0]))\n",
    "print('Test Score: %.2f RMSE' % (testScore))"
   ]
  },
  {
   "cell_type": "code",
   "execution_count": 20,
   "id": "fe261202-01f6-480c-830a-01cacb563992",
   "metadata": {},
   "outputs": [
    {
     "data": {
      "image/png": "[encoded data removed]",
      "text/plain": [
       "<Figure size 864x360 with 1 Axes>"
      ]
     },
     "metadata": {
      "needs_background": "light"
     },
     "output_type": "display_data"
    },
    {
     "data": {
      "image/png": "[encoded data removed]",
      "text/plain": [
       "<Figure size 864x360 with 1 Axes>"
      ]
     },
     "metadata": {
      "needs_background": "light"
     },
     "output_type": "display_data"
    }
   ],
   "source": [
    "# shift train predictions for plotting\n",
    "trainPredictPlot = np.empty_like(dataset)\n",
    "trainPredictPlot[:, :] = np.nan\n",
    "trainPredictPlot[look_back:len(trainPredict)+look_back, :] = trainPredict\n",
    "\n",
    "# shift test predictions for plotting\n",
    "testPredictPlot = np.empty_like(dataset)\n",
    "testPredictPlot[:, :] = np.nan\n",
    "testPredictPlot[len(trainPredict)+(look_back*2)+1:len(dataset)-1, :] = testPredict\n",
    "\n",
    "# plot baseline and predictions\n",
    "plt.figure(figsize=(12, 5))\n",
    "plt.title(f'Baseline', fontsize=20)\n",
    "plt.plot(min_max_scaler.inverse_transform(dataset))\n",
    "\n",
    "#plt.title(f'Predicao do Treino e Teste', fontsize=20)\n",
    "plt.figure(figsize=(12, 5))\n",
    "plt.style.use('ggplot')\n",
    "plt.plot(trainPredictPlot)\n",
    "plt.plot(testPredictPlot)\n",
    "\n",
    "plt.show()\n",
    "\n"
   ]
  },
  {
   "cell_type": "code",
   "execution_count": null,
   "id": "08401075-4318-45d1-b3ba-285e04605383",
   "metadata": {},
   "outputs": [],
   "source": []
  },
  {
   "cell_type": "code",
   "execution_count": null,
   "id": "abf747a1-a53b-4c96-b152-7d4d3bdd7c90",
   "metadata": {},
   "outputs": [],
   "source": []
  }
 ],
 "metadata": {
  "kernelspec": {
   "display_name": "Python 3",
   "language": "python",
   "name": "python3"
  },
  "language_info": {
   "codemirror_mode": {
    "name": "ipython",
    "version": 3
   },
   "file_extension": ".py",
   "mimetype": "text/x-python",
   "name": "python",
   "nbconvert_exporter": "python",
   "pygments_lexer": "ipython3",
   "version": "3.7.10"
  }
 },
 "nbformat": 4,
 "nbformat_minor": 5
}
