{
 "cells": [
  {
   "cell_type": "markdown",
   "id": "978fa3d8",
   "metadata": {},
   "source": [
    "## <span style=\"color:#000080\"> **Análise Exploratória e Qualidade dos Dados**\n",
    "\n",
    "### <span style=\"color:#4169E1\"><b>1.1 Definição de pronto:</span> Dados analisados e insights documentados\n",
    "\n",
    "### <span style=\"color:#4169E1\"><b>1.2 Definição de entregue:</span> Notebook executando sem erros\n",
    "### ....................................................................................................................."
   ]
  },
  {
   "cell_type": "code",
   "execution_count": 1,
   "id": "9b356f72",
   "metadata": {},
   "outputs": [
    {
     "name": "stderr",
     "output_type": "stream",
     "text": [
      "d:\\anaconda3\\lib\\site-packages\\numpy\\_distributor_init.py:32: UserWarning: loaded more than 1 DLL from .libs:\n",
      "d:\\anaconda3\\lib\\site-packages\\numpy\\.libs\\libopenblas.NOIJJG62EMASZI6NYURL6JBKM4EVBGM7.gfortran-win_amd64.dll\n",
      "d:\\anaconda3\\lib\\site-packages\\numpy\\.libs\\libopenblas.WCDJNK7YVMPZQ2ME2ZZHJJRJ3JIKNDB7.gfortran-win_amd64.dll\n",
      "  stacklevel=1)\n"
     ]
    }
   ],
   "source": [
    "import pandas as pd\n",
    "import numpy as np\n",
    "import matplotlib.pyplot as plt\n",
    "\n",
    "import seaborn as sns\n",
    "import sklearn.preprocessing as sklpp\n",
    "import geopandas as gp\n",
    "\n",
    "pd.set_option(\"display.precision\", 4)\n",
    "\n",
    "import warnings\n",
    "warnings.filterwarnings(\"ignore\")"
   ]
  },
  {
   "cell_type": "markdown",
   "id": "039c9963-daf1-4767-812f-cce855339bb3",
   "metadata": {},
   "source": [
    "<b>Numpy</b> é uma biblioteca que é usada principalmente para realizar cálculos em Arrays Multidimensionais. \n",
    "<br>O NumPy fornece um grande conjunto de funções e operações de biblioteca que ajudam os programadores a executar facilmente cálculos numéricos\n",
    "\n",
    "<b>Pandas</b> é uma biblioteca de software utilizada para manipulação e análise de dados. \n",
    "<br>Em particular, oferece estruturas e operações para manipular tabelas numéricas e séries temporais.\n",
    "\n",
    "<b>Matplotlib</b> é uma biblioteca de software para criação de gráficos e visualizações de dados em geral, <br>\n",
    "feita para e da linguagem de programação Python e sua extensão de matemática NumPy.\n",
    "\n",
    "<b>Pyplot</b> é um módulo do Matplotlib que oferece uma interface semelhante ao MATLAB.\n",
    "<br>Matplotlib é projetado e desenvolvido para ter a mesma usabilidade do MATLAB, mas com a flexibilidade da linguagem Python.\n",
    "\n",
    "<b>Sklearn</b> (conhecida como scikit-learn) é uma biblioteca dispõe de ferramentas simples e eficientes para análise preditiva de dados.\n",
    "<br>Ela inclui vários algoritmos de classificação, regressão e agrupamento incluindo máquinas de vetores de suporte, florestas aleatórias, gradient boosting, k-means e DBSCAN, e é projetada para interagir com as bibliotecas Python numéricas e científicas NumPy e SciPy.\n",
    "\n",
    "<b>GeoPandas</b> é uma biblioteca para adicionar suporte a dados geográficos para objetos pandas.\n",
    "<br> Seu objetivo é facilitar o trabalho com dados geoespaciais em python, fornecendo operações geoespaciais em pandas e uma interface de alto nível para múltiplas geometrias para ter forma. (Pre-requisito nesta ordem: shapely pyproj rtree GDAL  fiona pygeos )\n",
    "\n",
    "<b>Seaborn</b> é uma biblioteca que atua em cima do matplotlib e ajuda a melhorar o visual dos gráficos, dando uma aparência mais bem acabada. "
   ]
  },
  {
   "cell_type": "markdown",
   "id": "ea91a069-f573-420c-963f-b119d4ba356c",
   "metadata": {},
   "source": [
    "### ***A) Importar Dados de Chuvas, Pressao, Precipitação e Temperatura***"
   ]
  },
  {
   "cell_type": "code",
   "execution_count": 2,
   "id": "7ef7b237-9430-472e-ae3a-d9e89a4266ce",
   "metadata": {},
   "outputs": [],
   "source": [
    "# Carga do arquivo csv preparada para a análise exploratória de dados. Ajustes de separador, primeira coluna como índice e parse de Data.\n",
    "source_file = '../../../../PrevisaoVento/Data/process/cenario3/dados_cenario3.csv'\n",
    "\n",
    "df_patio = pd.read_csv(source_file, delimiter=';', index_col=0, parse_dates=['Data'])"
   ]
  },
  {
   "cell_type": "markdown",
   "id": "c9ef5e97-06f0-4433-948c-558a579e086a",
   "metadata": {},
   "source": [
    "### <span style=\"color:#006400\"> **B) Análise sobre os Dados**"
   ]
  },
  {
   "cell_type": "markdown",
   "id": "095ab6bb-09f5-42cd-a878-072d4a21736b",
   "metadata": {},
   "source": [
    "#### <span style=\"color:#228B22\">B1. Verificação de formato dos dados. 5 registros."
   ]
  },
  {
   "cell_type": "code",
   "execution_count": 3,
   "id": "de8c44e9",
   "metadata": {},
   "outputs": [
    {
     "data": {
      "text/html": [
       "<div>\n",
       "<style scoped>\n",
       "    .dataframe tbody tr th:only-of-type {\n",
       "        vertical-align: middle;\n",
       "    }\n",
       "\n",
       "    .dataframe tbody tr th {\n",
       "        vertical-align: top;\n",
       "    }\n",
       "\n",
       "    .dataframe thead th {\n",
       "        text-align: right;\n",
       "    }\n",
       "</style>\n",
       "<table border=\"1\" class=\"dataframe\">\n",
       "  <thead>\n",
       "    <tr style=\"text-align: right;\">\n",
       "      <th></th>\n",
       "      <th>Longitude</th>\n",
       "      <th>Latitude</th>\n",
       "      <th>Data</th>\n",
       "      <th>VentoC</th>\n",
       "    </tr>\n",
       "  </thead>\n",
       "  <tbody>\n",
       "    <tr>\n",
       "      <th>0</th>\n",
       "      <td>-42.75</td>\n",
       "      <td>-14.25</td>\n",
       "      <td>2017-01-01 00:00:00</td>\n",
       "      <td>9.815</td>\n",
       "    </tr>\n",
       "    <tr>\n",
       "      <th>1</th>\n",
       "      <td>-42.75</td>\n",
       "      <td>-14.25</td>\n",
       "      <td>2017-01-01 01:00:00</td>\n",
       "      <td>8.735</td>\n",
       "    </tr>\n",
       "    <tr>\n",
       "      <th>2</th>\n",
       "      <td>-42.75</td>\n",
       "      <td>-14.25</td>\n",
       "      <td>2017-01-01 02:00:00</td>\n",
       "      <td>8.454</td>\n",
       "    </tr>\n",
       "    <tr>\n",
       "      <th>3</th>\n",
       "      <td>-42.75</td>\n",
       "      <td>-14.25</td>\n",
       "      <td>2017-01-01 03:00:00</td>\n",
       "      <td>9.178</td>\n",
       "    </tr>\n",
       "    <tr>\n",
       "      <th>4</th>\n",
       "      <td>-42.75</td>\n",
       "      <td>-14.25</td>\n",
       "      <td>2017-01-01 04:00:00</td>\n",
       "      <td>9.186</td>\n",
       "    </tr>\n",
       "  </tbody>\n",
       "</table>\n",
       "</div>"
      ],
      "text/plain": [
       "   Longitude  Latitude                Data  VentoC\n",
       "0     -42.75    -14.25 2017-01-01 00:00:00   9.815\n",
       "1     -42.75    -14.25 2017-01-01 01:00:00   8.735\n",
       "2     -42.75    -14.25 2017-01-01 02:00:00   8.454\n",
       "3     -42.75    -14.25 2017-01-01 03:00:00   9.178\n",
       "4     -42.75    -14.25 2017-01-01 04:00:00   9.186"
      ]
     },
     "execution_count": 3,
     "metadata": {},
     "output_type": "execute_result"
    }
   ],
   "source": [
    "df_patio.head(5)"
   ]
  },
  {
   "cell_type": "markdown",
   "id": "b1da3322",
   "metadata": {},
   "source": [
    "#### <span style=\"color:#228B22\"> B2. Verificação de nulidade e tipos de dados. "
   ]
  },
  {
   "cell_type": "code",
   "execution_count": 4,
   "id": "a9591484",
   "metadata": {},
   "outputs": [
    {
     "name": "stdout",
     "output_type": "stream",
     "text": [
      "<class 'pandas.core.frame.DataFrame'>\n",
      "Int64Index: 8808 entries, 0 to 8807\n",
      "Data columns (total 4 columns):\n",
      " #   Column     Non-Null Count  Dtype         \n",
      "---  ------     --------------  -----         \n",
      " 0   Longitude  8808 non-null   float64       \n",
      " 1   Latitude   8808 non-null   float64       \n",
      " 2   Data       8808 non-null   datetime64[ns]\n",
      " 3   VentoC     8808 non-null   float64       \n",
      "dtypes: datetime64[ns](1), float64(3)\n",
      "memory usage: 344.1 KB\n"
     ]
    }
   ],
   "source": [
    "df_patio.info()"
   ]
  },
  {
   "cell_type": "markdown",
   "id": "b68536ff",
   "metadata": {},
   "source": [
    "#### <span style=\"color:#228B22\">**B3. Estatísticas Gerais**"
   ]
  },
  {
   "cell_type": "markdown",
   "id": "b43da5e5-7ca7-46a8-96db-1726588cb9f5",
   "metadata": {},
   "source": [
    "- A mínima e a máxima são os valores nos “extremos” de um conjunto de dados ordenados: ou seja, o menor e o maior valor. Ambos são utilizados cotidianamente e facilmente compreensíveis\n",
    "- A média consiste na soma dos valores dividido pelo número de observações. \n",
    "- A mediana, o valor que está no meio deste conjunto de dados ordenados.\n",
    "<br><br>\n",
    "Enquanto a média leva em consideração todos os valores e é afetada pelos outliers, a mediana ordena os valores de forma crescente e busca por aquele que está no meio."
   ]
  },
  {
   "cell_type": "markdown",
   "id": "e5f5e21b-4594-4117-8e5d-80d5a347188f",
   "metadata": {},
   "source": [
    "#### <span style=\"color:#006400\">**B3.1 Variaveis Contínuas**"
   ]
  },
  {
   "cell_type": "code",
   "execution_count": 5,
   "id": "962ef81d",
   "metadata": {},
   "outputs": [
    {
     "data": {
      "text/html": [
       "<div>\n",
       "<style scoped>\n",
       "    .dataframe tbody tr th:only-of-type {\n",
       "        vertical-align: middle;\n",
       "    }\n",
       "\n",
       "    .dataframe tbody tr th {\n",
       "        vertical-align: top;\n",
       "    }\n",
       "\n",
       "    .dataframe thead th {\n",
       "        text-align: right;\n",
       "    }\n",
       "</style>\n",
       "<table border=\"1\" class=\"dataframe\">\n",
       "  <thead>\n",
       "    <tr style=\"text-align: right;\">\n",
       "      <th></th>\n",
       "      <th>Longitude</th>\n",
       "      <th>Latitude</th>\n",
       "      <th>VentoC</th>\n",
       "    </tr>\n",
       "  </thead>\n",
       "  <tbody>\n",
       "    <tr>\n",
       "      <th>count</th>\n",
       "      <td>8808.00</td>\n",
       "      <td>8808.00</td>\n",
       "      <td>8808.0000</td>\n",
       "    </tr>\n",
       "    <tr>\n",
       "      <th>mean</th>\n",
       "      <td>-42.75</td>\n",
       "      <td>-14.25</td>\n",
       "      <td>7.9796</td>\n",
       "    </tr>\n",
       "    <tr>\n",
       "      <th>std</th>\n",
       "      <td>0.00</td>\n",
       "      <td>0.00</td>\n",
       "      <td>2.7926</td>\n",
       "    </tr>\n",
       "    <tr>\n",
       "      <th>min</th>\n",
       "      <td>-42.75</td>\n",
       "      <td>-14.25</td>\n",
       "      <td>0.7840</td>\n",
       "    </tr>\n",
       "    <tr>\n",
       "      <th>25%</th>\n",
       "      <td>-42.75</td>\n",
       "      <td>-14.25</td>\n",
       "      <td>6.0540</td>\n",
       "    </tr>\n",
       "    <tr>\n",
       "      <th>50%</th>\n",
       "      <td>-42.75</td>\n",
       "      <td>-14.25</td>\n",
       "      <td>8.1365</td>\n",
       "    </tr>\n",
       "    <tr>\n",
       "      <th>75%</th>\n",
       "      <td>-42.75</td>\n",
       "      <td>-14.25</td>\n",
       "      <td>9.8685</td>\n",
       "    </tr>\n",
       "    <tr>\n",
       "      <th>max</th>\n",
       "      <td>-42.75</td>\n",
       "      <td>-14.25</td>\n",
       "      <td>16.9370</td>\n",
       "    </tr>\n",
       "  </tbody>\n",
       "</table>\n",
       "</div>"
      ],
      "text/plain": [
       "       Longitude  Latitude     VentoC\n",
       "count    8808.00   8808.00  8808.0000\n",
       "mean      -42.75    -14.25     7.9796\n",
       "std         0.00      0.00     2.7926\n",
       "min       -42.75    -14.25     0.7840\n",
       "25%       -42.75    -14.25     6.0540\n",
       "50%       -42.75    -14.25     8.1365\n",
       "75%       -42.75    -14.25     9.8685\n",
       "max       -42.75    -14.25    16.9370"
      ]
     },
     "execution_count": 5,
     "metadata": {},
     "output_type": "execute_result"
    }
   ],
   "source": [
    "df_patio.describe(include=[np.number])"
   ]
  },
  {
   "cell_type": "markdown",
   "id": "f8dc99a5-901e-4698-8dd3-bc445ffff4fc",
   "metadata": {},
   "source": [
    "##### <span style=\"color:#006400\">**B3.2 Variaveis Categóricas**"
   ]
  },
  {
   "cell_type": "code",
   "execution_count": 6,
   "id": "f52b5d21-a179-44f9-a6e1-86b1c7a4c40e",
   "metadata": {},
   "outputs": [
    {
     "data": {
      "text/html": [
       "<div>\n",
       "<style scoped>\n",
       "    .dataframe tbody tr th:only-of-type {\n",
       "        vertical-align: middle;\n",
       "    }\n",
       "\n",
       "    .dataframe tbody tr th {\n",
       "        vertical-align: top;\n",
       "    }\n",
       "\n",
       "    .dataframe thead th {\n",
       "        text-align: right;\n",
       "    }\n",
       "</style>\n",
       "<table border=\"1\" class=\"dataframe\">\n",
       "  <thead>\n",
       "    <tr style=\"text-align: right;\">\n",
       "      <th></th>\n",
       "      <th>Data</th>\n",
       "    </tr>\n",
       "  </thead>\n",
       "  <tbody>\n",
       "    <tr>\n",
       "      <th>count</th>\n",
       "      <td>8808</td>\n",
       "    </tr>\n",
       "    <tr>\n",
       "      <th>unique</th>\n",
       "      <td>8808</td>\n",
       "    </tr>\n",
       "    <tr>\n",
       "      <th>top</th>\n",
       "      <td>2017-02-22 04:00:00</td>\n",
       "    </tr>\n",
       "    <tr>\n",
       "      <th>freq</th>\n",
       "      <td>1</td>\n",
       "    </tr>\n",
       "    <tr>\n",
       "      <th>first</th>\n",
       "      <td>2017-01-01 00:00:00</td>\n",
       "    </tr>\n",
       "    <tr>\n",
       "      <th>last</th>\n",
       "      <td>2018-01-02 23:00:00</td>\n",
       "    </tr>\n",
       "  </tbody>\n",
       "</table>\n",
       "</div>"
      ],
      "text/plain": [
       "                       Data\n",
       "count                  8808\n",
       "unique                 8808\n",
       "top     2017-02-22 04:00:00\n",
       "freq                      1\n",
       "first   2017-01-01 00:00:00\n",
       "last    2018-01-02 23:00:00"
      ]
     },
     "execution_count": 6,
     "metadata": {},
     "output_type": "execute_result"
    }
   ],
   "source": [
    "df_patio.describe(exclude=[np.number])"
   ]
  },
  {
   "cell_type": "markdown",
   "id": "6cf6f8a6",
   "metadata": {},
   "source": [
    "#### <span style=\"color:#228B22\">B4. Variação Dinâmica das Variáveis Contínuas"
   ]
  },
  {
   "cell_type": "code",
   "execution_count": 7,
   "id": "53127b59",
   "metadata": {},
   "outputs": [
    {
     "name": "stdout",
     "output_type": "stream",
     "text": [
      "VentoC \t faixa dinâmica: 16.15\n"
     ]
    }
   ],
   "source": [
    "for (column, _ ) in df_patio.filter(items=['VentoC']).items():\n",
    "    print(f'{column} \\t faixa dinâmica: {\"{:.2f}\".format(df_patio[column].max() - df_patio[column].min())}')"
   ]
  },
  {
   "cell_type": "markdown",
   "id": "b0e44c9e-c007-476f-b9ba-ae72cd7d3a4a",
   "metadata": {},
   "source": [
    "### <span style=\"color:#006400\"> **C) Visualização Gráfica - Mapa**"
   ]
  },
  {
   "cell_type": "markdown",
   "id": "c2276edf",
   "metadata": {},
   "source": [
    "#### <span style=\"color:#228B22\">C1. Criando informação de ponto geométrico "
   ]
  },
  {
   "cell_type": "code",
   "execution_count": 8,
   "id": "63da03d9",
   "metadata": {},
   "outputs": [],
   "source": [
    "df_patio_coord = pd.read_csv('../../../../PrevisaoVento/Data/raw/eolica/00_cadastro_patio.txt', delimiter=';', index_col=0)\n",
    "df_patiog = gp.GeoDataFrame(df_patio_coord, geometry=gp.points_from_xy(df_patio_coord.Longitude, df_patio_coord.Latitude))\n",
    "\n",
    "# df_patiog = gp.GeoDataFrame(df_patio, geometry=gp.points_from_xy(df_patio.Longitude, df_patio.Latitude))\n",
    "# df_patiog.head(5)"
   ]
  },
  {
   "cell_type": "markdown",
   "id": "87f3ee77",
   "metadata": {},
   "source": [
    "#### <span style=\"color:#228B22\">C2. Plotando o ponto no mapa >>> Achar shape dos estados do Brasil onde os pontos serão mostrados <<<"
   ]
  },
  {
   "cell_type": "code",
   "execution_count": 9,
   "id": "95d67b2e",
   "metadata": {},
   "outputs": [
    {
     "data": {
      "image/png": "[encoded data removed]",
      "text/plain": [
       "<Figure size 720x576 with 1 Axes>"
      ]
     },
     "metadata": {
      "needs_background": "light"
     },
     "output_type": "display_data"
    }
   ],
   "source": [
    "world = gp.read_file(gp.datasets.get_path('naturalearth_lowres'))\n",
    "\n",
    "# Restrito para América do Sul\n",
    "ax = world[world.continent == 'South America'].plot(color='white', edgecolor='black',figsize=(10, 8))\n",
    "\n",
    "# Plotando o gráfico.\n",
    "df_patiog.plot(ax=ax, color='red')\n",
    "\n",
    "plt.show()"
   ]
  },
  {
   "cell_type": "markdown",
   "id": "e7133875-69f9-4539-b294-41f4cfb485f6",
   "metadata": {},
   "source": [
    "### <span style=\"color:#006400\"> **D) Visualização Gráfica - Histograma**"
   ]
  },
  {
   "cell_type": "markdown",
   "id": "b8c77c77",
   "metadata": {},
   "source": [
    "#### <span style=\"color:#228B22\"> **D1. Histogramas com as distribuições das variáveis**"
   ]
  },
  {
   "cell_type": "markdown",
   "id": "4437757f-70f4-44eb-93ab-69a92fe87131",
   "metadata": {},
   "source": [
    "<b>Histograma</b> é um gráfico que mostra a distribuição de acontecimentos registrados em todo o espectro. Graficamente é um conjunto de retângulos \n",
    "que têm as bases sobre o eixo x e a área proporcional às frequências de classe. Fatores a serem analisados:\n",
    "<p>\n",
    "<b>1. Amplitude:</b><br>\n",
    "- Quantas amostras representam determinado comportamento? <br>\n",
    "- A distribuição é mais homogênea entre as classes, ou as amostras se concentram em determinada região? <br>\n",
    "<b>2.Mediana:</b><br>\n",
    "- Qual é o ponto central onde, estatisticamente, existe o maior registro de ocorrências?<br>\n",
    "<b>3.Dispersão:</b><br>\n",
    "- Qual é o grau de variedade de classes que existem no meu sistema?<br>\n",
    "- Existem amostras distribuídas entre muitos grupos no meu gráfico?"
   ]
  },
  {
   "cell_type": "code",
   "execution_count": 10,
   "id": "eb8091db-7cff-41c0-a34f-1ecdfce02e1f",
   "metadata": {},
   "outputs": [
    {
     "data": {
      "image/png": "[encoded data removed]",
      "text/plain": [
       "<Figure size 432x288 with 1 Axes>"
      ]
     },
     "metadata": {
      "needs_background": "light"
     },
     "output_type": "display_data"
    },
    {
     "data": {
      "text/plain": [
       "<Figure size 432x288 with 0 Axes>"
      ]
     },
     "metadata": {},
     "output_type": "display_data"
    }
   ],
   "source": [
    "for (column, _ ) in df_patio.filter(items=['VentoC']).items():\n",
    "    sns.histplot(df_patio[column], color='green')\n",
    "    plt.figure()"
   ]
  },
  {
   "cell_type": "markdown",
   "id": "29c618c2",
   "metadata": {},
   "source": [
    "#### <span style=\"color:#228B22\">**D2. Utilizando KDE - Kernel Density Estimate**"
   ]
  },
  {
   "cell_type": "markdown",
   "id": "84f16a96-e68e-454c-a195-93d7d9abed1a",
   "metadata": {},
   "source": [
    "https://www.youtube.com/watch?v=DCgPRaIDYXA<br>\n",
    "O gráfico KDE descrito como estimativa de densidade do kernel é usado para visualizar a densidade de probabilidade de uma variável contínua.\n",
    "<p>\n",
    "Um histograma é basicamente um gráfico de barras para variáveis quantitativas, que são divididas em intervalos, e nos mostra a frequência de dados que se tem em cada intervalo; o KDE é uma estimativa da densidade desses dados, calculando a probabilidade de se ter um ponto naquele local do gráfico."
   ]
  },
  {
   "cell_type": "code",
   "execution_count": 11,
   "id": "bdee265c",
   "metadata": {},
   "outputs": [
    {
     "data": {
      "image/png": "[encoded data removed]",
      "text/plain": [
       "<Figure size 1080x360 with 1 Axes>"
      ]
     },
     "metadata": {
      "needs_background": "light"
     },
     "output_type": "display_data"
    }
   ],
   "source": [
    "for (column, _ ) in df_patio.filter(items=['VentoC']).items():\n",
    "    plt.figure()\n",
    "    df_patio[column].plot.kde(figsize=(15,5), legend=True,color='#008000');\n",
    "    plt.legend(ncol = 1)\n",
    "    plt.title(column)"
   ]
  },
  {
   "cell_type": "markdown",
   "id": "e43829ed-d176-48a3-9ed2-bb45c57e2c7b",
   "metadata": {},
   "source": [
    "### <span style=\"color:#006400\"> **G) Visualização Gráfica - Box Plot (Diagrama de Caixa)**"
   ]
  },
  {
   "cell_type": "markdown",
   "id": "a813cc4c-585c-4127-a1e4-7b0b200cad6f",
   "metadata": {},
   "source": [
    "Na estatística, o Boxplot, ou diagrama de caixa, é uma maneira gráfica de representar a alteração dos dados de uma variável por meio de quartis. É um método alternativo ao histograma e ao \"ramo-e-folha\" para representar os dados.\n",
    "<p>\n",
    "O Box Plot fornece informação sobre as seguintes características do conjunto de dados: localização, dispersão, assimetria, comprimento da cauda e outliers (medidas discrepantes). Embora o Boxplot forneça informação sobre localização e dispersão, seu verdadeiro valor está na informação que fornece sobre a cauda da distribuição.\n",
    "<p>\n",
    "Em um boxplot são apresentadas 5 estatísticas: o mínimo, o primeiro quartil (Q1), a mediana, o terceiro quartil (Q3) e o máximo. Esses valores também são chamados de resumo dos cinco números. Para construir um desenha-se um retângulo alinhado verticalmente (ou horizontalmente) com duas semirretas, uma em cada um dos lados opostos do retângulo.\n",
    "\n",
    "A altura do retângulo é definida pelos quartis Q1 e Q3. Uma linha secciona o retângulo no valor da mediana (ou Q2). As semirretas ligam respectivamente os quartis Q1 e Q3 ao valor mínimo e ao máximo do conjunto de dados."
   ]
  },
  {
   "cell_type": "code",
   "execution_count": 12,
   "id": "df4445fb-d53e-4d5c-896b-44a7456b2433",
   "metadata": {},
   "outputs": [],
   "source": [
    "# from IPython.display import Image\n",
    "# Image(filename='boxplot.jpg')"
   ]
  },
  {
   "cell_type": "markdown",
   "id": "182a85ff-cc17-4d18-858f-797960e76aa6",
   "metadata": {},
   "source": [
    "- O centro da distribuição é indicado pela linha da mediana, no centro do quadrado.\n",
    "- A dispersão é representada pela amplitude do gráfico, que pode ser calculada como máximo valor – mínimo valor. Quanto maior for a amplitude, maior a variação nos dados.\n",
    "- O retângulo contém 50% dos valores do conjunto de dados. A posição da linha mediana no retângulo informa sobre a assimetria da distribuição.\n",
    "- Uma distribuição simétrica teria a mediana no centro do retângulo. Se a mediana é próxima de Q1, então, os dados são positivamente assimétricos.Se a mediana é próxima de Q3 os dados são negativamente assimétricos. \n",
    "- Os outliers em um box plot aparecem como pontos ou asteriscos fora das “linhas” desenhadas e indicam possíveis valores discrepantes.\n",
    "- Caudas – As linhas que vão do retângulo até aos outliers podem fornecer o comprimento das caudas da distribuição. Os outliers serão os valores fora de Limite Inferior = Q1-1.5*(Q3-Q1) e Limite Superior = Q3+1.5*(Q3 -Q1).\n"
   ]
  },
  {
   "cell_type": "code",
   "execution_count": 13,
   "id": "8eafa802-cad8-485d-a17b-92fed069e07f",
   "metadata": {},
   "outputs": [
    {
     "data": {
      "text/html": [
       "<div>\n",
       "<style scoped>\n",
       "    .dataframe tbody tr th:only-of-type {\n",
       "        vertical-align: middle;\n",
       "    }\n",
       "\n",
       "    .dataframe tbody tr th {\n",
       "        vertical-align: top;\n",
       "    }\n",
       "\n",
       "    .dataframe thead th {\n",
       "        text-align: right;\n",
       "    }\n",
       "</style>\n",
       "<table border=\"1\" class=\"dataframe\">\n",
       "  <thead>\n",
       "    <tr style=\"text-align: right;\">\n",
       "      <th></th>\n",
       "      <th>Longitude</th>\n",
       "      <th>Latitude</th>\n",
       "      <th>VentoC</th>\n",
       "    </tr>\n",
       "  </thead>\n",
       "  <tbody>\n",
       "    <tr>\n",
       "      <th>count</th>\n",
       "      <td>8808.00</td>\n",
       "      <td>8808.00</td>\n",
       "      <td>8808.0000</td>\n",
       "    </tr>\n",
       "    <tr>\n",
       "      <th>mean</th>\n",
       "      <td>-42.75</td>\n",
       "      <td>-14.25</td>\n",
       "      <td>7.9796</td>\n",
       "    </tr>\n",
       "    <tr>\n",
       "      <th>std</th>\n",
       "      <td>0.00</td>\n",
       "      <td>0.00</td>\n",
       "      <td>2.7926</td>\n",
       "    </tr>\n",
       "    <tr>\n",
       "      <th>min</th>\n",
       "      <td>-42.75</td>\n",
       "      <td>-14.25</td>\n",
       "      <td>0.7840</td>\n",
       "    </tr>\n",
       "    <tr>\n",
       "      <th>25%</th>\n",
       "      <td>-42.75</td>\n",
       "      <td>-14.25</td>\n",
       "      <td>6.0540</td>\n",
       "    </tr>\n",
       "    <tr>\n",
       "      <th>50%</th>\n",
       "      <td>-42.75</td>\n",
       "      <td>-14.25</td>\n",
       "      <td>8.1365</td>\n",
       "    </tr>\n",
       "    <tr>\n",
       "      <th>75%</th>\n",
       "      <td>-42.75</td>\n",
       "      <td>-14.25</td>\n",
       "      <td>9.8685</td>\n",
       "    </tr>\n",
       "    <tr>\n",
       "      <th>max</th>\n",
       "      <td>-42.75</td>\n",
       "      <td>-14.25</td>\n",
       "      <td>16.9370</td>\n",
       "    </tr>\n",
       "  </tbody>\n",
       "</table>\n",
       "</div>"
      ],
      "text/plain": [
       "       Longitude  Latitude     VentoC\n",
       "count    8808.00   8808.00  8808.0000\n",
       "mean      -42.75    -14.25     7.9796\n",
       "std         0.00      0.00     2.7926\n",
       "min       -42.75    -14.25     0.7840\n",
       "25%       -42.75    -14.25     6.0540\n",
       "50%       -42.75    -14.25     8.1365\n",
       "75%       -42.75    -14.25     9.8685\n",
       "max       -42.75    -14.25    16.9370"
      ]
     },
     "execution_count": 13,
     "metadata": {},
     "output_type": "execute_result"
    }
   ],
   "source": [
    "df_patio.describe(include=[np.number])"
   ]
  },
  {
   "cell_type": "code",
   "execution_count": 14,
   "id": "cadb8981",
   "metadata": {},
   "outputs": [
    {
     "data": {
      "image/png": "[encoded data removed]",
      "text/plain": [
       "<Figure size 432x288 with 1 Axes>"
      ]
     },
     "metadata": {
      "needs_background": "light"
     },
     "output_type": "display_data"
    }
   ],
   "source": [
    "# Avaliar o grau de espalhamento de dados (dispersão) em torno da medida de centralidade\n",
    "for (column, _ ) in df_patio.filter(items=['VentoC']).items():\n",
    "    plt.figure()\n",
    "    df_patio.boxplot(column = column);\n",
    "    #plt.title(column)"
   ]
  },
  {
   "cell_type": "markdown",
   "id": "694cf641",
   "metadata": {},
   "source": [
    "### <span style=\"color:#D2691E\"> **H) Normalização dos dados por Mínimo e Máximo**"
   ]
  },
  {
   "cell_type": "markdown",
   "id": "16dd7e2e-0391-442c-9c91-f91cc6db5145",
   "metadata": {},
   "source": [
    "<b>Normalizar</b> é uma técnica que visa transformar todas as variáveis na mesma ordem de grandeza e tem como objetivo colocar as variáveis dentro do intervalo de 0 e 1, caso tenha resultado negativo -1 e 1.<p>\n",
    "   <i>Formula: Xnorm = (X - Xmin) / (Xmax - Xmin)</i><p>\n",
    "       \n",
    "Observação:Se a distribuição não é Gaussiana ou o desvio padrão é muito pequeno, normalizar os dados é uma escolha a ser tomada."
   ]
  },
  {
   "cell_type": "markdown",
   "id": "279faa0c-ebcd-430c-aa54-7ee8d9068453",
   "metadata": {},
   "source": [
    "#### <span style=\"color:#A0522D\">H1. Usando MinMaxScaler para normalizar cada coluna"
   ]
  },
  {
   "cell_type": "code",
   "execution_count": 15,
   "id": "1ee3a0d6",
   "metadata": {},
   "outputs": [
    {
     "data": {
      "text/html": [
       "<div>\n",
       "<style scoped>\n",
       "    .dataframe tbody tr th:only-of-type {\n",
       "        vertical-align: middle;\n",
       "    }\n",
       "\n",
       "    .dataframe tbody tr th {\n",
       "        vertical-align: top;\n",
       "    }\n",
       "\n",
       "    .dataframe thead th {\n",
       "        text-align: right;\n",
       "    }\n",
       "</style>\n",
       "<table border=\"1\" class=\"dataframe\">\n",
       "  <thead>\n",
       "    <tr style=\"text-align: right;\">\n",
       "      <th></th>\n",
       "      <th>VentoC</th>\n",
       "    </tr>\n",
       "  </thead>\n",
       "  <tbody>\n",
       "    <tr>\n",
       "      <th>0</th>\n",
       "      <td>0.5591</td>\n",
       "    </tr>\n",
       "    <tr>\n",
       "      <th>1</th>\n",
       "      <td>0.4922</td>\n",
       "    </tr>\n",
       "    <tr>\n",
       "      <th>2</th>\n",
       "      <td>0.4748</td>\n",
       "    </tr>\n",
       "    <tr>\n",
       "      <th>3</th>\n",
       "      <td>0.5197</td>\n",
       "    </tr>\n",
       "    <tr>\n",
       "      <th>4</th>\n",
       "      <td>0.5202</td>\n",
       "    </tr>\n",
       "  </tbody>\n",
       "</table>\n",
       "</div>"
      ],
      "text/plain": [
       "   VentoC\n",
       "0  0.5591\n",
       "1  0.4922\n",
       "2  0.4748\n",
       "3  0.5197\n",
       "4  0.5202"
      ]
     },
     "execution_count": 15,
     "metadata": {},
     "output_type": "execute_result"
    }
   ],
   "source": [
    "min_max_scaler = sklpp.MinMaxScaler()\n",
    "\n",
    "df_patio_filtrado = df_patio.filter(items=['Pressao','Temperatura','VentoC'])\n",
    "\n",
    "df_patio_normalizado = min_max_scaler.fit_transform(df_patio_filtrado)\n",
    "df_patio_normalizado = pd.DataFrame(df_patio_normalizado)\n",
    "\n",
    "# scikit learn retira as colunas do dataframe modificado. Colocando-as de volta\n",
    "df_patio_normalizado.columns = df_patio_filtrado.columns\n",
    "\n",
    "# visualização da normalização\n",
    "df_patio_normalizado.head()"
   ]
  },
  {
   "cell_type": "markdown",
   "id": "6cc916f1",
   "metadata": {},
   "source": [
    "#### <span style=\"color:#A0522D\">**H2.Grafico Paiplot com Valores Normalizados**"
   ]
  },
  {
   "cell_type": "code",
   "execution_count": 16,
   "id": "b738cec1",
   "metadata": {},
   "outputs": [
    {
     "data": {
      "text/plain": [
       "<seaborn.axisgrid.PairGrid at 0x16184480b48>"
      ]
     },
     "execution_count": 16,
     "metadata": {},
     "output_type": "execute_result"
    },
    {
     "data": {
      "image/png": "[encoded data removed]",
      "text/plain": [
       "<Figure size 144x144 with 2 Axes>"
      ]
     },
     "metadata": {},
     "output_type": "display_data"
    }
   ],
   "source": [
    "sns.set(style=\"ticks\", color_codes=True)\n",
    "sns.pairplot(df_patio_normalizado, diag_kind=\"kde\", kind=\"reg\", height=2.0, plot_kws={'line_kws':{'color':'#008000'}, \n",
    "                           'scatter_kws': { 'color': '#D2B48C','edgecolor': 'w','alpha': 0.5}}) "
   ]
  },
  {
   "cell_type": "markdown",
   "id": "b84a1395-fc74-42cc-b6cc-258f52d8ac7e",
   "metadata": {},
   "source": [
    "#### <span style=\"color:#A0522D\">**H2.Grafico BoxPlot com Valores Normalizados**"
   ]
  },
  {
   "cell_type": "code",
   "execution_count": 17,
   "id": "839d908c",
   "metadata": {},
   "outputs": [
    {
     "data": {
      "image/png": "[encoded data removed]",
      "text/plain": [
       "<Figure size 432x288 with 1 Axes>"
      ]
     },
     "metadata": {},
     "output_type": "display_data"
    }
   ],
   "source": [
    "for (column, _ ) in df_patio_normalizado.items():\n",
    "    plt.figure()\n",
    "    df_patio.boxplot(column = column);\n",
    "    plt.title(column)"
   ]
  },
  {
   "cell_type": "code",
   "execution_count": null,
   "id": "56713a07",
   "metadata": {},
   "outputs": [],
   "source": []
  }
 ],
 "metadata": {
  "interpreter": {
   "hash": "a08f52f091a4d2e11cf06d7f607d7822c1493a7138a1d80051ce747c2a5a0877"
  },
  "kernelspec": {
   "display_name": "Python 3",
   "language": "python",
   "name": "python3"
  },
  "language_info": {
   "codemirror_mode": {
    "name": "ipython",
    "version": 3
   },
   "file_extension": ".py",
   "mimetype": "text/x-python",
   "name": "python",
   "nbconvert_exporter": "python",
   "pygments_lexer": "ipython3",
   "version": "3.7.10"
  }
 },
 "nbformat": 4,
 "nbformat_minor": 5
}
