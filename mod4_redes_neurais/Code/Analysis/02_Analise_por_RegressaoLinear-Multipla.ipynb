{
 "cells": [
  {
   "cell_type": "code",
   "execution_count": 1,
   "id": "80ff0e0f-bb06-4ca6-9d03-13306362380f",
   "metadata": {},
   "outputs": [],
   "source": [
    "import pandas as pd\n",
    "import numpy as np\n",
    "\n",
    "import matplotlib.pyplot as plt\n",
    "import seaborn as sns\n",
    "\n",
    "from scipy import stats\n",
    "from statsmodels.formula.api import ols\n"
   ]
  },
  {
   "cell_type": "markdown",
   "id": "dd3a7668-b596-471c-9b64-893ca81f749e",
   "metadata": {},
   "source": [
    "### *A) Importar Dados de Chuvas, Pressao, Precipitação e Temperatura*"
   ]
  },
  {
   "cell_type": "code",
   "execution_count": 67,
   "id": "bbeb5ad9-8cf3-4272-bf1f-c26835ddac0a",
   "metadata": {},
   "outputs": [],
   "source": [
    "output_file = '../../Data/process/resultDados_patio1_completo.csv'\n",
    "df_patio = pd.read_csv(output_file, delimiter = \";\", encoding='utf-8' , index_col=0, parse_dates=['Data'])"
   ]
  },
  {
   "cell_type": "markdown",
   "id": "eba1e9d8-6bee-4a6b-9c3f-de3b07b1cef7",
   "metadata": {},
   "source": [
    "### *B) Countplot - Gráfico de barras - Visualizar 30 dias de eventos*"
   ]
  },
  {
   "cell_type": "code",
   "execution_count": 68,
   "id": "4f416649-dd23-41cf-90bf-89b66b66ccf1",
   "metadata": {},
   "outputs": [
    {
     "data": {
      "text/html": [
       "<div>\n",
       "<style scoped>\n",
       "    .dataframe tbody tr th:only-of-type {\n",
       "        vertical-align: middle;\n",
       "    }\n",
       "\n",
       "    .dataframe tbody tr th {\n",
       "        vertical-align: top;\n",
       "    }\n",
       "\n",
       "    .dataframe thead th {\n",
       "        text-align: right;\n",
       "    }\n",
       "</style>\n",
       "<table border=\"1\" class=\"dataframe\">\n",
       "  <thead>\n",
       "    <tr style=\"text-align: right;\">\n",
       "      <th></th>\n",
       "      <th>Magnitude_Verif</th>\n",
       "      <th>Magnitude_Observada</th>\n",
       "      <th>Data</th>\n",
       "    </tr>\n",
       "  </thead>\n",
       "  <tbody>\n",
       "    <tr>\n",
       "      <th>1</th>\n",
       "      <td>8.74</td>\n",
       "      <td>6.91</td>\n",
       "      <td>2017-01-01 01:00:00</td>\n",
       "    </tr>\n",
       "    <tr>\n",
       "      <th>2</th>\n",
       "      <td>8.45</td>\n",
       "      <td>7.27</td>\n",
       "      <td>2017-01-01 02:00:00</td>\n",
       "    </tr>\n",
       "    <tr>\n",
       "      <th>3</th>\n",
       "      <td>9.18</td>\n",
       "      <td>7.83</td>\n",
       "      <td>2017-01-01 03:00:00</td>\n",
       "    </tr>\n",
       "    <tr>\n",
       "      <th>4</th>\n",
       "      <td>9.19</td>\n",
       "      <td>7.81</td>\n",
       "      <td>2017-01-01 04:00:00</td>\n",
       "    </tr>\n",
       "    <tr>\n",
       "      <th>5</th>\n",
       "      <td>9.36</td>\n",
       "      <td>7.63</td>\n",
       "      <td>2017-01-01 05:00:00</td>\n",
       "    </tr>\n",
       "  </tbody>\n",
       "</table>\n",
       "</div>"
      ],
      "text/plain": [
       "   Magnitude_Verif  Magnitude_Observada                Data\n",
       "1             8.74                 6.91 2017-01-01 01:00:00\n",
       "2             8.45                 7.27 2017-01-01 02:00:00\n",
       "3             9.18                 7.83 2017-01-01 03:00:00\n",
       "4             9.19                 7.81 2017-01-01 04:00:00\n",
       "5             9.36                 7.63 2017-01-01 05:00:00"
      ]
     },
     "execution_count": 68,
     "metadata": {},
     "output_type": "execute_result"
    }
   ],
   "source": [
    "df_patio_grafico = df_patio.loc[1:30]\n",
    "df_patio_grafico = df_patio_grafico.drop(columns=['Direcao',\"Valor_Pressao\",\"Valor_Temp\",\"Valor_Chuva\",\"Longitude\",\"Latitude\"])\n",
    "\n",
    "cols = list(df_patio_grafico)\n",
    "cols = [cols[-1]] + cols[:-1]\n",
    "df_patio_grafico = df_patio_grafico[cols]\n",
    "\n",
    "df_patio_grafico.head(5)"
   ]
  },
  {
   "cell_type": "code",
   "execution_count": 63,
   "id": "199c9b74-751c-465d-9488-49c6f78b890b",
   "metadata": {},
   "outputs": [
    {
     "data": {
      "text/plain": [
       "<AxesSubplot:xlabel='Data', ylabel='Magnitude_Observada'>"
      ]
     },
     "execution_count": 63,
     "metadata": {},
     "output_type": "execute_result"
    },
    {
     "data": {
      "image/png": "[encoded data removed]",
      "text/plain": [
       "<Figure size 864x288 with 1 Axes>"
      ]
     },
     "metadata": {
      "needs_background": "light"
     },
     "output_type": "display_data"
    }
   ],
   "source": [
    "fig_dims = (12, 4)\n",
    "fig, ax = plt.subplots(figsize=fig_dims)\n",
    "sns.barplot(data=df_patio_grafico,x = \"Data\", y = \"Magnitude_Observada\", ax=ax)\n"
   ]
  },
  {
   "cell_type": "code",
   "execution_count": 64,
   "id": "a6cf5b47-d712-40f9-9cef-42d0f549465d",
   "metadata": {},
   "outputs": [
    {
     "data": {
      "text/plain": [
       "<AxesSubplot:xlabel='Data', ylabel='Magnitude_Verif'>"
      ]
     },
     "execution_count": 64,
     "metadata": {},
     "output_type": "execute_result"
    },
    {
     "data": {
      "image/png": "[encoded data removed]",
      "text/plain": [
       "<Figure size 864x288 with 1 Axes>"
      ]
     },
     "metadata": {
      "needs_background": "light"
     },
     "output_type": "display_data"
    }
   ],
   "source": [
    "fig_dims = (12, 4)\n",
    "fig, ax = plt.subplots(figsize=fig_dims)\n",
    "sns.barplot(data=df_patio_grafico,x = \"Data\", y = \"Magnitude_Verif\", ax=ax)"
   ]
  },
  {
   "cell_type": "markdown",
   "id": "5e2020e1-82ca-4d33-9cac-b5316e8393a6",
   "metadata": {},
   "source": [
    "### <span style=\"color:Blue\"> ***B) Regressão Linear*** "
   ]
  },
  {
   "cell_type": "markdown",
   "id": "592f1819-7f1d-47ce-87d8-151f0b365747",
   "metadata": {},
   "source": [
    "### <span style=\"color:#4169E1\">**B1. Cálculos**"
   ]
  },
  {
   "cell_type": "markdown",
   "id": "260514a7-6078-42fc-a831-38d6ea8a20eb",
   "metadata": {},
   "source": [
    "- slope = Inclinação da linha de regressão.<br>\n",
    "- intercept= Interceptação da linha de regressão.<br>\n",
    "- rvalue = Coeficiente de correlação.<br>\n",
    "- pvalue= Valor p bilateral para um teste de hipótese cuja hipótese nula é que a inclinação é zero, usando o Teste de Wald com distribuição t da estatística de teste<br>\n",
    "- stderr = (Desvio)Erro padrão da inclinação estimada (gradiente), considerando a normalidade residual.<br>"
   ]
  },
  {
   "cell_type": "code",
   "execution_count": 7,
   "id": "fe16c682-e82d-45ba-852a-a88a91ef0ff5",
   "metadata": {},
   "outputs": [],
   "source": [
    "x = df_patio['Magnitude_Observada'] \n",
    "y = df_patio['Magnitude_Verif']\n",
    "a, b, r, p, std_err = stats.linregress(x,y)"
   ]
  },
  {
   "cell_type": "code",
   "execution_count": 8,
   "id": "1dc7a988-40b3-4f20-8e04-dfe77c6db082",
   "metadata": {},
   "outputs": [
    {
     "data": {
      "image/png": "[encoded data removed]",
      "text/plain": [
       "<Figure size 432x288 with 1 Axes>"
      ]
     },
     "metadata": {
      "needs_background": "light"
     },
     "output_type": "display_data"
    }
   ],
   "source": [
    "def estimate_y(x):\n",
    "    return a * x + b\n",
    "\n",
    "df_patio['y_Magnitude_Verif'] = df_patio['Magnitude_Observada'].apply(estimate_y)  \n",
    "# A partir da coluna idade, será criado uma nova coluna chamada y_estimado\n",
    "\n",
    "plt.figure()\n",
    "plt.plot(df_patio['Magnitude_Observada'], df_patio['y_Magnitude_Verif'])\n",
    "plt.scatter(df_patio['Magnitude_Observada'], df_patio['Magnitude_Verif'], color='#D2B48C')\n",
    "plt.show()"
   ]
  },
  {
   "cell_type": "markdown",
   "id": "b27718ca-af26-43b3-9e5b-a8c0fed6491b",
   "metadata": {},
   "source": [
    "### <span style=\"color:#4169E1\">**B2. Coeficiente de Determinação**"
   ]
  },
  {
   "cell_type": "code",
   "execution_count": 9,
   "id": "ad4ba480-78af-40ba-8994-429716bf1216",
   "metadata": {},
   "outputs": [
    {
     "name": "stdout",
     "output_type": "stream",
     "text": [
      "O acerto da Previsão é de: 0.4633678279690343 %\n"
     ]
    }
   ],
   "source": [
    "coef_determinacao = r**2\n",
    "\n",
    "print(\"O acerto da Previsão é de: \" + str(coef_determinacao) + \" %\") # Proximo de 1 é uma boa estimativa"
   ]
  },
  {
   "cell_type": "markdown",
   "id": "ca376920-8cb4-4a55-b039-0ba0c611f702",
   "metadata": {},
   "source": [
    "### <span style=\"color:#8B008B\"> ***B) Regressão Linear Multipla*** "
   ]
  },
  {
   "cell_type": "code",
   "execution_count": 10,
   "id": "9a7adcf5-78a6-455e-a2f8-b14584c61070",
   "metadata": {},
   "outputs": [
    {
     "data": {
      "text/html": [
       "<table class=\"simpletable\">\n",
       "<caption>OLS Regression Results</caption>\n",
       "<tr>\n",
       "  <th>Dep. Variable:</th>     <td>Magnitude_Verif</td> <th>  R-squared:         </th> <td>   0.487</td> \n",
       "</tr>\n",
       "<tr>\n",
       "  <th>Model:</th>                   <td>OLS</td>       <th>  Adj. R-squared:    </th> <td>   0.487</td> \n",
       "</tr>\n",
       "<tr>\n",
       "  <th>Method:</th>             <td>Least Squares</td>  <th>  F-statistic:       </th> <td>   2771.</td> \n",
       "</tr>\n",
       "<tr>\n",
       "  <th>Date:</th>             <td>Sun, 27 Jun 2021</td> <th>  Prob (F-statistic):</th>  <td>  0.00</td>  \n",
       "</tr>\n",
       "<tr>\n",
       "  <th>Time:</th>                 <td>23:55:44</td>     <th>  Log-Likelihood:    </th> <td> -18482.</td> \n",
       "</tr>\n",
       "<tr>\n",
       "  <th>No. Observations:</th>      <td>  8760</td>      <th>  AIC:               </th> <td>3.697e+04</td>\n",
       "</tr>\n",
       "<tr>\n",
       "  <th>Df Residuals:</th>          <td>  8756</td>      <th>  BIC:               </th> <td>3.700e+04</td>\n",
       "</tr>\n",
       "<tr>\n",
       "  <th>Df Model:</th>              <td>     3</td>      <th>                     </th>     <td> </td>    \n",
       "</tr>\n",
       "<tr>\n",
       "  <th>Covariance Type:</th>      <td>nonrobust</td>    <th>                     </th>     <td> </td>    \n",
       "</tr>\n",
       "</table>\n",
       "<table class=\"simpletable\">\n",
       "<tr>\n",
       "           <td></td>              <th>coef</th>     <th>std err</th>      <th>t</th>      <th>P>|t|</th>  <th>[0.025</th>    <th>0.975]</th>  \n",
       "</tr>\n",
       "<tr>\n",
       "  <th>Intercept</th>           <td> -121.0789</td> <td>    7.678</td> <td>  -15.769</td> <td> 0.000</td> <td> -136.130</td> <td> -106.028</td>\n",
       "</tr>\n",
       "<tr>\n",
       "  <th>Magnitude_Observada</th> <td>    0.8656</td> <td>    0.012</td> <td>   69.530</td> <td> 0.000</td> <td>    0.841</td> <td>    0.890</td>\n",
       "</tr>\n",
       "<tr>\n",
       "  <th>Valor_Pressao</th>       <td>    0.1196</td> <td>    0.008</td> <td>   15.882</td> <td> 0.000</td> <td>    0.105</td> <td>    0.134</td>\n",
       "</tr>\n",
       "<tr>\n",
       "  <th>Valor_Temp</th>          <td>    0.1067</td> <td>    0.006</td> <td>   17.555</td> <td> 0.000</td> <td>    0.095</td> <td>    0.119</td>\n",
       "</tr>\n",
       "</table>\n",
       "<table class=\"simpletable\">\n",
       "<tr>\n",
       "  <th>Omnibus:</th>       <td>225.169</td> <th>  Durbin-Watson:     </th> <td>   0.261</td>\n",
       "</tr>\n",
       "<tr>\n",
       "  <th>Prob(Omnibus):</th> <td> 0.000</td>  <th>  Jarque-Bera (JB):  </th> <td> 242.657</td>\n",
       "</tr>\n",
       "<tr>\n",
       "  <th>Skew:</th>          <td> 0.397</td>  <th>  Prob(JB):          </th> <td>2.03e-53</td>\n",
       "</tr>\n",
       "<tr>\n",
       "  <th>Kurtosis:</th>      <td> 3.187</td>  <th>  Cond. No.          </th> <td>3.66e+05</td>\n",
       "</tr>\n",
       "</table><br/><br/>Notes:<br/>[1] Standard Errors assume that the covariance matrix of the errors is correctly specified.<br/>[2] The condition number is large, 3.66e+05. This might indicate that there are<br/>strong multicollinearity or other numerical problems."
      ],
      "text/plain": [
       "<class 'statsmodels.iolib.summary.Summary'>\n",
       "\"\"\"\n",
       "                            OLS Regression Results                            \n",
       "==============================================================================\n",
       "Dep. Variable:        Magnitude_Verif   R-squared:                       0.487\n",
       "Model:                            OLS   Adj. R-squared:                  0.487\n",
       "Method:                 Least Squares   F-statistic:                     2771.\n",
       "Date:                Sun, 27 Jun 2021   Prob (F-statistic):               0.00\n",
       "Time:                        23:55:44   Log-Likelihood:                -18482.\n",
       "No. Observations:                8760   AIC:                         3.697e+04\n",
       "Df Residuals:                    8756   BIC:                         3.700e+04\n",
       "Df Model:                           3                                         \n",
       "Covariance Type:            nonrobust                                         \n",
       "=======================================================================================\n",
       "                          coef    std err          t      P>|t|      [0.025      0.975]\n",
       "---------------------------------------------------------------------------------------\n",
       "Intercept            -121.0789      7.678    -15.769      0.000    -136.130    -106.028\n",
       "Magnitude_Observada     0.8656      0.012     69.530      0.000       0.841       0.890\n",
       "Valor_Pressao           0.1196      0.008     15.882      0.000       0.105       0.134\n",
       "Valor_Temp              0.1067      0.006     17.555      0.000       0.095       0.119\n",
       "==============================================================================\n",
       "Omnibus:                      225.169   Durbin-Watson:                   0.261\n",
       "Prob(Omnibus):                  0.000   Jarque-Bera (JB):              242.657\n",
       "Skew:                           0.397   Prob(JB):                     2.03e-53\n",
       "Kurtosis:                       3.187   Cond. No.                     3.66e+05\n",
       "==============================================================================\n",
       "\n",
       "Notes:\n",
       "[1] Standard Errors assume that the covariance matrix of the errors is correctly specified.\n",
       "[2] The condition number is large, 3.66e+05. This might indicate that there are\n",
       "strong multicollinearity or other numerical problems.\n",
       "\"\"\""
      ]
     },
     "execution_count": 10,
     "metadata": {},
     "output_type": "execute_result"
    }
   ],
   "source": [
    "# Método: Ordinary Least Square\n",
    "# Estimador escolhido: R2\n",
    "\n",
    "model = ols('Magnitude_Verif ~ Magnitude_Observada + Valor_Pressao + Valor_Temp', data = df_patio)\n",
    "response = model.fit()\n",
    "response.summary()"
   ]
  },
  {
   "cell_type": "code",
   "execution_count": null,
   "id": "add251f6-df84-4bed-b2c5-fea8f3735738",
   "metadata": {},
   "outputs": [],
   "source": []
  },
  {
   "cell_type": "code",
   "execution_count": null,
   "id": "742e2c9e-6074-41cd-b11e-d7d184cd7306",
   "metadata": {},
   "outputs": [],
   "source": []
  }
 ],
 "metadata": {
  "kernelspec": {
   "display_name": "Python 3",
   "language": "python",
   "name": "python3"
  },
  "language_info": {
   "codemirror_mode": {
    "name": "ipython",
    "version": 3
   },
   "file_extension": ".py",
   "mimetype": "text/x-python",
   "name": "python",
   "nbconvert_exporter": "python",
   "pygments_lexer": "ipython3",
   "version": "3.7.10"
  }
 },
 "nbformat": 4,
 "nbformat_minor": 5
}
