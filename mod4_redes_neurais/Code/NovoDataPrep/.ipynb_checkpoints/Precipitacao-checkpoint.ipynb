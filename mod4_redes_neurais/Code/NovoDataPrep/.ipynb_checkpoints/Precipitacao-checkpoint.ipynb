{
 "cells": [
  {
   "cell_type": "code",
   "execution_count": 99,
   "id": "eb7d0d19-ccda-4e67-b305-088b8bbf3c85",
   "metadata": {},
   "outputs": [],
   "source": [
    "import numpy as np\n",
    "import pandas as pd\n",
    "from datetime import datetime,date\n",
    "\n",
    "import missingno as msno\n",
    "import snappy\n",
    "# import warnings\n",
    "# warnings.filterwarnings(\"ignore\")"
   ]
  },
  {
   "cell_type": "markdown",
   "id": "d4de6591-f4da-4527-8263-f74933fa9424",
   "metadata": {},
   "source": [
    "### **A) Coleta dos Dados de Precipitação (chuva)**"
   ]
  },
  {
   "cell_type": "code",
   "execution_count": 100,
   "id": "ce4ae9a9-fde5-4f5f-8cd6-1dfbbaa3f0c5",
   "metadata": {},
   "outputs": [],
   "source": [
    "source_file = '../../Data/raw/prec/precipitacao_patio1.txt'\n",
    "\n",
    "output_file = '../../Data/process/result_precipitacao_patio1.csv'\n",
    "save_file =  '../../Data/process/result_precipitacao_patio1.parquet'"
   ]
  },
  {
   "cell_type": "code",
   "execution_count": 101,
   "id": "f3ba86b3-1f9e-4435-8ddc-c3fb18fb3940",
   "metadata": {},
   "outputs": [],
   "source": [
    "df_precipitacao = pd.read_csv(source_file, delimiter = r\"\\s+\", header=None)"
   ]
  },
  {
   "cell_type": "markdown",
   "id": "7e7cf551-72c8-477b-8984-53dd2ca27235",
   "metadata": {},
   "source": [
    "#### <span style=\"color:#DC143C\">**A1. Formato dos Dados**"
   ]
  },
  {
   "cell_type": "code",
   "execution_count": 102,
   "id": "05e5dc6d-2f12-4267-8f14-bd7028017935",
   "metadata": {},
   "outputs": [
    {
     "data": {
      "text/plain": [
       "(24, 746)"
      ]
     },
     "execution_count": 102,
     "metadata": {},
     "output_type": "execute_result"
    }
   ],
   "source": [
    "df_precipitacao.shape # formato da matriz"
   ]
  },
  {
   "cell_type": "markdown",
   "id": "c9bb1eb0-0301-4b76-9e66-2b40f4849e22",
   "metadata": {},
   "source": [
    "### **B) Sobre os Dados**"
   ]
  },
  {
   "cell_type": "markdown",
   "id": "9d24ab44-4f41-4132-84db-1977047f5cad",
   "metadata": {},
   "source": [
    "#### <span style=\"color:#DC143C\">**B1. Visao do Dataframe**"
   ]
  },
  {
   "cell_type": "code",
   "execution_count": 103,
   "id": "264c2fda-4d8e-4114-8641-6fb08f2df705",
   "metadata": {},
   "outputs": [
    {
     "data": {
      "text/html": [
       "<div>\n",
       "<style scoped>\n",
       "    .dataframe tbody tr th:only-of-type {\n",
       "        vertical-align: middle;\n",
       "    }\n",
       "\n",
       "    .dataframe tbody tr th {\n",
       "        vertical-align: top;\n",
       "    }\n",
       "\n",
       "    .dataframe thead th {\n",
       "        text-align: right;\n",
       "    }\n",
       "</style>\n",
       "<table border=\"1\" class=\"dataframe\">\n",
       "  <thead>\n",
       "    <tr style=\"text-align: right;\">\n",
       "      <th></th>\n",
       "      <th>0</th>\n",
       "      <th>1</th>\n",
       "      <th>2</th>\n",
       "      <th>3</th>\n",
       "      <th>4</th>\n",
       "      <th>5</th>\n",
       "      <th>6</th>\n",
       "      <th>7</th>\n",
       "      <th>8</th>\n",
       "      <th>9</th>\n",
       "      <th>...</th>\n",
       "      <th>736</th>\n",
       "      <th>737</th>\n",
       "      <th>738</th>\n",
       "      <th>739</th>\n",
       "      <th>740</th>\n",
       "      <th>741</th>\n",
       "      <th>742</th>\n",
       "      <th>743</th>\n",
       "      <th>744</th>\n",
       "      <th>745</th>\n",
       "    </tr>\n",
       "  </thead>\n",
       "  <tbody>\n",
       "    <tr>\n",
       "      <th>0</th>\n",
       "      <td>-45.75</td>\n",
       "      <td>-14.25</td>\n",
       "      <td>0.0</td>\n",
       "      <td>0.0</td>\n",
       "      <td>0.0</td>\n",
       "      <td>0.0</td>\n",
       "      <td>0.0</td>\n",
       "      <td>0.0</td>\n",
       "      <td>0.0</td>\n",
       "      <td>0.0</td>\n",
       "      <td>...</td>\n",
       "      <td>0.0</td>\n",
       "      <td>0.0</td>\n",
       "      <td>0.0</td>\n",
       "      <td>0.0</td>\n",
       "      <td>0.0</td>\n",
       "      <td>0.0</td>\n",
       "      <td>0.0</td>\n",
       "      <td>0.0</td>\n",
       "      <td>0.0</td>\n",
       "      <td>0.0</td>\n",
       "    </tr>\n",
       "    <tr>\n",
       "      <th>1</th>\n",
       "      <td>-45.50</td>\n",
       "      <td>-14.25</td>\n",
       "      <td>0.0</td>\n",
       "      <td>0.0</td>\n",
       "      <td>0.0</td>\n",
       "      <td>0.0</td>\n",
       "      <td>0.0</td>\n",
       "      <td>0.0</td>\n",
       "      <td>0.0</td>\n",
       "      <td>0.0</td>\n",
       "      <td>...</td>\n",
       "      <td>0.0</td>\n",
       "      <td>0.0</td>\n",
       "      <td>0.0</td>\n",
       "      <td>0.0</td>\n",
       "      <td>0.0</td>\n",
       "      <td>0.0</td>\n",
       "      <td>0.0</td>\n",
       "      <td>0.0</td>\n",
       "      <td>0.0</td>\n",
       "      <td>0.0</td>\n",
       "    </tr>\n",
       "  </tbody>\n",
       "</table>\n",
       "<p>2 rows × 746 columns</p>\n",
       "</div>"
      ],
      "text/plain": [
       "     0      1    2    3    4    5    6    7    8    9    ...  736  737  738  \\\n",
       "0 -45.75 -14.25  0.0  0.0  0.0  0.0  0.0  0.0  0.0  0.0  ...  0.0  0.0  0.0   \n",
       "1 -45.50 -14.25  0.0  0.0  0.0  0.0  0.0  0.0  0.0  0.0  ...  0.0  0.0  0.0   \n",
       "\n",
       "   739  740  741  742  743  744  745  \n",
       "0  0.0  0.0  0.0  0.0  0.0  0.0  0.0  \n",
       "1  0.0  0.0  0.0  0.0  0.0  0.0  0.0  \n",
       "\n",
       "[2 rows x 746 columns]"
      ]
     },
     "execution_count": 103,
     "metadata": {},
     "output_type": "execute_result"
    }
   ],
   "source": [
    "df_precipitacao.head(2)  # visão de 5 linhas"
   ]
  },
  {
   "cell_type": "markdown",
   "id": "b087d67d-1f53-42ea-980c-ab126f9a15c1",
   "metadata": {},
   "source": [
    "#### <span style=\"color:#DC143C\">**B2. Nome das Colunas do Cabeçalho**"
   ]
  },
  {
   "cell_type": "code",
   "execution_count": 104,
   "id": "6e389d77-03fb-4563-8ebc-013e26135ae8",
   "metadata": {},
   "outputs": [
    {
     "data": {
      "text/plain": [
       "Int64Index([  0,   1,   2,   3,   4,   5,   6,   7,   8,   9,\n",
       "            ...\n",
       "            736, 737, 738, 739, 740, 741, 742, 743, 744, 745],\n",
       "           dtype='int64', length=746)"
      ]
     },
     "execution_count": 104,
     "metadata": {},
     "output_type": "execute_result"
    }
   ],
   "source": [
    "# Lista o nome das Colunas\n",
    "df_precipitacao.columns "
   ]
  },
  {
   "cell_type": "markdown",
   "id": "670b9a20-afd0-479c-837a-d9695e24184d",
   "metadata": {},
   "source": [
    "#### <span style=\"color:#DC143C\">**B3. Conteúdo de 1 Linha**"
   ]
  },
  {
   "cell_type": "code",
   "execution_count": 105,
   "id": "52f0dd86-e2d6-4cdd-9617-62fdcd89f03f",
   "metadata": {},
   "outputs": [
    {
     "data": {
      "text/plain": [
       "array([[-4.575e+01, -1.425e+01,  0.000e+00,  0.000e+00,  0.000e+00,\n",
       "         0.000e+00,  0.000e+00,  0.000e+00,  0.000e+00,  0.000e+00,\n",
       "         0.000e+00,  0.000e+00,  0.000e+00,  0.000e+00,  0.000e+00,\n",
       "         0.000e+00,  0.000e+00,  0.000e+00,  0.000e+00,  0.000e+00,\n",
       "         0.000e+00,  0.000e+00,  0.000e+00,  0.000e+00,  0.000e+00,\n",
       "         0.000e+00,  0.000e+00,  0.000e+00,  0.000e+00,  0.000e+00,\n",
       "         0.000e+00,  0.000e+00,  0.000e+00,  0.000e+00,  0.000e+00,\n",
       "         0.000e+00,  0.000e+00,  0.000e+00,  0.000e+00,  2.000e-02,\n",
       "         0.000e+00,  0.000e+00,  0.000e+00,  1.000e-02,  0.000e+00,\n",
       "         0.000e+00,  0.000e+00,  2.000e-02,  0.000e+00,  0.000e+00,\n",
       "         0.000e+00,  0.000e+00,  0.000e+00,  0.000e+00,  0.000e+00,\n",
       "         0.000e+00,  0.000e+00,  0.000e+00,  0.000e+00,  0.000e+00,\n",
       "         0.000e+00,  0.000e+00,  2.000e-02,  3.000e-02,  0.000e+00,\n",
       "         0.000e+00,  0.000e+00,  0.000e+00,  0.000e+00,  0.000e+00,\n",
       "         0.000e+00,  0.000e+00,  0.000e+00,  2.000e-02,  1.000e-02,\n",
       "         0.000e+00,  0.000e+00,  0.000e+00,  0.000e+00,  0.000e+00,\n",
       "         0.000e+00,  0.000e+00,  0.000e+00,  0.000e+00,  0.000e+00,\n",
       "         0.000e+00,  2.000e-02,  4.000e-02,  7.000e-02,  2.000e-02,\n",
       "         2.000e-02,  2.000e-02,  2.000e-02,  1.780e+00,  5.400e-01,\n",
       "         6.800e-01,  5.000e-02,  0.000e+00,  0.000e+00,  0.000e+00,\n",
       "         0.000e+00,  0.000e+00,  0.000e+00,  0.000e+00,  0.000e+00,\n",
       "         0.000e+00,  0.000e+00,  0.000e+00,  0.000e+00,  0.000e+00,\n",
       "         0.000e+00,  0.000e+00,  0.000e+00,  0.000e+00,  0.000e+00,\n",
       "         0.000e+00,  0.000e+00,  0.000e+00,  0.000e+00,  0.000e+00,\n",
       "         0.000e+00,  0.000e+00,  0.000e+00,  0.000e+00,  0.000e+00,\n",
       "         0.000e+00,  0.000e+00,  0.000e+00,  0.000e+00,  0.000e+00,\n",
       "         0.000e+00,  0.000e+00,  0.000e+00,  0.000e+00,  0.000e+00,\n",
       "         0.000e+00,  0.000e+00,  0.000e+00,  0.000e+00,  0.000e+00,\n",
       "         0.000e+00,  0.000e+00,  0.000e+00,  0.000e+00,  0.000e+00,\n",
       "         0.000e+00,  0.000e+00,  0.000e+00,  0.000e+00,  0.000e+00,\n",
       "         0.000e+00,  0.000e+00,  0.000e+00,  0.000e+00,  0.000e+00,\n",
       "         0.000e+00,  0.000e+00,  0.000e+00,  0.000e+00,  0.000e+00,\n",
       "         0.000e+00,  0.000e+00,  0.000e+00,  0.000e+00,  0.000e+00,\n",
       "         0.000e+00,  0.000e+00,  0.000e+00,  0.000e+00,  0.000e+00,\n",
       "         0.000e+00,  0.000e+00,  0.000e+00,  0.000e+00,  0.000e+00,\n",
       "         0.000e+00,  0.000e+00,  0.000e+00,  0.000e+00,  0.000e+00,\n",
       "         0.000e+00,  0.000e+00,  0.000e+00,  0.000e+00,  0.000e+00,\n",
       "         0.000e+00,  0.000e+00,  0.000e+00,  0.000e+00,  0.000e+00,\n",
       "         0.000e+00,  0.000e+00,  0.000e+00,  0.000e+00,  0.000e+00,\n",
       "         0.000e+00,  0.000e+00,  0.000e+00,  0.000e+00,  0.000e+00,\n",
       "         0.000e+00,  0.000e+00,  0.000e+00,  0.000e+00,  0.000e+00,\n",
       "         0.000e+00,  0.000e+00,  0.000e+00,  0.000e+00,  0.000e+00,\n",
       "         0.000e+00,  0.000e+00,  0.000e+00,  0.000e+00,  0.000e+00,\n",
       "         0.000e+00,  0.000e+00,  0.000e+00,  0.000e+00,  0.000e+00,\n",
       "         0.000e+00,  0.000e+00,  0.000e+00,  0.000e+00,  0.000e+00,\n",
       "         0.000e+00,  0.000e+00,  0.000e+00,  0.000e+00,  0.000e+00,\n",
       "         0.000e+00,  3.000e-02,  1.000e-02,  0.000e+00,  0.000e+00,\n",
       "         0.000e+00,  0.000e+00,  0.000e+00,  0.000e+00,  0.000e+00,\n",
       "         0.000e+00,  0.000e+00,  0.000e+00,  0.000e+00,  0.000e+00,\n",
       "         0.000e+00,  0.000e+00,  0.000e+00,  0.000e+00,  0.000e+00,\n",
       "         0.000e+00,  0.000e+00,  0.000e+00,  0.000e+00,  0.000e+00,\n",
       "         1.000e-02,  3.000e-02,  0.000e+00,  0.000e+00,  0.000e+00,\n",
       "         0.000e+00,  1.510e+00,  5.300e-01,  0.000e+00,  0.000e+00,\n",
       "         0.000e+00,  0.000e+00,  0.000e+00,  0.000e+00,  0.000e+00,\n",
       "         0.000e+00,  0.000e+00,  0.000e+00,  0.000e+00,  0.000e+00,\n",
       "         0.000e+00,  0.000e+00,  0.000e+00,  0.000e+00,  2.000e-02,\n",
       "         1.000e-02,  3.000e-02,  3.000e-02,  2.600e-01,  1.570e+00,\n",
       "         1.370e+00,  3.500e-01,  0.000e+00,  0.000e+00,  0.000e+00,\n",
       "         0.000e+00,  0.000e+00,  0.000e+00,  0.000e+00,  2.300e-01,\n",
       "         1.250e+00,  1.180e+00,  4.000e-02,  1.000e-02,  1.000e-02,\n",
       "         0.000e+00,  0.000e+00,  0.000e+00,  5.000e-02,  8.000e-02,\n",
       "         1.300e-01,  1.400e-01,  1.200e-01,  1.200e-01,  8.000e-02,\n",
       "         9.900e-01,  2.220e+00,  8.900e-01,  3.000e-02,  1.000e-02,\n",
       "         0.000e+00,  0.000e+00,  0.000e+00,  0.000e+00,  0.000e+00,\n",
       "         0.000e+00,  1.300e-01,  1.480e+00,  2.340e+00,  3.000e-01,\n",
       "         8.000e-02,  4.000e-02,  1.100e-01,  2.600e-01,  2.000e-01,\n",
       "         1.100e-01,  1.400e-01,  1.390e+00,  3.300e-01,  6.980e+00,\n",
       "         2.040e+00,  3.600e-01,  8.000e-02,  4.000e-02,  0.000e+00,\n",
       "         0.000e+00,  2.000e-02,  5.000e-02,  1.300e-01,  5.800e-01,\n",
       "         0.000e+00,  0.000e+00,  0.000e+00,  0.000e+00,  1.000e-02,\n",
       "         6.000e-02,  6.000e-02,  7.000e-02,  7.000e-02,  6.000e-02,\n",
       "         4.000e-02,  6.600e-01,  1.910e+00,  1.900e-01,  0.000e+00,\n",
       "         0.000e+00,  0.000e+00,  0.000e+00,  0.000e+00,  0.000e+00,\n",
       "         0.000e+00,  0.000e+00,  0.000e+00,  5.700e-01,  1.120e+00,\n",
       "         5.000e-01,  5.000e-02,  5.000e-02,  2.300e-01,  2.300e-01,\n",
       "         8.000e-02,  9.000e-02,  2.300e-01,  3.000e-01,  2.700e-01,\n",
       "         2.100e-01,  6.400e-01,  2.400e-01,  3.000e+00,  1.610e+00,\n",
       "         0.000e+00,  0.000e+00,  0.000e+00,  9.000e-02,  2.900e-01,\n",
       "         1.000e-02,  0.000e+00,  0.000e+00,  0.000e+00,  0.000e+00,\n",
       "         0.000e+00,  3.000e-02,  1.600e-01,  9.000e-02,  4.000e-02,\n",
       "         3.000e-02,  7.000e-02,  2.000e-02,  1.000e-02,  1.000e-02,\n",
       "         1.000e-01,  7.000e-02,  1.200e-01,  0.000e+00,  0.000e+00,\n",
       "         0.000e+00,  0.000e+00,  0.000e+00,  0.000e+00,  0.000e+00,\n",
       "         0.000e+00,  0.000e+00,  0.000e+00,  0.000e+00,  0.000e+00,\n",
       "         0.000e+00,  0.000e+00,  0.000e+00,  0.000e+00,  0.000e+00,\n",
       "         0.000e+00,  1.000e-02,  1.000e-02,  1.000e-02,  0.000e+00,\n",
       "         0.000e+00,  0.000e+00,  0.000e+00,  0.000e+00,  0.000e+00,\n",
       "         0.000e+00,  0.000e+00,  0.000e+00,  0.000e+00,  0.000e+00,\n",
       "         0.000e+00,  0.000e+00,  0.000e+00,  0.000e+00,  0.000e+00,\n",
       "         0.000e+00,  0.000e+00,  5.000e-02,  3.000e-02,  3.000e-02,\n",
       "         2.000e-02,  3.000e-02,  1.000e-02,  1.000e-02,  2.000e-02,\n",
       "         2.000e-01,  0.000e+00,  0.000e+00,  0.000e+00,  0.000e+00,\n",
       "         0.000e+00,  0.000e+00,  0.000e+00,  0.000e+00,  0.000e+00,\n",
       "         0.000e+00,  0.000e+00,  0.000e+00,  0.000e+00,  0.000e+00,\n",
       "         0.000e+00,  0.000e+00,  1.000e-02,  6.000e-02,  1.200e-01,\n",
       "         9.000e-02,  9.000e-02,  2.000e-02,  2.000e-02,  0.000e+00,\n",
       "         0.000e+00,  0.000e+00,  0.000e+00,  0.000e+00,  0.000e+00,\n",
       "         0.000e+00,  0.000e+00,  0.000e+00,  0.000e+00,  0.000e+00,\n",
       "         0.000e+00,  0.000e+00,  0.000e+00,  0.000e+00,  0.000e+00,\n",
       "         0.000e+00,  0.000e+00,  0.000e+00,  1.000e-02,  0.000e+00,\n",
       "         0.000e+00,  0.000e+00,  0.000e+00,  0.000e+00,  0.000e+00,\n",
       "         0.000e+00,  0.000e+00,  0.000e+00,  0.000e+00,  0.000e+00,\n",
       "         0.000e+00,  0.000e+00,  0.000e+00,  0.000e+00,  0.000e+00,\n",
       "         0.000e+00,  0.000e+00,  0.000e+00,  0.000e+00,  0.000e+00,\n",
       "         0.000e+00,  0.000e+00,  0.000e+00,  0.000e+00,  0.000e+00,\n",
       "         0.000e+00,  0.000e+00,  0.000e+00,  0.000e+00,  0.000e+00,\n",
       "         0.000e+00,  0.000e+00,  0.000e+00,  1.000e-02,  1.000e-02,\n",
       "         1.000e-02,  0.000e+00,  0.000e+00,  0.000e+00,  0.000e+00,\n",
       "         0.000e+00,  0.000e+00,  4.000e-02,  9.000e-02,  1.000e-02,\n",
       "         1.000e-02,  3.000e-02,  1.000e-02,  7.000e-02,  4.000e-02,\n",
       "         2.090e+00,  2.420e+00,  5.000e-02,  1.000e-02,  1.000e-02,\n",
       "         0.000e+00,  1.100e-01,  2.200e-01,  1.140e+00,  1.140e+00,\n",
       "         3.800e-01,  7.400e-01,  4.900e-01,  1.600e-01,  7.000e-02,\n",
       "         6.000e-02,  9.000e-02,  3.200e-01,  3.600e-01,  8.900e-01,\n",
       "         5.020e+00,  4.500e-01,  1.100e-01,  6.200e-01,  5.900e-01,\n",
       "         0.000e+00,  0.000e+00,  0.000e+00,  0.000e+00,  0.000e+00,\n",
       "         0.000e+00,  0.000e+00,  0.000e+00,  0.000e+00,  0.000e+00,\n",
       "         0.000e+00,  0.000e+00,  0.000e+00,  0.000e+00,  0.000e+00,\n",
       "         5.000e-02,  1.900e-01,  5.600e-01,  3.700e-01,  3.100e-01,\n",
       "         2.800e-01,  7.000e-02,  2.000e-02,  4.000e-02,  1.100e-01,\n",
       "         0.000e+00,  3.000e-02,  1.100e-01,  8.000e-02,  5.000e-02,\n",
       "         1.000e-02,  0.000e+00,  0.000e+00,  0.000e+00,  0.000e+00,\n",
       "         0.000e+00,  0.000e+00,  0.000e+00,  3.000e-02,  3.000e-02,\n",
       "         5.000e-02,  1.200e-01,  6.000e-02,  6.000e-02,  7.000e-02,\n",
       "         2.000e-02,  8.000e-02,  1.000e-02,  7.000e-02,  3.000e-02,\n",
       "         0.000e+00,  0.000e+00,  0.000e+00,  0.000e+00,  0.000e+00,\n",
       "         0.000e+00,  0.000e+00,  0.000e+00,  0.000e+00,  0.000e+00,\n",
       "         0.000e+00,  1.200e-01,  2.200e-01,  1.000e-01,  4.000e-02,\n",
       "         4.000e-02,  3.500e-01,  1.000e-01,  4.000e-02,  3.000e-02,\n",
       "         3.000e-02,  4.200e-01,  7.200e-01,  3.100e-01,  0.000e+00,\n",
       "         0.000e+00,  0.000e+00,  0.000e+00,  0.000e+00,  0.000e+00,\n",
       "         0.000e+00,  0.000e+00,  0.000e+00,  0.000e+00,  0.000e+00,\n",
       "         0.000e+00,  0.000e+00,  0.000e+00,  0.000e+00,  0.000e+00,\n",
       "         0.000e+00,  0.000e+00,  0.000e+00,  0.000e+00,  0.000e+00,\n",
       "         0.000e+00,  0.000e+00,  0.000e+00,  0.000e+00,  0.000e+00,\n",
       "         0.000e+00,  0.000e+00,  0.000e+00,  0.000e+00,  0.000e+00,\n",
       "         0.000e+00,  0.000e+00,  0.000e+00,  0.000e+00,  0.000e+00,\n",
       "         0.000e+00,  0.000e+00,  0.000e+00,  0.000e+00,  0.000e+00,\n",
       "         0.000e+00,  0.000e+00,  0.000e+00,  0.000e+00,  0.000e+00,\n",
       "         0.000e+00,  0.000e+00,  0.000e+00,  0.000e+00,  0.000e+00,\n",
       "         0.000e+00,  0.000e+00,  0.000e+00,  0.000e+00,  0.000e+00,\n",
       "         0.000e+00,  0.000e+00,  0.000e+00,  0.000e+00,  0.000e+00,\n",
       "         0.000e+00,  0.000e+00,  1.000e-02,  1.000e-02,  4.000e-02,\n",
       "         1.000e-02,  2.000e-02,  0.000e+00,  0.000e+00,  0.000e+00,\n",
       "         0.000e+00,  0.000e+00,  0.000e+00,  0.000e+00,  0.000e+00,\n",
       "         0.000e+00,  0.000e+00,  0.000e+00,  0.000e+00,  0.000e+00,\n",
       "         0.000e+00,  0.000e+00,  0.000e+00,  0.000e+00,  0.000e+00,\n",
       "         0.000e+00,  0.000e+00,  0.000e+00,  0.000e+00,  0.000e+00,\n",
       "         0.000e+00,  0.000e+00,  0.000e+00,  0.000e+00,  0.000e+00,\n",
       "         0.000e+00]])"
      ]
     },
     "execution_count": 105,
     "metadata": {},
     "output_type": "execute_result"
    }
   ],
   "source": [
    "# df_precipitacao.values[0:1]"
   ]
  },
  {
   "cell_type": "markdown",
   "id": "2e7f15a1-c757-4534-9dad-38f273a11eb1",
   "metadata": {},
   "source": [
    "#### <span style=\"color:#DC143C\">**B4. Informações Sobre o Dataframe**"
   ]
  },
  {
   "cell_type": "code",
   "execution_count": 106,
   "id": "ab5785db-5827-44fd-964a-fdf9a253d610",
   "metadata": {},
   "outputs": [
    {
     "name": "stdout",
     "output_type": "stream",
     "text": [
      "<class 'pandas.core.frame.DataFrame'>\n",
      "RangeIndex: 24 entries, 0 to 23\n",
      "Columns: 746 entries, 0 to 745\n",
      "dtypes: float64(746)\n",
      "memory usage: 140.0 KB\n"
     ]
    }
   ],
   "source": [
    "df_precipitacao.info()"
   ]
  },
  {
   "cell_type": "code",
   "execution_count": 107,
   "id": "f257e318-e632-4fdc-9ea9-508b30c10d14",
   "metadata": {},
   "outputs": [
    {
     "data": {
      "text/html": [
       "<div>\n",
       "<style scoped>\n",
       "    .dataframe tbody tr th:only-of-type {\n",
       "        vertical-align: middle;\n",
       "    }\n",
       "\n",
       "    .dataframe tbody tr th {\n",
       "        vertical-align: top;\n",
       "    }\n",
       "\n",
       "    .dataframe thead th {\n",
       "        text-align: right;\n",
       "    }\n",
       "</style>\n",
       "<table border=\"1\" class=\"dataframe\">\n",
       "  <thead>\n",
       "    <tr style=\"text-align: right;\">\n",
       "      <th></th>\n",
       "      <th>0</th>\n",
       "      <th>1</th>\n",
       "      <th>2</th>\n",
       "      <th>3</th>\n",
       "      <th>4</th>\n",
       "      <th>5</th>\n",
       "      <th>6</th>\n",
       "      <th>7</th>\n",
       "      <th>8</th>\n",
       "      <th>9</th>\n",
       "      <th>...</th>\n",
       "      <th>736</th>\n",
       "      <th>737</th>\n",
       "      <th>738</th>\n",
       "      <th>739</th>\n",
       "      <th>740</th>\n",
       "      <th>741</th>\n",
       "      <th>742</th>\n",
       "      <th>743</th>\n",
       "      <th>744</th>\n",
       "      <th>745</th>\n",
       "    </tr>\n",
       "  </thead>\n",
       "  <tbody>\n",
       "    <tr>\n",
       "      <th>count</th>\n",
       "      <td>24.000000</td>\n",
       "      <td>24.00</td>\n",
       "      <td>24.0</td>\n",
       "      <td>24.0</td>\n",
       "      <td>24.0</td>\n",
       "      <td>24.0</td>\n",
       "      <td>24.0</td>\n",
       "      <td>24.0</td>\n",
       "      <td>24.0</td>\n",
       "      <td>24.000000</td>\n",
       "      <td>...</td>\n",
       "      <td>24.000000</td>\n",
       "      <td>24.000000</td>\n",
       "      <td>24.000000</td>\n",
       "      <td>24.000000</td>\n",
       "      <td>24.000000</td>\n",
       "      <td>24.000000</td>\n",
       "      <td>24.0</td>\n",
       "      <td>24.0</td>\n",
       "      <td>24.0</td>\n",
       "      <td>24.0</td>\n",
       "    </tr>\n",
       "    <tr>\n",
       "      <th>mean</th>\n",
       "      <td>-42.875000</td>\n",
       "      <td>-14.25</td>\n",
       "      <td>0.0</td>\n",
       "      <td>0.0</td>\n",
       "      <td>0.0</td>\n",
       "      <td>0.0</td>\n",
       "      <td>0.0</td>\n",
       "      <td>0.0</td>\n",
       "      <td>0.0</td>\n",
       "      <td>0.000417</td>\n",
       "      <td>...</td>\n",
       "      <td>0.007917</td>\n",
       "      <td>0.001667</td>\n",
       "      <td>0.001250</td>\n",
       "      <td>0.000833</td>\n",
       "      <td>0.000833</td>\n",
       "      <td>0.002500</td>\n",
       "      <td>0.0</td>\n",
       "      <td>0.0</td>\n",
       "      <td>0.0</td>\n",
       "      <td>0.0</td>\n",
       "    </tr>\n",
       "    <tr>\n",
       "      <th>std</th>\n",
       "      <td>1.767767</td>\n",
       "      <td>0.00</td>\n",
       "      <td>0.0</td>\n",
       "      <td>0.0</td>\n",
       "      <td>0.0</td>\n",
       "      <td>0.0</td>\n",
       "      <td>0.0</td>\n",
       "      <td>0.0</td>\n",
       "      <td>0.0</td>\n",
       "      <td>0.002041</td>\n",
       "      <td>...</td>\n",
       "      <td>0.017189</td>\n",
       "      <td>0.003807</td>\n",
       "      <td>0.003378</td>\n",
       "      <td>0.004082</td>\n",
       "      <td>0.002823</td>\n",
       "      <td>0.006079</td>\n",
       "      <td>0.0</td>\n",
       "      <td>0.0</td>\n",
       "      <td>0.0</td>\n",
       "      <td>0.0</td>\n",
       "    </tr>\n",
       "    <tr>\n",
       "      <th>min</th>\n",
       "      <td>-45.750000</td>\n",
       "      <td>-14.25</td>\n",
       "      <td>0.0</td>\n",
       "      <td>0.0</td>\n",
       "      <td>0.0</td>\n",
       "      <td>0.0</td>\n",
       "      <td>0.0</td>\n",
       "      <td>0.0</td>\n",
       "      <td>0.0</td>\n",
       "      <td>0.000000</td>\n",
       "      <td>...</td>\n",
       "      <td>0.000000</td>\n",
       "      <td>0.000000</td>\n",
       "      <td>0.000000</td>\n",
       "      <td>0.000000</td>\n",
       "      <td>0.000000</td>\n",
       "      <td>0.000000</td>\n",
       "      <td>0.0</td>\n",
       "      <td>0.0</td>\n",
       "      <td>0.0</td>\n",
       "      <td>0.0</td>\n",
       "    </tr>\n",
       "    <tr>\n",
       "      <th>25%</th>\n",
       "      <td>-44.312500</td>\n",
       "      <td>-14.25</td>\n",
       "      <td>0.0</td>\n",
       "      <td>0.0</td>\n",
       "      <td>0.0</td>\n",
       "      <td>0.0</td>\n",
       "      <td>0.0</td>\n",
       "      <td>0.0</td>\n",
       "      <td>0.0</td>\n",
       "      <td>0.000000</td>\n",
       "      <td>...</td>\n",
       "      <td>0.000000</td>\n",
       "      <td>0.000000</td>\n",
       "      <td>0.000000</td>\n",
       "      <td>0.000000</td>\n",
       "      <td>0.000000</td>\n",
       "      <td>0.000000</td>\n",
       "      <td>0.0</td>\n",
       "      <td>0.0</td>\n",
       "      <td>0.0</td>\n",
       "      <td>0.0</td>\n",
       "    </tr>\n",
       "    <tr>\n",
       "      <th>50%</th>\n",
       "      <td>-42.875000</td>\n",
       "      <td>-14.25</td>\n",
       "      <td>0.0</td>\n",
       "      <td>0.0</td>\n",
       "      <td>0.0</td>\n",
       "      <td>0.0</td>\n",
       "      <td>0.0</td>\n",
       "      <td>0.0</td>\n",
       "      <td>0.0</td>\n",
       "      <td>0.000000</td>\n",
       "      <td>...</td>\n",
       "      <td>0.000000</td>\n",
       "      <td>0.000000</td>\n",
       "      <td>0.000000</td>\n",
       "      <td>0.000000</td>\n",
       "      <td>0.000000</td>\n",
       "      <td>0.000000</td>\n",
       "      <td>0.0</td>\n",
       "      <td>0.0</td>\n",
       "      <td>0.0</td>\n",
       "      <td>0.0</td>\n",
       "    </tr>\n",
       "    <tr>\n",
       "      <th>75%</th>\n",
       "      <td>-41.437500</td>\n",
       "      <td>-14.25</td>\n",
       "      <td>0.0</td>\n",
       "      <td>0.0</td>\n",
       "      <td>0.0</td>\n",
       "      <td>0.0</td>\n",
       "      <td>0.0</td>\n",
       "      <td>0.0</td>\n",
       "      <td>0.0</td>\n",
       "      <td>0.000000</td>\n",
       "      <td>...</td>\n",
       "      <td>0.000000</td>\n",
       "      <td>0.000000</td>\n",
       "      <td>0.000000</td>\n",
       "      <td>0.000000</td>\n",
       "      <td>0.000000</td>\n",
       "      <td>0.000000</td>\n",
       "      <td>0.0</td>\n",
       "      <td>0.0</td>\n",
       "      <td>0.0</td>\n",
       "      <td>0.0</td>\n",
       "    </tr>\n",
       "    <tr>\n",
       "      <th>max</th>\n",
       "      <td>-40.000000</td>\n",
       "      <td>-14.25</td>\n",
       "      <td>0.0</td>\n",
       "      <td>0.0</td>\n",
       "      <td>0.0</td>\n",
       "      <td>0.0</td>\n",
       "      <td>0.0</td>\n",
       "      <td>0.0</td>\n",
       "      <td>0.0</td>\n",
       "      <td>0.010000</td>\n",
       "      <td>...</td>\n",
       "      <td>0.050000</td>\n",
       "      <td>0.010000</td>\n",
       "      <td>0.010000</td>\n",
       "      <td>0.020000</td>\n",
       "      <td>0.010000</td>\n",
       "      <td>0.020000</td>\n",
       "      <td>0.0</td>\n",
       "      <td>0.0</td>\n",
       "      <td>0.0</td>\n",
       "      <td>0.0</td>\n",
       "    </tr>\n",
       "  </tbody>\n",
       "</table>\n",
       "<p>8 rows × 746 columns</p>\n",
       "</div>"
      ],
      "text/plain": [
       "             0      1     2     3     4     5     6     7     8          9    \\\n",
       "count  24.000000  24.00  24.0  24.0  24.0  24.0  24.0  24.0  24.0  24.000000   \n",
       "mean  -42.875000 -14.25   0.0   0.0   0.0   0.0   0.0   0.0   0.0   0.000417   \n",
       "std     1.767767   0.00   0.0   0.0   0.0   0.0   0.0   0.0   0.0   0.002041   \n",
       "min   -45.750000 -14.25   0.0   0.0   0.0   0.0   0.0   0.0   0.0   0.000000   \n",
       "25%   -44.312500 -14.25   0.0   0.0   0.0   0.0   0.0   0.0   0.0   0.000000   \n",
       "50%   -42.875000 -14.25   0.0   0.0   0.0   0.0   0.0   0.0   0.0   0.000000   \n",
       "75%   -41.437500 -14.25   0.0   0.0   0.0   0.0   0.0   0.0   0.0   0.000000   \n",
       "max   -40.000000 -14.25   0.0   0.0   0.0   0.0   0.0   0.0   0.0   0.010000   \n",
       "\n",
       "       ...        736        737        738        739        740        741  \\\n",
       "count  ...  24.000000  24.000000  24.000000  24.000000  24.000000  24.000000   \n",
       "mean   ...   0.007917   0.001667   0.001250   0.000833   0.000833   0.002500   \n",
       "std    ...   0.017189   0.003807   0.003378   0.004082   0.002823   0.006079   \n",
       "min    ...   0.000000   0.000000   0.000000   0.000000   0.000000   0.000000   \n",
       "25%    ...   0.000000   0.000000   0.000000   0.000000   0.000000   0.000000   \n",
       "50%    ...   0.000000   0.000000   0.000000   0.000000   0.000000   0.000000   \n",
       "75%    ...   0.000000   0.000000   0.000000   0.000000   0.000000   0.000000   \n",
       "max    ...   0.050000   0.010000   0.010000   0.020000   0.010000   0.020000   \n",
       "\n",
       "        742   743   744   745  \n",
       "count  24.0  24.0  24.0  24.0  \n",
       "mean    0.0   0.0   0.0   0.0  \n",
       "std     0.0   0.0   0.0   0.0  \n",
       "min     0.0   0.0   0.0   0.0  \n",
       "25%     0.0   0.0   0.0   0.0  \n",
       "50%     0.0   0.0   0.0   0.0  \n",
       "75%     0.0   0.0   0.0   0.0  \n",
       "max     0.0   0.0   0.0   0.0  \n",
       "\n",
       "[8 rows x 746 columns]"
      ]
     },
     "execution_count": 107,
     "metadata": {},
     "output_type": "execute_result"
    }
   ],
   "source": [
    "# Descreve apenas colunas \"Numericas\"\n",
    "df_precipitacao.describe(include=[np.number])"
   ]
  },
  {
   "cell_type": "markdown",
   "id": "4ed295f1-7105-48f4-91e7-001a8f7e22bf",
   "metadata": {},
   "source": [
    "### **C) Análise sobre os Dados**"
   ]
  },
  {
   "cell_type": "markdown",
   "id": "7462dcdc-daa0-4cad-a944-a264ce575254",
   "metadata": {},
   "source": [
    "#### <span style=\"color:#DC143C\">**C1. Quantidade de valores não nulos**"
   ]
  },
  {
   "cell_type": "code",
   "execution_count": 108,
   "id": "ef87a932-b74b-48fe-b151-a8ec29013fef",
   "metadata": {},
   "outputs": [
    {
     "data": {
      "text/plain": [
       "0      24\n",
       "1      24\n",
       "2      24\n",
       "3      24\n",
       "4      24\n",
       "       ..\n",
       "741    24\n",
       "742    24\n",
       "743    24\n",
       "744    24\n",
       "745    24\n",
       "Length: 746, dtype: int64"
      ]
     },
     "execution_count": 108,
     "metadata": {},
     "output_type": "execute_result"
    }
   ],
   "source": [
    "df_precipitacao.count()"
   ]
  },
  {
   "cell_type": "markdown",
   "id": "16805d59-b316-4e69-a0c5-7a18ed97b6a4",
   "metadata": {},
   "source": [
    "#### <span style=\"color:#DC143C\">**C2. Quantidade de valores NULOS**"
   ]
  },
  {
   "cell_type": "markdown",
   "id": "3fe08f32-0f4b-446f-a6fa-50b6b7c7f8a4",
   "metadata": {},
   "source": [
    "<p>Exemplo:<br> \n",
    "<b>rain.isnull()</b>  # O conteúdo da campo onde está NULL recebe o valor FALSE, senão TRUE <br>\n",
    "<b>rain.isnull().sum()</b>  # Totaliza os conteudos não NULL por coluna"
   ]
  },
  {
   "cell_type": "code",
   "execution_count": 109,
   "id": "8cf14de2-0e35-4194-8d40-010a26193ee4",
   "metadata": {},
   "outputs": [
    {
     "data": {
      "text/plain": [
       "0      0\n",
       "1      0\n",
       "2      0\n",
       "3      0\n",
       "4      0\n",
       "      ..\n",
       "741    0\n",
       "742    0\n",
       "743    0\n",
       "744    0\n",
       "745    0\n",
       "Length: 746, dtype: int64"
      ]
     },
     "execution_count": 109,
     "metadata": {},
     "output_type": "execute_result"
    }
   ],
   "source": [
    "df_precipitacao.isnull().sum()"
   ]
  },
  {
   "cell_type": "markdown",
   "id": "030c1b9a-de76-492a-8448-0a192b0448d5",
   "metadata": {},
   "source": [
    "#### <span style=\"color:#DC143C\"> **C3. Visualiação de Dados Faltantes**"
   ]
  },
  {
   "cell_type": "markdown",
   "id": "7b551947-04a6-406d-829b-91de295c8be5",
   "metadata": {},
   "source": [
    "(  https://github.com/ResidentMario/missingno ) <br>\n",
    "O <i>missingno</i> fornece um pequeno conjunto de ferramentas de visualizações de dados perdidos flexíveis e fáceis de usar e utilitários que permitem que você obtenha\n",
    "um rápido resumo visual da completude (ou falta dela) do seu conjunto de dados.\n",
    "<p>\n",
    "<b>1.Matriz</b><br>\n",
    "A matriz de nulidade <b>msno.matrix</b> é uma exibição densa de dados que permite que você selecione visualmente padrões na conclusão de dados.<br>\n",
    "As linhas brancas indicam valores ausentes. O minigráfico à direita resume a forma geral da integridade dos dados e aponta as linhas com a nulidade máxima e mínima no conjunto de dados\n"
   ]
  },
  {
   "cell_type": "code",
   "execution_count": 110,
   "id": "a5319a98-c88e-4d22-93dc-13378537ddce",
   "metadata": {},
   "outputs": [
    {
     "data": {
      "text/plain": [
       "<AxesSubplot:>"
      ]
     },
     "execution_count": 110,
     "metadata": {},
     "output_type": "execute_result"
    },
    {
     "data": {
      "image/png": "[encoded data removed]",
      "text/plain": [
       "<Figure size 1800x720 with 2 Axes>"
      ]
     },
     "metadata": {
      "needs_background": "light"
     },
     "output_type": "display_data"
    }
   ],
   "source": [
    "msno.matrix(df_precipitacao)"
   ]
  },
  {
   "cell_type": "markdown",
   "id": "2cf29592-a525-4bd6-a803-78eb9b23834f",
   "metadata": {},
   "source": [
    "### **D) Tratamento -- Preencher Lacunas (Se Houver)**"
   ]
  },
  {
   "cell_type": "code",
   "execution_count": 111,
   "id": "4243ffc8-9ec0-4189-b6b0-f24fec5c3309",
   "metadata": {},
   "outputs": [
    {
     "name": "stdout",
     "output_type": "stream",
     "text": [
      "Total de Linhas do Dataframe: (Antes) :24\n",
      "Total de Linhas do Dataframe: (Depois):24\n"
     ]
    }
   ],
   "source": [
    "print(\"Total de Linhas do Dataframe: (Antes) :\" + str(len(df_precipitacao)))\n",
    "df_precipitacao = df_precipitacao.drop_duplicates()\n",
    "print(\"Total de Linhas do Dataframe: (Depois):\" + str(len(df_precipitacao)))"
   ]
  },
  {
   "cell_type": "markdown",
   "id": "47dd1c64-1bee-4daa-8e52-33649c35f3f9",
   "metadata": {},
   "source": [
    "### **E) Descrição dos Atributos**"
   ]
  },
  {
   "cell_type": "markdown",
   "id": "8fe4a53a-23d7-4d0d-938a-c61bd1e3704f",
   "metadata": {},
   "source": [
    "<p><b>Cada linha contem um ponto de latitude e longitude localizado no meio de uma quadricula de 5km de cada lado da<br>\n",
    "    Região Nordeste do Brasil, e em seguinda dos valores horário de cada dia do mês 01 (referência).\n",
    "<br>\n",
    "<br>Coluna 0: Longitude em Graus\n",
    "<br>Coluna 1: Latitude em Graus\n",
    "<br>Coluna 2: Valor da Temperatura em Graus Celsius ºC\n",
    "<br>Coluna 3..746: Valor da Temperatura em Graus Celsius ºC\n",
    "</b></p>\n",
    "\n"
   ]
  },
  {
   "cell_type": "markdown",
   "id": "c39be079-72cf-4e93-91a9-29aa92af3211",
   "metadata": {},
   "source": [
    "#### <span style=\"color:#DC143C\"> **E1. Descobrindo todas as variáveis \"Categoricas\" e \"Continuas\"**"
   ]
  },
  {
   "cell_type": "code",
   "execution_count": 112,
   "id": "80b41678-14c9-4ece-bbca-3d0f7306033b",
   "metadata": {},
   "outputs": [
    {
     "name": "stdout",
     "output_type": "stream",
     "text": [
      "Colunas com variaveis Categóricas: []\n",
      "\n",
      "Colunas com variaveis Contínuas: [0, 1, 2, 3, 4, 5, 6, 7, 8, 9, 10, 11, 12, 13, 14, 15, 16, 17, 18, 19, 20, 21, 22, 23, 24, 25, 26, 27, 28, 29, 30, 31, 32, 33, 34, 35, 36, 37, 38, 39, 40, 41, 42, 43, 44, 45, 46, 47, 48, 49, 50, 51, 52, 53, 54, 55, 56, 57, 58, 59, 60, 61, 62, 63, 64, 65, 66, 67, 68, 69, 70, 71, 72, 73, 74, 75, 76, 77, 78, 79, 80, 81, 82, 83, 84, 85, 86, 87, 88, 89, 90, 91, 92, 93, 94, 95, 96, 97, 98, 99, 100, 101, 102, 103, 104, 105, 106, 107, 108, 109, 110, 111, 112, 113, 114, 115, 116, 117, 118, 119, 120, 121, 122, 123, 124, 125, 126, 127, 128, 129, 130, 131, 132, 133, 134, 135, 136, 137, 138, 139, 140, 141, 142, 143, 144, 145, 146, 147, 148, 149, 150, 151, 152, 153, 154, 155, 156, 157, 158, 159, 160, 161, 162, 163, 164, 165, 166, 167, 168, 169, 170, 171, 172, 173, 174, 175, 176, 177, 178, 179, 180, 181, 182, 183, 184, 185, 186, 187, 188, 189, 190, 191, 192, 193, 194, 195, 196, 197, 198, 199, 200, 201, 202, 203, 204, 205, 206, 207, 208, 209, 210, 211, 212, 213, 214, 215, 216, 217, 218, 219, 220, 221, 222, 223, 224, 225, 226, 227, 228, 229, 230, 231, 232, 233, 234, 235, 236, 237, 238, 239, 240, 241, 242, 243, 244, 245, 246, 247, 248, 249, 250, 251, 252, 253, 254, 255, 256, 257, 258, 259, 260, 261, 262, 263, 264, 265, 266, 267, 268, 269, 270, 271, 272, 273, 274, 275, 276, 277, 278, 279, 280, 281, 282, 283, 284, 285, 286, 287, 288, 289, 290, 291, 292, 293, 294, 295, 296, 297, 298, 299, 300, 301, 302, 303, 304, 305, 306, 307, 308, 309, 310, 311, 312, 313, 314, 315, 316, 317, 318, 319, 320, 321, 322, 323, 324, 325, 326, 327, 328, 329, 330, 331, 332, 333, 334, 335, 336, 337, 338, 339, 340, 341, 342, 343, 344, 345, 346, 347, 348, 349, 350, 351, 352, 353, 354, 355, 356, 357, 358, 359, 360, 361, 362, 363, 364, 365, 366, 367, 368, 369, 370, 371, 372, 373, 374, 375, 376, 377, 378, 379, 380, 381, 382, 383, 384, 385, 386, 387, 388, 389, 390, 391, 392, 393, 394, 395, 396, 397, 398, 399, 400, 401, 402, 403, 404, 405, 406, 407, 408, 409, 410, 411, 412, 413, 414, 415, 416, 417, 418, 419, 420, 421, 422, 423, 424, 425, 426, 427, 428, 429, 430, 431, 432, 433, 434, 435, 436, 437, 438, 439, 440, 441, 442, 443, 444, 445, 446, 447, 448, 449, 450, 451, 452, 453, 454, 455, 456, 457, 458, 459, 460, 461, 462, 463, 464, 465, 466, 467, 468, 469, 470, 471, 472, 473, 474, 475, 476, 477, 478, 479, 480, 481, 482, 483, 484, 485, 486, 487, 488, 489, 490, 491, 492, 493, 494, 495, 496, 497, 498, 499, 500, 501, 502, 503, 504, 505, 506, 507, 508, 509, 510, 511, 512, 513, 514, 515, 516, 517, 518, 519, 520, 521, 522, 523, 524, 525, 526, 527, 528, 529, 530, 531, 532, 533, 534, 535, 536, 537, 538, 539, 540, 541, 542, 543, 544, 545, 546, 547, 548, 549, 550, 551, 552, 553, 554, 555, 556, 557, 558, 559, 560, 561, 562, 563, 564, 565, 566, 567, 568, 569, 570, 571, 572, 573, 574, 575, 576, 577, 578, 579, 580, 581, 582, 583, 584, 585, 586, 587, 588, 589, 590, 591, 592, 593, 594, 595, 596, 597, 598, 599, 600, 601, 602, 603, 604, 605, 606, 607, 608, 609, 610, 611, 612, 613, 614, 615, 616, 617, 618, 619, 620, 621, 622, 623, 624, 625, 626, 627, 628, 629, 630, 631, 632, 633, 634, 635, 636, 637, 638, 639, 640, 641, 642, 643, 644, 645, 646, 647, 648, 649, 650, 651, 652, 653, 654, 655, 656, 657, 658, 659, 660, 661, 662, 663, 664, 665, 666, 667, 668, 669, 670, 671, 672, 673, 674, 675, 676, 677, 678, 679, 680, 681, 682, 683, 684, 685, 686, 687, 688, 689, 690, 691, 692, 693, 694, 695, 696, 697, 698, 699, 700, 701, 702, 703, 704, 705, 706, 707, 708, 709, 710, 711, 712, 713, 714, 715, 716, 717, 718, 719, 720, 721, 722, 723, 724, 725, 726, 727, 728, 729, 730, 731, 732, 733, 734, 735, 736, 737, 738, 739, 740, 741, 742, 743, 744, 745]\n"
     ]
    }
   ],
   "source": [
    "categorical_col, contin_val=[],[]\n",
    "\n",
    "for i in df_precipitacao.columns:  # i = nome das colunas\n",
    "   # print(i)\n",
    "    if df_precipitacao[i].dtype == 'object':\n",
    "        categorical_col.append(i)\n",
    "    else:\n",
    "        contin_val.append(i)\n",
    "        \n",
    "print(\"Colunas com variaveis Categóricas: \" + str(categorical_col))\n",
    "print('')\n",
    "print(\"Colunas com variaveis Contínuas: \" + str(contin_val))"
   ]
  },
  {
   "cell_type": "markdown",
   "id": "c87add9b-9d82-41d5-8c44-af98330c4888",
   "metadata": {},
   "source": [
    "#### <span style=\"color:#DC143C\">**E2. Alterar Formato do Shape**"
   ]
  },
  {
   "cell_type": "code",
   "execution_count": 113,
   "id": "5939fc27-4b7c-48c4-a423-f5fa4c4114f8",
   "metadata": {},
   "outputs": [],
   "source": [
    "Linha    =  df_precipitacao.shape[0]  # Total de Linhas\n",
    "Colunas  =  df_precipitacao.shape[1]  # Total de Colunas\n",
    "\n",
    "frente = ['Longitude', 'Latitude', 'Valor_Precip', 'Data']  # Cabeçalho\n",
    "df_result_precipitacao = pd.DataFrame(columns=frente)  # Criação de um dataframe vazio\n"
   ]
  },
  {
   "cell_type": "markdown",
   "id": "ad785ca5-0c23-4b4c-8714-c3e26a7f2d61",
   "metadata": {},
   "source": [
    "#### <span style=\"color:#DC143C\">**E3. Inicio da execução**"
   ]
  },
  {
   "cell_type": "code",
   "execution_count": 114,
   "id": "a8688424-12d7-4402-9715-41440e49c451",
   "metadata": {},
   "outputs": [
    {
     "data": {
      "text/plain": [
       "'2021-06-22 19:17:20'"
      ]
     },
     "execution_count": 114,
     "metadata": {},
     "output_type": "execute_result"
    }
   ],
   "source": [
    "datetime.now().strftime('%Y-%m-%d %H:%M:%S')"
   ]
  },
  {
   "cell_type": "code",
   "execution_count": null,
   "id": "32cb4939-d5f4-4f6c-9c57-c5210f7cd8dc",
   "metadata": {},
   "outputs": [
    {
     "name": "stdout",
     "output_type": "stream",
     "text": [
      "linha: 0\n",
      "linha: 1\n",
      "linha: 2\n",
      "linha: 3\n",
      "linha: 4\n",
      "linha: 5\n",
      "linha: 6\n",
      "linha: 7\n",
      "linha: 8\n",
      "linha: 9\n",
      "linha: 10\n",
      "linha: 11\n",
      "linha: 12\n",
      "linha: 13\n",
      "linha: 14\n",
      "linha: 15\n"
     ]
    }
   ],
   "source": [
    "refdia = 1\n",
    "    \n",
    "# Função para transformar .... \n",
    "for lin in range(Linha):\n",
    "    # print('linha: ' + str(lin))\n",
    "    \n",
    "    refhora = 0\n",
    "    \n",
    "    for col in range (Colunas):        \n",
    "        if col > 1:    # Removo log e Lat da varredura\n",
    "            # print(col)\n",
    "            # print('Day: '  + str(refdia))    \n",
    "            # print('Hora: ' + str(refhora))   \n",
    "                \n",
    "            data_p = datetime(year=2017, month=1, day = refdia, hour = refhora, minute=0, second=0) \n",
    "            # print(data)\n",
    "                \n",
    "            variavel = [df_precipitacao.loc[lin,0], df_precipitacao.loc[lin,1] , df_precipitacao.loc[lin,col] , data_p] \n",
    "                \n",
    "            df_result_precipitacao.loc[-1] = variavel  # adding a row\n",
    "            df_result_precipitacao.index = df_result_precipitacao.index + 1\n",
    "                \n",
    "            refhora = refhora + 1\n",
    "            if refhora == 24:                    \n",
    "                refdia = refdia + 1\n",
    "                refhora = 0\n",
    "                \n",
    "    refdia = 1\n",
    "    refhora = 0\n",
    "    \n",
    "df_result_precipitacao.reset_index(inplace=True, drop=False)  #Reseto o indice"
   ]
  },
  {
   "cell_type": "markdown",
   "id": "76eb16fe-ffde-4b5f-8810-327f4a796957",
   "metadata": {},
   "source": [
    "#### <span style=\"color:#DC143C\">**E4. Fim da execução**"
   ]
  },
  {
   "cell_type": "code",
   "execution_count": null,
   "id": "af1f73b9-cbb5-4fd3-b69e-28d565adacce",
   "metadata": {},
   "outputs": [],
   "source": [
    "datetime.now().strftime('%Y-%m-%d %H:%M:%S') "
   ]
  },
  {
   "cell_type": "markdown",
   "id": "0196292f-3283-4723-ba9b-0eb6170e5135",
   "metadata": {},
   "source": [
    "### **F. Exporta Resultados**"
   ]
  },
  {
   "cell_type": "code",
   "execution_count": null,
   "id": "ae0fcb10-eb63-4730-abc0-ac8bdd1ea303",
   "metadata": {},
   "outputs": [],
   "source": [
    "df_result_precipitacao.drop('index',axis='columns', inplace=True)"
   ]
  },
  {
   "cell_type": "code",
   "execution_count": null,
   "id": "3e7d0d30-082a-464e-8fd7-57ddcf2bc8ed",
   "metadata": {},
   "outputs": [],
   "source": [
    "df_result_precipitacao.to_csv(output_file, sep=';',  encoding='utf-8')\n",
    "df_result_precipitacao.to_parquet(save_file, compression='snappy')"
   ]
  },
  {
   "cell_type": "code",
   "execution_count": null,
   "id": "290913b3-a5f3-445b-9e87-8b63c2a7c5b5",
   "metadata": {},
   "outputs": [],
   "source": []
  }
 ],
 "metadata": {
  "kernelspec": {
   "display_name": "Python 3",
   "language": "python",
   "name": "python3"
  },
  "language_info": {
   "codemirror_mode": {
    "name": "ipython",
    "version": 3
   },
   "file_extension": ".py",
   "mimetype": "text/x-python",
   "name": "python",
   "nbconvert_exporter": "python",
   "pygments_lexer": "ipython3",
   "version": "3.7.10"
  }
 },
 "nbformat": 4,
 "nbformat_minor": 5
}
