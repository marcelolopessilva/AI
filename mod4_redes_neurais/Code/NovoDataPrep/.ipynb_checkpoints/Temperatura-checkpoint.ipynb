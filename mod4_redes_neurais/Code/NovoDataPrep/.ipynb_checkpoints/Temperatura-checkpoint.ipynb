{
 "cells": [
  {
   "cell_type": "code",
   "execution_count": 132,
   "id": "eb7d0d19-ccda-4e67-b305-088b8bbf3c85",
   "metadata": {},
   "outputs": [],
   "source": [
    "import numpy as np\n",
    "import pandas as pd\n",
    "from datetime import datetime,date\n",
    "\n",
    "import missingno as msno\n",
    "import snappy\n",
    "# import warnings\n",
    "# warnings.filterwarnings(\"ignore\")"
   ]
  },
  {
   "cell_type": "markdown",
   "id": "d4de6591-f4da-4527-8263-f74933fa9424",
   "metadata": {},
   "source": [
    "### **A) Coleta dos Dados de Temperatura**"
   ]
  },
  {
   "cell_type": "code",
   "execution_count": 133,
   "id": "ce4ae9a9-fde5-4f5f-8cd6-1dfbbaa3f0c5",
   "metadata": {},
   "outputs": [],
   "source": [
    "source_file = '../../Data/raw/t2m/temperatura_patio1.txt'\n",
    "\n",
    "output_file = '../../Data/process/result_temperatura_patio1.csv'\n",
    "save_file =  '../../Data/process/result_temperatura_patio1.parquet'"
   ]
  },
  {
   "cell_type": "code",
   "execution_count": 134,
   "id": "f3ba86b3-1f9e-4435-8ddc-c3fb18fb3940",
   "metadata": {},
   "outputs": [],
   "source": [
    "# DADOS OBSERVADOS\n",
    "df_temperatura = pd.read_csv(source_file, delimiter = r\"\\s+\", header=None)"
   ]
  },
  {
   "cell_type": "markdown",
   "id": "7e7cf551-72c8-477b-8984-53dd2ca27235",
   "metadata": {},
   "source": [
    "#### <span style=\"color:#DC143C\">**A1.Formato dos Dados**"
   ]
  },
  {
   "cell_type": "markdown",
   "id": "bd7f55f6-03a9-4a03-81a4-5520846cb493",
   "metadata": {},
   "source": [
    "### **B) Sobre os Dados**"
   ]
  },
  {
   "cell_type": "code",
   "execution_count": 135,
   "id": "05e5dc6d-2f12-4267-8f14-bd7028017935",
   "metadata": {},
   "outputs": [
    {
     "data": {
      "text/plain": [
       "(20, 746)"
      ]
     },
     "execution_count": 135,
     "metadata": {},
     "output_type": "execute_result"
    }
   ],
   "source": [
    "df_temperatura.shape # formato da matriz"
   ]
  },
  {
   "cell_type": "markdown",
   "id": "9d24ab44-4f41-4132-84db-1977047f5cad",
   "metadata": {},
   "source": [
    "#### <span style=\"color:#DC143C\">**B1. Visao do Dataframe**"
   ]
  },
  {
   "cell_type": "code",
   "execution_count": 136,
   "id": "264c2fda-4d8e-4114-8641-6fb08f2df705",
   "metadata": {},
   "outputs": [
    {
     "data": {
      "text/html": [
       "<div>\n",
       "<style scoped>\n",
       "    .dataframe tbody tr th:only-of-type {\n",
       "        vertical-align: middle;\n",
       "    }\n",
       "\n",
       "    .dataframe tbody tr th {\n",
       "        vertical-align: top;\n",
       "    }\n",
       "\n",
       "    .dataframe thead th {\n",
       "        text-align: right;\n",
       "    }\n",
       "</style>\n",
       "<table border=\"1\" class=\"dataframe\">\n",
       "  <thead>\n",
       "    <tr style=\"text-align: right;\">\n",
       "      <th></th>\n",
       "      <th>0</th>\n",
       "      <th>1</th>\n",
       "      <th>2</th>\n",
       "      <th>3</th>\n",
       "      <th>4</th>\n",
       "      <th>5</th>\n",
       "      <th>6</th>\n",
       "      <th>7</th>\n",
       "      <th>8</th>\n",
       "      <th>9</th>\n",
       "      <th>...</th>\n",
       "      <th>736</th>\n",
       "      <th>737</th>\n",
       "      <th>738</th>\n",
       "      <th>739</th>\n",
       "      <th>740</th>\n",
       "      <th>741</th>\n",
       "      <th>742</th>\n",
       "      <th>743</th>\n",
       "      <th>744</th>\n",
       "      <th>745</th>\n",
       "    </tr>\n",
       "  </thead>\n",
       "  <tbody>\n",
       "    <tr>\n",
       "      <th>0</th>\n",
       "      <td>-44.75</td>\n",
       "      <td>-14.25</td>\n",
       "      <td>24.21</td>\n",
       "      <td>25.39</td>\n",
       "      <td>27.38</td>\n",
       "      <td>25.57</td>\n",
       "      <td>23.11</td>\n",
       "      <td>21.53</td>\n",
       "      <td>21.29</td>\n",
       "      <td>20.98</td>\n",
       "      <td>...</td>\n",
       "      <td>28.40</td>\n",
       "      <td>32.65</td>\n",
       "      <td>33.64</td>\n",
       "      <td>33.85</td>\n",
       "      <td>33.88</td>\n",
       "      <td>33.79</td>\n",
       "      <td>33.84</td>\n",
       "      <td>32.7</td>\n",
       "      <td>28.01</td>\n",
       "      <td>28.76</td>\n",
       "    </tr>\n",
       "    <tr>\n",
       "      <th>1</th>\n",
       "      <td>-44.50</td>\n",
       "      <td>-14.25</td>\n",
       "      <td>25.59</td>\n",
       "      <td>25.86</td>\n",
       "      <td>26.10</td>\n",
       "      <td>24.63</td>\n",
       "      <td>23.59</td>\n",
       "      <td>22.65</td>\n",
       "      <td>22.38</td>\n",
       "      <td>22.03</td>\n",
       "      <td>...</td>\n",
       "      <td>28.41</td>\n",
       "      <td>32.89</td>\n",
       "      <td>33.82</td>\n",
       "      <td>34.08</td>\n",
       "      <td>34.17</td>\n",
       "      <td>34.18</td>\n",
       "      <td>34.16</td>\n",
       "      <td>32.9</td>\n",
       "      <td>29.53</td>\n",
       "      <td>29.27</td>\n",
       "    </tr>\n",
       "  </tbody>\n",
       "</table>\n",
       "<p>2 rows × 746 columns</p>\n",
       "</div>"
      ],
      "text/plain": [
       "     0      1      2      3      4      5      6      7      8      9    ...  \\\n",
       "0 -44.75 -14.25  24.21  25.39  27.38  25.57  23.11  21.53  21.29  20.98  ...   \n",
       "1 -44.50 -14.25  25.59  25.86  26.10  24.63  23.59  22.65  22.38  22.03  ...   \n",
       "\n",
       "     736    737    738    739    740    741    742   743    744    745  \n",
       "0  28.40  32.65  33.64  33.85  33.88  33.79  33.84  32.7  28.01  28.76  \n",
       "1  28.41  32.89  33.82  34.08  34.17  34.18  34.16  32.9  29.53  29.27  \n",
       "\n",
       "[2 rows x 746 columns]"
      ]
     },
     "execution_count": 136,
     "metadata": {},
     "output_type": "execute_result"
    }
   ],
   "source": [
    "df_temperatura.head(2)  # visão de 5 linhas"
   ]
  },
  {
   "cell_type": "markdown",
   "id": "b087d67d-1f53-42ea-980c-ab126f9a15c1",
   "metadata": {},
   "source": [
    "#### <span style=\"color:#DC143C\">**B2. Nome das Colunas do Cabeçalho**"
   ]
  },
  {
   "cell_type": "code",
   "execution_count": 137,
   "id": "6e389d77-03fb-4563-8ebc-013e26135ae8",
   "metadata": {},
   "outputs": [
    {
     "data": {
      "text/plain": [
       "Int64Index([  0,   1,   2,   3,   4,   5,   6,   7,   8,   9,\n",
       "            ...\n",
       "            736, 737, 738, 739, 740, 741, 742, 743, 744, 745],\n",
       "           dtype='int64', length=746)"
      ]
     },
     "execution_count": 137,
     "metadata": {},
     "output_type": "execute_result"
    }
   ],
   "source": [
    "# Lista o nome das Colunas\n",
    "df_temperatura.columns "
   ]
  },
  {
   "cell_type": "markdown",
   "id": "670b9a20-afd0-479c-837a-d9695e24184d",
   "metadata": {},
   "source": [
    "#### <span style=\"color:#DC143C\">**B3. Conteúdo de 1 Linha**"
   ]
  },
  {
   "cell_type": "code",
   "execution_count": 138,
   "id": "52f0dd86-e2d6-4cdd-9617-62fdcd89f03f",
   "metadata": {},
   "outputs": [
    {
     "data": {
      "text/plain": [
       "array([[-44.75, -14.25,  24.21,  25.39,  27.38,  25.57,  23.11,  21.53,\n",
       "         21.29,  20.98,  20.65,  21.11,  26.92,  26.65,  26.98,  27.09,\n",
       "         27.12,  32.71,  32.99,  33.21,  33.  ,  32.75,  32.79,  30.69,\n",
       "         27.21,  26.44,  26.25,  26.34,  25.95,  23.58,  22.58,  21.46,\n",
       "         21.84,  21.71,  22.18,  21.89,  28.51,  29.63,  29.03,  29.4 ,\n",
       "         29.18,  34.75,  34.51,  35.06,  34.58,  34.68,  34.48,  32.06,\n",
       "         28.47,  28.42,  27.52,  26.92,  26.97,  25.46,  24.64,  24.27,\n",
       "         23.1 ,  22.85,  22.74,  22.79,  28.85,  29.26,  29.53,  29.95,\n",
       "         30.  ,  34.09,  34.69,  35.26,  35.26,  35.27,  35.64,  33.34,\n",
       "         28.51,  27.91,  27.11,  26.43,  26.6 ,  25.43,  25.52,  24.47,\n",
       "         23.97,  23.65,  25.05,  24.75,  28.78,  29.25,  29.19,  29.08,\n",
       "         29.04,  32.84,  33.49,  33.33,  33.49,  33.68,  33.35,  33.02,\n",
       "         26.93,  27.19,  26.99,  28.64,  26.55,  25.15,  25.11,  25.06,\n",
       "         24.72,  24.51,  22.52,  23.27,  28.3 ,  27.83,  27.73,  27.94,\n",
       "         28.12,  34.08,  34.47,  34.29,  34.44,  34.54,  34.51,  33.51,\n",
       "         27.36,  27.33,  27.75,  27.81,  27.49,  25.13,  24.41,  22.63,\n",
       "         22.84,  23.88,  23.82,  23.43,  28.78,  28.66,  28.65,  28.97,\n",
       "         29.23,  34.85,  35.1 ,  35.33,  35.43,  35.47,  35.48,  34.44,\n",
       "         28.27,  28.04,  28.16,  28.54,  28.55,  25.42,  25.26,  24.22,\n",
       "         24.61,  24.96,  24.5 ,  23.78,  28.29,  28.01,  28.1 ,  28.28,\n",
       "         28.13,  33.67,  33.89,  34.01,  34.12,  34.08,  33.9 ,  32.37,\n",
       "         26.94,  25.97,  25.84,  25.72,  25.73,  24.05,  23.85,  23.54,\n",
       "         23.35,  22.89,  22.52,  22.02,  27.9 ,  27.99,  27.99,  28.02,\n",
       "         28.02,  33.87,  33.94,  34.02,  34.02,  34.06,  34.11,  31.56,\n",
       "         26.05,  26.55,  27.11,  27.86,  28.02,  24.21,  23.42,  22.31,\n",
       "         22.18,  22.16,  21.73,  21.29,  27.78,  27.82,  27.92,  28.43,\n",
       "         28.77,  35.09,  35.13,  35.51,  35.46,  35.53,  35.27,  33.28,\n",
       "         27.53,  27.65,  27.38,  27.26,  27.38,  25.24,  23.8 ,  23.07,\n",
       "         21.66,  21.64,  21.24,  21.7 ,  27.97,  29.02,  29.17,  29.19,\n",
       "         29.61,  36.62,  36.61,  37.52,  37.57,  37.54,  37.1 ,  34.56,\n",
       "         29.54,  29.34,  29.52,  28.65,  28.07,  26.44,  25.8 ,  24.72,\n",
       "         24.77,  24.5 ,  23.69,  22.91,  28.05,  28.54,  28.87,  29.18,\n",
       "         29.18,  34.14,  34.32,  34.51,  35.35,  34.56,  34.77,  33.02,\n",
       "         28.22,  26.56,  26.17,  26.06,  25.92,  24.87,  24.2 ,  23.61,\n",
       "         23.47,  23.42,  23.32,  23.23,  26.58,  27.32,  27.95,  28.79,\n",
       "         28.15,  33.44,  33.37,  33.61,  33.84,  32.48,  31.96,  29.16,\n",
       "         27.63,  27.42,  26.92,  26.83,  27.11,  26.83,  25.8 ,  24.11,\n",
       "         23.25,  23.04,  23.12,  22.92,  25.33,  25.9 ,  26.68,  27.06,\n",
       "         27.34,  30.05,  29.4 ,  28.67,  28.77,  26.68,  25.99,  26.91,\n",
       "         25.24,  25.25,  25.14,  24.74,  25.  ,  23.87,  24.62,  22.7 ,\n",
       "         21.96,  22.19,  21.31,  20.86,  23.82,  24.19,  24.6 ,  24.79,\n",
       "         25.03,  28.56,  28.72,  28.61,  28.89,  29.28,  28.48,  27.83,\n",
       "         25.28,  24.33,  24.43,  24.3 ,  23.94,  23.77,  22.39,  22.15,\n",
       "         22.19,  22.06,  21.75,  21.59,  24.84,  24.73,  24.74,  24.79,\n",
       "         24.41,  28.92,  28.88,  27.98,  28.76,  29.58,  30.07,  28.25,\n",
       "         25.12,  24.99,  24.98,  25.14,  25.01,  24.66,  24.06,  23.38,\n",
       "         23.23,  23.08,  22.5 ,  22.32,  26.15,  26.63,  26.76,  27.3 ,\n",
       "         27.56,  31.14,  31.53,  31.78,  32.02,  32.37,  32.54,  31.35,\n",
       "         26.22,  25.19,  24.49,  24.21,  24.36,  23.3 ,  22.48,  21.76,\n",
       "         22.5 ,  21.96,  21.65,  22.12,  25.77,  26.05,  26.22,  26.68,\n",
       "         26.68,  31.51,  31.08,  31.01,  31.57,  31.6 ,  31.78,  31.77,\n",
       "         26.63,  25.73,  25.37,  25.03,  24.89,  23.3 ,  22.18,  21.61,\n",
       "         20.99,  21.22,  21.74,  21.67,  26.57,  26.57,  26.75,  27.14,\n",
       "         27.72,  32.41,  32.36,  32.16,  32.61,  32.68,  32.56,  30.5 ,\n",
       "         26.2 ,  26.43,  26.96,  26.89,  26.9 ,  25.14,  24.54,  23.34,\n",
       "         22.9 ,  22.55,  22.16,  21.71,  27.03,  27.31,  27.74,  27.92,\n",
       "         28.13,  33.03,  33.21,  31.89,  31.81,  31.79,  31.92,  31.94,\n",
       "         27.06,  25.86,  26.89,  27.65,  26.24,  23.86,  23.52,  22.4 ,\n",
       "         22.57,  23.04,  22.31,  23.5 ,  28.01,  28.24,  28.32,  28.49,\n",
       "         28.54,  33.74,  33.61,  33.35,  33.92,  34.07,  34.42,  32.28,\n",
       "         27.93,  28.89,  27.5 ,  26.37,  27.28,  24.87,  25.17,  24.08,\n",
       "         24.8 ,  24.73,  24.1 ,  23.53,  28.58,  28.2 ,  28.04,  28.02,\n",
       "         28.16,  33.67,  34.03,  34.11,  34.71,  34.7 ,  34.93,  31.4 ,\n",
       "         27.53,  27.18,  27.16,  26.94,  26.89,  25.46,  26.49,  25.05,\n",
       "         22.58,  23.4 ,  23.24,  22.45,  27.73,  27.93,  28.07,  28.39,\n",
       "         28.62,  34.71,  34.91,  35.07,  34.45,  34.67,  34.64,  31.75,\n",
       "         27.89,  29.05,  29.55,  29.27,  27.14,  25.44,  25.12,  24.59,\n",
       "         24.29,  24.05,  22.98,  23.78,  27.47,  28.2 ,  28.29,  28.76,\n",
       "         28.01,  30.72,  30.59,  30.72,  30.5 ,  30.52,  30.09,  28.44,\n",
       "         23.93,  23.87,  24.22,  24.63,  24.91,  23.9 ,  23.39,  22.52,\n",
       "         22.15,  22.18,  22.47,  22.44,  25.78,  25.82,  25.89,  25.78,\n",
       "         25.36,  30.14,  30.83,  31.59,  31.75,  32.05,  28.84,  28.67,\n",
       "         25.07,  25.37,  25.05,  24.9 ,  25.37,  24.25,  23.84,  22.49,\n",
       "         22.27,  21.85,  21.7 ,  22.05,  25.82,  25.7 ,  26.54,  26.98,\n",
       "         27.37,  32.6 ,  32.92,  32.57,  33.04,  33.39,  33.43,  31.69,\n",
       "         27.45,  26.96,  27.68,  28.51,  27.34,  23.99,  23.2 ,  22.42,\n",
       "         22.4 ,  23.85,  21.93,  22.17,  27.67,  28.13,  28.47,  28.54,\n",
       "         28.54,  32.63,  33.01,  32.76,  33.03,  33.58,  33.86,  32.68,\n",
       "         26.28,  26.8 ,  26.57,  26.59,  26.6 ,  23.63,  23.31,  22.21,\n",
       "         21.37,  20.9 ,  20.98,  21.33,  27.74,  28.47,  28.65,  28.62,\n",
       "         28.22,  31.91,  32.74,  33.25,  33.2 ,  33.19,  33.04,  33.13,\n",
       "         26.03,  26.29,  26.09,  26.17,  26.3 ,  24.34,  23.38,  23.6 ,\n",
       "         21.65,  21.78,  21.56,  22.37,  27.83,  27.63,  27.51,  27.51,\n",
       "         27.71,  33.07,  33.24,  33.4 ,  33.46,  33.49,  33.45,  31.11,\n",
       "         27.36,  27.27,  27.04,  27.02,  27.29,  24.46,  24.16,  23.55,\n",
       "         23.43,  23.35,  22.93,  22.7 ,  27.66,  27.53,  27.68,  27.82,\n",
       "         28.1 ,  33.83,  33.98,  34.16,  33.81,  33.91,  33.82,  31.88,\n",
       "         27.39,  28.22,  27.61,  27.16,  28.79,  26.2 ,  25.8 ,  25.32,\n",
       "         25.42,  25.11,  24.72,  24.15,  28.26,  27.86,  27.73,  27.79,\n",
       "         28.17,  33.52,  33.83,  34.03,  34.4 ,  34.51,  34.4 ,  33.62,\n",
       "         28.14,  27.6 ,  27.23,  27.18,  28.28,  26.48,  26.09,  25.5 ,\n",
       "         25.14,  24.48,  23.88,  23.97,  28.3 ,  28.19,  28.15,  28.38,\n",
       "         28.4 ,  32.65,  33.64,  33.85,  33.88,  33.79,  33.84,  32.7 ,\n",
       "         28.01,  28.76]])"
      ]
     },
     "execution_count": 138,
     "metadata": {},
     "output_type": "execute_result"
    }
   ],
   "source": [
    "# df_temperatura.values[0:1]"
   ]
  },
  {
   "cell_type": "markdown",
   "id": "2e7f15a1-c757-4534-9dad-38f273a11eb1",
   "metadata": {},
   "source": [
    "#### <span style=\"color:#DC143C\">**B4. Informações Sobre o Dataframe**"
   ]
  },
  {
   "cell_type": "code",
   "execution_count": 139,
   "id": "ab5785db-5827-44fd-964a-fdf9a253d610",
   "metadata": {},
   "outputs": [
    {
     "name": "stdout",
     "output_type": "stream",
     "text": [
      "<class 'pandas.core.frame.DataFrame'>\n",
      "RangeIndex: 20 entries, 0 to 19\n",
      "Columns: 746 entries, 0 to 745\n",
      "dtypes: float64(746)\n",
      "memory usage: 116.7 KB\n"
     ]
    }
   ],
   "source": [
    "df_temperatura.info()"
   ]
  },
  {
   "cell_type": "code",
   "execution_count": 140,
   "id": "f257e318-e632-4fdc-9ea9-508b30c10d14",
   "metadata": {},
   "outputs": [
    {
     "data": {
      "text/html": [
       "<div>\n",
       "<style scoped>\n",
       "    .dataframe tbody tr th:only-of-type {\n",
       "        vertical-align: middle;\n",
       "    }\n",
       "\n",
       "    .dataframe tbody tr th {\n",
       "        vertical-align: top;\n",
       "    }\n",
       "\n",
       "    .dataframe thead th {\n",
       "        text-align: right;\n",
       "    }\n",
       "</style>\n",
       "<table border=\"1\" class=\"dataframe\">\n",
       "  <thead>\n",
       "    <tr style=\"text-align: right;\">\n",
       "      <th></th>\n",
       "      <th>0</th>\n",
       "      <th>1</th>\n",
       "      <th>2</th>\n",
       "      <th>3</th>\n",
       "      <th>4</th>\n",
       "      <th>5</th>\n",
       "      <th>6</th>\n",
       "      <th>7</th>\n",
       "      <th>8</th>\n",
       "      <th>9</th>\n",
       "      <th>...</th>\n",
       "      <th>736</th>\n",
       "      <th>737</th>\n",
       "      <th>738</th>\n",
       "      <th>739</th>\n",
       "      <th>740</th>\n",
       "      <th>741</th>\n",
       "      <th>742</th>\n",
       "      <th>743</th>\n",
       "      <th>744</th>\n",
       "      <th>745</th>\n",
       "    </tr>\n",
       "  </thead>\n",
       "  <tbody>\n",
       "    <tr>\n",
       "      <th>count</th>\n",
       "      <td>20.00000</td>\n",
       "      <td>20.00</td>\n",
       "      <td>20.00000</td>\n",
       "      <td>20.000000</td>\n",
       "      <td>20.000000</td>\n",
       "      <td>20.000000</td>\n",
       "      <td>20.000000</td>\n",
       "      <td>20.000000</td>\n",
       "      <td>20.000000</td>\n",
       "      <td>20.000000</td>\n",
       "      <td>...</td>\n",
       "      <td>20.000000</td>\n",
       "      <td>20.000000</td>\n",
       "      <td>20.000000</td>\n",
       "      <td>20.000000</td>\n",
       "      <td>20.000000</td>\n",
       "      <td>20.000000</td>\n",
       "      <td>20.000000</td>\n",
       "      <td>20.000000</td>\n",
       "      <td>20.000000</td>\n",
       "      <td>20.000000</td>\n",
       "    </tr>\n",
       "    <tr>\n",
       "      <th>mean</th>\n",
       "      <td>-42.37500</td>\n",
       "      <td>-14.25</td>\n",
       "      <td>25.46950</td>\n",
       "      <td>25.245000</td>\n",
       "      <td>25.017000</td>\n",
       "      <td>23.164500</td>\n",
       "      <td>22.391500</td>\n",
       "      <td>21.214500</td>\n",
       "      <td>20.833000</td>\n",
       "      <td>20.424000</td>\n",
       "      <td>...</td>\n",
       "      <td>27.898000</td>\n",
       "      <td>33.267000</td>\n",
       "      <td>33.669500</td>\n",
       "      <td>33.856000</td>\n",
       "      <td>34.175000</td>\n",
       "      <td>34.280500</td>\n",
       "      <td>34.251500</td>\n",
       "      <td>32.724500</td>\n",
       "      <td>28.603000</td>\n",
       "      <td>28.325500</td>\n",
       "    </tr>\n",
       "    <tr>\n",
       "      <th>std</th>\n",
       "      <td>1.47902</td>\n",
       "      <td>0.00</td>\n",
       "      <td>1.72765</td>\n",
       "      <td>1.990769</td>\n",
       "      <td>2.058265</td>\n",
       "      <td>2.023271</td>\n",
       "      <td>1.947412</td>\n",
       "      <td>1.982132</td>\n",
       "      <td>1.972904</td>\n",
       "      <td>1.871204</td>\n",
       "      <td>...</td>\n",
       "      <td>1.221533</td>\n",
       "      <td>1.639195</td>\n",
       "      <td>1.835327</td>\n",
       "      <td>1.855919</td>\n",
       "      <td>1.745745</td>\n",
       "      <td>1.755405</td>\n",
       "      <td>2.000274</td>\n",
       "      <td>2.279687</td>\n",
       "      <td>1.869008</td>\n",
       "      <td>1.857983</td>\n",
       "    </tr>\n",
       "    <tr>\n",
       "      <th>min</th>\n",
       "      <td>-44.75000</td>\n",
       "      <td>-14.25</td>\n",
       "      <td>21.86000</td>\n",
       "      <td>21.150000</td>\n",
       "      <td>20.940000</td>\n",
       "      <td>19.400000</td>\n",
       "      <td>18.820000</td>\n",
       "      <td>17.910000</td>\n",
       "      <td>17.770000</td>\n",
       "      <td>17.640000</td>\n",
       "      <td>...</td>\n",
       "      <td>25.460000</td>\n",
       "      <td>29.540000</td>\n",
       "      <td>29.510000</td>\n",
       "      <td>29.690000</td>\n",
       "      <td>30.180000</td>\n",
       "      <td>30.140000</td>\n",
       "      <td>29.600000</td>\n",
       "      <td>27.530000</td>\n",
       "      <td>24.450000</td>\n",
       "      <td>23.950000</td>\n",
       "    </tr>\n",
       "    <tr>\n",
       "      <th>25%</th>\n",
       "      <td>-43.56250</td>\n",
       "      <td>-14.25</td>\n",
       "      <td>24.24750</td>\n",
       "      <td>24.172500</td>\n",
       "      <td>23.965000</td>\n",
       "      <td>21.930000</td>\n",
       "      <td>21.152500</td>\n",
       "      <td>19.822500</td>\n",
       "      <td>19.365000</td>\n",
       "      <td>19.020000</td>\n",
       "      <td>...</td>\n",
       "      <td>27.292500</td>\n",
       "      <td>32.587500</td>\n",
       "      <td>33.020000</td>\n",
       "      <td>33.377500</td>\n",
       "      <td>33.605000</td>\n",
       "      <td>33.730000</td>\n",
       "      <td>33.782500</td>\n",
       "      <td>32.042500</td>\n",
       "      <td>27.887500</td>\n",
       "      <td>27.525000</td>\n",
       "    </tr>\n",
       "    <tr>\n",
       "      <th>50%</th>\n",
       "      <td>-42.37500</td>\n",
       "      <td>-14.25</td>\n",
       "      <td>25.97000</td>\n",
       "      <td>25.530000</td>\n",
       "      <td>25.120000</td>\n",
       "      <td>22.815000</td>\n",
       "      <td>21.980000</td>\n",
       "      <td>20.720000</td>\n",
       "      <td>20.195000</td>\n",
       "      <td>19.785000</td>\n",
       "      <td>...</td>\n",
       "      <td>27.965000</td>\n",
       "      <td>33.435000</td>\n",
       "      <td>33.710000</td>\n",
       "      <td>33.965000</td>\n",
       "      <td>34.210000</td>\n",
       "      <td>34.220000</td>\n",
       "      <td>34.345000</td>\n",
       "      <td>32.925000</td>\n",
       "      <td>28.745000</td>\n",
       "      <td>28.835000</td>\n",
       "    </tr>\n",
       "    <tr>\n",
       "      <th>75%</th>\n",
       "      <td>-41.18750</td>\n",
       "      <td>-14.25</td>\n",
       "      <td>26.80000</td>\n",
       "      <td>26.740000</td>\n",
       "      <td>26.720000</td>\n",
       "      <td>25.027500</td>\n",
       "      <td>24.170000</td>\n",
       "      <td>22.860000</td>\n",
       "      <td>22.497500</td>\n",
       "      <td>22.090000</td>\n",
       "      <td>...</td>\n",
       "      <td>28.800000</td>\n",
       "      <td>34.320000</td>\n",
       "      <td>35.005000</td>\n",
       "      <td>35.125000</td>\n",
       "      <td>35.270000</td>\n",
       "      <td>35.297500</td>\n",
       "      <td>35.327500</td>\n",
       "      <td>34.120000</td>\n",
       "      <td>30.137500</td>\n",
       "      <td>29.327500</td>\n",
       "    </tr>\n",
       "    <tr>\n",
       "      <th>max</th>\n",
       "      <td>-40.00000</td>\n",
       "      <td>-14.25</td>\n",
       "      <td>27.57000</td>\n",
       "      <td>27.940000</td>\n",
       "      <td>27.560000</td>\n",
       "      <td>25.740000</td>\n",
       "      <td>25.160000</td>\n",
       "      <td>24.270000</td>\n",
       "      <td>24.000000</td>\n",
       "      <td>23.390000</td>\n",
       "      <td>...</td>\n",
       "      <td>29.660000</td>\n",
       "      <td>35.480000</td>\n",
       "      <td>36.090000</td>\n",
       "      <td>36.180000</td>\n",
       "      <td>36.620000</td>\n",
       "      <td>36.700000</td>\n",
       "      <td>36.940000</td>\n",
       "      <td>35.850000</td>\n",
       "      <td>30.960000</td>\n",
       "      <td>30.490000</td>\n",
       "    </tr>\n",
       "  </tbody>\n",
       "</table>\n",
       "<p>8 rows × 746 columns</p>\n",
       "</div>"
      ],
      "text/plain": [
       "            0      1         2          3          4          5          6    \\\n",
       "count  20.00000  20.00  20.00000  20.000000  20.000000  20.000000  20.000000   \n",
       "mean  -42.37500 -14.25  25.46950  25.245000  25.017000  23.164500  22.391500   \n",
       "std     1.47902   0.00   1.72765   1.990769   2.058265   2.023271   1.947412   \n",
       "min   -44.75000 -14.25  21.86000  21.150000  20.940000  19.400000  18.820000   \n",
       "25%   -43.56250 -14.25  24.24750  24.172500  23.965000  21.930000  21.152500   \n",
       "50%   -42.37500 -14.25  25.97000  25.530000  25.120000  22.815000  21.980000   \n",
       "75%   -41.18750 -14.25  26.80000  26.740000  26.720000  25.027500  24.170000   \n",
       "max   -40.00000 -14.25  27.57000  27.940000  27.560000  25.740000  25.160000   \n",
       "\n",
       "             7          8          9    ...        736        737        738  \\\n",
       "count  20.000000  20.000000  20.000000  ...  20.000000  20.000000  20.000000   \n",
       "mean   21.214500  20.833000  20.424000  ...  27.898000  33.267000  33.669500   \n",
       "std     1.982132   1.972904   1.871204  ...   1.221533   1.639195   1.835327   \n",
       "min    17.910000  17.770000  17.640000  ...  25.460000  29.540000  29.510000   \n",
       "25%    19.822500  19.365000  19.020000  ...  27.292500  32.587500  33.020000   \n",
       "50%    20.720000  20.195000  19.785000  ...  27.965000  33.435000  33.710000   \n",
       "75%    22.860000  22.497500  22.090000  ...  28.800000  34.320000  35.005000   \n",
       "max    24.270000  24.000000  23.390000  ...  29.660000  35.480000  36.090000   \n",
       "\n",
       "             739        740        741        742        743        744  \\\n",
       "count  20.000000  20.000000  20.000000  20.000000  20.000000  20.000000   \n",
       "mean   33.856000  34.175000  34.280500  34.251500  32.724500  28.603000   \n",
       "std     1.855919   1.745745   1.755405   2.000274   2.279687   1.869008   \n",
       "min    29.690000  30.180000  30.140000  29.600000  27.530000  24.450000   \n",
       "25%    33.377500  33.605000  33.730000  33.782500  32.042500  27.887500   \n",
       "50%    33.965000  34.210000  34.220000  34.345000  32.925000  28.745000   \n",
       "75%    35.125000  35.270000  35.297500  35.327500  34.120000  30.137500   \n",
       "max    36.180000  36.620000  36.700000  36.940000  35.850000  30.960000   \n",
       "\n",
       "             745  \n",
       "count  20.000000  \n",
       "mean   28.325500  \n",
       "std     1.857983  \n",
       "min    23.950000  \n",
       "25%    27.525000  \n",
       "50%    28.835000  \n",
       "75%    29.327500  \n",
       "max    30.490000  \n",
       "\n",
       "[8 rows x 746 columns]"
      ]
     },
     "execution_count": 140,
     "metadata": {},
     "output_type": "execute_result"
    }
   ],
   "source": [
    "# Descreve apenas colunas \"Numericas\"\n",
    "df_temperatura.describe(include=[np.number])"
   ]
  },
  {
   "cell_type": "markdown",
   "id": "a1feda1f-afb7-429e-9dfc-541e4723d450",
   "metadata": {},
   "source": [
    "### **C) Análise sobre os Dados**"
   ]
  },
  {
   "cell_type": "markdown",
   "id": "7462dcdc-daa0-4cad-a944-a264ce575254",
   "metadata": {},
   "source": [
    "#### <span style=\"color:#DC143C\">**C1. Quantidade de valores não nulos**"
   ]
  },
  {
   "cell_type": "code",
   "execution_count": 141,
   "id": "ef87a932-b74b-48fe-b151-a8ec29013fef",
   "metadata": {},
   "outputs": [
    {
     "data": {
      "text/plain": [
       "0      20\n",
       "1      20\n",
       "2      20\n",
       "3      20\n",
       "4      20\n",
       "       ..\n",
       "741    20\n",
       "742    20\n",
       "743    20\n",
       "744    20\n",
       "745    20\n",
       "Length: 746, dtype: int64"
      ]
     },
     "execution_count": 141,
     "metadata": {},
     "output_type": "execute_result"
    }
   ],
   "source": [
    "df_temperatura.count()"
   ]
  },
  {
   "cell_type": "markdown",
   "id": "16805d59-b316-4e69-a0c5-7a18ed97b6a4",
   "metadata": {},
   "source": [
    "#### <span style=\"color:#DC143C\">**C2. Quantidade de valores NULOS**"
   ]
  },
  {
   "cell_type": "markdown",
   "id": "3fe08f32-0f4b-446f-a6fa-50b6b7c7f8a4",
   "metadata": {},
   "source": [
    "<p>Exemplo:<br> \n",
    "<b>rain.isnull()</b>  # O conteúdo da campo onde está NULL recebe o valor FALSE, senão TRUE <br>\n",
    "<b>rain.isnull().sum()</b>  # Totaliza os conteudos não NULL por coluna"
   ]
  },
  {
   "cell_type": "code",
   "execution_count": 142,
   "id": "8cf14de2-0e35-4194-8d40-010a26193ee4",
   "metadata": {},
   "outputs": [
    {
     "data": {
      "text/plain": [
       "0      0\n",
       "1      0\n",
       "2      0\n",
       "3      0\n",
       "4      0\n",
       "      ..\n",
       "741    0\n",
       "742    0\n",
       "743    0\n",
       "744    0\n",
       "745    0\n",
       "Length: 746, dtype: int64"
      ]
     },
     "execution_count": 142,
     "metadata": {},
     "output_type": "execute_result"
    }
   ],
   "source": [
    "df_temperatura.isnull().sum()"
   ]
  },
  {
   "cell_type": "markdown",
   "id": "030c1b9a-de76-492a-8448-0a192b0448d5",
   "metadata": {},
   "source": [
    "#### <span style=\"color:#DC143C\"> **C3. Visualiação de Dados Faltantes**"
   ]
  },
  {
   "cell_type": "markdown",
   "id": "7b551947-04a6-406d-829b-91de295c8be5",
   "metadata": {},
   "source": [
    "(  https://github.com/ResidentMario/missingno ) <br>\n",
    "O <i>missingno</i> fornece um pequeno conjunto de ferramentas de visualizações de dados perdidos flexíveis e fáceis de usar e utilitários que permitem que você obtenha\n",
    "um rápido resumo visual da completude (ou falta dela) do seu conjunto de dados.\n",
    "<p>\n",
    "<b>1.Matriz</b><br>\n",
    "A matriz de nulidade <b>msno.matrix</b> é uma exibição densa de dados que permite que você selecione visualmente padrões na conclusão de dados.<br>\n",
    "As linhas brancas indicam valores ausentes. O minigráfico à direita resume a forma geral da integridade dos dados e aponta as linhas com a nulidade máxima e mínima no conjunto de dados\n"
   ]
  },
  {
   "cell_type": "code",
   "execution_count": 143,
   "id": "a5319a98-c88e-4d22-93dc-13378537ddce",
   "metadata": {},
   "outputs": [
    {
     "data": {
      "text/plain": [
       "<AxesSubplot:>"
      ]
     },
     "execution_count": 143,
     "metadata": {},
     "output_type": "execute_result"
    },
    {
     "data": {
      "image/png": "[encoded data removed]",
      "text/plain": [
       "<Figure size 1800x720 with 2 Axes>"
      ]
     },
     "metadata": {
      "needs_background": "light"
     },
     "output_type": "display_data"
    }
   ],
   "source": [
    "msno.matrix(df_temperatura)"
   ]
  },
  {
   "cell_type": "markdown",
   "id": "c29c9b5a-b434-4847-a1c7-c624d12a2984",
   "metadata": {},
   "source": [
    "### **D) Tratamento -- Preencher Lacunas (Se Houver)**"
   ]
  },
  {
   "cell_type": "code",
   "execution_count": 144,
   "id": "f99bddc5-e626-4134-a0da-c58832453da3",
   "metadata": {},
   "outputs": [
    {
     "name": "stdout",
     "output_type": "stream",
     "text": [
      "Total de Linhas do Dataframe: (Antes) :20\n",
      "Total de Linhas do Dataframe: (Depois):20\n"
     ]
    }
   ],
   "source": [
    "print(\"Total de Linhas do Dataframe: (Antes) :\" + str(len(df_temperatura)))\n",
    "df_temperatura = df_temperatura.drop_duplicates()\n",
    "print(\"Total de Linhas do Dataframe: (Depois):\" + str(len(df_temperatura)))"
   ]
  },
  {
   "cell_type": "markdown",
   "id": "47dd1c64-1bee-4daa-8e52-33649c35f3f9",
   "metadata": {},
   "source": [
    "### **E) Descrição dos Atributos**"
   ]
  },
  {
   "cell_type": "markdown",
   "id": "8fe4a53a-23d7-4d0d-938a-c61bd1e3704f",
   "metadata": {},
   "source": [
    "<p><b>Cada linha contem um ponto de latitude e longitude localizado no meio de uma quadricula de 5km de cada lado da<br>\n",
    "    Região Nordeste do Brasil, e em seguinda dos valores horário de cada dia do mês 01 (referência).\n",
    "<br>\n",
    "<br>Coluna 0: Longitude em Graus\n",
    "<br>Coluna 1: Latitude em Graus\n",
    "<br>Coluna 2: Valor da Temperatura em Graus Celsius ºC\n",
    "<br>Coluna 3..746: Valor da Temperatura em Graus Celsius ºC\n",
    "</b></p>\n",
    "\n"
   ]
  },
  {
   "cell_type": "markdown",
   "id": "c39be079-72cf-4e93-91a9-29aa92af3211",
   "metadata": {},
   "source": [
    "#### <span style=\"color:#DC143C\"> **E1. Descobrindo todas as variáveis \"Categoricas\" e \"Continuas\"**"
   ]
  },
  {
   "cell_type": "code",
   "execution_count": 145,
   "id": "80b41678-14c9-4ece-bbca-3d0f7306033b",
   "metadata": {},
   "outputs": [
    {
     "name": "stdout",
     "output_type": "stream",
     "text": [
      "Colunas com variaveis Categóricas: []\n",
      "\n",
      "Colunas com variaveis Contínuas: [0, 1, 2, 3, 4, 5, 6, 7, 8, 9, 10, 11, 12, 13, 14, 15, 16, 17, 18, 19, 20, 21, 22, 23, 24, 25, 26, 27, 28, 29, 30, 31, 32, 33, 34, 35, 36, 37, 38, 39, 40, 41, 42, 43, 44, 45, 46, 47, 48, 49, 50, 51, 52, 53, 54, 55, 56, 57, 58, 59, 60, 61, 62, 63, 64, 65, 66, 67, 68, 69, 70, 71, 72, 73, 74, 75, 76, 77, 78, 79, 80, 81, 82, 83, 84, 85, 86, 87, 88, 89, 90, 91, 92, 93, 94, 95, 96, 97, 98, 99, 100, 101, 102, 103, 104, 105, 106, 107, 108, 109, 110, 111, 112, 113, 114, 115, 116, 117, 118, 119, 120, 121, 122, 123, 124, 125, 126, 127, 128, 129, 130, 131, 132, 133, 134, 135, 136, 137, 138, 139, 140, 141, 142, 143, 144, 145, 146, 147, 148, 149, 150, 151, 152, 153, 154, 155, 156, 157, 158, 159, 160, 161, 162, 163, 164, 165, 166, 167, 168, 169, 170, 171, 172, 173, 174, 175, 176, 177, 178, 179, 180, 181, 182, 183, 184, 185, 186, 187, 188, 189, 190, 191, 192, 193, 194, 195, 196, 197, 198, 199, 200, 201, 202, 203, 204, 205, 206, 207, 208, 209, 210, 211, 212, 213, 214, 215, 216, 217, 218, 219, 220, 221, 222, 223, 224, 225, 226, 227, 228, 229, 230, 231, 232, 233, 234, 235, 236, 237, 238, 239, 240, 241, 242, 243, 244, 245, 246, 247, 248, 249, 250, 251, 252, 253, 254, 255, 256, 257, 258, 259, 260, 261, 262, 263, 264, 265, 266, 267, 268, 269, 270, 271, 272, 273, 274, 275, 276, 277, 278, 279, 280, 281, 282, 283, 284, 285, 286, 287, 288, 289, 290, 291, 292, 293, 294, 295, 296, 297, 298, 299, 300, 301, 302, 303, 304, 305, 306, 307, 308, 309, 310, 311, 312, 313, 314, 315, 316, 317, 318, 319, 320, 321, 322, 323, 324, 325, 326, 327, 328, 329, 330, 331, 332, 333, 334, 335, 336, 337, 338, 339, 340, 341, 342, 343, 344, 345, 346, 347, 348, 349, 350, 351, 352, 353, 354, 355, 356, 357, 358, 359, 360, 361, 362, 363, 364, 365, 366, 367, 368, 369, 370, 371, 372, 373, 374, 375, 376, 377, 378, 379, 380, 381, 382, 383, 384, 385, 386, 387, 388, 389, 390, 391, 392, 393, 394, 395, 396, 397, 398, 399, 400, 401, 402, 403, 404, 405, 406, 407, 408, 409, 410, 411, 412, 413, 414, 415, 416, 417, 418, 419, 420, 421, 422, 423, 424, 425, 426, 427, 428, 429, 430, 431, 432, 433, 434, 435, 436, 437, 438, 439, 440, 441, 442, 443, 444, 445, 446, 447, 448, 449, 450, 451, 452, 453, 454, 455, 456, 457, 458, 459, 460, 461, 462, 463, 464, 465, 466, 467, 468, 469, 470, 471, 472, 473, 474, 475, 476, 477, 478, 479, 480, 481, 482, 483, 484, 485, 486, 487, 488, 489, 490, 491, 492, 493, 494, 495, 496, 497, 498, 499, 500, 501, 502, 503, 504, 505, 506, 507, 508, 509, 510, 511, 512, 513, 514, 515, 516, 517, 518, 519, 520, 521, 522, 523, 524, 525, 526, 527, 528, 529, 530, 531, 532, 533, 534, 535, 536, 537, 538, 539, 540, 541, 542, 543, 544, 545, 546, 547, 548, 549, 550, 551, 552, 553, 554, 555, 556, 557, 558, 559, 560, 561, 562, 563, 564, 565, 566, 567, 568, 569, 570, 571, 572, 573, 574, 575, 576, 577, 578, 579, 580, 581, 582, 583, 584, 585, 586, 587, 588, 589, 590, 591, 592, 593, 594, 595, 596, 597, 598, 599, 600, 601, 602, 603, 604, 605, 606, 607, 608, 609, 610, 611, 612, 613, 614, 615, 616, 617, 618, 619, 620, 621, 622, 623, 624, 625, 626, 627, 628, 629, 630, 631, 632, 633, 634, 635, 636, 637, 638, 639, 640, 641, 642, 643, 644, 645, 646, 647, 648, 649, 650, 651, 652, 653, 654, 655, 656, 657, 658, 659, 660, 661, 662, 663, 664, 665, 666, 667, 668, 669, 670, 671, 672, 673, 674, 675, 676, 677, 678, 679, 680, 681, 682, 683, 684, 685, 686, 687, 688, 689, 690, 691, 692, 693, 694, 695, 696, 697, 698, 699, 700, 701, 702, 703, 704, 705, 706, 707, 708, 709, 710, 711, 712, 713, 714, 715, 716, 717, 718, 719, 720, 721, 722, 723, 724, 725, 726, 727, 728, 729, 730, 731, 732, 733, 734, 735, 736, 737, 738, 739, 740, 741, 742, 743, 744, 745]\n"
     ]
    }
   ],
   "source": [
    "categorical_col, contin_val=[],[]\n",
    "\n",
    "for i in df_temperatura.columns:  # i = nome das colunas\n",
    "   # print(i)\n",
    "    if df_temperatura[i].dtype == 'object':\n",
    "        categorical_col.append(i)\n",
    "    else:\n",
    "        contin_val.append(i)\n",
    "        \n",
    "print(\"Colunas com variaveis Categóricas: \" + str(categorical_col))\n",
    "print('')\n",
    "print(\"Colunas com variaveis Contínuas: \" + str(contin_val))"
   ]
  },
  {
   "cell_type": "markdown",
   "id": "c87add9b-9d82-41d5-8c44-af98330c4888",
   "metadata": {},
   "source": [
    "#### <span style=\"color:#DC143C\"> **E2. Alterar Formato do Shape**"
   ]
  },
  {
   "cell_type": "code",
   "execution_count": 146,
   "id": "5939fc27-4b7c-48c4-a423-f5fa4c4114f8",
   "metadata": {},
   "outputs": [],
   "source": [
    "Linha    =  df_temperatura.shape[0]  # Total de Linhas\n",
    "Colunas  =  df_temperatura.shape[1]  # Total de Colunas\n",
    "\n",
    "frente = ['Longitude', 'Latitude', 'Valor_Temp', 'Data']  # Cabeçalho\n",
    "df_result_temperatura = pd.DataFrame(columns=frente)  # Criação de um dataframe vazio\n"
   ]
  },
  {
   "cell_type": "markdown",
   "id": "ad785ca5-0c23-4b4c-8714-c3e26a7f2d61",
   "metadata": {},
   "source": [
    "#### <span style=\"color:#DC143C\">**E3. Inicio da execução**"
   ]
  },
  {
   "cell_type": "code",
   "execution_count": 147,
   "id": "a8688424-12d7-4402-9715-41440e49c451",
   "metadata": {},
   "outputs": [
    {
     "data": {
      "text/plain": [
       "'2021-06-22 19:17:50'"
      ]
     },
     "execution_count": 147,
     "metadata": {},
     "output_type": "execute_result"
    }
   ],
   "source": [
    "datetime.now().strftime('%Y-%m-%d %H:%M:%S')"
   ]
  },
  {
   "cell_type": "code",
   "execution_count": null,
   "id": "32cb4939-d5f4-4f6c-9c57-c5210f7cd8dc",
   "metadata": {},
   "outputs": [
    {
     "name": "stdout",
     "output_type": "stream",
     "text": [
      "linha: 0\n",
      "linha: 1\n",
      "linha: 2\n",
      "linha: 3\n",
      "linha: 4\n",
      "linha: 5\n",
      "linha: 6\n",
      "linha: 7\n",
      "linha: 8\n",
      "linha: 9\n",
      "linha: 10\n",
      "linha: 11\n"
     ]
    }
   ],
   "source": [
    "refdia = 1\n",
    "    \n",
    "# Função para transformar .... \n",
    "for lin in range(Linha):\n",
    "    # print('linha: ' + str(lin))\n",
    "    \n",
    "    refhora = 0\n",
    "    \n",
    "    for col in range (Colunas):        \n",
    "        if col > 1:    # Removo log e Lat da varredura\n",
    "            # print(col)\n",
    "            # print('Day: '  + str(refdia))    \n",
    "            # print('Hora: ' + str(refhora))   \n",
    "                \n",
    "            data_p = datetime(year=2017, month=1, day = refdia, hour = refhora, minute=0, second=0) \n",
    "            # print(data)\n",
    "                \n",
    "            variavel = [df_temperatura.loc[lin,0], df_temperatura.loc[lin,1] , df_temperatura.loc[lin,col] , data_p] \n",
    "                \n",
    "            df_result_temperatura.loc[-1] = variavel  # adding a row\n",
    "            df_result_temperatura.index = df_result_temperatura.index + 1\n",
    "                \n",
    "            refhora = refhora + 1\n",
    "            if refhora == 24:                    \n",
    "                refdia = refdia + 1\n",
    "                refhora = 0\n",
    "                \n",
    "    refdia = 1\n",
    "    refhora = 0\n",
    "    \n",
    "df_result_temperatura.reset_index(inplace=True, drop=False)  #Reseto o indice"
   ]
  },
  {
   "cell_type": "markdown",
   "id": "76eb16fe-ffde-4b5f-8810-327f4a796957",
   "metadata": {},
   "source": [
    "#### <span style=\"color:#DC143C\">**E4. Fim da execução**"
   ]
  },
  {
   "cell_type": "code",
   "execution_count": null,
   "id": "af1f73b9-cbb5-4fd3-b69e-28d565adacce",
   "metadata": {},
   "outputs": [],
   "source": [
    "datetime.now().strftime('%Y-%m-%d %H:%M:%S') "
   ]
  },
  {
   "cell_type": "markdown",
   "id": "0196292f-3283-4723-ba9b-0eb6170e5135",
   "metadata": {},
   "source": [
    "### **F. Exporta Resultados**"
   ]
  },
  {
   "cell_type": "code",
   "execution_count": null,
   "id": "ae0fcb10-eb63-4730-abc0-ac8bdd1ea303",
   "metadata": {},
   "outputs": [],
   "source": [
    "df_result_temperatura.drop('index',axis='columns', inplace=True)"
   ]
  },
  {
   "cell_type": "code",
   "execution_count": null,
   "id": "3e7d0d30-082a-464e-8fd7-57ddcf2bc8ed",
   "metadata": {},
   "outputs": [],
   "source": [
    "df_result_temperatura.to_csv(output_file, sep=';',  encoding='utf-8')\n",
    "df_result_temperatura.to_parquet(save_file, compression='snappy')"
   ]
  },
  {
   "cell_type": "code",
   "execution_count": null,
   "id": "290913b3-a5f3-445b-9e87-8b63c2a7c5b5",
   "metadata": {},
   "outputs": [],
   "source": []
  }
 ],
 "metadata": {
  "kernelspec": {
   "display_name": "Python 3",
   "language": "python",
   "name": "python3"
  },
  "language_info": {
   "codemirror_mode": {
    "name": "ipython",
    "version": 3
   },
   "file_extension": ".py",
   "mimetype": "text/x-python",
   "name": "python",
   "nbconvert_exporter": "python",
   "pygments_lexer": "ipython3",
   "version": "3.7.10"
  }
 },
 "nbformat": 4,
 "nbformat_minor": 5
}
