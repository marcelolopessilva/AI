{
 "cells": [
  {
   "cell_type": "code",
   "execution_count": 1,
   "id": "eb7d0d19-ccda-4e67-b305-088b8bbf3c85",
   "metadata": {},
   "outputs": [],
   "source": [
    "import numpy as np\n",
    "import pandas as pd\n",
    "from datetime import datetime,date,time\n",
    "from dateutil.relativedelta import relativedelta\n"
   ]
  },
  {
   "cell_type": "markdown",
   "id": "d4de6591-f4da-4527-8263-f74933fa9424",
   "metadata": {},
   "source": [
    "### **A) Coleta dos Dados de Vento Verificado no Patio 1**"
   ]
  },
  {
   "cell_type": "code",
   "execution_count": 14,
   "id": "ce4ae9a9-fde5-4f5f-8cd6-1dfbbaa3f0c5",
   "metadata": {},
   "outputs": [],
   "source": [
    "source_file = '../../Data/raw/eolica/01_patio_BAUET3_CAETITÉ_3_Ven_Verif_Consis.txt'"
   ]
  },
  {
   "cell_type": "code",
   "execution_count": 98,
   "id": "f3ba86b3-1f9e-4435-8ddc-c3fb18fb3940",
   "metadata": {},
   "outputs": [],
   "source": [
    "dfvento_consit = pd.read_csv(source_file, delimiter = ';' , header=None )"
   ]
  },
  {
   "cell_type": "markdown",
   "id": "533e1214-19b9-470f-8d35-9b5cedd6736d",
   "metadata": {},
   "source": [
    "### **B) Sobre os Dados no Patio 1**"
   ]
  },
  {
   "cell_type": "markdown",
   "id": "7e7cf551-72c8-477b-8984-53dd2ca27235",
   "metadata": {},
   "source": [
    "#### <span style=\"color:#DC143C\">**B1.Formato dos Dados**"
   ]
  },
  {
   "cell_type": "code",
   "execution_count": 106,
   "id": "05e5dc6d-2f12-4267-8f14-bd7028017935",
   "metadata": {},
   "outputs": [
    {
     "data": {
      "text/plain": [
       "(366, 51)"
      ]
     },
     "execution_count": 106,
     "metadata": {},
     "output_type": "execute_result"
    }
   ],
   "source": [
    "dfvento_consit.shape # formato da matriz"
   ]
  },
  {
   "cell_type": "markdown",
   "id": "9d24ab44-4f41-4132-84db-1977047f5cad",
   "metadata": {},
   "source": [
    "#### <span style=\"color:#DC143C\">**B2.Visao do Dataframe**"
   ]
  },
  {
   "cell_type": "code",
   "execution_count": 116,
   "id": "264c2fda-4d8e-4114-8641-6fb08f2df705",
   "metadata": {},
   "outputs": [
    {
     "data": {
      "text/html": [
       "<div>\n",
       "<style scoped>\n",
       "    .dataframe tbody tr th:only-of-type {\n",
       "        vertical-align: middle;\n",
       "    }\n",
       "\n",
       "    .dataframe tbody tr th {\n",
       "        vertical-align: top;\n",
       "    }\n",
       "\n",
       "    .dataframe thead th {\n",
       "        text-align: right;\n",
       "    }\n",
       "</style>\n",
       "<table border=\"1\" class=\"dataframe\">\n",
       "  <thead>\n",
       "    <tr style=\"text-align: right;\">\n",
       "      <th></th>\n",
       "      <th>longitude</th>\n",
       "      <th>latitude</th>\n",
       "      <th>0</th>\n",
       "      <th>1</th>\n",
       "      <th>2</th>\n",
       "      <th>3</th>\n",
       "      <th>4</th>\n",
       "      <th>5</th>\n",
       "      <th>6</th>\n",
       "      <th>7</th>\n",
       "      <th>...</th>\n",
       "      <th>39</th>\n",
       "      <th>40</th>\n",
       "      <th>41</th>\n",
       "      <th>42</th>\n",
       "      <th>43</th>\n",
       "      <th>44</th>\n",
       "      <th>45</th>\n",
       "      <th>46</th>\n",
       "      <th>47</th>\n",
       "      <th>48</th>\n",
       "    </tr>\n",
       "  </thead>\n",
       "  <tbody>\n",
       "    <tr>\n",
       "      <th>1827</th>\n",
       "      <td>-42.75</td>\n",
       "      <td>-14.25</td>\n",
       "      <td>2017-01-01</td>\n",
       "      <td>9.71</td>\n",
       "      <td>9.920</td>\n",
       "      <td>9.048</td>\n",
       "      <td>8.422</td>\n",
       "      <td>8.372</td>\n",
       "      <td>8.537</td>\n",
       "      <td>9.515</td>\n",
       "      <td>...</td>\n",
       "      <td>6.217</td>\n",
       "      <td>5.928</td>\n",
       "      <td>5.414</td>\n",
       "      <td>5.992</td>\n",
       "      <td>6.614</td>\n",
       "      <td>6.967</td>\n",
       "      <td>7.00</td>\n",
       "      <td>8.562</td>\n",
       "      <td>8.91</td>\n",
       "      <td>8.42</td>\n",
       "    </tr>\n",
       "    <tr>\n",
       "      <th>1828</th>\n",
       "      <td>-42.75</td>\n",
       "      <td>-14.25</td>\n",
       "      <td>2017-01-02</td>\n",
       "      <td>7.49</td>\n",
       "      <td>8.197</td>\n",
       "      <td>7.953</td>\n",
       "      <td>7.503</td>\n",
       "      <td>7.257</td>\n",
       "      <td>7.570</td>\n",
       "      <td>6.960</td>\n",
       "      <td>...</td>\n",
       "      <td>1.897</td>\n",
       "      <td>2.390</td>\n",
       "      <td>3.140</td>\n",
       "      <td>5.013</td>\n",
       "      <td>5.323</td>\n",
       "      <td>3.577</td>\n",
       "      <td>3.07</td>\n",
       "      <td>6.557</td>\n",
       "      <td>7.52</td>\n",
       "      <td>6.05</td>\n",
       "    </tr>\n",
       "  </tbody>\n",
       "</table>\n",
       "<p>2 rows × 51 columns</p>\n",
       "</div>"
      ],
      "text/plain": [
       "      longitude  latitude          0     1      2      3      4      5      6  \\\n",
       "1827     -42.75    -14.25 2017-01-01  9.71  9.920  9.048  8.422  8.372  8.537   \n",
       "1828     -42.75    -14.25 2017-01-02  7.49  8.197  7.953  7.503  7.257  7.570   \n",
       "\n",
       "          7  ...     39     40     41     42     43     44    45     46    47  \\\n",
       "1827  9.515  ...  6.217  5.928  5.414  5.992  6.614  6.967  7.00  8.562  8.91   \n",
       "1828  6.960  ...  1.897  2.390  3.140  5.013  5.323  3.577  3.07  6.557  7.52   \n",
       "\n",
       "        48  \n",
       "1827  8.42  \n",
       "1828  6.05  \n",
       "\n",
       "[2 rows x 51 columns]"
      ]
     },
     "execution_count": 116,
     "metadata": {},
     "output_type": "execute_result"
    }
   ],
   "source": [
    "dfvento_consit.head(2)  # visão de 5 linhas"
   ]
  },
  {
   "cell_type": "markdown",
   "id": "5946208f-3f8e-42e8-87cf-5673729dcee3",
   "metadata": {},
   "source": [
    "### **C) Extração os Dados de 2017**"
   ]
  },
  {
   "cell_type": "markdown",
   "id": "03d6e54e-5dcc-4494-924a-26cf0c51a58b",
   "metadata": {},
   "source": [
    "#### <span style=\"color:#DC143C\"> **C1. Converter a primeira coluna em Data**"
   ]
  },
  {
   "cell_type": "code",
   "execution_count": 99,
   "id": "36ce0d92-bec5-4138-b9c0-719f3c3b4def",
   "metadata": {},
   "outputs": [],
   "source": [
    "dfvento_consit[0]= pd.to_datetime(dfvento_consit[0], format='%Y%m%d')"
   ]
  },
  {
   "cell_type": "markdown",
   "id": "99dc7a59-537f-4e2e-abd4-1d4e0e1c535c",
   "metadata": {},
   "source": [
    "#### <span style=\"color:#DC143C\"> **C2.Remove registros fora do Intervalo**"
   ]
  },
  {
   "cell_type": "code",
   "execution_count": 100,
   "id": "c8d8004c-2262-4629-93be-9a2fe1247087",
   "metadata": {},
   "outputs": [],
   "source": [
    "dfvento_consit = dfvento_consit.drop(dfvento_consit[dfvento_consit[0] > '2017-12-31'].index)\n",
    "dfvento_consit = dfvento_consit.drop(dfvento_consit[dfvento_consit[0] < '2017-01-01'].index)"
   ]
  },
  {
   "cell_type": "code",
   "execution_count": 101,
   "id": "a726e1ad-b45a-4bc3-87cd-399a03bbe9da",
   "metadata": {},
   "outputs": [],
   "source": [
    "dfvento_consit['longitude'] = -42.75\n",
    "dfvento_consit['latitude']  = -14.25 "
   ]
  },
  {
   "cell_type": "code",
   "execution_count": 102,
   "id": "1022a262-972a-4ae0-90e4-99843d269ebd",
   "metadata": {},
   "outputs": [],
   "source": [
    "cols = list(dfvento_consit)\n",
    "cols = [cols[-1]] + cols[:-1]\n",
    "dfvento_consit = dfvento_consit[cols]\n",
    "\n",
    "cols = list(dfvento_consit)\n",
    "cols = [cols[-1]] + cols[:-1]\n",
    "dfvento_consit = dfvento_consit[cols]"
   ]
  },
  {
   "cell_type": "code",
   "execution_count": 121,
   "id": "7a636996-b57d-4214-a5a9-1476430e1592",
   "metadata": {},
   "outputs": [],
   "source": [
    "dfvento_consit = dfvento_consit.reset_index()"
   ]
  },
  {
   "cell_type": "markdown",
   "id": "8d44ac71-093e-4f6a-9ca2-39b1fa170281",
   "metadata": {},
   "source": [
    "### **D) Formatação dos Dados**"
   ]
  },
  {
   "cell_type": "markdown",
   "id": "9b4d87e8-3b0e-48ad-b8a6-52dabb0b2e1b",
   "metadata": {},
   "source": [
    "#### <span style=\"color:#DC143C\"> **D1. Migrar os dados para o Formato**"
   ]
  },
  {
   "cell_type": "code",
   "execution_count": 123,
   "id": "b703eead-99a7-457d-9566-b951ac2ed89e",
   "metadata": {},
   "outputs": [],
   "source": [
    "frente = ['Longitude', 'Latitude', 'Data', 'Valor30_1', 'Valor30_2']  # Cabeçalho\n",
    "df_result_vento_verif = pd.DataFrame(columns=frente)  # Criação de um dataframe vazio\n",
    "    \n",
    "Linha1    =  dfvento_consit.shape[0] \n",
    "Colunas1  =  dfvento_consit.shape[1] \n",
    "\n",
    "for lin2 in range(Linha1):  \n",
    "    refhora = 0\n",
    "    \n",
    "    for col in range (Colunas1):        \n",
    "        if col > 0:            \n",
    "        \n",
    "            if col % 2 != 0: # Se o número (col) for impar                   \n",
    "               \n",
    "                if col < 49:\n",
    "                    \n",
    "                    Data = dfvento_consit.loc[lin2,0]\n",
    "                                  \n",
    "                    hora = time(hour=refhora, minute=0, second=0)            \n",
    "                    dataCompleta = datetime.combine(Data, hora)\n",
    "                    #print(dataCompleta)\n",
    "                    lin_alvo = [dfvento_consit.loc[lin2,'longitude'], dfvento_consit.loc[lin2,'latitude'], dataCompleta , dfvento_consit.loc[lin2,col], dfvento_consit.loc[lin2,col+1]] \n",
    "                    # print(lin_alvo)\n",
    "                    df_result_vento_verif.loc[len(df_result_vento_verif)] = lin_alvo  # adding a row\n",
    "                         \n",
    "                refhora = refhora + 1          \n",
    "                \n"
   ]
  },
  {
   "cell_type": "markdown",
   "id": "047f786e-a658-4915-aa93-489a929be333",
   "metadata": {},
   "source": [
    "#### <span style=\"color:#DC143C\"> **D2. Informações sobre os Tipos de Dados**"
   ]
  },
  {
   "cell_type": "code",
   "execution_count": 124,
   "id": "bcc3e208-9f7c-4b31-8c06-8bfe7250cac5",
   "metadata": {},
   "outputs": [
    {
     "name": "stdout",
     "output_type": "stream",
     "text": [
      "<class 'pandas.core.frame.DataFrame'>\n",
      "Int64Index: 8784 entries, 0 to 8783\n",
      "Data columns (total 5 columns):\n",
      " #   Column     Non-Null Count  Dtype         \n",
      "---  ------     --------------  -----         \n",
      " 0   Longitude  8784 non-null   float64       \n",
      " 1   Latitude   8784 non-null   float64       \n",
      " 2   Data       8784 non-null   datetime64[ns]\n",
      " 3   Valor30_1  8784 non-null   float64       \n",
      " 4   Valor30_2  8784 non-null   float64       \n",
      "dtypes: datetime64[ns](1), float64(4)\n",
      "memory usage: 411.8 KB\n"
     ]
    }
   ],
   "source": [
    "df_result_vento_verif.info()"
   ]
  },
  {
   "cell_type": "code",
   "execution_count": 125,
   "id": "98d86317-e634-4c8c-825a-41a6f8b855f1",
   "metadata": {},
   "outputs": [
    {
     "data": {
      "text/plain": [
       "(8784, 5)"
      ]
     },
     "execution_count": 125,
     "metadata": {},
     "output_type": "execute_result"
    }
   ],
   "source": [
    "df_result_vento_verif.shape"
   ]
  },
  {
   "cell_type": "markdown",
   "id": "54c12bdc-f682-42fe-b85c-e9d745e24484",
   "metadata": {},
   "source": [
    "#### <span style=\"color:#DC143C\"> **D3. Agregar Magnitude para 1H**"
   ]
  },
  {
   "cell_type": "code",
   "execution_count": 126,
   "id": "66128703-692b-465f-badc-c4ebeb67fc44",
   "metadata": {},
   "outputs": [],
   "source": [
    "df_result_vento_verif['Magnitude_Verif'] = (df_result_vento_verif['Valor30_1'] + df_result_vento_verif['Valor30_2']) / 2"
   ]
  },
  {
   "cell_type": "code",
   "execution_count": 127,
   "id": "1046af49-9702-4e98-af8f-2409184b316e",
   "metadata": {},
   "outputs": [],
   "source": [
    "# Formatar o resultado com 2 casas decimais\n",
    "df_result_vento_verif['Magnitude_Verif'] = df_result_vento_verif['Magnitude_Verif'].round(decimals=2)"
   ]
  },
  {
   "cell_type": "code",
   "execution_count": 128,
   "id": "e0216b72-8e85-4473-b40d-0c0380e90f7f",
   "metadata": {},
   "outputs": [],
   "source": [
    "df_result_vento_verif = df_result_vento_verif.drop('Valor30_1', 1)\n",
    "df_result_vento_verif = df_result_vento_verif.drop('Valor30_2', 1)"
   ]
  },
  {
   "cell_type": "code",
   "execution_count": 129,
   "id": "12c383d8-474e-47ba-a7f8-9001475fbb52",
   "metadata": {},
   "outputs": [
    {
     "data": {
      "text/html": [
       "<div>\n",
       "<style scoped>\n",
       "    .dataframe tbody tr th:only-of-type {\n",
       "        vertical-align: middle;\n",
       "    }\n",
       "\n",
       "    .dataframe tbody tr th {\n",
       "        vertical-align: top;\n",
       "    }\n",
       "\n",
       "    .dataframe thead th {\n",
       "        text-align: right;\n",
       "    }\n",
       "</style>\n",
       "<table border=\"1\" class=\"dataframe\">\n",
       "  <thead>\n",
       "    <tr style=\"text-align: right;\">\n",
       "      <th></th>\n",
       "      <th>Longitude</th>\n",
       "      <th>Latitude</th>\n",
       "      <th>Data</th>\n",
       "      <th>Magnitude_Verif</th>\n",
       "    </tr>\n",
       "  </thead>\n",
       "  <tbody>\n",
       "    <tr>\n",
       "      <th>0</th>\n",
       "      <td>-42.75</td>\n",
       "      <td>-14.25</td>\n",
       "      <td>2017-01-01 00:00:00</td>\n",
       "      <td>9.82</td>\n",
       "    </tr>\n",
       "    <tr>\n",
       "      <th>1</th>\n",
       "      <td>-42.75</td>\n",
       "      <td>-14.25</td>\n",
       "      <td>2017-01-01 01:00:00</td>\n",
       "      <td>8.74</td>\n",
       "    </tr>\n",
       "    <tr>\n",
       "      <th>2</th>\n",
       "      <td>-42.75</td>\n",
       "      <td>-14.25</td>\n",
       "      <td>2017-01-01 02:00:00</td>\n",
       "      <td>8.45</td>\n",
       "    </tr>\n",
       "    <tr>\n",
       "      <th>3</th>\n",
       "      <td>-42.75</td>\n",
       "      <td>-14.25</td>\n",
       "      <td>2017-01-01 03:00:00</td>\n",
       "      <td>9.18</td>\n",
       "    </tr>\n",
       "    <tr>\n",
       "      <th>4</th>\n",
       "      <td>-42.75</td>\n",
       "      <td>-14.25</td>\n",
       "      <td>2017-01-01 04:00:00</td>\n",
       "      <td>9.19</td>\n",
       "    </tr>\n",
       "    <tr>\n",
       "      <th>5</th>\n",
       "      <td>-42.75</td>\n",
       "      <td>-14.25</td>\n",
       "      <td>2017-01-01 05:00:00</td>\n",
       "      <td>9.36</td>\n",
       "    </tr>\n",
       "    <tr>\n",
       "      <th>6</th>\n",
       "      <td>-42.75</td>\n",
       "      <td>-14.25</td>\n",
       "      <td>2017-01-01 06:00:00</td>\n",
       "      <td>8.40</td>\n",
       "    </tr>\n",
       "    <tr>\n",
       "      <th>7</th>\n",
       "      <td>-42.75</td>\n",
       "      <td>-14.25</td>\n",
       "      <td>2017-01-01 07:00:00</td>\n",
       "      <td>7.40</td>\n",
       "    </tr>\n",
       "    <tr>\n",
       "      <th>8</th>\n",
       "      <td>-42.75</td>\n",
       "      <td>-14.25</td>\n",
       "      <td>2017-01-01 08:00:00</td>\n",
       "      <td>7.83</td>\n",
       "    </tr>\n",
       "    <tr>\n",
       "      <th>9</th>\n",
       "      <td>-42.75</td>\n",
       "      <td>-14.25</td>\n",
       "      <td>2017-01-01 09:00:00</td>\n",
       "      <td>7.38</td>\n",
       "    </tr>\n",
       "  </tbody>\n",
       "</table>\n",
       "</div>"
      ],
      "text/plain": [
       "   Longitude  Latitude                Data  Magnitude_Verif\n",
       "0     -42.75    -14.25 2017-01-01 00:00:00             9.82\n",
       "1     -42.75    -14.25 2017-01-01 01:00:00             8.74\n",
       "2     -42.75    -14.25 2017-01-01 02:00:00             8.45\n",
       "3     -42.75    -14.25 2017-01-01 03:00:00             9.18\n",
       "4     -42.75    -14.25 2017-01-01 04:00:00             9.19\n",
       "5     -42.75    -14.25 2017-01-01 05:00:00             9.36\n",
       "6     -42.75    -14.25 2017-01-01 06:00:00             8.40\n",
       "7     -42.75    -14.25 2017-01-01 07:00:00             7.40\n",
       "8     -42.75    -14.25 2017-01-01 08:00:00             7.83\n",
       "9     -42.75    -14.25 2017-01-01 09:00:00             7.38"
      ]
     },
     "execution_count": 129,
     "metadata": {},
     "output_type": "execute_result"
    }
   ],
   "source": [
    "df_result_vento_verif.head(10)"
   ]
  },
  {
   "cell_type": "markdown",
   "id": "7462dcdc-daa0-4cad-a944-a264ce575254",
   "metadata": {},
   "source": [
    "### **E. Exporta Resultados**"
   ]
  },
  {
   "cell_type": "code",
   "execution_count": 130,
   "id": "ef87a932-b74b-48fe-b151-a8ec29013fef",
   "metadata": {},
   "outputs": [],
   "source": [
    "output_file = '../../Data/process/teste_01_patio_ventoverif.csv'\n",
    "df_result_vento_verif.to_csv(output_file, sep=';', encoding='utf-8')"
   ]
  },
  {
   "cell_type": "code",
   "execution_count": null,
   "id": "be5441d5-7466-4959-b7ed-76922db78787",
   "metadata": {},
   "outputs": [],
   "source": []
  }
 ],
 "metadata": {
  "kernelspec": {
   "display_name": "Python 3",
   "language": "python",
   "name": "python3"
  },
  "language_info": {
   "codemirror_mode": {
    "name": "ipython",
    "version": 3
   },
   "file_extension": ".py",
   "mimetype": "text/x-python",
   "name": "python",
   "nbconvert_exporter": "python",
   "pygments_lexer": "ipython3",
   "version": "3.7.10"
  }
 },
 "nbformat": 4,
 "nbformat_minor": 5
}
