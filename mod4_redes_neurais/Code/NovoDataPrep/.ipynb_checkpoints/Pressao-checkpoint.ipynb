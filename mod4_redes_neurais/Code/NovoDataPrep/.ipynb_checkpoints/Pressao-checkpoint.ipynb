{
 "cells": [
  {
   "cell_type": "code",
   "execution_count": 80,
   "id": "eb7d0d19-ccda-4e67-b305-088b8bbf3c85",
   "metadata": {},
   "outputs": [],
   "source": [
    "import numpy as np\n",
    "import pandas as pd\n",
    "from datetime import datetime,date\n",
    "\n",
    "import missingno as msno\n",
    "import snappy\n",
    "\n",
    "# import warnings\n",
    "# warnings.filterwarnings(\"ignore\")"
   ]
  },
  {
   "cell_type": "markdown",
   "id": "d4de6591-f4da-4527-8263-f74933fa9424",
   "metadata": {},
   "source": [
    "### **A) Coleta dos Dados de Pressão Atmosférica**"
   ]
  },
  {
   "cell_type": "code",
   "execution_count": 81,
   "id": "ce4ae9a9-fde5-4f5f-8cd6-1dfbbaa3f0c5",
   "metadata": {},
   "outputs": [],
   "source": [
    "source_file = '../../Data/raw/pressao/pressao_patio1.txt'\n",
    "\n",
    "output_file = '../../Data/process/result_pressao_patio1.csv'\n",
    "save_file =  '../../Data/process/result_pressao_patio1.parquet'"
   ]
  },
  {
   "cell_type": "code",
   "execution_count": 82,
   "id": "f3ba86b3-1f9e-4435-8ddc-c3fb18fb3940",
   "metadata": {},
   "outputs": [],
   "source": [
    "# DADOS OBSERVADOS\n",
    "df_pressao = pd.read_csv(source_file, delimiter = r\"\\s+\", header=None)"
   ]
  },
  {
   "cell_type": "markdown",
   "id": "7e7cf551-72c8-477b-8984-53dd2ca27235",
   "metadata": {},
   "source": [
    "#### <span style=\"color:#DC143C\">**A1. Formato dos Dados**"
   ]
  },
  {
   "cell_type": "code",
   "execution_count": 83,
   "id": "05e5dc6d-2f12-4267-8f14-bd7028017935",
   "metadata": {},
   "outputs": [
    {
     "data": {
      "text/plain": [
       "(24, 746)"
      ]
     },
     "execution_count": 83,
     "metadata": {},
     "output_type": "execute_result"
    }
   ],
   "source": [
    "df_pressao.shape # formato da matriz"
   ]
  },
  {
   "cell_type": "markdown",
   "id": "b28132c6-3f90-4a49-99cb-6a5695965b4a",
   "metadata": {},
   "source": [
    "### **B) Sobre os Dados**"
   ]
  },
  {
   "cell_type": "markdown",
   "id": "9d24ab44-4f41-4132-84db-1977047f5cad",
   "metadata": {},
   "source": [
    "#### <span style=\"color:#DC143C\">**B1. Visao do Dataframe**"
   ]
  },
  {
   "cell_type": "code",
   "execution_count": 84,
   "id": "264c2fda-4d8e-4114-8641-6fb08f2df705",
   "metadata": {},
   "outputs": [
    {
     "data": {
      "text/html": [
       "<div>\n",
       "<style scoped>\n",
       "    .dataframe tbody tr th:only-of-type {\n",
       "        vertical-align: middle;\n",
       "    }\n",
       "\n",
       "    .dataframe tbody tr th {\n",
       "        vertical-align: top;\n",
       "    }\n",
       "\n",
       "    .dataframe thead th {\n",
       "        text-align: right;\n",
       "    }\n",
       "</style>\n",
       "<table border=\"1\" class=\"dataframe\">\n",
       "  <thead>\n",
       "    <tr style=\"text-align: right;\">\n",
       "      <th></th>\n",
       "      <th>0</th>\n",
       "      <th>1</th>\n",
       "      <th>2</th>\n",
       "      <th>3</th>\n",
       "      <th>4</th>\n",
       "      <th>5</th>\n",
       "      <th>6</th>\n",
       "      <th>7</th>\n",
       "      <th>8</th>\n",
       "      <th>9</th>\n",
       "      <th>...</th>\n",
       "      <th>736</th>\n",
       "      <th>737</th>\n",
       "      <th>738</th>\n",
       "      <th>739</th>\n",
       "      <th>740</th>\n",
       "      <th>741</th>\n",
       "      <th>742</th>\n",
       "      <th>743</th>\n",
       "      <th>744</th>\n",
       "      <th>745</th>\n",
       "    </tr>\n",
       "  </thead>\n",
       "  <tbody>\n",
       "    <tr>\n",
       "      <th>0</th>\n",
       "      <td>-45.75</td>\n",
       "      <td>-14.25</td>\n",
       "      <td>1012.58</td>\n",
       "      <td>1013.05</td>\n",
       "      <td>1013.55</td>\n",
       "      <td>1013.25</td>\n",
       "      <td>1012.89</td>\n",
       "      <td>1012.50</td>\n",
       "      <td>1012.35</td>\n",
       "      <td>1012.77</td>\n",
       "      <td>...</td>\n",
       "      <td>1014.33</td>\n",
       "      <td>1013.55</td>\n",
       "      <td>1012.18</td>\n",
       "      <td>1011.58</td>\n",
       "      <td>1010.77</td>\n",
       "      <td>1010.24</td>\n",
       "      <td>1009.58</td>\n",
       "      <td>1009.78</td>\n",
       "      <td>1009.34</td>\n",
       "      <td>1010.15</td>\n",
       "    </tr>\n",
       "    <tr>\n",
       "      <th>1</th>\n",
       "      <td>-45.50</td>\n",
       "      <td>-14.25</td>\n",
       "      <td>1012.50</td>\n",
       "      <td>1012.86</td>\n",
       "      <td>1013.24</td>\n",
       "      <td>1012.96</td>\n",
       "      <td>1012.69</td>\n",
       "      <td>1012.39</td>\n",
       "      <td>1012.33</td>\n",
       "      <td>1012.82</td>\n",
       "      <td>...</td>\n",
       "      <td>1014.26</td>\n",
       "      <td>1013.44</td>\n",
       "      <td>1012.05</td>\n",
       "      <td>1011.47</td>\n",
       "      <td>1010.66</td>\n",
       "      <td>1010.11</td>\n",
       "      <td>1009.50</td>\n",
       "      <td>1009.73</td>\n",
       "      <td>1009.27</td>\n",
       "      <td>1010.00</td>\n",
       "    </tr>\n",
       "  </tbody>\n",
       "</table>\n",
       "<p>2 rows × 746 columns</p>\n",
       "</div>"
      ],
      "text/plain": [
       "     0      1        2        3        4        5        6        7    \\\n",
       "0 -45.75 -14.25  1012.58  1013.05  1013.55  1013.25  1012.89  1012.50   \n",
       "1 -45.50 -14.25  1012.50  1012.86  1013.24  1012.96  1012.69  1012.39   \n",
       "\n",
       "       8        9    ...      736      737      738      739      740  \\\n",
       "0  1012.35  1012.77  ...  1014.33  1013.55  1012.18  1011.58  1010.77   \n",
       "1  1012.33  1012.82  ...  1014.26  1013.44  1012.05  1011.47  1010.66   \n",
       "\n",
       "       741      742      743      744      745  \n",
       "0  1010.24  1009.58  1009.78  1009.34  1010.15  \n",
       "1  1010.11  1009.50  1009.73  1009.27  1010.00  \n",
       "\n",
       "[2 rows x 746 columns]"
      ]
     },
     "execution_count": 84,
     "metadata": {},
     "output_type": "execute_result"
    }
   ],
   "source": [
    "df_pressao.head(2)  # visão de 5 linhas"
   ]
  },
  {
   "cell_type": "markdown",
   "id": "b087d67d-1f53-42ea-980c-ab126f9a15c1",
   "metadata": {},
   "source": [
    "#### <span style=\"color:#DC143C\">**B2. Nome das Colunas do Cabeçalho**"
   ]
  },
  {
   "cell_type": "code",
   "execution_count": 85,
   "id": "6e389d77-03fb-4563-8ebc-013e26135ae8",
   "metadata": {},
   "outputs": [
    {
     "data": {
      "text/plain": [
       "Int64Index([  0,   1,   2,   3,   4,   5,   6,   7,   8,   9,\n",
       "            ...\n",
       "            736, 737, 738, 739, 740, 741, 742, 743, 744, 745],\n",
       "           dtype='int64', length=746)"
      ]
     },
     "execution_count": 85,
     "metadata": {},
     "output_type": "execute_result"
    }
   ],
   "source": [
    "# Lista o nome das Colunas\n",
    "df_pressao.columns "
   ]
  },
  {
   "cell_type": "markdown",
   "id": "670b9a20-afd0-479c-837a-d9695e24184d",
   "metadata": {},
   "source": [
    "#### <span style=\"color:#DC143C\">**B3. Conteúdo de 1 Linha**"
   ]
  },
  {
   "cell_type": "code",
   "execution_count": 86,
   "id": "52f0dd86-e2d6-4cdd-9617-62fdcd89f03f",
   "metadata": {},
   "outputs": [
    {
     "data": {
      "text/plain": [
       "array([[ -45.75,  -14.25, 1012.58, 1013.05, 1013.55, 1013.25, 1012.89,\n",
       "        1012.5 , 1012.35, 1012.77, 1013.09, 1014.15, 1015.24, 1015.66,\n",
       "        1015.53, 1015.34, 1014.72, 1014.1 , 1013.32, 1012.65, 1011.75,\n",
       "        1011.65, 1011.57, 1011.48, 1012.06, 1012.42, 1012.81, 1012.96,\n",
       "        1013.33, 1013.  , 1012.35, 1011.97, 1011.7 , 1011.95, 1011.95,\n",
       "        1012.43, 1012.89, 1013.04, 1013.08, 1013.22, 1013.11, 1012.43,\n",
       "        1011.47, 1010.57, 1009.89, 1009.63, 1009.37, 1008.99, 1008.48,\n",
       "        1008.61, 1009.46, 1010.1 , 1010.46, 1010.81, 1010.34, 1010.29,\n",
       "        1010.05, 1010.31, 1010.73, 1011.18, 1011.83, 1011.86, 1012.34,\n",
       "        1012.39, 1012.42, 1011.52, 1010.41, 1009.61, 1008.73, 1007.8 ,\n",
       "        1007.49, 1007.39, 1008.48, 1008.9 , 1010.37, 1011.38, 1011.99,\n",
       "        1012.12, 1011.59, 1011.36, 1010.75, 1011.4 , 1011.62, 1012.84,\n",
       "        1013.96, 1014.21, 1014.28, 1014.43, 1013.74, 1013.29, 1012.35,\n",
       "        1011.48, 1011.15, 1011.28, 1011.39, 1012.54, 1012.88, 1013.15,\n",
       "        1013.67, 1013.96, 1013.78, 1013.82, 1013.35, 1013.06, 1012.85,\n",
       "        1013.09, 1013.63, 1014.22, 1015.68, 1015.99, 1016.14, 1015.81,\n",
       "        1014.87, 1014.19, 1013.16, 1012.27, 1011.12, 1010.57, 1010.12,\n",
       "        1010.34, 1011.29, 1011.69, 1011.9 , 1012.41, 1012.63, 1012.9 ,\n",
       "        1012.7 , 1012.72, 1012.76, 1013.01, 1013.19, 1014.25, 1014.67,\n",
       "        1014.76, 1014.6 , 1013.89, 1013.16, 1012.15, 1011.43, 1010.6 ,\n",
       "        1009.8 , 1009.52, 1009.15, 1009.77, 1010.68, 1010.77, 1011.19,\n",
       "        1011.5 , 1011.74, 1011.96, 1011.94, 1011.97, 1012.04, 1012.43,\n",
       "        1012.99, 1013.96, 1015.31, 1015.64, 1015.72, 1015.4 , 1014.47,\n",
       "        1013.46, 1012.34, 1011.39, 1010.11, 1009.54, 1009.11, 1009.44,\n",
       "        1010.52, 1011.4 , 1011.95, 1012.46, 1012.31, 1012.47, 1012.29,\n",
       "        1012.25, 1012.15, 1012.39, 1013.41, 1014.28, 1014.84, 1014.82,\n",
       "        1014.59, 1014.06, 1013.14, 1012.36, 1011.25, 1009.95, 1009.  ,\n",
       "        1008.25, 1008.04, 1008.18, 1008.9 , 1009.6 , 1010.59, 1011.62,\n",
       "        1011.67, 1011.78, 1011.4 , 1010.54, 1010.46, 1010.3 , 1011.5 ,\n",
       "        1012.3 , 1013.42, 1013.94, 1013.93, 1013.98, 1013.32, 1012.72,\n",
       "        1011.8 , 1010.48, 1009.24, 1008.74, 1008.21, 1008.16, 1008.57,\n",
       "        1009.65, 1009.68, 1009.97, 1010.32, 1010.18, 1009.79, 1009.72,\n",
       "        1009.53, 1009.83, 1010.62, 1011.26, 1011.48, 1012.15, 1011.24,\n",
       "        1010.99, 1011.26, 1010.87, 1010.23, 1009.14, 1008.19, 1007.48,\n",
       "        1007.16, 1007.28, 1006.85, 1008.43, 1008.77, 1009.54, 1009.87,\n",
       "        1010.46, 1010.07, 1009.89, 1010.11, 1010.21, 1010.83, 1011.59,\n",
       "        1012.43, 1012.48, 1012.39, 1012.35, 1011.76, 1011.19, 1010.08,\n",
       "        1008.95, 1008.16, 1008.3 , 1009.7 , 1009.84, 1010.34, 1010.95,\n",
       "        1011.84, 1012.66, 1012.76, 1012.69, 1012.45, 1012.03, 1011.86,\n",
       "        1011.97, 1012.37, 1013.  , 1013.55, 1013.84, 1013.51, 1013.61,\n",
       "        1012.9 , 1012.41, 1011.58, 1010.4 , 1009.5 , 1009.19, 1009.06,\n",
       "        1008.77, 1009.56, 1011.  , 1011.95, 1012.39, 1012.61, 1012.78,\n",
       "        1012.3 , 1011.79, 1011.47, 1011.49, 1012.1 , 1012.78, 1013.08,\n",
       "        1013.29, 1013.73, 1013.8 , 1012.86, 1012.5 , 1011.58, 1011.65,\n",
       "        1010.42, 1010.43, 1009.64, 1010.42, 1011.74, 1012.37, 1012.52,\n",
       "        1013.13, 1013.12, 1013.19, 1012.5 , 1011.45, 1011.05, 1011.16,\n",
       "        1011.97, 1012.8 , 1012.97, 1013.15, 1013.62, 1013.81, 1013.67,\n",
       "        1012.7 , 1011.46, 1010.2 , 1008.94, 1008.28, 1009.67, 1009.71,\n",
       "        1010.62, 1011.53, 1012.12, 1012.19, 1012.41, 1012.33, 1012.14,\n",
       "        1011.51, 1010.76, 1011.08, 1011.42, 1012.25, 1012.62, 1013.27,\n",
       "        1013.81, 1013.62, 1013.  , 1012.26, 1011.82, 1010.87, 1008.61,\n",
       "        1010.75, 1009.86, 1010.01, 1010.01, 1010.39, 1011.09, 1011.67,\n",
       "        1011.82, 1011.77, 1011.09, 1010.97, 1010.78, 1011.85, 1012.45,\n",
       "        1012.51, 1013.35, 1014.3 , 1014.45, 1013.78, 1013.26, 1012.45,\n",
       "        1011.62, 1010.9 , 1009.75, 1009.16, 1008.99, 1010.52, 1011.52,\n",
       "        1012.06, 1012.52, 1012.78, 1012.95, 1012.36, 1012.  , 1011.34,\n",
       "        1010.79, 1010.74, 1011.08, 1011.94, 1013.04, 1013.42, 1013.55,\n",
       "        1013.32, 1012.52, 1012.1 , 1011.18, 1010.13, 1009.41, 1008.33,\n",
       "        1007.93, 1008.31, 1009.87, 1010.39, 1010.77, 1011.24, 1011.41,\n",
       "        1011.39, 1010.7 , 1010.3 , 1009.85, 1010.15, 1011.08, 1011.73,\n",
       "        1012.53, 1012.76, 1013.43, 1013.19, 1013.07, 1012.46, 1011.38,\n",
       "        1010.35, 1009.57, 1009.15, 1009.6 , 1010.17, 1011.08, 1011.71,\n",
       "        1012.6 , 1013.1 , 1013.1 , 1013.37, 1013.02, 1012.91, 1012.43,\n",
       "        1012.31, 1012.68, 1012.91, 1014.17, 1015.  , 1015.09, 1015.27,\n",
       "        1014.67, 1014.25, 1013.45, 1012.55, 1011.55, 1011.09, 1010.53,\n",
       "        1010.28, 1011.44, 1012.66, 1012.58, 1013.03, 1013.67, 1013.49,\n",
       "        1013.21, 1013.14, 1012.65, 1012.99, 1013.21, 1013.9 , 1014.51,\n",
       "        1015.25, 1015.52, 1015.32, 1014.94, 1014.33, 1013.68, 1012.67,\n",
       "        1011.6 , 1011.15, 1010.3 , 1010.29, 1011.9 , 1012.23, 1013.2 ,\n",
       "        1013.74, 1014.05, 1013.77, 1012.86, 1012.63, 1012.28, 1012.41,\n",
       "        1013.23, 1014.14, 1015.22, 1015.76, 1015.56, 1015.53, 1014.92,\n",
       "        1014.13, 1012.97, 1012.29, 1011.39, 1010.7 , 1009.89, 1009.93,\n",
       "        1010.85, 1011.43, 1011.97, 1012.58, 1012.62, 1012.55, 1012.27,\n",
       "        1011.96, 1011.54, 1011.73, 1011.98, 1012.45, 1013.79, 1014.48,\n",
       "        1014.37, 1014.15, 1013.03, 1012.49, 1011.79, 1011.25, 1010.06,\n",
       "        1009.42, 1008.71, 1008.89, 1009.22, 1010.76, 1011.75, 1012.49,\n",
       "        1013.58, 1013.8 , 1013.73, 1012.75, 1012.82, 1012.53, 1012.65,\n",
       "        1012.93, 1013.58, 1014.29, 1014.82, 1015.01, 1014.33, 1014.02,\n",
       "        1012.87, 1012.18, 1011.24, 1011.07, 1011.73, 1012.75, 1012.48,\n",
       "        1012.55, 1013.8 , 1014.23, 1014.43, 1014.66, 1014.16, 1013.43,\n",
       "        1013.15, 1013.12, 1013.54, 1014.21, 1015.54, 1016.87, 1016.71,\n",
       "        1017.01, 1016.37, 1015.87, 1015.44, 1014.45, 1013.76, 1013.12,\n",
       "        1013.2 , 1013.16, 1014.43, 1014.8 , 1015.41, 1015.35, 1015.71,\n",
       "        1014.98, 1014.74, 1013.79, 1013.41, 1013.33, 1014.01, 1014.73,\n",
       "        1015.67, 1016.54, 1016.65, 1016.5 , 1016.27, 1015.55, 1014.94,\n",
       "        1013.59, 1012.37, 1011.5 , 1011.21, 1010.66, 1011.82, 1012.84,\n",
       "        1013.67, 1013.92, 1014.27, 1013.98, 1013.58, 1013.47, 1013.39,\n",
       "        1013.6 , 1014.06, 1014.6 , 1015.2 , 1015.95, 1015.95, 1015.75,\n",
       "        1015.14, 1014.6 , 1013.76, 1012.87, 1012.35, 1011.66, 1011.74,\n",
       "        1011.96, 1012.03, 1012.83, 1012.99, 1013.5 , 1013.63, 1013.81,\n",
       "        1013.5 , 1013.43, 1013.05, 1013.62, 1013.99, 1014.58, 1014.7 ,\n",
       "        1015.76, 1015.8 , 1015.78, 1015.25, 1014.83, 1013.96, 1013.33,\n",
       "        1012.51, 1012.12, 1012.24, 1013.15, 1013.51, 1013.96, 1014.05,\n",
       "        1014.82, 1014.78, 1014.51, 1014.52, 1014.31, 1014.11, 1014.41,\n",
       "        1014.9 , 1015.53, 1016.63, 1017.01, 1017.07, 1017.08, 1016.27,\n",
       "        1015.79, 1014.84, 1014.09, 1013.12, 1012.38, 1011.63, 1011.65,\n",
       "        1012.18, 1012.66, 1013.44, 1013.78, 1014.1 , 1014.21, 1014.33,\n",
       "        1014.11, 1013.96, 1014.33, 1014.53, 1015.65, 1016.84, 1016.88,\n",
       "        1017.25, 1016.94, 1016.21, 1015.42, 1014.33, 1013.45, 1012.6 ,\n",
       "        1012.32, 1011.71, 1011.79, 1012.59, 1012.51, 1013.25, 1013.52,\n",
       "        1013.75, 1014.11, 1014.33, 1014.42, 1014.42, 1014.88, 1015.13,\n",
       "        1015.86, 1016.32, 1016.56, 1016.03, 1015.96, 1015.14, 1014.68,\n",
       "        1013.75, 1012.98, 1012.14, 1011.69, 1011.25, 1011.17, 1010.84,\n",
       "        1011.34, 1012.4 , 1012.7 , 1013.45, 1014.08, 1013.55, 1013.78,\n",
       "        1013.86, 1014.25, 1014.48, 1014.88, 1015.48, 1015.79, 1015.56,\n",
       "        1015.57, 1014.33, 1013.55, 1012.18, 1011.58, 1010.77, 1010.24,\n",
       "        1009.58, 1009.78, 1009.34, 1010.15]])"
      ]
     },
     "execution_count": 86,
     "metadata": {},
     "output_type": "execute_result"
    }
   ],
   "source": [
    "# df_pressao.values[0:1]"
   ]
  },
  {
   "cell_type": "markdown",
   "id": "2e7f15a1-c757-4534-9dad-38f273a11eb1",
   "metadata": {},
   "source": [
    "#### <span style=\"color:#DC143C\">**B4. Informações Sobre o Dataframe**"
   ]
  },
  {
   "cell_type": "code",
   "execution_count": 87,
   "id": "ab5785db-5827-44fd-964a-fdf9a253d610",
   "metadata": {},
   "outputs": [
    {
     "name": "stdout",
     "output_type": "stream",
     "text": [
      "<class 'pandas.core.frame.DataFrame'>\n",
      "RangeIndex: 24 entries, 0 to 23\n",
      "Columns: 746 entries, 0 to 745\n",
      "dtypes: float64(746)\n",
      "memory usage: 140.0 KB\n"
     ]
    }
   ],
   "source": [
    "df_pressao.info()"
   ]
  },
  {
   "cell_type": "code",
   "execution_count": 88,
   "id": "f257e318-e632-4fdc-9ea9-508b30c10d14",
   "metadata": {},
   "outputs": [
    {
     "data": {
      "text/html": [
       "<div>\n",
       "<style scoped>\n",
       "    .dataframe tbody tr th:only-of-type {\n",
       "        vertical-align: middle;\n",
       "    }\n",
       "\n",
       "    .dataframe tbody tr th {\n",
       "        vertical-align: top;\n",
       "    }\n",
       "\n",
       "    .dataframe thead th {\n",
       "        text-align: right;\n",
       "    }\n",
       "</style>\n",
       "<table border=\"1\" class=\"dataframe\">\n",
       "  <thead>\n",
       "    <tr style=\"text-align: right;\">\n",
       "      <th></th>\n",
       "      <th>0</th>\n",
       "      <th>1</th>\n",
       "      <th>2</th>\n",
       "      <th>3</th>\n",
       "      <th>4</th>\n",
       "      <th>5</th>\n",
       "      <th>6</th>\n",
       "      <th>7</th>\n",
       "      <th>8</th>\n",
       "      <th>9</th>\n",
       "      <th>...</th>\n",
       "      <th>736</th>\n",
       "      <th>737</th>\n",
       "      <th>738</th>\n",
       "      <th>739</th>\n",
       "      <th>740</th>\n",
       "      <th>741</th>\n",
       "      <th>742</th>\n",
       "      <th>743</th>\n",
       "      <th>744</th>\n",
       "      <th>745</th>\n",
       "    </tr>\n",
       "  </thead>\n",
       "  <tbody>\n",
       "    <tr>\n",
       "      <th>count</th>\n",
       "      <td>24.000000</td>\n",
       "      <td>24.00</td>\n",
       "      <td>24.000000</td>\n",
       "      <td>24.000000</td>\n",
       "      <td>24.000000</td>\n",
       "      <td>24.000000</td>\n",
       "      <td>24.000000</td>\n",
       "      <td>24.000000</td>\n",
       "      <td>24.000000</td>\n",
       "      <td>24.000000</td>\n",
       "      <td>...</td>\n",
       "      <td>24.000000</td>\n",
       "      <td>24.000000</td>\n",
       "      <td>24.000000</td>\n",
       "      <td>24.000000</td>\n",
       "      <td>24.000000</td>\n",
       "      <td>24.000000</td>\n",
       "      <td>24.000000</td>\n",
       "      <td>24.00000</td>\n",
       "      <td>24.000000</td>\n",
       "      <td>24.000000</td>\n",
       "    </tr>\n",
       "    <tr>\n",
       "      <th>mean</th>\n",
       "      <td>-42.875000</td>\n",
       "      <td>-14.25</td>\n",
       "      <td>1013.341667</td>\n",
       "      <td>1013.693750</td>\n",
       "      <td>1013.497500</td>\n",
       "      <td>1013.312917</td>\n",
       "      <td>1013.278750</td>\n",
       "      <td>1013.305417</td>\n",
       "      <td>1013.347500</td>\n",
       "      <td>1013.775000</td>\n",
       "      <td>...</td>\n",
       "      <td>1014.597500</td>\n",
       "      <td>1013.715000</td>\n",
       "      <td>1012.466667</td>\n",
       "      <td>1011.580833</td>\n",
       "      <td>1010.691667</td>\n",
       "      <td>1010.085833</td>\n",
       "      <td>1009.626250</td>\n",
       "      <td>1009.84875</td>\n",
       "      <td>1009.874167</td>\n",
       "      <td>1010.284167</td>\n",
       "    </tr>\n",
       "    <tr>\n",
       "      <th>std</th>\n",
       "      <td>1.767767</td>\n",
       "      <td>0.00</td>\n",
       "      <td>1.625470</td>\n",
       "      <td>1.680853</td>\n",
       "      <td>1.368643</td>\n",
       "      <td>1.295200</td>\n",
       "      <td>1.111596</td>\n",
       "      <td>1.113361</td>\n",
       "      <td>1.195474</td>\n",
       "      <td>1.166049</td>\n",
       "      <td>...</td>\n",
       "      <td>0.723201</td>\n",
       "      <td>0.675168</td>\n",
       "      <td>0.823691</td>\n",
       "      <td>0.862352</td>\n",
       "      <td>0.947884</td>\n",
       "      <td>1.036088</td>\n",
       "      <td>1.179915</td>\n",
       "      <td>1.23786</td>\n",
       "      <td>1.604176</td>\n",
       "      <td>1.638175</td>\n",
       "    </tr>\n",
       "    <tr>\n",
       "      <th>min</th>\n",
       "      <td>-45.750000</td>\n",
       "      <td>-14.25</td>\n",
       "      <td>1011.340000</td>\n",
       "      <td>1011.660000</td>\n",
       "      <td>1011.770000</td>\n",
       "      <td>1011.610000</td>\n",
       "      <td>1011.820000</td>\n",
       "      <td>1011.970000</td>\n",
       "      <td>1011.930000</td>\n",
       "      <td>1012.410000</td>\n",
       "      <td>...</td>\n",
       "      <td>1013.680000</td>\n",
       "      <td>1012.830000</td>\n",
       "      <td>1011.480000</td>\n",
       "      <td>1010.390000</td>\n",
       "      <td>1009.320000</td>\n",
       "      <td>1008.580000</td>\n",
       "      <td>1008.010000</td>\n",
       "      <td>1008.13000</td>\n",
       "      <td>1007.890000</td>\n",
       "      <td>1008.120000</td>\n",
       "    </tr>\n",
       "    <tr>\n",
       "      <th>25%</th>\n",
       "      <td>-44.312500</td>\n",
       "      <td>-14.25</td>\n",
       "      <td>1012.020000</td>\n",
       "      <td>1012.310000</td>\n",
       "      <td>1012.180000</td>\n",
       "      <td>1012.077500</td>\n",
       "      <td>1012.250000</td>\n",
       "      <td>1012.282500</td>\n",
       "      <td>1012.257500</td>\n",
       "      <td>1012.732500</td>\n",
       "      <td>...</td>\n",
       "      <td>1013.935000</td>\n",
       "      <td>1013.157500</td>\n",
       "      <td>1011.880000</td>\n",
       "      <td>1010.967500</td>\n",
       "      <td>1010.037500</td>\n",
       "      <td>1009.370000</td>\n",
       "      <td>1008.820000</td>\n",
       "      <td>1009.04000</td>\n",
       "      <td>1008.680000</td>\n",
       "      <td>1009.057500</td>\n",
       "    </tr>\n",
       "    <tr>\n",
       "      <th>50%</th>\n",
       "      <td>-42.875000</td>\n",
       "      <td>-14.25</td>\n",
       "      <td>1012.860000</td>\n",
       "      <td>1013.195000</td>\n",
       "      <td>1013.395000</td>\n",
       "      <td>1013.105000</td>\n",
       "      <td>1012.980000</td>\n",
       "      <td>1013.060000</td>\n",
       "      <td>1013.095000</td>\n",
       "      <td>1013.390000</td>\n",
       "      <td>...</td>\n",
       "      <td>1014.365000</td>\n",
       "      <td>1013.525000</td>\n",
       "      <td>1012.155000</td>\n",
       "      <td>1011.530000</td>\n",
       "      <td>1010.715000</td>\n",
       "      <td>1010.140000</td>\n",
       "      <td>1009.575000</td>\n",
       "      <td>1009.78500</td>\n",
       "      <td>1009.320000</td>\n",
       "      <td>1010.075000</td>\n",
       "    </tr>\n",
       "    <tr>\n",
       "      <th>75%</th>\n",
       "      <td>-41.437500</td>\n",
       "      <td>-14.25</td>\n",
       "      <td>1014.267500</td>\n",
       "      <td>1014.852500</td>\n",
       "      <td>1014.470000</td>\n",
       "      <td>1014.265000</td>\n",
       "      <td>1014.130000</td>\n",
       "      <td>1014.280000</td>\n",
       "      <td>1014.440000</td>\n",
       "      <td>1014.800000</td>\n",
       "      <td>...</td>\n",
       "      <td>1015.140000</td>\n",
       "      <td>1014.195000</td>\n",
       "      <td>1012.952500</td>\n",
       "      <td>1011.952500</td>\n",
       "      <td>1011.012500</td>\n",
       "      <td>1010.445000</td>\n",
       "      <td>1010.030000</td>\n",
       "      <td>1010.21500</td>\n",
       "      <td>1010.615000</td>\n",
       "      <td>1010.957500</td>\n",
       "    </tr>\n",
       "    <tr>\n",
       "      <th>max</th>\n",
       "      <td>-40.000000</td>\n",
       "      <td>-14.25</td>\n",
       "      <td>1016.660000</td>\n",
       "      <td>1017.010000</td>\n",
       "      <td>1016.190000</td>\n",
       "      <td>1015.770000</td>\n",
       "      <td>1015.330000</td>\n",
       "      <td>1015.200000</td>\n",
       "      <td>1015.260000</td>\n",
       "      <td>1015.670000</td>\n",
       "      <td>...</td>\n",
       "      <td>1016.070000</td>\n",
       "      <td>1015.140000</td>\n",
       "      <td>1014.330000</td>\n",
       "      <td>1013.540000</td>\n",
       "      <td>1012.900000</td>\n",
       "      <td>1012.470000</td>\n",
       "      <td>1012.360000</td>\n",
       "      <td>1012.68000</td>\n",
       "      <td>1013.380000</td>\n",
       "      <td>1013.840000</td>\n",
       "    </tr>\n",
       "  </tbody>\n",
       "</table>\n",
       "<p>8 rows × 746 columns</p>\n",
       "</div>"
      ],
      "text/plain": [
       "             0      1            2            3            4            5    \\\n",
       "count  24.000000  24.00    24.000000    24.000000    24.000000    24.000000   \n",
       "mean  -42.875000 -14.25  1013.341667  1013.693750  1013.497500  1013.312917   \n",
       "std     1.767767   0.00     1.625470     1.680853     1.368643     1.295200   \n",
       "min   -45.750000 -14.25  1011.340000  1011.660000  1011.770000  1011.610000   \n",
       "25%   -44.312500 -14.25  1012.020000  1012.310000  1012.180000  1012.077500   \n",
       "50%   -42.875000 -14.25  1012.860000  1013.195000  1013.395000  1013.105000   \n",
       "75%   -41.437500 -14.25  1014.267500  1014.852500  1014.470000  1014.265000   \n",
       "max   -40.000000 -14.25  1016.660000  1017.010000  1016.190000  1015.770000   \n",
       "\n",
       "               6            7            8            9    ...          736  \\\n",
       "count    24.000000    24.000000    24.000000    24.000000  ...    24.000000   \n",
       "mean   1013.278750  1013.305417  1013.347500  1013.775000  ...  1014.597500   \n",
       "std       1.111596     1.113361     1.195474     1.166049  ...     0.723201   \n",
       "min    1011.820000  1011.970000  1011.930000  1012.410000  ...  1013.680000   \n",
       "25%    1012.250000  1012.282500  1012.257500  1012.732500  ...  1013.935000   \n",
       "50%    1012.980000  1013.060000  1013.095000  1013.390000  ...  1014.365000   \n",
       "75%    1014.130000  1014.280000  1014.440000  1014.800000  ...  1015.140000   \n",
       "max    1015.330000  1015.200000  1015.260000  1015.670000  ...  1016.070000   \n",
       "\n",
       "               737          738          739          740          741  \\\n",
       "count    24.000000    24.000000    24.000000    24.000000    24.000000   \n",
       "mean   1013.715000  1012.466667  1011.580833  1010.691667  1010.085833   \n",
       "std       0.675168     0.823691     0.862352     0.947884     1.036088   \n",
       "min    1012.830000  1011.480000  1010.390000  1009.320000  1008.580000   \n",
       "25%    1013.157500  1011.880000  1010.967500  1010.037500  1009.370000   \n",
       "50%    1013.525000  1012.155000  1011.530000  1010.715000  1010.140000   \n",
       "75%    1014.195000  1012.952500  1011.952500  1011.012500  1010.445000   \n",
       "max    1015.140000  1014.330000  1013.540000  1012.900000  1012.470000   \n",
       "\n",
       "               742         743          744          745  \n",
       "count    24.000000    24.00000    24.000000    24.000000  \n",
       "mean   1009.626250  1009.84875  1009.874167  1010.284167  \n",
       "std       1.179915     1.23786     1.604176     1.638175  \n",
       "min    1008.010000  1008.13000  1007.890000  1008.120000  \n",
       "25%    1008.820000  1009.04000  1008.680000  1009.057500  \n",
       "50%    1009.575000  1009.78500  1009.320000  1010.075000  \n",
       "75%    1010.030000  1010.21500  1010.615000  1010.957500  \n",
       "max    1012.360000  1012.68000  1013.380000  1013.840000  \n",
       "\n",
       "[8 rows x 746 columns]"
      ]
     },
     "execution_count": 88,
     "metadata": {},
     "output_type": "execute_result"
    }
   ],
   "source": [
    "# Descreve apenas colunas \"Numericas\"\n",
    "df_pressao.describe(include=[np.number])"
   ]
  },
  {
   "cell_type": "markdown",
   "id": "ba684ac3-124d-4dca-810d-ee63ae135b13",
   "metadata": {},
   "source": [
    "### **C) Análise sobre os Dados**"
   ]
  },
  {
   "cell_type": "markdown",
   "id": "7462dcdc-daa0-4cad-a944-a264ce575254",
   "metadata": {},
   "source": [
    "#### <span style=\"color:#DC143C\">**C1. Quantidade de valores não nulos**"
   ]
  },
  {
   "cell_type": "code",
   "execution_count": 89,
   "id": "ef87a932-b74b-48fe-b151-a8ec29013fef",
   "metadata": {},
   "outputs": [
    {
     "data": {
      "text/plain": [
       "0      24\n",
       "1      24\n",
       "2      24\n",
       "3      24\n",
       "4      24\n",
       "       ..\n",
       "741    24\n",
       "742    24\n",
       "743    24\n",
       "744    24\n",
       "745    24\n",
       "Length: 746, dtype: int64"
      ]
     },
     "execution_count": 89,
     "metadata": {},
     "output_type": "execute_result"
    }
   ],
   "source": [
    "df_pressao.count()"
   ]
  },
  {
   "cell_type": "markdown",
   "id": "16805d59-b316-4e69-a0c5-7a18ed97b6a4",
   "metadata": {},
   "source": [
    "#### <span style=\"color:#DC143C\">**C2. Quantidade de valores NULOS**"
   ]
  },
  {
   "cell_type": "markdown",
   "id": "3fe08f32-0f4b-446f-a6fa-50b6b7c7f8a4",
   "metadata": {},
   "source": [
    "<p>Exemplo:<br> \n",
    "<b>rain.isnull()</b>  # O conteúdo da campo onde está NULL recebe o valor FALSE, senão TRUE <br>\n",
    "<b>rain.isnull().sum()</b>  # Totaliza os conteudos não NULL por coluna"
   ]
  },
  {
   "cell_type": "code",
   "execution_count": 90,
   "id": "8cf14de2-0e35-4194-8d40-010a26193ee4",
   "metadata": {},
   "outputs": [
    {
     "data": {
      "text/plain": [
       "0      0\n",
       "1      0\n",
       "2      0\n",
       "3      0\n",
       "4      0\n",
       "      ..\n",
       "741    0\n",
       "742    0\n",
       "743    0\n",
       "744    0\n",
       "745    0\n",
       "Length: 746, dtype: int64"
      ]
     },
     "execution_count": 90,
     "metadata": {},
     "output_type": "execute_result"
    }
   ],
   "source": [
    "df_pressao.isnull().sum()"
   ]
  },
  {
   "cell_type": "markdown",
   "id": "030c1b9a-de76-492a-8448-0a192b0448d5",
   "metadata": {},
   "source": [
    "#### <span style=\"color:#DC143C\"> **C3. Visualiação de Dados Faltantes**"
   ]
  },
  {
   "cell_type": "markdown",
   "id": "7b551947-04a6-406d-829b-91de295c8be5",
   "metadata": {},
   "source": [
    "(  https://github.com/ResidentMario/missingno ) <br>\n",
    "O <i>missingno</i> fornece um pequeno conjunto de ferramentas de visualizações de dados perdidos flexíveis e fáceis de usar e utilitários que permitem que você obtenha\n",
    "um rápido resumo visual da completude (ou falta dela) do seu conjunto de dados.\n",
    "<p>\n",
    "<b>1.Matriz</b><br>\n",
    "A matriz de nulidade <b>msno.matrix</b> é uma exibição densa de dados que permite que você selecione visualmente padrões na conclusão de dados.<br>\n",
    "As linhas brancas indicam valores ausentes. O minigráfico à direita resume a forma geral da integridade dos dados e aponta as linhas com a nulidade máxima e mínima no conjunto de dados\n"
   ]
  },
  {
   "cell_type": "code",
   "execution_count": 91,
   "id": "a5319a98-c88e-4d22-93dc-13378537ddce",
   "metadata": {},
   "outputs": [
    {
     "data": {
      "text/plain": [
       "<AxesSubplot:>"
      ]
     },
     "execution_count": 91,
     "metadata": {},
     "output_type": "execute_result"
    },
    {
     "data": {
      "image/png": "[encoded data removed]",
      "text/plain": [
       "<Figure size 1800x720 with 2 Axes>"
      ]
     },
     "metadata": {
      "needs_background": "light"
     },
     "output_type": "display_data"
    }
   ],
   "source": [
    "msno.matrix(df_pressao)"
   ]
  },
  {
   "cell_type": "markdown",
   "id": "f69684f3-9806-426b-9faa-75cd17cdb6aa",
   "metadata": {},
   "source": [
    "### **D) Tratamento -- Preencher Lacunas (Se Houver)**"
   ]
  },
  {
   "cell_type": "code",
   "execution_count": 92,
   "id": "9193cdd7-7075-4165-9219-cf3fe6671e24",
   "metadata": {},
   "outputs": [
    {
     "name": "stdout",
     "output_type": "stream",
     "text": [
      "Total de Linhas do Dataframe: (Antes) :24\n",
      "Total de Linhas do Dataframe: (Depois):24\n"
     ]
    }
   ],
   "source": [
    "print(\"Total de Linhas do Dataframe: (Antes) :\" + str(len(df_pressao)))\n",
    "df_pressao = df_pressao.drop_duplicates()\n",
    "print(\"Total de Linhas do Dataframe: (Depois):\" + str(len(df_pressao)))"
   ]
  },
  {
   "cell_type": "markdown",
   "id": "47dd1c64-1bee-4daa-8e52-33649c35f3f9",
   "metadata": {},
   "source": [
    "### **E) Descrição dos Atributos**"
   ]
  },
  {
   "cell_type": "markdown",
   "id": "8fe4a53a-23d7-4d0d-938a-c61bd1e3704f",
   "metadata": {},
   "source": [
    "<p><b>Cada linha contem um ponto de latitude e longitude localizado no meio de uma quadricula de 5km de cada lado da<br>\n",
    "    Região Nordeste do Brasil, e em seguinda dos valores horário de cada dia do mês 01 (referência).\n",
    "<br>\n",
    "<br>Coluna 0: Longitude em Graus\n",
    "<br>Coluna 1: Latitude em Graus\n",
    "<br>Coluna 2: Valor da Temperatura em Graus Celsius ºC\n",
    "<br>Coluna 3..746: Valor da Temperatura em Graus Celsius ºC\n",
    "</b></p>\n",
    "\n"
   ]
  },
  {
   "cell_type": "markdown",
   "id": "c39be079-72cf-4e93-91a9-29aa92af3211",
   "metadata": {},
   "source": [
    "#### <span style=\"color:#DC143C\"> **E1. Descobrindo todas as variáveis \"Categoricas\" e \"Continuas\"**"
   ]
  },
  {
   "cell_type": "code",
   "execution_count": null,
   "id": "80b41678-14c9-4ece-bbca-3d0f7306033b",
   "metadata": {},
   "outputs": [],
   "source": [
    "categorical_col, contin_val=[],[]\n",
    "\n",
    "for i in df_pressao.columns:  # i = nome das colunas\n",
    "   # print(i)\n",
    "    if df_pressao[i].dtype == 'object':\n",
    "        categorical_col.append(i)\n",
    "    else:\n",
    "        contin_val.append(i)\n",
    "        \n",
    "print(\"Colunas com variaveis Categóricas: \" + str(categorical_col))\n",
    "print('')\n",
    "print(\"Colunas com variaveis Contínuas: \" + str(contin_val))"
   ]
  },
  {
   "cell_type": "markdown",
   "id": "c87add9b-9d82-41d5-8c44-af98330c4888",
   "metadata": {},
   "source": [
    "#### <span style=\"color:#DC143C\"> **E2. Alterar Formato do Shape**"
   ]
  },
  {
   "cell_type": "code",
   "execution_count": 94,
   "id": "5939fc27-4b7c-48c4-a423-f5fa4c4114f8",
   "metadata": {},
   "outputs": [],
   "source": [
    "Linha    =  df_pressao.shape[0]  # Total de Linhas\n",
    "Colunas  =  df_pressao.shape[1]  # Total de Colunas\n",
    "\n",
    "frente = ['Longitude', 'Latitude', 'Valor_Pressao', 'Data']  # Cabeçalho\n",
    "df_result_pressao = pd.DataFrame(columns=frente)  # Criação de um dataframe vazio\n"
   ]
  },
  {
   "cell_type": "markdown",
   "id": "ad785ca5-0c23-4b4c-8714-c3e26a7f2d61",
   "metadata": {},
   "source": [
    "#### <span style=\"color:#DC143C\">**E3. Inicio da execução**"
   ]
  },
  {
   "cell_type": "code",
   "execution_count": 95,
   "id": "a8688424-12d7-4402-9715-41440e49c451",
   "metadata": {},
   "outputs": [
    {
     "data": {
      "text/plain": [
       "'2021-06-22 19:17:02'"
      ]
     },
     "execution_count": 95,
     "metadata": {},
     "output_type": "execute_result"
    }
   ],
   "source": [
    "datetime.now().strftime('%Y-%m-%d %H:%M:%S')"
   ]
  },
  {
   "cell_type": "code",
   "execution_count": 96,
   "id": "32cb4939-d5f4-4f6c-9c57-c5210f7cd8dc",
   "metadata": {},
   "outputs": [
    {
     "name": "stdout",
     "output_type": "stream",
     "text": [
      "linha: 0\n",
      "linha: 1\n",
      "linha: 2\n",
      "linha: 3\n",
      "linha: 4\n",
      "linha: 5\n",
      "linha: 6\n",
      "linha: 7\n",
      "linha: 8\n",
      "linha: 9\n",
      "linha: 10\n",
      "linha: 11\n",
      "linha: 12\n",
      "linha: 13\n",
      "linha: 14\n",
      "linha: 15\n",
      "linha: 16\n",
      "linha: 17\n",
      "linha: 18\n",
      "linha: 19\n",
      "linha: 20\n",
      "linha: 21\n",
      "linha: 22\n",
      "linha: 23\n"
     ]
    }
   ],
   "source": [
    "refdia = 1\n",
    "    \n",
    "# Função para transformar .... \n",
    "for lin in range(Linha):\n",
    "    # print('linha: ' + str(lin))\n",
    "    \n",
    "    refhora = 0\n",
    "    \n",
    "    for col in range (Colunas):        \n",
    "        if col > 1:    # Removo log e Lat da varredura\n",
    "            # print(col)\n",
    "            # print('Day: '  + str(refdia))    \n",
    "            # print('Hora: ' + str(refhora))   \n",
    "                \n",
    "            data_p = datetime(year=2017, month=1, day = refdia, hour = refhora, minute=0, second=0) \n",
    "            # print(data)\n",
    "                \n",
    "            variavel = [df_pressao.loc[lin,0], df_pressao.loc[lin,1] , df_pressao.loc[lin,col] , data_p] \n",
    "                \n",
    "            df_result_pressao.loc[-1] = variavel  # adding a row\n",
    "            df_result_pressao.index = df_result_pressao.index + 1\n",
    "                \n",
    "            refhora = refhora + 1\n",
    "            if refhora == 24:                    \n",
    "                refdia = refdia + 1\n",
    "                refhora = 0\n",
    "                \n",
    "    refdia = 1\n",
    "    refhora = 0\n",
    "    \n",
    "df_result_pressao.reset_index(inplace=True, drop=False)  #Reseto o indice"
   ]
  },
  {
   "cell_type": "markdown",
   "id": "76eb16fe-ffde-4b5f-8810-327f4a796957",
   "metadata": {},
   "source": [
    "#### <span style=\"color:#DC143C\">**E3. Fim da execução**"
   ]
  },
  {
   "cell_type": "code",
   "execution_count": 97,
   "id": "af1f73b9-cbb5-4fd3-b69e-28d565adacce",
   "metadata": {},
   "outputs": [
    {
     "data": {
      "text/plain": [
       "'2021-06-22 19:20:54'"
      ]
     },
     "execution_count": 97,
     "metadata": {},
     "output_type": "execute_result"
    }
   ],
   "source": [
    "datetime.now().strftime('%Y-%m-%d %H:%M:%S') "
   ]
  },
  {
   "cell_type": "markdown",
   "id": "0196292f-3283-4723-ba9b-0eb6170e5135",
   "metadata": {},
   "source": [
    "### **F. Exporta Resultados**"
   ]
  },
  {
   "cell_type": "code",
   "execution_count": 98,
   "id": "ae0fcb10-eb63-4730-abc0-ac8bdd1ea303",
   "metadata": {},
   "outputs": [],
   "source": [
    "df_result_pressao.drop('index',axis='columns', inplace=True)"
   ]
  },
  {
   "cell_type": "code",
   "execution_count": 99,
   "id": "3e7d0d30-082a-464e-8fd7-57ddcf2bc8ed",
   "metadata": {},
   "outputs": [],
   "source": [
    "df_result_pressao.to_csv(output_file, sep=';',  encoding='utf-8')\n",
    "df_result_pressao.to_parquet(save_file, compression='snappy')"
   ]
  },
  {
   "cell_type": "code",
   "execution_count": null,
   "id": "290913b3-a5f3-445b-9e87-8b63c2a7c5b5",
   "metadata": {},
   "outputs": [],
   "source": []
  }
 ],
 "metadata": {
  "kernelspec": {
   "display_name": "Python 3",
   "language": "python",
   "name": "python3"
  },
  "language_info": {
   "codemirror_mode": {
    "name": "ipython",
    "version": 3
   },
   "file_extension": ".py",
   "mimetype": "text/x-python",
   "name": "python",
   "nbconvert_exporter": "python",
   "pygments_lexer": "ipython3",
   "version": "3.7.10"
  }
 },
 "nbformat": 4,
 "nbformat_minor": 5
}
