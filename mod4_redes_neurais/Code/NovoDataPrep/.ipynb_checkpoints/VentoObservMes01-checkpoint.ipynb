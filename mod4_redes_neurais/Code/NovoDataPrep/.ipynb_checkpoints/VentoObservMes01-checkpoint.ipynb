{
 "cells": [
  {
   "cell_type": "code",
   "execution_count": 13,
   "id": "eb7d0d19-ccda-4e67-b305-088b8bbf3c85",
   "metadata": {},
   "outputs": [],
   "source": [
    "import numpy as np\n",
    "import pandas as pd\n",
    "from datetime import datetime,date"
   ]
  },
  {
   "cell_type": "markdown",
   "id": "d4de6591-f4da-4527-8263-f74933fa9424",
   "metadata": {},
   "source": [
    "### A) Dados de Meteorologia"
   ]
  },
  {
   "cell_type": "code",
   "execution_count": 14,
   "id": "f3ba86b3-1f9e-4435-8ddc-c3fb18fb3940",
   "metadata": {},
   "outputs": [],
   "source": [
    "# DADOS OBSERVADOS\n",
    "dfvento = pd.read_csv('vNE_2017_01_100m.csv', delimiter = r\"\\s+\", header=None)\n",
    "#dfvento = pd.read_csv('teste.csv', delimiter = r\"\\s+\", header=None)"
   ]
  },
  {
   "cell_type": "code",
   "execution_count": 15,
   "id": "05e5dc6d-2f12-4267-8f14-bd7028017935",
   "metadata": {},
   "outputs": [
    {
     "data": {
      "text/plain": [
       "(2047, 1490)"
      ]
     },
     "execution_count": 15,
     "metadata": {},
     "output_type": "execute_result"
    }
   ],
   "source": [
    "dfvento.shape # formato da matriz"
   ]
  },
  {
   "cell_type": "code",
   "execution_count": 16,
   "id": "264c2fda-4d8e-4114-8641-6fb08f2df705",
   "metadata": {},
   "outputs": [
    {
     "data": {
      "text/html": [
       "<div>\n",
       "<style scoped>\n",
       "    .dataframe tbody tr th:only-of-type {\n",
       "        vertical-align: middle;\n",
       "    }\n",
       "\n",
       "    .dataframe tbody tr th {\n",
       "        vertical-align: top;\n",
       "    }\n",
       "\n",
       "    .dataframe thead th {\n",
       "        text-align: right;\n",
       "    }\n",
       "</style>\n",
       "<table border=\"1\" class=\"dataframe\">\n",
       "  <thead>\n",
       "    <tr style=\"text-align: right;\">\n",
       "      <th></th>\n",
       "      <th>0</th>\n",
       "      <th>1</th>\n",
       "      <th>2</th>\n",
       "      <th>3</th>\n",
       "      <th>4</th>\n",
       "      <th>5</th>\n",
       "      <th>6</th>\n",
       "      <th>7</th>\n",
       "      <th>8</th>\n",
       "      <th>9</th>\n",
       "      <th>...</th>\n",
       "      <th>1480</th>\n",
       "      <th>1481</th>\n",
       "      <th>1482</th>\n",
       "      <th>1483</th>\n",
       "      <th>1484</th>\n",
       "      <th>1485</th>\n",
       "      <th>1486</th>\n",
       "      <th>1487</th>\n",
       "      <th>1488</th>\n",
       "      <th>1489</th>\n",
       "    </tr>\n",
       "  </thead>\n",
       "  <tbody>\n",
       "    <tr>\n",
       "      <th>0</th>\n",
       "      <td>-46.00</td>\n",
       "      <td>-1.25</td>\n",
       "      <td>5.94</td>\n",
       "      <td>53.28</td>\n",
       "      <td>5.62</td>\n",
       "      <td>55.07</td>\n",
       "      <td>4.67</td>\n",
       "      <td>60.72</td>\n",
       "      <td>4.17</td>\n",
       "      <td>66.63</td>\n",
       "      <td>...</td>\n",
       "      <td>6.89</td>\n",
       "      <td>54.92</td>\n",
       "      <td>6.90</td>\n",
       "      <td>59.23</td>\n",
       "      <td>6.78</td>\n",
       "      <td>62.35</td>\n",
       "      <td>7.27</td>\n",
       "      <td>62.41</td>\n",
       "      <td>7.05</td>\n",
       "      <td>61.26</td>\n",
       "    </tr>\n",
       "    <tr>\n",
       "      <th>1</th>\n",
       "      <td>-45.75</td>\n",
       "      <td>-1.25</td>\n",
       "      <td>6.58</td>\n",
       "      <td>54.59</td>\n",
       "      <td>6.46</td>\n",
       "      <td>55.04</td>\n",
       "      <td>5.66</td>\n",
       "      <td>59.16</td>\n",
       "      <td>5.06</td>\n",
       "      <td>63.97</td>\n",
       "      <td>...</td>\n",
       "      <td>6.98</td>\n",
       "      <td>55.83</td>\n",
       "      <td>6.92</td>\n",
       "      <td>59.04</td>\n",
       "      <td>7.15</td>\n",
       "      <td>62.89</td>\n",
       "      <td>8.06</td>\n",
       "      <td>63.59</td>\n",
       "      <td>7.70</td>\n",
       "      <td>64.00</td>\n",
       "    </tr>\n",
       "    <tr>\n",
       "      <th>2</th>\n",
       "      <td>-46.00</td>\n",
       "      <td>-1.50</td>\n",
       "      <td>5.31</td>\n",
       "      <td>45.89</td>\n",
       "      <td>4.80</td>\n",
       "      <td>47.95</td>\n",
       "      <td>3.70</td>\n",
       "      <td>53.08</td>\n",
       "      <td>3.12</td>\n",
       "      <td>62.16</td>\n",
       "      <td>...</td>\n",
       "      <td>6.22</td>\n",
       "      <td>52.76</td>\n",
       "      <td>6.05</td>\n",
       "      <td>55.87</td>\n",
       "      <td>5.50</td>\n",
       "      <td>62.53</td>\n",
       "      <td>5.69</td>\n",
       "      <td>61.67</td>\n",
       "      <td>5.71</td>\n",
       "      <td>57.12</td>\n",
       "    </tr>\n",
       "    <tr>\n",
       "      <th>3</th>\n",
       "      <td>-45.75</td>\n",
       "      <td>-1.50</td>\n",
       "      <td>5.22</td>\n",
       "      <td>49.64</td>\n",
       "      <td>4.94</td>\n",
       "      <td>50.74</td>\n",
       "      <td>4.05</td>\n",
       "      <td>54.27</td>\n",
       "      <td>3.48</td>\n",
       "      <td>62.34</td>\n",
       "      <td>...</td>\n",
       "      <td>5.76</td>\n",
       "      <td>53.29</td>\n",
       "      <td>5.66</td>\n",
       "      <td>55.67</td>\n",
       "      <td>5.70</td>\n",
       "      <td>61.69</td>\n",
       "      <td>5.99</td>\n",
       "      <td>61.95</td>\n",
       "      <td>5.92</td>\n",
       "      <td>59.31</td>\n",
       "    </tr>\n",
       "    <tr>\n",
       "      <th>4</th>\n",
       "      <td>-45.50</td>\n",
       "      <td>-1.50</td>\n",
       "      <td>5.55</td>\n",
       "      <td>53.08</td>\n",
       "      <td>5.50</td>\n",
       "      <td>52.17</td>\n",
       "      <td>4.84</td>\n",
       "      <td>54.28</td>\n",
       "      <td>4.23</td>\n",
       "      <td>61.00</td>\n",
       "      <td>...</td>\n",
       "      <td>5.53</td>\n",
       "      <td>49.23</td>\n",
       "      <td>5.90</td>\n",
       "      <td>52.59</td>\n",
       "      <td>6.21</td>\n",
       "      <td>59.98</td>\n",
       "      <td>6.28</td>\n",
       "      <td>61.19</td>\n",
       "      <td>6.20</td>\n",
       "      <td>61.29</td>\n",
       "    </tr>\n",
       "  </tbody>\n",
       "</table>\n",
       "<p>5 rows × 1490 columns</p>\n",
       "</div>"
      ],
      "text/plain": [
       "    0     1     2      3     4      5     6      7     8      9     ...  1480  \\\n",
       "0 -46.00 -1.25  5.94  53.28  5.62  55.07  4.67  60.72  4.17  66.63  ...  6.89   \n",
       "1 -45.75 -1.25  6.58  54.59  6.46  55.04  5.66  59.16  5.06  63.97  ...  6.98   \n",
       "2 -46.00 -1.50  5.31  45.89  4.80  47.95  3.70  53.08  3.12  62.16  ...  6.22   \n",
       "3 -45.75 -1.50  5.22  49.64  4.94  50.74  4.05  54.27  3.48  62.34  ...  5.76   \n",
       "4 -45.50 -1.50  5.55  53.08  5.50  52.17  4.84  54.28  4.23  61.00  ...  5.53   \n",
       "\n",
       "    1481  1482   1483  1484   1485  1486   1487  1488   1489  \n",
       "0  54.92  6.90  59.23  6.78  62.35  7.27  62.41  7.05  61.26  \n",
       "1  55.83  6.92  59.04  7.15  62.89  8.06  63.59  7.70  64.00  \n",
       "2  52.76  6.05  55.87  5.50  62.53  5.69  61.67  5.71  57.12  \n",
       "3  53.29  5.66  55.67  5.70  61.69  5.99  61.95  5.92  59.31  \n",
       "4  49.23  5.90  52.59  6.21  59.98  6.28  61.19  6.20  61.29  \n",
       "\n",
       "[5 rows x 1490 columns]"
      ]
     },
     "execution_count": 16,
     "metadata": {},
     "output_type": "execute_result"
    }
   ],
   "source": [
    "dfvento.head(5)  # visão de 5 linhas"
   ]
  },
  {
   "cell_type": "code",
   "execution_count": 17,
   "id": "1b5d8aab-0265-4245-89a5-bde19f531a90",
   "metadata": {},
   "outputs": [
    {
     "data": {
      "text/plain": [
       "31.0"
      ]
     },
     "execution_count": 17,
     "metadata": {},
     "output_type": "execute_result"
    }
   ],
   "source": [
    "# Total de Registros - São 31 eventos observados\n",
    "# [Total de Registro - (Latitude e Longitude)] / 2 (2eventos..mag e direcao) / 24 ocorrencias\n",
    "((1490-2)/2)/24"
   ]
  },
  {
   "cell_type": "code",
   "execution_count": 18,
   "id": "5939fc27-4b7c-48c4-a423-f5fa4c4114f8",
   "metadata": {},
   "outputs": [],
   "source": [
    "Linha    =  dfvento.shape[0]  # Total de Linhas\n",
    "Colunas  =  dfvento.shape[1]  # Total de Colunas\n",
    "\n",
    "frente = ['Longitude', 'Latitude', 'Magnitude', 'Direcao', 'Data']  # Cabeçalho\n",
    "df_ajuste = pd.DataFrame(columns=frente)  # Criação de um dataframe vazio\n"
   ]
  },
  {
   "cell_type": "code",
   "execution_count": 19,
   "id": "a8688424-12d7-4402-9715-41440e49c451",
   "metadata": {},
   "outputs": [
    {
     "data": {
      "text/plain": [
       "'2021-06-19 17:06:04'"
      ]
     },
     "execution_count": 19,
     "metadata": {},
     "output_type": "execute_result"
    }
   ],
   "source": [
    "datetime.now().strftime('%Y-%m-%d %H:%M:%S')"
   ]
  },
  {
   "cell_type": "markdown",
   "id": "5e94d3ad-70f9-4a9d-bd03-7e381148b4f6",
   "metadata": {},
   "source": [
    "### B) Formatação dos Dados"
   ]
  },
  {
   "cell_type": "code",
   "execution_count": null,
   "id": "32cb4939-d5f4-4f6c-9c57-c5210f7cd8dc",
   "metadata": {},
   "outputs": [],
   "source": [
    "refdia = 1\n",
    "    \n",
    "# Função para transformar .... \n",
    "for lin in range(Linha): \n",
    "    # print('linha: ' + str(lin))\n",
    "    \n",
    "    refhora = 0\n",
    "    \n",
    "    for col in range (Colunas):        \n",
    "        if col > 1:  # Removo log e Lat da varredura\n",
    "            \n",
    "            if col % 2 == 0: # Se o número (col) for par       \n",
    "                \n",
    "                # print(col)\n",
    "                # print('Day: '  + str(refdia))    \n",
    "                # print('Hora: ' + str(refhora))   \n",
    "                \n",
    "                data = datetime(year=2017, month=1, day = refdia, hour = refhora, minute=0, second=0) \n",
    "                # print(data)\n",
    "                \n",
    "                variavel = [dfvento.loc[lin,0], dfvento.loc[lin,1] , dfvento.loc[lin,col] ,dfvento.loc[lin,(col+1)], data] \n",
    "                \n",
    "                df_ajuste.loc[-1] = variavel  # adding a row\n",
    "                df_ajuste.index = df_ajuste.index + 1\n",
    "                \n",
    "                refhora = refhora + 1\n",
    "                if refhora == 24:                    \n",
    "                    refdia = refdia + 1\n",
    "                    refhora = 0\n",
    "                \n",
    "    refdia = 1\n",
    "    refhora = 0\n",
    "    \n",
    "df_ajuste.reset_index(inplace=True, drop=False)  #Reseto o indice"
   ]
  },
  {
   "cell_type": "code",
   "execution_count": null,
   "id": "af1f73b9-cbb5-4fd3-b69e-28d565adacce",
   "metadata": {},
   "outputs": [],
   "source": [
    "datetime.now().strftime('%Y-%m-%d %H:%M:%S')"
   ]
  },
  {
   "cell_type": "code",
   "execution_count": null,
   "id": "3e7d0d30-082a-464e-8fd7-57ddcf2bc8ed",
   "metadata": {},
   "outputs": [],
   "source": [
    "df_ajuste.to_csv('result.csv',sep='|', header=False, index=False, encoding='utf-8')"
   ]
  },
  {
   "cell_type": "code",
   "execution_count": null,
   "id": "9fffd190-7570-49b3-ac3a-3b063169cac3",
   "metadata": {},
   "outputs": [],
   "source": [
    "df_ajuste.head(10)  "
   ]
  },
  {
   "cell_type": "code",
   "execution_count": null,
   "id": "28df5ff1-8326-4746-8d42-150529b6d40e",
   "metadata": {},
   "outputs": [],
   "source": [
    "\n",
    "                "
   ]
  }
 ],
 "metadata": {
  "kernelspec": {
   "display_name": "Python 3",
   "language": "python",
   "name": "python3"
  },
  "language_info": {
   "codemirror_mode": {
    "name": "ipython",
    "version": 3
   },
   "file_extension": ".py",
   "mimetype": "text/x-python",
   "name": "python",
   "nbconvert_exporter": "python",
   "pygments_lexer": "ipython3",
   "version": "3.7.10"
  }
 },
 "nbformat": 4,
 "nbformat_minor": 5
}
