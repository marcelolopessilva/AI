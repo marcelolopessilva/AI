{
 "cells": [
  {
   "cell_type": "code",
   "execution_count": 1,
   "id": "eb7d0d19-ccda-4e67-b305-088b8bbf3c85",
   "metadata": {},
   "outputs": [],
   "source": [
    "import numpy as np\n",
    "import pandas as pd\n",
    "from datetime import datetime,date,time\n",
    "from dateutil.relativedelta import relativedelta\n"
   ]
  },
  {
   "cell_type": "markdown",
   "id": "d4de6591-f4da-4527-8263-f74933fa9424",
   "metadata": {},
   "source": [
    "### **A) Coleta dos Dados de Direção do Vento**"
   ]
  },
  {
   "cell_type": "code",
   "execution_count": 2,
   "id": "ce4ae9a9-fde5-4f5f-8cd6-1dfbbaa3f0c5",
   "metadata": {},
   "outputs": [],
   "source": [
    "source_file = '../../Data/raw/Variaveis_EPE/BAUET2_CAETITÉ_2_DIR_Verif_EPE.txt'"
   ]
  },
  {
   "cell_type": "code",
   "execution_count": 3,
   "id": "f3ba86b3-1f9e-4435-8ddc-c3fb18fb3940",
   "metadata": {},
   "outputs": [],
   "source": [
    "df_direcao = pd.read_csv(source_file, delimiter = ';' , header=None )"
   ]
  },
  {
   "cell_type": "markdown",
   "id": "533e1214-19b9-470f-8d35-9b5cedd6736d",
   "metadata": {},
   "source": [
    "### **B) Sobre os Dados no Patio 1**"
   ]
  },
  {
   "cell_type": "markdown",
   "id": "7e7cf551-72c8-477b-8984-53dd2ca27235",
   "metadata": {},
   "source": [
    "#### <span style=\"color:#DC143C\">**B1.Formato dos Dados**"
   ]
  },
  {
   "cell_type": "code",
   "execution_count": 4,
   "id": "05e5dc6d-2f12-4267-8f14-bd7028017935",
   "metadata": {},
   "outputs": [
    {
     "data": {
      "text/plain": [
       "(1622, 49)"
      ]
     },
     "execution_count": 4,
     "metadata": {},
     "output_type": "execute_result"
    }
   ],
   "source": [
    "df_direcao.shape # formato da matriz"
   ]
  },
  {
   "cell_type": "markdown",
   "id": "9d24ab44-4f41-4132-84db-1977047f5cad",
   "metadata": {},
   "source": [
    "#### <span style=\"color:#DC143C\">**B2.Visao do Dataframe**"
   ]
  },
  {
   "cell_type": "code",
   "execution_count": 5,
   "id": "264c2fda-4d8e-4114-8641-6fb08f2df705",
   "metadata": {},
   "outputs": [
    {
     "data": {
      "text/html": [
       "<div>\n",
       "<style scoped>\n",
       "    .dataframe tbody tr th:only-of-type {\n",
       "        vertical-align: middle;\n",
       "    }\n",
       "\n",
       "    .dataframe tbody tr th {\n",
       "        vertical-align: top;\n",
       "    }\n",
       "\n",
       "    .dataframe thead th {\n",
       "        text-align: right;\n",
       "    }\n",
       "</style>\n",
       "<table border=\"1\" class=\"dataframe\">\n",
       "  <thead>\n",
       "    <tr style=\"text-align: right;\">\n",
       "      <th></th>\n",
       "      <th>0</th>\n",
       "      <th>1</th>\n",
       "      <th>2</th>\n",
       "      <th>3</th>\n",
       "      <th>4</th>\n",
       "      <th>5</th>\n",
       "      <th>6</th>\n",
       "      <th>7</th>\n",
       "      <th>8</th>\n",
       "      <th>9</th>\n",
       "      <th>...</th>\n",
       "      <th>39</th>\n",
       "      <th>40</th>\n",
       "      <th>41</th>\n",
       "      <th>42</th>\n",
       "      <th>43</th>\n",
       "      <th>44</th>\n",
       "      <th>45</th>\n",
       "      <th>46</th>\n",
       "      <th>47</th>\n",
       "      <th>48</th>\n",
       "    </tr>\n",
       "  </thead>\n",
       "  <tbody>\n",
       "    <tr>\n",
       "      <th>0</th>\n",
       "      <td>20170101</td>\n",
       "      <td>999.0</td>\n",
       "      <td>999.0</td>\n",
       "      <td>116.567</td>\n",
       "      <td>121.833</td>\n",
       "      <td>120.600</td>\n",
       "      <td>121.367</td>\n",
       "      <td>122.767</td>\n",
       "      <td>116.667</td>\n",
       "      <td>116.367</td>\n",
       "      <td>...</td>\n",
       "      <td>114.833</td>\n",
       "      <td>115.567</td>\n",
       "      <td>113.400</td>\n",
       "      <td>110.633</td>\n",
       "      <td>102.4</td>\n",
       "      <td>97.300</td>\n",
       "      <td>95.167</td>\n",
       "      <td>120.733</td>\n",
       "      <td>106.967</td>\n",
       "      <td>104.500</td>\n",
       "    </tr>\n",
       "    <tr>\n",
       "      <th>1</th>\n",
       "      <td>20170102</td>\n",
       "      <td>117.7</td>\n",
       "      <td>116.3</td>\n",
       "      <td>105.267</td>\n",
       "      <td>108.133</td>\n",
       "      <td>118.467</td>\n",
       "      <td>113.400</td>\n",
       "      <td>110.600</td>\n",
       "      <td>117.200</td>\n",
       "      <td>120.267</td>\n",
       "      <td>...</td>\n",
       "      <td>104.867</td>\n",
       "      <td>111.867</td>\n",
       "      <td>107.067</td>\n",
       "      <td>105.367</td>\n",
       "      <td>96.0</td>\n",
       "      <td>80.367</td>\n",
       "      <td>65.000</td>\n",
       "      <td>115.300</td>\n",
       "      <td>107.933</td>\n",
       "      <td>97.667</td>\n",
       "    </tr>\n",
       "  </tbody>\n",
       "</table>\n",
       "<p>2 rows × 49 columns</p>\n",
       "</div>"
      ],
      "text/plain": [
       "         0      1      2        3        4        5        6        7   \\\n",
       "0  20170101  999.0  999.0  116.567  121.833  120.600  121.367  122.767   \n",
       "1  20170102  117.7  116.3  105.267  108.133  118.467  113.400  110.600   \n",
       "\n",
       "        8        9   ...       39       40       41       42     43      44  \\\n",
       "0  116.667  116.367  ...  114.833  115.567  113.400  110.633  102.4  97.300   \n",
       "1  117.200  120.267  ...  104.867  111.867  107.067  105.367   96.0  80.367   \n",
       "\n",
       "       45       46       47       48  \n",
       "0  95.167  120.733  106.967  104.500  \n",
       "1  65.000  115.300  107.933   97.667  \n",
       "\n",
       "[2 rows x 49 columns]"
      ]
     },
     "execution_count": 5,
     "metadata": {},
     "output_type": "execute_result"
    }
   ],
   "source": [
    "df_direcao.head(2)  # visão de 5 linhas"
   ]
  },
  {
   "cell_type": "markdown",
   "id": "5946208f-3f8e-42e8-87cf-5673729dcee3",
   "metadata": {},
   "source": [
    "### **C) Extração os Dados de 2017**"
   ]
  },
  {
   "cell_type": "markdown",
   "id": "03d6e54e-5dcc-4494-924a-26cf0c51a58b",
   "metadata": {},
   "source": [
    "#### <span style=\"color:#DC143C\"> **C1. Converter a primeira coluna em Data**"
   ]
  },
  {
   "cell_type": "code",
   "execution_count": 5,
   "id": "36ce0d92-bec5-4138-b9c0-719f3c3b4def",
   "metadata": {},
   "outputs": [],
   "source": [
    "df_direcao[0]= pd.to_datetime(df_direcao[0], format='%Y%m%d')"
   ]
  },
  {
   "cell_type": "markdown",
   "id": "99dc7a59-537f-4e2e-abd4-1d4e0e1c535c",
   "metadata": {},
   "source": [
    "#### <span style=\"color:#DC143C\"> **C2.Remove registros fora do Intervalo**"
   ]
  },
  {
   "cell_type": "code",
   "execution_count": 6,
   "id": "c8d8004c-2262-4629-93be-9a2fe1247087",
   "metadata": {},
   "outputs": [],
   "source": [
    "df_direcao = df_direcao.drop(df_direcao[df_direcao[0] > '2017-12-31'].index)\n",
    "df_direcao = df_direcao.drop(df_direcao[df_direcao[0] < '2017-01-01'].index)"
   ]
  },
  {
   "cell_type": "code",
   "execution_count": 7,
   "id": "a726e1ad-b45a-4bc3-87cd-399a03bbe9da",
   "metadata": {},
   "outputs": [],
   "source": [
    "df_direcao['longitude'] = -42.75\n",
    "df_direcao['latitude']  = -14.25 "
   ]
  },
  {
   "cell_type": "code",
   "execution_count": 8,
   "id": "1022a262-972a-4ae0-90e4-99843d269ebd",
   "metadata": {},
   "outputs": [],
   "source": [
    "cols = list(df_direcao)\n",
    "cols = [cols[-1]] + cols[:-1]\n",
    "df_direcao = df_direcao[cols]\n",
    "\n",
    "cols = list(df_direcao)\n",
    "cols = [cols[-1]] + cols[:-1]\n",
    "df_direcao = df_direcao[cols]"
   ]
  },
  {
   "cell_type": "code",
   "execution_count": 9,
   "id": "7a636996-b57d-4214-a5a9-1476430e1592",
   "metadata": {},
   "outputs": [],
   "source": [
    "df_direcao = df_direcao.reset_index()"
   ]
  },
  {
   "cell_type": "markdown",
   "id": "8d44ac71-093e-4f6a-9ca2-39b1fa170281",
   "metadata": {},
   "source": [
    "### **D) Formatação dos Dados**"
   ]
  },
  {
   "cell_type": "markdown",
   "id": "9b4d87e8-3b0e-48ad-b8a6-52dabb0b2e1b",
   "metadata": {},
   "source": [
    "#### <span style=\"color:#DC143C\"> **D1. Migrar os dados para o Formato**"
   ]
  },
  {
   "cell_type": "code",
   "execution_count": 10,
   "id": "b703eead-99a7-457d-9566-b951ac2ed89e",
   "metadata": {},
   "outputs": [],
   "source": [
    "frente = ['Longitude', 'Latitude', 'Data', 'Valor30_1', 'Valor30_2']  # Cabeçalho\n",
    "df_result_direcao = pd.DataFrame(columns=frente)  # Criação de um dataframe vazio\n",
    "    \n",
    "Linha1    =  df_direcao.shape[0] \n",
    "Colunas1  =  df_direcao.shape[1] \n",
    "\n",
    "for lin2 in range(Linha1):  \n",
    "    refhora = 0\n",
    "    \n",
    "    for col in range (Colunas1):        \n",
    "        if col > 0:            \n",
    "        \n",
    "            if col % 2 != 0: # Se o número (col) for impar                   \n",
    "               \n",
    "                if col < 49:\n",
    "                    \n",
    "                    Data = df_direcao.loc[lin2,0]\n",
    "                                  \n",
    "                    hora = time(hour=refhora, minute=0, second=0)            \n",
    "                    dataCompleta = datetime.combine(Data, hora)\n",
    "                    #print(dataCompleta)\n",
    "                    lin_alvo = [df_direcao.loc[lin2,'longitude'], df_direcao.loc[lin2,'latitude'], dataCompleta , df_direcao.loc[lin2,col], df_direcao.loc[lin2,col+1]] \n",
    "                    # print(lin_alvo)\n",
    "                    df_result_direcao.loc[len(df_result_direcao)] = lin_alvo  # adding a row\n",
    "                         \n",
    "                refhora = refhora + 1          \n",
    "                \n"
   ]
  },
  {
   "cell_type": "markdown",
   "id": "047f786e-a658-4915-aa93-489a929be333",
   "metadata": {},
   "source": [
    "#### <span style=\"color:#DC143C\"> **D2. Informações sobre os Tipos de Dados**"
   ]
  },
  {
   "cell_type": "code",
   "execution_count": 12,
   "id": "bcc3e208-9f7c-4b31-8c06-8bfe7250cac5",
   "metadata": {},
   "outputs": [
    {
     "name": "stdout",
     "output_type": "stream",
     "text": [
      "<class 'pandas.core.frame.DataFrame'>\n",
      "Int64Index: 8760 entries, 0 to 8759\n",
      "Data columns (total 5 columns):\n",
      " #   Column     Non-Null Count  Dtype         \n",
      "---  ------     --------------  -----         \n",
      " 0   Longitude  8760 non-null   float64       \n",
      " 1   Latitude   8760 non-null   float64       \n",
      " 2   Data       8760 non-null   datetime64[ns]\n",
      " 3   Valor30_1  8760 non-null   float64       \n",
      " 4   Valor30_2  8760 non-null   float64       \n",
      "dtypes: datetime64[ns](1), float64(4)\n",
      "memory usage: 410.6 KB\n"
     ]
    }
   ],
   "source": [
    "df_result_direcao.info()"
   ]
  },
  {
   "cell_type": "code",
   "execution_count": 11,
   "id": "98d86317-e634-4c8c-825a-41a6f8b855f1",
   "metadata": {},
   "outputs": [
    {
     "data": {
      "text/plain": [
       "(8760, 5)"
      ]
     },
     "execution_count": 11,
     "metadata": {},
     "output_type": "execute_result"
    }
   ],
   "source": [
    "df_result_direcao.shape"
   ]
  },
  {
   "cell_type": "markdown",
   "id": "6b74deba-2804-4e8b-9261-5a6ea59dade3",
   "metadata": {},
   "source": [
    "save_file = 'd:\\df_result_direcao.csv'\n",
    "df_result_direcao.to_csv(save_file, index = True)"
   ]
  },
  {
   "cell_type": "markdown",
   "id": "9c2d8491-a491-4bcb-ad1b-ba98ce0f31cf",
   "metadata": {},
   "source": [
    "#### <span style=\"color:#DC143C\"> **D3. Remover ruido**"
   ]
  },
  {
   "cell_type": "code",
   "execution_count": 15,
   "id": "67ba21a9-cad8-4c6d-896b-5864b5850116",
   "metadata": {},
   "outputs": [],
   "source": [
    "df_result_direcao.loc[df_result_direcao['Valor30_1']== 999.00,'Valor30_1'] = 122.767\n",
    "\n",
    "df_result_direcao.loc[df_result_direcao['Valor30_2']== 999.000,'Valor30_2'] = 116.667\n"
   ]
  },
  {
   "cell_type": "markdown",
   "id": "54c12bdc-f682-42fe-b85c-e9d745e24484",
   "metadata": {},
   "source": [
    "#### <span style=\"color:#DC143C\"> **D3. Agregar Magnitude para 1H**"
   ]
  },
  {
   "cell_type": "code",
   "execution_count": 17,
   "id": "66128703-692b-465f-badc-c4ebeb67fc44",
   "metadata": {},
   "outputs": [],
   "source": [
    "df_result_direcao['Direcao_Verif'] = (df_result_direcao['Valor30_1'] + df_result_direcao['Valor30_2']) / 2"
   ]
  },
  {
   "cell_type": "markdown",
   "id": "c765af6d-f42c-4ee1-86c9-3e1676fab80c",
   "metadata": {},
   "source": [
    "#### <span style=\"color:#DC143C\"> **D5. Formata Colunas**"
   ]
  },
  {
   "cell_type": "code",
   "execution_count": 16,
   "id": "1046af49-9702-4e98-af8f-2409184b316e",
   "metadata": {},
   "outputs": [],
   "source": [
    "# Formatar o resultado com 2 casas decimais\n",
    "df_result_direcao['Direcao_Verif'] = df_result_direcao['Direcao_Verif'].round(decimals=2)"
   ]
  },
  {
   "cell_type": "code",
   "execution_count": 18,
   "id": "e0216b72-8e85-4473-b40d-0c0380e90f7f",
   "metadata": {},
   "outputs": [],
   "source": [
    "df_result_direcao = df_result_direcao.drop('Valor30_1', 1)\n",
    "df_result_direcao = df_result_direcao.drop('Valor30_2', 1)"
   ]
  },
  {
   "cell_type": "code",
   "execution_count": 20,
   "id": "12c383d8-474e-47ba-a7f8-9001475fbb52",
   "metadata": {},
   "outputs": [
    {
     "data": {
      "text/html": [
       "<div>\n",
       "<style scoped>\n",
       "    .dataframe tbody tr th:only-of-type {\n",
       "        vertical-align: middle;\n",
       "    }\n",
       "\n",
       "    .dataframe tbody tr th {\n",
       "        vertical-align: top;\n",
       "    }\n",
       "\n",
       "    .dataframe thead th {\n",
       "        text-align: right;\n",
       "    }\n",
       "</style>\n",
       "<table border=\"1\" class=\"dataframe\">\n",
       "  <thead>\n",
       "    <tr style=\"text-align: right;\">\n",
       "      <th></th>\n",
       "      <th>Longitude</th>\n",
       "      <th>Latitude</th>\n",
       "      <th>Data</th>\n",
       "      <th>Direcao_Verif</th>\n",
       "    </tr>\n",
       "  </thead>\n",
       "  <tbody>\n",
       "    <tr>\n",
       "      <th>0</th>\n",
       "      <td>-42.75</td>\n",
       "      <td>-14.25</td>\n",
       "      <td>2017-01-01 00:00:00</td>\n",
       "      <td>119.7170</td>\n",
       "    </tr>\n",
       "    <tr>\n",
       "      <th>1</th>\n",
       "      <td>-42.75</td>\n",
       "      <td>-14.25</td>\n",
       "      <td>2017-01-01 01:00:00</td>\n",
       "      <td>119.2000</td>\n",
       "    </tr>\n",
       "    <tr>\n",
       "      <th>2</th>\n",
       "      <td>-42.75</td>\n",
       "      <td>-14.25</td>\n",
       "      <td>2017-01-01 02:00:00</td>\n",
       "      <td>120.9835</td>\n",
       "    </tr>\n",
       "    <tr>\n",
       "      <th>3</th>\n",
       "      <td>-42.75</td>\n",
       "      <td>-14.25</td>\n",
       "      <td>2017-01-01 03:00:00</td>\n",
       "      <td>119.7170</td>\n",
       "    </tr>\n",
       "    <tr>\n",
       "      <th>4</th>\n",
       "      <td>-42.75</td>\n",
       "      <td>-14.25</td>\n",
       "      <td>2017-01-01 04:00:00</td>\n",
       "      <td>116.7170</td>\n",
       "    </tr>\n",
       "    <tr>\n",
       "      <th>5</th>\n",
       "      <td>-42.75</td>\n",
       "      <td>-14.25</td>\n",
       "      <td>2017-01-01 05:00:00</td>\n",
       "      <td>117.1500</td>\n",
       "    </tr>\n",
       "    <tr>\n",
       "      <th>6</th>\n",
       "      <td>-42.75</td>\n",
       "      <td>-14.25</td>\n",
       "      <td>2017-01-01 06:00:00</td>\n",
       "      <td>117.8665</td>\n",
       "    </tr>\n",
       "    <tr>\n",
       "      <th>7</th>\n",
       "      <td>-42.75</td>\n",
       "      <td>-14.25</td>\n",
       "      <td>2017-01-01 07:00:00</td>\n",
       "      <td>116.6830</td>\n",
       "    </tr>\n",
       "    <tr>\n",
       "      <th>8</th>\n",
       "      <td>-42.75</td>\n",
       "      <td>-14.25</td>\n",
       "      <td>2017-01-01 08:00:00</td>\n",
       "      <td>115.5165</td>\n",
       "    </tr>\n",
       "    <tr>\n",
       "      <th>9</th>\n",
       "      <td>-42.75</td>\n",
       "      <td>-14.25</td>\n",
       "      <td>2017-01-01 09:00:00</td>\n",
       "      <td>112.1500</td>\n",
       "    </tr>\n",
       "  </tbody>\n",
       "</table>\n",
       "</div>"
      ],
      "text/plain": [
       "   Longitude  Latitude                Data  Direcao_Verif\n",
       "0     -42.75    -14.25 2017-01-01 00:00:00       119.7170\n",
       "1     -42.75    -14.25 2017-01-01 01:00:00       119.2000\n",
       "2     -42.75    -14.25 2017-01-01 02:00:00       120.9835\n",
       "3     -42.75    -14.25 2017-01-01 03:00:00       119.7170\n",
       "4     -42.75    -14.25 2017-01-01 04:00:00       116.7170\n",
       "5     -42.75    -14.25 2017-01-01 05:00:00       117.1500\n",
       "6     -42.75    -14.25 2017-01-01 06:00:00       117.8665\n",
       "7     -42.75    -14.25 2017-01-01 07:00:00       116.6830\n",
       "8     -42.75    -14.25 2017-01-01 08:00:00       115.5165\n",
       "9     -42.75    -14.25 2017-01-01 09:00:00       112.1500"
      ]
     },
     "execution_count": 20,
     "metadata": {},
     "output_type": "execute_result"
    }
   ],
   "source": [
    "df_result_direcao.head(10)"
   ]
  },
  {
   "cell_type": "markdown",
   "id": "7462dcdc-daa0-4cad-a944-a264ce575254",
   "metadata": {},
   "source": [
    "### **E. Exporta Resultados**"
   ]
  },
  {
   "cell_type": "code",
   "execution_count": 22,
   "id": "ef87a932-b74b-48fe-b151-a8ec29013fef",
   "metadata": {},
   "outputs": [],
   "source": [
    "output_file = '../../Data/process/teste_02_patio_direcao.csv'\n",
    "df_result_direcao.to_csv(output_file, sep=';', encoding='utf-8')"
   ]
  },
  {
   "cell_type": "code",
   "execution_count": null,
   "id": "7895d542-8e68-404b-9e10-f66748af4f1b",
   "metadata": {},
   "outputs": [],
   "source": []
  }
 ],
 "metadata": {
  "kernelspec": {
   "display_name": "Python 3",
   "language": "python",
   "name": "python3"
  },
  "language_info": {
   "codemirror_mode": {
    "name": "ipython",
    "version": 3
   },
   "file_extension": ".py",
   "mimetype": "text/x-python",
   "name": "python",
   "nbconvert_exporter": "python",
   "pygments_lexer": "ipython3",
   "version": "3.7.10"
  }
 },
 "nbformat": 4,
 "nbformat_minor": 5
}
