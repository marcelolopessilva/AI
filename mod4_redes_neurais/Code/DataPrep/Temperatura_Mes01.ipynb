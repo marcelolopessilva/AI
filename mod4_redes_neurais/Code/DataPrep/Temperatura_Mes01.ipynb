{
 "cells": [
  {
   "cell_type": "code",
   "execution_count": 1,
   "id": "eb7d0d19-ccda-4e67-b305-088b8bbf3c85",
   "metadata": {},
   "outputs": [],
   "source": [
    "import numpy as np\n",
    "import pandas as pd\n",
    "from datetime import datetime,date"
   ]
  },
  {
   "cell_type": "markdown",
   "id": "d4de6591-f4da-4527-8263-f74933fa9424",
   "metadata": {},
   "source": [
    "### **A) Coleta dos Dados de Temperatura**"
   ]
  },
  {
   "cell_type": "code",
   "execution_count": 2,
   "id": "ce4ae9a9-fde5-4f5f-8cd6-1dfbbaa3f0c5",
   "metadata": {},
   "outputs": [],
   "source": [
    "source_file = '../../Data/raw/t2m/teste.txt'\n",
    "# source_file = '../../Data/raw/t2m/t2mNE_2017_01.txt'\n",
    "output_file = '../../Data/process/result_t2mNE_2017_01.txt'"
   ]
  },
  {
   "cell_type": "code",
   "execution_count": 3,
   "id": "f3ba86b3-1f9e-4435-8ddc-c3fb18fb3940",
   "metadata": {},
   "outputs": [],
   "source": [
    "# DADOS OBSERVADOS\n",
    "df_temperatura = pd.read_csv(source_file, delimiter = r\"\\s+\", header=None)"
   ]
  },
  {
   "cell_type": "markdown",
   "id": "7e7cf551-72c8-477b-8984-53dd2ca27235",
   "metadata": {},
   "source": [
    "#### <span style=\"color:#DC143C\">**A1.Formato dos Dados**"
   ]
  },
  {
   "cell_type": "code",
   "execution_count": 4,
   "id": "05e5dc6d-2f12-4267-8f14-bd7028017935",
   "metadata": {},
   "outputs": [
    {
     "data": {
      "text/plain": [
       "(3, 746)"
      ]
     },
     "execution_count": 4,
     "metadata": {},
     "output_type": "execute_result"
    }
   ],
   "source": [
    "df_temperatura.shape # formato da matriz"
   ]
  },
  {
   "cell_type": "markdown",
   "id": "9d24ab44-4f41-4132-84db-1977047f5cad",
   "metadata": {},
   "source": [
    "#### <span style=\"color:#DC143C\">**A2.Visao do Dataframe**"
   ]
  },
  {
   "cell_type": "code",
   "execution_count": 15,
   "id": "264c2fda-4d8e-4114-8641-6fb08f2df705",
   "metadata": {},
   "outputs": [
    {
     "data": {
      "text/html": [
       "<div>\n",
       "<style scoped>\n",
       "    .dataframe tbody tr th:only-of-type {\n",
       "        vertical-align: middle;\n",
       "    }\n",
       "\n",
       "    .dataframe tbody tr th {\n",
       "        vertical-align: top;\n",
       "    }\n",
       "\n",
       "    .dataframe thead th {\n",
       "        text-align: right;\n",
       "    }\n",
       "</style>\n",
       "<table border=\"1\" class=\"dataframe\">\n",
       "  <thead>\n",
       "    <tr style=\"text-align: right;\">\n",
       "      <th></th>\n",
       "      <th>0</th>\n",
       "      <th>1</th>\n",
       "      <th>2</th>\n",
       "      <th>3</th>\n",
       "      <th>4</th>\n",
       "      <th>5</th>\n",
       "      <th>6</th>\n",
       "      <th>7</th>\n",
       "      <th>8</th>\n",
       "      <th>9</th>\n",
       "      <th>...</th>\n",
       "      <th>736</th>\n",
       "      <th>737</th>\n",
       "      <th>738</th>\n",
       "      <th>739</th>\n",
       "      <th>740</th>\n",
       "      <th>741</th>\n",
       "      <th>742</th>\n",
       "      <th>743</th>\n",
       "      <th>744</th>\n",
       "      <th>745</th>\n",
       "    </tr>\n",
       "  </thead>\n",
       "  <tbody>\n",
       "    <tr>\n",
       "      <th>0</th>\n",
       "      <td>-46.00</td>\n",
       "      <td>-1.25</td>\n",
       "      <td>27.18</td>\n",
       "      <td>27.23</td>\n",
       "      <td>27.21</td>\n",
       "      <td>26.19</td>\n",
       "      <td>26.17</td>\n",
       "      <td>25.81</td>\n",
       "      <td>25.72</td>\n",
       "      <td>25.51</td>\n",
       "      <td>...</td>\n",
       "      <td>27.27</td>\n",
       "      <td>26.65</td>\n",
       "      <td>26.45</td>\n",
       "      <td>26.34</td>\n",
       "      <td>26.14</td>\n",
       "      <td>25.95</td>\n",
       "      <td>26.13</td>\n",
       "      <td>25.41</td>\n",
       "      <td>25.26</td>\n",
       "      <td>25.38</td>\n",
       "    </tr>\n",
       "    <tr>\n",
       "      <th>1</th>\n",
       "      <td>-45.75</td>\n",
       "      <td>-1.25</td>\n",
       "      <td>27.54</td>\n",
       "      <td>27.64</td>\n",
       "      <td>27.73</td>\n",
       "      <td>27.00</td>\n",
       "      <td>27.04</td>\n",
       "      <td>26.89</td>\n",
       "      <td>26.90</td>\n",
       "      <td>26.72</td>\n",
       "      <td>...</td>\n",
       "      <td>26.74</td>\n",
       "      <td>26.52</td>\n",
       "      <td>25.85</td>\n",
       "      <td>26.13</td>\n",
       "      <td>25.57</td>\n",
       "      <td>25.82</td>\n",
       "      <td>25.88</td>\n",
       "      <td>25.59</td>\n",
       "      <td>25.47</td>\n",
       "      <td>25.68</td>\n",
       "    </tr>\n",
       "  </tbody>\n",
       "</table>\n",
       "<p>2 rows × 746 columns</p>\n",
       "</div>"
      ],
      "text/plain": [
       "     0     1      2      3      4      5      6      7      8      9    ...  \\\n",
       "0 -46.00 -1.25  27.18  27.23  27.21  26.19  26.17  25.81  25.72  25.51  ...   \n",
       "1 -45.75 -1.25  27.54  27.64  27.73  27.00  27.04  26.89  26.90  26.72  ...   \n",
       "\n",
       "     736    737    738    739    740    741    742    743    744    745  \n",
       "0  27.27  26.65  26.45  26.34  26.14  25.95  26.13  25.41  25.26  25.38  \n",
       "1  26.74  26.52  25.85  26.13  25.57  25.82  25.88  25.59  25.47  25.68  \n",
       "\n",
       "[2 rows x 746 columns]"
      ]
     },
     "execution_count": 15,
     "metadata": {},
     "output_type": "execute_result"
    }
   ],
   "source": [
    "df_temperatura.head(2)  # visão de 5 linhas"
   ]
  },
  {
   "cell_type": "markdown",
   "id": "b087d67d-1f53-42ea-980c-ab126f9a15c1",
   "metadata": {},
   "source": [
    "#### <span style=\"color:#DC143C\">**A3. Nome das Colunas do Cabeçalho**"
   ]
  },
  {
   "cell_type": "code",
   "execution_count": null,
   "id": "6e389d77-03fb-4563-8ebc-013e26135ae8",
   "metadata": {},
   "outputs": [],
   "source": [
    "# Lista o nome das Colunas\n",
    "df_temperatura.columns "
   ]
  },
  {
   "cell_type": "markdown",
   "id": "670b9a20-afd0-479c-837a-d9695e24184d",
   "metadata": {},
   "source": [
    "#### <span style=\"color:#DC143C\">**A4. Conteúdo de 1 Linha**"
   ]
  },
  {
   "cell_type": "code",
   "execution_count": null,
   "id": "52f0dd86-e2d6-4cdd-9617-62fdcd89f03f",
   "metadata": {},
   "outputs": [],
   "source": [
    "df_temperatura.values[0:1]"
   ]
  },
  {
   "cell_type": "markdown",
   "id": "2e7f15a1-c757-4534-9dad-38f273a11eb1",
   "metadata": {},
   "source": [
    "#### <span style=\"color:#DC143C\">**A5. Informações Sobre o Dataframe**"
   ]
  },
  {
   "cell_type": "code",
   "execution_count": null,
   "id": "ab5785db-5827-44fd-964a-fdf9a253d610",
   "metadata": {},
   "outputs": [],
   "source": [
    "df_temperatura.info()"
   ]
  },
  {
   "cell_type": "code",
   "execution_count": null,
   "id": "f257e318-e632-4fdc-9ea9-508b30c10d14",
   "metadata": {},
   "outputs": [],
   "source": [
    "# Descreve apenas colunas \"Numericas\"\n",
    "df_temperatura.describe(include=[np.number])"
   ]
  },
  {
   "cell_type": "markdown",
   "id": "7462dcdc-daa0-4cad-a944-a264ce575254",
   "metadata": {},
   "source": [
    "#### <span style=\"color:#DC143C\">**A6. Quantidade de valores não nulos**"
   ]
  },
  {
   "cell_type": "code",
   "execution_count": null,
   "id": "ef87a932-b74b-48fe-b151-a8ec29013fef",
   "metadata": {},
   "outputs": [],
   "source": [
    "df_temperatura.count()"
   ]
  },
  {
   "cell_type": "markdown",
   "id": "16805d59-b316-4e69-a0c5-7a18ed97b6a4",
   "metadata": {},
   "source": [
    "#### <span style=\"color:#DC143C\">**A7. Quantidade de valores NULOS**"
   ]
  },
  {
   "cell_type": "code",
   "execution_count": null,
   "id": "8cf14de2-0e35-4194-8d40-010a26193ee4",
   "metadata": {},
   "outputs": [],
   "source": [
    "df_temperatura.isnull().sum()"
   ]
  },
  {
   "cell_type": "markdown",
   "id": "47dd1c64-1bee-4daa-8e52-33649c35f3f9",
   "metadata": {},
   "source": [
    "### **B) Descrição dos Atributos**"
   ]
  },
  {
   "cell_type": "markdown",
   "id": "8fe4a53a-23d7-4d0d-938a-c61bd1e3704f",
   "metadata": {},
   "source": [
    "<p><b>Cada linha contem um ponto de latitude e longitude localizado no meio de uma quadricula de 5km de cada lado da<br>\n",
    "    Região Nordeste do Brasil, e em seguinda dos valores horário de cada dia do mês 01 (referência).\n",
    "<br>\n",
    "<br>Coluna 0: Longitude em Graus\n",
    "<br>Coluna 1: Latitude em Graus\n",
    "<br>Coluna 2: Valor da Temperatura em Graus Celsius ºC\n",
    "<br>Coluna 3..746: Valor da Temperatura em Graus Celsius ºC\n",
    "</b></p>\n",
    "\n"
   ]
  },
  {
   "cell_type": "code",
   "execution_count": 24,
   "id": "1b5d8aab-0265-4245-89a5-bde19f531a90",
   "metadata": {},
   "outputs": [
    {
     "name": "stdout",
     "output_type": "stream",
     "text": [
      "Total de Dias por Linha: 31.0\n"
     ]
    }
   ],
   "source": [
    "# [Total de Registro - (Latitude e Longitude)] / 1 (valor) / 24 ocorrencias h\n",
    "print('Total de Dias por Linha: ' + str((df_temperatura.shape[1]-2)/24))"
   ]
  },
  {
   "cell_type": "code",
   "execution_count": null,
   "id": "1d4bc1b2-9a73-4d6a-9867-ef2f97cd9cc2",
   "metadata": {},
   "outputs": [],
   "source": [
    "#### <span style=\"color:#DC143C\">**B1. Finding all the categorical and continuous values**"
   ]
  },
  {
   "cell_type": "code",
   "execution_count": null,
   "id": "80b41678-14c9-4ece-bbca-3d0f7306033b",
   "metadata": {},
   "outputs": [],
   "source": [
    "categorical_col, contin_val=[],[]\n",
    "\n",
    "for i in rain.columns:  # i = nome das colunas\n",
    "   # print(i)\n",
    "    if rain[i].dtype == 'object':\n",
    "        categorical_col.append(i)\n",
    "    else:\n",
    "        contin_val.append(i)\n",
    "        \n",
    "print(categorical_col)\n",
    "print('')\n",
    "print(contin_val)"
   ]
  },
  {
   "cell_type": "markdown",
   "id": "c87add9b-9d82-41d5-8c44-af98330c4888",
   "metadata": {},
   "source": [
    "### **C) Alterar Formato do Shape**"
   ]
  },
  {
   "cell_type": "code",
   "execution_count": 19,
   "id": "5939fc27-4b7c-48c4-a423-f5fa4c4114f8",
   "metadata": {},
   "outputs": [],
   "source": [
    "Linha    =  df_temperatura.shape[0]  # Total de Linhas\n",
    "Colunas  =  df_temperatura.shape[1]  # Total de Colunas\n",
    "\n",
    "frente = ['Longitude', 'Latitude', 'Valor', 'Data']  # Cabeçalho\n",
    "df_result_temperatura = pd.DataFrame(columns=frente)  # Criação de um dataframe vazio\n"
   ]
  },
  {
   "cell_type": "markdown",
   "id": "ad785ca5-0c23-4b4c-8714-c3e26a7f2d61",
   "metadata": {},
   "source": [
    "#### <span style=\"color:#DC143C\">**C1. Inicio da execução**"
   ]
  },
  {
   "cell_type": "code",
   "execution_count": 20,
   "id": "a8688424-12d7-4402-9715-41440e49c451",
   "metadata": {},
   "outputs": [
    {
     "data": {
      "text/plain": [
       "'2021-06-20 08:42:58'"
      ]
     },
     "execution_count": 20,
     "metadata": {},
     "output_type": "execute_result"
    }
   ],
   "source": [
    "datetime.now().strftime('%Y-%m-%d %H:%M:%S')"
   ]
  },
  {
   "cell_type": "markdown",
   "id": "5e94d3ad-70f9-4a9d-bd03-7e381148b4f6",
   "metadata": {},
   "source": [
    "#### <span style=\"color:#DC143C\">**C2. Lógica da Execução**"
   ]
  },
  {
   "cell_type": "code",
   "execution_count": null,
   "id": "32cb4939-d5f4-4f6c-9c57-c5210f7cd8dc",
   "metadata": {},
   "outputs": [],
   "source": [
    "refdia = 1\n",
    "    \n",
    "# Função para transformar .... \n",
    "for lin in range(Linha):\n",
    "    print('linha: ' + str(lin))\n",
    "    \n",
    "    refhora = 0\n",
    "    \n",
    "    for col in range (Colunas):        \n",
    "        if col > 1:    # Removo log e Lat da varredura\n",
    "            # print(col)\n",
    "            # print('Day: '  + str(refdia))    \n",
    "            # print('Hora: ' + str(refhora))   \n",
    "                \n",
    "            data_p = datetime(year=2017, month=1, day = refdia, hour = refhora, minute=0, second=0) \n",
    "            # print(data)\n",
    "                \n",
    "            variavel = [df_temperatura.loc[lin,0], df_temperatura.loc[lin,1] , df_temperatura.loc[lin,col] , data_p] \n",
    "                \n",
    "            df_result_temperatura.loc[-1] = variavel  # adding a row\n",
    "            df_result_temperatura.index = df_result_temperatura.index + 1\n",
    "                \n",
    "            refhora = refhora + 1\n",
    "            if refhora == 24:                    \n",
    "                refdia = refdia + 1\n",
    "                refhora = 0\n",
    "                \n",
    "    refdia = 1\n",
    "    refhora = 0\n",
    "    \n",
    "df_result_temperatura.reset_index(inplace=True, drop=False)  #Reseto o indice"
   ]
  },
  {
   "cell_type": "markdown",
   "id": "76eb16fe-ffde-4b5f-8810-327f4a796957",
   "metadata": {},
   "source": [
    "#### <span style=\"color:#DC143C\">**C3. Fim da execução**"
   ]
  },
  {
   "cell_type": "code",
   "execution_count": null,
   "id": "af1f73b9-cbb5-4fd3-b69e-28d565adacce",
   "metadata": {},
   "outputs": [],
   "source": [
    "datetime.now().strftime('%Y-%m-%d %H:%M:%S') "
   ]
  },
  {
   "cell_type": "markdown",
   "id": "0196292f-3283-4723-ba9b-0eb6170e5135",
   "metadata": {},
   "source": [
    "### **D. Exporta Resultados**"
   ]
  },
  {
   "cell_type": "code",
   "execution_count": null,
   "id": "0eed2be4-9f26-41e8-bfa5-aef3da0b84f7",
   "metadata": {},
   "outputs": [],
   "source": [
    "# df_ajustepressao.head()"
   ]
  },
  {
   "cell_type": "code",
   "execution_count": null,
   "id": "ae0fcb10-eb63-4730-abc0-ac8bdd1ea303",
   "metadata": {},
   "outputs": [],
   "source": [
    "df_result_temperatura.drop('index',axis='columns', inplace=True)"
   ]
  },
  {
   "cell_type": "code",
   "execution_count": null,
   "id": "3e7d0d30-082a-464e-8fd7-57ddcf2bc8ed",
   "metadata": {},
   "outputs": [],
   "source": [
    "df_result_temperatura.to_csv(output_file, sep=';', header=False, index = False, encoding='utf-8')"
   ]
  },
  {
   "cell_type": "code",
   "execution_count": null,
   "id": "290913b3-a5f3-445b-9e87-8b63c2a7c5b5",
   "metadata": {},
   "outputs": [],
   "source": []
  }
 ],
 "metadata": {
  "kernelspec": {
   "display_name": "Python 3",
   "language": "python",
   "name": "python3"
  },
  "language_info": {
   "codemirror_mode": {
    "name": "ipython",
    "version": 3
   },
   "file_extension": ".py",
   "mimetype": "text/x-python",
   "name": "python",
   "nbconvert_exporter": "python",
   "pygments_lexer": "ipython3",
   "version": "3.7.10"
  }
 },
 "nbformat": 4,
 "nbformat_minor": 5
}
