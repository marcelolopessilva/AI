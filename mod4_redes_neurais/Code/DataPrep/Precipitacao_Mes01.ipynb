{
 "cells": [
  {
   "cell_type": "code",
   "execution_count": 54,
   "id": "eb7d0d19-ccda-4e67-b305-088b8bbf3c85",
   "metadata": {},
   "outputs": [],
   "source": [
    "import numpy as np\n",
    "import pandas as pd\n",
    "from datetime import datetime,date\n",
    "\n",
    "import missingno as msno\n",
    "\n",
    "# import warnings\n",
    "# warnings.filterwarnings(\"ignore\")"
   ]
  },
  {
   "cell_type": "markdown",
   "id": "d4de6591-f4da-4527-8263-f74933fa9424",
   "metadata": {},
   "source": [
    "### **A) Coleta dos Dados de Precipitação (chuva)**"
   ]
  },
  {
   "cell_type": "code",
   "execution_count": 1,
   "id": "ce4ae9a9-fde5-4f5f-8cd6-1dfbbaa3f0c5",
   "metadata": {},
   "outputs": [],
   "source": [
    "# source_file = '../../Data/raw/t2m/teste.txt'\n",
    "source_file = '../../Data/raw/prec/precNE_2017_01.txt'\n",
    "output_file = '../../Data/process/result_precNE_2017_01.txt'"
   ]
  },
  {
   "cell_type": "code",
   "execution_count": 31,
   "id": "f3ba86b3-1f9e-4435-8ddc-c3fb18fb3940",
   "metadata": {},
   "outputs": [],
   "source": [
    "# DADOS OBSERVADOS\n",
    "df_temperatura = pd.read_csv(source_file, delimiter = r\"\\s+\", header=None)"
   ]
  },
  {
   "cell_type": "markdown",
   "id": "7e7cf551-72c8-477b-8984-53dd2ca27235",
   "metadata": {},
   "source": [
    "#### <span style=\"color:#DC143C\">**A1.Formato dos Dados**"
   ]
  },
  {
   "cell_type": "code",
   "execution_count": 32,
   "id": "05e5dc6d-2f12-4267-8f14-bd7028017935",
   "metadata": {},
   "outputs": [
    {
     "data": {
      "text/plain": [
       "(2047, 746)"
      ]
     },
     "execution_count": 32,
     "metadata": {},
     "output_type": "execute_result"
    }
   ],
   "source": [
    "df_temperatura.shape # formato da matriz"
   ]
  },
  {
   "cell_type": "markdown",
   "id": "9d24ab44-4f41-4132-84db-1977047f5cad",
   "metadata": {},
   "source": [
    "#### <span style=\"color:#DC143C\">**A2.Visao do Dataframe**"
   ]
  },
  {
   "cell_type": "code",
   "execution_count": 33,
   "id": "264c2fda-4d8e-4114-8641-6fb08f2df705",
   "metadata": {},
   "outputs": [
    {
     "data": {
      "text/html": [
       "<div>\n",
       "<style scoped>\n",
       "    .dataframe tbody tr th:only-of-type {\n",
       "        vertical-align: middle;\n",
       "    }\n",
       "\n",
       "    .dataframe tbody tr th {\n",
       "        vertical-align: top;\n",
       "    }\n",
       "\n",
       "    .dataframe thead th {\n",
       "        text-align: right;\n",
       "    }\n",
       "</style>\n",
       "<table border=\"1\" class=\"dataframe\">\n",
       "  <thead>\n",
       "    <tr style=\"text-align: right;\">\n",
       "      <th></th>\n",
       "      <th>0</th>\n",
       "      <th>1</th>\n",
       "      <th>2</th>\n",
       "      <th>3</th>\n",
       "      <th>4</th>\n",
       "      <th>5</th>\n",
       "      <th>6</th>\n",
       "      <th>7</th>\n",
       "      <th>8</th>\n",
       "      <th>9</th>\n",
       "      <th>...</th>\n",
       "      <th>736</th>\n",
       "      <th>737</th>\n",
       "      <th>738</th>\n",
       "      <th>739</th>\n",
       "      <th>740</th>\n",
       "      <th>741</th>\n",
       "      <th>742</th>\n",
       "      <th>743</th>\n",
       "      <th>744</th>\n",
       "      <th>745</th>\n",
       "    </tr>\n",
       "  </thead>\n",
       "  <tbody>\n",
       "    <tr>\n",
       "      <th>0</th>\n",
       "      <td>-46.00</td>\n",
       "      <td>-1.25</td>\n",
       "      <td>27.18</td>\n",
       "      <td>27.23</td>\n",
       "      <td>27.21</td>\n",
       "      <td>26.19</td>\n",
       "      <td>26.17</td>\n",
       "      <td>25.81</td>\n",
       "      <td>25.72</td>\n",
       "      <td>25.51</td>\n",
       "      <td>...</td>\n",
       "      <td>27.27</td>\n",
       "      <td>26.65</td>\n",
       "      <td>26.45</td>\n",
       "      <td>26.34</td>\n",
       "      <td>26.14</td>\n",
       "      <td>25.95</td>\n",
       "      <td>26.13</td>\n",
       "      <td>25.41</td>\n",
       "      <td>25.26</td>\n",
       "      <td>25.38</td>\n",
       "    </tr>\n",
       "    <tr>\n",
       "      <th>1</th>\n",
       "      <td>-45.75</td>\n",
       "      <td>-1.25</td>\n",
       "      <td>27.54</td>\n",
       "      <td>27.64</td>\n",
       "      <td>27.73</td>\n",
       "      <td>27.00</td>\n",
       "      <td>27.04</td>\n",
       "      <td>26.89</td>\n",
       "      <td>26.90</td>\n",
       "      <td>26.72</td>\n",
       "      <td>...</td>\n",
       "      <td>26.74</td>\n",
       "      <td>26.52</td>\n",
       "      <td>25.85</td>\n",
       "      <td>26.13</td>\n",
       "      <td>25.57</td>\n",
       "      <td>25.82</td>\n",
       "      <td>25.88</td>\n",
       "      <td>25.59</td>\n",
       "      <td>25.47</td>\n",
       "      <td>25.68</td>\n",
       "    </tr>\n",
       "  </tbody>\n",
       "</table>\n",
       "<p>2 rows × 746 columns</p>\n",
       "</div>"
      ],
      "text/plain": [
       "     0     1      2      3      4      5      6      7      8      9    ...  \\\n",
       "0 -46.00 -1.25  27.18  27.23  27.21  26.19  26.17  25.81  25.72  25.51  ...   \n",
       "1 -45.75 -1.25  27.54  27.64  27.73  27.00  27.04  26.89  26.90  26.72  ...   \n",
       "\n",
       "     736    737    738    739    740    741    742    743    744    745  \n",
       "0  27.27  26.65  26.45  26.34  26.14  25.95  26.13  25.41  25.26  25.38  \n",
       "1  26.74  26.52  25.85  26.13  25.57  25.82  25.88  25.59  25.47  25.68  \n",
       "\n",
       "[2 rows x 746 columns]"
      ]
     },
     "execution_count": 33,
     "metadata": {},
     "output_type": "execute_result"
    }
   ],
   "source": [
    "df_temperatura.head(2)  # visão de 5 linhas"
   ]
  },
  {
   "cell_type": "markdown",
   "id": "b087d67d-1f53-42ea-980c-ab126f9a15c1",
   "metadata": {},
   "source": [
    "#### <span style=\"color:#DC143C\">**A3. Nome das Colunas do Cabeçalho**"
   ]
  },
  {
   "cell_type": "code",
   "execution_count": 34,
   "id": "6e389d77-03fb-4563-8ebc-013e26135ae8",
   "metadata": {},
   "outputs": [
    {
     "data": {
      "text/plain": [
       "Int64Index([  0,   1,   2,   3,   4,   5,   6,   7,   8,   9,\n",
       "            ...\n",
       "            736, 737, 738, 739, 740, 741, 742, 743, 744, 745],\n",
       "           dtype='int64', length=746)"
      ]
     },
     "execution_count": 34,
     "metadata": {},
     "output_type": "execute_result"
    }
   ],
   "source": [
    "# Lista o nome das Colunas\n",
    "df_temperatura.columns "
   ]
  },
  {
   "cell_type": "markdown",
   "id": "670b9a20-afd0-479c-837a-d9695e24184d",
   "metadata": {},
   "source": [
    "#### <span style=\"color:#DC143C\">**A4. Conteúdo de 1 Linha**"
   ]
  },
  {
   "cell_type": "code",
   "execution_count": null,
   "id": "52f0dd86-e2d6-4cdd-9617-62fdcd89f03f",
   "metadata": {},
   "outputs": [],
   "source": [
    "df_temperatura.values[0:1]"
   ]
  },
  {
   "cell_type": "markdown",
   "id": "2e7f15a1-c757-4534-9dad-38f273a11eb1",
   "metadata": {},
   "source": [
    "#### <span style=\"color:#DC143C\">**A5. Informações Sobre o Dataframe**"
   ]
  },
  {
   "cell_type": "code",
   "execution_count": 36,
   "id": "ab5785db-5827-44fd-964a-fdf9a253d610",
   "metadata": {},
   "outputs": [
    {
     "name": "stdout",
     "output_type": "stream",
     "text": [
      "<class 'pandas.core.frame.DataFrame'>\n",
      "RangeIndex: 2047 entries, 0 to 2046\n",
      "Columns: 746 entries, 0 to 745\n",
      "dtypes: float64(746)\n",
      "memory usage: 11.7 MB\n"
     ]
    }
   ],
   "source": [
    "df_temperatura.info()"
   ]
  },
  {
   "cell_type": "code",
   "execution_count": 37,
   "id": "f257e318-e632-4fdc-9ea9-508b30c10d14",
   "metadata": {},
   "outputs": [
    {
     "data": {
      "text/html": [
       "<div>\n",
       "<style scoped>\n",
       "    .dataframe tbody tr th:only-of-type {\n",
       "        vertical-align: middle;\n",
       "    }\n",
       "\n",
       "    .dataframe tbody tr th {\n",
       "        vertical-align: top;\n",
       "    }\n",
       "\n",
       "    .dataframe thead th {\n",
       "        text-align: right;\n",
       "    }\n",
       "</style>\n",
       "<table border=\"1\" class=\"dataframe\">\n",
       "  <thead>\n",
       "    <tr style=\"text-align: right;\">\n",
       "      <th></th>\n",
       "      <th>0</th>\n",
       "      <th>1</th>\n",
       "      <th>2</th>\n",
       "      <th>3</th>\n",
       "      <th>4</th>\n",
       "      <th>5</th>\n",
       "      <th>6</th>\n",
       "      <th>7</th>\n",
       "      <th>8</th>\n",
       "      <th>9</th>\n",
       "      <th>...</th>\n",
       "      <th>736</th>\n",
       "      <th>737</th>\n",
       "      <th>738</th>\n",
       "      <th>739</th>\n",
       "      <th>740</th>\n",
       "      <th>741</th>\n",
       "      <th>742</th>\n",
       "      <th>743</th>\n",
       "      <th>744</th>\n",
       "      <th>745</th>\n",
       "    </tr>\n",
       "  </thead>\n",
       "  <tbody>\n",
       "    <tr>\n",
       "      <th>count</th>\n",
       "      <td>2047.000000</td>\n",
       "      <td>2047.000000</td>\n",
       "      <td>2047.00000</td>\n",
       "      <td>2047.000000</td>\n",
       "      <td>2047.000000</td>\n",
       "      <td>2047.000000</td>\n",
       "      <td>2047.000000</td>\n",
       "      <td>2047.000000</td>\n",
       "      <td>2047.000000</td>\n",
       "      <td>2047.000000</td>\n",
       "      <td>...</td>\n",
       "      <td>2047.000000</td>\n",
       "      <td>2047.000000</td>\n",
       "      <td>2047.000000</td>\n",
       "      <td>2047.000000</td>\n",
       "      <td>2047.00000</td>\n",
       "      <td>2047.000000</td>\n",
       "      <td>2047.000000</td>\n",
       "      <td>2047.000000</td>\n",
       "      <td>2047.000000</td>\n",
       "      <td>2047.000000</td>\n",
       "    </tr>\n",
       "    <tr>\n",
       "      <th>mean</th>\n",
       "      <td>-41.728261</td>\n",
       "      <td>-8.631900</td>\n",
       "      <td>27.32172</td>\n",
       "      <td>27.093713</td>\n",
       "      <td>26.603004</td>\n",
       "      <td>24.934294</td>\n",
       "      <td>24.537811</td>\n",
       "      <td>24.247044</td>\n",
       "      <td>23.833376</td>\n",
       "      <td>23.563366</td>\n",
       "      <td>...</td>\n",
       "      <td>27.771285</td>\n",
       "      <td>31.541231</td>\n",
       "      <td>31.742418</td>\n",
       "      <td>31.810616</td>\n",
       "      <td>31.60639</td>\n",
       "      <td>31.402633</td>\n",
       "      <td>31.226634</td>\n",
       "      <td>29.850537</td>\n",
       "      <td>27.158671</td>\n",
       "      <td>26.910689</td>\n",
       "    </tr>\n",
       "    <tr>\n",
       "      <th>std</th>\n",
       "      <td>3.087448</td>\n",
       "      <td>3.606967</td>\n",
       "      <td>2.66034</td>\n",
       "      <td>2.777473</td>\n",
       "      <td>2.751419</td>\n",
       "      <td>2.725959</td>\n",
       "      <td>2.629831</td>\n",
       "      <td>2.797433</td>\n",
       "      <td>2.678827</td>\n",
       "      <td>2.652277</td>\n",
       "      <td>...</td>\n",
       "      <td>1.584258</td>\n",
       "      <td>2.281480</td>\n",
       "      <td>2.495736</td>\n",
       "      <td>2.527772</td>\n",
       "      <td>2.77285</td>\n",
       "      <td>2.838418</td>\n",
       "      <td>2.848802</td>\n",
       "      <td>2.755342</td>\n",
       "      <td>2.039351</td>\n",
       "      <td>2.029772</td>\n",
       "    </tr>\n",
       "    <tr>\n",
       "      <th>min</th>\n",
       "      <td>-48.250000</td>\n",
       "      <td>-18.250000</td>\n",
       "      <td>20.61000</td>\n",
       "      <td>19.890000</td>\n",
       "      <td>19.390000</td>\n",
       "      <td>17.670000</td>\n",
       "      <td>16.820000</td>\n",
       "      <td>15.790000</td>\n",
       "      <td>15.670000</td>\n",
       "      <td>15.340000</td>\n",
       "      <td>...</td>\n",
       "      <td>21.820000</td>\n",
       "      <td>25.660000</td>\n",
       "      <td>25.560000</td>\n",
       "      <td>25.680000</td>\n",
       "      <td>23.62000</td>\n",
       "      <td>22.630000</td>\n",
       "      <td>23.210000</td>\n",
       "      <td>24.320000</td>\n",
       "      <td>22.470000</td>\n",
       "      <td>22.360000</td>\n",
       "    </tr>\n",
       "    <tr>\n",
       "      <th>25%</th>\n",
       "      <td>-44.250000</td>\n",
       "      <td>-11.250000</td>\n",
       "      <td>25.43500</td>\n",
       "      <td>25.085000</td>\n",
       "      <td>24.625000</td>\n",
       "      <td>23.050000</td>\n",
       "      <td>22.710000</td>\n",
       "      <td>22.315000</td>\n",
       "      <td>22.120000</td>\n",
       "      <td>21.935000</td>\n",
       "      <td>...</td>\n",
       "      <td>26.825000</td>\n",
       "      <td>29.720000</td>\n",
       "      <td>29.790000</td>\n",
       "      <td>29.900000</td>\n",
       "      <td>29.41000</td>\n",
       "      <td>29.055000</td>\n",
       "      <td>28.845000</td>\n",
       "      <td>27.585000</td>\n",
       "      <td>25.640000</td>\n",
       "      <td>25.425000</td>\n",
       "    </tr>\n",
       "    <tr>\n",
       "      <th>50%</th>\n",
       "      <td>-41.750000</td>\n",
       "      <td>-8.250000</td>\n",
       "      <td>27.35000</td>\n",
       "      <td>27.240000</td>\n",
       "      <td>26.800000</td>\n",
       "      <td>25.040000</td>\n",
       "      <td>24.830000</td>\n",
       "      <td>24.700000</td>\n",
       "      <td>24.340000</td>\n",
       "      <td>24.120000</td>\n",
       "      <td>...</td>\n",
       "      <td>27.720000</td>\n",
       "      <td>31.390000</td>\n",
       "      <td>31.710000</td>\n",
       "      <td>31.730000</td>\n",
       "      <td>31.43000</td>\n",
       "      <td>31.220000</td>\n",
       "      <td>31.100000</td>\n",
       "      <td>29.430000</td>\n",
       "      <td>26.670000</td>\n",
       "      <td>26.410000</td>\n",
       "    </tr>\n",
       "    <tr>\n",
       "      <th>75%</th>\n",
       "      <td>-39.500000</td>\n",
       "      <td>-5.750000</td>\n",
       "      <td>29.18000</td>\n",
       "      <td>28.950000</td>\n",
       "      <td>28.445000</td>\n",
       "      <td>26.890000</td>\n",
       "      <td>26.390000</td>\n",
       "      <td>26.170000</td>\n",
       "      <td>25.665000</td>\n",
       "      <td>25.390000</td>\n",
       "      <td>...</td>\n",
       "      <td>28.800000</td>\n",
       "      <td>33.370000</td>\n",
       "      <td>33.645000</td>\n",
       "      <td>33.845000</td>\n",
       "      <td>33.86500</td>\n",
       "      <td>33.720000</td>\n",
       "      <td>33.455000</td>\n",
       "      <td>32.000000</td>\n",
       "      <td>28.510000</td>\n",
       "      <td>28.110000</td>\n",
       "    </tr>\n",
       "    <tr>\n",
       "      <th>max</th>\n",
       "      <td>-35.000000</td>\n",
       "      <td>-1.250000</td>\n",
       "      <td>35.08000</td>\n",
       "      <td>34.490000</td>\n",
       "      <td>33.770000</td>\n",
       "      <td>32.000000</td>\n",
       "      <td>31.440000</td>\n",
       "      <td>31.390000</td>\n",
       "      <td>30.610000</td>\n",
       "      <td>30.150000</td>\n",
       "      <td>...</td>\n",
       "      <td>32.710000</td>\n",
       "      <td>37.180000</td>\n",
       "      <td>37.640000</td>\n",
       "      <td>37.470000</td>\n",
       "      <td>37.87000</td>\n",
       "      <td>37.680000</td>\n",
       "      <td>37.830000</td>\n",
       "      <td>36.420000</td>\n",
       "      <td>33.140000</td>\n",
       "      <td>33.430000</td>\n",
       "    </tr>\n",
       "  </tbody>\n",
       "</table>\n",
       "<p>8 rows × 746 columns</p>\n",
       "</div>"
      ],
      "text/plain": [
       "               0            1           2            3            4    \\\n",
       "count  2047.000000  2047.000000  2047.00000  2047.000000  2047.000000   \n",
       "mean    -41.728261    -8.631900    27.32172    27.093713    26.603004   \n",
       "std       3.087448     3.606967     2.66034     2.777473     2.751419   \n",
       "min     -48.250000   -18.250000    20.61000    19.890000    19.390000   \n",
       "25%     -44.250000   -11.250000    25.43500    25.085000    24.625000   \n",
       "50%     -41.750000    -8.250000    27.35000    27.240000    26.800000   \n",
       "75%     -39.500000    -5.750000    29.18000    28.950000    28.445000   \n",
       "max     -35.000000    -1.250000    35.08000    34.490000    33.770000   \n",
       "\n",
       "               5            6            7            8            9    ...  \\\n",
       "count  2047.000000  2047.000000  2047.000000  2047.000000  2047.000000  ...   \n",
       "mean     24.934294    24.537811    24.247044    23.833376    23.563366  ...   \n",
       "std       2.725959     2.629831     2.797433     2.678827     2.652277  ...   \n",
       "min      17.670000    16.820000    15.790000    15.670000    15.340000  ...   \n",
       "25%      23.050000    22.710000    22.315000    22.120000    21.935000  ...   \n",
       "50%      25.040000    24.830000    24.700000    24.340000    24.120000  ...   \n",
       "75%      26.890000    26.390000    26.170000    25.665000    25.390000  ...   \n",
       "max      32.000000    31.440000    31.390000    30.610000    30.150000  ...   \n",
       "\n",
       "               736          737          738          739         740  \\\n",
       "count  2047.000000  2047.000000  2047.000000  2047.000000  2047.00000   \n",
       "mean     27.771285    31.541231    31.742418    31.810616    31.60639   \n",
       "std       1.584258     2.281480     2.495736     2.527772     2.77285   \n",
       "min      21.820000    25.660000    25.560000    25.680000    23.62000   \n",
       "25%      26.825000    29.720000    29.790000    29.900000    29.41000   \n",
       "50%      27.720000    31.390000    31.710000    31.730000    31.43000   \n",
       "75%      28.800000    33.370000    33.645000    33.845000    33.86500   \n",
       "max      32.710000    37.180000    37.640000    37.470000    37.87000   \n",
       "\n",
       "               741          742          743          744          745  \n",
       "count  2047.000000  2047.000000  2047.000000  2047.000000  2047.000000  \n",
       "mean     31.402633    31.226634    29.850537    27.158671    26.910689  \n",
       "std       2.838418     2.848802     2.755342     2.039351     2.029772  \n",
       "min      22.630000    23.210000    24.320000    22.470000    22.360000  \n",
       "25%      29.055000    28.845000    27.585000    25.640000    25.425000  \n",
       "50%      31.220000    31.100000    29.430000    26.670000    26.410000  \n",
       "75%      33.720000    33.455000    32.000000    28.510000    28.110000  \n",
       "max      37.680000    37.830000    36.420000    33.140000    33.430000  \n",
       "\n",
       "[8 rows x 746 columns]"
      ]
     },
     "execution_count": 37,
     "metadata": {},
     "output_type": "execute_result"
    }
   ],
   "source": [
    "# Descreve apenas colunas \"Numericas\"\n",
    "df_temperatura.describe(include=[np.number])"
   ]
  },
  {
   "cell_type": "markdown",
   "id": "7462dcdc-daa0-4cad-a944-a264ce575254",
   "metadata": {},
   "source": [
    "#### <span style=\"color:#DC143C\">**A6. Quantidade de valores não nulos**"
   ]
  },
  {
   "cell_type": "code",
   "execution_count": 38,
   "id": "ef87a932-b74b-48fe-b151-a8ec29013fef",
   "metadata": {},
   "outputs": [
    {
     "data": {
      "text/plain": [
       "0      2047\n",
       "1      2047\n",
       "2      2047\n",
       "3      2047\n",
       "4      2047\n",
       "       ... \n",
       "741    2047\n",
       "742    2047\n",
       "743    2047\n",
       "744    2047\n",
       "745    2047\n",
       "Length: 746, dtype: int64"
      ]
     },
     "execution_count": 38,
     "metadata": {},
     "output_type": "execute_result"
    }
   ],
   "source": [
    "df_temperatura.count()"
   ]
  },
  {
   "cell_type": "markdown",
   "id": "16805d59-b316-4e69-a0c5-7a18ed97b6a4",
   "metadata": {},
   "source": [
    "#### <span style=\"color:#DC143C\">**A7. Quantidade de valores NULOS**"
   ]
  },
  {
   "cell_type": "markdown",
   "id": "3fe08f32-0f4b-446f-a6fa-50b6b7c7f8a4",
   "metadata": {},
   "source": [
    "<p>Exemplo:<br> \n",
    "<b>rain.isnull()</b>  # O conteúdo da campo onde está NULL recebe o valor FALSE, senão TRUE <br>\n",
    "<b>rain.isnull().sum()</b>  # Totaliza os conteudos não NULL por coluna"
   ]
  },
  {
   "cell_type": "code",
   "execution_count": 39,
   "id": "8cf14de2-0e35-4194-8d40-010a26193ee4",
   "metadata": {},
   "outputs": [
    {
     "data": {
      "text/plain": [
       "0      0\n",
       "1      0\n",
       "2      0\n",
       "3      0\n",
       "4      0\n",
       "      ..\n",
       "741    0\n",
       "742    0\n",
       "743    0\n",
       "744    0\n",
       "745    0\n",
       "Length: 746, dtype: int64"
      ]
     },
     "execution_count": 39,
     "metadata": {},
     "output_type": "execute_result"
    }
   ],
   "source": [
    "df_temperatura.isnull().sum()"
   ]
  },
  {
   "cell_type": "markdown",
   "id": "030c1b9a-de76-492a-8448-0a192b0448d5",
   "metadata": {},
   "source": [
    "#### <span style=\"color:#DC143C\"> **A8. Visualiação de Dados Faltantes**"
   ]
  },
  {
   "cell_type": "markdown",
   "id": "7b551947-04a6-406d-829b-91de295c8be5",
   "metadata": {},
   "source": [
    "(  https://github.com/ResidentMario/missingno ) <br>\n",
    "O <i>missingno</i> fornece um pequeno conjunto de ferramentas de visualizações de dados perdidos flexíveis e fáceis de usar e utilitários que permitem que você obtenha\n",
    "um rápido resumo visual da completude (ou falta dela) do seu conjunto de dados.\n",
    "<p>\n",
    "<b>1.Matriz</b><br>\n",
    "A matriz de nulidade <b>msno.matrix</b> é uma exibição densa de dados que permite que você selecione visualmente padrões na conclusão de dados.<br>\n",
    "As linhas brancas indicam valores ausentes. O minigráfico à direita resume a forma geral da integridade dos dados e aponta as linhas com a nulidade máxima e mínima no conjunto de dados\n"
   ]
  },
  {
   "cell_type": "code",
   "execution_count": 49,
   "id": "a5319a98-c88e-4d22-93dc-13378537ddce",
   "metadata": {},
   "outputs": [
    {
     "data": {
      "text/plain": [
       "<AxesSubplot:>"
      ]
     },
     "execution_count": 49,
     "metadata": {},
     "output_type": "execute_result"
    },
    {
     "data": {
      "image/png": "[encoded data removed]",
      "text/plain": [
       "<Figure size 1800x720 with 2 Axes>"
      ]
     },
     "metadata": {
      "needs_background": "light"
     },
     "output_type": "display_data"
    }
   ],
   "source": [
    "msno.matrix(df_temperatura)"
   ]
  },
  {
   "cell_type": "markdown",
   "id": "47dd1c64-1bee-4daa-8e52-33649c35f3f9",
   "metadata": {},
   "source": [
    "### **B) Descrição dos Atributos**"
   ]
  },
  {
   "cell_type": "markdown",
   "id": "8fe4a53a-23d7-4d0d-938a-c61bd1e3704f",
   "metadata": {},
   "source": [
    "<p><b>Cada linha contem um ponto de latitude e longitude localizado no meio de uma quadricula de 5km de cada lado da<br>\n",
    "    Região Nordeste do Brasil, e em seguinda dos valores horário de cada dia do mês 01 (referência).\n",
    "<br>\n",
    "<br>Coluna 0: Longitude em Graus\n",
    "<br>Coluna 1: Latitude em Graus\n",
    "<br>Coluna 2: Valor da Temperatura em Graus Celsius ºC\n",
    "<br>Coluna 3..746: Valor da Temperatura em Graus Celsius ºC\n",
    "</b></p>\n",
    "\n"
   ]
  },
  {
   "cell_type": "markdown",
   "id": "790fbae7-02a6-4ce1-83a2-5b5a468bab9f",
   "metadata": {},
   "source": [
    "#### <span style=\"color:#DC143C\"> **B1. Total de Dias por Linha\"**"
   ]
  },
  {
   "cell_type": "code",
   "execution_count": 28,
   "id": "1b5d8aab-0265-4245-89a5-bde19f531a90",
   "metadata": {},
   "outputs": [
    {
     "name": "stdout",
     "output_type": "stream",
     "text": [
      "Total de Dias por Linha: 31.0\n"
     ]
    }
   ],
   "source": [
    "# [Total de Registro - (Latitude e Longitude)] / 1 (valor) / 24 ocorrencias h\n",
    "print('Total de Dias por Linha: ' + str((df_temperatura.shape[1]-2)/24))"
   ]
  },
  {
   "cell_type": "markdown",
   "id": "c39be079-72cf-4e93-91a9-29aa92af3211",
   "metadata": {},
   "source": [
    "#### <span style=\"color:#DC143C\"> **B2. Descobrindo todas as variáveis \"Categoricas\" e \"Continuas\"**"
   ]
  },
  {
   "cell_type": "code",
   "execution_count": null,
   "id": "80b41678-14c9-4ece-bbca-3d0f7306033b",
   "metadata": {},
   "outputs": [],
   "source": [
    "categorical_col, contin_val=[],[]\n",
    "\n",
    "for i in df_temperatura.columns:  # i = nome das colunas\n",
    "   # print(i)\n",
    "    if df_temperatura[i].dtype == 'object':\n",
    "        categorical_col.append(i)\n",
    "    else:\n",
    "        contin_val.append(i)\n",
    "        \n",
    "print(\"Colunas com variaveis Categóricas: \" + str(categorical_col))\n",
    "print('')\n",
    "print(\"Colunas com variaveis Contínuas: \" + str(contin_val))"
   ]
  },
  {
   "cell_type": "markdown",
   "id": "c87add9b-9d82-41d5-8c44-af98330c4888",
   "metadata": {},
   "source": [
    "### **C) Alterar Formato do Shape**"
   ]
  },
  {
   "cell_type": "code",
   "execution_count": 19,
   "id": "5939fc27-4b7c-48c4-a423-f5fa4c4114f8",
   "metadata": {},
   "outputs": [],
   "source": [
    "Linha    =  df_temperatura.shape[0]  # Total de Linhas\n",
    "Colunas  =  df_temperatura.shape[1]  # Total de Colunas\n",
    "\n",
    "frente = ['Longitude', 'Latitude', 'Valor', 'Data']  # Cabeçalho\n",
    "df_result_temperatura = pd.DataFrame(columns=frente)  # Criação de um dataframe vazio\n"
   ]
  },
  {
   "cell_type": "markdown",
   "id": "ad785ca5-0c23-4b4c-8714-c3e26a7f2d61",
   "metadata": {},
   "source": [
    "#### <span style=\"color:#DC143C\">**C1. Inicio da execução**"
   ]
  },
  {
   "cell_type": "code",
   "execution_count": 20,
   "id": "a8688424-12d7-4402-9715-41440e49c451",
   "metadata": {},
   "outputs": [
    {
     "data": {
      "text/plain": [
       "'2021-06-20 08:42:58'"
      ]
     },
     "execution_count": 20,
     "metadata": {},
     "output_type": "execute_result"
    }
   ],
   "source": [
    "datetime.now().strftime('%Y-%m-%d %H:%M:%S')"
   ]
  },
  {
   "cell_type": "markdown",
   "id": "5e94d3ad-70f9-4a9d-bd03-7e381148b4f6",
   "metadata": {},
   "source": [
    "#### <span style=\"color:#DC143C\">**C2. Lógica da Execução**"
   ]
  },
  {
   "cell_type": "code",
   "execution_count": null,
   "id": "32cb4939-d5f4-4f6c-9c57-c5210f7cd8dc",
   "metadata": {},
   "outputs": [],
   "source": [
    "refdia = 1\n",
    "    \n",
    "# Função para transformar .... \n",
    "for lin in range(Linha):\n",
    "    print('linha: ' + str(lin))\n",
    "    \n",
    "    refhora = 0\n",
    "    \n",
    "    for col in range (Colunas):        \n",
    "        if col > 1:    # Removo log e Lat da varredura\n",
    "            # print(col)\n",
    "            # print('Day: '  + str(refdia))    \n",
    "            # print('Hora: ' + str(refhora))   \n",
    "                \n",
    "            data_p = datetime(year=2017, month=1, day = refdia, hour = refhora, minute=0, second=0) \n",
    "            # print(data)\n",
    "                \n",
    "            variavel = [df_temperatura.loc[lin,0], df_temperatura.loc[lin,1] , df_temperatura.loc[lin,col] , data_p] \n",
    "                \n",
    "            df_result_temperatura.loc[-1] = variavel  # adding a row\n",
    "            df_result_temperatura.index = df_result_temperatura.index + 1\n",
    "                \n",
    "            refhora = refhora + 1\n",
    "            if refhora == 24:                    \n",
    "                refdia = refdia + 1\n",
    "                refhora = 0\n",
    "                \n",
    "    refdia = 1\n",
    "    refhora = 0\n",
    "    \n",
    "df_result_temperatura.reset_index(inplace=True, drop=False)  #Reseto o indice"
   ]
  },
  {
   "cell_type": "markdown",
   "id": "76eb16fe-ffde-4b5f-8810-327f4a796957",
   "metadata": {},
   "source": [
    "#### <span style=\"color:#DC143C\">**C3. Fim da execução**"
   ]
  },
  {
   "cell_type": "code",
   "execution_count": null,
   "id": "af1f73b9-cbb5-4fd3-b69e-28d565adacce",
   "metadata": {},
   "outputs": [],
   "source": [
    "datetime.now().strftime('%Y-%m-%d %H:%M:%S') "
   ]
  },
  {
   "cell_type": "markdown",
   "id": "0196292f-3283-4723-ba9b-0eb6170e5135",
   "metadata": {},
   "source": [
    "### **D. Exporta Resultados**"
   ]
  },
  {
   "cell_type": "code",
   "execution_count": null,
   "id": "0eed2be4-9f26-41e8-bfa5-aef3da0b84f7",
   "metadata": {},
   "outputs": [],
   "source": [
    "# df_ajustepressao.head()"
   ]
  },
  {
   "cell_type": "code",
   "execution_count": null,
   "id": "ae0fcb10-eb63-4730-abc0-ac8bdd1ea303",
   "metadata": {},
   "outputs": [],
   "source": [
    "df_result_temperatura.drop('index',axis='columns', inplace=True)"
   ]
  },
  {
   "cell_type": "code",
   "execution_count": null,
   "id": "3e7d0d30-082a-464e-8fd7-57ddcf2bc8ed",
   "metadata": {},
   "outputs": [],
   "source": [
    "df_result_temperatura.to_csv(output_file, sep=';', header=False, index = False, encoding='utf-8')"
   ]
  },
  {
   "cell_type": "code",
   "execution_count": null,
   "id": "290913b3-a5f3-445b-9e87-8b63c2a7c5b5",
   "metadata": {},
   "outputs": [],
   "source": []
  }
 ],
 "metadata": {
  "kernelspec": {
   "display_name": "Python 3",
   "language": "python",
   "name": "python3"
  },
  "language_info": {
   "codemirror_mode": {
    "name": "ipython",
    "version": 3
   },
   "file_extension": ".py",
   "mimetype": "text/x-python",
   "name": "python",
   "nbconvert_exporter": "python",
   "pygments_lexer": "ipython3",
   "version": "3.7.10"
  }
 },
 "nbformat": 4,
 "nbformat_minor": 5
}
