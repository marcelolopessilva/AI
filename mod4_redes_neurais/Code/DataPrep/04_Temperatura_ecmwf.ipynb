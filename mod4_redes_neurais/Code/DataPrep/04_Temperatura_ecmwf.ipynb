{
 "cells": [
  {
   "cell_type": "code",
   "execution_count": 35,
   "id": "eb7d0d19-ccda-4e67-b305-088b8bbf3c85",
   "metadata": {},
   "outputs": [],
   "source": [
    "import numpy as np\n",
    "import pandas as pd\n",
    "from datetime import datetime,date\n",
    "\n",
    "import missingno as msno\n",
    "\n",
    "# import warnings\n",
    "# warnings.filterwarnings(\"ignore\")\n"
   ]
  },
  {
   "cell_type": "markdown",
   "id": "bd57943b-27ea-4e7a-a0ca-49e19c6755cf",
   "metadata": {},
   "source": [
    "### **A) Definições de Funções**"
   ]
  },
  {
   "cell_type": "code",
   "execution_count": 36,
   "id": "353502f8-6d39-4722-b3e2-50809240f62c",
   "metadata": {},
   "outputs": [],
   "source": [
    "def ExtracaoAlvo(df,var_mes):\n",
    "    Linha =  df.shape[0]\n",
    "    \n",
    "    aCols = np.arange(0,df.shape[1])\n",
    "    df_alvo = pd.DataFrame(columns = aCols )\n",
    "    \n",
    "    for lin in range(Linha):   \n",
    "        if ( (df.loc[lin,0] == -42.75) and (df.loc[lin,1] == -14.25)):\n",
    "            variavel = df.values[lin,]\n",
    "            df_alvo.loc[0] = variavel\n",
    "    \n",
    "    \n",
    "    refdia = 1     \n",
    "    Linha1    =  df_alvo.shape[0] \n",
    "    Colunas1  =  df_alvo.shape[1] \n",
    "\n",
    "   \n",
    "    for lin2 in range(Linha1): \n",
    "        refhora = 0\n",
    "    \n",
    "        for col in range (Colunas1):        \n",
    "            if col > 1:\n",
    "               \n",
    "                data = datetime(year=2017, month = var_mes, day = refdia, hour = refhora, minute=0, second=0)\n",
    "                   \n",
    "                lin_alvo = [df_alvo.loc[0,0], df_alvo.loc[0,1] , df_alvo.loc[0,col], data] \n",
    "                \n",
    "                df_result_temp.loc[len(df_result_temp)] = lin_alvo  # adding a row\n",
    "                \n",
    "                refhora = refhora + 1\n",
    "                \n",
    "                if refhora == 24:                    \n",
    "                    refdia = refdia + 1\n",
    "                    refhora = 0\n",
    "                    \n",
    "    variavel = \"ok\"\n",
    "    return variavel\n",
    "    "
   ]
  },
  {
   "cell_type": "markdown",
   "id": "e3ed573f-ab98-4c84-9438-80babe04b440",
   "metadata": {},
   "source": [
    "### **B) Configuração de Dataframe Resultado**"
   ]
  },
  {
   "cell_type": "code",
   "execution_count": 37,
   "id": "fb215e9a-054e-453d-9526-de152bdd12ad",
   "metadata": {},
   "outputs": [],
   "source": [
    "frente = ['Longitude', 'Latitude', 'Valor_Temp', 'Data']  # Cabeçalho\n",
    "df_result_temp = pd.DataFrame(columns=frente)  # Criação de um dataframe vazio\n"
   ]
  },
  {
   "cell_type": "markdown",
   "id": "d4de6591-f4da-4527-8263-f74933fa9424",
   "metadata": {},
   "source": [
    "### **C) Coleta dos Dados de Pressão ECMWF**"
   ]
  },
  {
   "cell_type": "code",
   "execution_count": 38,
   "id": "ce4ae9a9-fde5-4f5f-8cd6-1dfbbaa3f0c5",
   "metadata": {},
   "outputs": [],
   "source": [
    "mes = 1\n",
    "\n",
    "for i in range(12):\n",
    "    if i < 9:\n",
    "        source_file = '../../Data/raw/t2m/t2mNE_2017_0' + str(mes) + '.txt'\n",
    "        # print(source_file)           \n",
    "        df_temp = pd.read_csv(source_file, delimiter = r\"\\s+\", header=None)\n",
    "        \n",
    "        a = ExtracaoAlvo(df_temp,mes)\n",
    "        # print(a)\n",
    "        \n",
    "    else:\n",
    "        source_file = '../../Data/raw/t2m/t2mNE_2017_' + str(mes) + '.txt'\n",
    "        # print(source_file)       \n",
    "        df_temp = pd.read_csv(source_file, delimiter = r\"\\s+\", header=None)  \n",
    "        \n",
    "        a = ExtracaoAlvo(df_temp,mes)\n",
    "        # print(a)\n",
    "    \n",
    "    \n",
    "    mes = mes + 1\n",
    "\n",
    "\n"
   ]
  },
  {
   "cell_type": "markdown",
   "id": "7406dd16-6e98-4c80-94f9-8a77ea0dad31",
   "metadata": {},
   "source": [
    "### **D) Sobre os Dados**"
   ]
  },
  {
   "cell_type": "markdown",
   "id": "9d24ab44-4f41-4132-84db-1977047f5cad",
   "metadata": {},
   "source": [
    "#### <span style=\"color:#DC143C\">**D1. Visao do Dataframe**"
   ]
  },
  {
   "cell_type": "code",
   "execution_count": 40,
   "id": "264c2fda-4d8e-4114-8641-6fb08f2df705",
   "metadata": {},
   "outputs": [
    {
     "data": {
      "text/html": [
       "<div>\n",
       "<style scoped>\n",
       "    .dataframe tbody tr th:only-of-type {\n",
       "        vertical-align: middle;\n",
       "    }\n",
       "\n",
       "    .dataframe tbody tr th {\n",
       "        vertical-align: top;\n",
       "    }\n",
       "\n",
       "    .dataframe thead th {\n",
       "        text-align: right;\n",
       "    }\n",
       "</style>\n",
       "<table border=\"1\" class=\"dataframe\">\n",
       "  <thead>\n",
       "    <tr style=\"text-align: right;\">\n",
       "      <th></th>\n",
       "      <th>Longitude</th>\n",
       "      <th>Latitude</th>\n",
       "      <th>Valor_Temp</th>\n",
       "      <th>Data</th>\n",
       "    </tr>\n",
       "  </thead>\n",
       "  <tbody>\n",
       "    <tr>\n",
       "      <th>0</th>\n",
       "      <td>-42.75</td>\n",
       "      <td>-14.25</td>\n",
       "      <td>25.93</td>\n",
       "      <td>2017-01-01 00:00:00</td>\n",
       "    </tr>\n",
       "    <tr>\n",
       "      <th>1</th>\n",
       "      <td>-42.75</td>\n",
       "      <td>-14.25</td>\n",
       "      <td>25.73</td>\n",
       "      <td>2017-01-01 01:00:00</td>\n",
       "    </tr>\n",
       "  </tbody>\n",
       "</table>\n",
       "</div>"
      ],
      "text/plain": [
       "   Longitude  Latitude  Valor_Temp                Data\n",
       "0     -42.75    -14.25       25.93 2017-01-01 00:00:00\n",
       "1     -42.75    -14.25       25.73 2017-01-01 01:00:00"
      ]
     },
     "execution_count": 40,
     "metadata": {},
     "output_type": "execute_result"
    }
   ],
   "source": [
    "df_result_temp.head(2)  # visão de 5 linhas"
   ]
  },
  {
   "cell_type": "markdown",
   "id": "b087d67d-1f53-42ea-980c-ab126f9a15c1",
   "metadata": {},
   "source": [
    "#### <span style=\"color:#DC143C\">**D2. Nome das Colunas do Cabeçalho**"
   ]
  },
  {
   "cell_type": "code",
   "execution_count": 41,
   "id": "6e389d77-03fb-4563-8ebc-013e26135ae8",
   "metadata": {},
   "outputs": [
    {
     "data": {
      "text/plain": [
       "Index(['Longitude', 'Latitude', 'Valor_Temp', 'Data'], dtype='object')"
      ]
     },
     "execution_count": 41,
     "metadata": {},
     "output_type": "execute_result"
    }
   ],
   "source": [
    "# Lista o nome das Colunas\n",
    "df_result_temp.columns "
   ]
  },
  {
   "cell_type": "markdown",
   "id": "670b9a20-afd0-479c-837a-d9695e24184d",
   "metadata": {},
   "source": [
    "#### <span style=\"color:#DC143C\">**D3. Conteúdo de 1 Linha**"
   ]
  },
  {
   "cell_type": "code",
   "execution_count": 42,
   "id": "52f0dd86-e2d6-4cdd-9617-62fdcd89f03f",
   "metadata": {},
   "outputs": [
    {
     "data": {
      "text/plain": [
       "array([[-42.75, -14.25, 25.93, Timestamp('2017-01-01 00:00:00')]],\n",
       "      dtype=object)"
      ]
     },
     "execution_count": 42,
     "metadata": {},
     "output_type": "execute_result"
    }
   ],
   "source": [
    "df_result_temp.values[0:1]"
   ]
  },
  {
   "cell_type": "markdown",
   "id": "2e7f15a1-c757-4534-9dad-38f273a11eb1",
   "metadata": {},
   "source": [
    "#### <span style=\"color:#DC143C\">**D4. Informações Sobre o Dataframe**"
   ]
  },
  {
   "cell_type": "code",
   "execution_count": 43,
   "id": "ab5785db-5827-44fd-964a-fdf9a253d610",
   "metadata": {},
   "outputs": [
    {
     "name": "stdout",
     "output_type": "stream",
     "text": [
      "<class 'pandas.core.frame.DataFrame'>\n",
      "Int64Index: 8760 entries, 0 to 8759\n",
      "Data columns (total 4 columns):\n",
      " #   Column      Non-Null Count  Dtype         \n",
      "---  ------      --------------  -----         \n",
      " 0   Longitude   8760 non-null   float64       \n",
      " 1   Latitude    8760 non-null   float64       \n",
      " 2   Valor_Temp  8760 non-null   float64       \n",
      " 3   Data        8760 non-null   datetime64[ns]\n",
      "dtypes: datetime64[ns](1), float64(3)\n",
      "memory usage: 342.2 KB\n"
     ]
    }
   ],
   "source": [
    "df_result_temp.info()"
   ]
  },
  {
   "cell_type": "code",
   "execution_count": 44,
   "id": "f257e318-e632-4fdc-9ea9-508b30c10d14",
   "metadata": {},
   "outputs": [
    {
     "data": {
      "text/html": [
       "<div>\n",
       "<style scoped>\n",
       "    .dataframe tbody tr th:only-of-type {\n",
       "        vertical-align: middle;\n",
       "    }\n",
       "\n",
       "    .dataframe tbody tr th {\n",
       "        vertical-align: top;\n",
       "    }\n",
       "\n",
       "    .dataframe thead th {\n",
       "        text-align: right;\n",
       "    }\n",
       "</style>\n",
       "<table border=\"1\" class=\"dataframe\">\n",
       "  <thead>\n",
       "    <tr style=\"text-align: right;\">\n",
       "      <th></th>\n",
       "      <th>Longitude</th>\n",
       "      <th>Latitude</th>\n",
       "      <th>Valor_Temp</th>\n",
       "    </tr>\n",
       "  </thead>\n",
       "  <tbody>\n",
       "    <tr>\n",
       "      <th>count</th>\n",
       "      <td>8760.00</td>\n",
       "      <td>8760.00</td>\n",
       "      <td>8760.000000</td>\n",
       "    </tr>\n",
       "    <tr>\n",
       "      <th>mean</th>\n",
       "      <td>-42.75</td>\n",
       "      <td>-14.25</td>\n",
       "      <td>24.903272</td>\n",
       "    </tr>\n",
       "    <tr>\n",
       "      <th>std</th>\n",
       "      <td>0.00</td>\n",
       "      <td>0.00</td>\n",
       "      <td>4.454734</td>\n",
       "    </tr>\n",
       "    <tr>\n",
       "      <th>min</th>\n",
       "      <td>-42.75</td>\n",
       "      <td>-14.25</td>\n",
       "      <td>14.130000</td>\n",
       "    </tr>\n",
       "    <tr>\n",
       "      <th>25%</th>\n",
       "      <td>-42.75</td>\n",
       "      <td>-14.25</td>\n",
       "      <td>21.610000</td>\n",
       "    </tr>\n",
       "    <tr>\n",
       "      <th>50%</th>\n",
       "      <td>-42.75</td>\n",
       "      <td>-14.25</td>\n",
       "      <td>24.600000</td>\n",
       "    </tr>\n",
       "    <tr>\n",
       "      <th>75%</th>\n",
       "      <td>-42.75</td>\n",
       "      <td>-14.25</td>\n",
       "      <td>27.850000</td>\n",
       "    </tr>\n",
       "    <tr>\n",
       "      <th>max</th>\n",
       "      <td>-42.75</td>\n",
       "      <td>-14.25</td>\n",
       "      <td>36.270000</td>\n",
       "    </tr>\n",
       "  </tbody>\n",
       "</table>\n",
       "</div>"
      ],
      "text/plain": [
       "       Longitude  Latitude   Valor_Temp\n",
       "count    8760.00   8760.00  8760.000000\n",
       "mean      -42.75    -14.25    24.903272\n",
       "std         0.00      0.00     4.454734\n",
       "min       -42.75    -14.25    14.130000\n",
       "25%       -42.75    -14.25    21.610000\n",
       "50%       -42.75    -14.25    24.600000\n",
       "75%       -42.75    -14.25    27.850000\n",
       "max       -42.75    -14.25    36.270000"
      ]
     },
     "execution_count": 44,
     "metadata": {},
     "output_type": "execute_result"
    }
   ],
   "source": [
    "# Descreve apenas colunas \"Numericas\"\n",
    "df_result_temp.describe(include=[np.number])"
   ]
  },
  {
   "cell_type": "markdown",
   "id": "dd225d8d-5426-49c6-9c7b-c93206603f49",
   "metadata": {},
   "source": [
    "#### <span style=\"color:#DC143C\">**D5. Formato dos Dados**"
   ]
  },
  {
   "cell_type": "code",
   "execution_count": null,
   "id": "7f2ad80b-abb8-41fb-9130-526f7fd74a85",
   "metadata": {},
   "outputs": [],
   "source": [
    "df_result_temp.shape # formato da matriz"
   ]
  },
  {
   "cell_type": "markdown",
   "id": "67ccd1ef-6fa3-4507-aceb-fbbc40bddf8b",
   "metadata": {},
   "source": [
    "### **E) Análise sobre os Dados**"
   ]
  },
  {
   "cell_type": "markdown",
   "id": "7462dcdc-daa0-4cad-a944-a264ce575254",
   "metadata": {},
   "source": [
    "#### <span style=\"color:#DC143C\">**E1. Quantidade de valores não nulos**"
   ]
  },
  {
   "cell_type": "code",
   "execution_count": 45,
   "id": "ef87a932-b74b-48fe-b151-a8ec29013fef",
   "metadata": {},
   "outputs": [
    {
     "data": {
      "text/plain": [
       "Longitude     8760\n",
       "Latitude      8760\n",
       "Valor_Temp    8760\n",
       "Data          8760\n",
       "dtype: int64"
      ]
     },
     "execution_count": 45,
     "metadata": {},
     "output_type": "execute_result"
    }
   ],
   "source": [
    "df_result_temp.count()"
   ]
  },
  {
   "cell_type": "markdown",
   "id": "16805d59-b316-4e69-a0c5-7a18ed97b6a4",
   "metadata": {},
   "source": [
    "#### <span style=\"color:#DC143C\">**E2. Quantidade de valores NULOS**"
   ]
  },
  {
   "cell_type": "markdown",
   "id": "3fe08f32-0f4b-446f-a6fa-50b6b7c7f8a4",
   "metadata": {},
   "source": [
    "<p>Exemplo:<br> \n",
    "<b>rain.isnull()</b>  # O conteúdo da campo onde está NULL recebe o valor FALSE, senão TRUE <br>\n",
    "<b>rain.isnull().sum()</b>  # Totaliza os conteudos não NULL por coluna"
   ]
  },
  {
   "cell_type": "code",
   "execution_count": 46,
   "id": "8cf14de2-0e35-4194-8d40-010a26193ee4",
   "metadata": {},
   "outputs": [
    {
     "data": {
      "text/plain": [
       "Longitude     0\n",
       "Latitude      0\n",
       "Valor_Temp    0\n",
       "Data          0\n",
       "dtype: int64"
      ]
     },
     "execution_count": 46,
     "metadata": {},
     "output_type": "execute_result"
    }
   ],
   "source": [
    "df_result_temp.isnull().sum()"
   ]
  },
  {
   "cell_type": "code",
   "execution_count": 47,
   "id": "860f73a0-be75-479c-80d8-b3c53d19fa1c",
   "metadata": {},
   "outputs": [
    {
     "data": {
      "text/plain": [
       "Longitude     0\n",
       "Latitude      0\n",
       "Valor_Temp    0\n",
       "Data          0\n",
       "dtype: int64"
      ]
     },
     "execution_count": 47,
     "metadata": {},
     "output_type": "execute_result"
    }
   ],
   "source": [
    "df_result_temp.isnull().sum().sort_values(ascending=False)[:100]"
   ]
  },
  {
   "cell_type": "markdown",
   "id": "030c1b9a-de76-492a-8448-0a192b0448d5",
   "metadata": {},
   "source": [
    "#### <span style=\"color:#DC143C\"> **E3. Visualiação de Dados Faltantes**"
   ]
  },
  {
   "cell_type": "code",
   "execution_count": 48,
   "id": "1fedad8f-e7e3-46e9-bba6-04271686458b",
   "metadata": {},
   "outputs": [
    {
     "data": {
      "text/plain": [
       "<AxesSubplot:>"
      ]
     },
     "execution_count": 48,
     "metadata": {},
     "output_type": "execute_result"
    },
    {
     "data": {
      "image/png": "[encoded data removed]",
      "text/plain": [
       "<Figure size 1800x720 with 2 Axes>"
      ]
     },
     "metadata": {
      "needs_background": "light"
     },
     "output_type": "display_data"
    }
   ],
   "source": [
    "msno.matrix(df_result_temp)"
   ]
  },
  {
   "cell_type": "markdown",
   "id": "0196292f-3283-4723-ba9b-0eb6170e5135",
   "metadata": {},
   "source": [
    "### **F. Exporta Resultados**"
   ]
  },
  {
   "cell_type": "code",
   "execution_count": 49,
   "id": "290913b3-a5f3-445b-9e87-8b63c2a7c5b5",
   "metadata": {},
   "outputs": [],
   "source": [
    "output_file = '../../Data/process/result_temperatura_patio1.csv'\n",
    "df_result_temp.to_csv(output_file, sep=';', encoding='utf-8')"
   ]
  }
 ],
 "metadata": {
  "kernelspec": {
   "display_name": "Python 3",
   "language": "python",
   "name": "python3"
  },
  "language_info": {
   "codemirror_mode": {
    "name": "ipython",
    "version": 3
   },
   "file_extension": ".py",
   "mimetype": "text/x-python",
   "name": "python",
   "nbconvert_exporter": "python",
   "pygments_lexer": "ipython3",
   "version": "3.7.10"
  }
 },
 "nbformat": 4,
 "nbformat_minor": 5
}
