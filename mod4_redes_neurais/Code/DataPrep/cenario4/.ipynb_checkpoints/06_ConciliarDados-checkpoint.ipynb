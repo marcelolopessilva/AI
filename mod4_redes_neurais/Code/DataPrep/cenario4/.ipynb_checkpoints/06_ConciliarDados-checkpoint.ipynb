{
 "cells": [
  {
   "cell_type": "code",
   "execution_count": 1,
   "id": "12fa0c66-b30c-49f8-b3df-f713b67111f5",
   "metadata": {},
   "outputs": [
    {
     "name": "stderr",
     "output_type": "stream",
     "text": [
      "d:\\anaconda3\\lib\\site-packages\\numpy\\_distributor_init.py:32: UserWarning: loaded more than 1 DLL from .libs:\n",
      "d:\\anaconda3\\lib\\site-packages\\numpy\\.libs\\libopenblas.NOIJJG62EMASZI6NYURL6JBKM4EVBGM7.gfortran-win_amd64.dll\n",
      "d:\\anaconda3\\lib\\site-packages\\numpy\\.libs\\libopenblas.WCDJNK7YVMPZQ2ME2ZZHJJRJ3JIKNDB7.gfortran-win_amd64.dll\n",
      "  stacklevel=1)\n"
     ]
    }
   ],
   "source": [
    "import pandas as pd\n",
    "import numpy as np\n"
   ]
  },
  {
   "cell_type": "markdown",
   "id": "20aae5e8-9e5c-423d-b4ba-6f7db1901409",
   "metadata": {},
   "source": [
    "### **A) Importar Dados de Chuvas, Pressao, Precipitação e Temperatura**"
   ]
  },
  {
   "cell_type": "code",
   "execution_count": 8,
   "id": "68e8037d-37d6-4c26-9bcd-852dae67ec14",
   "metadata": {},
   "outputs": [],
   "source": [
    "output_precip = '../../../../PrevisaoVento/Data/process/cenario4/chuva_prevista.csv'\n",
    "\n",
    "output_pressao =  '../../../../PrevisaoVento/Data/process/cenario4/pressao_prevista.csv'\n",
    "\n",
    "output_temp = '../../../../PrevisaoVento/Data/process/cenario4/temperatura_prevista.csv'\n",
    "\n",
    "output_vento = '../../../../PrevisaoVento/Data/process/cenario4/vento_previsto.csv'\n",
    "\n",
    "output_ventoC = '../../../../PrevisaoVento/Data/process/cenario4/Vento_Consolidado.csv'\n"
   ]
  },
  {
   "cell_type": "code",
   "execution_count": 9,
   "id": "404c9f0a-add9-4098-b5c9-a0c7d946c955",
   "metadata": {},
   "outputs": [],
   "source": [
    "df_chuva = pd.read_csv(output_precip, delimiter = \";\", index_col=0)\n",
    "\n",
    "df_pressao = pd.read_csv(output_pressao, delimiter = \";\", index_col=0)\n",
    "\n",
    "df_temp = pd.read_csv(output_temp, delimiter = \";\", index_col=0)\n",
    "\n",
    "df_vento = pd.read_csv(output_vento, delimiter = \";\", index_col=0)\n",
    "\n",
    "df_ventoC = pd.read_csv(output_ventoC, delimiter = \";\", index_col=0)\n",
    "\n",
    "# OBS: Senão utilizar o parametro index_col=0, o dataframe cria uma coluna \"Unnamed\" para representar o indice\n",
    "# e a remoção desta coluna pode ser pelo comando: df.drop(df.columns[0], axis=1, inplace=True)"
   ]
  },
  {
   "cell_type": "markdown",
   "id": "befc6c78-814c-4950-a32d-88c69813fbc9",
   "metadata": {},
   "source": [
    "### **B) Sobre os 4 conjuntos de dados**"
   ]
  },
  {
   "cell_type": "markdown",
   "id": "2b29d144-dca6-4dc5-974a-c0246f9a98c4",
   "metadata": {},
   "source": [
    "#### <span style=\"color:#DC143C\">**B1. Formato dos Dados**"
   ]
  },
  {
   "cell_type": "code",
   "execution_count": 10,
   "id": "05dca724-712f-4e6d-bbb3-a4986cdac6ed",
   "metadata": {},
   "outputs": [
    {
     "name": "stdout",
     "output_type": "stream",
     "text": [
      "Precipitação:(8760, 4)\n",
      "Pressão:(8760, 4)\n",
      "Temperatura:(8760, 4)\n",
      "Vento Previsto:(8760, 5)\n",
      "Vento Consolidado:(8760, 4)\n"
     ]
    }
   ],
   "source": [
    "print(\"Precipitação:\" + str(df_chuva.shape))\n",
    "\n",
    "print(\"Pressão:\" + str(df_pressao.shape))\n",
    "\n",
    "print(\"Temperatura:\" + str(df_temp.shape))\n",
    "\n",
    "print(\"Vento Previsto:\" + str(df_vento.shape))\n",
    "\n",
    "print(\"Vento Consolidado:\" + str(df_ventoC.shape))"
   ]
  },
  {
   "cell_type": "markdown",
   "id": "27b95161-81cd-49ae-9165-fc7465dba322",
   "metadata": {},
   "source": [
    "#### <span style=\"color:#DC143C\">**B2. Visão dos Dados**"
   ]
  },
  {
   "cell_type": "code",
   "execution_count": 11,
   "id": "e53d3829-badf-4eb1-85fe-0f20f3ae7d33",
   "metadata": {},
   "outputs": [
    {
     "data": {
      "text/html": [
       "<div>\n",
       "<style scoped>\n",
       "    .dataframe tbody tr th:only-of-type {\n",
       "        vertical-align: middle;\n",
       "    }\n",
       "\n",
       "    .dataframe tbody tr th {\n",
       "        vertical-align: top;\n",
       "    }\n",
       "\n",
       "    .dataframe thead th {\n",
       "        text-align: right;\n",
       "    }\n",
       "</style>\n",
       "<table border=\"1\" class=\"dataframe\">\n",
       "  <thead>\n",
       "    <tr style=\"text-align: right;\">\n",
       "      <th></th>\n",
       "      <th>Longitude</th>\n",
       "      <th>Latitude</th>\n",
       "      <th>Chuva</th>\n",
       "      <th>Data</th>\n",
       "    </tr>\n",
       "  </thead>\n",
       "  <tbody>\n",
       "    <tr>\n",
       "      <th>0</th>\n",
       "      <td>-42.75</td>\n",
       "      <td>-14.25</td>\n",
       "      <td>0.0</td>\n",
       "      <td>2017-01-01 00:00:00</td>\n",
       "    </tr>\n",
       "    <tr>\n",
       "      <th>1</th>\n",
       "      <td>-42.75</td>\n",
       "      <td>-14.25</td>\n",
       "      <td>0.0</td>\n",
       "      <td>2017-01-01 01:00:00</td>\n",
       "    </tr>\n",
       "    <tr>\n",
       "      <th>2</th>\n",
       "      <td>-42.75</td>\n",
       "      <td>-14.25</td>\n",
       "      <td>0.0</td>\n",
       "      <td>2017-01-01 02:00:00</td>\n",
       "    </tr>\n",
       "    <tr>\n",
       "      <th>3</th>\n",
       "      <td>-42.75</td>\n",
       "      <td>-14.25</td>\n",
       "      <td>0.0</td>\n",
       "      <td>2017-01-01 03:00:00</td>\n",
       "    </tr>\n",
       "    <tr>\n",
       "      <th>4</th>\n",
       "      <td>-42.75</td>\n",
       "      <td>-14.25</td>\n",
       "      <td>0.0</td>\n",
       "      <td>2017-01-01 04:00:00</td>\n",
       "    </tr>\n",
       "  </tbody>\n",
       "</table>\n",
       "</div>"
      ],
      "text/plain": [
       "   Longitude  Latitude  Chuva                 Data\n",
       "0     -42.75    -14.25    0.0  2017-01-01 00:00:00\n",
       "1     -42.75    -14.25    0.0  2017-01-01 01:00:00\n",
       "2     -42.75    -14.25    0.0  2017-01-01 02:00:00\n",
       "3     -42.75    -14.25    0.0  2017-01-01 03:00:00\n",
       "4     -42.75    -14.25    0.0  2017-01-01 04:00:00"
      ]
     },
     "execution_count": 11,
     "metadata": {},
     "output_type": "execute_result"
    }
   ],
   "source": [
    "df_chuva.head(5)"
   ]
  },
  {
   "cell_type": "code",
   "execution_count": 12,
   "id": "aab940ff-e5bb-4875-a583-9ec40962a216",
   "metadata": {},
   "outputs": [
    {
     "data": {
      "text/html": [
       "<div>\n",
       "<style scoped>\n",
       "    .dataframe tbody tr th:only-of-type {\n",
       "        vertical-align: middle;\n",
       "    }\n",
       "\n",
       "    .dataframe tbody tr th {\n",
       "        vertical-align: top;\n",
       "    }\n",
       "\n",
       "    .dataframe thead th {\n",
       "        text-align: right;\n",
       "    }\n",
       "</style>\n",
       "<table border=\"1\" class=\"dataframe\">\n",
       "  <thead>\n",
       "    <tr style=\"text-align: right;\">\n",
       "      <th></th>\n",
       "      <th>Longitude</th>\n",
       "      <th>Latitude</th>\n",
       "      <th>Temperatura</th>\n",
       "      <th>Data</th>\n",
       "    </tr>\n",
       "  </thead>\n",
       "  <tbody>\n",
       "    <tr>\n",
       "      <th>0</th>\n",
       "      <td>-42.75</td>\n",
       "      <td>-14.25</td>\n",
       "      <td>25.93</td>\n",
       "      <td>2017-01-01 00:00:00</td>\n",
       "    </tr>\n",
       "    <tr>\n",
       "      <th>1</th>\n",
       "      <td>-42.75</td>\n",
       "      <td>-14.25</td>\n",
       "      <td>25.73</td>\n",
       "      <td>2017-01-01 01:00:00</td>\n",
       "    </tr>\n",
       "    <tr>\n",
       "      <th>2</th>\n",
       "      <td>-42.75</td>\n",
       "      <td>-14.25</td>\n",
       "      <td>25.50</td>\n",
       "      <td>2017-01-01 02:00:00</td>\n",
       "    </tr>\n",
       "    <tr>\n",
       "      <th>3</th>\n",
       "      <td>-42.75</td>\n",
       "      <td>-14.25</td>\n",
       "      <td>23.67</td>\n",
       "      <td>2017-01-01 03:00:00</td>\n",
       "    </tr>\n",
       "    <tr>\n",
       "      <th>4</th>\n",
       "      <td>-42.75</td>\n",
       "      <td>-14.25</td>\n",
       "      <td>22.97</td>\n",
       "      <td>2017-01-01 04:00:00</td>\n",
       "    </tr>\n",
       "  </tbody>\n",
       "</table>\n",
       "</div>"
      ],
      "text/plain": [
       "   Longitude  Latitude  Temperatura                 Data\n",
       "0     -42.75    -14.25        25.93  2017-01-01 00:00:00\n",
       "1     -42.75    -14.25        25.73  2017-01-01 01:00:00\n",
       "2     -42.75    -14.25        25.50  2017-01-01 02:00:00\n",
       "3     -42.75    -14.25        23.67  2017-01-01 03:00:00\n",
       "4     -42.75    -14.25        22.97  2017-01-01 04:00:00"
      ]
     },
     "execution_count": 12,
     "metadata": {},
     "output_type": "execute_result"
    }
   ],
   "source": [
    "df_temp.head(5)"
   ]
  },
  {
   "cell_type": "code",
   "execution_count": 13,
   "id": "bd61312a-f27a-41e0-8260-d0be86a9de6c",
   "metadata": {},
   "outputs": [
    {
     "data": {
      "text/html": [
       "<div>\n",
       "<style scoped>\n",
       "    .dataframe tbody tr th:only-of-type {\n",
       "        vertical-align: middle;\n",
       "    }\n",
       "\n",
       "    .dataframe tbody tr th {\n",
       "        vertical-align: top;\n",
       "    }\n",
       "\n",
       "    .dataframe thead th {\n",
       "        text-align: right;\n",
       "    }\n",
       "</style>\n",
       "<table border=\"1\" class=\"dataframe\">\n",
       "  <thead>\n",
       "    <tr style=\"text-align: right;\">\n",
       "      <th></th>\n",
       "      <th>Longitude</th>\n",
       "      <th>Latitude</th>\n",
       "      <th>VentoPrevisto</th>\n",
       "      <th>Direcao</th>\n",
       "      <th>Data</th>\n",
       "    </tr>\n",
       "  </thead>\n",
       "  <tbody>\n",
       "    <tr>\n",
       "      <th>0</th>\n",
       "      <td>-42.75</td>\n",
       "      <td>-14.25</td>\n",
       "      <td>6.82</td>\n",
       "      <td>97.36</td>\n",
       "      <td>2017-01-01 00:00:00</td>\n",
       "    </tr>\n",
       "    <tr>\n",
       "      <th>1</th>\n",
       "      <td>-42.75</td>\n",
       "      <td>-14.25</td>\n",
       "      <td>6.91</td>\n",
       "      <td>94.65</td>\n",
       "      <td>2017-01-01 01:00:00</td>\n",
       "    </tr>\n",
       "    <tr>\n",
       "      <th>2</th>\n",
       "      <td>-42.75</td>\n",
       "      <td>-14.25</td>\n",
       "      <td>7.27</td>\n",
       "      <td>92.98</td>\n",
       "      <td>2017-01-01 02:00:00</td>\n",
       "    </tr>\n",
       "    <tr>\n",
       "      <th>3</th>\n",
       "      <td>-42.75</td>\n",
       "      <td>-14.25</td>\n",
       "      <td>7.83</td>\n",
       "      <td>93.62</td>\n",
       "      <td>2017-01-01 03:00:00</td>\n",
       "    </tr>\n",
       "    <tr>\n",
       "      <th>4</th>\n",
       "      <td>-42.75</td>\n",
       "      <td>-14.25</td>\n",
       "      <td>7.81</td>\n",
       "      <td>96.33</td>\n",
       "      <td>2017-01-01 04:00:00</td>\n",
       "    </tr>\n",
       "  </tbody>\n",
       "</table>\n",
       "</div>"
      ],
      "text/plain": [
       "   Longitude  Latitude  VentoPrevisto  Direcao                 Data\n",
       "0     -42.75    -14.25           6.82    97.36  2017-01-01 00:00:00\n",
       "1     -42.75    -14.25           6.91    94.65  2017-01-01 01:00:00\n",
       "2     -42.75    -14.25           7.27    92.98  2017-01-01 02:00:00\n",
       "3     -42.75    -14.25           7.83    93.62  2017-01-01 03:00:00\n",
       "4     -42.75    -14.25           7.81    96.33  2017-01-01 04:00:00"
      ]
     },
     "execution_count": 13,
     "metadata": {},
     "output_type": "execute_result"
    }
   ],
   "source": [
    "df_vento.head(5)"
   ]
  },
  {
   "cell_type": "code",
   "execution_count": 14,
   "id": "aec0e323-6e75-4bb9-a305-8098475fbf47",
   "metadata": {},
   "outputs": [
    {
     "data": {
      "text/html": [
       "<div>\n",
       "<style scoped>\n",
       "    .dataframe tbody tr th:only-of-type {\n",
       "        vertical-align: middle;\n",
       "    }\n",
       "\n",
       "    .dataframe tbody tr th {\n",
       "        vertical-align: top;\n",
       "    }\n",
       "\n",
       "    .dataframe thead th {\n",
       "        text-align: right;\n",
       "    }\n",
       "</style>\n",
       "<table border=\"1\" class=\"dataframe\">\n",
       "  <thead>\n",
       "    <tr style=\"text-align: right;\">\n",
       "      <th></th>\n",
       "      <th>Longitude</th>\n",
       "      <th>Latitude</th>\n",
       "      <th>Pressao</th>\n",
       "      <th>Data</th>\n",
       "    </tr>\n",
       "  </thead>\n",
       "  <tbody>\n",
       "    <tr>\n",
       "      <th>0</th>\n",
       "      <td>-42.75</td>\n",
       "      <td>-14.25</td>\n",
       "      <td>1013.14</td>\n",
       "      <td>2017-01-01 00:00:00</td>\n",
       "    </tr>\n",
       "    <tr>\n",
       "      <th>1</th>\n",
       "      <td>-42.75</td>\n",
       "      <td>-14.25</td>\n",
       "      <td>1013.34</td>\n",
       "      <td>2017-01-01 01:00:00</td>\n",
       "    </tr>\n",
       "    <tr>\n",
       "      <th>2</th>\n",
       "      <td>-42.75</td>\n",
       "      <td>-14.25</td>\n",
       "      <td>1013.04</td>\n",
       "      <td>2017-01-01 02:00:00</td>\n",
       "    </tr>\n",
       "    <tr>\n",
       "      <th>3</th>\n",
       "      <td>-42.75</td>\n",
       "      <td>-14.25</td>\n",
       "      <td>1012.92</td>\n",
       "      <td>2017-01-01 03:00:00</td>\n",
       "    </tr>\n",
       "    <tr>\n",
       "      <th>4</th>\n",
       "      <td>-42.75</td>\n",
       "      <td>-14.25</td>\n",
       "      <td>1013.07</td>\n",
       "      <td>2017-01-01 04:00:00</td>\n",
       "    </tr>\n",
       "  </tbody>\n",
       "</table>\n",
       "</div>"
      ],
      "text/plain": [
       "   Longitude  Latitude  Pressao                 Data\n",
       "0     -42.75    -14.25  1013.14  2017-01-01 00:00:00\n",
       "1     -42.75    -14.25  1013.34  2017-01-01 01:00:00\n",
       "2     -42.75    -14.25  1013.04  2017-01-01 02:00:00\n",
       "3     -42.75    -14.25  1012.92  2017-01-01 03:00:00\n",
       "4     -42.75    -14.25  1013.07  2017-01-01 04:00:00"
      ]
     },
     "execution_count": 14,
     "metadata": {},
     "output_type": "execute_result"
    }
   ],
   "source": [
    "df_pressao.head(5)"
   ]
  },
  {
   "cell_type": "code",
   "execution_count": 15,
   "id": "f34099e3-a63b-4c8b-bb1c-47d0ef323180",
   "metadata": {},
   "outputs": [
    {
     "data": {
      "text/html": [
       "<div>\n",
       "<style scoped>\n",
       "    .dataframe tbody tr th:only-of-type {\n",
       "        vertical-align: middle;\n",
       "    }\n",
       "\n",
       "    .dataframe tbody tr th {\n",
       "        vertical-align: top;\n",
       "    }\n",
       "\n",
       "    .dataframe thead th {\n",
       "        text-align: right;\n",
       "    }\n",
       "</style>\n",
       "<table border=\"1\" class=\"dataframe\">\n",
       "  <thead>\n",
       "    <tr style=\"text-align: right;\">\n",
       "      <th></th>\n",
       "      <th>Longitude</th>\n",
       "      <th>Latitude</th>\n",
       "      <th>Data</th>\n",
       "      <th>VentoC</th>\n",
       "    </tr>\n",
       "  </thead>\n",
       "  <tbody>\n",
       "    <tr>\n",
       "      <th>0</th>\n",
       "      <td>-42.75</td>\n",
       "      <td>-14.25</td>\n",
       "      <td>2017-01-01 00:00:00</td>\n",
       "      <td>9.815</td>\n",
       "    </tr>\n",
       "    <tr>\n",
       "      <th>1</th>\n",
       "      <td>-42.75</td>\n",
       "      <td>-14.25</td>\n",
       "      <td>2017-01-01 01:00:00</td>\n",
       "      <td>8.735</td>\n",
       "    </tr>\n",
       "    <tr>\n",
       "      <th>2</th>\n",
       "      <td>-42.75</td>\n",
       "      <td>-14.25</td>\n",
       "      <td>2017-01-01 02:00:00</td>\n",
       "      <td>8.454</td>\n",
       "    </tr>\n",
       "    <tr>\n",
       "      <th>3</th>\n",
       "      <td>-42.75</td>\n",
       "      <td>-14.25</td>\n",
       "      <td>2017-01-01 03:00:00</td>\n",
       "      <td>9.178</td>\n",
       "    </tr>\n",
       "    <tr>\n",
       "      <th>4</th>\n",
       "      <td>-42.75</td>\n",
       "      <td>-14.25</td>\n",
       "      <td>2017-01-01 04:00:00</td>\n",
       "      <td>9.186</td>\n",
       "    </tr>\n",
       "  </tbody>\n",
       "</table>\n",
       "</div>"
      ],
      "text/plain": [
       "   Longitude  Latitude                 Data  VentoC\n",
       "0     -42.75    -14.25  2017-01-01 00:00:00   9.815\n",
       "1     -42.75    -14.25  2017-01-01 01:00:00   8.735\n",
       "2     -42.75    -14.25  2017-01-01 02:00:00   8.454\n",
       "3     -42.75    -14.25  2017-01-01 03:00:00   9.178\n",
       "4     -42.75    -14.25  2017-01-01 04:00:00   9.186"
      ]
     },
     "execution_count": 15,
     "metadata": {},
     "output_type": "execute_result"
    }
   ],
   "source": [
    "df_ventoC.head(5)"
   ]
  },
  {
   "cell_type": "markdown",
   "id": "e9df4d99-4345-4371-8d42-37e13c037115",
   "metadata": {},
   "source": [
    "### **C) Merge dos dados**"
   ]
  },
  {
   "cell_type": "code",
   "execution_count": 16,
   "id": "9599589d-d440-4d23-9fa4-04b6bc25fa2a",
   "metadata": {},
   "outputs": [],
   "source": [
    "df_energia = pd.merge(df_vento, df_pressao, how = 'outer', on = ['Longitude','Latitude','Data'])\n",
    "df_energia = pd.merge(df_energia, df_temp,  how = 'outer', on = ['Longitude','Latitude','Data'])\n",
    "df_energia = pd.merge(df_energia, df_chuva, how = 'outer', on = ['Longitude','Latitude','Data'])\n",
    "df_energia = pd.merge(df_energia, df_ventoC, how = 'outer', on = ['Longitude','Latitude','Data'])\n"
   ]
  },
  {
   "cell_type": "code",
   "execution_count": 17,
   "id": "6323ab3b-acef-4ec3-af89-3a253c012895",
   "metadata": {},
   "outputs": [
    {
     "data": {
      "text/html": [
       "<div>\n",
       "<style scoped>\n",
       "    .dataframe tbody tr th:only-of-type {\n",
       "        vertical-align: middle;\n",
       "    }\n",
       "\n",
       "    .dataframe tbody tr th {\n",
       "        vertical-align: top;\n",
       "    }\n",
       "\n",
       "    .dataframe thead th {\n",
       "        text-align: right;\n",
       "    }\n",
       "</style>\n",
       "<table border=\"1\" class=\"dataframe\">\n",
       "  <thead>\n",
       "    <tr style=\"text-align: right;\">\n",
       "      <th></th>\n",
       "      <th>Longitude</th>\n",
       "      <th>Latitude</th>\n",
       "      <th>VentoPrevisto</th>\n",
       "      <th>Direcao</th>\n",
       "      <th>Data</th>\n",
       "      <th>Pressao</th>\n",
       "      <th>Temperatura</th>\n",
       "      <th>Chuva</th>\n",
       "      <th>VentoC</th>\n",
       "    </tr>\n",
       "  </thead>\n",
       "  <tbody>\n",
       "    <tr>\n",
       "      <th>0</th>\n",
       "      <td>-42.75</td>\n",
       "      <td>-14.25</td>\n",
       "      <td>6.82</td>\n",
       "      <td>97.36</td>\n",
       "      <td>2017-01-01 00:00:00</td>\n",
       "      <td>1013.14</td>\n",
       "      <td>25.93</td>\n",
       "      <td>0.0</td>\n",
       "      <td>9.815</td>\n",
       "    </tr>\n",
       "    <tr>\n",
       "      <th>1</th>\n",
       "      <td>-42.75</td>\n",
       "      <td>-14.25</td>\n",
       "      <td>6.91</td>\n",
       "      <td>94.65</td>\n",
       "      <td>2017-01-01 01:00:00</td>\n",
       "      <td>1013.34</td>\n",
       "      <td>25.73</td>\n",
       "      <td>0.0</td>\n",
       "      <td>8.735</td>\n",
       "    </tr>\n",
       "  </tbody>\n",
       "</table>\n",
       "</div>"
      ],
      "text/plain": [
       "   Longitude  Latitude  VentoPrevisto  Direcao                 Data  Pressao  \\\n",
       "0     -42.75    -14.25           6.82    97.36  2017-01-01 00:00:00  1013.14   \n",
       "1     -42.75    -14.25           6.91    94.65  2017-01-01 01:00:00  1013.34   \n",
       "\n",
       "   Temperatura  Chuva  VentoC  \n",
       "0        25.93    0.0   9.815  \n",
       "1        25.73    0.0   8.735  "
      ]
     },
     "execution_count": 17,
     "metadata": {},
     "output_type": "execute_result"
    }
   ],
   "source": [
    "df_energia.head(2)"
   ]
  },
  {
   "cell_type": "markdown",
   "id": "8062ddeb-237d-42fa-a4d2-148509a634a3",
   "metadata": {},
   "source": [
    "### **D) Verifica se existe valores nulos**"
   ]
  },
  {
   "cell_type": "code",
   "execution_count": 18,
   "id": "3c16ba0e-6300-453e-b4d1-53dbf0fe2017",
   "metadata": {},
   "outputs": [
    {
     "data": {
      "text/plain": [
       "Longitude        0\n",
       "Latitude         0\n",
       "VentoPrevisto    0\n",
       "Direcao          0\n",
       "Data             0\n",
       "Pressao          0\n",
       "Temperatura      0\n",
       "Chuva            0\n",
       "VentoC           0\n",
       "dtype: int64"
      ]
     },
     "execution_count": 18,
     "metadata": {},
     "output_type": "execute_result"
    }
   ],
   "source": [
    "df_energia.isnull().sum()"
   ]
  },
  {
   "cell_type": "markdown",
   "id": "7cb33c8f-5eb9-426a-b886-34e7f0fe9a75",
   "metadata": {},
   "source": [
    "### **E) Exporta Dados**"
   ]
  },
  {
   "cell_type": "code",
   "execution_count": 19,
   "id": "efaa90b6-18f8-4027-a862-02e9196c5a68",
   "metadata": {},
   "outputs": [],
   "source": [
    "output_file = '../../../../PrevisaoVento/Data/process/cenario4/dados_cenario4.csv'\n",
    "df_energia.to_csv(output_file, sep=';', encoding='utf-8')"
   ]
  },
  {
   "cell_type": "code",
   "execution_count": null,
   "id": "ccd5cca1-1e14-42f9-b139-6d53acd42942",
   "metadata": {},
   "outputs": [],
   "source": []
  }
 ],
 "metadata": {
  "kernelspec": {
   "display_name": "Python 3",
   "language": "python",
   "name": "python3"
  },
  "language_info": {
   "codemirror_mode": {
    "name": "ipython",
    "version": 3
   },
   "file_extension": ".py",
   "mimetype": "text/x-python",
   "name": "python",
   "nbconvert_exporter": "python",
   "pygments_lexer": "ipython3",
   "version": "3.7.10"
  }
 },
 "nbformat": 4,
 "nbformat_minor": 5
}
