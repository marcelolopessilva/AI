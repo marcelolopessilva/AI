{
 "cells": [
  {
   "cell_type": "code",
   "execution_count": 6,
   "id": "eb7d0d19-ccda-4e67-b305-088b8bbf3c85",
   "metadata": {},
   "outputs": [],
   "source": [
    "import numpy as np\n",
    "import pandas as pd\n",
    "from datetime import datetime,date\n",
    "\n",
    "import missingno as msno\n",
    "\n",
    "import warnings\n",
    "warnings.filterwarnings(\"ignore\")\n"
   ]
  },
  {
   "cell_type": "markdown",
   "id": "ef640074-793a-40e3-a965-80aef0959dca",
   "metadata": {},
   "source": [
    "<b>Pandas</b> é uma biblioteca de software utilizada para manipulação e análise de dados. \n",
    "<br>Em particular, oferece estruturas e operações para manipular tabelas numéricas e séries temporais.\n",
    "\n",
    "<b>Numpy</b> é uma biblioteca para a linguagem Python com funções para se trabalhar com computação numérica. <br>\n",
    "O NumPy fornece um grande conjunto de funções e operações de biblioteca que ajudam os programadores a executar facilmente cálculos numéricos\n",
    "\n",
    "<b>Datetime</b> é uma biblioteca para a linguagem Python com funções de manipular Datas.\n",
    "<br>datetime.date – Usada para representar apenas datas simples, com ano, mês e dia, sem informação de fuso horário.\n",
    "<br>datetime.datetime – Combina os valores das classes date e time em um objeto só. Cuidado para não fazer confusão com o nome do módulo, que é o mesmo da classe.\n",
    "\n",
    "<b>Missingno</b> é uma biblioteca que permite que você visualize dados nulos em seu dataset <br>\n",
    "\n",
    "<b>Warnings</b> é uma biblioteca de controle de Avisos.<br>"
   ]
  },
  {
   "cell_type": "markdown",
   "id": "bd57943b-27ea-4e7a-a0ca-49e19c6755cf",
   "metadata": {},
   "source": [
    "### **A) Definições de Funções**"
   ]
  },
  {
   "cell_type": "code",
   "execution_count": 7,
   "id": "353502f8-6d39-4722-b3e2-50809240f62c",
   "metadata": {},
   "outputs": [],
   "source": [
    "def ExtracaoAlvo(df,var_mes):\n",
    "    Linha =  df.shape[0]\n",
    "    \n",
    "    aCols = np.arange(0,df.shape[1])\n",
    "    df_alvo = pd.DataFrame(columns = aCols )\n",
    "    \n",
    "    for lin in range(Linha):   \n",
    "        if ( (df.loc[lin,0] == -42.75) and (df.loc[lin,1] == -14.25)):\n",
    "            variavel = df.values[lin,]\n",
    "            df_alvo.loc[0] = variavel\n",
    "    \n",
    "    \n",
    "    refdia = 1     \n",
    "    Linha1    =  df_alvo.shape[0] \n",
    "    Colunas1  =  df_alvo.shape[1] \n",
    "\n",
    "   \n",
    "    for lin2 in range(Linha1): \n",
    "        refhora = 0\n",
    "    \n",
    "        for col in range (Colunas1):        \n",
    "            if col > 1: \n",
    "                if col % 2 == 0: # Se o número (col) for par \n",
    "                    \n",
    "                    data = datetime(year=2017, month = var_mes, day = refdia, hour = refhora, minute=0, second=0)\n",
    "                   \n",
    "                    lin_alvo = [df_alvo.loc[0,0], df_alvo.loc[0,1] , df_alvo.loc[0,col] ,df_alvo.loc[0,(col+1)], data] \n",
    "                \n",
    "                    df_result_vento.loc[len(df_result_vento)] = lin_alvo  # adding a row\n",
    "                \n",
    "                    refhora = refhora + 1\n",
    "                \n",
    "                    if refhora == 24:                    \n",
    "                        refdia = refdia + 1\n",
    "                        refhora = 0\n",
    "    variavel = \"ok\"\n",
    "    return variavel\n",
    "    "
   ]
  },
  {
   "cell_type": "markdown",
   "id": "e3ed573f-ab98-4c84-9438-80babe04b440",
   "metadata": {},
   "source": [
    "### **B) Configuração de Dataframe Resultado**"
   ]
  },
  {
   "cell_type": "code",
   "execution_count": 8,
   "id": "fb215e9a-054e-453d-9526-de152bdd12ad",
   "metadata": {},
   "outputs": [],
   "source": [
    "frente = ['Longitude', 'Latitude', 'VentoPrevisto','Direcao', 'Data']  # Cabeçalho\n",
    "df_result_vento = pd.DataFrame(columns=frente)  # Criação de um dataframe vazio\n"
   ]
  },
  {
   "cell_type": "markdown",
   "id": "d4de6591-f4da-4527-8263-f74933fa9424",
   "metadata": {},
   "source": [
    "### **C) Coleta dos Dados de Vento ECMWF**"
   ]
  },
  {
   "cell_type": "code",
   "execution_count": 9,
   "id": "ce4ae9a9-fde5-4f5f-8cd6-1dfbbaa3f0c5",
   "metadata": {},
   "outputs": [],
   "source": [
    "mes = 1\n",
    "\n",
    "for i in range(12):\n",
    "    if i < 9:\n",
    "        source_file = '../../../../PrevisaoVento/Data/raw/vento/vNE_2017_0' + str(mes) + '_100m.txt'\n",
    "        # print(source_file)           \n",
    "        df_vento = pd.read_csv(source_file, delimiter = r\"\\s+\", header=None)\n",
    "        a = ExtracaoAlvo(df_vento,mes)\n",
    "        # print(a)\n",
    "        \n",
    "    else:\n",
    "        source_file = '../../../../PrevisaoVento/Data/raw/vento/vNE_2017_' + str(mes) + '_100m.txt'\n",
    "        # print(source_file)       \n",
    "        df_vento = pd.read_csv(source_file, delimiter = r\"\\s+\", header=None)  \n",
    "        \n",
    "        a = ExtracaoAlvo(df_vento,mes)\n",
    "        # print(a)\n",
    "    \n",
    "    \n",
    "    mes = mes + 1\n",
    "\n",
    "\n"
   ]
  },
  {
   "cell_type": "markdown",
   "id": "7406dd16-6e98-4c80-94f9-8a77ea0dad31",
   "metadata": {},
   "source": [
    "### **D) Sobre os Dados**"
   ]
  },
  {
   "cell_type": "markdown",
   "id": "d61b8d42-ad01-4f6a-a24c-6d8efd005b3c",
   "metadata": {},
   "source": [
    "#### <span style=\"color:#DC143C\">**D1. Formato dos Dados**"
   ]
  },
  {
   "cell_type": "code",
   "execution_count": 10,
   "id": "d9e89057-e5a1-486a-9b10-97ca67927271",
   "metadata": {},
   "outputs": [
    {
     "data": {
      "text/plain": [
       "(8760, 5)"
      ]
     },
     "execution_count": 10,
     "metadata": {},
     "output_type": "execute_result"
    }
   ],
   "source": [
    "df_result_vento.shape # formato da matriz"
   ]
  },
  {
   "cell_type": "markdown",
   "id": "9d24ab44-4f41-4132-84db-1977047f5cad",
   "metadata": {},
   "source": [
    "#### <span style=\"color:#DC143C\">**D2. Visao do Dataframe**"
   ]
  },
  {
   "cell_type": "code",
   "execution_count": 11,
   "id": "264c2fda-4d8e-4114-8641-6fb08f2df705",
   "metadata": {},
   "outputs": [
    {
     "data": {
      "text/html": [
       "<div>\n",
       "<style scoped>\n",
       "    .dataframe tbody tr th:only-of-type {\n",
       "        vertical-align: middle;\n",
       "    }\n",
       "\n",
       "    .dataframe tbody tr th {\n",
       "        vertical-align: top;\n",
       "    }\n",
       "\n",
       "    .dataframe thead th {\n",
       "        text-align: right;\n",
       "    }\n",
       "</style>\n",
       "<table border=\"1\" class=\"dataframe\">\n",
       "  <thead>\n",
       "    <tr style=\"text-align: right;\">\n",
       "      <th></th>\n",
       "      <th>Longitude</th>\n",
       "      <th>Latitude</th>\n",
       "      <th>VentoPrevisto</th>\n",
       "      <th>Direcao</th>\n",
       "      <th>Data</th>\n",
       "    </tr>\n",
       "  </thead>\n",
       "  <tbody>\n",
       "    <tr>\n",
       "      <th>0</th>\n",
       "      <td>-42.75</td>\n",
       "      <td>-14.25</td>\n",
       "      <td>6.82</td>\n",
       "      <td>97.36</td>\n",
       "      <td>2017-01-01 00:00:00</td>\n",
       "    </tr>\n",
       "    <tr>\n",
       "      <th>1</th>\n",
       "      <td>-42.75</td>\n",
       "      <td>-14.25</td>\n",
       "      <td>6.91</td>\n",
       "      <td>94.65</td>\n",
       "      <td>2017-01-01 01:00:00</td>\n",
       "    </tr>\n",
       "    <tr>\n",
       "      <th>2</th>\n",
       "      <td>-42.75</td>\n",
       "      <td>-14.25</td>\n",
       "      <td>7.27</td>\n",
       "      <td>92.98</td>\n",
       "      <td>2017-01-01 02:00:00</td>\n",
       "    </tr>\n",
       "    <tr>\n",
       "      <th>3</th>\n",
       "      <td>-42.75</td>\n",
       "      <td>-14.25</td>\n",
       "      <td>7.83</td>\n",
       "      <td>93.62</td>\n",
       "      <td>2017-01-01 03:00:00</td>\n",
       "    </tr>\n",
       "    <tr>\n",
       "      <th>4</th>\n",
       "      <td>-42.75</td>\n",
       "      <td>-14.25</td>\n",
       "      <td>7.81</td>\n",
       "      <td>96.33</td>\n",
       "      <td>2017-01-01 04:00:00</td>\n",
       "    </tr>\n",
       "  </tbody>\n",
       "</table>\n",
       "</div>"
      ],
      "text/plain": [
       "   Longitude  Latitude  VentoPrevisto  Direcao                Data\n",
       "0     -42.75    -14.25           6.82    97.36 2017-01-01 00:00:00\n",
       "1     -42.75    -14.25           6.91    94.65 2017-01-01 01:00:00\n",
       "2     -42.75    -14.25           7.27    92.98 2017-01-01 02:00:00\n",
       "3     -42.75    -14.25           7.83    93.62 2017-01-01 03:00:00\n",
       "4     -42.75    -14.25           7.81    96.33 2017-01-01 04:00:00"
      ]
     },
     "execution_count": 11,
     "metadata": {},
     "output_type": "execute_result"
    }
   ],
   "source": [
    "df_result_vento.head(5)  # visão de 5 linhas"
   ]
  },
  {
   "cell_type": "markdown",
   "id": "b087d67d-1f53-42ea-980c-ab126f9a15c1",
   "metadata": {},
   "source": [
    "#### <span style=\"color:#DC143C\">**D3. Nome das Colunas do Cabeçalho**"
   ]
  },
  {
   "cell_type": "code",
   "execution_count": 12,
   "id": "6e389d77-03fb-4563-8ebc-013e26135ae8",
   "metadata": {},
   "outputs": [
    {
     "data": {
      "text/plain": [
       "Index(['Longitude', 'Latitude', 'VentoPrevisto', 'Direcao', 'Data'], dtype='object')"
      ]
     },
     "execution_count": 12,
     "metadata": {},
     "output_type": "execute_result"
    }
   ],
   "source": [
    "# Lista o nome das Colunas\n",
    "df_result_vento.columns "
   ]
  },
  {
   "cell_type": "markdown",
   "id": "670b9a20-afd0-479c-837a-d9695e24184d",
   "metadata": {},
   "source": [
    "#### <span style=\"color:#DC143C\">**D4. Conteúdo de 1 Linha**"
   ]
  },
  {
   "cell_type": "code",
   "execution_count": 13,
   "id": "52f0dd86-e2d6-4cdd-9617-62fdcd89f03f",
   "metadata": {},
   "outputs": [
    {
     "data": {
      "text/plain": [
       "array([[-42.75, -14.25, 6.82, 97.36, Timestamp('2017-01-01 00:00:00')]],\n",
       "      dtype=object)"
      ]
     },
     "execution_count": 13,
     "metadata": {},
     "output_type": "execute_result"
    }
   ],
   "source": [
    "df_result_vento.values[0:1]"
   ]
  },
  {
   "cell_type": "markdown",
   "id": "2e7f15a1-c757-4534-9dad-38f273a11eb1",
   "metadata": {},
   "source": [
    "#### <span style=\"color:#DC143C\">**D5. Informações Sobre o Dataframe**"
   ]
  },
  {
   "cell_type": "code",
   "execution_count": 14,
   "id": "ab5785db-5827-44fd-964a-fdf9a253d610",
   "metadata": {},
   "outputs": [
    {
     "name": "stdout",
     "output_type": "stream",
     "text": [
      "<class 'pandas.core.frame.DataFrame'>\n",
      "Int64Index: 8760 entries, 0 to 8759\n",
      "Data columns (total 5 columns):\n",
      " #   Column         Non-Null Count  Dtype         \n",
      "---  ------         --------------  -----         \n",
      " 0   Longitude      8760 non-null   float64       \n",
      " 1   Latitude       8760 non-null   float64       \n",
      " 2   VentoPrevisto  8760 non-null   float64       \n",
      " 3   Direcao        8760 non-null   float64       \n",
      " 4   Data           8760 non-null   datetime64[ns]\n",
      "dtypes: datetime64[ns](1), float64(4)\n",
      "memory usage: 410.6 KB\n"
     ]
    }
   ],
   "source": [
    "df_result_vento.info()"
   ]
  },
  {
   "cell_type": "code",
   "execution_count": 15,
   "id": "f257e318-e632-4fdc-9ea9-508b30c10d14",
   "metadata": {},
   "outputs": [
    {
     "data": {
      "text/html": [
       "<div>\n",
       "<style scoped>\n",
       "    .dataframe tbody tr th:only-of-type {\n",
       "        vertical-align: middle;\n",
       "    }\n",
       "\n",
       "    .dataframe tbody tr th {\n",
       "        vertical-align: top;\n",
       "    }\n",
       "\n",
       "    .dataframe thead th {\n",
       "        text-align: right;\n",
       "    }\n",
       "</style>\n",
       "<table border=\"1\" class=\"dataframe\">\n",
       "  <thead>\n",
       "    <tr style=\"text-align: right;\">\n",
       "      <th></th>\n",
       "      <th>Longitude</th>\n",
       "      <th>Latitude</th>\n",
       "      <th>VentoPrevisto</th>\n",
       "      <th>Direcao</th>\n",
       "    </tr>\n",
       "  </thead>\n",
       "  <tbody>\n",
       "    <tr>\n",
       "      <th>count</th>\n",
       "      <td>8760.00</td>\n",
       "      <td>8760.00</td>\n",
       "      <td>8760.000000</td>\n",
       "      <td>8760.000000</td>\n",
       "    </tr>\n",
       "    <tr>\n",
       "      <th>mean</th>\n",
       "      <td>-42.75</td>\n",
       "      <td>-14.25</td>\n",
       "      <td>5.770258</td>\n",
       "      <td>106.347856</td>\n",
       "    </tr>\n",
       "    <tr>\n",
       "      <th>std</th>\n",
       "      <td>0.00</td>\n",
       "      <td>0.00</td>\n",
       "      <td>2.179253</td>\n",
       "      <td>45.607228</td>\n",
       "    </tr>\n",
       "    <tr>\n",
       "      <th>min</th>\n",
       "      <td>-42.75</td>\n",
       "      <td>-14.25</td>\n",
       "      <td>0.020000</td>\n",
       "      <td>0.710000</td>\n",
       "    </tr>\n",
       "    <tr>\n",
       "      <th>25%</th>\n",
       "      <td>-42.75</td>\n",
       "      <td>-14.25</td>\n",
       "      <td>4.290000</td>\n",
       "      <td>90.807500</td>\n",
       "    </tr>\n",
       "    <tr>\n",
       "      <th>50%</th>\n",
       "      <td>-42.75</td>\n",
       "      <td>-14.25</td>\n",
       "      <td>6.130000</td>\n",
       "      <td>96.795000</td>\n",
       "    </tr>\n",
       "    <tr>\n",
       "      <th>75%</th>\n",
       "      <td>-42.75</td>\n",
       "      <td>-14.25</td>\n",
       "      <td>7.440000</td>\n",
       "      <td>105.610000</td>\n",
       "    </tr>\n",
       "    <tr>\n",
       "      <th>max</th>\n",
       "      <td>-42.75</td>\n",
       "      <td>-14.25</td>\n",
       "      <td>11.880000</td>\n",
       "      <td>358.120000</td>\n",
       "    </tr>\n",
       "  </tbody>\n",
       "</table>\n",
       "</div>"
      ],
      "text/plain": [
       "       Longitude  Latitude  VentoPrevisto      Direcao\n",
       "count    8760.00   8760.00    8760.000000  8760.000000\n",
       "mean      -42.75    -14.25       5.770258   106.347856\n",
       "std         0.00      0.00       2.179253    45.607228\n",
       "min       -42.75    -14.25       0.020000     0.710000\n",
       "25%       -42.75    -14.25       4.290000    90.807500\n",
       "50%       -42.75    -14.25       6.130000    96.795000\n",
       "75%       -42.75    -14.25       7.440000   105.610000\n",
       "max       -42.75    -14.25      11.880000   358.120000"
      ]
     },
     "execution_count": 15,
     "metadata": {},
     "output_type": "execute_result"
    }
   ],
   "source": [
    "# Descreve apenas colunas \"Numericas\"\n",
    "df_result_vento.describe(include=[np.number])"
   ]
  },
  {
   "cell_type": "markdown",
   "id": "67ccd1ef-6fa3-4507-aceb-fbbc40bddf8b",
   "metadata": {},
   "source": [
    "### **E) Análise sobre os Dados**"
   ]
  },
  {
   "cell_type": "markdown",
   "id": "7462dcdc-daa0-4cad-a944-a264ce575254",
   "metadata": {},
   "source": [
    "#### <span style=\"color:#DC143C\">**E1. Quantidade de valores não nulos**"
   ]
  },
  {
   "cell_type": "code",
   "execution_count": 16,
   "id": "ef87a932-b74b-48fe-b151-a8ec29013fef",
   "metadata": {},
   "outputs": [
    {
     "data": {
      "text/plain": [
       "Longitude        8760\n",
       "Latitude         8760\n",
       "VentoPrevisto    8760\n",
       "Direcao          8760\n",
       "Data             8760\n",
       "dtype: int64"
      ]
     },
     "execution_count": 16,
     "metadata": {},
     "output_type": "execute_result"
    }
   ],
   "source": [
    "df_result_vento.count()"
   ]
  },
  {
   "cell_type": "markdown",
   "id": "16805d59-b316-4e69-a0c5-7a18ed97b6a4",
   "metadata": {},
   "source": [
    "#### <span style=\"color:#DC143C\">**E2. Quantidade de valores NULOS**"
   ]
  },
  {
   "cell_type": "markdown",
   "id": "3fe08f32-0f4b-446f-a6fa-50b6b7c7f8a4",
   "metadata": {},
   "source": [
    "<p>Exemplo:<br> \n",
    "<b>rain.isnull()</b>  # O conteúdo da campo onde está NULL recebe o valor FALSE, senão TRUE <br>\n",
    "<b>rain.isnull().sum()</b>  # Totaliza os conteudos não NULL por coluna"
   ]
  },
  {
   "cell_type": "code",
   "execution_count": 17,
   "id": "8cf14de2-0e35-4194-8d40-010a26193ee4",
   "metadata": {},
   "outputs": [
    {
     "data": {
      "text/plain": [
       "Longitude        0\n",
       "Latitude         0\n",
       "VentoPrevisto    0\n",
       "Direcao          0\n",
       "Data             0\n",
       "dtype: int64"
      ]
     },
     "execution_count": 17,
     "metadata": {},
     "output_type": "execute_result"
    }
   ],
   "source": [
    "df_result_vento.isnull().sum()"
   ]
  },
  {
   "cell_type": "code",
   "execution_count": 18,
   "id": "860f73a0-be75-479c-80d8-b3c53d19fa1c",
   "metadata": {},
   "outputs": [
    {
     "data": {
      "text/plain": [
       "Longitude        0\n",
       "Latitude         0\n",
       "VentoPrevisto    0\n",
       "Direcao          0\n",
       "Data             0\n",
       "dtype: int64"
      ]
     },
     "execution_count": 18,
     "metadata": {},
     "output_type": "execute_result"
    }
   ],
   "source": [
    "df_result_vento.isnull().sum().sort_values(ascending=False)[:100]"
   ]
  },
  {
   "cell_type": "markdown",
   "id": "030c1b9a-de76-492a-8448-0a192b0448d5",
   "metadata": {},
   "source": [
    "#### <span style=\"color:#DC143C\"> **E3. Visualização de Dados Faltantes - Via Matriz**"
   ]
  },
  {
   "cell_type": "markdown",
   "id": "f4130675-83b3-4f6b-bfc1-b11183e59c6c",
   "metadata": {},
   "source": [
    "O gráfico de matriz é uma ótima ferramenta se você estiver trabalhando com dados relacionados à profundidade ou dados de série temporal. <br>\n",
    "Ele fornece um preenchimento de cor para cada coluna. Quando os dados estão presentes, o gráfico é sombreado em cinza (ou a cor de sua escolha) e, quando está ausente, o gráfico é exibido em branco.\n",
    "<p>\n",
    "O gráfico de matriz pode ser gerado chamando: <b>msno.matrix(df)</b>\n",
    "<p>\n",
    "No lado direito do gráfico está um minigráfico que varia de 0 à esquerda ao número total de colunas no dataframe à direita. <br>\n",
    "Um close pode ser visto acima. Quando uma linha tem um valor em cada coluna, a linha estará na posição máxima certa. <br>\n",
    "Conforme os valores ausentes começam a aumentar dentro dessa linha, a linha se moverá para a esquerda."
   ]
  },
  {
   "cell_type": "code",
   "execution_count": 19,
   "id": "1fedad8f-e7e3-46e9-bba6-04271686458b",
   "metadata": {},
   "outputs": [
    {
     "data": {
      "text/plain": [
       "<AxesSubplot:>"
      ]
     },
     "execution_count": 19,
     "metadata": {},
     "output_type": "execute_result"
    },
    {
     "data": {
      "image/png": "[encoded data removed]",
      "text/plain": [
       "<Figure size 1800x720 with 2 Axes>"
      ]
     },
     "metadata": {
      "needs_background": "light"
     },
     "output_type": "display_data"
    }
   ],
   "source": [
    "msno.matrix(df_result_vento)"
   ]
  },
  {
   "cell_type": "markdown",
   "id": "0196292f-3283-4723-ba9b-0eb6170e5135",
   "metadata": {},
   "source": [
    "### **F. Exporta Resultados**"
   ]
  },
  {
   "cell_type": "code",
   "execution_count": 21,
   "id": "290913b3-a5f3-445b-9e87-8b63c2a7c5b5",
   "metadata": {},
   "outputs": [],
   "source": [
    "output_file = '../../../../PrevisaoVento/Data/process/cenario1/vento_previsto.csv'\n",
    "df_result_vento.to_csv(output_file, sep=';', encoding='utf-8')"
   ]
  }
 ],
 "metadata": {
  "kernelspec": {
   "display_name": "Python 3",
   "language": "python",
   "name": "python3"
  },
  "language_info": {
   "codemirror_mode": {
    "name": "ipython",
    "version": 3
   },
   "file_extension": ".py",
   "mimetype": "text/x-python",
   "name": "python",
   "nbconvert_exporter": "python",
   "pygments_lexer": "ipython3",
   "version": "3.7.10"
  }
 },
 "nbformat": 4,
 "nbformat_minor": 5
}
