{
 "cells": [
  {
   "cell_type": "code",
   "execution_count": 1,
   "id": "eb7d0d19-ccda-4e67-b305-088b8bbf3c85",
   "metadata": {},
   "outputs": [],
   "source": [
    "import numpy as np\n",
    "import pandas as pd\n",
    "from datetime import datetime,date,time\n",
    "from dateutil.relativedelta import relativedelta\n",
    "\n",
    "import missingno as msno\n"
   ]
  },
  {
   "cell_type": "markdown",
   "id": "d4de6591-f4da-4527-8263-f74933fa9424",
   "metadata": {},
   "source": [
    "### **A) Coleta dos Dados de Vento Verificado no Patio 1**"
   ]
  },
  {
   "cell_type": "code",
   "execution_count": 2,
   "id": "ce4ae9a9-fde5-4f5f-8cd6-1dfbbaa3f0c5",
   "metadata": {},
   "outputs": [],
   "source": [
    "source_file = '../../Data/raw/eolica/01_patio_BAUET3_CAETITÉ_3_Ven_Verif_Consis.txt'"
   ]
  },
  {
   "cell_type": "code",
   "execution_count": 3,
   "id": "f3ba86b3-1f9e-4435-8ddc-c3fb18fb3940",
   "metadata": {},
   "outputs": [],
   "source": [
    "dfvento_consit = pd.read_csv(source_file, delimiter = ';' , header=None )"
   ]
  },
  {
   "cell_type": "markdown",
   "id": "533e1214-19b9-470f-8d35-9b5cedd6736d",
   "metadata": {},
   "source": [
    "### **B) Sobre os Dados no Patio 1**"
   ]
  },
  {
   "cell_type": "markdown",
   "id": "7e7cf551-72c8-477b-8984-53dd2ca27235",
   "metadata": {},
   "source": [
    "#### <span style=\"color:#DC143C\">**A1.Formato dos Dados**"
   ]
  },
  {
   "cell_type": "code",
   "execution_count": 4,
   "id": "05e5dc6d-2f12-4267-8f14-bd7028017935",
   "metadata": {},
   "outputs": [
    {
     "data": {
      "text/plain": [
       "(3153, 49)"
      ]
     },
     "execution_count": 4,
     "metadata": {},
     "output_type": "execute_result"
    }
   ],
   "source": [
    "dfvento_consit.shape # formato da matriz"
   ]
  },
  {
   "cell_type": "markdown",
   "id": "9d24ab44-4f41-4132-84db-1977047f5cad",
   "metadata": {},
   "source": [
    "#### <span style=\"color:#DC143C\">**A2.Visao do Dataframe**"
   ]
  },
  {
   "cell_type": "code",
   "execution_count": 5,
   "id": "264c2fda-4d8e-4114-8641-6fb08f2df705",
   "metadata": {},
   "outputs": [
    {
     "data": {
      "text/html": [
       "<div>\n",
       "<style scoped>\n",
       "    .dataframe tbody tr th:only-of-type {\n",
       "        vertical-align: middle;\n",
       "    }\n",
       "\n",
       "    .dataframe tbody tr th {\n",
       "        vertical-align: top;\n",
       "    }\n",
       "\n",
       "    .dataframe thead th {\n",
       "        text-align: right;\n",
       "    }\n",
       "</style>\n",
       "<table border=\"1\" class=\"dataframe\">\n",
       "  <thead>\n",
       "    <tr style=\"text-align: right;\">\n",
       "      <th></th>\n",
       "      <th>0</th>\n",
       "      <th>1</th>\n",
       "      <th>2</th>\n",
       "      <th>3</th>\n",
       "      <th>4</th>\n",
       "      <th>5</th>\n",
       "      <th>6</th>\n",
       "      <th>7</th>\n",
       "      <th>8</th>\n",
       "      <th>9</th>\n",
       "      <th>...</th>\n",
       "      <th>39</th>\n",
       "      <th>40</th>\n",
       "      <th>41</th>\n",
       "      <th>42</th>\n",
       "      <th>43</th>\n",
       "      <th>44</th>\n",
       "      <th>45</th>\n",
       "      <th>46</th>\n",
       "      <th>47</th>\n",
       "      <th>48</th>\n",
       "    </tr>\n",
       "  </thead>\n",
       "  <tbody>\n",
       "    <tr>\n",
       "      <th>0</th>\n",
       "      <td>20120101</td>\n",
       "      <td>999.0</td>\n",
       "      <td>999.0</td>\n",
       "      <td>999.0</td>\n",
       "      <td>999.0</td>\n",
       "      <td>999.0</td>\n",
       "      <td>999.0</td>\n",
       "      <td>999.0</td>\n",
       "      <td>999.0</td>\n",
       "      <td>999.0</td>\n",
       "      <td>...</td>\n",
       "      <td>999.0</td>\n",
       "      <td>999.0</td>\n",
       "      <td>999.0</td>\n",
       "      <td>999.0</td>\n",
       "      <td>999.0</td>\n",
       "      <td>999.0</td>\n",
       "      <td>999.0</td>\n",
       "      <td>999.0</td>\n",
       "      <td>999.0</td>\n",
       "      <td>999.0</td>\n",
       "    </tr>\n",
       "    <tr>\n",
       "      <th>1</th>\n",
       "      <td>20120102</td>\n",
       "      <td>999.0</td>\n",
       "      <td>999.0</td>\n",
       "      <td>999.0</td>\n",
       "      <td>999.0</td>\n",
       "      <td>999.0</td>\n",
       "      <td>999.0</td>\n",
       "      <td>999.0</td>\n",
       "      <td>999.0</td>\n",
       "      <td>999.0</td>\n",
       "      <td>...</td>\n",
       "      <td>999.0</td>\n",
       "      <td>999.0</td>\n",
       "      <td>999.0</td>\n",
       "      <td>999.0</td>\n",
       "      <td>999.0</td>\n",
       "      <td>999.0</td>\n",
       "      <td>999.0</td>\n",
       "      <td>999.0</td>\n",
       "      <td>999.0</td>\n",
       "      <td>999.0</td>\n",
       "    </tr>\n",
       "  </tbody>\n",
       "</table>\n",
       "<p>2 rows × 49 columns</p>\n",
       "</div>"
      ],
      "text/plain": [
       "         0      1      2      3      4      5      6      7      8      9   \\\n",
       "0  20120101  999.0  999.0  999.0  999.0  999.0  999.0  999.0  999.0  999.0   \n",
       "1  20120102  999.0  999.0  999.0  999.0  999.0  999.0  999.0  999.0  999.0   \n",
       "\n",
       "   ...     39     40     41     42     43     44     45     46     47     48  \n",
       "0  ...  999.0  999.0  999.0  999.0  999.0  999.0  999.0  999.0  999.0  999.0  \n",
       "1  ...  999.0  999.0  999.0  999.0  999.0  999.0  999.0  999.0  999.0  999.0  \n",
       "\n",
       "[2 rows x 49 columns]"
      ]
     },
     "execution_count": 5,
     "metadata": {},
     "output_type": "execute_result"
    }
   ],
   "source": [
    "dfvento_consit.head(2)  # visão de 5 linhas"
   ]
  },
  {
   "cell_type": "markdown",
   "id": "5946208f-3f8e-42e8-87cf-5673729dcee3",
   "metadata": {},
   "source": [
    "### **C) Extração os Dados de 2017**"
   ]
  },
  {
   "cell_type": "markdown",
   "id": "03d6e54e-5dcc-4494-924a-26cf0c51a58b",
   "metadata": {},
   "source": [
    "#### <span style=\"color:#DC143C\"> **C1. Converter a primeira coluna em Data**"
   ]
  },
  {
   "cell_type": "code",
   "execution_count": 6,
   "id": "36ce0d92-bec5-4138-b9c0-719f3c3b4def",
   "metadata": {},
   "outputs": [],
   "source": [
    "dfvento_consit[0]= pd.to_datetime(dfvento_consit[0], format='%Y%m%d')"
   ]
  },
  {
   "cell_type": "markdown",
   "id": "953cb4d9-d22f-487c-9fad-9f7e6879bfa9",
   "metadata": {},
   "source": [
    "#### <span style=\"color:#DC143C\"> **C2. Extração ....**"
   ]
  },
  {
   "cell_type": "code",
   "execution_count": 7,
   "id": "d38cb823-c634-4b55-bcd9-c15175c10b21",
   "metadata": {},
   "outputs": [],
   "source": [
    "Linha  =  dfvento_consit.shape[0]\n",
    "Coluna =  dfvento_consit.shape[1]\n",
    "\n",
    "aCols = np.arange(0,Coluna) \n",
    "df_alvo = pd.DataFrame(columns = aCols )\n",
    "\n",
    "data1 = datetime(2017, 1, 1)\n",
    "data12 = datetime(2017, 12, 31)\n",
    "\n",
    "for lin in range(Linha): \n",
    "    \n",
    "    # 01-01-2027  \n",
    "    if ( dfvento_consit.loc[lin,0] == data1 ): \n",
    "       \n",
    "        variavel = dfvento_consit.values[lin,]        \n",
    "        df_alvo.loc[len(df_alvo)] = variavel\n",
    "\n",
    "        umDia = relativedelta(days=+1)\n",
    "        data1 = data1 + umDia   \n",
    "        \n",
    "    # 31-12-2027    \n",
    "    if ( dfvento_consit.loc[lin,0] == data12 ): \n",
    "        umDia = relativedelta(days=+2500)\n",
    "        data1 = data1 + umDia \n",
    "                     \n",
    "        \n",
    "df_alvo['longitude'] = -42.75\n",
    "df_alvo['latitude']  = -14.25"
   ]
  },
  {
   "cell_type": "code",
   "execution_count": 8,
   "id": "7a636996-b57d-4214-a5a9-1476430e1592",
   "metadata": {},
   "outputs": [],
   "source": [
    "# df_alvo.head(5)"
   ]
  },
  {
   "cell_type": "markdown",
   "id": "7dfa1070-bfd2-48f7-8eca-05781ea70aca",
   "metadata": {},
   "source": [
    "#### <span style=\"color:#DC143C\"> **C4. Mudar a ordem das colunas**"
   ]
  },
  {
   "cell_type": "code",
   "execution_count": 9,
   "id": "b087a446-c9f0-4700-a9cd-3396dc111438",
   "metadata": {},
   "outputs": [],
   "source": [
    "cols = list(df_alvo)\n",
    "cols = [cols[-1]] + cols[:-1]\n",
    "df_alvo = df_alvo[cols]\n",
    "\n",
    "cols = list(df_alvo)\n",
    "cols = [cols[-1]] + cols[:-1]\n",
    "df_alvo = df_alvo[cols]\n",
    "\n",
    "# df_alvo.head(2)"
   ]
  },
  {
   "cell_type": "markdown",
   "id": "8d44ac71-093e-4f6a-9ca2-39b1fa170281",
   "metadata": {},
   "source": [
    "### **D) Formatação dos Dados**"
   ]
  },
  {
   "cell_type": "markdown",
   "id": "9b4d87e8-3b0e-48ad-b8a6-52dabb0b2e1b",
   "metadata": {},
   "source": [
    "#### <span style=\"color:#DC143C\"> **D1. Migrar os dados para o Formato**"
   ]
  },
  {
   "cell_type": "code",
   "execution_count": 10,
   "id": "b703eead-99a7-457d-9566-b951ac2ed89e",
   "metadata": {},
   "outputs": [],
   "source": [
    "frente = ['Longitude', 'Latitude', 'Data', 'Valor30_1', 'Valor30_2']  # Cabeçalho\n",
    "df_result_vento_verif = pd.DataFrame(columns=frente)  # Criação de um dataframe vazio\n",
    "    \n",
    "Linha1    =  df_alvo.shape[0] \n",
    "Colunas1  =  df_alvo.shape[1] \n",
    "\n",
    "for lin2 in range(Linha1):  \n",
    "    refhora = 0\n",
    "    \n",
    "    for col in range (Colunas1):        \n",
    "        if col > 0:            \n",
    "        \n",
    "            if col % 2 != 0: # Se o número (col) for impar                   \n",
    "               \n",
    "                if col < 49:\n",
    "                    Data = df_alvo.loc[lin2,0]\n",
    "                    hora = time(hour=refhora, minute=0, second=0)            \n",
    "                    dataCompleta = datetime.combine(Data, hora)\n",
    "                \n",
    "                    lin_alvo = [df_alvo.loc[lin2,'longitude'], df_alvo.loc[lin2,'latitude'], dataCompleta , df_alvo.loc[lin2,col], df_alvo.loc[lin2,col+1]] \n",
    "                  \n",
    "                    df_result_vento_verif.loc[len(df_result_vento_verif)] = lin_alvo  # adding a row\n",
    "                        \n",
    "                refhora = refhora + 1          \n",
    "                \n"
   ]
  },
  {
   "cell_type": "markdown",
   "id": "54c12bdc-f682-42fe-b85c-e9d745e24484",
   "metadata": {},
   "source": [
    "#### <span style=\"color:#DC143C\"> **D2. Agregar Magnitude para 1H**"
   ]
  },
  {
   "cell_type": "code",
   "execution_count": 11,
   "id": "66128703-692b-465f-badc-c4ebeb67fc44",
   "metadata": {},
   "outputs": [],
   "source": [
    "df_result_vento_verif['Magnitude_Verif'] = (df_result_vento_verif['Valor30_1'] + df_result_vento_verif['Valor30_2']) / 2"
   ]
  },
  {
   "cell_type": "code",
   "execution_count": 12,
   "id": "da31ee8d-2feb-47cd-bff4-ec5090fe7313",
   "metadata": {},
   "outputs": [
    {
     "data": {
      "text/html": [
       "<div>\n",
       "<style scoped>\n",
       "    .dataframe tbody tr th:only-of-type {\n",
       "        vertical-align: middle;\n",
       "    }\n",
       "\n",
       "    .dataframe tbody tr th {\n",
       "        vertical-align: top;\n",
       "    }\n",
       "\n",
       "    .dataframe thead th {\n",
       "        text-align: right;\n",
       "    }\n",
       "</style>\n",
       "<table border=\"1\" class=\"dataframe\">\n",
       "  <thead>\n",
       "    <tr style=\"text-align: right;\">\n",
       "      <th></th>\n",
       "      <th>Longitude</th>\n",
       "      <th>Latitude</th>\n",
       "      <th>Data</th>\n",
       "      <th>Valor30_1</th>\n",
       "      <th>Valor30_2</th>\n",
       "      <th>Magnitude_Verif</th>\n",
       "    </tr>\n",
       "  </thead>\n",
       "  <tbody>\n",
       "    <tr>\n",
       "      <th>0</th>\n",
       "      <td>-42.75</td>\n",
       "      <td>-14.25</td>\n",
       "      <td>2017-01-01 00:00:00</td>\n",
       "      <td>9.710</td>\n",
       "      <td>9.920</td>\n",
       "      <td>9.815</td>\n",
       "    </tr>\n",
       "    <tr>\n",
       "      <th>1</th>\n",
       "      <td>-42.75</td>\n",
       "      <td>-14.25</td>\n",
       "      <td>2017-01-01 01:00:00</td>\n",
       "      <td>9.048</td>\n",
       "      <td>8.422</td>\n",
       "      <td>8.735</td>\n",
       "    </tr>\n",
       "  </tbody>\n",
       "</table>\n",
       "</div>"
      ],
      "text/plain": [
       "   Longitude  Latitude                Data  Valor30_1  Valor30_2  \\\n",
       "0     -42.75    -14.25 2017-01-01 00:00:00      9.710      9.920   \n",
       "1     -42.75    -14.25 2017-01-01 01:00:00      9.048      8.422   \n",
       "\n",
       "   Magnitude_Verif  \n",
       "0            9.815  \n",
       "1            8.735  "
      ]
     },
     "execution_count": 12,
     "metadata": {},
     "output_type": "execute_result"
    }
   ],
   "source": [
    "df_result_vento_verif.head(2)"
   ]
  },
  {
   "cell_type": "code",
   "execution_count": 13,
   "id": "e0216b72-8e85-4473-b40d-0c0380e90f7f",
   "metadata": {},
   "outputs": [],
   "source": [
    "df_result_vento_verif = df_result_vento_verif.drop('Valor30_1', 1)\n",
    "df_result_vento_verif = df_result_vento_verif.drop('Valor30_2', 1)"
   ]
  },
  {
   "cell_type": "code",
   "execution_count": 14,
   "id": "12c383d8-474e-47ba-a7f8-9001475fbb52",
   "metadata": {},
   "outputs": [
    {
     "data": {
      "text/html": [
       "<div>\n",
       "<style scoped>\n",
       "    .dataframe tbody tr th:only-of-type {\n",
       "        vertical-align: middle;\n",
       "    }\n",
       "\n",
       "    .dataframe tbody tr th {\n",
       "        vertical-align: top;\n",
       "    }\n",
       "\n",
       "    .dataframe thead th {\n",
       "        text-align: right;\n",
       "    }\n",
       "</style>\n",
       "<table border=\"1\" class=\"dataframe\">\n",
       "  <thead>\n",
       "    <tr style=\"text-align: right;\">\n",
       "      <th></th>\n",
       "      <th>Longitude</th>\n",
       "      <th>Latitude</th>\n",
       "      <th>Data</th>\n",
       "      <th>Magnitude_Verif</th>\n",
       "    </tr>\n",
       "  </thead>\n",
       "  <tbody>\n",
       "    <tr>\n",
       "      <th>0</th>\n",
       "      <td>-42.75</td>\n",
       "      <td>-14.25</td>\n",
       "      <td>2017-01-01 00:00:00</td>\n",
       "      <td>9.815</td>\n",
       "    </tr>\n",
       "    <tr>\n",
       "      <th>1</th>\n",
       "      <td>-42.75</td>\n",
       "      <td>-14.25</td>\n",
       "      <td>2017-01-01 01:00:00</td>\n",
       "      <td>8.735</td>\n",
       "    </tr>\n",
       "  </tbody>\n",
       "</table>\n",
       "</div>"
      ],
      "text/plain": [
       "   Longitude  Latitude                Data  Magnitude_Verif\n",
       "0     -42.75    -14.25 2017-01-01 00:00:00            9.815\n",
       "1     -42.75    -14.25 2017-01-01 01:00:00            8.735"
      ]
     },
     "execution_count": 14,
     "metadata": {},
     "output_type": "execute_result"
    }
   ],
   "source": [
    "df_result_vento_verif.head(2)"
   ]
  },
  {
   "cell_type": "markdown",
   "id": "7462dcdc-daa0-4cad-a944-a264ce575254",
   "metadata": {},
   "source": [
    "### **E. Exporta Resultados**"
   ]
  },
  {
   "cell_type": "code",
   "execution_count": 15,
   "id": "ef87a932-b74b-48fe-b151-a8ec29013fef",
   "metadata": {},
   "outputs": [],
   "source": [
    "output_file = '../../Data/process/result_01_patio_ventoverif.csv'\n",
    "df_result_vento_verif.to_csv(output_file, sep=';', encoding='utf-8')"
   ]
  },
  {
   "cell_type": "code",
   "execution_count": null,
   "id": "be5441d5-7466-4959-b7ed-76922db78787",
   "metadata": {},
   "outputs": [],
   "source": []
  }
 ],
 "metadata": {
  "kernelspec": {
   "display_name": "Python 3",
   "language": "python",
   "name": "python3"
  },
  "language_info": {
   "codemirror_mode": {
    "name": "ipython",
    "version": 3
   },
   "file_extension": ".py",
   "mimetype": "text/x-python",
   "name": "python",
   "nbconvert_exporter": "python",
   "pygments_lexer": "ipython3",
   "version": "3.7.10"
  }
 },
 "nbformat": 4,
 "nbformat_minor": 5
}
