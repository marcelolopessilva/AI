{
 "cells": [
  {
   "cell_type": "code",
   "execution_count": 15,
   "id": "eb7d0d19-ccda-4e67-b305-088b8bbf3c85",
   "metadata": {},
   "outputs": [],
   "source": [
    "import numpy as np\n",
    "import pandas as pd\n",
    "from datetime import datetime,date"
   ]
  },
  {
   "cell_type": "markdown",
   "id": "168fba62-fbda-4305-a735-5e06e4490534",
   "metadata": {},
   "source": [
    "### **A) Coleta dos Dados de Vento (Magnitude e Direção) Observados**"
   ]
  },
  {
   "cell_type": "code",
   "execution_count": 16,
   "id": "96a4031b-9f50-40a6-9960-f4e4c2080daa",
   "metadata": {},
   "outputs": [],
   "source": [
    "# source_file = '../../Data/raw/vento/teste.txt'\n",
    "source_file = '../../Data/raw/vento/vNE_2017_01_100m.txt'\n",
    "output_file = '../../Data/process/result_vNE_2017_01_100m.csv'"
   ]
  },
  {
   "cell_type": "code",
   "execution_count": 17,
   "id": "f3ba86b3-1f9e-4435-8ddc-c3fb18fb3940",
   "metadata": {},
   "outputs": [],
   "source": [
    "df_vento = pd.read_csv(source_file, delimiter = r\"\\s+\", header=None)"
   ]
  },
  {
   "cell_type": "markdown",
   "id": "6ab388ed-bfa7-4f8c-a9c1-8993e97d5111",
   "metadata": {},
   "source": [
    "#### <span style=\"color:#DC143C\">**A1.Formato dos Dados**"
   ]
  },
  {
   "cell_type": "code",
   "execution_count": 18,
   "id": "05e5dc6d-2f12-4267-8f14-bd7028017935",
   "metadata": {},
   "outputs": [
    {
     "data": {
      "text/plain": [
       "(2047, 1490)"
      ]
     },
     "execution_count": 18,
     "metadata": {},
     "output_type": "execute_result"
    }
   ],
   "source": [
    "df_vento.shape # formato da matriz"
   ]
  },
  {
   "cell_type": "code",
   "execution_count": 19,
   "id": "264c2fda-4d8e-4114-8641-6fb08f2df705",
   "metadata": {},
   "outputs": [],
   "source": [
    "# df_vento.head(5)  # visão de 5 linhas"
   ]
  },
  {
   "cell_type": "code",
   "execution_count": 20,
   "id": "1b5d8aab-0265-4245-89a5-bde19f531a90",
   "metadata": {},
   "outputs": [
    {
     "name": "stdout",
     "output_type": "stream",
     "text": [
      "Total de Dias por Linha: 31.0\n"
     ]
    }
   ],
   "source": [
    "# [Total de Registro - (Latitude e Longitude)] / 2 (magnitude e direcao) / 24 ocorrencias h\n",
    "\n",
    "print('Total de Dias por Linha: ' + str(((df_vento.shape[1]-2)/2)/24))"
   ]
  },
  {
   "cell_type": "markdown",
   "id": "5d245807-c10f-4000-bc91-164a2b23a519",
   "metadata": {},
   "source": [
    "### **B) Alterar Formato do Shape**"
   ]
  },
  {
   "cell_type": "code",
   "execution_count": 21,
   "id": "5939fc27-4b7c-48c4-a423-f5fa4c4114f8",
   "metadata": {},
   "outputs": [],
   "source": [
    "Linha    =  df_vento.shape[0]  # Total de Linhas\n",
    "Colunas  =  df_vento.shape[1]  # Total de Colunas\n",
    "\n",
    "frente = ['Longitude', 'Latitude', 'Magnitude', 'Direcao', 'Data']  # Cabeçalho\n",
    "df_result_vento = pd.DataFrame(columns=frente)  # Criação de um dataframe vazio\n"
   ]
  },
  {
   "cell_type": "markdown",
   "id": "0e42ee9f-02f8-4fb1-b863-b4858a4109ce",
   "metadata": {},
   "source": [
    "#### <span style=\"color:#DC143C\">**B1.Inicio da execução**"
   ]
  },
  {
   "cell_type": "code",
   "execution_count": 22,
   "id": "a8688424-12d7-4402-9715-41440e49c451",
   "metadata": {},
   "outputs": [
    {
     "data": {
      "text/plain": [
       "'2021-06-20 08:56:34'"
      ]
     },
     "execution_count": 22,
     "metadata": {},
     "output_type": "execute_result"
    }
   ],
   "source": [
    "datetime.now().strftime('%Y-%m-%d %H:%M:%S')"
   ]
  },
  {
   "cell_type": "markdown",
   "id": "86178e76-e683-4647-ab0c-5cd115add530",
   "metadata": {},
   "source": [
    "#### <span style=\"color:#DC143C\">**B2) Lógica da Execução**"
   ]
  },
  {
   "cell_type": "code",
   "execution_count": null,
   "id": "32cb4939-d5f4-4f6c-9c57-c5210f7cd8dc",
   "metadata": {},
   "outputs": [
    {
     "name": "stdout",
     "output_type": "stream",
     "text": [
      "linha: 0\n",
      "linha: 1\n",
      "linha: 2\n",
      "linha: 3\n",
      "linha: 4\n",
      "linha: 5\n",
      "linha: 6\n",
      "linha: 7\n",
      "linha: 8\n",
      "linha: 9\n",
      "linha: 10\n",
      "linha: 11\n",
      "linha: 12\n",
      "linha: 13\n",
      "linha: 14\n",
      "linha: 15\n",
      "linha: 16\n",
      "linha: 17\n",
      "linha: 18\n",
      "linha: 19\n",
      "linha: 20\n",
      "linha: 21\n",
      "linha: 22\n",
      "linha: 23\n",
      "linha: 24\n",
      "linha: 25\n",
      "linha: 26\n",
      "linha: 27\n",
      "linha: 28\n",
      "linha: 29\n",
      "linha: 30\n",
      "linha: 31\n",
      "linha: 32\n",
      "linha: 33\n",
      "linha: 34\n",
      "linha: 35\n",
      "linha: 36\n",
      "linha: 37\n",
      "linha: 38\n",
      "linha: 39\n",
      "linha: 40\n",
      "linha: 41\n",
      "linha: 42\n",
      "linha: 43\n",
      "linha: 44\n",
      "linha: 45\n",
      "linha: 46\n",
      "linha: 47\n",
      "linha: 48\n",
      "linha: 49\n",
      "linha: 50\n",
      "linha: 51\n",
      "linha: 52\n",
      "linha: 53\n",
      "linha: 54\n",
      "linha: 55\n",
      "linha: 56\n",
      "linha: 57\n",
      "linha: 58\n",
      "linha: 59\n",
      "linha: 60\n",
      "linha: 61\n",
      "linha: 62\n",
      "linha: 63\n",
      "linha: 64\n",
      "linha: 65\n",
      "linha: 66\n",
      "linha: 67\n",
      "linha: 68\n",
      "linha: 69\n",
      "linha: 70\n",
      "linha: 71\n",
      "linha: 72\n",
      "linha: 73\n",
      "linha: 74\n",
      "linha: 75\n",
      "linha: 76\n",
      "linha: 77\n",
      "linha: 78\n",
      "linha: 79\n",
      "linha: 80\n",
      "linha: 81\n",
      "linha: 82\n",
      "linha: 83\n",
      "linha: 84\n",
      "linha: 85\n",
      "linha: 86\n",
      "linha: 87\n",
      "linha: 88\n",
      "linha: 89\n",
      "linha: 90\n",
      "linha: 91\n",
      "linha: 92\n",
      "linha: 93\n",
      "linha: 94\n",
      "linha: 95\n",
      "linha: 96\n",
      "linha: 97\n",
      "linha: 98\n",
      "linha: 99\n",
      "linha: 100\n",
      "linha: 101\n",
      "linha: 102\n",
      "linha: 103\n",
      "linha: 104\n",
      "linha: 105\n",
      "linha: 106\n",
      "linha: 107\n",
      "linha: 108\n",
      "linha: 109\n",
      "linha: 110\n",
      "linha: 111\n",
      "linha: 112\n",
      "linha: 113\n",
      "linha: 114\n",
      "linha: 115\n",
      "linha: 116\n",
      "linha: 117\n",
      "linha: 118\n",
      "linha: 119\n",
      "linha: 120\n",
      "linha: 121\n",
      "linha: 122\n",
      "linha: 123\n",
      "linha: 124\n",
      "linha: 125\n",
      "linha: 126\n",
      "linha: 127\n",
      "linha: 128\n",
      "linha: 129\n",
      "linha: 130\n",
      "linha: 131\n",
      "linha: 132\n",
      "linha: 133\n",
      "linha: 134\n",
      "linha: 135\n",
      "linha: 136\n",
      "linha: 137\n",
      "linha: 138\n",
      "linha: 139\n",
      "linha: 140\n",
      "linha: 141\n",
      "linha: 142\n",
      "linha: 143\n",
      "linha: 144\n",
      "linha: 145\n",
      "linha: 146\n",
      "linha: 147\n",
      "linha: 148\n",
      "linha: 149\n",
      "linha: 150\n",
      "linha: 151\n",
      "linha: 152\n",
      "linha: 153\n",
      "linha: 154\n",
      "linha: 155\n",
      "linha: 156\n",
      "linha: 157\n",
      "linha: 158\n",
      "linha: 159\n",
      "linha: 160\n",
      "linha: 161\n",
      "linha: 162\n",
      "linha: 163\n",
      "linha: 164\n",
      "linha: 165\n",
      "linha: 166\n",
      "linha: 167\n",
      "linha: 168\n",
      "linha: 169\n",
      "linha: 170\n",
      "linha: 171\n",
      "linha: 172\n",
      "linha: 173\n",
      "linha: 174\n",
      "linha: 175\n",
      "linha: 176\n",
      "linha: 177\n",
      "linha: 178\n",
      "linha: 179\n",
      "linha: 180\n",
      "linha: 181\n",
      "linha: 182\n",
      "linha: 183\n",
      "linha: 184\n",
      "linha: 185\n",
      "linha: 186\n",
      "linha: 187\n",
      "linha: 188\n",
      "linha: 189\n",
      "linha: 190\n",
      "linha: 191\n",
      "linha: 192\n",
      "linha: 193\n",
      "linha: 194\n",
      "linha: 195\n",
      "linha: 196\n",
      "linha: 197\n",
      "linha: 198\n",
      "linha: 199\n",
      "linha: 200\n",
      "linha: 201\n",
      "linha: 202\n",
      "linha: 203\n",
      "linha: 204\n",
      "linha: 205\n",
      "linha: 206\n",
      "linha: 207\n",
      "linha: 208\n",
      "linha: 209\n",
      "linha: 210\n",
      "linha: 211\n",
      "linha: 212\n",
      "linha: 213\n",
      "linha: 214\n",
      "linha: 215\n",
      "linha: 216\n",
      "linha: 217\n",
      "linha: 218\n",
      "linha: 219\n",
      "linha: 220\n",
      "linha: 221\n",
      "linha: 222\n",
      "linha: 223\n",
      "linha: 224\n",
      "linha: 225\n",
      "linha: 226\n",
      "linha: 227\n",
      "linha: 228\n",
      "linha: 229\n",
      "linha: 230\n",
      "linha: 231\n",
      "linha: 232\n",
      "linha: 233\n",
      "linha: 234\n",
      "linha: 235\n",
      "linha: 236\n",
      "linha: 237\n",
      "linha: 238\n",
      "linha: 239\n",
      "linha: 240\n",
      "linha: 241\n",
      "linha: 242\n",
      "linha: 243\n",
      "linha: 244\n",
      "linha: 245\n",
      "linha: 246\n",
      "linha: 247\n",
      "linha: 248\n",
      "linha: 249\n",
      "linha: 250\n",
      "linha: 251\n"
     ]
    }
   ],
   "source": [
    "refdia = 1\n",
    "    \n",
    "# Função para transformar .... \n",
    "for lin in range(Linha): \n",
    "    print('linha: ' + str(lin))\n",
    "    \n",
    "    refhora = 0\n",
    "    \n",
    "    for col in range (Colunas):        \n",
    "        if col > 1:  # Removo log e Lat da varredura\n",
    "            \n",
    "            if col % 2 == 0: # Se o número (col) for par       \n",
    "                \n",
    "                # print(col)\n",
    "                # print('Day: '  + str(refdia))    \n",
    "                # print('Hora: ' + str(refhora))   \n",
    "                \n",
    "                data = datetime(year=2017, month=1, day = refdia, hour = refhora, minute=0, second=0) \n",
    "                # print(data)\n",
    "                \n",
    "                variavel = [df_vento.loc[lin,0], df_vento.loc[lin,1] , df_vento.loc[lin,col] ,df_vento.loc[lin,(col+1)], data] \n",
    "                \n",
    "                df_result_vento.loc[-1] = variavel  # adding a row\n",
    "                df_result_vento.index = df_result_vento.index + 1\n",
    "                \n",
    "                refhora = refhora + 1\n",
    "                if refhora == 24:                    \n",
    "                    refdia = refdia + 1\n",
    "                    refhora = 0\n",
    "                \n",
    "    refdia = 1\n",
    "    refhora = 0\n",
    "    \n",
    "df_result_vento.reset_index(inplace=True, drop=False)  #Reseto o indice"
   ]
  },
  {
   "cell_type": "markdown",
   "id": "b5694f67-7c68-40f6-83d0-84f666b3261c",
   "metadata": {},
   "source": [
    "#### <span style=\"color:#DC143C\">**B3.Fim da execução**"
   ]
  },
  {
   "cell_type": "code",
   "execution_count": null,
   "id": "af1f73b9-cbb5-4fd3-b69e-28d565adacce",
   "metadata": {},
   "outputs": [],
   "source": [
    "datetime.now().strftime('%Y-%m-%d %H:%M:%S')"
   ]
  },
  {
   "cell_type": "markdown",
   "id": "60ac9d71-dc07-416c-9641-47bebadfb57b",
   "metadata": {},
   "source": [
    "### **C) Exporta os Resultados**"
   ]
  },
  {
   "cell_type": "code",
   "execution_count": null,
   "id": "933ec01c-e0f8-44fb-b76a-dc8056f6b7a2",
   "metadata": {},
   "outputs": [],
   "source": [
    "df_result_vento.drop('index',axis='columns', inplace=True)"
   ]
  },
  {
   "cell_type": "code",
   "execution_count": null,
   "id": "3e7d0d30-082a-464e-8fd7-57ddcf2bc8ed",
   "metadata": {},
   "outputs": [],
   "source": [
    "df_result_vento.to_csv(output_file,sep=';', header=False, index=False, encoding='utf-8')"
   ]
  }
 ],
 "metadata": {
  "kernelspec": {
   "display_name": "Python 3",
   "language": "python",
   "name": "python3"
  },
  "language_info": {
   "codemirror_mode": {
    "name": "ipython",
    "version": 3
   },
   "file_extension": ".py",
   "mimetype": "text/x-python",
   "name": "python",
   "nbconvert_exporter": "python",
   "pygments_lexer": "ipython3",
   "version": "3.7.10"
  }
 },
 "nbformat": 4,
 "nbformat_minor": 5
}
