{
 "cells": [
  {
   "cell_type": "code",
   "execution_count": 23,
   "id": "12fa0c66-b30c-49f8-b3df-f713b67111f5",
   "metadata": {},
   "outputs": [],
   "source": [
    "import pandas as pd\n",
    "import numpy as np\n"
   ]
  },
  {
   "cell_type": "markdown",
   "id": "20aae5e8-9e5c-423d-b4ba-6f7db1901409",
   "metadata": {},
   "source": [
    "### **A) Importar Dados de Chuvas, Pressao, Precipitação e Temperatura**"
   ]
  },
  {
   "cell_type": "code",
   "execution_count": 24,
   "id": "68e8037d-37d6-4c26-9bcd-852dae67ec14",
   "metadata": {},
   "outputs": [],
   "source": [
    "output_direcao = '../../../../PrevisaoVento/Data/process/cenario2/direcao_ajustada.csv'\n",
    "\n",
    "output_pressao =  '../../../../PrevisaoVento/Data/process/cenario2/pressao_ajustada.csv'\n",
    "\n",
    "output_temp =  '../../../../PrevisaoVento/Data/process/cenario2/temperatura_ajustada.csv'\n",
    "\n",
    "output_vento = '../../../../PrevisaoVento/Data/process/cenario2/vento_consolidado.csv'\n"
   ]
  },
  {
   "cell_type": "code",
   "execution_count": 25,
   "id": "404c9f0a-add9-4098-b5c9-a0c7d946c955",
   "metadata": {},
   "outputs": [],
   "source": [
    "df_direcao = pd.read_csv(output_direcao, delimiter = \";\", index_col=0)\n",
    "\n",
    "df_pressao = pd.read_csv(output_pressao, delimiter = \";\", index_col=0)\n",
    "\n",
    "df_temp = pd.read_csv(output_temp, delimiter = \";\", index_col=0)\n",
    "\n",
    "df_vento = pd.read_csv(output_vento, delimiter = \";\", index_col=0)\n",
    "\n",
    "# OBS: Senão utilizar o parametro index_col=0, o dataframe cria uma coluna \"Unnamed\" para representar o indice\n",
    "# e a remoção desta coluna pode ser pelo comando: df.drop(df.columns[0], axis=1, inplace=True)"
   ]
  },
  {
   "cell_type": "markdown",
   "id": "befc6c78-814c-4950-a32d-88c69813fbc9",
   "metadata": {},
   "source": [
    "### **B) Sobre os 4 conjuntos de dados**"
   ]
  },
  {
   "cell_type": "markdown",
   "id": "2b29d144-dca6-4dc5-974a-c0246f9a98c4",
   "metadata": {},
   "source": [
    "#### <span style=\"color:#DC143C\">**B1. Formato dos Dados**"
   ]
  },
  {
   "cell_type": "code",
   "execution_count": 26,
   "id": "05dca724-712f-4e6d-bbb3-a4986cdac6ed",
   "metadata": {},
   "outputs": [
    {
     "name": "stdout",
     "output_type": "stream",
     "text": [
      "Direcao:(8808, 5)\n",
      "Pressao:(8808, 5)\n",
      "Temperatura:(8808, 5)\n",
      "Vento:(8808, 4)\n"
     ]
    }
   ],
   "source": [
    "print(\"Direcao:\" + str(df_direcao.shape))\n",
    "\n",
    "print(\"Pressao:\" + str(df_pressao.shape))\n",
    "\n",
    "print(\"Temperatura:\" + str(df_temp.shape))\n",
    "\n",
    "print(\"Vento:\" + str(df_vento.shape))\n"
   ]
  },
  {
   "cell_type": "markdown",
   "id": "27b95161-81cd-49ae-9165-fc7465dba322",
   "metadata": {},
   "source": [
    "#### <span style=\"color:#DC143C\">**B2. Visão dos Dados**"
   ]
  },
  {
   "cell_type": "code",
   "execution_count": 27,
   "id": "e53d3829-badf-4eb1-85fe-0f20f3ae7d33",
   "metadata": {},
   "outputs": [
    {
     "data": {
      "text/html": [
       "<div>\n",
       "<style scoped>\n",
       "    .dataframe tbody tr th:only-of-type {\n",
       "        vertical-align: middle;\n",
       "    }\n",
       "\n",
       "    .dataframe tbody tr th {\n",
       "        vertical-align: top;\n",
       "    }\n",
       "\n",
       "    .dataframe thead th {\n",
       "        text-align: right;\n",
       "    }\n",
       "</style>\n",
       "<table border=\"1\" class=\"dataframe\">\n",
       "  <thead>\n",
       "    <tr style=\"text-align: right;\">\n",
       "      <th></th>\n",
       "      <th>index</th>\n",
       "      <th>Longitude</th>\n",
       "      <th>Latitude</th>\n",
       "      <th>Data</th>\n",
       "      <th>DirecaoVento</th>\n",
       "    </tr>\n",
       "  </thead>\n",
       "  <tbody>\n",
       "    <tr>\n",
       "      <th>0</th>\n",
       "      <td>0</td>\n",
       "      <td>-42.75</td>\n",
       "      <td>-14.25</td>\n",
       "      <td>2017-01-01 00:00:00</td>\n",
       "      <td>119.15</td>\n",
       "    </tr>\n",
       "    <tr>\n",
       "      <th>1</th>\n",
       "      <td>1</td>\n",
       "      <td>-42.75</td>\n",
       "      <td>-14.25</td>\n",
       "      <td>2017-01-01 01:00:00</td>\n",
       "      <td>119.20</td>\n",
       "    </tr>\n",
       "  </tbody>\n",
       "</table>\n",
       "</div>"
      ],
      "text/plain": [
       "   index  Longitude  Latitude                 Data  DirecaoVento\n",
       "0      0     -42.75    -14.25  2017-01-01 00:00:00        119.15\n",
       "1      1     -42.75    -14.25  2017-01-01 01:00:00        119.20"
      ]
     },
     "execution_count": 27,
     "metadata": {},
     "output_type": "execute_result"
    }
   ],
   "source": [
    "df_direcao.rename(columns={'Direcao_Verif': 'DirecaoVento'}, inplace=True)\n",
    "df_direcao.head(2)"
   ]
  },
  {
   "cell_type": "code",
   "execution_count": 28,
   "id": "88968b7a-0948-483e-8ffe-264c0628c708",
   "metadata": {},
   "outputs": [
    {
     "data": {
      "text/html": [
       "<div>\n",
       "<style scoped>\n",
       "    .dataframe tbody tr th:only-of-type {\n",
       "        vertical-align: middle;\n",
       "    }\n",
       "\n",
       "    .dataframe tbody tr th {\n",
       "        vertical-align: top;\n",
       "    }\n",
       "\n",
       "    .dataframe thead th {\n",
       "        text-align: right;\n",
       "    }\n",
       "</style>\n",
       "<table border=\"1\" class=\"dataframe\">\n",
       "  <thead>\n",
       "    <tr style=\"text-align: right;\">\n",
       "      <th></th>\n",
       "      <th>index</th>\n",
       "      <th>Longitude</th>\n",
       "      <th>Latitude</th>\n",
       "      <th>Data</th>\n",
       "      <th>Temperatura</th>\n",
       "    </tr>\n",
       "  </thead>\n",
       "  <tbody>\n",
       "    <tr>\n",
       "      <th>0</th>\n",
       "      <td>0</td>\n",
       "      <td>-42.75</td>\n",
       "      <td>-14.25</td>\n",
       "      <td>2017-01-01 00:00:00</td>\n",
       "      <td>22.192</td>\n",
       "    </tr>\n",
       "    <tr>\n",
       "      <th>1</th>\n",
       "      <td>1</td>\n",
       "      <td>-42.75</td>\n",
       "      <td>-14.25</td>\n",
       "      <td>2017-01-01 01:00:00</td>\n",
       "      <td>18.516</td>\n",
       "    </tr>\n",
       "  </tbody>\n",
       "</table>\n",
       "</div>"
      ],
      "text/plain": [
       "   index  Longitude  Latitude                 Data  Temperatura\n",
       "0      0     -42.75    -14.25  2017-01-01 00:00:00       22.192\n",
       "1      1     -42.75    -14.25  2017-01-01 01:00:00       18.516"
      ]
     },
     "execution_count": 28,
     "metadata": {},
     "output_type": "execute_result"
    }
   ],
   "source": [
    "df_temp.rename(columns={'Temperatura_Verif': 'Temperatura'}, inplace=True)\n",
    "df_temp.head(2)"
   ]
  },
  {
   "cell_type": "code",
   "execution_count": 29,
   "id": "aab940ff-e5bb-4875-a583-9ec40962a216",
   "metadata": {},
   "outputs": [
    {
     "data": {
      "text/html": [
       "<div>\n",
       "<style scoped>\n",
       "    .dataframe tbody tr th:only-of-type {\n",
       "        vertical-align: middle;\n",
       "    }\n",
       "\n",
       "    .dataframe tbody tr th {\n",
       "        vertical-align: top;\n",
       "    }\n",
       "\n",
       "    .dataframe thead th {\n",
       "        text-align: right;\n",
       "    }\n",
       "</style>\n",
       "<table border=\"1\" class=\"dataframe\">\n",
       "  <thead>\n",
       "    <tr style=\"text-align: right;\">\n",
       "      <th></th>\n",
       "      <th>index</th>\n",
       "      <th>Longitude</th>\n",
       "      <th>Latitude</th>\n",
       "      <th>Data</th>\n",
       "      <th>Pressao</th>\n",
       "    </tr>\n",
       "  </thead>\n",
       "  <tbody>\n",
       "    <tr>\n",
       "      <th>0</th>\n",
       "      <td>0</td>\n",
       "      <td>-42.75</td>\n",
       "      <td>-14.25</td>\n",
       "      <td>2017-01-01 00:00:00</td>\n",
       "      <td>882.334</td>\n",
       "    </tr>\n",
       "    <tr>\n",
       "      <th>1</th>\n",
       "      <td>1</td>\n",
       "      <td>-42.75</td>\n",
       "      <td>-14.25</td>\n",
       "      <td>2017-01-01 01:00:00</td>\n",
       "      <td>882.333</td>\n",
       "    </tr>\n",
       "  </tbody>\n",
       "</table>\n",
       "</div>"
      ],
      "text/plain": [
       "   index  Longitude  Latitude                 Data  Pressao\n",
       "0      0     -42.75    -14.25  2017-01-01 00:00:00  882.334\n",
       "1      1     -42.75    -14.25  2017-01-01 01:00:00  882.333"
      ]
     },
     "execution_count": 29,
     "metadata": {},
     "output_type": "execute_result"
    }
   ],
   "source": [
    "df_pressao.rename(columns={'pressao_Verif': 'Pressao'}, inplace=True)\n",
    "df_pressao.head(2)"
   ]
  },
  {
   "cell_type": "code",
   "execution_count": 30,
   "id": "b33c224c-6289-45d3-b7b9-70eb61bf2675",
   "metadata": {},
   "outputs": [
    {
     "data": {
      "text/html": [
       "<div>\n",
       "<style scoped>\n",
       "    .dataframe tbody tr th:only-of-type {\n",
       "        vertical-align: middle;\n",
       "    }\n",
       "\n",
       "    .dataframe tbody tr th {\n",
       "        vertical-align: top;\n",
       "    }\n",
       "\n",
       "    .dataframe thead th {\n",
       "        text-align: right;\n",
       "    }\n",
       "</style>\n",
       "<table border=\"1\" class=\"dataframe\">\n",
       "  <thead>\n",
       "    <tr style=\"text-align: right;\">\n",
       "      <th></th>\n",
       "      <th>Longitude</th>\n",
       "      <th>Latitude</th>\n",
       "      <th>Data</th>\n",
       "      <th>VentoC</th>\n",
       "    </tr>\n",
       "  </thead>\n",
       "  <tbody>\n",
       "    <tr>\n",
       "      <th>0</th>\n",
       "      <td>-42.75</td>\n",
       "      <td>-14.25</td>\n",
       "      <td>2017-01-01 00:00:00</td>\n",
       "      <td>9.815</td>\n",
       "    </tr>\n",
       "    <tr>\n",
       "      <th>1</th>\n",
       "      <td>-42.75</td>\n",
       "      <td>-14.25</td>\n",
       "      <td>2017-01-01 01:00:00</td>\n",
       "      <td>8.735</td>\n",
       "    </tr>\n",
       "    <tr>\n",
       "      <th>2</th>\n",
       "      <td>-42.75</td>\n",
       "      <td>-14.25</td>\n",
       "      <td>2017-01-01 02:00:00</td>\n",
       "      <td>8.454</td>\n",
       "    </tr>\n",
       "    <tr>\n",
       "      <th>3</th>\n",
       "      <td>-42.75</td>\n",
       "      <td>-14.25</td>\n",
       "      <td>2017-01-01 03:00:00</td>\n",
       "      <td>9.178</td>\n",
       "    </tr>\n",
       "    <tr>\n",
       "      <th>4</th>\n",
       "      <td>-42.75</td>\n",
       "      <td>-14.25</td>\n",
       "      <td>2017-01-01 04:00:00</td>\n",
       "      <td>9.186</td>\n",
       "    </tr>\n",
       "  </tbody>\n",
       "</table>\n",
       "</div>"
      ],
      "text/plain": [
       "   Longitude  Latitude                 Data  VentoC\n",
       "0     -42.75    -14.25  2017-01-01 00:00:00   9.815\n",
       "1     -42.75    -14.25  2017-01-01 01:00:00   8.735\n",
       "2     -42.75    -14.25  2017-01-01 02:00:00   8.454\n",
       "3     -42.75    -14.25  2017-01-01 03:00:00   9.178\n",
       "4     -42.75    -14.25  2017-01-01 04:00:00   9.186"
      ]
     },
     "execution_count": 30,
     "metadata": {},
     "output_type": "execute_result"
    }
   ],
   "source": [
    "df_vento.rename(columns={'Vento_Magnitude': 'VentoC'}, inplace=True)\n",
    "df_vento.head(5)"
   ]
  },
  {
   "cell_type": "markdown",
   "id": "e9df4d99-4345-4371-8d42-37e13c037115",
   "metadata": {},
   "source": [
    "### **C) Merge dos dados**"
   ]
  },
  {
   "cell_type": "code",
   "execution_count": 31,
   "id": "9599589d-d440-4d23-9fa4-04b6bc25fa2a",
   "metadata": {},
   "outputs": [],
   "source": [
    "df_energia = pd.merge(df_vento, df_pressao, how = 'outer', on = ['Longitude','Latitude','Data'])\n",
    "df_energia = pd.merge(df_energia, df_temp,  how = 'outer', on = ['Longitude','Latitude','Data'])\n",
    "df_energia = pd.merge(df_energia, df_direcao, how = 'outer', on = ['Longitude','Latitude','Data'])\n"
   ]
  },
  {
   "cell_type": "code",
   "execution_count": 32,
   "id": "6323ab3b-acef-4ec3-af89-3a253c012895",
   "metadata": {},
   "outputs": [],
   "source": [
    "df_energia.head(1)\n",
    "df_energia.drop(columns=['index_x','index','index_y'], inplace=True)"
   ]
  },
  {
   "cell_type": "code",
   "execution_count": 33,
   "id": "75b17acd-ad82-4eda-b1c0-a796adebda8d",
   "metadata": {},
   "outputs": [
    {
     "data": {
      "text/html": [
       "<div>\n",
       "<style scoped>\n",
       "    .dataframe tbody tr th:only-of-type {\n",
       "        vertical-align: middle;\n",
       "    }\n",
       "\n",
       "    .dataframe tbody tr th {\n",
       "        vertical-align: top;\n",
       "    }\n",
       "\n",
       "    .dataframe thead th {\n",
       "        text-align: right;\n",
       "    }\n",
       "</style>\n",
       "<table border=\"1\" class=\"dataframe\">\n",
       "  <thead>\n",
       "    <tr style=\"text-align: right;\">\n",
       "      <th></th>\n",
       "      <th>Longitude</th>\n",
       "      <th>Latitude</th>\n",
       "      <th>Data</th>\n",
       "      <th>VentoC</th>\n",
       "      <th>Pressao</th>\n",
       "      <th>Temperatura</th>\n",
       "      <th>DirecaoVento</th>\n",
       "    </tr>\n",
       "  </thead>\n",
       "  <tbody>\n",
       "    <tr>\n",
       "      <th>0</th>\n",
       "      <td>-42.75</td>\n",
       "      <td>-14.25</td>\n",
       "      <td>2017-01-01 00:00:00</td>\n",
       "      <td>9.815</td>\n",
       "      <td>882.334</td>\n",
       "      <td>22.192</td>\n",
       "      <td>119.15</td>\n",
       "    </tr>\n",
       "    <tr>\n",
       "      <th>1</th>\n",
       "      <td>-42.75</td>\n",
       "      <td>-14.25</td>\n",
       "      <td>2017-01-01 01:00:00</td>\n",
       "      <td>8.735</td>\n",
       "      <td>882.333</td>\n",
       "      <td>18.516</td>\n",
       "      <td>119.20</td>\n",
       "    </tr>\n",
       "  </tbody>\n",
       "</table>\n",
       "</div>"
      ],
      "text/plain": [
       "   Longitude  Latitude                 Data  VentoC  Pressao  Temperatura  \\\n",
       "0     -42.75    -14.25  2017-01-01 00:00:00   9.815  882.334       22.192   \n",
       "1     -42.75    -14.25  2017-01-01 01:00:00   8.735  882.333       18.516   \n",
       "\n",
       "   DirecaoVento  \n",
       "0        119.15  \n",
       "1        119.20  "
      ]
     },
     "execution_count": 33,
     "metadata": {},
     "output_type": "execute_result"
    }
   ],
   "source": [
    "df_energia.head(2)"
   ]
  },
  {
   "cell_type": "markdown",
   "id": "8eb9c029-79ba-4553-9bbb-8968cc2909ec",
   "metadata": {},
   "source": [
    "#### **D.1) Colunas NULAS ?**"
   ]
  },
  {
   "cell_type": "code",
   "execution_count": 34,
   "id": "9a92afed-9efe-48dc-a447-9026a894e74f",
   "metadata": {},
   "outputs": [
    {
     "data": {
      "text/plain": [
       "Longitude       0\n",
       "Latitude        0\n",
       "Data            0\n",
       "VentoC          0\n",
       "Pressao         0\n",
       "Temperatura     0\n",
       "DirecaoVento    0\n",
       "dtype: int64"
      ]
     },
     "execution_count": 34,
     "metadata": {},
     "output_type": "execute_result"
    }
   ],
   "source": [
    "df_energia.isnull().sum()"
   ]
  },
  {
   "cell_type": "code",
   "execution_count": 35,
   "id": "4652713d-3a53-4749-858e-87e95df44687",
   "metadata": {},
   "outputs": [
    {
     "data": {
      "text/plain": [
       "Longitude       8808\n",
       "Latitude        8808\n",
       "Data            8808\n",
       "VentoC          8808\n",
       "Pressao         8808\n",
       "Temperatura     8808\n",
       "DirecaoVento    8808\n",
       "dtype: int64"
      ]
     },
     "execution_count": 35,
     "metadata": {},
     "output_type": "execute_result"
    }
   ],
   "source": [
    "df_energia.count()"
   ]
  },
  {
   "cell_type": "code",
   "execution_count": 36,
   "id": "6e130edc-874e-46bf-879d-4197646d510c",
   "metadata": {},
   "outputs": [],
   "source": [
    "# Remove linhas com colunascom valores nulos\n",
    "df_energia = df_energia.dropna()"
   ]
  },
  {
   "cell_type": "markdown",
   "id": "7cb33c8f-5eb9-426a-b886-34e7f0fe9a75",
   "metadata": {},
   "source": [
    "### **D) Exporta Dados**"
   ]
  },
  {
   "cell_type": "code",
   "execution_count": 40,
   "id": "efaa90b6-18f8-4027-a862-02e9196c5a68",
   "metadata": {},
   "outputs": [],
   "source": [
    "output_file = '../../../../PrevisaoVento/Data/process/cenario2/dados_cenario2.csv'\n",
    "df_energia.to_csv(output_file, sep=';', encoding='utf-8', index=True)"
   ]
  },
  {
   "cell_type": "code",
   "execution_count": null,
   "id": "ccd5cca1-1e14-42f9-b139-6d53acd42942",
   "metadata": {},
   "outputs": [],
   "source": []
  }
 ],
 "metadata": {
  "kernelspec": {
   "display_name": "Python 3",
   "language": "python",
   "name": "python3"
  },
  "language_info": {
   "codemirror_mode": {
    "name": "ipython",
    "version": 3
   },
   "file_extension": ".py",
   "mimetype": "text/x-python",
   "name": "python",
   "nbconvert_exporter": "python",
   "pygments_lexer": "ipython3",
   "version": "3.7.10"
  }
 },
 "nbformat": 4,
 "nbformat_minor": 5
}
