{
 "cells": [
  {
   "cell_type": "code",
   "execution_count": 9,
   "id": "eb7d0d19-ccda-4e67-b305-088b8bbf3c85",
   "metadata": {},
   "outputs": [],
   "source": [
    "import numpy as np\n",
    "import pandas as pd\n",
    "from datetime import datetime,date,time\n",
    "from dateutil.relativedelta import relativedelta\n",
    "\n",
    "import warnings\n",
    "warnings.filterwarnings(\"ignore\")"
   ]
  },
  {
   "cell_type": "markdown",
   "id": "d4de6591-f4da-4527-8263-f74933fa9424",
   "metadata": {},
   "source": [
    "### **A) Coleta dos Dados de Direção do Vento**"
   ]
  },
  {
   "cell_type": "code",
   "execution_count": 10,
   "id": "ce4ae9a9-fde5-4f5f-8cd6-1dfbbaa3f0c5",
   "metadata": {},
   "outputs": [],
   "source": [
    "source_file = '../../../../PrevisaoVento/Data/raw/Variaveis_EPE/BAUET2_CAETITÉ_2_TEM_Verif_EPE_edit.txt'"
   ]
  },
  {
   "cell_type": "code",
   "execution_count": 11,
   "id": "f3ba86b3-1f9e-4435-8ddc-c3fb18fb3940",
   "metadata": {},
   "outputs": [],
   "source": [
    "dfColeta = pd.read_csv(source_file, delimiter = ';' , header=None )"
   ]
  },
  {
   "cell_type": "markdown",
   "id": "533e1214-19b9-470f-8d35-9b5cedd6736d",
   "metadata": {},
   "source": [
    "### **B) Sobre os Dados no Patio 1**"
   ]
  },
  {
   "cell_type": "markdown",
   "id": "7e7cf551-72c8-477b-8984-53dd2ca27235",
   "metadata": {},
   "source": [
    "#### <span style=\"color:#DC143C\">**B1.Formato dos Dados**"
   ]
  },
  {
   "cell_type": "code",
   "execution_count": 12,
   "id": "05e5dc6d-2f12-4267-8f14-bd7028017935",
   "metadata": {},
   "outputs": [
    {
     "data": {
      "text/plain": [
       "(1622, 49)"
      ]
     },
     "execution_count": 12,
     "metadata": {},
     "output_type": "execute_result"
    }
   ],
   "source": [
    "dfColeta.shape # formato da matriz"
   ]
  },
  {
   "cell_type": "markdown",
   "id": "9d24ab44-4f41-4132-84db-1977047f5cad",
   "metadata": {},
   "source": [
    "#### <span style=\"color:#DC143C\">**B2.Visao do Dataframe**"
   ]
  },
  {
   "cell_type": "code",
   "execution_count": 13,
   "id": "264c2fda-4d8e-4114-8641-6fb08f2df705",
   "metadata": {},
   "outputs": [
    {
     "data": {
      "text/html": [
       "<div>\n",
       "<style scoped>\n",
       "    .dataframe tbody tr th:only-of-type {\n",
       "        vertical-align: middle;\n",
       "    }\n",
       "\n",
       "    .dataframe tbody tr th {\n",
       "        vertical-align: top;\n",
       "    }\n",
       "\n",
       "    .dataframe thead th {\n",
       "        text-align: right;\n",
       "    }\n",
       "</style>\n",
       "<table border=\"1\" class=\"dataframe\">\n",
       "  <thead>\n",
       "    <tr style=\"text-align: right;\">\n",
       "      <th></th>\n",
       "      <th>0</th>\n",
       "      <th>1</th>\n",
       "      <th>2</th>\n",
       "      <th>3</th>\n",
       "      <th>4</th>\n",
       "      <th>5</th>\n",
       "      <th>6</th>\n",
       "      <th>7</th>\n",
       "      <th>8</th>\n",
       "      <th>9</th>\n",
       "      <th>...</th>\n",
       "      <th>39</th>\n",
       "      <th>40</th>\n",
       "      <th>41</th>\n",
       "      <th>42</th>\n",
       "      <th>43</th>\n",
       "      <th>44</th>\n",
       "      <th>45</th>\n",
       "      <th>46</th>\n",
       "      <th>47</th>\n",
       "      <th>48</th>\n",
       "    </tr>\n",
       "  </thead>\n",
       "  <tbody>\n",
       "    <tr>\n",
       "      <th>0</th>\n",
       "      <td>20170101</td>\n",
       "      <td>22.267</td>\n",
       "      <td>22.1165</td>\n",
       "      <td>18.733</td>\n",
       "      <td>18.300</td>\n",
       "      <td>17.867</td>\n",
       "      <td>17.4</td>\n",
       "      <td>17.000</td>\n",
       "      <td>16.833</td>\n",
       "      <td>16.633</td>\n",
       "      <td>...</td>\n",
       "      <td>25.367</td>\n",
       "      <td>25.467</td>\n",
       "      <td>25.733</td>\n",
       "      <td>25.700</td>\n",
       "      <td>25.767</td>\n",
       "      <td>25.667</td>\n",
       "      <td>25.5</td>\n",
       "      <td>23.8</td>\n",
       "      <td>22.100</td>\n",
       "      <td>21.833</td>\n",
       "    </tr>\n",
       "    <tr>\n",
       "      <th>1</th>\n",
       "      <td>20170102</td>\n",
       "      <td>21.300</td>\n",
       "      <td>20.6670</td>\n",
       "      <td>20.267</td>\n",
       "      <td>19.833</td>\n",
       "      <td>19.000</td>\n",
       "      <td>18.6</td>\n",
       "      <td>18.333</td>\n",
       "      <td>17.900</td>\n",
       "      <td>17.567</td>\n",
       "      <td>...</td>\n",
       "      <td>27.267</td>\n",
       "      <td>27.267</td>\n",
       "      <td>27.300</td>\n",
       "      <td>27.267</td>\n",
       "      <td>27.233</td>\n",
       "      <td>26.533</td>\n",
       "      <td>26.1</td>\n",
       "      <td>25.0</td>\n",
       "      <td>22.933</td>\n",
       "      <td>22.900</td>\n",
       "    </tr>\n",
       "  </tbody>\n",
       "</table>\n",
       "<p>2 rows × 49 columns</p>\n",
       "</div>"
      ],
      "text/plain": [
       "         0       1        2       3       4       5     6       7       8   \\\n",
       "0  20170101  22.267  22.1165  18.733  18.300  17.867  17.4  17.000  16.833   \n",
       "1  20170102  21.300  20.6670  20.267  19.833  19.000  18.6  18.333  17.900   \n",
       "\n",
       "       9   ...      39      40      41      42      43      44    45    46  \\\n",
       "0  16.633  ...  25.367  25.467  25.733  25.700  25.767  25.667  25.5  23.8   \n",
       "1  17.567  ...  27.267  27.267  27.300  27.267  27.233  26.533  26.1  25.0   \n",
       "\n",
       "       47      48  \n",
       "0  22.100  21.833  \n",
       "1  22.933  22.900  \n",
       "\n",
       "[2 rows x 49 columns]"
      ]
     },
     "execution_count": 13,
     "metadata": {},
     "output_type": "execute_result"
    }
   ],
   "source": [
    "dfColeta.head(2)  # visão de 5 linhas"
   ]
  },
  {
   "cell_type": "markdown",
   "id": "5946208f-3f8e-42e8-87cf-5673729dcee3",
   "metadata": {},
   "source": [
    "### **C) Extração os Dados de 2017**"
   ]
  },
  {
   "cell_type": "markdown",
   "id": "03d6e54e-5dcc-4494-924a-26cf0c51a58b",
   "metadata": {},
   "source": [
    "#### <span style=\"color:#DC143C\"> **C1. Converter a primeira coluna em Data**"
   ]
  },
  {
   "cell_type": "code",
   "execution_count": 14,
   "id": "36ce0d92-bec5-4138-b9c0-719f3c3b4def",
   "metadata": {},
   "outputs": [],
   "source": [
    "dfColeta[0]= pd.to_datetime(dfColeta[0], format='%Y%m%d')"
   ]
  },
  {
   "cell_type": "markdown",
   "id": "99dc7a59-537f-4e2e-abd4-1d4e0e1c535c",
   "metadata": {},
   "source": [
    "#### <span style=\"color:#DC143C\"> **C2.Remove registros fora do Intervalo**"
   ]
  },
  {
   "cell_type": "code",
   "execution_count": 15,
   "id": "c8d8004c-2262-4629-93be-9a2fe1247087",
   "metadata": {},
   "outputs": [],
   "source": [
    "dfColeta = dfColeta.drop(dfColeta[dfColeta[0] > '2018-01-02'].index)\n",
    "dfColeta = dfColeta.drop(dfColeta[dfColeta[0] < '2017-01-01'].index)"
   ]
  },
  {
   "cell_type": "code",
   "execution_count": 16,
   "id": "a726e1ad-b45a-4bc3-87cd-399a03bbe9da",
   "metadata": {},
   "outputs": [],
   "source": [
    "# Inclui colunas de Latitude e Longitude\n",
    "dfColeta['longitude'] = -42.75\n",
    "dfColeta['latitude']  = -14.25 "
   ]
  },
  {
   "cell_type": "code",
   "execution_count": 17,
   "id": "1022a262-972a-4ae0-90e4-99843d269ebd",
   "metadata": {},
   "outputs": [],
   "source": [
    "# Transfere as 2 ultimas colunas para a primeira posição da lista\n",
    "cols = list(dfColeta)\n",
    "cols = [cols[-1]] + cols[:-1]\n",
    "dfColeta = dfColeta[cols]\n",
    "\n",
    "cols = list(dfColeta)\n",
    "cols = [cols[-1]] + cols[:-1]\n",
    "dfColeta = dfColeta[cols]"
   ]
  },
  {
   "cell_type": "code",
   "execution_count": 18,
   "id": "7a636996-b57d-4214-a5a9-1476430e1592",
   "metadata": {},
   "outputs": [],
   "source": [
    "# Reseta Indice\n",
    "dfColeta = dfColeta.reset_index()"
   ]
  },
  {
   "cell_type": "markdown",
   "id": "8d44ac71-093e-4f6a-9ca2-39b1fa170281",
   "metadata": {},
   "source": [
    "### **D) Formatação dos Dados**"
   ]
  },
  {
   "cell_type": "markdown",
   "id": "9b4d87e8-3b0e-48ad-b8a6-52dabb0b2e1b",
   "metadata": {},
   "source": [
    "#### <span style=\"color:#DC143C\"> **D1. Migrar os dados para o Formato**"
   ]
  },
  {
   "cell_type": "code",
   "execution_count": 19,
   "id": "b703eead-99a7-457d-9566-b951ac2ed89e",
   "metadata": {},
   "outputs": [],
   "source": [
    "frente = ['Longitude', 'Latitude', 'Data', 'Valor30_1', 'Valor30_2']  # Cabeçalho\n",
    "dfTemperatura = pd.DataFrame(columns=frente)  # Criação de um dataframe vazio\n",
    "    \n",
    "Linha1    =  dfColeta.shape[0] \n",
    "Colunas1  =  dfColeta.shape[1] \n",
    "\n",
    "for lin2 in range(Linha1):  \n",
    "    refhora = 0\n",
    "    \n",
    "    for col in range (Colunas1):        \n",
    "        if col > 0:            \n",
    "        \n",
    "            if col % 2 != 0: # Se o número (col) for impar                   \n",
    "               \n",
    "                if col < 49:\n",
    "                    \n",
    "                    Data = dfColeta.loc[lin2,0]\n",
    "                                  \n",
    "                    hora = time(hour=refhora, minute=0, second=0)            \n",
    "                    dataCompleta = datetime.combine(Data, hora)\n",
    "                   \n",
    "                    lin_alvo = [dfColeta.loc[lin2,'longitude'], dfColeta.loc[lin2,'latitude'], dataCompleta , dfColeta.loc[lin2,col], dfColeta.loc[lin2,col+1]] \n",
    "                  \n",
    "                    dfTemperatura.loc[len(dfTemperatura)] = lin_alvo  # adding a row\n",
    "                         \n",
    "                refhora = refhora + 1          \n",
    "                \n"
   ]
  },
  {
   "cell_type": "markdown",
   "id": "047f786e-a658-4915-aa93-489a929be333",
   "metadata": {},
   "source": [
    "#### <span style=\"color:#DC143C\"> **D2. Informações sobre os Tipos de Dados**"
   ]
  },
  {
   "cell_type": "code",
   "execution_count": 20,
   "id": "bcc3e208-9f7c-4b31-8c06-8bfe7250cac5",
   "metadata": {},
   "outputs": [
    {
     "name": "stdout",
     "output_type": "stream",
     "text": [
      "<class 'pandas.core.frame.DataFrame'>\n",
      "Int64Index: 8808 entries, 0 to 8807\n",
      "Data columns (total 5 columns):\n",
      " #   Column     Non-Null Count  Dtype         \n",
      "---  ------     --------------  -----         \n",
      " 0   Longitude  8808 non-null   float64       \n",
      " 1   Latitude   8808 non-null   float64       \n",
      " 2   Data       8808 non-null   datetime64[ns]\n",
      " 3   Valor30_1  8808 non-null   float64       \n",
      " 4   Valor30_2  8808 non-null   float64       \n",
      "dtypes: datetime64[ns](1), float64(4)\n",
      "memory usage: 412.9 KB\n"
     ]
    }
   ],
   "source": [
    "dfTemperatura.info()"
   ]
  },
  {
   "cell_type": "markdown",
   "id": "54c12bdc-f682-42fe-b85c-e9d745e24484",
   "metadata": {},
   "source": [
    "#### <span style=\"color:#DC143C\"> **D3. Remover ruidos**"
   ]
  },
  {
   "cell_type": "code",
   "execution_count": 21,
   "id": "7f3b2e0e-d1e9-41fe-a7ca-f16833e07455",
   "metadata": {},
   "outputs": [],
   "source": [
    "import datetime\n",
    "\n",
    "medias = ['Mes', 'Ano', 'Valor1', 'Valor2']  # Cabeçalho\n",
    "dfMedias = pd.DataFrame() # Criação de um dataframe vazio\n",
    "\n",
    "anos = [2017,2018,2019]\n",
    "meses =  [1,2,3,4,5,6,7,8,9,10,11,12]\n",
    "ind = 0\n",
    "\n",
    "for ano in anos:\n",
    "    for mes in meses:\n",
    "       \n",
    "        dfMes = dfTemperatura\n",
    "        d1  = datetime.datetime(ano, mes, 1)\n",
    "        d28 = datetime.datetime(ano, mes, 28)\n",
    "       \n",
    "        Variavel = \"Data>'\" + str(d1) + \"'and Data<'\" + str(d28) + \"'\"\n",
    "      \n",
    "        dfresult = dfMes.query(Variavel)\n",
    "        Linha1 = dfresult.shape[0]               \n",
    "                \n",
    "        dfresult.loc[dfresult['Valor30_1'] == 99.0, 'Valor30_1'] = 0\n",
    "        dfresult.loc[dfresult['Valor30_2'] == 99.0, 'Valor30_2'] = 0\n",
    "                   \n",
    "        val  = dfresult['Valor30_1'].max()\n",
    "        val1 = dfresult['Valor30_1'].min()\n",
    "        \n",
    "        val2  = dfresult['Valor30_2'].max()\n",
    "        val3  = dfresult['Valor30_2'].min()\n",
    "        \n",
    "        media_1 = (val  + val1)/2\n",
    "        media_2 = (val2 + val3)/2\n",
    "        \n",
    "       \n",
    "        dfMedias = dfMedias.append({'Mes' : mes , 'Ano' : ano, 'Valor1' : media_1, 'Valor2' : media_2 }, ignore_index=True)\n",
    "        # output_file = '../../Data/process/patio1_17a19_exportaMedias.csv'\n",
    "        # dfMedias.to_csv(output_file, sep=';', encoding='utf-8')\n",
    "       "
   ]
  },
  {
   "cell_type": "code",
   "execution_count": 22,
   "id": "717a2176-5564-4759-9fa3-a64b7854eeee",
   "metadata": {},
   "outputs": [],
   "source": [
    "dfTemperatura = dfTemperatura.reset_index()"
   ]
  },
  {
   "cell_type": "markdown",
   "id": "c6b7287d-6cfd-4417-bebc-216f1b666bf5",
   "metadata": {},
   "source": [
    "#### <span style=\"color:#DC143C\"> **D4. Agregar Magnitude para 1H**"
   ]
  },
  {
   "cell_type": "code",
   "execution_count": 23,
   "id": "66128703-692b-465f-badc-c4ebeb67fc44",
   "metadata": {},
   "outputs": [],
   "source": [
    "dfTemperatura['Temperatura_Verif'] = (dfTemperatura['Valor30_1'] + dfTemperatura['Valor30_2']) / 2"
   ]
  },
  {
   "cell_type": "code",
   "execution_count": 24,
   "id": "1046af49-9702-4e98-af8f-2409184b316e",
   "metadata": {},
   "outputs": [],
   "source": [
    "# Formatar o resultado com 2 casas decimais\n",
    "dfTemperatura['Temperatura_Verif'] = dfTemperatura['Temperatura_Verif'].round(decimals=3)"
   ]
  },
  {
   "cell_type": "code",
   "execution_count": 25,
   "id": "e0216b72-8e85-4473-b40d-0c0380e90f7f",
   "metadata": {},
   "outputs": [],
   "source": [
    "dfTemperatura = dfTemperatura.drop('Valor30_1', 1)\n",
    "dfTemperatura = dfTemperatura.drop('Valor30_2', 1)"
   ]
  },
  {
   "cell_type": "code",
   "execution_count": 26,
   "id": "12c383d8-474e-47ba-a7f8-9001475fbb52",
   "metadata": {},
   "outputs": [
    {
     "data": {
      "text/html": [
       "<div>\n",
       "<style scoped>\n",
       "    .dataframe tbody tr th:only-of-type {\n",
       "        vertical-align: middle;\n",
       "    }\n",
       "\n",
       "    .dataframe tbody tr th {\n",
       "        vertical-align: top;\n",
       "    }\n",
       "\n",
       "    .dataframe thead th {\n",
       "        text-align: right;\n",
       "    }\n",
       "</style>\n",
       "<table border=\"1\" class=\"dataframe\">\n",
       "  <thead>\n",
       "    <tr style=\"text-align: right;\">\n",
       "      <th></th>\n",
       "      <th>index</th>\n",
       "      <th>Longitude</th>\n",
       "      <th>Latitude</th>\n",
       "      <th>Data</th>\n",
       "      <th>Temperatura_Verif</th>\n",
       "    </tr>\n",
       "  </thead>\n",
       "  <tbody>\n",
       "    <tr>\n",
       "      <th>0</th>\n",
       "      <td>0</td>\n",
       "      <td>-42.75</td>\n",
       "      <td>-14.25</td>\n",
       "      <td>2017-01-01 00:00:00</td>\n",
       "      <td>22.192</td>\n",
       "    </tr>\n",
       "    <tr>\n",
       "      <th>1</th>\n",
       "      <td>1</td>\n",
       "      <td>-42.75</td>\n",
       "      <td>-14.25</td>\n",
       "      <td>2017-01-01 01:00:00</td>\n",
       "      <td>18.516</td>\n",
       "    </tr>\n",
       "    <tr>\n",
       "      <th>2</th>\n",
       "      <td>2</td>\n",
       "      <td>-42.75</td>\n",
       "      <td>-14.25</td>\n",
       "      <td>2017-01-01 02:00:00</td>\n",
       "      <td>17.633</td>\n",
       "    </tr>\n",
       "    <tr>\n",
       "      <th>3</th>\n",
       "      <td>3</td>\n",
       "      <td>-42.75</td>\n",
       "      <td>-14.25</td>\n",
       "      <td>2017-01-01 03:00:00</td>\n",
       "      <td>16.916</td>\n",
       "    </tr>\n",
       "    <tr>\n",
       "      <th>4</th>\n",
       "      <td>4</td>\n",
       "      <td>-42.75</td>\n",
       "      <td>-14.25</td>\n",
       "      <td>2017-01-01 04:00:00</td>\n",
       "      <td>16.483</td>\n",
       "    </tr>\n",
       "    <tr>\n",
       "      <th>...</th>\n",
       "      <td>...</td>\n",
       "      <td>...</td>\n",
       "      <td>...</td>\n",
       "      <td>...</td>\n",
       "      <td>...</td>\n",
       "    </tr>\n",
       "    <tr>\n",
       "      <th>8793</th>\n",
       "      <td>8793</td>\n",
       "      <td>-42.75</td>\n",
       "      <td>-14.25</td>\n",
       "      <td>2018-01-02 09:00:00</td>\n",
       "      <td>23.534</td>\n",
       "    </tr>\n",
       "    <tr>\n",
       "      <th>8794</th>\n",
       "      <td>8794</td>\n",
       "      <td>-42.75</td>\n",
       "      <td>-14.25</td>\n",
       "      <td>2018-01-02 10:00:00</td>\n",
       "      <td>24.666</td>\n",
       "    </tr>\n",
       "    <tr>\n",
       "      <th>8795</th>\n",
       "      <td>8795</td>\n",
       "      <td>-42.75</td>\n",
       "      <td>-14.25</td>\n",
       "      <td>2018-01-02 11:00:00</td>\n",
       "      <td>24.734</td>\n",
       "    </tr>\n",
       "    <tr>\n",
       "      <th>8796</th>\n",
       "      <td>8796</td>\n",
       "      <td>-42.75</td>\n",
       "      <td>-14.25</td>\n",
       "      <td>2018-01-02 12:00:00</td>\n",
       "      <td>24.550</td>\n",
       "    </tr>\n",
       "    <tr>\n",
       "      <th>8797</th>\n",
       "      <td>8797</td>\n",
       "      <td>-42.75</td>\n",
       "      <td>-14.25</td>\n",
       "      <td>2018-01-02 13:00:00</td>\n",
       "      <td>24.716</td>\n",
       "    </tr>\n",
       "  </tbody>\n",
       "</table>\n",
       "<p>8798 rows × 5 columns</p>\n",
       "</div>"
      ],
      "text/plain": [
       "      index  Longitude  Latitude                Data  Temperatura_Verif\n",
       "0         0     -42.75    -14.25 2017-01-01 00:00:00             22.192\n",
       "1         1     -42.75    -14.25 2017-01-01 01:00:00             18.516\n",
       "2         2     -42.75    -14.25 2017-01-01 02:00:00             17.633\n",
       "3         3     -42.75    -14.25 2017-01-01 03:00:00             16.916\n",
       "4         4     -42.75    -14.25 2017-01-01 04:00:00             16.483\n",
       "...     ...        ...       ...                 ...                ...\n",
       "8793   8793     -42.75    -14.25 2018-01-02 09:00:00             23.534\n",
       "8794   8794     -42.75    -14.25 2018-01-02 10:00:00             24.666\n",
       "8795   8795     -42.75    -14.25 2018-01-02 11:00:00             24.734\n",
       "8796   8796     -42.75    -14.25 2018-01-02 12:00:00             24.550\n",
       "8797   8797     -42.75    -14.25 2018-01-02 13:00:00             24.716\n",
       "\n",
       "[8798 rows x 5 columns]"
      ]
     },
     "execution_count": 26,
     "metadata": {},
     "output_type": "execute_result"
    }
   ],
   "source": [
    "dfTemperatura.head(-10)"
   ]
  },
  {
   "cell_type": "markdown",
   "id": "7462dcdc-daa0-4cad-a944-a264ce575254",
   "metadata": {},
   "source": [
    "### **E. Exporta Resultados**"
   ]
  },
  {
   "cell_type": "code",
   "execution_count": 27,
   "id": "ef87a932-b74b-48fe-b151-a8ec29013fef",
   "metadata": {},
   "outputs": [],
   "source": [
    "output_file = '../../../../PrevisaoVento/Data/process/cenario2/temperatura_ajustada.csv'\n",
    "dfTemperatura.to_csv(output_file, sep=';', encoding='utf-8')"
   ]
  },
  {
   "cell_type": "code",
   "execution_count": null,
   "id": "be5441d5-7466-4959-b7ed-76922db78787",
   "metadata": {},
   "outputs": [],
   "source": []
  }
 ],
 "metadata": {
  "kernelspec": {
   "display_name": "Python 3",
   "language": "python",
   "name": "python3"
  },
  "language_info": {
   "codemirror_mode": {
    "name": "ipython",
    "version": 3
   },
   "file_extension": ".py",
   "mimetype": "text/x-python",
   "name": "python",
   "nbconvert_exporter": "python",
   "pygments_lexer": "ipython3",
   "version": "3.7.10"
  }
 },
 "nbformat": 4,
 "nbformat_minor": 5
}
