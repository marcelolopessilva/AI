{
 "cells": [
  {
   "cell_type": "code",
   "execution_count": 1,
   "id": "eb7d0d19-ccda-4e67-b305-088b8bbf3c85",
   "metadata": {},
   "outputs": [
    {
     "name": "stderr",
     "output_type": "stream",
     "text": [
      "d:\\anaconda3\\lib\\site-packages\\numpy\\_distributor_init.py:32: UserWarning: loaded more than 1 DLL from .libs:\n",
      "d:\\anaconda3\\lib\\site-packages\\numpy\\.libs\\libopenblas.NOIJJG62EMASZI6NYURL6JBKM4EVBGM7.gfortran-win_amd64.dll\n",
      "d:\\anaconda3\\lib\\site-packages\\numpy\\.libs\\libopenblas.WCDJNK7YVMPZQ2ME2ZZHJJRJ3JIKNDB7.gfortran-win_amd64.dll\n",
      "  stacklevel=1)\n"
     ]
    }
   ],
   "source": [
    "import numpy as np\n",
    "import pandas as pd\n",
    "from datetime import datetime,date,time\n",
    "from dateutil.relativedelta import relativedelta\n"
   ]
  },
  {
   "cell_type": "markdown",
   "id": "d4de6591-f4da-4527-8263-f74933fa9424",
   "metadata": {},
   "source": [
    "### **A) Coleta dos Dados de Direção do Vento**"
   ]
  },
  {
   "cell_type": "code",
   "execution_count": 2,
   "id": "ce4ae9a9-fde5-4f5f-8cd6-1dfbbaa3f0c5",
   "metadata": {},
   "outputs": [],
   "source": [
    "source_file = '../../../../PrevisaoVento/Data/raw/Variaveis_EPE/BAUET2_CAETITÉ_2_PRE_Verif_EPE_edit.txt'"
   ]
  },
  {
   "cell_type": "code",
   "execution_count": 3,
   "id": "f3ba86b3-1f9e-4435-8ddc-c3fb18fb3940",
   "metadata": {},
   "outputs": [],
   "source": [
    "df_coleta = pd.read_csv(source_file, delimiter = ';' , header=None )"
   ]
  },
  {
   "cell_type": "markdown",
   "id": "533e1214-19b9-470f-8d35-9b5cedd6736d",
   "metadata": {},
   "source": [
    "### **B) Sobre os Dados no Patio 1**"
   ]
  },
  {
   "cell_type": "markdown",
   "id": "7e7cf551-72c8-477b-8984-53dd2ca27235",
   "metadata": {},
   "source": [
    "#### <span style=\"color:#DC143C\">**B1.Formato dos Dados**"
   ]
  },
  {
   "cell_type": "code",
   "execution_count": 4,
   "id": "05e5dc6d-2f12-4267-8f14-bd7028017935",
   "metadata": {},
   "outputs": [
    {
     "data": {
      "text/plain": [
       "(1622, 49)"
      ]
     },
     "execution_count": 4,
     "metadata": {},
     "output_type": "execute_result"
    }
   ],
   "source": [
    "df_coleta.shape # formato da matriz"
   ]
  },
  {
   "cell_type": "markdown",
   "id": "9d24ab44-4f41-4132-84db-1977047f5cad",
   "metadata": {},
   "source": [
    "#### <span style=\"color:#DC143C\">**B2.Visao do Dataframe**"
   ]
  },
  {
   "cell_type": "code",
   "execution_count": 5,
   "id": "264c2fda-4d8e-4114-8641-6fb08f2df705",
   "metadata": {},
   "outputs": [
    {
     "data": {
      "text/html": [
       "<div>\n",
       "<style scoped>\n",
       "    .dataframe tbody tr th:only-of-type {\n",
       "        vertical-align: middle;\n",
       "    }\n",
       "\n",
       "    .dataframe tbody tr th {\n",
       "        vertical-align: top;\n",
       "    }\n",
       "\n",
       "    .dataframe thead th {\n",
       "        text-align: right;\n",
       "    }\n",
       "</style>\n",
       "<table border=\"1\" class=\"dataframe\">\n",
       "  <thead>\n",
       "    <tr style=\"text-align: right;\">\n",
       "      <th></th>\n",
       "      <th>0</th>\n",
       "      <th>1</th>\n",
       "      <th>2</th>\n",
       "      <th>3</th>\n",
       "      <th>4</th>\n",
       "      <th>5</th>\n",
       "      <th>6</th>\n",
       "      <th>7</th>\n",
       "      <th>8</th>\n",
       "      <th>9</th>\n",
       "      <th>...</th>\n",
       "      <th>39</th>\n",
       "      <th>40</th>\n",
       "      <th>41</th>\n",
       "      <th>42</th>\n",
       "      <th>43</th>\n",
       "      <th>44</th>\n",
       "      <th>45</th>\n",
       "      <th>46</th>\n",
       "      <th>47</th>\n",
       "      <th>48</th>\n",
       "    </tr>\n",
       "  </thead>\n",
       "  <tbody>\n",
       "    <tr>\n",
       "      <th>0</th>\n",
       "      <td>20170101</td>\n",
       "      <td>882.334</td>\n",
       "      <td>882.334</td>\n",
       "      <td>882.333</td>\n",
       "      <td>882.333</td>\n",
       "      <td>882.0</td>\n",
       "      <td>882.0</td>\n",
       "      <td>882.000</td>\n",
       "      <td>882.000</td>\n",
       "      <td>882.333</td>\n",
       "      <td>...</td>\n",
       "      <td>883.0</td>\n",
       "      <td>883.000</td>\n",
       "      <td>883.0</td>\n",
       "      <td>883.0</td>\n",
       "      <td>884.0</td>\n",
       "      <td>884.000</td>\n",
       "      <td>884.0</td>\n",
       "      <td>884.000</td>\n",
       "      <td>883.333</td>\n",
       "      <td>883.0</td>\n",
       "    </tr>\n",
       "    <tr>\n",
       "      <th>1</th>\n",
       "      <td>20170102</td>\n",
       "      <td>883.000</td>\n",
       "      <td>882.667</td>\n",
       "      <td>882.000</td>\n",
       "      <td>882.000</td>\n",
       "      <td>882.0</td>\n",
       "      <td>882.0</td>\n",
       "      <td>881.667</td>\n",
       "      <td>881.333</td>\n",
       "      <td>882.000</td>\n",
       "      <td>...</td>\n",
       "      <td>881.0</td>\n",
       "      <td>881.000</td>\n",
       "      <td>881.0</td>\n",
       "      <td>881.0</td>\n",
       "      <td>881.0</td>\n",
       "      <td>881.333</td>\n",
       "      <td>881.0</td>\n",
       "      <td>881.667</td>\n",
       "      <td>882.000</td>\n",
       "      <td>882.0</td>\n",
       "    </tr>\n",
       "    <tr>\n",
       "      <th>2</th>\n",
       "      <td>20170103</td>\n",
       "      <td>882.000</td>\n",
       "      <td>881.000</td>\n",
       "      <td>881.000</td>\n",
       "      <td>881.000</td>\n",
       "      <td>881.0</td>\n",
       "      <td>881.0</td>\n",
       "      <td>881.000</td>\n",
       "      <td>881.000</td>\n",
       "      <td>881.000</td>\n",
       "      <td>...</td>\n",
       "      <td>881.0</td>\n",
       "      <td>881.000</td>\n",
       "      <td>881.0</td>\n",
       "      <td>881.0</td>\n",
       "      <td>882.0</td>\n",
       "      <td>882.000</td>\n",
       "      <td>882.0</td>\n",
       "      <td>882.000</td>\n",
       "      <td>882.000</td>\n",
       "      <td>882.0</td>\n",
       "    </tr>\n",
       "    <tr>\n",
       "      <th>3</th>\n",
       "      <td>20170104</td>\n",
       "      <td>882.000</td>\n",
       "      <td>882.000</td>\n",
       "      <td>882.000</td>\n",
       "      <td>882.000</td>\n",
       "      <td>882.0</td>\n",
       "      <td>882.0</td>\n",
       "      <td>882.000</td>\n",
       "      <td>882.000</td>\n",
       "      <td>882.000</td>\n",
       "      <td>...</td>\n",
       "      <td>882.0</td>\n",
       "      <td>882.667</td>\n",
       "      <td>883.0</td>\n",
       "      <td>883.0</td>\n",
       "      <td>883.0</td>\n",
       "      <td>883.000</td>\n",
       "      <td>884.0</td>\n",
       "      <td>884.000</td>\n",
       "      <td>884.000</td>\n",
       "      <td>884.0</td>\n",
       "    </tr>\n",
       "    <tr>\n",
       "      <th>4</th>\n",
       "      <td>20170105</td>\n",
       "      <td>883.000</td>\n",
       "      <td>883.000</td>\n",
       "      <td>883.000</td>\n",
       "      <td>883.000</td>\n",
       "      <td>883.0</td>\n",
       "      <td>883.0</td>\n",
       "      <td>883.000</td>\n",
       "      <td>883.000</td>\n",
       "      <td>883.000</td>\n",
       "      <td>...</td>\n",
       "      <td>883.0</td>\n",
       "      <td>883.000</td>\n",
       "      <td>883.0</td>\n",
       "      <td>883.0</td>\n",
       "      <td>883.0</td>\n",
       "      <td>884.000</td>\n",
       "      <td>884.0</td>\n",
       "      <td>884.000</td>\n",
       "      <td>884.000</td>\n",
       "      <td>884.0</td>\n",
       "    </tr>\n",
       "  </tbody>\n",
       "</table>\n",
       "<p>5 rows × 49 columns</p>\n",
       "</div>"
      ],
      "text/plain": [
       "         0        1        2        3        4      5      6        7   \\\n",
       "0  20170101  882.334  882.334  882.333  882.333  882.0  882.0  882.000   \n",
       "1  20170102  883.000  882.667  882.000  882.000  882.0  882.0  881.667   \n",
       "2  20170103  882.000  881.000  881.000  881.000  881.0  881.0  881.000   \n",
       "3  20170104  882.000  882.000  882.000  882.000  882.0  882.0  882.000   \n",
       "4  20170105  883.000  883.000  883.000  883.000  883.0  883.0  883.000   \n",
       "\n",
       "        8        9   ...     39       40     41     42     43       44     45  \\\n",
       "0  882.000  882.333  ...  883.0  883.000  883.0  883.0  884.0  884.000  884.0   \n",
       "1  881.333  882.000  ...  881.0  881.000  881.0  881.0  881.0  881.333  881.0   \n",
       "2  881.000  881.000  ...  881.0  881.000  881.0  881.0  882.0  882.000  882.0   \n",
       "3  882.000  882.000  ...  882.0  882.667  883.0  883.0  883.0  883.000  884.0   \n",
       "4  883.000  883.000  ...  883.0  883.000  883.0  883.0  883.0  884.000  884.0   \n",
       "\n",
       "        46       47     48  \n",
       "0  884.000  883.333  883.0  \n",
       "1  881.667  882.000  882.0  \n",
       "2  882.000  882.000  882.0  \n",
       "3  884.000  884.000  884.0  \n",
       "4  884.000  884.000  884.0  \n",
       "\n",
       "[5 rows x 49 columns]"
      ]
     },
     "execution_count": 5,
     "metadata": {},
     "output_type": "execute_result"
    }
   ],
   "source": [
    "df_coleta.head(5)  # visão de 5 linhas"
   ]
  },
  {
   "cell_type": "markdown",
   "id": "5946208f-3f8e-42e8-87cf-5673729dcee3",
   "metadata": {},
   "source": [
    "### **C) Extração os Dados de 2017**"
   ]
  },
  {
   "cell_type": "markdown",
   "id": "03d6e54e-5dcc-4494-924a-26cf0c51a58b",
   "metadata": {},
   "source": [
    "#### <span style=\"color:#DC143C\"> **C1. Converter a primeira coluna em Data**"
   ]
  },
  {
   "cell_type": "code",
   "execution_count": 6,
   "id": "36ce0d92-bec5-4138-b9c0-719f3c3b4def",
   "metadata": {},
   "outputs": [],
   "source": [
    "df_coleta[0]= pd.to_datetime(df_coleta[0], format='%Y%m%d')"
   ]
  },
  {
   "cell_type": "markdown",
   "id": "99dc7a59-537f-4e2e-abd4-1d4e0e1c535c",
   "metadata": {},
   "source": [
    "#### <span style=\"color:#DC143C\"> **C2.Remove registros fora do Intervalo**"
   ]
  },
  {
   "cell_type": "code",
   "execution_count": 7,
   "id": "c8d8004c-2262-4629-93be-9a2fe1247087",
   "metadata": {},
   "outputs": [],
   "source": [
    "df_coleta = df_coleta.drop(df_coleta[df_coleta[0] > '2018-01-02'].index)\n",
    "df_coleta = df_coleta.drop(df_coleta[df_coleta[0] < '2017-01-01'].index)"
   ]
  },
  {
   "cell_type": "code",
   "execution_count": 8,
   "id": "a726e1ad-b45a-4bc3-87cd-399a03bbe9da",
   "metadata": {},
   "outputs": [],
   "source": [
    "# Inclui colunas de Latitude e Longitude\n",
    "df_coleta['longitude'] = -42.75\n",
    "df_coleta['latitude']  = -14.25 "
   ]
  },
  {
   "cell_type": "code",
   "execution_count": 9,
   "id": "1022a262-972a-4ae0-90e4-99843d269ebd",
   "metadata": {},
   "outputs": [],
   "source": [
    "# Transfere as 2 ultimas colunas para a primeira posição da lista\n",
    "cols = list(df_coleta)\n",
    "cols = [cols[-1]] + cols[:-1]\n",
    "df_coleta = df_coleta[cols]\n",
    "\n",
    "cols = list(df_coleta)\n",
    "cols = [cols[-1]] + cols[:-1]\n",
    "df_coleta = df_coleta[cols]"
   ]
  },
  {
   "cell_type": "code",
   "execution_count": 10,
   "id": "7a636996-b57d-4214-a5a9-1476430e1592",
   "metadata": {},
   "outputs": [],
   "source": [
    "df_coleta = df_coleta.reset_index()"
   ]
  },
  {
   "cell_type": "markdown",
   "id": "8d44ac71-093e-4f6a-9ca2-39b1fa170281",
   "metadata": {},
   "source": [
    "### **D) Formatação dos Dados**"
   ]
  },
  {
   "cell_type": "markdown",
   "id": "9b4d87e8-3b0e-48ad-b8a6-52dabb0b2e1b",
   "metadata": {},
   "source": [
    "#### <span style=\"color:#DC143C\"> **D1. Migrar os dados para o Formato**"
   ]
  },
  {
   "cell_type": "code",
   "execution_count": 11,
   "id": "b703eead-99a7-457d-9566-b951ac2ed89e",
   "metadata": {},
   "outputs": [],
   "source": [
    "frente = ['Longitude', 'Latitude', 'Data', 'Valor30_1', 'Valor30_2']  # Cabeçalho\n",
    "df_pressao = pd.DataFrame(columns=frente)  # Criação de um dataframe vazio\n",
    "    \n",
    "Linha1    =  df_coleta.shape[0] \n",
    "Colunas1  =  df_coleta.shape[1] \n",
    "\n",
    "for lin2 in range(Linha1):  \n",
    "    refhora = 0\n",
    "    \n",
    "    for col in range (Colunas1):        \n",
    "        if col > 0:            \n",
    "        \n",
    "            if col % 2 != 0: # Se o número (col) for impar                   \n",
    "               \n",
    "                if col < 49:\n",
    "                    \n",
    "                    Data = df_coleta.loc[lin2,0]\n",
    "                                  \n",
    "                    hora = time(hour=refhora, minute=0, second=0)            \n",
    "                    dataCompleta = datetime.combine(Data, hora)\n",
    "                    #print(dataCompleta)\n",
    "                    lin_alvo = [df_coleta.loc[lin2,'longitude'], df_coleta.loc[lin2,'latitude'], dataCompleta , df_coleta.loc[lin2,col], df_coleta.loc[lin2,col+1]] \n",
    "                    # print(lin_alvo)\n",
    "                    df_pressao.loc[len(df_pressao)] = lin_alvo  # adding a row\n",
    "                         \n",
    "                refhora = refhora + 1          \n",
    "                \n"
   ]
  },
  {
   "cell_type": "markdown",
   "id": "047f786e-a658-4915-aa93-489a929be333",
   "metadata": {},
   "source": [
    "#### <span style=\"color:#DC143C\"> **D2. Informações sobre os Tipos de Dados**"
   ]
  },
  {
   "cell_type": "code",
   "execution_count": 12,
   "id": "bcc3e208-9f7c-4b31-8c06-8bfe7250cac5",
   "metadata": {},
   "outputs": [
    {
     "name": "stdout",
     "output_type": "stream",
     "text": [
      "<class 'pandas.core.frame.DataFrame'>\n",
      "Int64Index: 8808 entries, 0 to 8807\n",
      "Data columns (total 5 columns):\n",
      " #   Column     Non-Null Count  Dtype         \n",
      "---  ------     --------------  -----         \n",
      " 0   Longitude  8808 non-null   float64       \n",
      " 1   Latitude   8808 non-null   float64       \n",
      " 2   Data       8808 non-null   datetime64[ns]\n",
      " 3   Valor30_1  8808 non-null   float64       \n",
      " 4   Valor30_2  8808 non-null   float64       \n",
      "dtypes: datetime64[ns](1), float64(4)\n",
      "memory usage: 412.9 KB\n"
     ]
    }
   ],
   "source": [
    "df_pressao.info()"
   ]
  },
  {
   "cell_type": "code",
   "execution_count": 13,
   "id": "98d86317-e634-4c8c-825a-41a6f8b855f1",
   "metadata": {},
   "outputs": [
    {
     "data": {
      "text/plain": [
       "(8808, 5)"
      ]
     },
     "execution_count": 13,
     "metadata": {},
     "output_type": "execute_result"
    }
   ],
   "source": [
    "df_pressao.shape"
   ]
  },
  {
   "cell_type": "code",
   "execution_count": 14,
   "id": "68a2c28a-e035-4877-9966-3c2d7bfeaac8",
   "metadata": {},
   "outputs": [],
   "source": [
    "df_pressao = df_pressao.reset_index()"
   ]
  },
  {
   "cell_type": "markdown",
   "id": "4da2865a-4196-4ed5-8902-d50b7f4bc0f6",
   "metadata": {},
   "source": [
    "#### <span style=\"color:#DC143C\"> **D3. Agregar Magnitude para 1H**"
   ]
  },
  {
   "cell_type": "code",
   "execution_count": 15,
   "id": "2a222de4-d6d1-4cce-b313-adfaf891a1b8",
   "metadata": {},
   "outputs": [],
   "source": [
    "df_pressao['pressao_Verif'] = (df_pressao['Valor30_1'] + df_pressao['Valor30_2']) / 2"
   ]
  },
  {
   "cell_type": "code",
   "execution_count": 16,
   "id": "1046af49-9702-4e98-af8f-2409184b316e",
   "metadata": {},
   "outputs": [],
   "source": [
    "# Formatar o resultado com 2 casas decimais\n",
    "df_pressao['pressao_Verif'] = df_pressao['pressao_Verif'].round(decimals=3)"
   ]
  },
  {
   "cell_type": "code",
   "execution_count": 17,
   "id": "e0216b72-8e85-4473-b40d-0c0380e90f7f",
   "metadata": {},
   "outputs": [],
   "source": [
    "df_pressao = df_pressao.drop('Valor30_1', 1)\n",
    "df_pressao = df_pressao.drop('Valor30_2', 1)"
   ]
  },
  {
   "cell_type": "code",
   "execution_count": 18,
   "id": "12c383d8-474e-47ba-a7f8-9001475fbb52",
   "metadata": {},
   "outputs": [
    {
     "data": {
      "text/html": [
       "<div>\n",
       "<style scoped>\n",
       "    .dataframe tbody tr th:only-of-type {\n",
       "        vertical-align: middle;\n",
       "    }\n",
       "\n",
       "    .dataframe tbody tr th {\n",
       "        vertical-align: top;\n",
       "    }\n",
       "\n",
       "    .dataframe thead th {\n",
       "        text-align: right;\n",
       "    }\n",
       "</style>\n",
       "<table border=\"1\" class=\"dataframe\">\n",
       "  <thead>\n",
       "    <tr style=\"text-align: right;\">\n",
       "      <th></th>\n",
       "      <th>index</th>\n",
       "      <th>Longitude</th>\n",
       "      <th>Latitude</th>\n",
       "      <th>Data</th>\n",
       "      <th>pressao_Verif</th>\n",
       "    </tr>\n",
       "  </thead>\n",
       "  <tbody>\n",
       "    <tr>\n",
       "      <th>0</th>\n",
       "      <td>0</td>\n",
       "      <td>-42.75</td>\n",
       "      <td>-14.25</td>\n",
       "      <td>2017-01-01 00:00:00</td>\n",
       "      <td>882.334</td>\n",
       "    </tr>\n",
       "    <tr>\n",
       "      <th>1</th>\n",
       "      <td>1</td>\n",
       "      <td>-42.75</td>\n",
       "      <td>-14.25</td>\n",
       "      <td>2017-01-01 01:00:00</td>\n",
       "      <td>882.333</td>\n",
       "    </tr>\n",
       "    <tr>\n",
       "      <th>2</th>\n",
       "      <td>2</td>\n",
       "      <td>-42.75</td>\n",
       "      <td>-14.25</td>\n",
       "      <td>2017-01-01 02:00:00</td>\n",
       "      <td>882.000</td>\n",
       "    </tr>\n",
       "    <tr>\n",
       "      <th>3</th>\n",
       "      <td>3</td>\n",
       "      <td>-42.75</td>\n",
       "      <td>-14.25</td>\n",
       "      <td>2017-01-01 03:00:00</td>\n",
       "      <td>882.000</td>\n",
       "    </tr>\n",
       "    <tr>\n",
       "      <th>4</th>\n",
       "      <td>4</td>\n",
       "      <td>-42.75</td>\n",
       "      <td>-14.25</td>\n",
       "      <td>2017-01-01 04:00:00</td>\n",
       "      <td>882.666</td>\n",
       "    </tr>\n",
       "    <tr>\n",
       "      <th>...</th>\n",
       "      <td>...</td>\n",
       "      <td>...</td>\n",
       "      <td>...</td>\n",
       "      <td>...</td>\n",
       "      <td>...</td>\n",
       "    </tr>\n",
       "    <tr>\n",
       "      <th>8793</th>\n",
       "      <td>8793</td>\n",
       "      <td>-42.75</td>\n",
       "      <td>-14.25</td>\n",
       "      <td>2018-01-02 09:00:00</td>\n",
       "      <td>882.000</td>\n",
       "    </tr>\n",
       "    <tr>\n",
       "      <th>8794</th>\n",
       "      <td>8794</td>\n",
       "      <td>-42.75</td>\n",
       "      <td>-14.25</td>\n",
       "      <td>2018-01-02 10:00:00</td>\n",
       "      <td>882.000</td>\n",
       "    </tr>\n",
       "    <tr>\n",
       "      <th>8795</th>\n",
       "      <td>8795</td>\n",
       "      <td>-42.75</td>\n",
       "      <td>-14.25</td>\n",
       "      <td>2018-01-02 11:00:00</td>\n",
       "      <td>882.000</td>\n",
       "    </tr>\n",
       "    <tr>\n",
       "      <th>8796</th>\n",
       "      <td>8796</td>\n",
       "      <td>-42.75</td>\n",
       "      <td>-14.25</td>\n",
       "      <td>2018-01-02 12:00:00</td>\n",
       "      <td>881.166</td>\n",
       "    </tr>\n",
       "    <tr>\n",
       "      <th>8797</th>\n",
       "      <td>8797</td>\n",
       "      <td>-42.75</td>\n",
       "      <td>-14.25</td>\n",
       "      <td>2018-01-02 13:00:00</td>\n",
       "      <td>880.334</td>\n",
       "    </tr>\n",
       "  </tbody>\n",
       "</table>\n",
       "<p>8798 rows × 5 columns</p>\n",
       "</div>"
      ],
      "text/plain": [
       "      index  Longitude  Latitude                Data  pressao_Verif\n",
       "0         0     -42.75    -14.25 2017-01-01 00:00:00        882.334\n",
       "1         1     -42.75    -14.25 2017-01-01 01:00:00        882.333\n",
       "2         2     -42.75    -14.25 2017-01-01 02:00:00        882.000\n",
       "3         3     -42.75    -14.25 2017-01-01 03:00:00        882.000\n",
       "4         4     -42.75    -14.25 2017-01-01 04:00:00        882.666\n",
       "...     ...        ...       ...                 ...            ...\n",
       "8793   8793     -42.75    -14.25 2018-01-02 09:00:00        882.000\n",
       "8794   8794     -42.75    -14.25 2018-01-02 10:00:00        882.000\n",
       "8795   8795     -42.75    -14.25 2018-01-02 11:00:00        882.000\n",
       "8796   8796     -42.75    -14.25 2018-01-02 12:00:00        881.166\n",
       "8797   8797     -42.75    -14.25 2018-01-02 13:00:00        880.334\n",
       "\n",
       "[8798 rows x 5 columns]"
      ]
     },
     "execution_count": 18,
     "metadata": {},
     "output_type": "execute_result"
    }
   ],
   "source": [
    "df_pressao.head(-10)"
   ]
  },
  {
   "cell_type": "markdown",
   "id": "7462dcdc-daa0-4cad-a944-a264ce575254",
   "metadata": {},
   "source": [
    "### **E. Exporta Resultados**"
   ]
  },
  {
   "cell_type": "code",
   "execution_count": 19,
   "id": "ef87a932-b74b-48fe-b151-a8ec29013fef",
   "metadata": {},
   "outputs": [],
   "source": [
    "output_file = '../../../../PrevisaoVento/Data/process/cenario2/pressao_ajustada.csv'\n",
    "df_pressao.to_csv(output_file, sep=';', encoding='utf-8')"
   ]
  },
  {
   "cell_type": "code",
   "execution_count": null,
   "id": "be5441d5-7466-4959-b7ed-76922db78787",
   "metadata": {},
   "outputs": [],
   "source": []
  }
 ],
 "metadata": {
  "kernelspec": {
   "display_name": "Python 3",
   "language": "python",
   "name": "python3"
  },
  "language_info": {
   "codemirror_mode": {
    "name": "ipython",
    "version": 3
   },
   "file_extension": ".py",
   "mimetype": "text/x-python",
   "name": "python",
   "nbconvert_exporter": "python",
   "pygments_lexer": "ipython3",
   "version": "3.7.10"
  }
 },
 "nbformat": 4,
 "nbformat_minor": 5
}
