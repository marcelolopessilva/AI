{
 "cells": [
  {
   "cell_type": "markdown",
   "metadata": {},
   "source": [
    "# Preparação dos dados"
   ]
  },
  {
   "cell_type": "markdown",
   "metadata": {},
   "source": [
    "#### 1 - Carga dos dados no dataframe"
   ]
  },
  {
   "cell_type": "code",
   "execution_count": 1,
   "metadata": {},
   "outputs": [],
   "source": [
    "import pandas as pd\n",
    "import numpy as np\n",
    "from bleach.sanitizer import Cleaner\n",
    "import regex as re"
   ]
  },
  {
   "cell_type": "code",
   "execution_count": 2,
   "metadata": {},
   "outputs": [
    {
     "data": {
      "text/html": [
       "<div>\n",
       "<style scoped>\n",
       "    .dataframe tbody tr th:only-of-type {\n",
       "        vertical-align: middle;\n",
       "    }\n",
       "\n",
       "    .dataframe tbody tr th {\n",
       "        vertical-align: top;\n",
       "    }\n",
       "\n",
       "    .dataframe thead th {\n",
       "        text-align: right;\n",
       "    }\n",
       "</style>\n",
       "<table border=\"1\" class=\"dataframe\">\n",
       "  <thead>\n",
       "    <tr style=\"text-align: right;\">\n",
       "      <th></th>\n",
       "      <th>dsc_objeto</th>\n",
       "      <th>dsc_informacao</th>\n",
       "      <th>din_inclusao</th>\n",
       "    </tr>\n",
       "    <tr>\n",
       "      <th>id_informacaobpreg</th>\n",
       "      <th></th>\n",
       "      <th></th>\n",
       "      <th></th>\n",
       "    </tr>\n",
       "  </thead>\n",
       "  <tbody>\n",
       "    <tr>\n",
       "      <th>1</th>\n",
       "      <td>Despacho nº 1665  que libera a unidade gerador...</td>\n",
       "      <td>Despacho nº 1665  que libera a unidade gerador...</td>\n",
       "      <td>2007-05-29</td>\n",
       "    </tr>\n",
       "    <tr>\n",
       "      <th>2</th>\n",
       "      <td>Despacho No. 1.694 da SFG que libera a UG1 (40...</td>\n",
       "      <td>Despacho No. 1.694 da SFG que libera a UG1 (40...</td>\n",
       "      <td>2007-05-31</td>\n",
       "    </tr>\n",
       "    <tr>\n",
       "      <th>3</th>\n",
       "      <td>Despacho nº 1731  que libera a unidade gerador...</td>\n",
       "      <td>Despacho nº 1731  que libera a unidade gerador...</td>\n",
       "      <td>2007-06-01</td>\n",
       "    </tr>\n",
       "    <tr>\n",
       "      <th>4</th>\n",
       "      <td>Portaria MME No. 100/2007  publicada no DOU de...</td>\n",
       "      <td>Portaria MME No. 100/2007  publicada no DOU de...</td>\n",
       "      <td>2007-06-01</td>\n",
       "    </tr>\n",
       "    <tr>\n",
       "      <th>5</th>\n",
       "      <td>Despacho nº 1617  que libera a unidade gerador...</td>\n",
       "      <td>Despacho nº 1617  que libera a unidade gerador...</td>\n",
       "      <td>2007-06-01</td>\n",
       "    </tr>\n",
       "  </tbody>\n",
       "</table>\n",
       "</div>"
      ],
      "text/plain": [
       "                                                           dsc_objeto  \\\n",
       "id_informacaobpreg                                                      \n",
       "1                   Despacho nº 1665  que libera a unidade gerador...   \n",
       "2                   Despacho No. 1.694 da SFG que libera a UG1 (40...   \n",
       "3                   Despacho nº 1731  que libera a unidade gerador...   \n",
       "4                   Portaria MME No. 100/2007  publicada no DOU de...   \n",
       "5                   Despacho nº 1617  que libera a unidade gerador...   \n",
       "\n",
       "                                                       dsc_informacao  \\\n",
       "id_informacaobpreg                                                      \n",
       "1                   Despacho nº 1665  que libera a unidade gerador...   \n",
       "2                   Despacho No. 1.694 da SFG que libera a UG1 (40...   \n",
       "3                   Despacho nº 1731  que libera a unidade gerador...   \n",
       "4                   Portaria MME No. 100/2007  publicada no DOU de...   \n",
       "5                   Despacho nº 1617  que libera a unidade gerador...   \n",
       "\n",
       "                   din_inclusao  \n",
       "id_informacaobpreg               \n",
       "1                    2007-05-29  \n",
       "2                    2007-05-31  \n",
       "3                    2007-06-01  \n",
       "4                    2007-06-01  \n",
       "5                    2007-06-01  "
      ]
     },
     "execution_count": 2,
     "metadata": {},
     "output_type": "execute_result"
    }
   ],
   "source": [
    "# Realizando parse de data em coluna única no momento da carga dos dados no dataframe\n",
    "df = pd.read_csv(\"../../Data/Raw/informacao.csv\", sep=\";\", parse_dates=['din_inclusao'], index_col=['id_informacaobpreg']) \n",
    "\n",
    "df.head()"
   ]
  },
  {
   "cell_type": "code",
   "execution_count": 4,
   "metadata": {},
   "outputs": [
    {
     "data": {
      "text/html": [
       "<div>\n",
       "<style scoped>\n",
       "    .dataframe tbody tr th:only-of-type {\n",
       "        vertical-align: middle;\n",
       "    }\n",
       "\n",
       "    .dataframe tbody tr th {\n",
       "        vertical-align: top;\n",
       "    }\n",
       "\n",
       "    .dataframe thead th {\n",
       "        text-align: right;\n",
       "    }\n",
       "</style>\n",
       "<table border=\"1\" class=\"dataframe\">\n",
       "  <thead>\n",
       "    <tr style=\"text-align: right;\">\n",
       "      <th></th>\n",
       "      <th>dsc_objeto</th>\n",
       "      <th>dsc_informacao</th>\n",
       "      <th>din_inclusao</th>\n",
       "    </tr>\n",
       "    <tr>\n",
       "      <th>id_informacaobpreg</th>\n",
       "      <th></th>\n",
       "      <th></th>\n",
       "      <th></th>\n",
       "    </tr>\n",
       "  </thead>\n",
       "  <tbody>\n",
       "    <tr>\n",
       "      <th>60913</th>\n",
       "      <td>DESPACHOS SFG/ANEEL Nº 835 AO 837  DE 25 DE MA...</td>\n",
       "      <td>&lt;p style=\"text-align:justify\"&gt;Decis&amp;atilde o: ...</td>\n",
       "      <td>2022-03-28 08:43:44.330</td>\n",
       "    </tr>\n",
       "    <tr>\n",
       "      <th>60914</th>\n",
       "      <td>RETIFICAÇÃO SCG/ANEEL DESPACHO Nº 742  DE  18 ...</td>\n",
       "      <td>&lt;p style=\"text-align:justify\"&gt;Na &amp;iacute ntegr...</td>\n",
       "      <td>2022-03-28 08:43:44.397</td>\n",
       "    </tr>\n",
       "    <tr>\n",
       "      <th>60915</th>\n",
       "      <td>DESPACHO ANEEL Nº 729  DE 22 DE MARÇO DE 2022</td>\n",
       "      <td>&lt;p style=\"text-align:justify\"&gt;O DIRETOR-GERAL ...</td>\n",
       "      <td>2022-03-28 08:43:44.463</td>\n",
       "    </tr>\n",
       "    <tr>\n",
       "      <th>60916</th>\n",
       "      <td>DESPACHO ANEEL Nº 733  DE 22 DE MARÇO DE 2022</td>\n",
       "      <td>&lt;p style=\"text-align:justify\"&gt;O DIRETOR-GERAL ...</td>\n",
       "      <td>2022-03-28 08:43:44.547</td>\n",
       "    </tr>\n",
       "    <tr>\n",
       "      <th>60917</th>\n",
       "      <td>DESPACHO ANEEL Nº 736  DE 22 DE MARÇO DE 2022</td>\n",
       "      <td>&lt;p style=\"text-align:justify\"&gt;O DIRETOR DA AG&amp;...</td>\n",
       "      <td>2022-03-28 08:43:44.633</td>\n",
       "    </tr>\n",
       "  </tbody>\n",
       "</table>\n",
       "</div>"
      ],
      "text/plain": [
       "                                                           dsc_objeto  \\\n",
       "id_informacaobpreg                                                      \n",
       "60913               DESPACHOS SFG/ANEEL Nº 835 AO 837  DE 25 DE MA...   \n",
       "60914               RETIFICAÇÃO SCG/ANEEL DESPACHO Nº 742  DE  18 ...   \n",
       "60915                   DESPACHO ANEEL Nº 729  DE 22 DE MARÇO DE 2022   \n",
       "60916                   DESPACHO ANEEL Nº 733  DE 22 DE MARÇO DE 2022   \n",
       "60917                   DESPACHO ANEEL Nº 736  DE 22 DE MARÇO DE 2022   \n",
       "\n",
       "                                                       dsc_informacao  \\\n",
       "id_informacaobpreg                                                      \n",
       "60913               <p style=\"text-align:justify\">Decis&atilde o: ...   \n",
       "60914               <p style=\"text-align:justify\">Na &iacute ntegr...   \n",
       "60915               <p style=\"text-align:justify\">O DIRETOR-GERAL ...   \n",
       "60916               <p style=\"text-align:justify\">O DIRETOR-GERAL ...   \n",
       "60917               <p style=\"text-align:justify\">O DIRETOR DA AG&...   \n",
       "\n",
       "                              din_inclusao  \n",
       "id_informacaobpreg                          \n",
       "60913              2022-03-28 08:43:44.330  \n",
       "60914              2022-03-28 08:43:44.397  \n",
       "60915              2022-03-28 08:43:44.463  \n",
       "60916              2022-03-28 08:43:44.547  \n",
       "60917              2022-03-28 08:43:44.633  "
      ]
     },
     "execution_count": 4,
     "metadata": {},
     "output_type": "execute_result"
    }
   ],
   "source": [
    "df.tail(5)"
   ]
  },
  {
   "cell_type": "markdown",
   "metadata": {},
   "source": [
    "#### 2 - Verificações"
   ]
  },
  {
   "cell_type": "code",
   "execution_count": 5,
   "metadata": {},
   "outputs": [
    {
     "name": "stdout",
     "output_type": "stream",
     "text": [
      "<class 'pandas.core.frame.DataFrame'>\n",
      "Int64Index: 25767 entries, 1 to 60917\n",
      "Data columns (total 3 columns):\n",
      " #   Column          Non-Null Count  Dtype         \n",
      "---  ------          --------------  -----         \n",
      " 0   dsc_objeto      25767 non-null  object        \n",
      " 1   dsc_informacao  25767 non-null  object        \n",
      " 2   din_inclusao    25767 non-null  datetime64[ns]\n",
      "dtypes: datetime64[ns](1), object(2)\n",
      "memory usage: 805.2+ KB\n"
     ]
    }
   ],
   "source": [
    "df.info(show_counts=True)"
   ]
  },
  {
   "cell_type": "markdown",
   "metadata": {},
   "source": [
    "#### 2 - Limpeza"
   ]
  },
  {
   "cell_type": "markdown",
   "metadata": {},
   "source": [
    "Verificada tags html nos textos. Provavelemente em algum momento a aplicação forneceu a funcionalidade de texto rico para a edição de textos"
   ]
  },
  {
   "cell_type": "code",
   "execution_count": 9,
   "metadata": {},
   "outputs": [],
   "source": [
    "def limpa_ruido_texto(texto):\n",
    "    texto = re.sub('(&#xa0;)', ' ', texto)\n",
    "    texto = re.sub('(\\\\xa0)', ' ', texto)\n",
    "    texto = re.sub('color:#ffffff\">', ' ', texto)\n",
    "    texto = re.sub('</span>', ' </span>', texto)\n",
    "    texto = re.sub('\\uf0b7', ' ', texto)\n",
    "    texto = re.sub('\\uf044', ' ', texto)\n",
    "    return texto"
   ]
  },
  {
   "cell_type": "code",
   "execution_count": 7,
   "metadata": {},
   "outputs": [
    {
     "ename": "NameError",
     "evalue": "name 'limpa_ruido_texto' is not defined",
     "output_type": "error",
     "traceback": [
      "\u001b[1;31m---------------------------------------------------------------------------\u001b[0m",
      "\u001b[1;31mNameError\u001b[0m                                 Traceback (most recent call last)",
      "Input \u001b[1;32mIn [7]\u001b[0m, in \u001b[0;36m<cell line: 2>\u001b[1;34m()\u001b[0m\n\u001b[0;32m      1\u001b[0m \u001b[38;5;66;03m# Retira alguns ruídos preparando texto para a limpeza de tags html\u001b[39;00m\n\u001b[1;32m----> 2\u001b[0m df[\u001b[38;5;124m'\u001b[39m\u001b[38;5;124mdsc_informacao\u001b[39m\u001b[38;5;124m'\u001b[39m] \u001b[38;5;241m=\u001b[39m \u001b[43mdf\u001b[49m\u001b[43m[\u001b[49m\u001b[38;5;124;43m'\u001b[39;49m\u001b[38;5;124;43mdsc_informacao\u001b[39;49m\u001b[38;5;124;43m'\u001b[39;49m\u001b[43m]\u001b[49m\u001b[38;5;241;43m.\u001b[39;49m\u001b[43mapply\u001b[49m\u001b[43m(\u001b[49m\u001b[38;5;28;43;01mlambda\u001b[39;49;00m\u001b[43m \u001b[49m\u001b[43mx\u001b[49m\u001b[43m:\u001b[49m\u001b[43m \u001b[49m\u001b[43mlimpa_ruido_texto\u001b[49m\u001b[43m(\u001b[49m\u001b[43mx\u001b[49m\u001b[43m)\u001b[49m\u001b[43m)\u001b[49m\n",
      "File \u001b[1;32m~\\.virtualenvs\\mod6_algo_nao_supervisionados-eVDWf6jX\\lib\\site-packages\\pandas\\core\\series.py:4433\u001b[0m, in \u001b[0;36mSeries.apply\u001b[1;34m(self, func, convert_dtype, args, **kwargs)\u001b[0m\n\u001b[0;32m   4323\u001b[0m \u001b[38;5;28;01mdef\u001b[39;00m \u001b[38;5;21mapply\u001b[39m(\n\u001b[0;32m   4324\u001b[0m     \u001b[38;5;28mself\u001b[39m,\n\u001b[0;32m   4325\u001b[0m     func: AggFuncType,\n\u001b[1;32m   (...)\u001b[0m\n\u001b[0;32m   4328\u001b[0m     \u001b[38;5;241m*\u001b[39m\u001b[38;5;241m*\u001b[39mkwargs,\n\u001b[0;32m   4329\u001b[0m ) \u001b[38;5;241m-\u001b[39m\u001b[38;5;241m>\u001b[39m DataFrame \u001b[38;5;241m|\u001b[39m Series:\n\u001b[0;32m   4330\u001b[0m     \u001b[38;5;124;03m\"\"\"\u001b[39;00m\n\u001b[0;32m   4331\u001b[0m \u001b[38;5;124;03m    Invoke function on values of Series.\u001b[39;00m\n\u001b[0;32m   4332\u001b[0m \n\u001b[1;32m   (...)\u001b[0m\n\u001b[0;32m   4431\u001b[0m \u001b[38;5;124;03m    dtype: float64\u001b[39;00m\n\u001b[0;32m   4432\u001b[0m \u001b[38;5;124;03m    \"\"\"\u001b[39;00m\n\u001b[1;32m-> 4433\u001b[0m     \u001b[38;5;28;01mreturn\u001b[39;00m \u001b[43mSeriesApply\u001b[49m\u001b[43m(\u001b[49m\u001b[38;5;28;43mself\u001b[39;49m\u001b[43m,\u001b[49m\u001b[43m \u001b[49m\u001b[43mfunc\u001b[49m\u001b[43m,\u001b[49m\u001b[43m \u001b[49m\u001b[43mconvert_dtype\u001b[49m\u001b[43m,\u001b[49m\u001b[43m \u001b[49m\u001b[43margs\u001b[49m\u001b[43m,\u001b[49m\u001b[43m \u001b[49m\u001b[43mkwargs\u001b[49m\u001b[43m)\u001b[49m\u001b[38;5;241;43m.\u001b[39;49m\u001b[43mapply\u001b[49m\u001b[43m(\u001b[49m\u001b[43m)\u001b[49m\n",
      "File \u001b[1;32m~\\.virtualenvs\\mod6_algo_nao_supervisionados-eVDWf6jX\\lib\\site-packages\\pandas\\core\\apply.py:1082\u001b[0m, in \u001b[0;36mSeriesApply.apply\u001b[1;34m(self)\u001b[0m\n\u001b[0;32m   1078\u001b[0m \u001b[38;5;28;01mif\u001b[39;00m \u001b[38;5;28misinstance\u001b[39m(\u001b[38;5;28mself\u001b[39m\u001b[38;5;241m.\u001b[39mf, \u001b[38;5;28mstr\u001b[39m):\n\u001b[0;32m   1079\u001b[0m     \u001b[38;5;66;03m# if we are a string, try to dispatch\u001b[39;00m\n\u001b[0;32m   1080\u001b[0m     \u001b[38;5;28;01mreturn\u001b[39;00m \u001b[38;5;28mself\u001b[39m\u001b[38;5;241m.\u001b[39mapply_str()\n\u001b[1;32m-> 1082\u001b[0m \u001b[38;5;28;01mreturn\u001b[39;00m \u001b[38;5;28;43mself\u001b[39;49m\u001b[38;5;241;43m.\u001b[39;49m\u001b[43mapply_standard\u001b[49m\u001b[43m(\u001b[49m\u001b[43m)\u001b[49m\n",
      "File \u001b[1;32m~\\.virtualenvs\\mod6_algo_nao_supervisionados-eVDWf6jX\\lib\\site-packages\\pandas\\core\\apply.py:1137\u001b[0m, in \u001b[0;36mSeriesApply.apply_standard\u001b[1;34m(self)\u001b[0m\n\u001b[0;32m   1131\u001b[0m         values \u001b[38;5;241m=\u001b[39m obj\u001b[38;5;241m.\u001b[39mastype(\u001b[38;5;28mobject\u001b[39m)\u001b[38;5;241m.\u001b[39m_values\n\u001b[0;32m   1132\u001b[0m         \u001b[38;5;66;03m# error: Argument 2 to \"map_infer\" has incompatible type\u001b[39;00m\n\u001b[0;32m   1133\u001b[0m         \u001b[38;5;66;03m# \"Union[Callable[..., Any], str, List[Union[Callable[..., Any], str]],\u001b[39;00m\n\u001b[0;32m   1134\u001b[0m         \u001b[38;5;66;03m# Dict[Hashable, Union[Union[Callable[..., Any], str],\u001b[39;00m\n\u001b[0;32m   1135\u001b[0m         \u001b[38;5;66;03m# List[Union[Callable[..., Any], str]]]]]\"; expected\u001b[39;00m\n\u001b[0;32m   1136\u001b[0m         \u001b[38;5;66;03m# \"Callable[[Any], Any]\"\u001b[39;00m\n\u001b[1;32m-> 1137\u001b[0m         mapped \u001b[38;5;241m=\u001b[39m \u001b[43mlib\u001b[49m\u001b[38;5;241;43m.\u001b[39;49m\u001b[43mmap_infer\u001b[49m\u001b[43m(\u001b[49m\n\u001b[0;32m   1138\u001b[0m \u001b[43m            \u001b[49m\u001b[43mvalues\u001b[49m\u001b[43m,\u001b[49m\n\u001b[0;32m   1139\u001b[0m \u001b[43m            \u001b[49m\u001b[43mf\u001b[49m\u001b[43m,\u001b[49m\u001b[43m  \u001b[49m\u001b[38;5;66;43;03m# type: ignore[arg-type]\u001b[39;49;00m\n\u001b[0;32m   1140\u001b[0m \u001b[43m            \u001b[49m\u001b[43mconvert\u001b[49m\u001b[38;5;241;43m=\u001b[39;49m\u001b[38;5;28;43mself\u001b[39;49m\u001b[38;5;241;43m.\u001b[39;49m\u001b[43mconvert_dtype\u001b[49m\u001b[43m,\u001b[49m\n\u001b[0;32m   1141\u001b[0m \u001b[43m        \u001b[49m\u001b[43m)\u001b[49m\n\u001b[0;32m   1143\u001b[0m \u001b[38;5;28;01mif\u001b[39;00m \u001b[38;5;28mlen\u001b[39m(mapped) \u001b[38;5;129;01mand\u001b[39;00m \u001b[38;5;28misinstance\u001b[39m(mapped[\u001b[38;5;241m0\u001b[39m], ABCSeries):\n\u001b[0;32m   1144\u001b[0m     \u001b[38;5;66;03m# GH#43986 Need to do list(mapped) in order to get treated as nested\u001b[39;00m\n\u001b[0;32m   1145\u001b[0m     \u001b[38;5;66;03m#  See also GH#25959 regarding EA support\u001b[39;00m\n\u001b[0;32m   1146\u001b[0m     \u001b[38;5;28;01mreturn\u001b[39;00m obj\u001b[38;5;241m.\u001b[39m_constructor_expanddim(\u001b[38;5;28mlist\u001b[39m(mapped), index\u001b[38;5;241m=\u001b[39mobj\u001b[38;5;241m.\u001b[39mindex)\n",
      "File \u001b[1;32m~\\.virtualenvs\\mod6_algo_nao_supervisionados-eVDWf6jX\\lib\\site-packages\\pandas\\_libs\\lib.pyx:2870\u001b[0m, in \u001b[0;36mpandas._libs.lib.map_infer\u001b[1;34m()\u001b[0m\n",
      "Input \u001b[1;32mIn [7]\u001b[0m, in \u001b[0;36m<lambda>\u001b[1;34m(x)\u001b[0m\n\u001b[0;32m      1\u001b[0m \u001b[38;5;66;03m# Retira alguns ruídos preparando texto para a limpeza de tags html\u001b[39;00m\n\u001b[1;32m----> 2\u001b[0m df[\u001b[38;5;124m'\u001b[39m\u001b[38;5;124mdsc_informacao\u001b[39m\u001b[38;5;124m'\u001b[39m] \u001b[38;5;241m=\u001b[39m df[\u001b[38;5;124m'\u001b[39m\u001b[38;5;124mdsc_informacao\u001b[39m\u001b[38;5;124m'\u001b[39m]\u001b[38;5;241m.\u001b[39mapply(\u001b[38;5;28;01mlambda\u001b[39;00m x: \u001b[43mlimpa_ruido_texto\u001b[49m(x))\n",
      "\u001b[1;31mNameError\u001b[0m: name 'limpa_ruido_texto' is not defined"
     ]
    }
   ],
   "source": [
    "# Retira alguns ruídos preparando texto para a limpeza de tags html\n",
    "df['dsc_informacao'] = df['dsc_informacao'].apply(lambda x: limpa_ruido_texto(x))"
   ]
  },
  {
   "cell_type": "code",
   "execution_count": null,
   "metadata": {},
   "outputs": [],
   "source": [
    "cleaner = Cleaner(tags=[], attributes=[], styles=[], protocols=[], strip=True, strip_comments=True, filters=None)\n",
    "\n",
    "# Retira todas as tags html do texto\n",
    "df_mpo['Texto'] = df_mpo['Texto'].apply(lambda x: cleaner.clean(x))"
   ]
  }
 ],
 "metadata": {
  "interpreter": {
   "hash": "d9418d6f7a580fa2f4c5dedbb907f987bc07cf9e624d3f8228ee5c26d55a5eb5"
  },
  "kernelspec": {
   "display_name": "Python 3 (ipykernel)",
   "language": "python",
   "name": "python3"
  },
  "language_info": {
   "codemirror_mode": {
    "name": "ipython",
    "version": 3
   },
   "file_extension": ".py",
   "mimetype": "text/x-python",
   "name": "python",
   "nbconvert_exporter": "python",
   "pygments_lexer": "ipython3",
   "version": "3.10.1"
  }
 },
 "nbformat": 4,
 "nbformat_minor": 2
}
