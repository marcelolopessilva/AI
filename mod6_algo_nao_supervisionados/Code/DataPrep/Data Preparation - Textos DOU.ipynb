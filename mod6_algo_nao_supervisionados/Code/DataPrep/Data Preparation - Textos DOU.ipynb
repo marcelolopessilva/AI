{
 "cells": [
  {
   "cell_type": "markdown",
   "metadata": {},
   "source": [
    "# Preparação dos dados"
   ]
  },
  {
   "cell_type": "markdown",
   "metadata": {},
   "source": [
    "#### 1 - Carga dos dados no dataframe"
   ]
  },
  {
   "cell_type": "code",
   "execution_count": 73,
   "metadata": {},
   "outputs": [],
   "source": [
    "import pandas as pd\n",
    "import numpy as np\n",
    "from bleach.sanitizer import Cleaner\n",
    "import regex as re\n",
    "import html"
   ]
  },
  {
   "cell_type": "code",
   "execution_count": 74,
   "metadata": {},
   "outputs": [
    {
     "data": {
      "text/html": [
       "<div>\n",
       "<style scoped>\n",
       "    .dataframe tbody tr th:only-of-type {\n",
       "        vertical-align: middle;\n",
       "    }\n",
       "\n",
       "    .dataframe tbody tr th {\n",
       "        vertical-align: top;\n",
       "    }\n",
       "\n",
       "    .dataframe thead th {\n",
       "        text-align: right;\n",
       "    }\n",
       "</style>\n",
       "<table border=\"1\" class=\"dataframe\">\n",
       "  <thead>\n",
       "    <tr style=\"text-align: right;\">\n",
       "      <th></th>\n",
       "      <th>objeto</th>\n",
       "      <th>texto</th>\n",
       "      <th>data_inclusao</th>\n",
       "      <th>topico</th>\n",
       "    </tr>\n",
       "  </thead>\n",
       "  <tbody>\n",
       "    <tr>\n",
       "      <th>0</th>\n",
       "      <td>Despacho nº 1665  que libera a unidade gerador...</td>\n",
       "      <td>Despacho nº 1665  que libera a unidade gerador...</td>\n",
       "      <td>2007-05-29 00:00:00</td>\n",
       "      <td>[BDP] - LEGADO</td>\n",
       "    </tr>\n",
       "    <tr>\n",
       "      <th>1</th>\n",
       "      <td>Despacho No. 1.694 da SFG que libera a UG1 (40...</td>\n",
       "      <td>Despacho No. 1.694 da SFG que libera a UG1 (40...</td>\n",
       "      <td>2007-05-31 00:00:00</td>\n",
       "      <td>[BDP] - LEGADO</td>\n",
       "    </tr>\n",
       "    <tr>\n",
       "      <th>2</th>\n",
       "      <td>Despacho nº 1731  que libera a unidade gerador...</td>\n",
       "      <td>Despacho nº 1731  que libera a unidade gerador...</td>\n",
       "      <td>2007-06-01 00:00:00</td>\n",
       "      <td>[BDP] - LEGADO</td>\n",
       "    </tr>\n",
       "    <tr>\n",
       "      <th>3</th>\n",
       "      <td>Portaria MME No. 100/2007  publicada no DOU de...</td>\n",
       "      <td>Portaria MME No. 100/2007  publicada no DOU de...</td>\n",
       "      <td>2007-06-01 00:00:00</td>\n",
       "      <td>[BDP] - LEGADO</td>\n",
       "    </tr>\n",
       "    <tr>\n",
       "      <th>4</th>\n",
       "      <td>Despacho nº 1617  que libera a unidade gerador...</td>\n",
       "      <td>Despacho nº 1617  que libera a unidade gerador...</td>\n",
       "      <td>2007-06-01 00:00:00</td>\n",
       "      <td>[BDP] - LEGADO</td>\n",
       "    </tr>\n",
       "  </tbody>\n",
       "</table>\n",
       "</div>"
      ],
      "text/plain": [
       "                                              objeto  \\\n",
       "0  Despacho nº 1665  que libera a unidade gerador...   \n",
       "1  Despacho No. 1.694 da SFG que libera a UG1 (40...   \n",
       "2  Despacho nº 1731  que libera a unidade gerador...   \n",
       "3  Portaria MME No. 100/2007  publicada no DOU de...   \n",
       "4  Despacho nº 1617  que libera a unidade gerador...   \n",
       "\n",
       "                                               texto        data_inclusao  \\\n",
       "0  Despacho nº 1665  que libera a unidade gerador...  2007-05-29 00:00:00   \n",
       "1  Despacho No. 1.694 da SFG que libera a UG1 (40...  2007-05-31 00:00:00   \n",
       "2  Despacho nº 1731  que libera a unidade gerador...  2007-06-01 00:00:00   \n",
       "3  Portaria MME No. 100/2007  publicada no DOU de...  2007-06-01 00:00:00   \n",
       "4  Despacho nº 1617  que libera a unidade gerador...  2007-06-01 00:00:00   \n",
       "\n",
       "           topico  \n",
       "0  [BDP] - LEGADO  \n",
       "1  [BDP] - LEGADO  \n",
       "2  [BDP] - LEGADO  \n",
       "3  [BDP] - LEGADO  \n",
       "4  [BDP] - LEGADO  "
      ]
     },
     "execution_count": 74,
     "metadata": {},
     "output_type": "execute_result"
    }
   ],
   "source": [
    "# Realizando parse de data em coluna única no momento da carga dos dados no dataframe\n",
    "df = pd.read_excel(\"../../Data/Raw/informacao.xlsx\", usecols =['objeto','texto','data_inclusao','topico'],dtype={'objeto':str, 'texto':str, 'topico':str}, parse_dates=['data_inclusao']) \n",
    "\n",
    "df.head()"
   ]
  },
  {
   "cell_type": "code",
   "execution_count": 75,
   "metadata": {},
   "outputs": [
    {
     "data": {
      "text/html": [
       "<div>\n",
       "<style scoped>\n",
       "    .dataframe tbody tr th:only-of-type {\n",
       "        vertical-align: middle;\n",
       "    }\n",
       "\n",
       "    .dataframe tbody tr th {\n",
       "        vertical-align: top;\n",
       "    }\n",
       "\n",
       "    .dataframe thead th {\n",
       "        text-align: right;\n",
       "    }\n",
       "</style>\n",
       "<table border=\"1\" class=\"dataframe\">\n",
       "  <thead>\n",
       "    <tr style=\"text-align: right;\">\n",
       "      <th></th>\n",
       "      <th>objeto</th>\n",
       "      <th>texto</th>\n",
       "      <th>data_inclusao</th>\n",
       "      <th>topico</th>\n",
       "    </tr>\n",
       "  </thead>\n",
       "  <tbody>\n",
       "    <tr>\n",
       "      <th>39967</th>\n",
       "      <td>DESPACHO ANEEL Nº 733  DE 22 DE MARÇO DE 2022</td>\n",
       "      <td>&lt;p style=\"text-align:justify\"&gt;O DIRETOR-GERAL ...</td>\n",
       "      <td>2022-03-28 00:00:00</td>\n",
       "      <td>Receita Anual Permitida - RAP</td>\n",
       "    </tr>\n",
       "    <tr>\n",
       "      <th>39968</th>\n",
       "      <td>DESPACHO ANEEL Nº 733  DE 22 DE MARÇO DE 2022</td>\n",
       "      <td>&lt;p style=\"text-align:justify\"&gt;O DIRETOR-GERAL ...</td>\n",
       "      <td>2022-03-28 00:00:00</td>\n",
       "      <td>Recurso Interposto</td>\n",
       "    </tr>\n",
       "    <tr>\n",
       "      <th>39969</th>\n",
       "      <td>DESPACHO ANEEL Nº 733  DE 22 DE MARÇO DE 2022</td>\n",
       "      <td>&lt;p style=\"text-align:justify\"&gt;O DIRETOR-GERAL ...</td>\n",
       "      <td>2022-03-28 00:00:00</td>\n",
       "      <td>Ampliação  reforço ou melhoria</td>\n",
       "    </tr>\n",
       "    <tr>\n",
       "      <th>39970</th>\n",
       "      <td>DESPACHO ANEEL Nº 736  DE 22 DE MARÇO DE 2022</td>\n",
       "      <td>&lt;p style=\"text-align:justify\"&gt;O DIRETOR DA AG&amp;...</td>\n",
       "      <td>2022-03-28 00:00:00</td>\n",
       "      <td>Recurso Interposto</td>\n",
       "    </tr>\n",
       "    <tr>\n",
       "      <th>39971</th>\n",
       "      <td>DESPACHO ANEEL Nº 736  DE 22 DE MARÇO DE 2022</td>\n",
       "      <td>&lt;p style=\"text-align:justify\"&gt;O DIRETOR DA AG&amp;...</td>\n",
       "      <td>2022-03-28 00:00:00</td>\n",
       "      <td>Outorga</td>\n",
       "    </tr>\n",
       "  </tbody>\n",
       "</table>\n",
       "</div>"
      ],
      "text/plain": [
       "                                              objeto  \\\n",
       "39967  DESPACHO ANEEL Nº 733  DE 22 DE MARÇO DE 2022   \n",
       "39968  DESPACHO ANEEL Nº 733  DE 22 DE MARÇO DE 2022   \n",
       "39969  DESPACHO ANEEL Nº 733  DE 22 DE MARÇO DE 2022   \n",
       "39970  DESPACHO ANEEL Nº 736  DE 22 DE MARÇO DE 2022   \n",
       "39971  DESPACHO ANEEL Nº 736  DE 22 DE MARÇO DE 2022   \n",
       "\n",
       "                                                   texto        data_inclusao  \\\n",
       "39967  <p style=\"text-align:justify\">O DIRETOR-GERAL ...  2022-03-28 00:00:00   \n",
       "39968  <p style=\"text-align:justify\">O DIRETOR-GERAL ...  2022-03-28 00:00:00   \n",
       "39969  <p style=\"text-align:justify\">O DIRETOR-GERAL ...  2022-03-28 00:00:00   \n",
       "39970  <p style=\"text-align:justify\">O DIRETOR DA AG&...  2022-03-28 00:00:00   \n",
       "39971  <p style=\"text-align:justify\">O DIRETOR DA AG&...  2022-03-28 00:00:00   \n",
       "\n",
       "                               topico  \n",
       "39967   Receita Anual Permitida - RAP  \n",
       "39968              Recurso Interposto  \n",
       "39969  Ampliação  reforço ou melhoria  \n",
       "39970              Recurso Interposto  \n",
       "39971                         Outorga  "
      ]
     },
     "execution_count": 75,
     "metadata": {},
     "output_type": "execute_result"
    }
   ],
   "source": [
    "df.tail()"
   ]
  },
  {
   "cell_type": "markdown",
   "metadata": {},
   "source": [
    "#### 2 - Verificações"
   ]
  },
  {
   "cell_type": "code",
   "execution_count": 76,
   "metadata": {},
   "outputs": [
    {
     "name": "stdout",
     "output_type": "stream",
     "text": [
      "<class 'pandas.core.frame.DataFrame'>\n",
      "RangeIndex: 39972 entries, 0 to 39971\n",
      "Data columns (total 4 columns):\n",
      " #   Column         Non-Null Count  Dtype \n",
      "---  ------         --------------  ----- \n",
      " 0   objeto         39899 non-null  object\n",
      " 1   texto          39899 non-null  object\n",
      " 2   data_inclusao  39827 non-null  object\n",
      " 3   topico         39827 non-null  object\n",
      "dtypes: object(4)\n",
      "memory usage: 1.2+ MB\n"
     ]
    }
   ],
   "source": [
    "df.info(show_counts=True)"
   ]
  },
  {
   "cell_type": "markdown",
   "metadata": {},
   "source": [
    "#### 2 - Limpeza"
   ]
  },
  {
   "cell_type": "markdown",
   "metadata": {},
   "source": [
    "Verificadas tags html e codificação de url nos textos. Provavelemente em algum momento a aplicação passou a fornecer a funcionalidade de texto rico para a edição de textos."
   ]
  },
  {
   "cell_type": "code",
   "execution_count": 77,
   "metadata": {},
   "outputs": [
    {
     "data": {
      "text/plain": [
       "'<p style=\"text-align:justify\">O SUPERINTENDENTE DE REGULA&Ccedil;&Atilde;O DOS SERVI&Ccedil;OS DE GERA&Ccedil;&Atilde;O ADJUNTO DA AG&Ecirc;NCIA NACIONAL DE ENERGIA EL&Eacute;TRICA &ndash; ANEEL  no uso das atribui&ccedil;&otilde;es delegadas por meio da Portaria n&ordm; 4.163  de 30 de agosto de 2016  e tendo em vista o que consta no Processo n&ordm; 48500.004084/2016-11  decide: (i) conhecer e  no m&eacute;rito  dar provimento &agrave; solicita&ccedil;&atilde;o da Termopernambuco S.A. para autorizar a utiliza&ccedil;&atilde;o do Custo Vari&aacute;vel Unit&aacute;rio &ndash; CVU da Usina Termel&eacute;trica &ndash; UTE Termopernambuco (C&oacute;digo CEG: UTE.GN.PE.028031-3.01)  no valor de R$ 126 17/MWh (cento e vinte e seis reais e dezessete centavos por megawatt-hora)  a ser aplicado pelo Operador Nacional do Sistema El&eacute;trico &ndash; ONS a partir da primeira revis&atilde;o do Programa Mensal de Opera&ccedil;&atilde;o &ndash; PMO ap&oacute;s a publica&ccedil;&atilde;o do Despacho; e (ii) determinar &agrave; C&acirc;mara de Comercializa&ccedil;&atilde;o de Energia El&eacute;trica &ndash; CCEE a utiliza&ccedil;&atilde;o do valor do CVU indicado no item &ldquo;i&rdquo; para fins de contabiliza&ccedil;&atilde;o da gera&ccedil;&atilde;o verificada na UTE Termopernambuco a partir do m&ecirc;s de dezembro de 2019.</p>  <p style=\"text-align:justify\">FELIPE ALVES CALABRIA</p>  <p style=\"text-align:justify\">Este texto n&atilde;o substitui o publicado no D.O. de 28.01.2020  se&ccedil;&atilde;o 1  p. 65  v. 158  n. 19.</p> '"
      ]
     },
     "execution_count": 77,
     "metadata": {},
     "output_type": "execute_result"
    }
   ],
   "source": [
    "# Exemplo\n",
    "df.iloc[25000]['texto']"
   ]
  },
  {
   "cell_type": "code",
   "execution_count": 78,
   "metadata": {},
   "outputs": [],
   "source": [
    "# Força conversão de coluna de texto para string evitando erros de conversão posteriores\n",
    "df['texto'] = df['texto'].astype('str') "
   ]
  },
  {
   "cell_type": "code",
   "execution_count": 79,
   "metadata": {},
   "outputs": [],
   "source": [
    "# Codifica textos. Ex: Transforma AG&Ecirc;NCIA em AGÊNCIA\n",
    "df['texto'] = df['texto'].apply(lambda x: html.unescape(x))"
   ]
  },
  {
   "cell_type": "code",
   "execution_count": 80,
   "metadata": {},
   "outputs": [],
   "source": [
    "cleaner = Cleaner(tags=[], attributes=[], styles=[], protocols=[], strip=True, strip_comments=True, filters=None)\n",
    "\n",
    "# Retira todas as tags html dos textos\n",
    "df['texto'] = df['texto'].apply(lambda x: cleaner.clean(x))"
   ]
  },
  {
   "cell_type": "code",
   "execution_count": 81,
   "metadata": {},
   "outputs": [
    {
     "data": {
      "text/plain": [
       "'O SUPERINTENDENTE DE REGULAÇÃO DOS SERVIÇOS DE GERAÇÃO ADJUNTO DA AGÊNCIA NACIONAL DE ENERGIA ELÉTRICA – ANEEL  no uso das atribuições delegadas por meio da Portaria nº 4.163  de 30 de agosto de 2016  e tendo em vista o que consta no Processo nº 48500.004084/2016-11  decide: (i) conhecer e  no mérito  dar provimento à solicitação da Termopernambuco S.A. para autorizar a utilização do Custo Variável Unitário – CVU da Usina Termelétrica – UTE Termopernambuco (Código CEG: UTE.GN.PE.028031-3.01)  no valor de R$ 126 17/MWh (cento e vinte e seis reais e dezessete centavos por megawatt-hora)  a ser aplicado pelo Operador Nacional do Sistema Elétrico – ONS a partir da primeira revisão do Programa Mensal de Operação – PMO após a publicação do Despacho; e (ii) determinar à Câmara de Comercialização de Energia Elétrica – CCEE a utilização do valor do CVU indicado no item “i” para fins de contabilização da geração verificada na UTE Termopernambuco a partir do mês de dezembro de 2019.  FELIPE ALVES CALABRIA  Este texto não substitui o publicado no D.O. de 28.01.2020  seção 1  p. 65  v. 158  n. 19. '"
      ]
     },
     "execution_count": 81,
     "metadata": {},
     "output_type": "execute_result"
    }
   ],
   "source": [
    "# Resultado final, texto tratado\n",
    "\n",
    "df.iloc[25000]['texto']"
   ]
  },
  {
   "cell_type": "markdown",
   "metadata": {},
   "source": [
    "### 3 - Gravação do dataset preparado para a análise e modelagem"
   ]
  },
  {
   "cell_type": "code",
   "execution_count": 82,
   "metadata": {},
   "outputs": [],
   "source": [
    "PARQUET_TEXTO_PREPARADO = '../../Data/Processed/informacoes_preparadas.parquet'\n",
    "\n",
    "df.to_parquet(PARQUET_TEXTO_PREPARADO)"
   ]
  }
 ],
 "metadata": {
  "interpreter": {
   "hash": "d9418d6f7a580fa2f4c5dedbb907f987bc07cf9e624d3f8228ee5c26d55a5eb5"
  },
  "kernelspec": {
   "display_name": "Python 3 (ipykernel)",
   "language": "python",
   "name": "python3"
  },
  "language_info": {
   "codemirror_mode": {
    "name": "ipython",
    "version": 3
   },
   "file_extension": ".py",
   "mimetype": "text/x-python",
   "name": "python",
   "nbconvert_exporter": "python",
   "pygments_lexer": "ipython3",
   "version": "3.10.1"
  }
 },
 "nbformat": 4,
 "nbformat_minor": 2
}
