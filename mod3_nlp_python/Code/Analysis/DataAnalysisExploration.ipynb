{
 "metadata": {
  "language_info": {
   "codemirror_mode": {
    "name": "ipython",
    "version": 3
   },
   "file_extension": ".py",
   "mimetype": "text/x-python",
   "name": "python",
   "nbconvert_exporter": "python",
   "pygments_lexer": "ipython3",
   "version": "3.8.5-final"
  },
  "orig_nbformat": 2,
  "kernelspec": {
   "name": "python38564bitmod3nlppythonhqpzdnr6ab3f1781bf094d7f825e8de4eadf86c2",
   "display_name": "Python 3.8.5 64-bit ('mod3_nlp_python-Hqpzdnr6')",
   "language": "python"
  }
 },
 "nbformat": 4,
 "nbformat_minor": 2,
 "cells": [
  {
   "source": [
    "# Análise Exploratória dos Dados dos Manuais de Procedimentos Operacionais (MPO) do SIN - Sistema Interligado Nacional"
   ],
   "cell_type": "markdown",
   "metadata": {}
  },
  {
   "cell_type": "code",
   "execution_count": 90,
   "metadata": {},
   "outputs": [],
   "source": [
    "import pandas as pd"
   ]
  },
  {
   "source": [
    "## 1. Importando os dados"
   ],
   "cell_type": "markdown",
   "metadata": {}
  },
  {
   "cell_type": "code",
   "execution_count": 91,
   "metadata": {},
   "outputs": [],
   "source": [
    "PLANILHA_MPO = '../../Data/Raw/mpo_fragmentos.xlsx'\n",
    "\n",
    "\n",
    "df_mpo = pd.read_excel(PLANILHA_MPO, converters={'ID': int, 'Level':str, 'MpoIdentificador':str, 'MpoAreaEletrica':str, 'MpoCentro':str, 'MpoLigadoDesligado':str, 'Texto':str, 'Título':str})"
   ]
  },
  {
   "source": [
    "## 2. Verificando os dados"
   ],
   "cell_type": "markdown",
   "metadata": {}
  },
  {
   "source": [
    "### 2.1 Formatos"
   ],
   "cell_type": "markdown",
   "metadata": {}
  },
  {
   "cell_type": "code",
   "execution_count": 92,
   "metadata": {},
   "outputs": [
    {
     "output_type": "stream",
     "name": "stdout",
     "text": [
      "Formato dos dados: (5456, 32) \n\nColunas: ['ID', 'Level', 'MpoEquipamentos', 'StatusDocumento', 'MpoIdentificador', 'Tipo de Conteúdo', 'MpoEquipamentos:mrid', 'MpoAreaEletrica', 'MpoCentro', 'MpoLigadoDesligado', 'Hierarquia', 'Identificador exclusivo', 'MpoEquipamentos:agenteoperador', 'MpoEquipamentos:agenteproprietario', 'MpoEquipamentos:centro', 'MpoEquipamentos:chave', 'MpoEquipamentos:codagenteoperador', 'MpoEquipamentos:codagenteproprietario', 'MpoEquipamentos:codigoareaeletrica', 'MpoEquipamentos:codigoons', 'MpoEquipamentos:familia', 'MpoEquipamentos:nomegerlim', 'MpoEquipamentos:tipo', 'MpoLocalizacaoTaxonomia', 'MpoSubmodulo', 'MpoTema', 'MpoTipoDocumento', 'Nome do Documento', 'Texto', 'Título', 'Tipo de Item', 'Caminho']\n"
     ]
    },
    {
     "output_type": "execute_result",
     "data": {
      "text/plain": [
       "        ID  Level                                    MpoEquipamentos  \\\n",
       "0   161279      1                                                NaN   \n",
       "1   161280      2                                                NaN   \n",
       "2   161281      3                                                NaN   \n",
       "3   161282    3.1                                                NaN   \n",
       "4   161283  3.1.1  LT 230 kV Coletora Porto Velho / Porto Velho C...   \n",
       "5   161284  3.1.2  LT 230 kV Coletora Porto Velho / Porto Velho C...   \n",
       "6   161285  3.1.3                                                NaN   \n",
       "7   161286    3.2                                                NaN   \n",
       "8   161287  3.2.1                                                NaN   \n",
       "9   161288  3.2.2                                                NaN   \n",
       "10  161289    3.3                                                NaN   \n",
       "11  161290  3.3.1                                                NaN   \n",
       "12  161291  3.3.2                                                NaN   \n",
       "13  161292    3.4                                                NaN   \n",
       "14  161293  3.4.1  LT 500 kV Santo Antônio Margem Esquerda/ Colet...   \n",
       "\n",
       "   StatusDocumento MpoIdentificador Tipo de Conteúdo  \\\n",
       "0          Vigente        IO-PM.6MD     ecm-fragment   \n",
       "1          Vigente        IO-PM.6MD     ecm-fragment   \n",
       "2          Vigente        IO-PM.6MD      ecm-section   \n",
       "3          Vigente        IO-PM.6MD      ecm-section   \n",
       "4          Vigente        IO-PM.6MD     ecm-fragment   \n",
       "5          Vigente        IO-PM.6MD     ecm-fragment   \n",
       "6          Vigente        IO-PM.6MD     ecm-fragment   \n",
       "7          Vigente        IO-PM.6MD      ecm-section   \n",
       "8          Vigente        IO-PM.6MD     ecm-fragment   \n",
       "9          Vigente        IO-PM.6MD     ecm-fragment   \n",
       "10         Vigente        IO-PM.6MD      ecm-section   \n",
       "11         Vigente        IO-PM.6MD     ecm-fragment   \n",
       "12         Vigente        IO-PM.6MD     ecm-fragment   \n",
       "13         Vigente        IO-PM.6MD      ecm-section   \n",
       "14         Vigente        IO-PM.6MD     ecm-fragment   \n",
       "\n",
       "                                 MpoEquipamentos:mrid MpoAreaEletrica  \\\n",
       "0                                                 NaN             6MD   \n",
       "1                                                 NaN             6MD   \n",
       "2                                                 NaN             6MD   \n",
       "3                                                 NaN             6MD   \n",
       "4   a9a06eca-6f49-4a3c-a804-feac9fb96942;#15054;#4...             6MD   \n",
       "5   a9a06eca-6f49-4a3c-a804-feac9fb96942;#15054;#4...             6MD   \n",
       "6                                                 NaN             6MD   \n",
       "7                                                 NaN             6MD   \n",
       "8                                                 NaN             6MD   \n",
       "9                                                 NaN             6MD   \n",
       "10                                                NaN             6MD   \n",
       "11                                                NaN             6MD   \n",
       "12                                                NaN             6MD   \n",
       "13                                                NaN             6MD   \n",
       "14  3e2cfe6d-e779-4955-9cb1-fddb07b25472;#17448;#1...             6MD   \n",
       "\n",
       "   MpoCentro MpoLigadoDesligado  ...    MpoEquipamentos:tipo  \\\n",
       "0       CNOS       Não definido  ...                     NaN   \n",
       "1       CNOS       Não definido  ...                     NaN   \n",
       "2       CNOS       Não definido  ...                     NaN   \n",
       "3       CNOS       Não definido  ...                     NaN   \n",
       "4       CNOS           Desligar  ...  LTR;#15054;#LTR;#15055   \n",
       "5       CNOS              Ligar  ...  LTR;#15054;#LTR;#15055   \n",
       "6       CNOS              Ligar  ...                     NaN   \n",
       "7       CNOS       Não definido  ...                     NaN   \n",
       "8       CNOS           Desligar  ...                     NaN   \n",
       "9       CNOS              Ligar  ...                     NaN   \n",
       "10      CNOS       Não definido  ...                     NaN   \n",
       "11      CNOS           Desligar  ...                     NaN   \n",
       "12      CNOS              Ligar  ...                     NaN   \n",
       "13      CNOS       Não definido  ...                     NaN   \n",
       "14      CNOS           Desligar  ...  LTR;#17448;#LTR;#17449   \n",
       "\n",
       "   MpoLocalizacaoTaxonomia                                       MpoSubmodulo  \\\n",
       "0                 3.1.3.1.  10.21 - Preparação para Manobras da Interligaç...   \n",
       "1                 3.1.3.1.  10.21 - Preparação para Manobras da Interligaç...   \n",
       "2                 3.1.3.1.  10.21 - Preparação para Manobras da Interligaç...   \n",
       "3                 3.1.3.1.  10.21 - Preparação para Manobras da Interligaç...   \n",
       "4                 3.1.3.1.  10.21 - Preparação para Manobras da Interligaç...   \n",
       "5                 3.1.3.1.  10.21 - Preparação para Manobras da Interligaç...   \n",
       "6                 3.1.3.1.  10.21 - Preparação para Manobras da Interligaç...   \n",
       "7                 3.1.3.1.  10.21 - Preparação para Manobras da Interligaç...   \n",
       "8                 3.1.3.1.  10.21 - Preparação para Manobras da Interligaç...   \n",
       "9                 3.1.3.1.  10.21 - Preparação para Manobras da Interligaç...   \n",
       "10                3.1.3.1.  10.21 - Preparação para Manobras da Interligaç...   \n",
       "11                3.1.3.1.  10.21 - Preparação para Manobras da Interligaç...   \n",
       "12                3.1.3.1.  10.21 - Preparação para Manobras da Interligaç...   \n",
       "13                3.1.3.1.  10.21 - Preparação para Manobras da Interligaç...   \n",
       "14                3.1.3.1.  10.21 - Preparação para Manobras da Interligaç...   \n",
       "\n",
       "                     MpoTema       MpoTipoDocumento  \\\n",
       "0   Preparação para Manobras  Preparação de Manobra   \n",
       "1   Preparação para Manobras  Preparação de Manobra   \n",
       "2   Preparação para Manobras  Preparação de Manobra   \n",
       "3   Preparação para Manobras  Preparação de Manobra   \n",
       "4   Preparação para Manobras  Preparação de Manobra   \n",
       "5   Preparação para Manobras  Preparação de Manobra   \n",
       "6   Preparação para Manobras  Preparação de Manobra   \n",
       "7   Preparação para Manobras  Preparação de Manobra   \n",
       "8   Preparação para Manobras  Preparação de Manobra   \n",
       "9   Preparação para Manobras  Preparação de Manobra   \n",
       "10  Preparação para Manobras  Preparação de Manobra   \n",
       "11  Preparação para Manobras  Preparação de Manobra   \n",
       "12  Preparação para Manobras  Preparação de Manobra   \n",
       "13  Preparação para Manobras  Preparação de Manobra   \n",
       "14  Preparação para Manobras  Preparação de Manobra   \n",
       "\n",
       "                                    Nome do Documento  \\\n",
       "0   Preparação para Manobras da Interligação em Co...   \n",
       "1   Preparação para Manobras da Interligação em Co...   \n",
       "2   Preparação para Manobras da Interligação em Co...   \n",
       "3   Preparação para Manobras da Interligação em Co...   \n",
       "4   Preparação para Manobras da Interligação em Co...   \n",
       "5   Preparação para Manobras da Interligação em Co...   \n",
       "6   Preparação para Manobras da Interligação em Co...   \n",
       "7   Preparação para Manobras da Interligação em Co...   \n",
       "8   Preparação para Manobras da Interligação em Co...   \n",
       "9   Preparação para Manobras da Interligação em Co...   \n",
       "10  Preparação para Manobras da Interligação em Co...   \n",
       "11  Preparação para Manobras da Interligação em Co...   \n",
       "12  Preparação para Manobras da Interligação em Co...   \n",
       "13  Preparação para Manobras da Interligação em Co...   \n",
       "14  Preparação para Manobras da Interligação em Co...   \n",
       "\n",
       "                                                Texto  \\\n",
       "0   <div><p style=\"margin-top:0pt; margin-bottom:6...   \n",
       "1   <div><p style=\"margin-top:6pt; margin-left:34p...   \n",
       "2   <div><p style=\"margin-top:0pt; margin-bottom:0...   \n",
       "3   <div><p style=\"margin-top:0pt; margin-bottom:0...   \n",
       "4   <div><h4 style=\"margin-top:12pt; margin-left:4...   \n",
       "5   <div><h4 style=\"margin-top:12pt; margin-left:3...   \n",
       "6   <div><table style=\"width:480.6pt; margin-left:...   \n",
       "7   <div><p style=\"margin-top:0pt; margin-bottom:0...   \n",
       "8   <div><table style=\"width:484.05pt; margin-left...   \n",
       "9   <div><table style=\"width:484.05pt; margin-left...   \n",
       "10  <div><p style=\"margin-top:0pt; margin-bottom:0...   \n",
       "11  <div><table style=\"width:484.05pt; margin-left...   \n",
       "12  <div><table style=\"width:484.05pt; margin-left...   \n",
       "13  <div><p style=\"margin-top:0pt; margin-bottom:0...   \n",
       "14  <div><table style=\"width:484.05pt; margin-left...   \n",
       "\n",
       "                                               Título Tipo de Item  \\\n",
       "0                                            OBJETIVO         Item   \n",
       "1                                CONSIDERAÇÕES GERAIS         Item   \n",
       "2   PREPARAÇÃO PARA MANOBRAS EM LINHAS DE TRANSMISSÃO         Item   \n",
       "3   LT 230 kV Coletora Porto Velho / Porto Velho C...         Item   \n",
       "4   Desenergização da LT 230 kV Coletora Porto Vel...         Item   \n",
       "5   Energização da LT 230 kV Coletora Porto Velho ...         Item   \n",
       "6   Energização dos dois circuitos da LT 230 kV Co...         Item   \n",
       "7   LT 500 kV Santo Antônio Margem Direita / Colet...         Item   \n",
       "8   Desenergização da LT 500 kV Santo Antônio Marg...         Item   \n",
       "9   Energização da LT 500 kV Santo Antônio Margem ...         Item   \n",
       "10  LT 500 kV Santo Antônio Leito do Rio / Santo A...         Item   \n",
       "11  Desenergização da LT 500 kV Santo Antônio Leit...         Item   \n",
       "12  Energização dA LT 500 kV Santo Antônio Leito d...         Item   \n",
       "13  LT 500 kV Santo Antônio Margem Esquerda / Cole...         Item   \n",
       "14  Desenergização da LT 500 kV Santo Antônio Marg...         Item   \n",
       "\n",
       "                                     Caminho  \n",
       "0   sites/buscafragmentada/Lists/ecmcontents  \n",
       "1   sites/buscafragmentada/Lists/ecmcontents  \n",
       "2   sites/buscafragmentada/Lists/ecmcontents  \n",
       "3   sites/buscafragmentada/Lists/ecmcontents  \n",
       "4   sites/buscafragmentada/Lists/ecmcontents  \n",
       "5   sites/buscafragmentada/Lists/ecmcontents  \n",
       "6   sites/buscafragmentada/Lists/ecmcontents  \n",
       "7   sites/buscafragmentada/Lists/ecmcontents  \n",
       "8   sites/buscafragmentada/Lists/ecmcontents  \n",
       "9   sites/buscafragmentada/Lists/ecmcontents  \n",
       "10  sites/buscafragmentada/Lists/ecmcontents  \n",
       "11  sites/buscafragmentada/Lists/ecmcontents  \n",
       "12  sites/buscafragmentada/Lists/ecmcontents  \n",
       "13  sites/buscafragmentada/Lists/ecmcontents  \n",
       "14  sites/buscafragmentada/Lists/ecmcontents  \n",
       "\n",
       "[15 rows x 32 columns]"
      ],
      "text/html": "<div>\n<style scoped>\n    .dataframe tbody tr th:only-of-type {\n        vertical-align: middle;\n    }\n\n    .dataframe tbody tr th {\n        vertical-align: top;\n    }\n\n    .dataframe thead th {\n        text-align: right;\n    }\n</style>\n<table border=\"1\" class=\"dataframe\">\n  <thead>\n    <tr style=\"text-align: right;\">\n      <th></th>\n      <th>ID</th>\n      <th>Level</th>\n      <th>MpoEquipamentos</th>\n      <th>StatusDocumento</th>\n      <th>MpoIdentificador</th>\n      <th>Tipo de Conteúdo</th>\n      <th>MpoEquipamentos:mrid</th>\n      <th>MpoAreaEletrica</th>\n      <th>MpoCentro</th>\n      <th>MpoLigadoDesligado</th>\n      <th>...</th>\n      <th>MpoEquipamentos:tipo</th>\n      <th>MpoLocalizacaoTaxonomia</th>\n      <th>MpoSubmodulo</th>\n      <th>MpoTema</th>\n      <th>MpoTipoDocumento</th>\n      <th>Nome do Documento</th>\n      <th>Texto</th>\n      <th>Título</th>\n      <th>Tipo de Item</th>\n      <th>Caminho</th>\n    </tr>\n  </thead>\n  <tbody>\n    <tr>\n      <th>0</th>\n      <td>161279</td>\n      <td>1</td>\n      <td>NaN</td>\n      <td>Vigente</td>\n      <td>IO-PM.6MD</td>\n      <td>ecm-fragment</td>\n      <td>NaN</td>\n      <td>6MD</td>\n      <td>CNOS</td>\n      <td>Não definido</td>\n      <td>...</td>\n      <td>NaN</td>\n      <td>3.1.3.1.</td>\n      <td>10.21 - Preparação para Manobras da Interligaç...</td>\n      <td>Preparação para Manobras</td>\n      <td>Preparação de Manobra</td>\n      <td>Preparação para Manobras da Interligação em Co...</td>\n      <td>&lt;div&gt;&lt;p style=\"margin-top:0pt; margin-bottom:6...</td>\n      <td>OBJETIVO</td>\n      <td>Item</td>\n      <td>sites/buscafragmentada/Lists/ecmcontents</td>\n    </tr>\n    <tr>\n      <th>1</th>\n      <td>161280</td>\n      <td>2</td>\n      <td>NaN</td>\n      <td>Vigente</td>\n      <td>IO-PM.6MD</td>\n      <td>ecm-fragment</td>\n      <td>NaN</td>\n      <td>6MD</td>\n      <td>CNOS</td>\n      <td>Não definido</td>\n      <td>...</td>\n      <td>NaN</td>\n      <td>3.1.3.1.</td>\n      <td>10.21 - Preparação para Manobras da Interligaç...</td>\n      <td>Preparação para Manobras</td>\n      <td>Preparação de Manobra</td>\n      <td>Preparação para Manobras da Interligação em Co...</td>\n      <td>&lt;div&gt;&lt;p style=\"margin-top:6pt; margin-left:34p...</td>\n      <td>CONSIDERAÇÕES GERAIS</td>\n      <td>Item</td>\n      <td>sites/buscafragmentada/Lists/ecmcontents</td>\n    </tr>\n    <tr>\n      <th>2</th>\n      <td>161281</td>\n      <td>3</td>\n      <td>NaN</td>\n      <td>Vigente</td>\n      <td>IO-PM.6MD</td>\n      <td>ecm-section</td>\n      <td>NaN</td>\n      <td>6MD</td>\n      <td>CNOS</td>\n      <td>Não definido</td>\n      <td>...</td>\n      <td>NaN</td>\n      <td>3.1.3.1.</td>\n      <td>10.21 - Preparação para Manobras da Interligaç...</td>\n      <td>Preparação para Manobras</td>\n      <td>Preparação de Manobra</td>\n      <td>Preparação para Manobras da Interligação em Co...</td>\n      <td>&lt;div&gt;&lt;p style=\"margin-top:0pt; margin-bottom:0...</td>\n      <td>PREPARAÇÃO PARA MANOBRAS EM LINHAS DE TRANSMISSÃO</td>\n      <td>Item</td>\n      <td>sites/buscafragmentada/Lists/ecmcontents</td>\n    </tr>\n    <tr>\n      <th>3</th>\n      <td>161282</td>\n      <td>3.1</td>\n      <td>NaN</td>\n      <td>Vigente</td>\n      <td>IO-PM.6MD</td>\n      <td>ecm-section</td>\n      <td>NaN</td>\n      <td>6MD</td>\n      <td>CNOS</td>\n      <td>Não definido</td>\n      <td>...</td>\n      <td>NaN</td>\n      <td>3.1.3.1.</td>\n      <td>10.21 - Preparação para Manobras da Interligaç...</td>\n      <td>Preparação para Manobras</td>\n      <td>Preparação de Manobra</td>\n      <td>Preparação para Manobras da Interligação em Co...</td>\n      <td>&lt;div&gt;&lt;p style=\"margin-top:0pt; margin-bottom:0...</td>\n      <td>LT 230 kV Coletora Porto Velho / Porto Velho C...</td>\n      <td>Item</td>\n      <td>sites/buscafragmentada/Lists/ecmcontents</td>\n    </tr>\n    <tr>\n      <th>4</th>\n      <td>161283</td>\n      <td>3.1.1</td>\n      <td>LT 230 kV Coletora Porto Velho / Porto Velho C...</td>\n      <td>Vigente</td>\n      <td>IO-PM.6MD</td>\n      <td>ecm-fragment</td>\n      <td>a9a06eca-6f49-4a3c-a804-feac9fb96942;#15054;#4...</td>\n      <td>6MD</td>\n      <td>CNOS</td>\n      <td>Desligar</td>\n      <td>...</td>\n      <td>LTR;#15054;#LTR;#15055</td>\n      <td>3.1.3.1.</td>\n      <td>10.21 - Preparação para Manobras da Interligaç...</td>\n      <td>Preparação para Manobras</td>\n      <td>Preparação de Manobra</td>\n      <td>Preparação para Manobras da Interligação em Co...</td>\n      <td>&lt;div&gt;&lt;h4 style=\"margin-top:12pt; margin-left:4...</td>\n      <td>Desenergização da LT 230 kV Coletora Porto Vel...</td>\n      <td>Item</td>\n      <td>sites/buscafragmentada/Lists/ecmcontents</td>\n    </tr>\n    <tr>\n      <th>5</th>\n      <td>161284</td>\n      <td>3.1.2</td>\n      <td>LT 230 kV Coletora Porto Velho / Porto Velho C...</td>\n      <td>Vigente</td>\n      <td>IO-PM.6MD</td>\n      <td>ecm-fragment</td>\n      <td>a9a06eca-6f49-4a3c-a804-feac9fb96942;#15054;#4...</td>\n      <td>6MD</td>\n      <td>CNOS</td>\n      <td>Ligar</td>\n      <td>...</td>\n      <td>LTR;#15054;#LTR;#15055</td>\n      <td>3.1.3.1.</td>\n      <td>10.21 - Preparação para Manobras da Interligaç...</td>\n      <td>Preparação para Manobras</td>\n      <td>Preparação de Manobra</td>\n      <td>Preparação para Manobras da Interligação em Co...</td>\n      <td>&lt;div&gt;&lt;h4 style=\"margin-top:12pt; margin-left:3...</td>\n      <td>Energização da LT 230 kV Coletora Porto Velho ...</td>\n      <td>Item</td>\n      <td>sites/buscafragmentada/Lists/ecmcontents</td>\n    </tr>\n    <tr>\n      <th>6</th>\n      <td>161285</td>\n      <td>3.1.3</td>\n      <td>NaN</td>\n      <td>Vigente</td>\n      <td>IO-PM.6MD</td>\n      <td>ecm-fragment</td>\n      <td>NaN</td>\n      <td>6MD</td>\n      <td>CNOS</td>\n      <td>Ligar</td>\n      <td>...</td>\n      <td>NaN</td>\n      <td>3.1.3.1.</td>\n      <td>10.21 - Preparação para Manobras da Interligaç...</td>\n      <td>Preparação para Manobras</td>\n      <td>Preparação de Manobra</td>\n      <td>Preparação para Manobras da Interligação em Co...</td>\n      <td>&lt;div&gt;&lt;table style=\"width:480.6pt; margin-left:...</td>\n      <td>Energização dos dois circuitos da LT 230 kV Co...</td>\n      <td>Item</td>\n      <td>sites/buscafragmentada/Lists/ecmcontents</td>\n    </tr>\n    <tr>\n      <th>7</th>\n      <td>161286</td>\n      <td>3.2</td>\n      <td>NaN</td>\n      <td>Vigente</td>\n      <td>IO-PM.6MD</td>\n      <td>ecm-section</td>\n      <td>NaN</td>\n      <td>6MD</td>\n      <td>CNOS</td>\n      <td>Não definido</td>\n      <td>...</td>\n      <td>NaN</td>\n      <td>3.1.3.1.</td>\n      <td>10.21 - Preparação para Manobras da Interligaç...</td>\n      <td>Preparação para Manobras</td>\n      <td>Preparação de Manobra</td>\n      <td>Preparação para Manobras da Interligação em Co...</td>\n      <td>&lt;div&gt;&lt;p style=\"margin-top:0pt; margin-bottom:0...</td>\n      <td>LT 500 kV Santo Antônio Margem Direita / Colet...</td>\n      <td>Item</td>\n      <td>sites/buscafragmentada/Lists/ecmcontents</td>\n    </tr>\n    <tr>\n      <th>8</th>\n      <td>161287</td>\n      <td>3.2.1</td>\n      <td>NaN</td>\n      <td>Vigente</td>\n      <td>IO-PM.6MD</td>\n      <td>ecm-fragment</td>\n      <td>NaN</td>\n      <td>6MD</td>\n      <td>CNOS</td>\n      <td>Desligar</td>\n      <td>...</td>\n      <td>NaN</td>\n      <td>3.1.3.1.</td>\n      <td>10.21 - Preparação para Manobras da Interligaç...</td>\n      <td>Preparação para Manobras</td>\n      <td>Preparação de Manobra</td>\n      <td>Preparação para Manobras da Interligação em Co...</td>\n      <td>&lt;div&gt;&lt;table style=\"width:484.05pt; margin-left...</td>\n      <td>Desenergização da LT 500 kV Santo Antônio Marg...</td>\n      <td>Item</td>\n      <td>sites/buscafragmentada/Lists/ecmcontents</td>\n    </tr>\n    <tr>\n      <th>9</th>\n      <td>161288</td>\n      <td>3.2.2</td>\n      <td>NaN</td>\n      <td>Vigente</td>\n      <td>IO-PM.6MD</td>\n      <td>ecm-fragment</td>\n      <td>NaN</td>\n      <td>6MD</td>\n      <td>CNOS</td>\n      <td>Ligar</td>\n      <td>...</td>\n      <td>NaN</td>\n      <td>3.1.3.1.</td>\n      <td>10.21 - Preparação para Manobras da Interligaç...</td>\n      <td>Preparação para Manobras</td>\n      <td>Preparação de Manobra</td>\n      <td>Preparação para Manobras da Interligação em Co...</td>\n      <td>&lt;div&gt;&lt;table style=\"width:484.05pt; margin-left...</td>\n      <td>Energização da LT 500 kV Santo Antônio Margem ...</td>\n      <td>Item</td>\n      <td>sites/buscafragmentada/Lists/ecmcontents</td>\n    </tr>\n    <tr>\n      <th>10</th>\n      <td>161289</td>\n      <td>3.3</td>\n      <td>NaN</td>\n      <td>Vigente</td>\n      <td>IO-PM.6MD</td>\n      <td>ecm-section</td>\n      <td>NaN</td>\n      <td>6MD</td>\n      <td>CNOS</td>\n      <td>Não definido</td>\n      <td>...</td>\n      <td>NaN</td>\n      <td>3.1.3.1.</td>\n      <td>10.21 - Preparação para Manobras da Interligaç...</td>\n      <td>Preparação para Manobras</td>\n      <td>Preparação de Manobra</td>\n      <td>Preparação para Manobras da Interligação em Co...</td>\n      <td>&lt;div&gt;&lt;p style=\"margin-top:0pt; margin-bottom:0...</td>\n      <td>LT 500 kV Santo Antônio Leito do Rio / Santo A...</td>\n      <td>Item</td>\n      <td>sites/buscafragmentada/Lists/ecmcontents</td>\n    </tr>\n    <tr>\n      <th>11</th>\n      <td>161290</td>\n      <td>3.3.1</td>\n      <td>NaN</td>\n      <td>Vigente</td>\n      <td>IO-PM.6MD</td>\n      <td>ecm-fragment</td>\n      <td>NaN</td>\n      <td>6MD</td>\n      <td>CNOS</td>\n      <td>Desligar</td>\n      <td>...</td>\n      <td>NaN</td>\n      <td>3.1.3.1.</td>\n      <td>10.21 - Preparação para Manobras da Interligaç...</td>\n      <td>Preparação para Manobras</td>\n      <td>Preparação de Manobra</td>\n      <td>Preparação para Manobras da Interligação em Co...</td>\n      <td>&lt;div&gt;&lt;table style=\"width:484.05pt; margin-left...</td>\n      <td>Desenergização da LT 500 kV Santo Antônio Leit...</td>\n      <td>Item</td>\n      <td>sites/buscafragmentada/Lists/ecmcontents</td>\n    </tr>\n    <tr>\n      <th>12</th>\n      <td>161291</td>\n      <td>3.3.2</td>\n      <td>NaN</td>\n      <td>Vigente</td>\n      <td>IO-PM.6MD</td>\n      <td>ecm-fragment</td>\n      <td>NaN</td>\n      <td>6MD</td>\n      <td>CNOS</td>\n      <td>Ligar</td>\n      <td>...</td>\n      <td>NaN</td>\n      <td>3.1.3.1.</td>\n      <td>10.21 - Preparação para Manobras da Interligaç...</td>\n      <td>Preparação para Manobras</td>\n      <td>Preparação de Manobra</td>\n      <td>Preparação para Manobras da Interligação em Co...</td>\n      <td>&lt;div&gt;&lt;table style=\"width:484.05pt; margin-left...</td>\n      <td>Energização dA LT 500 kV Santo Antônio Leito d...</td>\n      <td>Item</td>\n      <td>sites/buscafragmentada/Lists/ecmcontents</td>\n    </tr>\n    <tr>\n      <th>13</th>\n      <td>161292</td>\n      <td>3.4</td>\n      <td>NaN</td>\n      <td>Vigente</td>\n      <td>IO-PM.6MD</td>\n      <td>ecm-section</td>\n      <td>NaN</td>\n      <td>6MD</td>\n      <td>CNOS</td>\n      <td>Não definido</td>\n      <td>...</td>\n      <td>NaN</td>\n      <td>3.1.3.1.</td>\n      <td>10.21 - Preparação para Manobras da Interligaç...</td>\n      <td>Preparação para Manobras</td>\n      <td>Preparação de Manobra</td>\n      <td>Preparação para Manobras da Interligação em Co...</td>\n      <td>&lt;div&gt;&lt;p style=\"margin-top:0pt; margin-bottom:0...</td>\n      <td>LT 500 kV Santo Antônio Margem Esquerda / Cole...</td>\n      <td>Item</td>\n      <td>sites/buscafragmentada/Lists/ecmcontents</td>\n    </tr>\n    <tr>\n      <th>14</th>\n      <td>161293</td>\n      <td>3.4.1</td>\n      <td>LT 500 kV Santo Antônio Margem Esquerda/ Colet...</td>\n      <td>Vigente</td>\n      <td>IO-PM.6MD</td>\n      <td>ecm-fragment</td>\n      <td>3e2cfe6d-e779-4955-9cb1-fddb07b25472;#17448;#1...</td>\n      <td>6MD</td>\n      <td>CNOS</td>\n      <td>Desligar</td>\n      <td>...</td>\n      <td>LTR;#17448;#LTR;#17449</td>\n      <td>3.1.3.1.</td>\n      <td>10.21 - Preparação para Manobras da Interligaç...</td>\n      <td>Preparação para Manobras</td>\n      <td>Preparação de Manobra</td>\n      <td>Preparação para Manobras da Interligação em Co...</td>\n      <td>&lt;div&gt;&lt;table style=\"width:484.05pt; margin-left...</td>\n      <td>Desenergização da LT 500 kV Santo Antônio Marg...</td>\n      <td>Item</td>\n      <td>sites/buscafragmentada/Lists/ecmcontents</td>\n    </tr>\n  </tbody>\n</table>\n<p>15 rows × 32 columns</p>\n</div>"
     },
     "metadata": {},
     "execution_count": 92
    }
   ],
   "source": [
    "print('Formato dos dados:', df_mpo.shape, '\\n')\n",
    "print('Colunas:', df_mpo.columns.tolist())\n",
    "df_mpo.head(15)"
   ]
  },
  {
   "source": [
    "### 2.2 Qualidade em relação a completude dos dados"
   ],
   "cell_type": "markdown",
   "metadata": {}
  },
  {
   "cell_type": "code",
   "execution_count": 93,
   "metadata": {},
   "outputs": [
    {
     "output_type": "stream",
     "name": "stdout",
     "text": [
      "<class 'pandas.core.frame.DataFrame'>\nRangeIndex: 5456 entries, 0 to 5455\nData columns (total 32 columns):\n #   Column                                 Non-Null Count  Dtype \n---  ------                                 --------------  ----- \n 0   ID                                     5456 non-null   int64 \n 1   Level                                  5456 non-null   object\n 2   MpoEquipamentos                        1491 non-null   object\n 3   StatusDocumento                        5456 non-null   object\n 4   MpoIdentificador                       5456 non-null   object\n 5   Tipo de Conteúdo                       5456 non-null   object\n 6   MpoEquipamentos:mrid                   1491 non-null   object\n 7   MpoAreaEletrica                        5456 non-null   object\n 8   MpoCentro                              5456 non-null   object\n 9   MpoLigadoDesligado                     5456 non-null   object\n 10  Hierarquia                             5456 non-null   object\n 11  Identificador exclusivo                5456 non-null   object\n 12  MpoEquipamentos:agenteoperador         1491 non-null   object\n 13  MpoEquipamentos:agenteproprietario     1491 non-null   object\n 14  MpoEquipamentos:centro                 1491 non-null   object\n 15  MpoEquipamentos:chave                  1491 non-null   object\n 16  MpoEquipamentos:codagenteoperador      1491 non-null   object\n 17  MpoEquipamentos:codagenteproprietario  1491 non-null   object\n 18  MpoEquipamentos:codigoareaeletrica     1491 non-null   object\n 19  MpoEquipamentos:codigoons              1491 non-null   object\n 20  MpoEquipamentos:familia                1491 non-null   object\n 21  MpoEquipamentos:nomegerlim             1491 non-null   object\n 22  MpoEquipamentos:tipo                   1491 non-null   object\n 23  MpoLocalizacaoTaxonomia                5456 non-null   object\n 24  MpoSubmodulo                           5456 non-null   object\n 25  MpoTema                                5315 non-null   object\n 26  MpoTipoDocumento                       5456 non-null   object\n 27  Nome do Documento                      4972 non-null   object\n 28  Texto                                  5456 non-null   object\n 29  Título                                 5452 non-null   object\n 30  Tipo de Item                           5456 non-null   object\n 31  Caminho                                5456 non-null   object\ndtypes: int64(1), object(31)\nmemory usage: 1.3+ MB\n"
     ]
    }
   ],
   "source": [
    "df_mpo.info()"
   ]
  },
  {
   "source": [
    "### Podemos ver que do total de fragmentos, 5456, somente 1491 apresentam informações diretamente relacionadas a equipamentos (Características MPOEquipamentos: *). Como o interesse do estudo é a classificação dos textos que efetivamente indicam manobras em equipamentos, pode ser um indicativo de diminuição de registros."
   ],
   "cell_type": "markdown",
   "metadata": {}
  },
  {
   "source": [
    "### 2.3 Valores distintos - Geral"
   ],
   "cell_type": "markdown",
   "metadata": {}
  },
  {
   "cell_type": "code",
   "execution_count": 94,
   "metadata": {},
   "outputs": [
    {
     "output_type": "stream",
     "name": "stdout",
     "text": [
      "Coluna: MpoIdentificador | Distintos: 30 | Valores: ['IO-PM.6MD' 'IO-PM.8XG' 'IO-PM.CO.2MS' 'IO-PM.CO.5GB' 'IO-PM.CO.5MT'\n 'IO-PM.N.2TR' 'IO-PM.N.5MM' 'IO-PM.N.5PA' 'IO-PM.N.5RR' 'IO-PM.N.ACRO'\n 'IO-PM.NE.2NO' 'IO-PM.NE.2OE' 'IO-PM.NE.2SO' 'IO-PM.NE.5CT'\n 'IO-PM.NE.5LE' 'IO-PM.NE.5MA' 'IO-PM.NE.5SL' 'IO-PM.NNE' 'IO-PM.NSE'\n 'IO-PM.S.2PR' 'IO-PM.S.2SC' 'IO-PM.S.5SU' 'IO-PM.SE.3RG' 'IO-PM.SE.3SP'\n 'IO-PM.SE.4SP' 'IO-PM.SE.5MG' 'IO-PM.SE.5RJ' 'IO-PM.SE.5SE' 'IO-PM.SENE'\n 'IO-PM.SSE']\n\nColuna: StatusDocumento | Distintos: 1 | Valores: ['Vigente']\n\nColuna: MpoTema | Distintos: 14 | Valores: ['Preparação para Manobras' '3.1.3. Preparação para Manobras'\n 'Instruções da Região Norte - Área 230 kV Tramo Oeste'\n 'Instruções da Região Norte - Área 500/230 kV Pará'\n 'Instruções da Região NE - Área Norte'\n 'Instruções da Região NE - Área Oeste'\n 'Instruções da Região NE - Área Sudoeste'\n 'Instruções da Região NE - Geral' 'Interligação entre Regiões'\n 'Instruções da Região Sul'\n 'Instruções da Região Sudeste/Centro Oeste - Área Rio Grande'\n 'Instruções da Região Sudeste/Centro Oeste - Área São Paulo'\n 'Instruções da Região Sudedeste/Centro Oeste - Área Minas Gerais'\n 'Instruções da Região Sudeste/Centro Oeste - Área Rio' nan]\n\nColuna: MpoAreaEletrica | Distintos: 30 | Valores: ['6MD' '8XG' '2MS' '5GB' '5MT' '2TR' '5MM' '5PA' '5RR' 'ACRO' '2NO' '2OE'\n '2SO' '5CT' '5LE' '5MA' '5SL' 'NNE' 'NSE' '2PR' '2SC' '5SU' '3RG' '3SP'\n '4SP' '5MG' '5RJ' '5SE' 'SENE' 'SSE']\n\nColuna: MpoCentro | Distintos: 5 | Valores: ['CNOS' 'COSR-S' 'COSR-NCO' 'COSR-NE' 'COSR-SE']\n\nColuna: MpoLigadoDesligado | Distintos: 3 | Valores: ['Não definido' 'Desligar' 'Ligar']\n\nColuna: MpoTema | Distintos: 14 | Valores: ['Preparação para Manobras' '3.1.3. Preparação para Manobras'\n 'Instruções da Região Norte - Área 230 kV Tramo Oeste'\n 'Instruções da Região Norte - Área 500/230 kV Pará'\n 'Instruções da Região NE - Área Norte'\n 'Instruções da Região NE - Área Oeste'\n 'Instruções da Região NE - Área Sudoeste'\n 'Instruções da Região NE - Geral' 'Interligação entre Regiões'\n 'Instruções da Região Sul'\n 'Instruções da Região Sudeste/Centro Oeste - Área Rio Grande'\n 'Instruções da Região Sudeste/Centro Oeste - Área São Paulo'\n 'Instruções da Região Sudedeste/Centro Oeste - Área Minas Gerais'\n 'Instruções da Região Sudeste/Centro Oeste - Área Rio' nan]\n\nColuna: MpoTipoDocumento | Distintos: 1 | Valores: ['Preparação de Manobra']\n\n"
     ]
    }
   ],
   "source": [
    "colunas_interesse = ['MpoIdentificador','StatusDocumento', 'MpoTema', 'MpoAreaEletrica', 'MpoCentro', 'MpoLigadoDesligado', 'MpoTema', 'MpoTipoDocumento']\n",
    "\n",
    "for ci in colunas_interesse:\n",
    "    print(f'Coluna: {ci} | Distintos: {df_mpo[ci].nunique()} | Valores: {df_mpo[ci].unique()}\\n')\n",
    "    "
   ]
  },
  {
   "source": [
    "### Apesar de termos 5456 fragmentos estamos falando de 30 Instruções Operativas de documentos vigentes e todos relacionados ao tópico preparação de manobra. Essas IOs tratam somente de ligar e desligar os equipamentos e a cobertura dos mesmo paerce ser do Brasil inteiro dada a presença de todos os centros de operação do ONS. Fato corroborado por todas as regiões geográficas estarem presentes."
   ],
   "cell_type": "markdown",
   "metadata": {}
  },
  {
   "source": [
    "### 2.4 Valores distintos - Equipamentos"
   ],
   "cell_type": "markdown",
   "metadata": {}
  },
  {
   "cell_type": "code",
   "execution_count": 95,
   "metadata": {
    "tags": []
   },
   "outputs": [
    {
     "output_type": "stream",
     "name": "stdout",
     "text": [
      "Coluna: MpoEquipamentos:agenteoperador | Distintos: 751\n\nColuna: MpoEquipamentos:agenteproprietario | Distintos: 751\n\nColuna: MpoEquipamentos:centro | Distintos: 751\n\nColuna: MpoEquipamentos:chave | Distintos: 751\n\nColuna: MpoEquipamentos:codagenteoperador | Distintos: 751\n\nColuna: MpoEquipamentos:codagenteproprietario | Distintos: 751\n\nColuna: MpoEquipamentos:codigoareaeletrica | Distintos: 751\n\nColuna: MpoEquipamentos:codigoons | Distintos: 751\n\nColuna: MpoEquipamentos:familia | Distintos: 751\n\nColuna: MpoEquipamentos:nomegerlim | Distintos: 751\n\nColuna: MpoEquipamentos:tipo | Distintos: 751\n\nColuna: MpoLocalizacaoTaxonomia | Distintos: 6\n\n"
     ]
    }
   ],
   "source": [
    "colunas_interesse_eqp = ['MpoEquipamentos:agenteoperador', 'MpoEquipamentos:agenteproprietario', 'MpoEquipamentos:centro', 'MpoEquipamentos:chave', 'MpoEquipamentos:codagenteoperador', 'MpoEquipamentos:codagenteproprietario', 'MpoEquipamentos:codigoareaeletrica', 'MpoEquipamentos:codigoons', 'MpoEquipamentos:familia', 'MpoEquipamentos:nomegerlim', 'MpoEquipamentos:tipo', 'MpoLocalizacaoTaxonomia']\n",
    "\n",
    "for ci in colunas_interesse_eqp:\n",
    "    print(f'Coluna: {ci} | Distintos: {df_mpo[ci].nunique()}\\n')"
   ]
  },
  {
   "source": [
    "### Tirando a taxonomia podemos observar que de as IOs abrangem no mínimo 751 equipamentos."
   ],
   "cell_type": "markdown",
   "metadata": {}
  },
  {
   "source": [
    "### 2.5 Verificando o formato dos textos"
   ],
   "cell_type": "markdown",
   "metadata": {}
  },
  {
   "cell_type": "code",
   "execution_count": 96,
   "metadata": {},
   "outputs": [
    {
     "output_type": "execute_result",
     "data": {
      "text/plain": [
       "'<div><p style=\"margin-top:6pt; margin-left:34pt; margin-bottom:3pt; text-indent:-34pt; text-align:justify; font-size:11pt\"><span style=\"font-family:Calibri\">2.1.</span><span style=\"font:7pt \\'Times New Roman\\'\">&#xa0;&#xa0;&#xa0;&#xa0;&#xa0;&#xa0;&#xa0;&#xa0;&#xa0;&#xa0;&#xa0; </span><span><span style=\"font-family:Calibri\">Os procedimentos contidos nesta instrução de operação são aqueles necessários para realização de manobras de desenergização e energização somente de linhas de transmissão e equipamentos da Rede de Operação, considerando em operação as demais linhas de transmissão e equipamentos das subestações envolvidas na manobra.</span></span></p><p style=\"margin-top:0pt; margin-left:28.35pt; margin-bottom:6pt; text-align:justify; widows:0; orphans:0; font-size:11pt\"><span style=\"font-family:Calibri\">As manobras que consideram equipamento(s) ou linha(s) de transmissão desligado(s) ou restrições adicionais no sistema devem estar especificadas nos itens da respectiva manobra.</span></p><p style=\"margin-top:6pt; margin-left:34pt; margin-bottom:6pt; text-indent:-34pt; text-align:justify; font-size:11pt\"><span style=\"font-family:Calibri\">2.2.</span><span style=\"font:7pt \\'Times New Roman\\'\">&#xa0;&#xa0;&#xa0;&#xa0;&#xa0;&#xa0;&#xa0;&#xa0;&#xa0;&#xa0;&#xa0; </span><span><span style=\"font-family:Calibri\">Constam nesta instrução de operação os procedimentos para manobras de todas as linhas de transmissão e transformadores da Rede de Operação </span><span style=\"font-family:Calibri\">Interligação em Corrente Contínua do Madeira</span><span style=\"font-family:Calibri\">. Os demais equipamentos da Rede de Operação desta área</span><span style=\"font-family:Calibri\">&#xa0; </span><span style=\"font-family:Calibri\">constam nesta instrução somente no caso de suas manobras necessitarem de procedimentos específicos de ajustes no sistema.</span></span></p><p style=\"margin-top:6pt; margin-left:34pt; margin-bottom:3pt; text-indent:-34pt; text-align:justify; font-size:11pt\"><span style=\"font-family:Calibri\">2.3.</span><span style=\"font:7pt \\'Times New Roman\\'\">&#xa0;&#xa0;&#xa0;&#xa0;&#xa0;&#xa0;&#xa0;&#xa0;&#xa0;&#xa0;&#xa0; </span><span><span style=\"font-family:Calibri\">O restabelecimento de linhas de transmissão em sentido normal, após desligamento automático, pode ser realizado com autonomia da operação da instalação, desde que explicitado nas Instruções de Operação de Instalações.</span></span></p><p style=\"margin-top:0pt; margin-left:28.35pt; margin-bottom:6pt; text-align:justify; widows:0; orphans:0; font-size:11pt\"><span style=\"font-family:Calibri\">Quando as condições de energização ou fechamento em anel a serem observadas pela operação da instalação não estiverem atendidas, a manobra é coordenada pelo ONS.</span></p><p style=\"margin-top:6pt; margin-left:34pt; margin-bottom:6pt; text-indent:-34pt; text-align:justify; font-size:11pt\"><span style=\"font-family:Calibri\">2.4.</span><span style=\"font:7pt \\'Times New Roman\\'\">&#xa0;&#xa0;&#xa0;&#xa0;&#xa0;&#xa0;&#xa0;&#xa0;&#xa0;&#xa0;&#xa0; </span><span><span style=\"font-family:Calibri\">O restabelecimento de transformadores, por ambos os terminais, pode ser realizada com autonomia pela operação da instalação, desde que explicitadas nas Instruções de Operação de Instalações.</span></span></p><p style=\"margin-top:6pt; margin-left:34pt; margin-bottom:6pt; text-indent:-34pt; text-align:justify; font-size:11pt\"><span style=\"font-family:Calibri\">2.5.</span><span style=\"font:7pt \\'Times New Roman\\'\">&#xa0;&#xa0;&#xa0;&#xa0;&#xa0;&#xa0;&#xa0;&#xa0;&#xa0;&#xa0;&#xa0; </span><span><span style=\"font-family:Calibri\">O restabelecimento de linhas de transmissão ou transformadores, após abertura de apenas uns dos terminais, pode ser realizada com autonomia pela operação da instalação, desde que explicitadas nas Instruções de Operação de Instalações.</span></span></p><p style=\"margin-top:6pt; margin-left:34pt; margin-bottom:6pt; text-indent:-34pt; text-align:justify; font-size:11pt\"><span style=\"font-family:Calibri\">2.6.</span><span style=\"font:7pt \\'Times New Roman\\'\">&#xa0;&#xa0;&#xa0;&#xa0;&#xa0;&#xa0;&#xa0;&#xa0;&#xa0;&#xa0;&#xa0; </span><span><span style=\"font-family:Calibri\">Caso a operação da instalação constate que durante o procedimento de manobra existe um fechamento de paralelo, o agente deve informar ao ONS para que este coordene as ações necessárias para o atendimento das condições de fechamento.</span></span></p><p style=\"margin-top:6pt; margin-left:34pt; margin-bottom:6pt; text-indent:-34pt; text-align:justify; font-size:11pt\"><span style=\"font-family:Calibri\">2.7.</span><span style=\"font:7pt \\'Times New Roman\\'\">&#xa0;&#xa0;&#xa0;&#xa0;&#xa0;&#xa0;&#xa0;&#xa0;&#xa0;&#xa0;&#xa0; </span><span><span style=\"font-family:Calibri\">É prerrogativa do ONS, em função de necessidade da operação do sistema, intervir nas manobras de energização ou fechamento de anel que são realizadas com autonomia pela operação da instalação.</span></span></p><p style=\"margin-top:6pt; margin-left:34pt; margin-bottom:6pt; text-indent:-34pt; text-align:justify; font-size:11pt\"><span style=\"font-family:Calibri\">2.8.</span><span style=\"font:7pt \\'Times New Roman\\'\">&#xa0;&#xa0;&#xa0;&#xa0;&#xa0;&#xa0;&#xa0;&#xa0;&#xa0;&#xa0;&#xa0; </span><span><span style=\"font-family:Calibri\">As manobras programadas ou de urgência para desenergização de linhas de transmissão</span><span style=\"font-family:Calibri\">&#xa0; </span><span style=\"font-family:Calibri\">e o restabelecimento após desligamentos programados, após desligamentos de</span><span style=\"font-family:Calibri\">&#xa0; </span><span style=\"font-family:Calibri\">urgência ou após desligamentos de emergência, são sempre coordenados pelo ONS</span><span style=\"font-family:Calibri\">.</span></span></p><p style=\"margin-top:6pt; margin-left:34pt; margin-bottom:3pt; text-indent:-34pt; text-align:justify; font-size:11pt\"><span style=\"font-family:Calibri\">2.9.</span><span style=\"font:7pt \\'Times New Roman\\'\">&#xa0;&#xa0;&#xa0;&#xa0;&#xa0;&#xa0;&#xa0;&#xa0;&#xa0;&#xa0;&#xa0; </span><span><span style=\"font-family:Calibri\">Os procedimentos para manobras de linhas de transmissão e equipamentos sistêmicos só podem ser iniciados após autorização do CNOS.</span></span></p><p style=\"margin-top:0pt; margin-left:28.35pt; margin-bottom:6pt; text-align:justify; widows:0; orphans:0; font-size:11pt\"><span style=\"font-family:Calibri\">É dispensada a autorização para energização de linhas de transmissão e equipamentos sistêmicos quando a operação da instalação tem autonomia para restabelecimento prevista nas Instruções de Operação de Instalação.</span></p><p style=\"margin-top:6pt; margin-left:34pt; margin-bottom:6pt; text-indent:-34pt; text-align:justify; font-size:11pt\"><span style=\"font-family:Calibri\">2.10.</span><span style=\"font:7pt \\'Times New Roman\\'\">&#xa0;&#xa0;&#xa0;&#xa0;&#xa0;&#xa0;&#xa0; </span><span><span style=\"font-family:Calibri\">Nos procedimentos em que o</span><span style=\"font-family:Calibri\"> </span><span style=\"font-family:Calibri\">remanejamento da geração é coordenado pelo COSR-NCO, este centro deve acionar previamente o CNOS sempre que houver necessidade de remanejamento de geração envolvendo usinas da Rede de Operação sistêmica</span><span style=\"font-family:Calibri\">&#xa0; </span><span style=\"font-family:Calibri\">ou usinas da Rede de Operação sistêmica ou regional sob responsabilidade de outro Centro de Operação do ONS.</span></span></p><p style=\"margin-top:6pt; margin-left:28.35pt; margin-bottom:6pt; text-align:justify; widows:0; orphans:0; font-size:11pt\"><span style=\"font-family:Calibri\">Todo redespacho de geração que envolva alteração de intercâmbio entre regiões somente pode ser realizado pelo COSR-NCO e COSR-SE, após autorização do CNOS.</span></p><p style=\"margin-top:6pt; margin-left:39.2pt; margin-bottom:6pt; text-align:justify; widows:0; orphans:0; font-size:11pt\"><span style=\"font-family:Calibri\">Qualquer sincronismo e partida de usinas térmicas deve ser previamente autorizado pelo CNOS.</span></p><p style=\"margin-top:9pt; margin-left:34pt; margin-bottom:6pt; text-indent:-34pt; text-align:justify; font-size:11pt\"><span style=\"font-family:Calibri\">2.11.</span><span style=\"font:7pt \\'Times New Roman\\'\">&#xa0;&#xa0;&#xa0;&#xa0;&#xa0;&#xa0;&#xa0; </span><span><span style=\"font-family:Calibri\">Quando se tratar de manobras programadas, os procedimentos contidos no Programa Diário de Operação – PDO prevalecem sobre os procedimentos contidos nesta Instrução de Operação.</span></span></p><p style=\"margin-top:9pt; margin-left:34pt; margin-bottom:6pt; text-indent:-34pt; text-align:justify; font-size:11pt\"><span style=\"font-family:Calibri\">2.12.</span><span style=\"font:7pt \\'Times New Roman\\'\">&#xa0;&#xa0;&#xa0;&#xa0;&#xa0;&#xa0;&#xa0; </span><span><span style=\"font-family:Calibri\">Os procedimentos para realização de manobras de desenergização devem atender os limites operativos sistêmicos definidos pelo ONS e os limites operativos declarados pelos agentes nos Cadastros de Informações Operacionais de Limites de Equipamentos.</span></span></p><p style=\"margin-top:9pt; margin-left:34pt; margin-bottom:3pt; text-indent:-34pt; text-align:justify; font-size:11pt\"><span style=\"font-family:Calibri\">2.13.</span><span style=\"font:7pt \\'Times New Roman\\'\">&#xa0;&#xa0;&#xa0;&#xa0;&#xa0;&#xa0;&#xa0; </span><span><span style=\"font-family:Calibri\">A definição do número de tentativas de energização manual de linha de transmissão ou equipamentos, bem como o intervalo entre elas é de responsabilidade do agente proprietário, conforme declarado pelos agentes nos Cadastros de Informações Operacionais de Dados de Equipamentos.</span></span></p><p style=\"margin-top:6pt; margin-left:28.35pt; margin-bottom:6pt; text-align:justify; widows:0; orphans:0; font-size:11pt\"><span style=\"font-family:Calibri\">Depois de efetuadas as tentativas de energização previstas pelo agente e não havendo sucesso, é de responsabilidade do agente solicitar tentativas adicionais, inversão de sentido de energização ou declarar impedimento para manutenção. Caberá ao COSR-NCO autorizar as solicitações de tentativas de energização adicionais e/ou inversão de sentido da manobra em função das condições de operação do sistema.</span></p><p style=\"margin-top:9pt; margin-left:34pt; margin-bottom:6pt; text-indent:-34pt; text-align:justify; font-size:11pt\"><span style=\"font-family:Calibri\">2.14.</span><span style=\"font:7pt \\'Times New Roman\\'\">&#xa0;&#xa0;&#xa0;&#xa0;&#xa0;&#xa0;&#xa0; </span><span><span style=\"font-family:Calibri\">O relacionamento operacional para autorização para desligamento ou disponibilização de linhas de transmissão que interligam instalações subordinadas a dois Centros de Operação do ONS devem ser efetuadas entre o agente e o COSR que tem a linha de transmissão dentro da sua área de atuação.</span></span></p><p style=\"margin-top:6pt; margin-left:34pt; margin-bottom:6pt; text-indent:-34pt; text-align:justify; font-size:11pt\"><span style=\"font-family:Calibri\">2.15.</span><span style=\"font:7pt \\'Times New Roman\\'\">&#xa0;&#xa0;&#xa0;&#xa0;&#xa0;&#xa0;&#xa0; </span><span><span style=\"font-family:Calibri\">Para manobras em instalações compartilhadas, o Centro de Operação do ONS deve se relacionar somente com o agente responsável pela operação do equipamento ou linha a ser manobrado. Cabe a este agente contatar os agentes envolvidos para a realização das manobras necessárias.</span></span></p><p style=\"margin-top:6pt; margin-left:34pt; margin-bottom:6pt; text-indent:-34pt; text-align:justify; font-size:11pt\"><span style=\"font-family:Calibri\">2.16.</span><span style=\"font:7pt \\'Times New Roman\\'\">&#xa0;&#xa0;&#xa0;&#xa0;&#xa0;&#xa0;&#xa0; </span><span><span style=\"font-family:Calibri\">Deve ser caracterizado pelos agentes ao COSR-NCO as restrições de proteção, controle, canal de transferência de disparo que necessitem de desligamento em urgência de linha de transmissão ou equipamentos da Rede de Operação.</span></span></p><p style=\"margin-top:6pt; margin-left:34pt; margin-bottom:6pt; text-indent:-34pt; text-align:justify; font-size:11pt\"><span style=\"font-family:Calibri\">2.17.</span><span style=\"font:7pt \\'Times New Roman\\'\">&#xa0;&#xa0;&#xa0;&#xa0;&#xa0;&#xa0;&#xa0; </span><span><span style=\"font-family:Calibri\">Caso seja caracterizado o impedimento de linhas de transmissão ou equipamentos, devem ser adotados os procedimentos previstos nas Instruções de Operação de Contingência.</span></span></p><p style=\"margin-top:6pt; margin-left:34pt; margin-bottom:6pt; text-indent:-34pt; text-align:justify; font-size:11pt\"><span style=\"font-family:Calibri\">2.18.</span><span style=\"font:7pt \\'Times New Roman\\'\">&#xa0;&#xa0;&#xa0;&#xa0;&#xa0;&#xa0;&#xa0; </span><span><span style=\"font-family:Calibri\">Quando for necessário desligar uma linha de transmissão, reator ou capacitor para controle de tensão, devem ser adotados os critérios para complementação de vãos estabelecidos nas Instruções de Operação Normal.</span></span></p><p style=\"margin-top:6pt; margin-left:34pt; margin-bottom:6pt; text-indent:-34pt; text-align:justify; font-size:11pt\"><span style=\"font-family:Calibri\">2.19.</span><span style=\"font:7pt \\'Times New Roman\\'\">&#xa0;&#xa0;&#xa0;&#xa0;&#xa0;&#xa0;&#xa0; </span><span><span style=\"font-family:Calibri\">Nas energizações de linhas de transmissão ou transformadores que operam em paralelo, a energização do segundo equipamento em paralelo deve ser realizada após verificação de carga ativa no primeiro e assim sucessivamente, excetuando-se casos previstos nesta instrução.</span></span><span style=\"font-family:Calibri\"> </span></p><p style=\"margin-top:6pt; margin-left:34pt; margin-bottom:6pt; text-indent:-34pt; text-align:justify; font-size:11pt\"><span style=\"font-family:Calibri\">2.20.</span><span style=\"font:7pt \\'Times New Roman\\'\">&#xa0;&#xa0;&#xa0;&#xa0;&#xa0;&#xa0;&#xa0; </span><span><span style=\"font-family:Calibri\">Quando não for possível atender limitações de ângulo para o fechamento de anel constantes das Instruções de Operação, o ONS deve coordenar o fechamento de anel com qualquer ângulo, se houver:</span></span></p><p style=\"margin-top:3pt; margin-left:42.55pt; margin-bottom:3pt; text-align:justify; widows:0; orphans:0; font-size:11pt\"><span style=\"font-family:Symbol\">\\uf0b7</span><span style=\"font:7pt \\'Times New Roman\\'\">&#xa0;&#xa0;&#xa0;&#xa0;&#xa0; </span><span style=\"font-family:Calibri\">Carga interrompida.</span></p><p style=\"margin-top:3pt; margin-left:42.55pt; margin-bottom:3pt; text-align:justify; widows:0; orphans:0; font-size:11pt\"><span style=\"font-family:Symbol\">\\uf0b7</span><span style=\"font:7pt \\'Times New Roman\\'\">&#xa0;&#xa0;&#xa0;&#xa0;&#xa0; </span><span style=\"font-family:Calibri\">Equipamentos em sobrecarga inadmissível.</span></p><p style=\"margin-top:3pt; margin-left:42.55pt; margin-bottom:3pt; text-align:justify; widows:0; orphans:0; font-size:11pt\"><span style=\"font-family:Symbol\">\\uf0b7</span><span style=\"font:7pt \\'Times New Roman\\'\">&#xa0;&#xa0;&#xa0;&#xa0;&#xa0; </span><span style=\"font-family:Calibri\">Níveis de confiabilidade críticos.</span></p><p style=\"margin-top:3pt; margin-left:56.7pt; margin-bottom:3pt; text-indent:-14.15pt; text-align:justify; widows:0; orphans:0; font-size:11pt\"><span style=\"font-family:Symbol\">\\uf0b7</span><span style=\"font:7pt \\'Times New Roman\\'\">&#xa0;&#xa0;&#xa0;&#xa0;&#xa0; </span><span style=\"font-family:Calibri\">Níveis de tensão superior / inferior a 10 % da tensão nominal, exceto para o 765 KV, cujo limite superior é 4,5 % e para tensões nominais menores ou iguais à 138 KV, cujo limite superior é 5 %.</span></p><p style=\"margin-top:0pt; margin-bottom:0pt; font-size:11pt\"><br style=\"page-break-before:always; clear:both\"></p></div>'"
      ]
     },
     "metadata": {},
     "execution_count": 96
    }
   ],
   "source": [
    "df_mpo['Texto'].iloc[1]"
   ]
  },
  {
   "cell_type": "code",
   "execution_count": 97,
   "metadata": {},
   "outputs": [
    {
     "output_type": "execute_result",
     "data": {
      "text/plain": [
       "e\">\\xa0\\xa0\\xa0\\xa0\\xa0\\xa0\\xa0\\xa0\\xa0\\xa0\\xa0\\xa0\\xa0 </span><span style=\"font-family:Calibri; font-size:10pt; text-decoration:underline; color:#000000; display:none\">Energização de transformador 13,8/525 kV da UHE Jirau</span></span><span><span style=\"font-family:Calibri; font-size:10pt; text-decoration:underline; color:#000000; display:none\">4.3.</span><span style=\"font-family:Calibri; color:#000000; display:none\">\\xa0\\xa0\\xa0\\xa0\\xa0\\xa0\\xa0\\xa0\\xa0\\xa0\\xa0\\xa0\\xa0 </span><span style=\"font-family:Calibri; font-size:10pt; text-decoration:underline; color:#000000; display:none\">SE COLETORA PORTO VELHO - Transformador TF13 500/230 kV (465 MVA)</span></span><span><span style=\"font-family:Calibri; font-size:10pt; text-decoration:underline; color:#000000; display:none\">4.3.1.</span><span style=\"font-family:Calibri; color:#000000; display:none\">\\xa0\\xa0\\xa0\\xa0\\xa0\\xa0\\xa0\\xa0\\xa0\\xa0\\xa0\\xa0\\xa0 </span><span style=\"font-family:Calibri; font-size:10pt; text-decoration:underline; color:#000000; display:none\">Desenergização do Transformador TF13 500/230 kV (465 MVA) da SE Coletora Porto Velho</span></span><span><span style=\"font-family:Calibri; font-size:10pt; text-decoration:underline; color:#000000; display:none\">4.3.2.</span><span style=\"font-family:Calibri; color:#000000; display:none\">\\xa0\\xa0\\xa0\\xa0\\xa0\\xa0\\xa0\\xa0\\xa0\\xa0\\xa0\\xa0\\xa0 </span><span style=\"font-family:Calibri; font-size:10pt; text-decoration:underline; color:#000000; display:none\">Energização do Transformador TF13 525/230 kV da SE Coletora Porto Velho</span></span><span><span style=\"font-family:Calibri; font-size:10pt; font-weight:bold; text-decoration:underline; text-transform:uppercase; color:#000000; display:none\">5.</span><span style=\"font-family:Calibri; color:#000000; display:none\">\\xa0\\xa0\\xa0\\xa0\\xa0\\xa0\\xa0\\xa0\\xa0\\xa0\\xa0\\xa0\\xa0 </span><span style=\"font-family:Calibri; font-size:10pt; font-weight:bold; text-decoration:underline; text-transform:uppercase; color:#000000; display:none\">PREPARAÇÃO PARA MANOBRAS EM BIPOLOS</span></span><span><span style=\"font-family:Calibri; font-size:10pt; text-decoration:underline; color:#000000; display:none\">5.1.</span><span style=\"font-family:Calibri; color:#000000; display:none\">\\xa0\\xa0\\xa0\\xa0\\xa0\\xa0\\xa0\\xa0\\xa0\\xa0\\xa0\\xa0\\xa0 </span><span style=\"font-family:Calibri; font-size:10pt; text-decoration:underline; color:#000000; display:none\">Desenergização do Bipolo 1 (SISTÊMICO)</span></span><span><span style=\"font-family:Calibri; font-size:10pt; text-decoration:underline; color:#000000; display:none\">5.1.1.</span><span style=\"font-family:Calibri; color:#000000; display:none\">\\xa0\\xa0\\xa0\\xa0\\xa0\\xa0\\xa0\\xa0\\xa0\\xa0\\xa0\\xa0\\xa0 </span><span style=\"font-family:Calibri; font-size:10pt; text-decoration:underline; color:#000000; display:none\">DESENERGIZAÇÃO DO PRIMEIRO POLO DO BIPOLO 1, ESTANDO EM OPERAÇÃO BIPOLAR</span></span><span><span style=\"font-family:Calibri; font-size:10pt; text-decoration:underline; color:#000000; display:none\">5.1.2.</span><span style=\"font-family:Calibri; color:#000000; display:none\">\\xa0\\xa0\\xa0\\xa0\\xa0\\xa0\\xa0\\xa0\\xa0\\xa0\\xa0\\xa0\\xa0 </span><span style=\"font-family:Calibri; font-size:10pt; text-decoration:underline; color:#000000; display:none\">DESENERGIZAÇÃO DO SEGUNDO POLO DO BIPOLO 1</span></span><span><span style=\"font-family:Calibri; font-size:10pt; text-decoration:underline; color:#000000; display:none\">5.2.</span><span style=\"font-family:Calibri; color:#000000; display:none\">\\xa0\\xa0\\xa0\\xa0\\xa0\\xa0\\xa0\\xa0\\xa0\\xa0\\xa0\\xa0\\xa0 </span><span style=\"font-family:Calibri; font-size:10pt; text-decoration:underline; color:#000000; display:none\">Energização do Bipolo 1 (S</span><span style=\"font-family:Calibri; font-size:10pt; text-decoration:underline; color:#000000; display:none\">I</span><span style=\"font-family:Calibri; font-size:10pt; text-decoration:underline; color:#000000; display:none\">STÊMICO)</span></span><span><span style=\"font-family:Calibri; font-size:10pt; text-decoration:underline; color:#000000; display:none\">5.2.1.</span><span style=\"font-family:Calibri; color:#000000; display:none\">\\xa0\\xa0\\xa0\\xa0\\xa0\\xa0\\xa0\\xa0\\xa0\\xa0\\xa0\\xa0\\xa0 </span><span style=\"font-family:Calibri; font-size:10pt; text-decoration:underline; color:#000000; display:none\">Energização do PRIMEIRO POLO do Bipolo 1</span></span><span><span style=\"font-family:Calibri; font-size:10pt; text-decoration:underline; color:#000000; display:none\">5.2.2.</span><span style=\"font-family:Calibri; color:#000000; display:none\">\\xa0\\xa0\\xa0\\xa0\\xa0\\xa0\\xa0\\xa0\\xa0\\xa0\\xa0\\xa0\\xa0 </span><span style=\"font-family:Calibri; font-size:10pt; text-decoration:underline; color:#000000; display:none\">Energização do SEGUNDO POLO do Bipolo 1</span></span><span><span style=\"font-family:Calibri; font-size:10pt; text-decoration:underline; color:#000000; display:none\">5.3.</span><span style=\"font-family:Calibri; color:#000000; display:none\">\\xa0\\xa0\\xa0\\xa0\\xa0\\xa0\\xa0\\xa0\\xa0\\xa0\\xa0\\xa0\\xa0 </span><span style=\"font-family:Calibri; font-size:10pt; text-decoration:underline; color:#000000; display:none\">Mudança do Polo 1 ou Polo 2 de retorno metálico para retorno pela terra (SISTÊMICO)</span></span><span><span style=\"font-family:Calibri; font-size:10pt; text-decoration:underline; color:#000000; display:none\">5.4.</span><span style=\"font-family:Calibri; color:#000000; display:none\">\\xa0\\xa0\\xa0\\xa0\\xa0\\xa0\\xa0\\xa0\\xa0\\xa0\\xa0\\xa0\\xa0 </span><span style=\"font-family:Calibri; font-size:10pt; text-decoration:underline; color:#000000; display:none\">Mudança do Polo 1 ou Polo 2 de retorno pela terra para retorno metálico (SISTÊMICO)</span></span><span><span style=\"font-family:Calibri; font-size:10pt; text-decoration:underline; color:#000000; display:none\">5.5.</span><span style=\"font-family:Calibri; color:#000000; display:none\">\\xa0\\xa0\\xa0\\xa0\\xa0\\xa0\\xa0\\xa0\\xa0\\xa0\\xa0\\xa0\\xa0 </span><span style=\"font-family:Calibri; font-size:10pt; text-decoration:underline; color:#000000; display:none\">DESENERGIZAÇÃO DO BIPOLO 2 (SISTÊMICO)</span></span><span><span style=\"font-family:Calibri; font-size:10pt; text-decoration:underline; color:#000000; display:none\">5.5.1.</span><span style=\"font-family:Calibri; color:#000000; display:none\">\\xa0\\xa0\\xa0\\xa0\\xa0\\xa0\\xa0\\xa0\\xa0\\xa0\\xa0\\xa0\\xa0 </span><span style=\"font-family:Calibri; font-size:10pt; text-decoration:underline; color:#000000; display:none\">DESENERGIZAÇÃO DO PRIMEIRO POLO (POLO 3 OU POLO 4), ESTANDO O BIPOLO 2 NA OPERAÇÃO BIPOLAR</span></span><span><span style=\"font-family:Calibri; font-size:10pt; text-decoration:underline; color:#000000; display:none\">5.5.2.</span><span style=\"font-family:Calibri; color:#000000; display:none\">\\xa0\\xa0\\xa0\\xa0\\xa0\\xa0\\xa0\\xa0\\xa0\\xa0\\xa0\\xa0\\xa0 </span><span style=\"font-family:Calibri; font-size:10pt; text-decoration:underline; color:#000000; display:none\">DESENERGIZAÇÃO DO SEGUNDO POLO (POLO 3 OU POLO 4), ESTANDO O BIPOLO 2 NA OPERAÇÃO MONOPOLAR</span></span><span><span style=\"font-family:Calibri; font-size:10pt; text-decoration:underline; color:#000000; display:none\">5.6.</span><span style=\"font-family:Calibri; color:#000000; display:none\">\\xa0\\xa0\\xa0\\xa0\\xa0\\xa0\\xa0\\xa0\\xa0\\xa0\\xa0\\xa0\\xa0 </span><span style=\"font-family:Calibri; font-size:10pt; text-decoration:underline; color:#000000; display:none\">ENERGIZAÇÃO DO BIPOLO 2 (SISTÊMICO)</span></span><span><span style=\"font-family:Calibri; font-size:10pt; text-decoration:underline; color:#000000; display:none\">5.6.1.</span><span style=\"font-family:Calibri; color:#000000; display:none\">\\xa0\\xa0\\xa0\\xa0\\xa0\\xa0\\xa0\\xa0\\xa0\\xa0\\xa0\\xa0\\xa0 </span><span style=\"font-family:Calibri; font-size:10pt; text-decoration:underline; color:#000000; display:none\">ENERGIZAÇÃO DO PRIMEIRO POLO do Bipolo 2</span></span><span><span style=\"font-family:Calibri; font-size:10pt; text-decoration:underline; color:#000000; display:none\">5.6.2.</span><span style=\"font-family:Calibri; color:#000000; display:none\">\\xa0\\xa0\\xa0\\xa0\\xa0\\xa0\\xa0\\xa0\\xa0\\xa0\\xa0\\xa0\\xa0 </span><span style=\"font-family:Calibri; font-size:10pt; text-decoration:underline; color:#000000; display:none\">ENERGIZAÇÃO DO SEGUNDO POLO do Bipolo 2</span></span><span><span style=\"font-family:Calibri; font-size:10pt; text-decoration:underline; color:#000000; display:none\">5.7.</span><span style=\"font-family:Calibri; color:#000000; display:none\">\\xa0\\xa0\\xa0\\xa0\\xa0\\xa0\\xa0\\xa0\\xa0\\xa0\\xa0\\xa0\\xa0 </span><span style=\"font-family:Calibri; font-size:10pt; text-decoration:underline; color:#000000; display:none\">MUDANÇA DO POLO 3 OU POLO 4 DE RETORNO METÁLICO PARA RETORNO PELA TERRA (SISTÊMICO)</span></span><span><span style=\"font-family:Calibri; font-size:10pt; text-decoration:underline; color:#000000; display:none\">5.8.</span><span style=\"font-family:Calibri; color:#000000; display:none\">\\xa0\\xa0\\xa0\\xa0\\xa0\\xa0\\xa0\\xa0\\xa0\\xa0\\xa0\\xa0\\xa0 </span><span style=\"font-family:Calibri; font-size:10pt; text-decoration:underline; color:#000000; display:none\">MUDANÇA DO POLO 3 OU POLO 4 DE RETORNO PELA TERRA PARA RETORNO METÁLICO (SISTÊMICO)</span></span><span><span style=\"font-family:Calibri; font-size:10pt; font-weight:bold; text-decoration:underline; text-transform:uppercase; color:#000000; display:none\">6.</span><span style=\"font-family:Calibri; color:#000000; display:none\">\\xa0\\xa0\\xa0\\xa0\\xa0\\xa0\\xa0\\xa0\\xa0\\xa0\\xa0\\xa0\\xa0 </span><span style=\"font-family:Calibri; font-size:10pt; font-weight:bold; text-decoration:underline; text-transform:uppercase; color:#000000; display:none\">PREPARAÇÃO PARA MANOBRAS DO BACK-TO-BACK</span></span><span><span style=\"font-family:Calibri; font-size:10pt; text-decoration:underline; color:#000000; display:none\">6.1.</span><span style=\"font-family:Calibri; color:#000000; display:none\">\\xa0\\xa0\\xa0\\xa0\\xa0\\xa0\\xa0\\xa0\\xa0\\xa0\\xa0\\xa0\\xa0 </span><span style=\"font-family:Calibri; font-size:10pt; text-decoration:underline; color:#000000; display:none\">Desenergização da PRIMEIRA conversora Back-to-Back (SISTÊMICO)</span></span><span><span style=\"font-family:Calibri; font-size:10pt; text-decoration:underline; color:#000000; display:none\">6.2.</span><span style=\"font-family:Calibri; color:#000000; display:none\">\\xa0\\xa0\\xa0\\xa0\\xa0\\xa0\\xa0\\xa0\\xa0\\xa0\\xa0\\xa0\\xa0 </span><span style=\"font-family:Calibri; font-size:10pt; text-decoration:underline; color:#000000; display:none\">Desenergização da ÚLTIMA conversora Back-to-Back (SISTÊMICO)</span></span><span><span style=\"font-family:Calibri; font-size:10pt; text-decoration:underline; color:#000000; display:none\">6.3.</span><span style=\"font-family:Calibri; color:#000000; display:none\">\\xa0\\xa0\\xa0\\xa0\\xa0\\xa0\\xa0\\xa0\\xa0\\xa0\\xa0\\xa0\\xa0 </span><span style=\"font-family:Calibri; font-size:10pt; text-decoration:underline; color:#000000; display:none\">Energização da PRIMEIRA conversora Back-to-Back (SISTÊMICO)</span></span><span><span style=\"font-family:Calibri; font-size:10pt; text-decoration:underline; color:#000000; display:none\">6.4.</span><span style=\"font-family:Calibri; color:#000000; display:none\">\\xa0\\xa0\\xa0\\xa0\\xa0\\xa0\\xa0\\xa0\\xa0\\xa0\\xa0\\xa0\\xa0 </span><span style=\"font-family:Calibri; font-size:10pt; text-decoration:underline; color:#000000; display:none\">Energização da SEGUNDA conversora Back-to-Back (SISTÊMICO)</span></span><span><span style=\"font-family:Calibri; font-size:10pt; text-decoration:underline; color:#000000; display:none\">6.5.</span><span style=\"font-family:Calibri; color:#000000; display:none\">\\xa0\\xa0\\xa0\\xa0\\xa0\\xa0\\xa0\\xa0\\xa0\\xa0\\xa0\\xa0\\xa0 </span><span style=\"font-family:Calibri; font-size:10pt; text-decoration:underline; color:#000000; display:none\">Mudança da conversora Back-to-Back em modo Stand-by para Controle de Potência de Bi-bloco (SISTÊMICO)</span></span><span><span style=\"font-family:Calibri; font-size:10pt; text-decoration:underline; color:#000000; display:none\">6.6.</span><span style=\"font-family:Calibri; color:#000000; display:none\">\\xa0\\xa0\\xa0\\xa0\\xa0\\xa0\\xa0\\xa0\\xa0\\xa0\\xa0\\xa0\\xa0 </span><span style=\"font-family:Calibri; font-size:10pt; text-decoration:underline; color:#000000; display:none\">Mudança da conversora Back-to-Back em Modo de Controle de Potência de Bi-bloco para Stand-by (SISTÊMICO)</span></span><span></span><span></span><span></span><span></span><span></span><span></span><span></span><span></span><span></span><span><br style=\"page-break-before:always; clear:both\"></span><span><span style=\"font-family:Calibri; font-weight:bold; text-transform:uppercase; display:none\">OBJETIVO</span></span><span style=\"font-family:Calibri; display:none\">Estabelecer </span><span style=\"font-family:Calibri; display:none\">os </span><span style=\"font-family:Calibri; display:none\">procedimentos a serem seguidos pelos operadores dos Centros de Operação do ONS e pela Operação dos Agentes envolvidos</span><span style=\"font-family:Calibri; display:none\"> para manobras de equipamentos e linhas de transmissão da </span><span style=\"font-family:Calibri; display:none\">Interligação em Corrente Contínua do Madeira</span><span style=\"font-family:Calibri; display:none\">, de acordo com o Submódulo 10.7 - Controle da Transmissão em Operação Normal dos Procedimentos de Rede.</span><span></span><span></span><span></span><span></span><span></span><span></span><span></span><span></span><span></span><span></span><span><span style=\"font-family:Calibri; font-weight:bold; text-transform:uppercase; display:none\">CONSIDERAÇÕES GERAIS</span></span><span><span style=\"font-family:Calibri; display:none\">Os procedimentos contidos nesta instrução de operação são aqueles necessários para realização de manobras de desenergização e energização somente de linhas de transmissão e equipamentos da Rede de Operação, considerando em operação as demais linhas de transmissão e equipamentos das subestações envolvidas na manobra.</span></span><span style=\"font-family:Calibri; display:none\">As manobras que consideram equipamento(s) ou linha(s) de transmissão desligado(s) ou restrições adicionais no sistema devem estar especificadas nos itens da respectiva manobra.</span><span><span style=\"font-family:Calibri; display:none\">Constam nesta instrução de operação os procedimentos para manobras de todas as linhas de transmissão e transformadores da Rede de Operação </span><span style=\"font-family:Calibri; display:none\">Interligação em Corrente Contínua do Madeira</span><span style=\"font-family:Calibri; display:none\">. Os demais equipamentos da Rede de Operação desta área</span><span style=\"font-family:Calibri; display:none\">&#xa0; </span><span style=\"font-family:Calibri; display:none\">constam nesta instrução somente no caso de suas manobras necessitarem de procedimentos específicos de ajustes no sistema.</span></span><span><span style=\"font-family:Calibri; display:none\">O restabelecimento de linhas de transmissão em sentido normal, após desligamento automático, pode ser realizado com autonomia da operação da instalação, desde que explicitado nas Instruções de Operação de Instalações.</span></span><span style=\"font-family:Calibri; display:none\">Quando as condições de energização ou fechamento em anel a serem observadas pela operação da instalação não estiverem atendidas, a manobra é coordenada pelo ONS.</span><span><span style=\"font-family:Calibri; display:none\">O restabelecimento de transformadores, por ambos os terminais, pode ser realizada com autonomia pela operação da instalação, desde que explicitadas nas Instruções de Operação de Instalações.</span></span><span><span style=\"font-family:Calibri; display:none\">O restabelecimento de linhas de transmissão ou transformadores, após abertura de apenas uns dos terminais, pode ser realizada com autonomia pela operação da instalação, desde que explicitadas nas Instruções de Operação de Instalações.</span></span><span><span style=\"font-family:Calibri; display:none\">Caso a operação da instalação constate que durante o procedimento de manobra existe um fechamento de paralelo, o agente deve informar ao ONS para que este coordene as ações necessárias para o atendimento das condições de fechamento.</span></span><span><span style=\"font-family:Calibri; display:none\">É prerrogativa do ONS, em função de necessidade da operação do sistema, intervir nas manobras de energização ou fechamento de anel que são realizadas com autonomia pela operação da instalação.</span></span><span><span style=\"font-family:Calibri; display:none\">As manobras programadas ou de urgência para desenergização de linhas de transmissão</span><span style=\"font-family:Calibri; display:none\">&#xa0; </span><span style=\"font-family:Calibri; display:none\">e o restabelecimento após desligamentos programados, após desligamentos de</span><span style=\"font-family:Calibri; display:none\">&#xa0; </span><span style=\"font-family:Calibri; display:none\">urgência ou após desligamentos de emergência, são sempre coordenados pelo ONS</span><span style=\"font-family:Calibri; display:none\">.</span></span><span><span style=\"font-family:Calibri; display:none\">Os procedimentos para manobras de linhas de transmissão e equipamentos sistêmicos só podem ser iniciados após autorização do CNOS.</span></span><span style=\"font-family:Calibri; display:none\">É dispensada a autorização para energização de linhas de transmissão e equipamentos sistêmicos quando a operação da instalação tem autonomia para restabelecimento prevista nas Instruções de Operação de Instalação.</span><span><span style=\"font-family:Calibri; display:none\">Nos procedimentos em que o</span><span style=\"font-family:Calibri; display:none\"> </span><span style=\"font-family:Calibri; display:none\">remanejamento da geração é coordenado pelo COSR-NCO, este centro deve acionar previamente o CNOS sempre que houver necessidade de remanejamento de geração envolvendo usinas da Rede de Operação sistêmica</span><span style=\"font-family:Calibri; display:none\">&#xa0; </span><span style=\"font-family:Calibri; display:none\">ou usinas da Rede de Operação sistêmica ou regional sob responsabilidade de outro Centro de Operação do ONS.</span></span><span style=\"font-family:Calibri; display:none\">Todo redespacho de geração que envolva alteração de intercâmbio entre regiões somente pode ser realizado pelo COSR-NCO e COSR-SE, após autorização do CNOS.</span><span style=\"font-family:Calibri; display:none\">Qualquer sincronismo e partida de usinas térmicas deve ser previamente autorizado pelo CNOS.</span><span><span style=\"font-family:Calibri; display:none\">Quando se tratar de manobras programadas, os procedimentos contidos no Programa Diário de Operação – PDO prevalecem sobre os procedimentos contidos nesta Instrução de Operação.</span></span><span><span style=\"font-family:Calibri; display:none\">Os procedimentos para realização de manobras de desenergização devem atender os limites operativos sistêmicos definidos pelo ONS e os limites operativos declarados pelos agentes nos Cadastros de Informações Operacionais de Limites de Equipamentos.</span></span><span><span style=\"font-family:Calibri; display:none\">A definição do número de tentativas de energização manual de linha de transmissão ou equipamentos, bem como o intervalo entre elas é de responsabilidade do agente proprietário, conforme declarado pelos agentes nos Cadastros de Informações Operacionais de Dados de Equipamentos.</span></span><span style=\"font-family:Calibri; display:none\">Depois de efetuadas as tentativas de energização previstas pelo agente e não havendo sucesso, é de responsabilidade do agente solicitar tentativas adicionais, inversão de sentido de energização ou declarar impedimento para manutenção. Caberá ao COSR-NCO autorizar as solicitações de tentativas de energização adicionais e/ou inversão de sentido da manobra em função das condições de operação do sistema.</span><span><span style=\"font-family:Calibri; display:none\">O relacionamento operacional para autorização para desligamento ou disponibilização de linhas de transmissão que interligam instalações subordinadas a dois Centros de Operação do ONS devem ser efetuadas entre o'"
      ]
     },
     "metadata": {},
     "execution_count": 97
    }
   ],
   "source": [
    "df_mpo['Texto'].iloc[29]"
   ]
  },
  {
   "cell_type": "code",
   "execution_count": 98,
   "metadata": {},
   "outputs": [
    {
     "output_type": "execute_result",
     "data": {
      "text/plain": [
       "'<div><h4 style=\"margin-top:12pt; margin-left:35.45pt; margin-bottom:6pt; text-indent:-35.45pt; text-align:justify; page-break-after:avoid; font-size:11pt\"><span style=\"font-family:Calibri; text-transform:uppercase\">3.1.2.1.</span><span style=\"font:7pt \\'Times New Roman\\'\"> </span><span></span><span></span><span></span><span><span style=\"font-family:Calibri; text-transform:uppercase\">Energização da LT 230 kV Coletora Porto Velho / Porto Velho (C1 ou C2) a partir da SE Porto Velho (sentido normal)</span></span></h4><table style=\"width:480.6pt; margin-left:6.85pt; border:2.25pt solid #ffffff; border-collapse:collapse\"><thead><tr style=\"height:65.75pt\"><td style=\"width:15.55pt; height:65.75pt; writing-mode:tb-rl; border-right:2.25pt solid #ffffff; border-bottom:2.25pt solid #ffffff; padding:1.72pt; background-color:#4f8ad8\"><div style=\"height:65.75pt; writing-mode:tb-rl;transform:rotate(180deg);margin:0 auto;\"><p style=\"margin-top:0pt; margin-bottom:0pt; text-align:center; widows:0; orphans:0; font-size:11pt\"><span style=\"font-family:Calibri; font-weight:bold; color:#ffffff\">Passo</span></p></div></td><td style=\"width:14.25pt; height:65.75pt; writing-mode:tb-rl; border-right:2.25pt solid #ffffff; border-left:2.25pt solid #ffffff; border-bottom:2.25pt solid #ffffff; padding-right:2.38pt; padding-left:2.38pt; background-color:#4f8ad8\"><div style=\"height:65.75pt; writing-mode:tb-rl;transform:rotate(180deg);margin:0 auto;\"><p style=\"margin-top:0pt; margin-bottom:0pt; text-align:center; widows:0; orphans:0; font-size:11pt\"><span style=\"font-family:Calibri; font-weight:bold; color:#ffffff\">Coordenação</span></p></div></td><td style=\"width:14.25pt; height:65.75pt; writing-mode:tb-rl; border-right:2.25pt solid #ffffff; border-left:2.25pt solid #ffffff; border-bottom:2.25pt solid #ffffff; padding-right:2.38pt; padding-left:2.38pt; background-color:#4f8ad8\"><div style=\"height:65.75pt; writing-mode:tb-rl;transform:rotate(180deg);margin:0 auto;\"><p style=\"margin-top:0pt; margin-bottom:0pt; text-align:center; widows:0; orphans:0; font-size:11pt\"><span style=\"font-family:Calibri; font-weight:bold; color:#ffffff\">Controle</span></p></div></td><td style=\"width:23.9pt; height:65.75pt; writing-mode:tb-rl; border-right:2.25pt solid #ffffff; border-left:2.25pt solid #ffffff; border-bottom:2.25pt solid #ffffff; padding-right:2.38pt; padding-left:2.38pt; background-color:#4f8ad8\"><div style=\"height:65.75pt; writing-mode:tb-rl;transform:rotate(180deg);margin:0 auto;\"><p style=\"margin-top:0pt; margin-bottom:0pt; text-align:center; widows:0; orphans:0; font-size:11pt\"><span style=\"font-family:Calibri; font-weight:bold; color:#ffffff\">Comando</span><span style=\"font-family:Calibri; font-weight:bold; color:#ffffff\">/</span><span style=\"font-family:Calibri; font-weight:bold; color:#ffffff\"> Execução</span></p></div></td><td style=\"width:191.45pt; border-right:2.25pt solid #ffffff; border-left:2.25pt solid #ffffff; border-bottom:2.25pt solid #ffffff; padding-right:2.38pt; padding-left:2.38pt; background-color:#4f8ad8\"><p style=\"margin-top:0pt; margin-bottom:0pt; text-align:center; widows:0; orphans:0; font-size:11pt\"><span style=\"font-family:Calibri; font-weight:bold; color:#ffffff\">Procedimento</span></p></td><td style=\"width:166.6pt; border-left:2.25pt solid #ffffff; border-bottom:2.25pt solid #ffffff; padding-right:2.38pt; padding-left:2.38pt; background-color:#4f8ad8\"><p style=\"margin-top:0pt; margin-bottom:0pt; text-align:center; widows:0; orphans:0; font-size:11pt\"><span style=\"font-family:Calibri; font-weight:bold; color:#ffffff\">Objetivo / Item de Controle</span></p></td></tr></thead><tbody><tr style=\"height:54.9pt\"><td style=\"width:15.55pt; border-top:2.25pt solid #ffffff; border-right:2.25pt solid #ffffff; border-bottom:2.25pt solid #ffffff; padding:1.72pt; background-color:#deebf6\"><p style=\"margin-top:0pt; margin-bottom:0pt; text-align:center; widows:0; orphans:0; font-size:11pt\"><span style=\"font-family:Calibri; font-weight:bold\">1</span></p></td><td style=\"width:15.55pt; height:54.9pt; writing-mode:tb-rl; border:2.25pt solid #ffffff; padding:1.72pt; background-color:#deebf6\"><div style=\"height:54.9pt; writing-mode:tb-rl;transform:rotate(180deg);margin:0 auto;\"><p style=\"margin-top:0pt; margin-bottom:0pt; text-align:center; widows:0; orphans:0; font-size:11pt\"><span style=\"font-family:Calibri; font-weight:bold\">COSR-NCO</span></p></div></td><td style=\"width:15.55pt; height:54.9pt; writing-mode:tb-rl; border:2.25pt solid #ffffff; padding:1.72pt; background-color:#deebf6\"><div style=\"height:54.9pt; writing-mode:tb-rl;transform:rotate(180deg);margin:0 auto;\"><p style=\"margin-top:0pt; margin-bottom:0pt; text-align:center; widows:0; orphans:0; font-size:11pt\"><span style=\"font-family:Calibri; font-weight:bold\">COSR-NCO</span></p></div></td><td style=\"width:25.2pt; height:54.9pt; writing-mode:tb-rl; border:2.25pt solid #ffffff; padding:1.72pt; background-color:#deebf6\"><div style=\"height:54.9pt; writing-mode:tb-rl;transform:rotate(180deg);margin:0 auto;\"><p style=\"margin-top:0pt; margin-bottom:0pt; text-align:center; widows:0; orphans:0; font-size:11pt\"><span style=\"font-family:Calibri; font-weight:bold\">Eletronorte (</span><span style=\"font-family:Calibri; font-weight:bold\">OEORR</span><span style=\"font-family:Calibri; font-weight:bold\">)</span></p></div></td><td style=\"width:191.45pt; border:2.25pt solid #ffffff; padding-right:2.38pt; padding-left:2.38pt; background-color:#deebf6\"><p style=\"margin-top:0pt; margin-bottom:6pt; text-align:justify; widows:0; orphans:0; font-size:11pt\"><span style=\"font-family:Calibri\">Energizar a LT 230 kV Coletora Porto Velho / Porto Velho, </span><span style=\"font-family:Calibri; font-weight:bold\">pelo terminal da SE Porto Velho</span><span style=\"font-family:Calibri\">.</span></p></td><td style=\"width:166.6pt; border-top:2.25pt solid #ffffff; border-left:2.25pt solid #ffffff; border-bottom:2.25pt solid #ffffff; padding-right:2.38pt; padding-left:2.38pt; background-color:#deebf6\"><p style=\"margin-top:0pt; margin-bottom:6pt; text-align:justify; widows:0; orphans:0; font-size:11pt\"><span style=\"font-family:Calibri\">SE Porto Velho </span><span style=\"font-family:Calibri\">≤ </span><span style=\"font-family:Calibri; font-weight:bold\">241 kV</span><span style=\"font-family:Calibri; font-weight:bold\">.</span></p></td></tr><tr style=\"height:54.2pt\"><td style=\"width:15.55pt; border-top:2.25pt solid #ffffff; border-right:2.25pt solid #ffffff; padding:1.72pt; background-color:#d9d9d9\"><p style=\"margin-top:0pt; margin-bottom:0pt; text-align:center; widows:0; orphans:0; font-size:11pt\"><span style=\"font-family:Calibri; font-weight:bold\">2</span></p></td><td style=\"width:15.55pt; height:54.2pt; writing-mode:tb-rl; border-top:2.25pt solid #ffffff; border-right:2.25pt solid #ffffff; border-left:2.25pt solid #ffffff; padding:1.72pt; background-color:#d9d9d9\"><div style=\"height:54.2pt; writing-mode:tb-rl;transform:rotate(180deg);margin:0 auto;\"><p style=\"margin-top:0pt; margin-bottom:0pt; text-align:center; widows:0; orphans:0; font-size:11pt\"><span style=\"font-family:Calibri; font-weight:bold\">COSR-NCO</span></p></div></td><td style=\"width:15.55pt; height:54.2pt; writing-mode:tb-rl; border-top:2.25pt solid #ffffff; border-right:2.25pt solid #ffffff; border-left:2.25pt solid #ffffff; padding:1.72pt; background-color:#d9d9d9\"><div style=\"height:54.2pt; writing-mode:tb-rl;transform:rotate(180deg);margin:0 auto;\"><p style=\"margin-top:0pt; margin-bottom:0pt; text-align:center; widows:0; orphans:0; font-size:11pt\"><span style=\"font-family:Calibri; font-weight:bold\">COSR-NCO</span></p></div></td><td style=\"width:25.2pt; height:54.2pt; writing-mode:tb-rl; border-top:2.25pt solid #ffffff; border-right:2.25pt solid #ffffff; border-left:2.25pt solid #ffffff; padding:1.72pt; background-color:#d9d9d9\"><div style=\"height:54.2pt; writing-mode:tb-rl;transform:rotate(180deg);margin:0 auto;\"><p style=\"margin-top:0pt; margin-bottom:0pt; text-align:center; widows:0; orphans:0; font-size:11pt\"><span style=\"font-family:Calibri; font-weight:bold\">Eletronorte (</span><span style=\"font-family:Calibri; font-weight:bold\">OEORR</span><span style=\"font-family:Calibri; font-weight:bold\">)</span></p></div></td><td style=\"width:191.45pt; border-top:2.25pt solid #ffffff; border-right:2.25pt solid #ffffff; border-left:2.25pt solid #ffffff; padding-right:2.38pt; padding-left:2.38pt; background-color:#d9d9d9\"><p style=\"margin-top:0pt; margin-bottom:6pt; text-align:justify; widows:0; orphans:0; font-size:11pt\"><span style=\"font-family:Calibri\">Fechar o terminal da LT 230 kV Coletora Porto Velho / Porto Velho, </span><span style=\"font-family:Calibri; font-weight:bold\">na SE Coletora Porto Velho.</span></p></td><td style=\"width:166.6pt; border-top:2.25pt solid #ffffff; border-left:2.25pt solid #ffffff; padding-right:2.38pt; padding-left:2.38pt; background-color:#d9d9d9\"><p style=\"margin-top:0pt; margin-bottom:6pt; text-align:justify; widows:0; orphans:0; font-size:11pt\"><span style=\"font-family:Symbol; font-weight:bold\">\\uf044</span><span style=\"font-family:Calibri; font-weight:bold\">V</span><span style=\"font-family:Calibri\"> </span><span style=\"font-family:Calibri\">≤</span><span style=\"font-family:Calibri\"> </span><span style=\"font-family:Calibri; font-weight:bold\">23 kV</span><span style=\"font-family:Calibri\">.</span></p></td></tr></tbody></table><h4 style=\"margin-top:12pt; margin-left:42.55pt; margin-bottom:6pt; text-indent:-42.55pt; text-align:justify; page-break-after:avoid; font-size:11pt\"><span style=\"font-family:Calibri; text-transform:uppercase\">3.1.2.2.</span><span style=\"font:7pt \\'Times New Roman\\'\">&#xa0;&#xa0;&#xa0;&#xa0;&#xa0; </span><span></span><span></span><span></span><span><span style=\"font-family:Calibri; text-transform:uppercase\">Energização da LT 230 kV Coletora Porto Velho / Porto Velho (C1 ou C2) a partir da SE Coletora Porto Velho (sentido inverso)</span></span></h4><table style=\"width:480.6pt; margin-left:6.85pt; border:2.25pt solid #ffffff; border-collapse:collapse\"><thead><tr style=\"height:60.8pt\"><td style=\"width:15.55pt; height:60.8pt; writing-mode:tb-rl; border-right:2.25pt solid #ffffff; border-bottom:2.25pt solid #ffffff; padding:1.72pt; background-color:#4f8ad8\"><div style=\"height:60.8pt; writing-mode:tb-rl;transform:rotate(180deg);margin:0 auto;\"><p style=\"margin-top:0pt; margin-bottom:0pt; text-align:center; widows:0; orphans:0; font-size:11pt\"><span style=\"font-family:Calibri; font-weight:bold; color:#ffffff\">Passo</span></p></div></td><td style=\"width:14.25pt; height:60.8pt; writing-mode:tb-rl; border-right:2.25pt solid #ffffff; border-left:2.25pt solid #ffffff; border-bottom:2.25pt solid #ffffff; padding-right:2.38pt; padding-left:2.38pt; background-color:#4f8ad8\"><div style=\"height:60.8pt; writing-mode:tb-rl;transform:rotate(180deg);margin:0 auto;\"><p style=\"margin-top:0pt; margin-bottom:0pt; text-align:center; widows:0; orphans:0; font-size:11pt\"><span style=\"font-family:Calibri; font-weight:bold; color:#ffffff\">Coordenação</span></p></div></td><td style=\"width:14.25pt; height:60.8pt; writing-mode:tb-rl; border-right:2.25pt solid #ffffff; border-left:2.25pt solid #ffffff; border-bottom:2.25pt solid #ffffff; padding-right:2.38pt; padding-left:2.38pt; background-color:#4f8ad8\"><div style=\"height:60.8pt; writing-mode:tb-rl;transform:rotate(180deg);margin:0 auto;\"><p style=\"margin-top:0pt; margin-bottom:0pt; text-align:center; widows:0; orphans:0; font-size:11pt\"><span style=\"font-family:Calibri; font-weight:bold; color:#ffffff\">Controle</span></p></div></td><td style=\"width:23.9pt; height:60.8pt; writing-mode:tb-rl; border-right:2.25pt solid #ffffff; border-left:2.25pt solid #ffffff; border-bottom:2.25pt solid #ffffff; padding-right:2.38pt; padding-left:2.38pt; background-color:#4f8ad8\"><div style=\"height:60.8pt; writing-mode:tb-rl;transform:rotate(180deg);margin:0 auto;\"><p style=\"margin-top:0pt; margin-bottom:0pt; text-align:center; widows:0; orphans:0; font-size:11pt\"><span style=\"font-family:Calibri; font-weight:bold; color:#ffffff\">Comando</span><span style=\"font-family:Calibri; font-weight:bold; color:#ffffff\">/</span><span style=\"font-family:Calibri; font-weight:bold; color:#ffffff\"> </span><span style=\"font-family:Calibri; font-weight:bold; color:#ffffff\">Execução</span></p></div></td><td style=\"width:191.45pt; border-right:2.25pt solid #ffffff; border-left:2.25pt solid #ffffff; border-bottom:2.25pt solid #ffffff; padding-right:2.38pt; padding-left:2.38pt; background-color:#4f8ad8\"><p style=\"margin-top:0pt; margin-bottom:0pt; text-align:center; widows:0; orphans:0; font-size:11pt\"><span style=\"font-family:Calibri; font-weight:bold; color:#ffffff\">Procedimento</span></p></td><td style=\"width:166.6pt; border-left:2.25pt solid #ffffff; border-bottom:2.25pt solid #ffffff; padding-right:2.38pt; padding-left:2.38pt; background-color:#4f8ad8\"><p style=\"margin-top:0pt; margin-bottom:0pt; text-align:center; widows:0; orphans:0; font-size:11pt\"><span style=\"font-family:Calibri; font-weight:bold; color:#ffffff\">Objetivo / Item de Controle</span></p></td></tr></thead><tbody><tr style=\"height:55.9pt\"><td style=\"width:15.55pt; border-top:2.25pt solid #ffffff; border-right:2.25pt solid #ffffff; border-bottom:2.25pt solid #ffffff; padding:1.72pt; background-color:#deebf6\"><p style=\"margin-top:0pt; margin-bottom:0pt; text-align:center; widows:0; orphans:0; font-size:11pt\"><span style=\"font-family:Calibri; font-weight:bold\">1</span></p></td><td style=\"width:15.55pt; height:55.9pt; writing-mode:tb-rl; border:2.25pt solid #ffffff; padding:1.72pt; background-color:#deebf6\"><div style=\"height:55.9pt; writing-mode:tb-rl;transform:rotate(180deg);margin:0 auto;\"><p style=\"margin-top:0pt; margin-bottom:0pt; text-align:center; widows:0; orphans:0; font-size:11pt\"><span style=\"font-family:Calibri; font-weight:bold\">COSR-NCO</span></p></div></td><td style=\"width:15.55pt; height:55.9pt; writing-mode:tb-rl; border:2.25pt solid #ffffff; padding:1.72pt; background-color:#deebf6\"><div style=\"height:55.9pt; writing-mode:tb-rl;transform:rotate(180deg);margin:0 auto;\"><p style=\"margin-top:0pt; margin-bottom:0pt; text-align:center; widows:0; orphans:0; font-size:11pt\"><span style=\"font-family:Calibri; font-weight:bold\">COSR-NCO</span></p></div></td><td style=\"width:25.2pt; height:55.9pt; writing-mode:tb-rl; border:2.25pt solid #ffffff; padding:1.72pt; background-color:#deebf6\"><div style=\"height:55.9pt; writing-mode:tb-rl;transform:rotate(180deg);margin:0 auto;\"><p style=\"margin-top:0pt; margin-bottom:0pt; text-align:center; widows:0; orphans:0; font-size:11pt\"><span style=\"font-family:Calibri; font-weight:bold\">Eletronorte (</span><span style=\"font-family:Calibri; font-weight:bold\">OEORR</span><span style=\"font-family:Calibri; font-weight:bold\">)</span></p></div></td><td style=\"width:191.45pt; border:2.25pt solid #ffffff; padding-right:2.38pt; padding-left:2.38pt; background-color:#deebf6\"><p style=\"margin-top:0pt; margin-bottom:6pt; text-align:justify; widows:0; orphans:0; font-size:11pt\"><span style=\"font-family:Calibri\">Energizar a LT 230 kV Coletora Porto Velho / Porto Velho, </span><span style=\"font-family:Calibri; font-weight:bold\">pelo terminal da SE Coletora Porto Velho</span><span style=\"font-family:Calibri\">.</span></p></td><td style=\"width:166.6pt; border-top:2.25pt solid #ffffff; border-left:2.25pt solid #ffffff; border-bottom:2.25pt solid #ffffff; padding-right:2.38pt; padding-left:2.38pt; background-color:#deebf6\"><p style=\"margin-top:0pt; margin-bottom:6pt; text-align:justify; widows:0; orphans:0; font-size:11pt\"><span style=\"font-family:Calibri\">SE Porto Velho </span><span style=\"font-family:Calibri\">≤ </span><span style=\"font-family:Calibri; font-weight:bold\">241 kV</span><span style=\"font-family:Calibri; font-weight:bold\">.</span></p></td></tr><tr style=\"height:55.35pt\"><td style=\"width:15.55pt; border-top:2.25pt solid #ffffff; border-right:2.25pt solid #ffffff; padding:1.72pt; background-color:#d9d9d9\"><p style=\"margin-top:0pt; margin-bottom:0pt; text-align:center; widows:0; orphans:0; font-size:11pt\"><span style=\"font-family:Calibri; font-weight:bold\">2</span></p></td><td style=\"width:15.55pt; height:55.35pt; writing-mode:tb-rl; border-top:2.25pt solid #ffffff; border-right:2.25pt solid #ffffff; border-left:2.25pt solid #ffffff; padding:1.72pt; background-color:#d9d9d9\"><div style=\"height:55.35pt; writing-mode:tb-rl;transform:rotate(180deg);margin:0 auto;\"><p style=\"margin-top:0pt; margin-bottom:0pt; text-align:center; widows:0; orphans:0; font-size:11pt\"><span style=\"font-family:Calibri; font-weight:bold\">COSR-NCO</span></p></div></td><td style=\"width:15.55pt; height:55.35pt; writing-mode:tb-rl; border-top:2.25pt solid #ffffff; border-right:2.25pt solid #ffffff; border-left:2.25pt solid #ffffff; padding:1.72pt; background-color:#d9d9d9\"><div style=\"height:55.35pt; writing-mode:tb-rl;transform:rotate(180deg);margin:0 auto;\"><p style=\"margin-top:0pt; margin-bottom:0pt; text-align:center; widows:0; orphans:0; font-size:11pt\"><span style=\"font-family:Calibri; font-weight:bold\">COSR-NCO</span></p></div></td><td style=\"width:25.2pt; height:55.35pt; writing-mode:tb-rl; border-top:2.25pt solid #ffffff; border-right:2.25pt solid #ffffff; border-left:2.25pt solid #ffffff; padding:1.72pt; background-color:#d9d9d9\"><div style=\"height:55.35pt; writing-mode:tb-rl;transform:rotate(180deg);margin:0 auto;\"><p style=\"margin-top:0pt; margin-bottom:0pt; text-align:center; widows:0; orphans:0; font-size:11pt\"><span style=\"font-family:Calibri; font-weight:bold\">Eletronorte (</span><span style=\"font-family:Calibri; font-weight:bold\">OEORR</span><span style=\"font-family:Calibri; font-weight:bold\">)</span></p></div></td><td style=\"width:191.45pt; border-top:2.25pt solid #ffffff; border-right:2.25pt solid #ffffff; border-left:2.25pt solid #ffffff; padding-right:2.38pt; padding-left:2.38pt; background-color:#d9d9d9\"><p style=\"margin-top:0pt; margin-bottom:6pt; text-align:justify; widows:0; orphans:0; font-size:11pt\"><span style=\"font-family:Calibri\">Fechar o terminal da LT 230 kV Coletora Porto Velho / Porto Velho, </span><span style=\"font-family:Calibri; font-weight:bold\">na SE Porto Velho.</span></p></td><td style=\"width:166.6pt; border-top:2.25pt solid #ffffff; border-left:2.25pt solid #ffffff; padding-right:2.38pt; padding-left:2.38pt; background-color:#d9d9d9\"><p style=\"margin-top:0pt; margin-bottom:6pt; text-align:justify; widows:0; orphans:0; font-size:11pt\"><span style=\"font-family:Symbol\">\\uf044</span><span style=\"font-family:Calibri\">V </span><span style=\"font-family:Calibri\">≤</span><span style=\"font-family:Calibri\"> </span><span style=\"font-family:Calibri; font-weight:bold\">23 kV</span><span style=\"font-family:Calibri; font-weight:bold\">.</span></p></td></tr></tbody></table><p style=\"margin-top:0pt; margin-bottom:6pt; text-align:justify; widows:0; orphans:0; font-size:11pt\"><span style=\"font-family:Calibri\">&#xa0;</span></p></div>'"
      ]
     },
     "metadata": {},
     "execution_count": 98
    }
   ],
   "source": [
    "df_mpo['Texto'].iloc[5]"
   ]
  },
  {
   "source": [
    "### Podemos verificar que os textos estão codificados com a formatação HTML. As tags terão que ser retiradas para que os comandos de manobra possa ser mais facilmente tratados."
   ],
   "cell_type": "markdown",
   "metadata": {}
  },
  {
   "source": [
    "## 3 Gerando parquet para uso na preparação dos dados"
   ],
   "cell_type": "markdown",
   "metadata": {}
  },
  {
   "cell_type": "code",
   "execution_count": 100,
   "metadata": {},
   "outputs": [],
   "source": [
    "df_mpo_selecionados = df_mpo.filter(['ID', 'Level', 'MpoIdentificador', 'MpoAreaEletrica', 'MpoCentro', 'MpoLigadoDesligado', 'Texto', 'Título'], axis=1)"
   ]
  },
  {
   "cell_type": "code",
   "execution_count": 108,
   "metadata": {},
   "outputs": [],
   "source": [
    "PARQUET_MPO_SELECIONADOS = '../../Data/Processed/mpo_selecionados.parquet'\n",
    "\n",
    "df_mpo_export.to_parquet(PARQUET_MPO_SELECIONADOS)"
   ]
  },
  {
   "cell_type": "code",
   "execution_count": null,
   "metadata": {},
   "outputs": [],
   "source": []
  }
 ]
}