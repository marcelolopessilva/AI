{
 "metadata": {
  "language_info": {
   "codemirror_mode": {
    "name": "ipython",
    "version": 3
   },
   "file_extension": ".py",
   "mimetype": "text/x-python",
   "name": "python",
   "nbconvert_exporter": "python",
   "pygments_lexer": "ipython3",
   "version": "3.8.5-final"
  },
  "orig_nbformat": 2,
  "kernelspec": {
   "name": "python38564bitmod3nlppythonhqpzdnr6ab3f1781bf094d7f825e8de4eadf86c2",
   "display_name": "Python 3.8.5 64-bit ('mod3_nlp_python-Hqpzdnr6')",
   "language": "python"
  }
 },
 "nbformat": 4,
 "nbformat_minor": 2,
 "cells": [
  {
   "source": [
    "# Uso da biblioteca SpaCy\n",
    "### https://spacy.io/\n",
    "### pip install -U spacy"
   ],
   "cell_type": "markdown",
   "metadata": {}
  },
  {
   "cell_type": "code",
   "execution_count": 64,
   "metadata": {},
   "outputs": [],
   "source": [
    "import pandas as pd"
   ]
  },
  {
   "source": [
    "## 1. Importando dados da preparação"
   ],
   "cell_type": "markdown",
   "metadata": {}
  },
  {
   "cell_type": "code",
   "execution_count": 65,
   "metadata": {},
   "outputs": [],
   "source": [
    "PARQUET_MPO_PREPARADOS = '../../Data/Processed/mpo_preparados.parquet'\n",
    "\n",
    "df_mpo = pd.read_parquet(PARQUET_MPO_PREPARADOS)"
   ]
  },
  {
   "source": [
    "![SpaCy Pipeline](../../Docs/spacypipeline.png)"
   ],
   "cell_type": "markdown",
   "metadata": {}
  },
  {
   "source": [
    "## Iniciando: Tokenização, índices e atributos léxicos"
   ],
   "cell_type": "markdown",
   "metadata": {}
  },
  {
   "cell_type": "code",
   "execution_count": 66,
   "metadata": {},
   "outputs": [
    {
     "output_type": "stream",
     "name": "stdout",
     "text": [
      "Olá meu nome é Marcelo e tenho 46 anos.\nid: 0\t token: Olá\t pos_i: 0\t String? True\t Número? False\t Pontuação? False\nid: 1\t token: meu\t pos_i: 4\t String? True\t Número? False\t Pontuação? False\nid: 2\t token: nome\t pos_i: 8\t String? True\t Número? False\t Pontuação? False\nid: 3\t token: é\t pos_i: 13\t String? True\t Número? False\t Pontuação? False\nid: 4\t token: Marcelo\t pos_i: 15\t String? True\t Número? False\t Pontuação? False\nid: 5\t token: e\t pos_i: 23\t String? True\t Número? False\t Pontuação? False\nid: 6\t token: tenho\t pos_i: 25\t String? True\t Número? False\t Pontuação? False\nid: 7\t token: 46\t pos_i: 31\t String? False\t Número? True\t Pontuação? False\nid: 8\t token: anos\t pos_i: 34\t String? True\t Número? False\t Pontuação? False\nid: 9\t token: .\t pos_i: 38\t String? False\t Número? False\t Pontuação? True\n"
     ]
    }
   ],
   "source": [
    "# Importe a classe do idioma portugues\n",
    "from spacy.lang.pt import Portuguese\n",
    "\n",
    "# Crie um objeto nlp\n",
    "nlp = Portuguese()\n",
    "\n",
    "# Processe o texto\n",
    "doc = nlp(\"Olá meu nome é Marcelo e tenho 46 anos.\")\n",
    "\n",
    "# Imprima o texto do documento\n",
    "print(doc.text)\n",
    "\n",
    "# Imprima alguns atributos léxicos\n",
    "for token in doc:\n",
    "    print(f\"id: {token.i}\\t\", f\"token: {doc[token.i]}\\t\", f\"pos_i: {token.idx}\\t\", f\"String? {token.is_alpha}\\t\", f\"Número? {token.is_digit}\\t\", f\"Pontuação? {token.is_punct}\")"
   ]
  },
  {
   "source": [
    "## Importando pequeno modelo treinado em pt\n",
    "## python -m spacy download pt_core_news_sm"
   ],
   "cell_type": "markdown",
   "metadata": {}
  },
  {
   "cell_type": "code",
   "execution_count": 87,
   "metadata": {},
   "outputs": [],
   "source": [
    "import spacy\n",
    "\n",
    "nlp = spacy.load(\"pt_core_news_sm\")"
   ]
  },
  {
   "cell_type": "code",
   "execution_count": 68,
   "metadata": {},
   "outputs": [
    {
     "output_type": "stream",
     "name": "stdout",
     "text": [
      "Olá meu nome é Marcelo e tenho 46 anos.\n"
     ]
    }
   ],
   "source": [
    "# Processe o texto\n",
    "doc = nlp(\"Olá meu nome é Marcelo e tenho 46 anos.\")\n",
    "\n",
    "# Imprima o texto do documento\n",
    "print(doc.text)"
   ]
  },
  {
   "source": [
    "## Observando previsão de classe gramatical"
   ],
   "cell_type": "markdown",
   "metadata": {}
  },
  {
   "cell_type": "code",
   "execution_count": 69,
   "metadata": {},
   "outputs": [
    {
     "output_type": "stream",
     "name": "stdout",
     "text": [
      "Olá VERB nsubj Marcelo\nmeu DET det nome\nnome NOUN obj Olá\né AUX cop Marcelo\nMarcelo PROPN ROOT Marcelo\ne CCONJ cc tenho\ntenho VERB conj Marcelo\n46 NUM nummod anos\nanos NOUN obj tenho\n. PUNCT punct Marcelo\n"
     ]
    }
   ],
   "source": [
    "for token in doc:\n",
    "    # Imprimir o texto e a classe gramatical prevista (pos_), marcador de dependência (dep_), índice da palavra principal (head) \n",
    "    print(token.text, token.pos_, token.dep_, token.head.text)"
   ]
  },
  {
   "cell_type": "code",
   "execution_count": 70,
   "metadata": {},
   "outputs": [
    {
     "output_type": "execute_result",
     "data": {
      "text/plain": [
       "'determiner'"
      ]
     },
     "metadata": {},
     "execution_count": 70
    }
   ],
   "source": [
    "import spacy\n",
    "\n",
    "spacy.explain(\"DET\")\n"
   ]
  },
  {
   "cell_type": "code",
   "execution_count": 71,
   "metadata": {},
   "outputs": [
    {
     "output_type": "execute_result",
     "data": {
      "text/plain": [
       "'coordinating conjunction'"
      ]
     },
     "metadata": {},
     "execution_count": 71
    }
   ],
   "source": [
    "spacy.explain(\"CCONJ\")"
   ]
  },
  {
   "cell_type": "code",
   "execution_count": 72,
   "metadata": {},
   "outputs": [
    {
     "output_type": "execute_result",
     "data": {
      "text/plain": [
       "'numeric modifier'"
      ]
     },
     "metadata": {},
     "execution_count": 72
    }
   ],
   "source": [
    "spacy.explain(\"nummod\")"
   ]
  },
  {
   "cell_type": "code",
   "execution_count": 73,
   "metadata": {},
   "outputs": [],
   "source": [
    "from spacy import displacy"
   ]
  },
  {
   "cell_type": "code",
   "execution_count": 75,
   "metadata": {},
   "outputs": [
    {
     "output_type": "display_data",
     "data": {
      "text/plain": "<IPython.core.display.HTML object>",
      "text/html": "<span class=\"tex2jax_ignore\"><svg xmlns=\"http://www.w3.org/2000/svg\" xmlns:xlink=\"http://www.w3.org/1999/xlink\" xml:lang=\"pt\" id=\"29a80dc1d40a4d6ba6f069d81e983468-0\" class=\"displacy\" width=\"1625\" height=\"399.5\" direction=\"ltr\" style=\"max-width: none; height: 399.5px; color: #000000; background: #ffffff; font-family: Arial; direction: ltr\">\n<text class=\"displacy-token\" fill=\"currentColor\" text-anchor=\"middle\" y=\"309.5\">\n    <tspan class=\"displacy-word\" fill=\"currentColor\" x=\"50\">Olá</tspan>\n    <tspan class=\"displacy-tag\" dy=\"2em\" fill=\"currentColor\" x=\"50\">VERB</tspan>\n</text>\n\n<text class=\"displacy-token\" fill=\"currentColor\" text-anchor=\"middle\" y=\"309.5\">\n    <tspan class=\"displacy-word\" fill=\"currentColor\" x=\"225\">meu</tspan>\n    <tspan class=\"displacy-tag\" dy=\"2em\" fill=\"currentColor\" x=\"225\">DET</tspan>\n</text>\n\n<text class=\"displacy-token\" fill=\"currentColor\" text-anchor=\"middle\" y=\"309.5\">\n    <tspan class=\"displacy-word\" fill=\"currentColor\" x=\"400\">nome</tspan>\n    <tspan class=\"displacy-tag\" dy=\"2em\" fill=\"currentColor\" x=\"400\">NOUN</tspan>\n</text>\n\n<text class=\"displacy-token\" fill=\"currentColor\" text-anchor=\"middle\" y=\"309.5\">\n    <tspan class=\"displacy-word\" fill=\"currentColor\" x=\"575\">é</tspan>\n    <tspan class=\"displacy-tag\" dy=\"2em\" fill=\"currentColor\" x=\"575\">AUX</tspan>\n</text>\n\n<text class=\"displacy-token\" fill=\"currentColor\" text-anchor=\"middle\" y=\"309.5\">\n    <tspan class=\"displacy-word\" fill=\"currentColor\" x=\"750\">Marcelo</tspan>\n    <tspan class=\"displacy-tag\" dy=\"2em\" fill=\"currentColor\" x=\"750\">PROPN</tspan>\n</text>\n\n<text class=\"displacy-token\" fill=\"currentColor\" text-anchor=\"middle\" y=\"309.5\">\n    <tspan class=\"displacy-word\" fill=\"currentColor\" x=\"925\">e</tspan>\n    <tspan class=\"displacy-tag\" dy=\"2em\" fill=\"currentColor\" x=\"925\">CCONJ</tspan>\n</text>\n\n<text class=\"displacy-token\" fill=\"currentColor\" text-anchor=\"middle\" y=\"309.5\">\n    <tspan class=\"displacy-word\" fill=\"currentColor\" x=\"1100\">tenho</tspan>\n    <tspan class=\"displacy-tag\" dy=\"2em\" fill=\"currentColor\" x=\"1100\">VERB</tspan>\n</text>\n\n<text class=\"displacy-token\" fill=\"currentColor\" text-anchor=\"middle\" y=\"309.5\">\n    <tspan class=\"displacy-word\" fill=\"currentColor\" x=\"1275\">46</tspan>\n    <tspan class=\"displacy-tag\" dy=\"2em\" fill=\"currentColor\" x=\"1275\">NUM</tspan>\n</text>\n\n<text class=\"displacy-token\" fill=\"currentColor\" text-anchor=\"middle\" y=\"309.5\">\n    <tspan class=\"displacy-word\" fill=\"currentColor\" x=\"1450\">anos.</tspan>\n    <tspan class=\"displacy-tag\" dy=\"2em\" fill=\"currentColor\" x=\"1450\">NOUN</tspan>\n</text>\n\n<g class=\"displacy-arrow\">\n    <path class=\"displacy-arc\" id=\"arrow-29a80dc1d40a4d6ba6f069d81e983468-0-0\" stroke-width=\"2px\" d=\"M70,264.5 C70,2.0 750.0,2.0 750.0,264.5\" fill=\"none\" stroke=\"currentColor\"/>\n    <text dy=\"1.25em\" style=\"font-size: 0.8em; letter-spacing: 1px\">\n        <textPath xlink:href=\"#arrow-29a80dc1d40a4d6ba6f069d81e983468-0-0\" class=\"displacy-label\" startOffset=\"50%\" side=\"left\" fill=\"currentColor\" text-anchor=\"middle\">nsubj</textPath>\n    </text>\n    <path class=\"displacy-arrowhead\" d=\"M70,266.5 L62,254.5 78,254.5\" fill=\"currentColor\"/>\n</g>\n\n<g class=\"displacy-arrow\">\n    <path class=\"displacy-arc\" id=\"arrow-29a80dc1d40a4d6ba6f069d81e983468-0-1\" stroke-width=\"2px\" d=\"M245,264.5 C245,177.0 390.0,177.0 390.0,264.5\" fill=\"none\" stroke=\"currentColor\"/>\n    <text dy=\"1.25em\" style=\"font-size: 0.8em; letter-spacing: 1px\">\n        <textPath xlink:href=\"#arrow-29a80dc1d40a4d6ba6f069d81e983468-0-1\" class=\"displacy-label\" startOffset=\"50%\" side=\"left\" fill=\"currentColor\" text-anchor=\"middle\">det</textPath>\n    </text>\n    <path class=\"displacy-arrowhead\" d=\"M245,266.5 L237,254.5 253,254.5\" fill=\"currentColor\"/>\n</g>\n\n<g class=\"displacy-arrow\">\n    <path class=\"displacy-arc\" id=\"arrow-29a80dc1d40a4d6ba6f069d81e983468-0-2\" stroke-width=\"2px\" d=\"M70,264.5 C70,89.5 395.0,89.5 395.0,264.5\" fill=\"none\" stroke=\"currentColor\"/>\n    <text dy=\"1.25em\" style=\"font-size: 0.8em; letter-spacing: 1px\">\n        <textPath xlink:href=\"#arrow-29a80dc1d40a4d6ba6f069d81e983468-0-2\" class=\"displacy-label\" startOffset=\"50%\" side=\"left\" fill=\"currentColor\" text-anchor=\"middle\">obj</textPath>\n    </text>\n    <path class=\"displacy-arrowhead\" d=\"M395.0,266.5 L403.0,254.5 387.0,254.5\" fill=\"currentColor\"/>\n</g>\n\n<g class=\"displacy-arrow\">\n    <path class=\"displacy-arc\" id=\"arrow-29a80dc1d40a4d6ba6f069d81e983468-0-3\" stroke-width=\"2px\" d=\"M595,264.5 C595,177.0 740.0,177.0 740.0,264.5\" fill=\"none\" stroke=\"currentColor\"/>\n    <text dy=\"1.25em\" style=\"font-size: 0.8em; letter-spacing: 1px\">\n        <textPath xlink:href=\"#arrow-29a80dc1d40a4d6ba6f069d81e983468-0-3\" class=\"displacy-label\" startOffset=\"50%\" side=\"left\" fill=\"currentColor\" text-anchor=\"middle\">cop</textPath>\n    </text>\n    <path class=\"displacy-arrowhead\" d=\"M595,266.5 L587,254.5 603,254.5\" fill=\"currentColor\"/>\n</g>\n\n<g class=\"displacy-arrow\">\n    <path class=\"displacy-arc\" id=\"arrow-29a80dc1d40a4d6ba6f069d81e983468-0-4\" stroke-width=\"2px\" d=\"M945,264.5 C945,177.0 1090.0,177.0 1090.0,264.5\" fill=\"none\" stroke=\"currentColor\"/>\n    <text dy=\"1.25em\" style=\"font-size: 0.8em; letter-spacing: 1px\">\n        <textPath xlink:href=\"#arrow-29a80dc1d40a4d6ba6f069d81e983468-0-4\" class=\"displacy-label\" startOffset=\"50%\" side=\"left\" fill=\"currentColor\" text-anchor=\"middle\">cc</textPath>\n    </text>\n    <path class=\"displacy-arrowhead\" d=\"M945,266.5 L937,254.5 953,254.5\" fill=\"currentColor\"/>\n</g>\n\n<g class=\"displacy-arrow\">\n    <path class=\"displacy-arc\" id=\"arrow-29a80dc1d40a4d6ba6f069d81e983468-0-5\" stroke-width=\"2px\" d=\"M770,264.5 C770,89.5 1095.0,89.5 1095.0,264.5\" fill=\"none\" stroke=\"currentColor\"/>\n    <text dy=\"1.25em\" style=\"font-size: 0.8em; letter-spacing: 1px\">\n        <textPath xlink:href=\"#arrow-29a80dc1d40a4d6ba6f069d81e983468-0-5\" class=\"displacy-label\" startOffset=\"50%\" side=\"left\" fill=\"currentColor\" text-anchor=\"middle\">conj</textPath>\n    </text>\n    <path class=\"displacy-arrowhead\" d=\"M1095.0,266.5 L1103.0,254.5 1087.0,254.5\" fill=\"currentColor\"/>\n</g>\n\n<g class=\"displacy-arrow\">\n    <path class=\"displacy-arc\" id=\"arrow-29a80dc1d40a4d6ba6f069d81e983468-0-6\" stroke-width=\"2px\" d=\"M1295,264.5 C1295,177.0 1440.0,177.0 1440.0,264.5\" fill=\"none\" stroke=\"currentColor\"/>\n    <text dy=\"1.25em\" style=\"font-size: 0.8em; letter-spacing: 1px\">\n        <textPath xlink:href=\"#arrow-29a80dc1d40a4d6ba6f069d81e983468-0-6\" class=\"displacy-label\" startOffset=\"50%\" side=\"left\" fill=\"currentColor\" text-anchor=\"middle\">nummod</textPath>\n    </text>\n    <path class=\"displacy-arrowhead\" d=\"M1295,266.5 L1287,254.5 1303,254.5\" fill=\"currentColor\"/>\n</g>\n\n<g class=\"displacy-arrow\">\n    <path class=\"displacy-arc\" id=\"arrow-29a80dc1d40a4d6ba6f069d81e983468-0-7\" stroke-width=\"2px\" d=\"M1120,264.5 C1120,89.5 1445.0,89.5 1445.0,264.5\" fill=\"none\" stroke=\"currentColor\"/>\n    <text dy=\"1.25em\" style=\"font-size: 0.8em; letter-spacing: 1px\">\n        <textPath xlink:href=\"#arrow-29a80dc1d40a4d6ba6f069d81e983468-0-7\" class=\"displacy-label\" startOffset=\"50%\" side=\"left\" fill=\"currentColor\" text-anchor=\"middle\">obj</textPath>\n    </text>\n    <path class=\"displacy-arrowhead\" d=\"M1445.0,266.5 L1453.0,254.5 1437.0,254.5\" fill=\"currentColor\"/>\n</g>\n</svg></span>"
     },
     "metadata": {}
    }
   ],
   "source": [
    "displacy.render(doc, style=\"dep\", jupyter = True)"
   ]
  },
  {
   "source": [
    "## Observando as entidades nomeadas identificadas"
   ],
   "cell_type": "markdown",
   "metadata": {}
  },
  {
   "cell_type": "code",
   "execution_count": 76,
   "metadata": {},
   "outputs": [
    {
     "output_type": "stream",
     "name": "stdout",
     "text": [
      "Olá MISC\nMarcelo MISC\n"
     ]
    }
   ],
   "source": [
    "# Iterar nas entidades previstas\n",
    "for ent in doc.ents:\n",
    "    # Imprimir o texto da entidade e seu marcador\n",
    "    print(ent.text, ent.label_)"
   ]
  },
  {
   "cell_type": "code",
   "execution_count": 77,
   "metadata": {},
   "outputs": [
    {
     "output_type": "execute_result",
     "data": {
      "text/plain": [
       "'Miscellaneous entities, e.g. events, nationalities, products or works of art'"
      ]
     },
     "metadata": {},
     "execution_count": 77
    }
   ],
   "source": [
    "spacy.explain(\"MISC\")"
   ]
  },
  {
   "cell_type": "code",
   "execution_count": 79,
   "metadata": {},
   "outputs": [],
   "source": [
    "doc = nlp(\"Olá meu nome é Marcelo, moro no Rio de Janeiro e trabalho na Microsoft.\")"
   ]
  },
  {
   "cell_type": "code",
   "execution_count": 80,
   "metadata": {},
   "outputs": [
    {
     "output_type": "stream",
     "name": "stdout",
     "text": [
      "Olá MISC\nMarcelo MISC\nRio de Janeiro LOC\nMicrosoft ORG\n"
     ]
    }
   ],
   "source": [
    "# Iterar nas entidades previstas\n",
    "for ent in doc.ents:ORG\n",
    "    # Imprimir o texto da entidade e seu marcador\n",
    "    print(ent.text, ent.label_)"
   ]
  },
  {
   "cell_type": "code",
   "execution_count": null,
   "metadata": {},
   "outputs": [],
   "source": [
    "spacy.explain(\"LOC\")"
   ]
  },
  {
   "cell_type": "code",
   "execution_count": null,
   "metadata": {},
   "outputs": [],
   "source": [
    "spacy.explain(\"ORG\")"
   ]
  },
  {
   "cell_type": "code",
   "execution_count": 81,
   "metadata": {},
   "outputs": [
    {
     "output_type": "display_data",
     "data": {
      "text/plain": "<IPython.core.display.HTML object>",
      "text/html": "<span class=\"tex2jax_ignore\"><div class=\"entities\" style=\"line-height: 2.5; direction: ltr\">\n<mark class=\"entity\" style=\"background: #ddd; padding: 0.45em 0.6em; margin: 0 0.25em; line-height: 1; border-radius: 0.35em;\">\n    Olá\n    <span style=\"font-size: 0.8em; font-weight: bold; line-height: 1; border-radius: 0.35em; vertical-align: middle; margin-left: 0.5rem\">MISC</span>\n</mark>\n meu nome é \n<mark class=\"entity\" style=\"background: #ddd; padding: 0.45em 0.6em; margin: 0 0.25em; line-height: 1; border-radius: 0.35em;\">\n    Marcelo\n    <span style=\"font-size: 0.8em; font-weight: bold; line-height: 1; border-radius: 0.35em; vertical-align: middle; margin-left: 0.5rem\">MISC</span>\n</mark>\n, moro no \n<mark class=\"entity\" style=\"background: #ff9561; padding: 0.45em 0.6em; margin: 0 0.25em; line-height: 1; border-radius: 0.35em;\">\n    Rio de Janeiro\n    <span style=\"font-size: 0.8em; font-weight: bold; line-height: 1; border-radius: 0.35em; vertical-align: middle; margin-left: 0.5rem\">LOC</span>\n</mark>\n e trabalho na \n<mark class=\"entity\" style=\"background: #7aecec; padding: 0.45em 0.6em; margin: 0 0.25em; line-height: 1; border-radius: 0.35em;\">\n    Microsoft\n    <span style=\"font-size: 0.8em; font-weight: bold; line-height: 1; border-radius: 0.35em; vertical-align: middle; margin-left: 0.5rem\">ORG</span>\n</mark>\n.</div></span>"
     },
     "metadata": {}
    }
   ],
   "source": [
    "displacy.render(doc, style=\"ent\")"
   ]
  },
  {
   "source": [
    "## Usando Comparadores. Além de textos podem comparar atributos léxicos, lematização e outros"
   ],
   "cell_type": "markdown",
   "metadata": {}
  },
  {
   "cell_type": "code",
   "execution_count": 82,
   "metadata": {},
   "outputs": [
    {
     "output_type": "stream",
     "name": "stdout",
     "text": [
      "Olá meu nome é Marcelo, moro no Rio de Janeiro e trabalho na Apple com iPhone X. Já trabalhei com iPhone 6 e nunca irei trabalhar com o iPhone 13.\n"
     ]
    }
   ],
   "source": [
    "# Processe o texto\n",
    "doc = nlp(\"Olá meu nome é Marcelo, moro no Rio de Janeiro e trabalho na Apple com iPhone X. Já trabalhei com iPhone 6 e nunca irei trabalhar com o iPhone 13.\")\n",
    "\n",
    "# Imprima o texto do documento\n",
    "print(doc.text)"
   ]
  },
  {
   "cell_type": "code",
   "execution_count": 83,
   "metadata": {},
   "outputs": [
    {
     "output_type": "stream",
     "name": "stdout",
     "text": [
      "Olá MISC\nMarcelo MISC\nRio de Janeiro LOC\nApple ORG\niPhone X. MISC\niPhone MISC\niPhone MISC\n"
     ]
    }
   ],
   "source": [
    "# Iterar nas entidades previstas\n",
    "for ent in doc.ents:\n",
    "    # Imprimir o texto da entidade e seu marcador\n",
    "    print(ent.text, ent.label_)"
   ]
  },
  {
   "cell_type": "code",
   "execution_count": 84,
   "metadata": {},
   "outputs": [
    {
     "output_type": "display_data",
     "data": {
      "text/plain": "<IPython.core.display.HTML object>",
      "text/html": "<span class=\"tex2jax_ignore\"><div class=\"entities\" style=\"line-height: 2.5; direction: ltr\">\n<mark class=\"entity\" style=\"background: #ddd; padding: 0.45em 0.6em; margin: 0 0.25em; line-height: 1; border-radius: 0.35em;\">\n    Olá\n    <span style=\"font-size: 0.8em; font-weight: bold; line-height: 1; border-radius: 0.35em; vertical-align: middle; margin-left: 0.5rem\">MISC</span>\n</mark>\n meu nome é \n<mark class=\"entity\" style=\"background: #ddd; padding: 0.45em 0.6em; margin: 0 0.25em; line-height: 1; border-radius: 0.35em;\">\n    Marcelo\n    <span style=\"font-size: 0.8em; font-weight: bold; line-height: 1; border-radius: 0.35em; vertical-align: middle; margin-left: 0.5rem\">MISC</span>\n</mark>\n, moro no \n<mark class=\"entity\" style=\"background: #ff9561; padding: 0.45em 0.6em; margin: 0 0.25em; line-height: 1; border-radius: 0.35em;\">\n    Rio de Janeiro\n    <span style=\"font-size: 0.8em; font-weight: bold; line-height: 1; border-radius: 0.35em; vertical-align: middle; margin-left: 0.5rem\">LOC</span>\n</mark>\n e trabalho na \n<mark class=\"entity\" style=\"background: #7aecec; padding: 0.45em 0.6em; margin: 0 0.25em; line-height: 1; border-radius: 0.35em;\">\n    Apple\n    <span style=\"font-size: 0.8em; font-weight: bold; line-height: 1; border-radius: 0.35em; vertical-align: middle; margin-left: 0.5rem\">ORG</span>\n</mark>\n com \n<mark class=\"entity\" style=\"background: #ddd; padding: 0.45em 0.6em; margin: 0 0.25em; line-height: 1; border-radius: 0.35em;\">\n    iPhone X.\n    <span style=\"font-size: 0.8em; font-weight: bold; line-height: 1; border-radius: 0.35em; vertical-align: middle; margin-left: 0.5rem\">MISC</span>\n</mark>\n Já trabalhei com \n<mark class=\"entity\" style=\"background: #ddd; padding: 0.45em 0.6em; margin: 0 0.25em; line-height: 1; border-radius: 0.35em;\">\n    iPhone\n    <span style=\"font-size: 0.8em; font-weight: bold; line-height: 1; border-radius: 0.35em; vertical-align: middle; margin-left: 0.5rem\">MISC</span>\n</mark>\n 6 e nunca irei trabalhar com o \n<mark class=\"entity\" style=\"background: #ddd; padding: 0.45em 0.6em; margin: 0 0.25em; line-height: 1; border-radius: 0.35em;\">\n    iPhone\n    <span style=\"font-size: 0.8em; font-weight: bold; line-height: 1; border-radius: 0.35em; vertical-align: middle; margin-left: 0.5rem\">MISC</span>\n</mark>\n 13.</div></span>"
     },
     "metadata": {}
    }
   ],
   "source": [
    "displacy.render(doc, style=\"ent\")"
   ]
  },
  {
   "cell_type": "code",
   "execution_count": 85,
   "metadata": {},
   "outputs": [
    {
     "output_type": "stream",
     "name": "stdout",
     "text": [
      "trabalho\niPhone X.\ntrabalhei\niPhone 6\ntrabalhar\niPhone 13\n"
     ]
    }
   ],
   "source": [
    "# Importar o Comparador (Matcher)\n",
    "from spacy.matcher import Matcher\n",
    "\n",
    "# Inicializar o comparador com o vocabulário. Obrigatório\n",
    "matcher = Matcher(nlp.vocab)\n",
    "\n",
    "# Adicionar a expressão ao comparador\n",
    "pattern = [[{\"TEXT\": \"iPhone\"},{\"IS_DIGIT\":True}]\n",
    "          ,[{\"LOWER\": \"iphone\"},{\"LOWER\":\"x.\"}]\n",
    "          ,[{\"LEMMA\": \"trabalhar\"}]]\n",
    "ORG\n",
    "\n",
    "matcher.add(\"IPHONE_PATTERN\", pattern)\n",
    "\n",
    "# Chamar o matcher no doc\n",
    "matches = matcher(doc)\n",
    "\n",
    "# Iterar nas correspondências\n",
    "for match_id, start, end in matches:\n",
    "    # Selecionar a partição que houve correspondência\n",
    "    matched_span = doc[start:end]\n",
    "    print(matched_span.text)"
   ]
  },
  {
   "source": [
    "## Comparando textos por similaridade. Uso de word2Vec\n",
    "\n",
    "### Somentes modelos _md ou _lg tem word to vector (python -m spacy download pt_core_news_lg)\n",
    "### método default: similaridade de cossenos, mas pode ser ajustado\n",
    "### Frases curtas são melhores que grandes com muitas palaras sem importância\n"
   ],
   "cell_type": "markdown",
   "metadata": {}
  },
  {
   "cell_type": "code",
   "execution_count": 102,
   "metadata": {},
   "outputs": [
    {
     "output_type": "stream",
     "name": "stdout",
     "text": [
      "0.633895312399778\n"
     ]
    }
   ],
   "source": [
    "nlp = spacy.load(\"pt_core_news_lg\")\n",
    "\n",
    "doc1 = nlp(\"Eu gosto de caminhar no parque\")\n",
    "\n",
    "doc2 = nlp(\"Eu gosto de praticar atividades ao ar livre\")\n",
    "\n",
    "print(doc1.similarity(doc2))"
   ]
  },
  {
   "cell_type": "code",
   "execution_count": 103,
   "metadata": {},
   "outputs": [
    {
     "output_type": "stream",
     "name": "stdout",
     "text": [
      "0.633895312399778\n"
     ]
    }
   ],
   "source": [
    "doc3 = nlp(\"Amarelo é mais bonito que Azul\")\n",
    "\n",
    "doc4 = nlp(\"Nas cores do arco íris o Roxo é o mais bonito\")\n",
    "\n",
    "print(doc1.similarity(doc2))"
   ]
  },
  {
   "cell_type": "code",
   "execution_count": 104,
   "metadata": {},
   "outputs": [
    {
     "output_type": "stream",
     "name": "stdout",
     "text": [
      "0.66269594\n"
     ]
    }
   ],
   "source": [
    "doc4 = nlp(\"Amarelo é mais bonito que Azul\")\n",
    "\n",
    "token1 = doc4[0]\n",
    "token2 = doc4[5]\n",
    "\n",
    "print(token1.similarity(token2))"
   ]
  },
  {
   "source": [
    "### W2V em português parece não ser tão bom assim.\n",
    "### Acessando o vetor para uma palavra qualquer"
   ],
   "cell_type": "markdown",
   "metadata": {}
  },
  {
   "cell_type": "code",
   "execution_count": 105,
   "metadata": {},
   "outputs": [
    {
     "output_type": "execute_result",
     "data": {
      "text/plain": [
       "array([-2.2635e-01,  1.4836e+00,  2.1009e+00, -3.2984e+00,  7.9271e-01,\n",
       "       -1.3651e+00,  7.1088e-01, -1.5358e-01,  3.2697e+00,  2.4465e+00,\n",
       "       -3.0082e-01,  5.0253e-02,  1.0965e+00,  5.8674e-01,  1.0070e+00,\n",
       "       -2.4560e-01,  2.7139e+00, -1.5109e+00,  2.3853e+00,  1.2757e+00,\n",
       "        1.9025e+00,  1.2140e-01, -1.0203e+00, -2.3683e+00,  1.5887e+00,\n",
       "        8.4399e-01, -1.6584e+00, -7.2702e-01,  1.4246e+00,  1.8543e+00,\n",
       "        1.1990e+00,  8.0773e-01,  1.1072e+00, -7.5184e-02,  3.0759e+00,\n",
       "        2.2237e-01, -1.8473e+00,  7.1692e-01, -3.3460e-03,  5.7602e-01,\n",
       "       -2.4090e+00, -8.6423e-01, -8.1773e-02, -3.6546e-02,  2.2307e+00,\n",
       "       -1.2621e+00,  5.3564e-01, -1.4126e+00, -1.5432e+00, -1.2284e+00,\n",
       "        3.3149e-01,  1.3002e+00,  4.2351e-01, -4.2618e-01, -7.4095e-01,\n",
       "        1.0854e+00,  1.0451e+00,  2.4983e+00, -1.8599e+00,  3.7690e-02,\n",
       "       -1.0240e+00,  1.3962e+00,  7.5540e-01,  9.6488e-01, -6.0423e-01,\n",
       "       -6.2135e-01,  3.5685e-01, -6.3712e-01,  4.0014e-01,  2.1530e+00,\n",
       "        1.6571e+00,  1.0477e+00, -1.2094e+00, -2.1049e+00,  2.3845e-01,\n",
       "        1.1797e+00, -9.3341e-01, -1.9204e+00, -3.5961e-01,  6.5779e-01,\n",
       "        1.0454e+00, -2.4505e+00, -9.8663e-01,  1.2489e+00,  2.6531e-01,\n",
       "       -1.2266e+00, -1.5143e+00,  9.9409e-01, -1.8730e+00, -1.2764e+00,\n",
       "        7.8981e-01, -1.7991e-01,  1.8530e+00, -1.6897e+00, -8.5913e-01,\n",
       "       -1.5037e+00,  6.2766e-02, -2.4284e-02,  5.8324e-02,  3.2845e-02,\n",
       "       -8.7375e-01, -1.6510e+00, -4.0954e-01, -1.0518e-01,  1.1582e+00,\n",
       "        5.4654e-01, -6.9789e-01, -6.4657e-01,  3.4136e-01,  1.3122e-01,\n",
       "        1.0713e+00, -1.0925e+00, -1.9481e+00,  1.7495e+00,  7.7701e-01,\n",
       "       -2.2996e-01,  6.3887e-01,  2.4190e+00, -1.4711e+00,  2.1466e+00,\n",
       "       -2.3402e+00,  1.0261e+00, -9.9570e-01,  8.5454e-01, -2.4571e+00,\n",
       "        5.1017e-01, -1.5843e+00, -6.0499e-01, -8.8128e-01, -8.4526e-01,\n",
       "       -1.7352e+00,  4.8945e-01, -8.3829e-02,  4.6710e-01, -3.8962e-01,\n",
       "       -1.1444e-01,  1.3599e+00,  1.9415e-01, -3.0350e+00, -1.0804e+00,\n",
       "       -1.1202e+00, -1.1142e+00, -1.9602e+00,  6.7505e-01,  1.9760e+00,\n",
       "        2.5139e-01, -5.2641e-01,  2.8659e-01, -9.5144e-01,  1.6655e-01,\n",
       "       -9.0800e-01, -1.0825e+00, -1.3758e+00, -3.4646e-01,  7.1415e-01,\n",
       "       -9.9319e-01,  1.2818e+00, -8.3849e-01,  1.8071e-01, -6.4009e-01,\n",
       "       -1.7889e+00,  1.6761e+00, -8.7857e-01,  1.9789e+00,  1.7666e+00,\n",
       "        1.7050e-01, -1.5186e+00, -1.2245e+00, -1.0568e+00,  3.7591e-01,\n",
       "       -1.5511e+00, -6.2077e-01,  9.3035e-02, -1.0861e+00, -9.2206e-01,\n",
       "       -9.9686e-01,  7.6234e-01,  1.3996e+00,  1.0184e+00, -9.7493e-01,\n",
       "        1.8435e+00, -8.5015e-01,  1.9090e+00,  6.1261e-01,  1.4188e-01,\n",
       "       -2.0982e-01, -2.2670e-04, -7.4210e-01,  1.4158e+00,  5.4322e-02,\n",
       "        1.7997e+00,  2.3742e+00, -6.5646e-01,  1.3245e-01, -3.1707e+00,\n",
       "        3.4972e-02,  2.6756e+00, -1.9664e+00,  5.7961e-01,  3.4235e+00,\n",
       "        4.5329e-01,  3.6078e-01, -6.0095e-01,  4.0194e-01, -6.7238e-01,\n",
       "        1.4157e+00,  4.3148e-01, -2.4082e-01,  5.4204e-01, -1.8134e+00,\n",
       "       -4.0001e-01, -6.6735e-01,  5.8136e-01, -1.0978e+00, -4.1936e-01,\n",
       "        1.0420e-01, -2.5564e-01,  1.1638e+00, -1.6669e+00,  7.4499e-01,\n",
       "        9.6746e-01,  9.4333e-01, -7.7964e-01,  7.3499e-01, -1.1990e+00,\n",
       "        2.1429e-01,  6.6142e-01, -7.2943e-01, -1.8313e-01, -9.7033e-01,\n",
       "       -2.2931e+00,  2.1616e+00,  2.6330e-01, -6.6472e-01,  4.7011e-01,\n",
       "        2.6982e+00,  1.9223e-02,  2.0640e-01,  5.4188e-02,  2.7267e-01,\n",
       "       -3.2262e-01, -1.0698e+00,  3.0956e-01, -1.8178e+00, -3.4198e-03,\n",
       "       -8.3266e-01,  5.5745e-01,  7.4140e-01,  7.2297e-02, -1.6539e-01,\n",
       "        9.7607e-01, -2.2232e+00, -4.8117e-01,  6.8063e-01, -1.0814e+00,\n",
       "        1.5088e+00, -3.5360e-01, -1.8522e-01, -3.2423e+00, -1.8104e+00,\n",
       "        1.2608e+00,  3.0608e-02, -2.2325e-01, -4.4646e-01,  1.0186e+00,\n",
       "       -4.5691e-01,  1.8514e+00, -5.6833e-02,  1.0671e+00,  1.3588e+00,\n",
       "        2.2568e+00, -1.0419e+00, -1.2076e+00, -1.5795e+00, -1.4695e+00,\n",
       "        4.0265e-01,  7.0356e-02, -1.0698e+00,  7.8591e-01,  1.5587e-01,\n",
       "        1.9876e+00, -1.0077e+00,  1.8942e-01, -8.0404e-01, -8.4298e-01,\n",
       "       -8.4823e-01, -9.2372e-01, -6.6652e-01, -1.9466e+00,  2.2839e+00,\n",
       "       -1.4702e-01,  5.2061e-01, -1.3946e+00,  5.3841e-02,  4.4714e-01,\n",
       "       -7.3324e-01, -5.2444e-01,  1.9320e-01,  7.5939e-01,  1.1783e+00],\n",
       "      dtype=float32)"
      ]
     },
     "metadata": {},
     "execution_count": 105
    }
   ],
   "source": [
    "doc4[0].vector"
   ]
  },
  {
   "cell_type": "code",
   "execution_count": 107,
   "metadata": {},
   "outputs": [
    {
     "output_type": "stream",
     "name": "stdout",
     "text": [
      "0.58121794 bom restaurante um excelente bar\n"
     ]
    }
   ],
   "source": [
    "doc5 = nlp(\"Este é um bom restaurante. Logo depois vamos a um excelente bar\")\n",
    "\n",
    "span1 = doc5[3:5]\n",
    "span2 = doc5[10:13]\n",
    "\n",
    "print(span1.similarity(span2), span1, span2)"
   ]
  },
  {
   "source": [
    "## Investigando o pipeline"
   ],
   "cell_type": "markdown",
   "metadata": {}
  },
  {
   "cell_type": "code",
   "execution_count": 108,
   "metadata": {},
   "outputs": [
    {
     "output_type": "stream",
     "name": "stdout",
     "text": [
      "['tok2vec', 'morphologizer', 'parser', 'ner', 'attribute_ruler', 'lemmatizer']\n[('tok2vec', <spacy.pipeline.tok2vec.Tok2Vec object at 0x7fab79d040e0>), ('morphologizer', <spacy.pipeline.morphologizer.Morphologizer object at 0x7fab79cefef0>), ('parser', <spacy.pipeline.dep_parser.DependencyParser object at 0x7fac18695220>), ('ner', <spacy.pipeline.ner.EntityRecognizer object at 0x7fab87b9cd60>), ('attribute_ruler', <spacy.pipeline.attributeruler.AttributeRuler object at 0x7fab93a1b280>), ('lemmatizer', <spacy.pipeline.lemmatizer.Lemmatizer object at 0x7fab92229300>)]\n"
     ]
    }
   ],
   "source": [
    "# Print the names of the pipeline components\n",
    "print(nlp.pipe_names)\n",
    "\n",
    "# Print the full pipeline of (name, component) tuples\n",
    "print(nlp.pipeline)"
   ]
  },
  {
   "source": [
    "### Componentes customizados podem ser incluídos no pipeline em qualquer posição. São chamados quando é instanciado o NLP\n",
    "\n",
    "### É uma simples função que recebe o doc, faz algo com ele e o retorna. É importante sempre retornar o doc para que os outros pipelines possam utilizá-lo\n",
    "\n",
    "<code>\n",
    "import spacy\n",
    "\n",
    "#### Define the custom component\n",
    "def length_component(doc):\n",
    "    # Get the doc's length\n",
    "    doc_length = len(doc)\n",
    "    print(f\"This document is {doc_length} tokens long.\")\n",
    "    # Return the doc\n",
    "    return doc\n",
    "\n",
    "\n",
    "#### Load the small English model\n",
    "nlp = spacy.load(\"en_core_web_sm\")\n",
    "\n",
    "#### Add the component first in the pipeline and print the pipe names\n",
    "nlp.add_pipe(length_component, first=True)\n",
    "print(nlp.pipe_names)\n",
    "\n",
    "#### Process a text\n",
    "doc = nlp(\"This is a sentence.\")\n",
    "<code>\n"
   ],
   "cell_type": "markdown",
   "metadata": {}
  },
  {
   "source": [
    "## Extensão de atributos customizados"
   ],
   "cell_type": "markdown",
   "metadata": {}
  },
  {
   "cell_type": "code",
   "execution_count": null,
   "metadata": {},
   "outputs": [],
   "source": [
    "from spacy.tokens import Span\n",
    "\n",
    "nlp = spacy.load(\"pt_core_news_lg\")\n"
   ]
  },
  {
   "cell_type": "code",
   "execution_count": 111,
   "metadata": {},
   "outputs": [
    {
     "output_type": "stream",
     "name": "stdout",
     "text": [
      "Marcelo None\nRio de Janeiro https://en.wikipedia.org/w/index.php?search=Rio_de_Janeiro\nApple https://en.wikipedia.org/w/index.php?search=Apple\niPhone None\niPhone None\niPhone None\n"
     ]
    }
   ],
   "source": [
    "\n",
    "def get_wikipedia_url(span):\n",
    "    # Get a Wikipedia URL if the span has one of the labels\n",
    "    if span.label_ in (\"PERSON\", \"ORG\", \"GPE\", \"LOC\"):\n",
    "        entity_text = span.text.replace(\" \", \"_\")\n",
    "        return \"https://en.wikipedia.org/w/index.php?search=\" + entity_text\n",
    "\n",
    "\n",
    "# Set the Span extension wikipedia_url using the getter get_wikipedia_url\n",
    "Span.set_extension(\"wikipedia_url\", getter=get_wikipedia_url, force = True)\n",
    "\n",
    "doc = nlp(\"Olá meu nome é Marcelo, moro no Rio de Janeiro e trabalho na Apple com iPhone X. Já trabalhei com iPhone 6 e nunca irei trabalhar com o iPhone 13.\")\n",
    "\n",
    "for ent in doc.ents:\n",
    "    # Print the text and Wikipedia URL of the entity\n",
    "    print(ent.text, ent._.wikipedia_url)"
   ]
  },
  {
   "cell_type": "code",
   "execution_count": null,
   "metadata": {},
   "outputs": [],
   "source": []
  }
 ]
}