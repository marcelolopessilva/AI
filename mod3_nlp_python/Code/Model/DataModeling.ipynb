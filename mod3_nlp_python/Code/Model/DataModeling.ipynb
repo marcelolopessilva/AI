{
 "metadata": {
  "language_info": {
   "codemirror_mode": {
    "name": "ipython",
    "version": 3
   },
   "file_extension": ".py",
   "mimetype": "text/x-python",
   "name": "python",
   "nbconvert_exporter": "python",
   "pygments_lexer": "ipython3",
   "version": "3.8.5-final"
  },
  "orig_nbformat": 2,
  "kernelspec": {
   "name": "python38564bitmod3nlppythonhqpzdnr6ab3f1781bf094d7f825e8de4eadf86c2",
   "display_name": "Python 3.8.5 64-bit ('mod3_nlp_python-Hqpzdnr6')",
   "language": "python"
  }
 },
 "nbformat": 4,
 "nbformat_minor": 2,
 "cells": [
  {
   "source": [
    "# Treino/Teste modelo"
   ],
   "cell_type": "markdown",
   "metadata": {}
  },
  {
   "cell_type": "code",
   "execution_count": 1,
   "metadata": {},
   "outputs": [],
   "source": [
    "import pandas as pd\n",
    "import nltk\n",
    "from sklearn.feature_extraction.text import CountVectorizer, TfidfVectorizer\n",
    "import numpy as np\n",
    "import regex as re\n",
    "import string"
   ]
  },
  {
   "source": [
    "## 1. Importando dados da preparação e stopwords"
   ],
   "cell_type": "markdown",
   "metadata": {}
  },
  {
   "cell_type": "code",
   "execution_count": 2,
   "metadata": {},
   "outputs": [],
   "source": [
    "PARQUET_MPO_PREPARADOS = '../../Data/Processed/mpo_preparados.parquet'\n",
    "\n",
    "df_mpo = pd.read_parquet(PARQUET_MPO_PREPARADOS)"
   ]
  },
  {
   "cell_type": "code",
   "execution_count": 3,
   "metadata": {},
   "outputs": [
    {
     "output_type": "stream",
     "name": "stderr",
     "text": [
      "[nltk_data] Downloading package stopwords to\n[nltk_data]     /home/marcelo/nltk_data...\n[nltk_data]   Package stopwords is already up-to-date!\n"
     ]
    }
   ],
   "source": [
    "nltk.download('stopwords')\n",
    "stopwords = nltk.corpus.stopwords.words('portuguese')"
   ]
  },
  {
   "cell_type": "code",
   "execution_count": 4,
   "metadata": {},
   "outputs": [
    {
     "output_type": "execute_result",
     "data": {
      "text/plain": [
       "       ID  Level MpoIdentificador MpoAreaEletrica MpoCentro  \\\n",
       "0  161279      1        IO-PM.6MD             6MD      CNOS   \n",
       "1  161280      2        IO-PM.6MD             6MD      CNOS   \n",
       "2  161281      3        IO-PM.6MD             6MD      CNOS   \n",
       "3  161282    3.1        IO-PM.6MD             6MD      CNOS   \n",
       "4  161283  3.1.1        IO-PM.6MD             6MD      CNOS   \n",
       "\n",
       "  MpoLigadoDesligado                                              Texto  \\\n",
       "0       Não definido  Estabelecer  os  procedimentos a serem seguido...   \n",
       "1       Não definido  2.1.              Os procedimentos contidos ne...   \n",
       "2       Não definido     1.   OBJETIVO  2. ............................   \n",
       "3       Não definido     1.   OBJETIVO  2. ............................   \n",
       "4           Desligar  3.1.1.1.             Desenergização da LT 230 ...   \n",
       "\n",
       "                                              Título  \n",
       "0                                           OBJETIVO  \n",
       "1                               CONSIDERAÇÕES GERAIS  \n",
       "2  PREPARAÇÃO PARA MANOBRAS EM LINHAS DE TRANSMISSÃO  \n",
       "3  LT 230 kV Coletora Porto Velho / Porto Velho C...  \n",
       "4  Desenergização da LT 230 kV Coletora Porto Vel...  "
      ],
      "text/html": "<div>\n<style scoped>\n    .dataframe tbody tr th:only-of-type {\n        vertical-align: middle;\n    }\n\n    .dataframe tbody tr th {\n        vertical-align: top;\n    }\n\n    .dataframe thead th {\n        text-align: right;\n    }\n</style>\n<table border=\"1\" class=\"dataframe\">\n  <thead>\n    <tr style=\"text-align: right;\">\n      <th></th>\n      <th>ID</th>\n      <th>Level</th>\n      <th>MpoIdentificador</th>\n      <th>MpoAreaEletrica</th>\n      <th>MpoCentro</th>\n      <th>MpoLigadoDesligado</th>\n      <th>Texto</th>\n      <th>Título</th>\n    </tr>\n  </thead>\n  <tbody>\n    <tr>\n      <th>0</th>\n      <td>161279</td>\n      <td>1</td>\n      <td>IO-PM.6MD</td>\n      <td>6MD</td>\n      <td>CNOS</td>\n      <td>Não definido</td>\n      <td>Estabelecer  os  procedimentos a serem seguido...</td>\n      <td>OBJETIVO</td>\n    </tr>\n    <tr>\n      <th>1</th>\n      <td>161280</td>\n      <td>2</td>\n      <td>IO-PM.6MD</td>\n      <td>6MD</td>\n      <td>CNOS</td>\n      <td>Não definido</td>\n      <td>2.1.              Os procedimentos contidos ne...</td>\n      <td>CONSIDERAÇÕES GERAIS</td>\n    </tr>\n    <tr>\n      <th>2</th>\n      <td>161281</td>\n      <td>3</td>\n      <td>IO-PM.6MD</td>\n      <td>6MD</td>\n      <td>CNOS</td>\n      <td>Não definido</td>\n      <td>1.   OBJETIVO  2. ............................</td>\n      <td>PREPARAÇÃO PARA MANOBRAS EM LINHAS DE TRANSMISSÃO</td>\n    </tr>\n    <tr>\n      <th>3</th>\n      <td>161282</td>\n      <td>3.1</td>\n      <td>IO-PM.6MD</td>\n      <td>6MD</td>\n      <td>CNOS</td>\n      <td>Não definido</td>\n      <td>1.   OBJETIVO  2. ............................</td>\n      <td>LT 230 kV Coletora Porto Velho / Porto Velho C...</td>\n    </tr>\n    <tr>\n      <th>4</th>\n      <td>161283</td>\n      <td>3.1.1</td>\n      <td>IO-PM.6MD</td>\n      <td>6MD</td>\n      <td>CNOS</td>\n      <td>Desligar</td>\n      <td>3.1.1.1.             Desenergização da LT 230 ...</td>\n      <td>Desenergização da LT 230 kV Coletora Porto Vel...</td>\n    </tr>\n  </tbody>\n</table>\n</div>"
     },
     "metadata": {},
     "execution_count": 4
    }
   ],
   "source": [
    "df_mpo.head(5)"
   ]
  },
  {
   "source": [
    "## 2. Vetorizando com tf-idf"
   ],
   "cell_type": "markdown",
   "metadata": {}
  },
  {
   "cell_type": "code",
   "execution_count": 9,
   "metadata": {},
   "outputs": [],
   "source": [
    "#vectorizer_tfidf = TfidfVectorizer(stop_words=stopwords) # , ngram_range = (1, 2)\n",
    "#X = vectorizer_tfidf.fit_transform(df_mpo['Texto_Limpo'])\n",
    "vectorizer_tfidf = TfidfVectorizer(stop_words=stopwords, min_df = 0.001, max_df = 0.99) # , ngram_range = (1, 2)\n",
    "X = vectorizer_tfidf.fit_transform(df_mpo[(df_mpo['MpoLigadoDesligado']=='Desligar') | (df_mpo['MpoLigadoDesligado']=='Ligar')]['Texto'])\n",
    "vocab = np.array(vectorizer_tfidf.get_feature_names())"
   ]
  },
  {
   "cell_type": "code",
   "execution_count": 10,
   "metadata": {},
   "outputs": [
    {
     "output_type": "execute_result",
     "data": {
      "text/plain": [
       "<3491x2564 sparse matrix of type '<class 'numpy.float64'>'\n",
       "\twith 151516 stored elements in Compressed Sparse Row format>"
      ]
     },
     "metadata": {},
     "execution_count": 10
    }
   ],
   "source": [
    "#1st run - <5456x8001 sparse matrix of type '<class 'numpy.float64'>'\n",
    "#\twith 306816 stored elements in Compressed Sparse Row format>\n",
    "\n",
    "#2nd run - 0.05 - 0.95 - <5456x208 sparse matrix of type '<class 'numpy.float64'>'\n",
    "#\twith 170520 stored elements in Compressed Sparse Row format>\n",
    "\n",
    "\n",
    "#3rd run - 0.01 - 0.99 - <5456x921 sparse matrix of type '<class 'numpy.float64'>'\n",
    "#\twith 263489 stored elements in Compressed Sparse Row format>\n",
    "\n",
    "X"
   ]
  },
  {
   "cell_type": "code",
   "execution_count": 14,
   "metadata": {},
   "outputs": [
    {
     "output_type": "execute_result",
     "data": {
      "text/plain": [
       "array(['proceder', 'procedimento', 'procedimentos', 'procurar',\n",
       "       'programa', 'programadas', 'programado', 'programados', 'proibida',\n",
       "       'proibitivo', 'promissão', 'proprietária', 'proprietário',\n",
       "       'proteção', 'proveniente', 'providenciar', 'providencie',\n",
       "       'providências', 'provoca', 'provocar', 'provoque', 'prs', 'pré',\n",
       "       'prévio', 'próxima', 'próximo', 'pss', 'pte', 'pólo', 'q1'],\n",
       "      dtype='<U19')"
      ]
     },
     "metadata": {},
     "execution_count": 14
    }
   ],
   "source": [
    "vocab[2000:2030]"
   ]
  },
  {
   "source": [
    "## 4. Modelagem de tópicos com NMF"
   ],
   "cell_type": "markdown",
   "metadata": {}
  },
  {
   "cell_type": "code",
   "execution_count": 15,
   "metadata": {},
   "outputs": [],
   "source": [
    "def show_topics(a):\n",
    "    top_words = lambda t: [vocab[i] for i in np.argsort(t)[:-num_top_words-1:-1]]\n",
    "    topic_words = ([top_words(t) for t in a])\n",
    "    return [' '.join(t) for t in topic_words]"
   ]
  },
  {
   "cell_type": "code",
   "execution_count": 25,
   "metadata": {},
   "outputs": [
    {
     "output_type": "stream",
     "name": "stdout",
     "text": [
      "['lt energização desta sentido tensão partir', 'operador fechamento autonomia oi situações demais', '69 transformador kv 13 230 mva', 'específica lado cemig energização instalação io', '500 kv 550 300 terminal reator', 'iguaçu nova angra taubaté grajaú faixas', 'c2 c1 lt terminal escolhido c3', 'biguaçu palhoça eletrosul florianópolis gaspar ocorrer', '525 itá disjuntores eletrosul kv areia', 'autotransformador lado 13 230 kv ltc', '138 kv lado transformador mva defasador', 'curitiba leste cidade uberaba get copel', 'iniciando instruções instalações envolvidas energização inicia', 'ute viana goiânia suzano araucária coe', 'dutra presidente imperatriz açailândia eletronorte oeorm', 'campo comprido get mourão copel umbará', 'cron ne chesf banabuiú milagres picos', 'ii c1 luís miranda sobral kv', 'nova mutum ponte brasnorte sorriso avanhandava', 'tf 13 transformador lado 230 disjuntor', '345 kv 362 itutinga pimenta viana', 'neves paulino elevadora sete lagoas steag', '01 02 03 nco eletronorte luís', 'salto osório santiago chopim foz ivaiporã', 'coqueiros barra peixe itaguaçu caçu celeo', 'norte medianeira verde foz reale miguel', 'atf 13 copel transformador get 230', 'coxipó rondonópolis cuiabá nco nobres 230', 'cascavel oeste copel get zona guaíra', 'ferro pau ne recife iniciando goianinha', 'garanhuns ii caetés visus ne arcoverde', 'luiz estreito carlos barreto gonzaga jaguara', 'ne cd ct carregamento 02 limite', 'novo curral piauí milagres povo chapada', '440 bauru cabreúva solteira ilha kv', 'correspondente tr banco transformador disjuntor 88', 'afonso paulo crop nome ne floresta', 'bom jesus lapa ne jardim ibicoara', 'henry borden baixada santista piratininga carbocloro', 'grande campina ii várzea coos ne', 'itaipu 60 hz 765 foz ivaiporã', 'potência fluxo mw poções ativa reativa', 'joão piauí sobradinho câmara picos ne', 'santo antônio ângelo lopes garabi solvay', 'barreiras ne tabocas brejo buritirama velho', 'cachoeira paulista dourada ctrs taubaté resende', 'jorge lacerda siderópolis eletrosul teixeira palhoça', 'compensador estático síncrono zero mvar 01k1', 'mogi cruzes itapeti cteep nordeste ctrs', 'xanxerê eletrosul fundo branco pato chapecó', 'ji paraná ariquemes pimenta bueno c3', 'xingu bipolo conversor polo tucuruí estreito', 'iii arapiraca penedo socorro senhora largo', 'alto barro niquelândia itapaci mato lindas', 'campos novos eletrosul machadinho batista abdon', 'igaporã caetité ne ii 123 crop', 'nco celg eletronorte ctrg cotesa gt', 'assis taesa andirá leste 440 capivara', 't1 t2 mva ne ransformador 230', 'cemig preferencialmente desligar iniciando itabira taquaril', 'sul brasília mateus canoinhas samambaia geral', 'dourados anastácio imbirussú 230 corumbá sidrolândia', 'araraquara 440 araras piracicaba ara2 mirassol', 'ne coos chesf recife escolhido messias', 'miracema colinas taesa lajeado gurupi cnos', 'teresina sobral piripiri ibiapina ne esperança', 'desligar desenergizando interrompendo banco tr transformadores', 'grossa ponta 34 klabin celulose areia', 'joinville blumenau eletrosul 230 disjuntor norte', 'iniciando ne permitida usinas desenergização conectadas', 'restabelecimento instalação io deste alguma efetuada', 'impostas limitações definido adequações oc indisponibilidade', 'preto tijuco ribeirão itapeti 765 ouro', 'embu guaçu solvay jandira 440 cba2', 'ouro gentio cymi ne cot ourolândia', 'ibiúna guarulhos ctrs furnas interlagos itatiba', 'ce descritos específico item adotar desta', 'vermelha água boa hora marimbondo votuporanga', 'souza edgard gov parigot pedro viriato', 'açu mossoró ii l2 acd 230kv', 'lechuga gt amazonas am cristiano balbina', 'ne energização sentido permitida deste oi', 'capacitores bancos mvar kv barra tensão', 'serra mesa niquelândia éguas brava cana', 'juazeiro bahia sobradinho bonfim senhor jaguarari', 'londrina eletrosul copel maringá apucarana figueira', 'banco tr ligar correspondentes lado automáticos', 'santa rita bárbara cruz quitéria oeste', 'mesquita governador valadares mascarenhas aimorés baguari', 'josé industrial pinhais distrito copel uberaba', 'autotransformadores banco furnas lado ctrm at', 'grid state cos luziânia paracatu paranatinga', 'uhe itumbiara emborcação geração corumbá ponte', 'bateias copel get btf itatiba jaguariaíva', 'poços caldas furnas ctrm campinas atibaia', 'adrianópolis ctrr furnas jacarepaguá merchant macaé', 'anhanguera celg bandeirantes centro goiânia carajás', 'camaçari cros ne iv olindina chesf', 'porto velho coletora jirau abunã margem', 'rio verde branco lucas terminal éguas']\n"
     ]
    }
   ],
   "source": [
    "from sklearn.decomposition import NMF\n",
    "\n",
    "#d = X.shape[0]\n",
    "num_top_words=6\n",
    "\n",
    "model_nmf = NMF(n_components=100, init='random', random_state=0)\n",
    "\n",
    "W1 = model_nmf.fit_transform(X)\n",
    "H1 = model_nmf.components_\n",
    "\n",
    "\n",
    "print(show_topics(H1))"
   ]
  },
  {
   "cell_type": "code",
   "execution_count": 20,
   "metadata": {},
   "outputs": [
    {
     "output_type": "stream",
     "name": "stdout",
     "text": [
      "Initialization complete\n",
      "Iteration 0, inertia 5584.360544613293\n",
      "Iteration 1, inertia 3035.6876248200574\n",
      "Iteration 2, inertia 2966.3641811478346\n",
      "Iteration 3, inertia 2950.205250458826\n",
      "Iteration 4, inertia 2941.2366988166937\n",
      "Iteration 5, inertia 2935.3261737498083\n",
      "Iteration 6, inertia 2932.77777637949\n",
      "Iteration 7, inertia 2930.2106601774126\n",
      "Iteration 8, inertia 2929.638998888717\n",
      "Iteration 9, inertia 2929.462580552924\n",
      "Iteration 10, inertia 2929.2806406647596\n",
      "Iteration 11, inertia 2929.0613703714907\n",
      "Iteration 12, inertia 2928.802314267806\n",
      "Iteration 13, inertia 2928.602111910723\n",
      "Iteration 14, inertia 2928.502769117967\n",
      "Iteration 15, inertia 2928.444835423924\n",
      "Iteration 16, inertia 2928.40584986647\n",
      "Iteration 17, inertia 2928.385738355421\n",
      "Iteration 18, inertia 2928.373476950292\n",
      "Iteration 19, inertia 2928.3669790698555\n",
      "Iteration 20, inertia 2928.3579997797315\n",
      "Iteration 21, inertia 2928.3526723906966\n",
      "Iteration 22, inertia 2928.346222949199\n",
      "Iteration 23, inertia 2928.3416766356536\n",
      "Iteration 24, inertia 2928.331389543623\n",
      "Iteration 25, inertia 2928.3272716352744\n",
      "Converged at iteration 25: strict convergence.\n",
      "Initialization complete\n",
      "Iteration 0, inertia 5399.175446627366\n",
      "Iteration 1, inertia 3015.186204988697\n",
      "Iteration 2, inertia 2975.0345855710266\n",
      "Iteration 3, inertia 2965.5627009361197\n",
      "Iteration 4, inertia 2962.32307838719\n",
      "Iteration 5, inertia 2957.648512869153\n",
      "Iteration 6, inertia 2955.8780492564792\n",
      "Iteration 7, inertia 2954.789753962186\n",
      "Iteration 8, inertia 2953.802830243068\n",
      "Iteration 9, inertia 2952.2267122461712\n",
      "Iteration 10, inertia 2951.1574956826294\n",
      "Iteration 11, inertia 2950.075409148776\n",
      "Iteration 12, inertia 2948.9784957084717\n",
      "Iteration 13, inertia 2948.067793813347\n",
      "Iteration 14, inertia 2947.377641366812\n",
      "Iteration 15, inertia 2946.5410343705057\n",
      "Iteration 16, inertia 2945.812187328485\n",
      "Iteration 17, inertia 2945.4618510678715\n",
      "Iteration 18, inertia 2945.323854769743\n",
      "Iteration 19, inertia 2945.24109851373\n",
      "Iteration 20, inertia 2945.135430561541\n",
      "Iteration 21, inertia 2945.0999838107577\n",
      "Iteration 22, inertia 2945.0556119082994\n",
      "Iteration 23, inertia 2945.0093715852354\n",
      "Iteration 24, inertia 2944.9734143807564\n",
      "Iteration 25, inertia 2944.9190925380904\n",
      "Iteration 26, inertia 2944.878644649642\n",
      "Iteration 27, inertia 2944.825544943855\n",
      "Iteration 28, inertia 2944.7981929784596\n",
      "Iteration 29, inertia 2944.691358349538\n",
      "Iteration 30, inertia 2944.6266084825643\n",
      "Iteration 31, inertia 2944.608507669946\n",
      "Iteration 32, inertia 2944.602242412789\n",
      "Iteration 33, inertia 2944.590966687327\n",
      "Iteration 34, inertia 2944.5859484537195\n",
      "Converged at iteration 34: strict convergence.\n",
      "Initialization complete\n",
      "Iteration 0, inertia 5489.620062928742\n",
      "Iteration 1, inertia 3059.518227787557\n",
      "Iteration 2, inertia 3006.825055727307\n",
      "Iteration 3, inertia 2977.1865810935396\n",
      "Iteration 4, inertia 2961.6731917512693\n",
      "Iteration 5, inertia 2952.991791665164\n",
      "Iteration 6, inertia 2942.416960180061\n",
      "Iteration 7, inertia 2933.9315164457616\n",
      "Iteration 8, inertia 2932.1918183210687\n",
      "Iteration 9, inertia 2931.7281837883706\n",
      "Iteration 10, inertia 2931.5317928510613\n",
      "Iteration 11, inertia 2931.4478968519466\n",
      "Iteration 12, inertia 2931.3009184532366\n",
      "Iteration 13, inertia 2931.1800233538265\n",
      "Iteration 14, inertia 2931.036595080621\n",
      "Iteration 15, inertia 2930.938336616781\n",
      "Iteration 16, inertia 2930.792239807207\n",
      "Iteration 17, inertia 2930.670551148299\n",
      "Iteration 18, inertia 2930.5799996655455\n",
      "Iteration 19, inertia 2930.2784364709055\n",
      "Iteration 20, inertia 2930.0270615465242\n",
      "Iteration 21, inertia 2929.9238266293573\n",
      "Iteration 22, inertia 2929.8288669277554\n",
      "Iteration 23, inertia 2929.7658576680647\n",
      "Iteration 24, inertia 2929.7069495116116\n",
      "Iteration 25, inertia 2929.656028004874\n",
      "Iteration 26, inertia 2929.5713659709504\n",
      "Iteration 27, inertia 2929.46564772021\n",
      "Iteration 28, inertia 2929.4466506662675\n",
      "Iteration 29, inertia 2929.427464874188\n",
      "Iteration 30, inertia 2929.4218601590737\n",
      "Iteration 31, inertia 2929.41596046038\n",
      "Converged at iteration 31: strict convergence.\n",
      "Initialization complete\n",
      "Iteration 0, inertia 5633.906322756837\n",
      "Iteration 1, inertia 3066.6195059823617\n",
      "Iteration 2, inertia 2998.848699290599\n",
      "Iteration 3, inertia 2963.7080617703864\n",
      "Iteration 4, inertia 2946.7791488245034\n",
      "Iteration 5, inertia 2937.159846186183\n",
      "Iteration 6, inertia 2932.236781754615\n",
      "Iteration 7, inertia 2931.5309513087086\n",
      "Iteration 8, inertia 2931.172602170443\n",
      "Iteration 9, inertia 2931.0486737509223\n",
      "Iteration 10, inertia 2930.9723939036207\n",
      "Iteration 11, inertia 2930.9509548398314\n",
      "Iteration 12, inertia 2930.9452167658565\n",
      "Converged at iteration 12: strict convergence.\n",
      "Initialization complete\n",
      "Iteration 0, inertia 5525.4392960764935\n",
      "Iteration 1, inertia 3006.0157952511527\n",
      "Iteration 2, inertia 2981.8613920378134\n",
      "Iteration 3, inertia 2979.3548555316606\n",
      "Iteration 4, inertia 2978.4772951030945\n",
      "Iteration 5, inertia 2977.8197968150225\n",
      "Iteration 6, inertia 2977.38033096679\n",
      "Iteration 7, inertia 2977.0455660676867\n",
      "Iteration 8, inertia 2976.354975121314\n",
      "Iteration 9, inertia 2975.5319041633607\n",
      "Iteration 10, inertia 2974.8513296004035\n",
      "Iteration 11, inertia 2974.6369126657523\n",
      "Iteration 12, inertia 2974.5295543259676\n",
      "Iteration 13, inertia 2974.38341946058\n",
      "Iteration 14, inertia 2974.2204170127875\n",
      "Iteration 15, inertia 2974.09624825954\n",
      "Iteration 16, inertia 2974.0228048482163\n",
      "Iteration 17, inertia 2973.9122792697117\n",
      "Iteration 18, inertia 2973.853481985542\n",
      "Iteration 19, inertia 2973.831048054309\n",
      "Iteration 20, inertia 2973.816666934974\n",
      "Iteration 21, inertia 2973.8011341837946\n",
      "Iteration 22, inertia 2973.7794627444755\n",
      "Iteration 23, inertia 2973.772357478178\n",
      "Converged at iteration 23: strict convergence.\n",
      "Initialization complete\n",
      "Iteration 0, inertia 5570.8448001619\n",
      "Iteration 1, inertia 3038.4515229578465\n",
      "Iteration 2, inertia 2994.3762927873936\n",
      "Iteration 3, inertia 2974.440092483853\n",
      "Iteration 4, inertia 2967.6180864504067\n",
      "Iteration 5, inertia 2964.3808432156666\n",
      "Iteration 6, inertia 2961.35434600019\n",
      "Iteration 7, inertia 2959.302592587713\n",
      "Iteration 8, inertia 2955.3982985918883\n",
      "Iteration 9, inertia 2941.262878494286\n",
      "Iteration 10, inertia 2936.0588654581366\n",
      "Iteration 11, inertia 2935.67011873205\n",
      "Iteration 12, inertia 2935.4063419298354\n",
      "Iteration 13, inertia 2935.227602976534\n",
      "Iteration 14, inertia 2935.1251376301075\n",
      "Iteration 15, inertia 2935.034136655011\n",
      "Iteration 16, inertia 2934.9467227602377\n",
      "Iteration 17, inertia 2934.879121017063\n",
      "Iteration 18, inertia 2934.7760121355177\n",
      "Iteration 19, inertia 2934.642847237619\n",
      "Iteration 20, inertia 2934.464422407807\n",
      "Iteration 21, inertia 2934.328448816127\n",
      "Iteration 22, inertia 2934.262721550102\n",
      "Iteration 23, inertia 2934.2398664426287\n",
      "Iteration 24, inertia 2934.22345043451\n",
      "Converged at iteration 24: strict convergence.\n",
      "Initialization complete\n",
      "Iteration 0, inertia 5411.7679767468435\n",
      "Iteration 1, inertia 3012.7775939626076\n",
      "Iteration 2, inertia 2961.167193937759\n",
      "Iteration 3, inertia 2948.489345803394\n",
      "Iteration 4, inertia 2940.8049833330992\n",
      "Iteration 5, inertia 2934.4395151420954\n",
      "Iteration 6, inertia 2932.9653893219106\n",
      "Iteration 7, inertia 2932.3515667232878\n",
      "Iteration 8, inertia 2931.956940165088\n",
      "Iteration 9, inertia 2931.770123606043\n",
      "Iteration 10, inertia 2931.6768646914156\n",
      "Iteration 11, inertia 2931.550462644043\n",
      "Iteration 12, inertia 2929.994369468988\n",
      "Iteration 13, inertia 2923.00554674541\n",
      "Iteration 14, inertia 2921.054215807896\n",
      "Iteration 15, inertia 2921.03473669673\n",
      "Iteration 16, inertia 2921.0254874993047\n",
      "Iteration 17, inertia 2921.0128988652423\n",
      "Iteration 18, inertia 2921.002098985565\n",
      "Iteration 19, inertia 2920.986747267248\n",
      "Iteration 20, inertia 2920.9675417839376\n",
      "Iteration 21, inertia 2920.9377028762133\n",
      "Iteration 22, inertia 2920.9107501695476\n",
      "Iteration 23, inertia 2920.891218572776\n",
      "Iteration 24, inertia 2920.875228504426\n",
      "Iteration 25, inertia 2920.857936385613\n",
      "Iteration 26, inertia 2920.842903796842\n",
      "Iteration 27, inertia 2920.8320830572106\n",
      "Converged at iteration 27: strict convergence.\n",
      "Initialization complete\n",
      "Iteration 0, inertia 5394.385331063904\n",
      "Iteration 1, inertia 3019.8393170849854\n",
      "Iteration 2, inertia 2959.9104395823665\n",
      "Iteration 3, inertia 2947.5816030086735\n",
      "Iteration 4, inertia 2942.752524669087\n",
      "Iteration 5, inertia 2940.11946578687\n",
      "Iteration 6, inertia 2938.4598862451776\n",
      "Iteration 7, inertia 2937.171334755672\n",
      "Iteration 8, inertia 2935.3150170790796\n",
      "Iteration 9, inertia 2932.280081748188\n",
      "Iteration 10, inertia 2929.22757181529\n",
      "Iteration 11, inertia 2927.715709791485\n",
      "Iteration 12, inertia 2927.435246251407\n",
      "Iteration 13, inertia 2927.325341488545\n",
      "Iteration 14, inertia 2927.30867174085\n",
      "Iteration 15, inertia 2927.294668235453\n",
      "Iteration 16, inertia 2927.286107768166\n",
      "Iteration 17, inertia 2927.2826862039483\n",
      "Converged at iteration 17: strict convergence.\n",
      "Initialization complete\n",
      "Iteration 0, inertia 5584.564733554141\n",
      "Iteration 1, inertia 3043.021404906093\n",
      "Iteration 2, inertia 2980.1390969529434\n",
      "Iteration 3, inertia 2957.837540538127\n",
      "Iteration 4, inertia 2951.7617911142574\n",
      "Iteration 5, inertia 2949.2773775194605\n",
      "Iteration 6, inertia 2946.324535959669\n",
      "Iteration 7, inertia 2939.4693991883046\n",
      "Iteration 8, inertia 2938.650195651424\n",
      "Iteration 9, inertia 2938.5674564122355\n",
      "Iteration 10, inertia 2938.488702354908\n",
      "Iteration 11, inertia 2938.467843882574\n",
      "Iteration 12, inertia 2938.462055481282\n",
      "Iteration 13, inertia 2938.457276666251\n",
      "Iteration 14, inertia 2938.441896915188\n",
      "Iteration 15, inertia 2938.4308627453124\n",
      "Iteration 16, inertia 2938.4236929152385\n",
      "Iteration 17, inertia 2938.4164157306122\n",
      "Converged at iteration 17: strict convergence.\n",
      "Initialization complete\n",
      "Iteration 0, inertia 5504.184984680209\n",
      "Iteration 1, inertia 3056.1151628704706\n",
      "Iteration 2, inertia 2998.2492720618484\n",
      "Iteration 3, inertia 2982.5492564559986\n",
      "Iteration 4, inertia 2969.180849136244\n",
      "Iteration 5, inertia 2961.8354858887183\n",
      "Iteration 6, inertia 2956.3693389851182\n",
      "Iteration 7, inertia 2946.5187732016448\n",
      "Iteration 8, inertia 2938.077756533391\n",
      "Iteration 9, inertia 2935.516159883121\n",
      "Iteration 10, inertia 2934.119250699578\n",
      "Iteration 11, inertia 2933.2934403155587\n",
      "Iteration 12, inertia 2932.288429090635\n",
      "Iteration 13, inertia 2931.185226750087\n",
      "Iteration 14, inertia 2930.8654981812906\n",
      "Iteration 15, inertia 2930.6640765649045\n",
      "Iteration 16, inertia 2930.5356643680875\n",
      "Iteration 17, inertia 2930.425081297392\n",
      "Iteration 18, inertia 2930.107979605769\n",
      "Iteration 19, inertia 2929.9712688722984\n",
      "Iteration 20, inertia 2929.88845664055\n",
      "Iteration 21, inertia 2929.8463395076756\n",
      "Iteration 22, inertia 2929.8432376789224\n",
      "Converged at iteration 22: strict convergence.\n",
      "['ne mva 69 t1 t2 230 chesf kv', 'ne ii iniciando lt c1 kv chesf 230', 'banco tr transformador correspondente bt lado at disjuntor', 'lado autotransformador kv 138 nco cemig 230 13', 'eletrosul kv 230 tf disjuntor 525 13 copel', 'nco kv lt terminal 230 500 c2 eletronorte', 'ne energização kv transformador sentido 230 69 oi', 'lt kv 345 500 furnas tensão 138 cteep']\n"
     ]
    }
   ],
   "source": [
    "from sklearn.cluster import KMeans\n",
    "\n",
    "km = KMeans(n_clusters=8, init='k-means++', max_iter=100, n_init=10, verbose=True)\n",
    "km.fit_transform(X)\n",
    "\n",
    "print(show_topics(km.cluster_centers_))"
   ]
  },
  {
   "cell_type": "code",
   "execution_count": 18,
   "metadata": {},
   "outputs": [
    {
     "output_type": "execute_result",
     "data": {
      "text/plain": [
       "Counter({4: 1600, 0: 781, 2: 333, 3: 676, 1: 101})"
      ]
     },
     "metadata": {},
     "execution_count": 18
    }
   ],
   "source": [
    "from collections import Counter\n",
    "c = Counter(km.labels_)\n",
    "c"
   ]
  },
  {
   "cell_type": "code",
   "execution_count": 21,
   "metadata": {},
   "outputs": [
    {
     "output_type": "execute_result",
     "data": {
      "text/plain": [
       "array([5, 5, 5, ..., 7, 7, 7], dtype=int32)"
      ]
     },
     "metadata": {},
     "execution_count": 21
    }
   ],
   "source": [
    "y = km.labels_\n",
    "y"
   ]
  },
  {
   "cell_type": "code",
   "execution_count": 23,
   "metadata": {},
   "outputs": [
    {
     "output_type": "execute_result",
     "data": {
      "text/plain": [
       "array([[0.        , 0.00204421, 0.00671521, ..., 0.        , 0.        ,\n",
       "        0.        ],\n",
       "       [0.        , 0.00128445, 0.00532407, ..., 0.00254439, 0.00033238,\n",
       "        0.        ],\n",
       "       [0.        , 0.        , 0.        , ..., 0.        , 0.        ,\n",
       "        0.        ],\n",
       "       ...,\n",
       "       [0.00200538, 0.0110459 , 0.        , ..., 0.000561  , 0.00073681,\n",
       "        0.        ],\n",
       "       [0.        , 0.        , 0.        , ..., 0.        , 0.        ,\n",
       "        0.        ],\n",
       "       [0.00045494, 0.0022397 , 0.        , ..., 0.00062491, 0.00033502,\n",
       "        0.00023623]])"
      ]
     },
     "metadata": {},
     "execution_count": 23
    }
   ],
   "source": [
    "cc = km.cluster_centers_\n",
    "cc"
   ]
  },
  {
   "cell_type": "code",
   "execution_count": null,
   "metadata": {},
   "outputs": [],
   "source": []
  }
 ]
}