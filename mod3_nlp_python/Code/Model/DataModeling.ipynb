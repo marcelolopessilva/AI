{
 "metadata": {
  "language_info": {
   "codemirror_mode": {
    "name": "ipython",
    "version": 3
   },
   "file_extension": ".py",
   "mimetype": "text/x-python",
   "name": "python",
   "nbconvert_exporter": "python",
   "pygments_lexer": "ipython3",
   "version": "3.8.5-final"
  },
  "orig_nbformat": 2,
  "kernelspec": {
   "name": "python38564bitmod3nlppythonhqpzdnr6ab3f1781bf094d7f825e8de4eadf86c2",
   "display_name": "Python 3.8.5 64-bit ('mod3_nlp_python-Hqpzdnr6')",
   "language": "python"
  }
 },
 "nbformat": 4,
 "nbformat_minor": 2,
 "cells": [
  {
   "source": [
    "# Treino/Teste modelo"
   ],
   "cell_type": "markdown",
   "metadata": {}
  },
  {
   "cell_type": "code",
   "execution_count": 1,
   "metadata": {},
   "outputs": [],
   "source": [
    "import pandas as pd\n",
    "import nltk\n",
    "from sklearn.feature_extraction.text import CountVectorizer, TfidfVectorizer\n",
    "import numpy as np\n",
    "import regex as re\n",
    "import string"
   ]
  },
  {
   "source": [
    "## 1. Importando dados da preparação e stopwords"
   ],
   "cell_type": "markdown",
   "metadata": {}
  },
  {
   "cell_type": "code",
   "execution_count": 2,
   "metadata": {},
   "outputs": [],
   "source": [
    "PARQUET_MPO_PREPARADOS = '../../Data/Processed/mpo_preparados.parquet'\n",
    "\n",
    "df_mpo = pd.read_parquet(PARQUET_MPO_PREPARADOS)"
   ]
  },
  {
   "cell_type": "code",
   "execution_count": 3,
   "metadata": {},
   "outputs": [
    {
     "output_type": "stream",
     "name": "stderr",
     "text": [
      "[nltk_data] Downloading package stopwords to\n[nltk_data]     /home/marcelo/nltk_data...\n[nltk_data]   Package stopwords is already up-to-date!\n"
     ]
    }
   ],
   "source": [
    "nltk.download('stopwords')\n",
    "stopwords = nltk.corpus.stopwords.words('portuguese')"
   ]
  },
  {
   "cell_type": "code",
   "execution_count": 4,
   "metadata": {},
   "outputs": [
    {
     "output_type": "execute_result",
     "data": {
      "text/plain": [
       "       ID  Level MpoIdentificador MpoAreaEletrica MpoCentro  \\\n",
       "0  161279      1        IO-PM.6MD             6MD      CNOS   \n",
       "1  161280      2        IO-PM.6MD             6MD      CNOS   \n",
       "2  161281      3        IO-PM.6MD             6MD      CNOS   \n",
       "3  161282    3.1        IO-PM.6MD             6MD      CNOS   \n",
       "4  161283  3.1.1        IO-PM.6MD             6MD      CNOS   \n",
       "\n",
       "  MpoLigadoDesligado                                              Texto  \\\n",
       "0       Não definido  Estabelecer  os  procedimentos a serem seguido...   \n",
       "1       Não definido  2.1.              Os procedimentos contidos ne...   \n",
       "2       Não definido     1.   OBJETIVO  2. ............................   \n",
       "3       Não definido     1.   OBJETIVO  2. ............................   \n",
       "4           Desligar  3.1.1.1.             Desenergização da LT 230 ...   \n",
       "\n",
       "                                              Título  \n",
       "0                                           OBJETIVO  \n",
       "1                               CONSIDERAÇÕES GERAIS  \n",
       "2  PREPARAÇÃO PARA MANOBRAS EM LINHAS DE TRANSMISSÃO  \n",
       "3  LT 230 kV Coletora Porto Velho / Porto Velho C...  \n",
       "4  Desenergização da LT 230 kV Coletora Porto Vel...  "
      ],
      "text/html": "<div>\n<style scoped>\n    .dataframe tbody tr th:only-of-type {\n        vertical-align: middle;\n    }\n\n    .dataframe tbody tr th {\n        vertical-align: top;\n    }\n\n    .dataframe thead th {\n        text-align: right;\n    }\n</style>\n<table border=\"1\" class=\"dataframe\">\n  <thead>\n    <tr style=\"text-align: right;\">\n      <th></th>\n      <th>ID</th>\n      <th>Level</th>\n      <th>MpoIdentificador</th>\n      <th>MpoAreaEletrica</th>\n      <th>MpoCentro</th>\n      <th>MpoLigadoDesligado</th>\n      <th>Texto</th>\n      <th>Título</th>\n    </tr>\n  </thead>\n  <tbody>\n    <tr>\n      <th>0</th>\n      <td>161279</td>\n      <td>1</td>\n      <td>IO-PM.6MD</td>\n      <td>6MD</td>\n      <td>CNOS</td>\n      <td>Não definido</td>\n      <td>Estabelecer  os  procedimentos a serem seguido...</td>\n      <td>OBJETIVO</td>\n    </tr>\n    <tr>\n      <th>1</th>\n      <td>161280</td>\n      <td>2</td>\n      <td>IO-PM.6MD</td>\n      <td>6MD</td>\n      <td>CNOS</td>\n      <td>Não definido</td>\n      <td>2.1.              Os procedimentos contidos ne...</td>\n      <td>CONSIDERAÇÕES GERAIS</td>\n    </tr>\n    <tr>\n      <th>2</th>\n      <td>161281</td>\n      <td>3</td>\n      <td>IO-PM.6MD</td>\n      <td>6MD</td>\n      <td>CNOS</td>\n      <td>Não definido</td>\n      <td>1.   OBJETIVO  2. ............................</td>\n      <td>PREPARAÇÃO PARA MANOBRAS EM LINHAS DE TRANSMISSÃO</td>\n    </tr>\n    <tr>\n      <th>3</th>\n      <td>161282</td>\n      <td>3.1</td>\n      <td>IO-PM.6MD</td>\n      <td>6MD</td>\n      <td>CNOS</td>\n      <td>Não definido</td>\n      <td>1.   OBJETIVO  2. ............................</td>\n      <td>LT 230 kV Coletora Porto Velho / Porto Velho C...</td>\n    </tr>\n    <tr>\n      <th>4</th>\n      <td>161283</td>\n      <td>3.1.1</td>\n      <td>IO-PM.6MD</td>\n      <td>6MD</td>\n      <td>CNOS</td>\n      <td>Desligar</td>\n      <td>3.1.1.1.             Desenergização da LT 230 ...</td>\n      <td>Desenergização da LT 230 kV Coletora Porto Vel...</td>\n    </tr>\n  </tbody>\n</table>\n</div>"
     },
     "metadata": {},
     "execution_count": 4
    }
   ],
   "source": [
    "df_mpo.head(5)"
   ]
  },
  {
   "source": [
    "## 2. Vetorizando com tf-idf"
   ],
   "cell_type": "markdown",
   "metadata": {}
  },
  {
   "cell_type": "code",
   "execution_count": 5,
   "metadata": {},
   "outputs": [],
   "source": [
    "#vectorizer_tfidf = TfidfVectorizer(stop_words=stopwords) # , ngram_range = (1, 2)\n",
    "#X = vectorizer_tfidf.fit_transform(df_mpo['Texto_Limpo'])\n",
    "vectorizer_tfidf = TfidfVectorizer(stop_words=stopwords, min_df = 0.001, max_df = 0.99) # , ngram_range = (1, 2)\n",
    "X = vectorizer_tfidf.fit_transform(df_mpo[(df_mpo['MpoLigadoDesligado']=='Desligar') | (df_mpo['MpoLigadoDesligado']=='Ligar')]['Texto'])\n",
    "vocab = np.array(vectorizer_tfidf.get_feature_names())"
   ]
  },
  {
   "cell_type": "code",
   "execution_count": 6,
   "metadata": {},
   "outputs": [
    {
     "output_type": "execute_result",
     "data": {
      "text/plain": [
       "<3491x2564 sparse matrix of type '<class 'numpy.float64'>'\n",
       "\twith 151516 stored elements in Compressed Sparse Row format>"
      ]
     },
     "metadata": {},
     "execution_count": 6
    }
   ],
   "source": [
    "#1st run - <5456x8001 sparse matrix of type '<class 'numpy.float64'>'\n",
    "#\twith 306816 stored elements in Compressed Sparse Row format>\n",
    "\n",
    "#2nd run - 0.05 - 0.95 - <5456x208 sparse matrix of type '<class 'numpy.float64'>'\n",
    "#\twith 170520 stored elements in Compressed Sparse Row format>\n",
    "\n",
    "\n",
    "#3rd run - 0.01 - 0.99 - <5456x921 sparse matrix of type '<class 'numpy.float64'>'\n",
    "#\twith 263489 stored elements in Compressed Sparse Row format>\n",
    "\n",
    "X"
   ]
  },
  {
   "cell_type": "code",
   "execution_count": 7,
   "metadata": {},
   "outputs": [
    {
     "output_type": "execute_result",
     "data": {
      "text/plain": [
       "array(['proceder', 'procedimento', 'procedimentos', 'procurar',\n",
       "       'programa', 'programadas', 'programado', 'programados', 'proibida',\n",
       "       'proibitivo', 'promissão', 'proprietária', 'proprietário',\n",
       "       'proteção', 'proveniente', 'providenciar', 'providencie',\n",
       "       'providências', 'provoca', 'provocar', 'provoque', 'prs', 'pré',\n",
       "       'prévio', 'próxima', 'próximo', 'pss', 'pte', 'pólo', 'q1'],\n",
       "      dtype='<U19')"
      ]
     },
     "metadata": {},
     "execution_count": 7
    }
   ],
   "source": [
    "vocab[2000:2030]"
   ]
  },
  {
   "source": [
    "## 4. Modelagem de tópicos com NMF"
   ],
   "cell_type": "markdown",
   "metadata": {}
  },
  {
   "cell_type": "code",
   "execution_count": 8,
   "metadata": {},
   "outputs": [],
   "source": [
    "def show_topics(a):\n",
    "    top_words = lambda t: [vocab[i] for i in np.argsort(t)[:-num_top_words-1:-1]]\n",
    "    topic_words = ([top_words(t) for t in a])\n",
    "    return [' '.join(t) for t in topic_words]"
   ]
  },
  {
   "cell_type": "code",
   "execution_count": 9,
   "metadata": {},
   "outputs": [
    {
     "output_type": "stream",
     "name": "stdout",
     "text": [
      "['lt energização desta sentido tensão partir', 'operador fechamento autonomia oi situações demais', '69 transformador kv 13 230 mva', 'específica lado cemig energização instalação io', '500 kv 550 300 terminal reator', 'iguaçu nova angra taubaté grajaú faixas', 'c2 c1 lt terminal escolhido c3', 'biguaçu palhoça eletrosul florianópolis gaspar ocorrer', '525 itá disjuntores eletrosul kv areia', 'autotransformador lado 13 230 kv ltc', '138 kv lado transformador mva defasador', 'curitiba leste cidade uberaba get copel', 'iniciando instruções instalações envolvidas energização inicia', 'ute viana goiânia suzano araucária coe', 'dutra presidente imperatriz açailândia eletronorte oeorm', 'campo comprido get mourão copel umbará', 'cron ne chesf banabuiú milagres picos', 'ii c1 luís miranda sobral kv', 'nova mutum ponte brasnorte sorriso avanhandava', 'tf 13 transformador lado 230 disjuntor', '345 kv 362 itutinga pimenta viana', 'neves paulino elevadora sete lagoas steag', '01 02 03 nco eletronorte luís', 'salto osório santiago chopim foz ivaiporã', 'coqueiros barra peixe itaguaçu caçu celeo', 'norte medianeira verde foz reale miguel', 'atf 13 copel transformador get 230', 'coxipó rondonópolis cuiabá nco nobres 230', 'cascavel oeste copel get zona guaíra', 'ferro pau ne recife iniciando goianinha', 'garanhuns ii caetés visus ne arcoverde', 'luiz estreito carlos barreto gonzaga jaguara', 'ne cd ct carregamento 02 limite', 'novo curral piauí milagres povo chapada', '440 bauru cabreúva solteira ilha kv', 'correspondente tr banco transformador disjuntor 88', 'afonso paulo crop nome ne floresta', 'bom jesus lapa ne jardim ibicoara', 'henry borden baixada santista piratininga carbocloro', 'grande campina ii várzea coos ne', 'itaipu 60 hz 765 foz ivaiporã', 'potência fluxo mw poções ativa reativa', 'joão piauí sobradinho câmara picos ne', 'santo antônio ângelo lopes garabi solvay', 'barreiras ne tabocas brejo buritirama velho', 'cachoeira paulista dourada ctrs taubaté resende', 'jorge lacerda siderópolis eletrosul teixeira palhoça', 'compensador estático síncrono zero mvar 01k1', 'mogi cruzes itapeti cteep nordeste ctrs', 'xanxerê eletrosul fundo branco pato chapecó', 'ji paraná ariquemes pimenta bueno c3', 'xingu bipolo conversor polo tucuruí estreito', 'iii arapiraca penedo socorro senhora largo', 'alto barro niquelândia itapaci mato lindas', 'campos novos eletrosul machadinho batista abdon', 'igaporã caetité ne ii 123 crop', 'nco celg eletronorte ctrg cotesa gt', 'assis taesa andirá leste 440 capivara', 't1 t2 mva ne ransformador 230', 'cemig preferencialmente desligar iniciando itabira taquaril', 'sul brasília mateus canoinhas samambaia geral', 'dourados anastácio imbirussú 230 corumbá sidrolândia', 'araraquara 440 araras piracicaba ara2 mirassol', 'ne coos chesf recife escolhido messias', 'miracema colinas taesa lajeado gurupi cnos', 'teresina sobral piripiri ibiapina ne esperança', 'desligar desenergizando interrompendo banco tr transformadores', 'grossa ponta 34 klabin celulose areia', 'joinville blumenau eletrosul 230 disjuntor norte', 'iniciando ne permitida usinas desenergização conectadas', 'restabelecimento instalação io deste alguma efetuada', 'impostas limitações definido adequações oc indisponibilidade', 'preto tijuco ribeirão itapeti 765 ouro', 'embu guaçu solvay jandira 440 cba2', 'ouro gentio cymi ne cot ourolândia', 'ibiúna guarulhos ctrs furnas interlagos itatiba', 'ce descritos específico item adotar desta', 'vermelha água boa hora marimbondo votuporanga', 'souza edgard gov parigot pedro viriato', 'açu mossoró ii l2 acd 230kv', 'lechuga gt amazonas am cristiano balbina', 'ne energização sentido permitida deste oi', 'capacitores bancos mvar kv barra tensão', 'serra mesa niquelândia éguas brava cana', 'juazeiro bahia sobradinho bonfim senhor jaguarari', 'londrina eletrosul copel maringá apucarana figueira', 'banco tr ligar correspondentes lado automáticos', 'santa rita bárbara cruz quitéria oeste', 'mesquita governador valadares mascarenhas aimorés baguari', 'josé industrial pinhais distrito copel uberaba', 'autotransformadores banco furnas lado ctrm at', 'grid state cos luziânia paracatu paranatinga', 'uhe itumbiara emborcação geração corumbá ponte', 'bateias copel get btf itatiba jaguariaíva', 'poços caldas furnas ctrm campinas atibaia', 'adrianópolis ctrr furnas jacarepaguá merchant macaé', 'anhanguera celg bandeirantes centro goiânia carajás', 'camaçari cros ne iv olindina chesf', 'porto velho coletora jirau abunã margem', 'rio verde branco lucas terminal éguas']\n",
      "/home/marcelo/.virtualenvs/mod3_nlp_python-Hqpzdnr6/lib/python3.8/site-packages/sklearn/decomposition/_nmf.py:1090: ConvergenceWarning: Maximum number of iterations 200 reached. Increase it to improve convergence.\n",
      "  warnings.warn(\"Maximum number of iterations %d reached. Increase it to\"\n"
     ]
    }
   ],
   "source": [
    "from sklearn.decomposition import NMF\n",
    "\n",
    "#d = X.shape[0]\n",
    "num_top_words=6\n",
    "\n",
    "model_nmf = NMF(n_components=100, init='random', random_state=0)\n",
    "\n",
    "W1 = model_nmf.fit_transform(X)\n",
    "H1 = model_nmf.components_\n",
    "\n",
    "\n",
    "print(show_topics(H1))"
   ]
  },
  {
   "cell_type": "code",
   "execution_count": 10,
   "metadata": {},
   "outputs": [
    {
     "output_type": "stream",
     "name": "stdout",
     "text": [
      "Initialization complete\n",
      "Iteration 0, inertia 5378.009710694339\n",
      "Iteration 1, inertia 3026.7540767715686\n",
      "Iteration 2, inertia 2979.0662777153625\n",
      "Iteration 3, inertia 2962.6998385876464\n",
      "Iteration 4, inertia 2954.492054995869\n",
      "Iteration 5, inertia 2951.34731739851\n",
      "Iteration 6, inertia 2949.174059020434\n",
      "Iteration 7, inertia 2948.3244375576187\n",
      "Iteration 8, inertia 2948.0560090715267\n",
      "Iteration 9, inertia 2947.9529365030935\n",
      "Iteration 10, inertia 2947.9406586179657\n",
      "Iteration 11, inertia 2947.9364650717735\n",
      "Iteration 12, inertia 2947.9292335584564\n",
      "Converged at iteration 12: strict convergence.\n",
      "Initialization complete\n",
      "Iteration 0, inertia 5469.24542343453\n",
      "Iteration 1, inertia 3029.5054389234947\n",
      "Iteration 2, inertia 2975.656437579\n",
      "Iteration 3, inertia 2957.7103023792656\n",
      "Iteration 4, inertia 2949.6493446888408\n",
      "Iteration 5, inertia 2941.901293421595\n",
      "Iteration 6, inertia 2940.422634418781\n",
      "Iteration 7, inertia 2939.568347496692\n",
      "Iteration 8, inertia 2938.5289138534076\n",
      "Iteration 9, inertia 2936.8283981278214\n",
      "Iteration 10, inertia 2935.032447095545\n",
      "Iteration 11, inertia 2933.0575241689653\n",
      "Iteration 12, inertia 2931.1426109511353\n",
      "Iteration 13, inertia 2930.0892058126346\n",
      "Iteration 14, inertia 2929.6539797648848\n",
      "Iteration 15, inertia 2929.432560493348\n",
      "Iteration 16, inertia 2929.3370374341216\n",
      "Iteration 17, inertia 2929.3166865516605\n",
      "Iteration 18, inertia 2929.3083617906373\n",
      "Converged at iteration 18: strict convergence.\n",
      "Initialization complete\n",
      "Iteration 0, inertia 5605.461550547934\n",
      "Iteration 1, inertia 3038.639035563499\n",
      "Iteration 2, inertia 2998.698464694935\n",
      "Iteration 3, inertia 2968.249006380635\n",
      "Iteration 4, inertia 2954.1676210404084\n",
      "Iteration 5, inertia 2947.4845098882947\n",
      "Iteration 6, inertia 2944.3653967389837\n",
      "Iteration 7, inertia 2941.693321364711\n",
      "Iteration 8, inertia 2940.1116178333596\n",
      "Iteration 9, inertia 2939.9619989726216\n",
      "Iteration 10, inertia 2939.790320411961\n",
      "Iteration 11, inertia 2939.5032191386917\n",
      "Iteration 12, inertia 2939.3511841535974\n",
      "Iteration 13, inertia 2939.2714383896628\n",
      "Iteration 14, inertia 2939.260461153186\n",
      "Converged at iteration 14: strict convergence.\n",
      "Initialization complete\n",
      "Iteration 0, inertia 5542.927858253435\n",
      "Iteration 1, inertia 3045.8846482927383\n",
      "Iteration 2, inertia 3005.950895261314\n",
      "Iteration 3, inertia 2992.5686182173745\n",
      "Iteration 4, inertia 2982.2739327037466\n",
      "Iteration 5, inertia 2974.467148896214\n",
      "Iteration 6, inertia 2970.6096616477926\n",
      "Iteration 7, inertia 2970.2574097896127\n",
      "Iteration 8, inertia 2970.200554344694\n",
      "Iteration 9, inertia 2970.1806664472456\n",
      "Iteration 10, inertia 2970.175462482199\n",
      "Converged at iteration 10: strict convergence.\n",
      "Initialization complete\n",
      "Iteration 0, inertia 5489.488202998583\n",
      "Iteration 1, inertia 3036.197881693006\n",
      "Iteration 2, inertia 2983.061593635105\n",
      "Iteration 3, inertia 2960.8534458137265\n",
      "Iteration 4, inertia 2946.8565732091383\n",
      "Iteration 5, inertia 2942.2526732125034\n",
      "Iteration 6, inertia 2938.466576133186\n",
      "Iteration 7, inertia 2932.6742142075004\n",
      "Iteration 8, inertia 2930.251282179228\n",
      "Iteration 9, inertia 2929.576469178283\n",
      "Iteration 10, inertia 2929.189549098857\n",
      "Iteration 11, inertia 2928.8287579753687\n",
      "Iteration 12, inertia 2928.530581898279\n",
      "Iteration 13, inertia 2928.383254001244\n",
      "Iteration 14, inertia 2928.3211356547044\n",
      "Iteration 15, inertia 2928.2939085869393\n",
      "Iteration 16, inertia 2928.2841374480204\n",
      "Iteration 17, inertia 2928.2707296424214\n",
      "Iteration 18, inertia 2928.2605278840374\n",
      "Iteration 19, inertia 2928.250083895278\n",
      "Iteration 20, inertia 2928.240964128331\n",
      "Converged at iteration 20: strict convergence.\n",
      "Initialization complete\n",
      "Iteration 0, inertia 5534.164729070548\n",
      "Iteration 1, inertia 3047.247967391658\n",
      "Iteration 2, inertia 3011.798673291824\n",
      "Iteration 3, inertia 2972.398593867778\n",
      "Iteration 4, inertia 2949.1446403578084\n",
      "Iteration 5, inertia 2937.630283509131\n",
      "Iteration 6, inertia 2933.1999511707077\n",
      "Iteration 7, inertia 2931.63772096591\n",
      "Iteration 8, inertia 2931.2808370719813\n",
      "Iteration 9, inertia 2930.9921419397815\n",
      "Iteration 10, inertia 2930.690345766114\n",
      "Iteration 11, inertia 2930.360956033509\n",
      "Iteration 12, inertia 2930.18475083359\n",
      "Iteration 13, inertia 2930.066233360296\n",
      "Iteration 14, inertia 2929.925641223978\n",
      "Iteration 15, inertia 2929.862799194467\n",
      "Iteration 16, inertia 2929.8446553797303\n",
      "Iteration 17, inertia 2929.8117931814554\n",
      "Iteration 18, inertia 2929.782708843089\n",
      "Iteration 19, inertia 2929.763493335731\n",
      "Iteration 20, inertia 2929.7578436593412\n",
      "Converged at iteration 20: strict convergence.\n",
      "Initialization complete\n",
      "Iteration 0, inertia 5521.956828850187\n",
      "Iteration 1, inertia 3047.4933637324657\n",
      "Iteration 2, inertia 2988.3610423035666\n",
      "Iteration 3, inertia 2968.9093201678293\n",
      "Iteration 4, inertia 2952.0510293233256\n",
      "Iteration 5, inertia 2944.7521591653517\n",
      "Iteration 6, inertia 2938.9706586606994\n",
      "Iteration 7, inertia 2935.582521831748\n",
      "Iteration 8, inertia 2933.7654723680544\n",
      "Iteration 9, inertia 2933.4716823743993\n",
      "Iteration 10, inertia 2933.2518673320646\n",
      "Iteration 11, inertia 2933.1376905686093\n",
      "Iteration 12, inertia 2933.106573503465\n",
      "Iteration 13, inertia 2933.0380575868003\n",
      "Iteration 14, inertia 2932.9142878752186\n",
      "Iteration 15, inertia 2932.549594051956\n",
      "Iteration 16, inertia 2932.0749097443713\n",
      "Iteration 17, inertia 2931.5364419987905\n",
      "Iteration 18, inertia 2931.223950310574\n",
      "Iteration 19, inertia 2930.924499419453\n",
      "Iteration 20, inertia 2930.5693494885854\n",
      "Iteration 21, inertia 2930.3277266247455\n",
      "Iteration 22, inertia 2930.229810118995\n",
      "Iteration 23, inertia 2930.135661494959\n",
      "Iteration 24, inertia 2930.0784459268993\n",
      "Iteration 25, inertia 2930.0734983239026\n",
      "Converged at iteration 25: strict convergence.\n",
      "Initialization complete\n",
      "Iteration 0, inertia 5581.397521820782\n",
      "Iteration 1, inertia 3076.8328611164484\n",
      "Iteration 2, inertia 3034.565057060997\n",
      "Iteration 3, inertia 3012.398173449027\n",
      "Iteration 4, inertia 2989.269418434768\n",
      "Iteration 5, inertia 2981.1002309286505\n",
      "Iteration 6, inertia 2975.2316924118345\n",
      "Iteration 7, inertia 2974.4585467502184\n",
      "Iteration 8, inertia 2974.0222491490176\n",
      "Iteration 9, inertia 2973.781949608646\n",
      "Iteration 10, inertia 2973.653914130856\n",
      "Iteration 11, inertia 2973.5569107819283\n",
      "Iteration 12, inertia 2973.499969273444\n",
      "Iteration 13, inertia 2973.429609767347\n",
      "Iteration 14, inertia 2973.390832567794\n",
      "Iteration 15, inertia 2973.3392715173927\n",
      "Iteration 16, inertia 2973.3206194257696\n",
      "Iteration 17, inertia 2973.2979952056885\n",
      "Iteration 18, inertia 2973.2797718497523\n",
      "Iteration 19, inertia 2973.2650261915855\n",
      "Converged at iteration 19: strict convergence.\n",
      "Initialization complete\n",
      "Iteration 0, inertia 5504.1859241867605\n",
      "Iteration 1, inertia 3028.022170469236\n",
      "Iteration 2, inertia 2966.771965799273\n",
      "Iteration 3, inertia 2943.1433466251524\n",
      "Iteration 4, inertia 2938.6387046158557\n",
      "Iteration 5, inertia 2936.7747396076393\n",
      "Iteration 6, inertia 2934.8836761164534\n",
      "Iteration 7, inertia 2933.2234704785146\n",
      "Iteration 8, inertia 2932.6561979977405\n",
      "Iteration 9, inertia 2932.4068192528243\n",
      "Iteration 10, inertia 2932.2279849835554\n",
      "Iteration 11, inertia 2932.158982762515\n",
      "Iteration 12, inertia 2932.108501700183\n",
      "Iteration 13, inertia 2932.0927271820433\n",
      "Iteration 14, inertia 2932.0854013555404\n",
      "Converged at iteration 14: strict convergence.\n",
      "Initialization complete\n",
      "Iteration 0, inertia 5519.613189539439\n",
      "Iteration 1, inertia 3029.478090945411\n",
      "Iteration 2, inertia 2972.1436039600862\n",
      "Iteration 3, inertia 2951.5788317833194\n",
      "Iteration 4, inertia 2947.7141597671966\n",
      "Iteration 5, inertia 2946.0632934556065\n",
      "Iteration 6, inertia 2944.7778056930692\n",
      "Iteration 7, inertia 2943.771253158114\n",
      "Iteration 8, inertia 2942.9722928321535\n",
      "Iteration 9, inertia 2942.1450931125078\n",
      "Iteration 10, inertia 2940.8460234520053\n",
      "Iteration 11, inertia 2939.7794330939546\n",
      "Iteration 12, inertia 2939.320764963929\n",
      "Iteration 13, inertia 2939.082342061179\n",
      "Iteration 14, inertia 2938.924402252196\n",
      "Iteration 15, inertia 2938.6796094020588\n",
      "Iteration 16, inertia 2938.3970854146396\n",
      "Iteration 17, inertia 2937.7150422301193\n",
      "Iteration 18, inertia 2937.060775187879\n",
      "Iteration 19, inertia 2936.2154195193443\n",
      "Iteration 20, inertia 2934.2145792074284\n",
      "Iteration 21, inertia 2933.6540478312163\n",
      "Iteration 22, inertia 2933.547692118656\n",
      "Iteration 23, inertia 2933.539729711329\n",
      "Converged at iteration 23: strict convergence.\n",
      "['cemig lado 345 kv 138 autotransformador', 'eletrosul kv 230 tf disjuntor 525', 'banco tr transformador correspondente at lado', 'ne ii iniciando lt c1 kv', 'nco kv 230 autotransformador lado eletronorte', 'kv lt 500 345 terminal c2', 'ne mva 69 t1 t2 chesf', 'ne energização kv transformador 230 sentido']\n"
     ]
    }
   ],
   "source": [
    "from sklearn.cluster import KMeans\n",
    "\n",
    "km = KMeans(n_clusters=8, init='k-means++', max_iter=100, n_init=10, verbose=True)\n",
    "km.fit_transform(X)\n",
    "\n",
    "print(show_topics(km.cluster_centers_))"
   ]
  },
  {
   "cell_type": "code",
   "execution_count": 11,
   "metadata": {},
   "outputs": [
    {
     "output_type": "execute_result",
     "data": {
      "text/plain": [
       "Counter({4: 419, 5: 1114, 1: 529, 0: 191, 3: 740, 6: 209, 7: 140, 2: 149})"
      ]
     },
     "metadata": {},
     "execution_count": 11
    }
   ],
   "source": [
    "from collections import Counter\n",
    "c = Counter(km.labels_)\n",
    "c"
   ]
  },
  {
   "cell_type": "code",
   "execution_count": 17,
   "metadata": {},
   "outputs": [
    {
     "output_type": "stream",
     "name": "stdout",
     "text": [
      "Counter({5: 1114, 3: 740, 1: 529, 4: 419, 6: 209, 0: 191, 2: 149, 7: 140})\n"
     ]
    }
   ],
   "source": [
    "y = km.labels_\n",
    "print(Counter(y))"
   ]
  },
  {
   "cell_type": "code",
   "execution_count": 15,
   "metadata": {},
   "outputs": [
    {
     "output_type": "execute_result",
     "data": {
      "text/plain": [
       "array([[0.00000000e+00, 1.00737823e-03, 0.00000000e+00, ...,\n",
       "        9.89290095e-04, 0.00000000e+00, 1.23995897e-03],\n",
       "       [5.89885591e-05, 1.48207960e-03, 0.00000000e+00, ...,\n",
       "        0.00000000e+00, 0.00000000e+00, 0.00000000e+00],\n",
       "       [0.00000000e+00, 0.00000000e+00, 0.00000000e+00, ...,\n",
       "        0.00000000e+00, 0.00000000e+00, 0.00000000e+00],\n",
       "       ...,\n",
       "       [5.31894463e-04, 3.23227205e-03, 0.00000000e+00, ...,\n",
       "        6.75784240e-04, 6.71297031e-04, 6.83738202e-05],\n",
       "       [0.00000000e+00, 2.21048729e-03, 2.88799933e-03, ...,\n",
       "        0.00000000e+00, 0.00000000e+00, 0.00000000e+00],\n",
       "       [0.00000000e+00, 0.00000000e+00, 0.00000000e+00, ...,\n",
       "        0.00000000e+00, 0.00000000e+00, 0.00000000e+00]])"
      ]
     },
     "metadata": {},
     "execution_count": 15
    }
   ],
   "source": [
    "cc = km.cluster_centers_\n",
    "cc"
   ]
  },
  {
   "cell_type": "code",
   "execution_count": null,
   "metadata": {},
   "outputs": [],
   "source": []
  }
 ]
}