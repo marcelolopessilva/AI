{
 "metadata": {
  "language_info": {
   "codemirror_mode": {
    "name": "ipython",
    "version": 3
   },
   "file_extension": ".py",
   "mimetype": "text/x-python",
   "name": "python",
   "nbconvert_exporter": "python",
   "pygments_lexer": "ipython3",
   "version": "3.8.5-final"
  },
  "orig_nbformat": 2,
  "kernelspec": {
   "name": "python38564bitmod3nlppythonhqpzdnr6ab3f1781bf094d7f825e8de4eadf86c2",
   "display_name": "Python 3.8.5 64-bit ('mod3_nlp_python-Hqpzdnr6')",
   "language": "python"
  }
 },
 "nbformat": 4,
 "nbformat_minor": 2,
 "cells": [
  {
   "source": [
    "# Preparação de dados para processamento NLP"
   ],
   "cell_type": "markdown",
   "metadata": {}
  },
  {
   "cell_type": "code",
   "execution_count": 108,
   "metadata": {},
   "outputs": [],
   "source": [
    "import pandas as pd\n",
    "from bleach.sanitizer import Cleaner\n",
    "import regex as re"
   ]
  },
  {
   "source": [
    "## 1. Importando dados da análise"
   ],
   "cell_type": "markdown",
   "metadata": {}
  },
  {
   "cell_type": "code",
   "execution_count": 109,
   "metadata": {},
   "outputs": [],
   "source": [
    "PARQUET_MPO_SELECIONADOS = '../../Data/Processed/mpo_selecionados.parquet'\n",
    "\n",
    "df_mpo = pd.read_parquet(PARQUET_MPO_SELECIONADOS)"
   ]
  },
  {
   "cell_type": "code",
   "execution_count": 110,
   "metadata": {},
   "outputs": [
    {
     "output_type": "execute_result",
     "data": {
      "text/plain": [
       "          ID  Level MpoIdentificador MpoAreaEletrica MpoCentro  \\\n",
       "0     161279      1        IO-PM.6MD             6MD      CNOS   \n",
       "1     161280      2        IO-PM.6MD             6MD      CNOS   \n",
       "2     161281      3        IO-PM.6MD             6MD      CNOS   \n",
       "3     161282    3.1        IO-PM.6MD             6MD      CNOS   \n",
       "4     161283  3.1.1        IO-PM.6MD             6MD      CNOS   \n",
       "...      ...    ...              ...             ...       ...   \n",
       "5451  166760  5.5.3        IO-PM.SSE             SSE      CNOS   \n",
       "5452  166761    5.6        IO-PM.SSE             SSE      CNOS   \n",
       "5453  166762  5.6.1        IO-PM.SSE             SSE      CNOS   \n",
       "5454  166763  5.6.2        IO-PM.SSE             SSE      CNOS   \n",
       "5455  166764  5.6.3        IO-PM.SSE             SSE      CNOS   \n",
       "\n",
       "     MpoLigadoDesligado                                              Texto  \\\n",
       "0          Não definido  <div><p style=\"margin-top:0pt; margin-bottom:6...   \n",
       "1          Não definido  <div><p style=\"margin-top:6pt; margin-left:34p...   \n",
       "2          Não definido  <div><p style=\"margin-top:0pt; margin-bottom:0...   \n",
       "3          Não definido  <div><p style=\"margin-top:0pt; margin-bottom:0...   \n",
       "4              Desligar  <div><h4 style=\"margin-top:12pt; margin-left:4...   \n",
       "...                 ...                                                ...   \n",
       "5451              Ligar  <div><table style=\"margin-left:3.5pt; border-c...   \n",
       "5452       Não definido  <div><p style=\"margin-top:0pt; margin-bottom:0...   \n",
       "5453           Desligar  <div><table style=\"margin-left:3.5pt; border:2...   \n",
       "5454              Ligar  <div><table style=\"width:465.4pt; margin-left:...   \n",
       "5455              Ligar  <div><table style=\"width:484.2pt; margin-left:...   \n",
       "\n",
       "                                                 Título  \n",
       "0                                              OBJETIVO  \n",
       "1                                  CONSIDERAÇÕES GERAIS  \n",
       "2     PREPARAÇÃO PARA MANOBRAS EM LINHAS DE TRANSMISSÃO  \n",
       "3     LT 230 kV Coletora Porto Velho / Porto Velho C...  \n",
       "4     Desenergização da LT 230 kV Coletora Porto Vel...  \n",
       "...                                                 ...  \n",
       "5451  Energização do banco de autotransformadores de...  \n",
       "5452  SE IBIÚNA – BANCO DE AUTOTRANSFORMADORES DE 50...  \n",
       "5453  Desenergização de um Banco de transformador 50...  \n",
       "5454  Energização de um Banco de transformador 500/3...  \n",
       "5455  Energização de um Banco de transformador 500/3...  \n",
       "\n",
       "[5456 rows x 8 columns]"
      ],
      "text/html": "<div>\n<style scoped>\n    .dataframe tbody tr th:only-of-type {\n        vertical-align: middle;\n    }\n\n    .dataframe tbody tr th {\n        vertical-align: top;\n    }\n\n    .dataframe thead th {\n        text-align: right;\n    }\n</style>\n<table border=\"1\" class=\"dataframe\">\n  <thead>\n    <tr style=\"text-align: right;\">\n      <th></th>\n      <th>ID</th>\n      <th>Level</th>\n      <th>MpoIdentificador</th>\n      <th>MpoAreaEletrica</th>\n      <th>MpoCentro</th>\n      <th>MpoLigadoDesligado</th>\n      <th>Texto</th>\n      <th>Título</th>\n    </tr>\n  </thead>\n  <tbody>\n    <tr>\n      <th>0</th>\n      <td>161279</td>\n      <td>1</td>\n      <td>IO-PM.6MD</td>\n      <td>6MD</td>\n      <td>CNOS</td>\n      <td>Não definido</td>\n      <td>&lt;div&gt;&lt;p style=\"margin-top:0pt; margin-bottom:6...</td>\n      <td>OBJETIVO</td>\n    </tr>\n    <tr>\n      <th>1</th>\n      <td>161280</td>\n      <td>2</td>\n      <td>IO-PM.6MD</td>\n      <td>6MD</td>\n      <td>CNOS</td>\n      <td>Não definido</td>\n      <td>&lt;div&gt;&lt;p style=\"margin-top:6pt; margin-left:34p...</td>\n      <td>CONSIDERAÇÕES GERAIS</td>\n    </tr>\n    <tr>\n      <th>2</th>\n      <td>161281</td>\n      <td>3</td>\n      <td>IO-PM.6MD</td>\n      <td>6MD</td>\n      <td>CNOS</td>\n      <td>Não definido</td>\n      <td>&lt;div&gt;&lt;p style=\"margin-top:0pt; margin-bottom:0...</td>\n      <td>PREPARAÇÃO PARA MANOBRAS EM LINHAS DE TRANSMISSÃO</td>\n    </tr>\n    <tr>\n      <th>3</th>\n      <td>161282</td>\n      <td>3.1</td>\n      <td>IO-PM.6MD</td>\n      <td>6MD</td>\n      <td>CNOS</td>\n      <td>Não definido</td>\n      <td>&lt;div&gt;&lt;p style=\"margin-top:0pt; margin-bottom:0...</td>\n      <td>LT 230 kV Coletora Porto Velho / Porto Velho C...</td>\n    </tr>\n    <tr>\n      <th>4</th>\n      <td>161283</td>\n      <td>3.1.1</td>\n      <td>IO-PM.6MD</td>\n      <td>6MD</td>\n      <td>CNOS</td>\n      <td>Desligar</td>\n      <td>&lt;div&gt;&lt;h4 style=\"margin-top:12pt; margin-left:4...</td>\n      <td>Desenergização da LT 230 kV Coletora Porto Vel...</td>\n    </tr>\n    <tr>\n      <th>...</th>\n      <td>...</td>\n      <td>...</td>\n      <td>...</td>\n      <td>...</td>\n      <td>...</td>\n      <td>...</td>\n      <td>...</td>\n      <td>...</td>\n    </tr>\n    <tr>\n      <th>5451</th>\n      <td>166760</td>\n      <td>5.5.3</td>\n      <td>IO-PM.SSE</td>\n      <td>SSE</td>\n      <td>CNOS</td>\n      <td>Ligar</td>\n      <td>&lt;div&gt;&lt;table style=\"margin-left:3.5pt; border-c...</td>\n      <td>Energização do banco de autotransformadores de...</td>\n    </tr>\n    <tr>\n      <th>5452</th>\n      <td>166761</td>\n      <td>5.6</td>\n      <td>IO-PM.SSE</td>\n      <td>SSE</td>\n      <td>CNOS</td>\n      <td>Não definido</td>\n      <td>&lt;div&gt;&lt;p style=\"margin-top:0pt; margin-bottom:0...</td>\n      <td>SE IBIÚNA – BANCO DE AUTOTRANSFORMADORES DE 50...</td>\n    </tr>\n    <tr>\n      <th>5453</th>\n      <td>166762</td>\n      <td>5.6.1</td>\n      <td>IO-PM.SSE</td>\n      <td>SSE</td>\n      <td>CNOS</td>\n      <td>Desligar</td>\n      <td>&lt;div&gt;&lt;table style=\"margin-left:3.5pt; border:2...</td>\n      <td>Desenergização de um Banco de transformador 50...</td>\n    </tr>\n    <tr>\n      <th>5454</th>\n      <td>166763</td>\n      <td>5.6.2</td>\n      <td>IO-PM.SSE</td>\n      <td>SSE</td>\n      <td>CNOS</td>\n      <td>Ligar</td>\n      <td>&lt;div&gt;&lt;table style=\"width:465.4pt; margin-left:...</td>\n      <td>Energização de um Banco de transformador 500/3...</td>\n    </tr>\n    <tr>\n      <th>5455</th>\n      <td>166764</td>\n      <td>5.6.3</td>\n      <td>IO-PM.SSE</td>\n      <td>SSE</td>\n      <td>CNOS</td>\n      <td>Ligar</td>\n      <td>&lt;div&gt;&lt;table style=\"width:484.2pt; margin-left:...</td>\n      <td>Energização de um Banco de transformador 500/3...</td>\n    </tr>\n  </tbody>\n</table>\n<p>5456 rows × 8 columns</p>\n</div>"
     },
     "metadata": {},
     "execution_count": 110
    }
   ],
   "source": [
    "df_mpo"
   ]
  },
  {
   "source": [
    "## 2. Limpando elementos HTML da coluna Texto"
   ],
   "cell_type": "markdown",
   "metadata": {}
  },
  {
   "cell_type": "code",
   "execution_count": 124,
   "metadata": {},
   "outputs": [],
   "source": [
    "def limpa_ruido_texto(texto):\n",
    "    texto = re.sub('(&#xa0;)', ' ', texto)\n",
    "    texto = re.sub('(\\\\xa0)', ' ', texto)\n",
    "    texto = re.sub('color:#ffffff\">', ' ', texto)\n",
    "    texto = re.sub('</span>', ' </span>', texto)\n",
    "    texto = re.sub('\\uf0b7', ' ', texto)\n",
    "    texto = re.sub('\\uf044', ' ', texto)\n",
    "    return texto"
   ]
  },
  {
   "cell_type": "code",
   "execution_count": 125,
   "metadata": {},
   "outputs": [],
   "source": [
    "# Retira alguns ruídos preparando texto para a limpeza de tags html\n",
    "df_mpo['Texto'] = df_mpo['Texto'].apply(lambda x: limpa_ruido_texto(x))"
   ]
  },
  {
   "cell_type": "code",
   "execution_count": 113,
   "metadata": {},
   "outputs": [],
   "source": [
    "cleaner = Cleaner(tags=[], attributes=[], styles=[], protocols=[], strip=True, strip_comments=True, filters=None)\n",
    "\n",
    "# Retira todas as tags html do texto\n",
    "df_mpo['Texto'] = df_mpo['Texto'].apply(lambda x: cleaner.clean(x))"
   ]
  },
  {
   "source": [
    "### Checando alguns exemplos"
   ],
   "cell_type": "markdown",
   "metadata": {}
  },
  {
   "cell_type": "code",
   "execution_count": 126,
   "metadata": {},
   "outputs": [
    {
     "output_type": "execute_result",
     "data": {
      "text/plain": [
       "'   1.   OBJETIVO  2. .................................................. CONSIDERAÇÕES GERAIS  3.                PREPARAÇÃO PARA MANOBRAS EM LINHAS DE TRANSMISSÃO  3.1.                LT 230 kV Coletora Porto Velho / Porto Velho C1 e/ou C2  3.1.1.                Desenergização da LT 230 kV Coletora Porto Velho / Porto Velho C1 ou C2  3.1.2.                Energização da LT 230 kV Coletora Porto Velho / Porto Velho C1 ou C2  3.1.3.                Energização dos dois circuitos da LT 230 kV Coletora Porto Velho / Porto Velho (C1 e C2)  3.2.                LT 500 kV Santo Antônio Margem Direita / Coletora Porto Velho C1 ou LT 500 kV Santo Antônio Leito do Rio / Coletora Porto Velho C2 (SISTÊMICO)  3.2.1.                Desenergização da LT 500 kV Santo Antônio Margem Direita / Coletora Porto Velho C1 ou LT 500 kV Santo Antônio Leito do Rio / Coletora Porto Velho C2  3.2.2.                Energização da LT 500 kV Santo Antônio Margem Direita / Coletora Porto Velho C1 ou da LT 500 kV Santo Antônio Leito do Rio / Coletora Porto Velho C2  3.3.                LT 500 kV Santo Antônio Leito do Rio / Santo Antônio Margem Direita (SISTÊMICO)  3.3.1.                Desenergização da LT 500 kV Santo Antônio Leito do Rio / Santo Antônio Margem Direita  3.3.2.                Energização dA LT 500 kV Santo Antônio Leito do Rio / Santo Antônio Margem Direita  3.4.                LT 500 kV Santo Antônio Margem Esquerda / Coletora Porto Velho C3 ou C4 (SISTÊMICO)  3.4.1.                Desenergização da LT 500 kV Santo Antônio Margem Esquerda / Coletora Porto Velho C3 ou C4  3.4.2.                Energização da LT 500 kV Santo Antônio Margem Esquerda / Coletora Porto Velho C3 ou C4  3.5.                LT 500 kV Jirau Margem Direita / Coletora Porto Velho C1 ou C2 ou Jirau Margem Esquerda / Coletora Porto Velho C3 (SISTÊMICO)  3.5.1.                Desenergização do PRIMEIRO CIRCUITO da LT 500 kV Jirau Margem Direita / Coletora Porto Velho C1 ou C2 ou Jirau Margem Esquerda / Coletora Porto Velho C3  3.5.2.                Energização do PRIMEIRO CIRCUITO da LT 500 kV Jirau Margem Direita / Coletora Porto Velho C1 ou C2 ou Jirau Margem Esquerda / Coletora Porto Velho C3 (Sentido normal)  3.5.3.                Energização do PRIMEIRO CIRCUITO da LT 500 kV Jirau Margem Direita / Coletora Porto Velho C1 ou C2 ou Jirau Margem Esquerda / Coletora Porto Velho C3 (sentido inverso)  3.5.4.                Energização do SEGUNDO CIRCUITO da LT 500 kV Jirau Margem Direita / Coletora Porto Velho C1 ou C2 ou Jirau Margem Esquerda / Coletora Porto Velho C3  3.5.5.                Energização do TERCEIRO CIRCUITO da LT 500 kV Jirau Margem Direita / Coletora Porto Velho C1 ou C2 ou Jirau Margem Esquerda / Coletora Porto Velho C3  3.6.                LT 500 kV Jirau Margem Direita / Jirau Margem Esquerda (SISTÊMICO)  3.6.1.                Desenergização da LT 500 kV Jirau Margem Direita / Jirau Margem Esquerda  3.6.2.                Energização da LT 500 kV Jirau Margem Direita / Jirau Margem Esquerda  4.                PREPARAÇÃO PARA MANOBRAS EM TRANSFORMADORES  4.1.                UHE Santo Antônio – Transformadores 13,8/525 kV  4.1.1.                Desenergização de transformador 13,8/525 kV da UHE Santo Antônio  4.1.2.                Energização DE transformador 13,8/525 kV da UHE Santo Antônio  4.2.                UHE Jirau – Transformadores 13,8/525 kV  4.2.1.                Desenergização de transformador 13,8/525 kV da UHE Jirau  4.2.2.                Energização de transformador 13,8/525 kV da UHE Jirau  4.3.                SE COLETORA PORTO VELHO - Transformador TF13 500/230 kV (465 MVA)  4.3.1.                Desenergização do Transformador TF13 500/230 kV (465 MVA) da SE Coletora Porto Velho  4.3.2.                Energização do Transformador TF13 525/230 kV da SE Coletora Porto Velho  5.                PREPARAÇÃO PARA MANOBRAS EM BIPOLOS  5.1.                Desenergização do Bipolo 1 (SISTÊMICO)  5.1.1.                DESENERGIZAÇÃO DO PRIMEIRO POLO DO BIPOLO 1, ESTANDO EM OPERAÇÃO BIPOLAR  5.1.2.                DESENERGIZAÇÃO DO SEGUNDO POLO DO BIPOLO 1  5.2.                Energização do Bipolo 1 (S I STÊMICO)  5.2.1.                Energização do PRIMEIRO POLO do Bipolo 1  5.2.2.                Energização do SEGUNDO POLO do Bipolo 1  5.3.                Mudança do Polo 1 ou Polo 2 de retorno metálico para retorno pela terra (SISTÊMICO)  5.4.                Mudança do Polo 1 ou Polo 2 de retorno pela terra para retorno metálico (SISTÊMICO)  5.5.                DESENERGIZAÇÃO DO BIPOLO 2 (SISTÊMICO)  5.5.1.                DESENERGIZAÇÃO DO PRIMEIRO POLO (POLO 3 OU POLO 4), ESTANDO O BIPOLO 2 NA OPERAÇÃO BIPOLAR  5.5.2.                DESENERGIZAÇÃO DO SEGUNDO POLO (POLO 3 OU POLO 4), ESTANDO O BIPOLO 2 NA OPERAÇÃO MONOPOLAR  5.6.                ENERGIZAÇÃO DO BIPOLO 2 (SISTÊMICO)  5.6.1.                ENERGIZAÇÃO DO PRIMEIRO POLO do Bipolo 2  5.6.2.                ENERGIZAÇÃO DO SEGUNDO POLO do Bipolo 2  5.7.                MUDANÇA DO POLO 3 OU POLO 4 DE RETORNO METÁLICO PARA RETORNO PELA TERRA (SISTÊMICO)  5.8.                MUDANÇA DO POLO 3 OU POLO 4 DE RETORNO PELA TERRA PARA RETORNO METÁLICO (SISTÊMICO)  6.                PREPARAÇÃO PARA MANOBRAS DO BACK-TO-BACK  6.1.                Desenergização da PRIMEIRA conversora Back-to-Back (SISTÊMICO)  6.2.                Desenergização da ÚLTIMA conversora Back-to-Back (SISTÊMICO)  6.3.                Energização da PRIMEIRA conversora Back-to-Back (SISTÊMICO)  6.4.                Energização da SEGUNDA conversora Back-to-Back (SISTÊMICO)  6.5.                Mudança da conversora Back-to-Back em modo Stand-by para Controle de Potência de Bi-bloco (SISTÊMICO)  6.6.                Mudança da conversora Back-to-Back em Modo de Controle de Potência de Bi-bloco para Stand-by (SISTÊMICO)            OBJETIVO  Estabelecer  os  procedimentos a serem seguidos pelos operadores dos Centros de Operação do ONS e pela Operação dos Agentes envolvidos  para manobras de equipamentos e linhas de transmissão da  Interligação em Corrente Contínua do Madeira , de acordo com o Submódulo 10.7 - Controle da Transmissão em Operação Normal dos Procedimentos de Rede.           CONSIDERAÇÕES GERAIS  Os procedimentos contidos nesta instrução de operação são aqueles necessários para realização de manobras de desenergização e energização somente de linhas de transmissão e equipamentos da Rede de Operação, considerando em operação as demais linhas de transmissão e equipamentos das subestações envolvidas na manobra.  As manobras que consideram equipamento(s) ou linha(s) de transmissão desligado(s) ou restrições adicionais no sistema devem estar especificadas nos itens da respectiva manobra. Constam nesta instrução de operação os procedimentos para manobras de todas as linhas de transmissão e transformadores da Rede de Operação  Interligação em Corrente Contínua do Madeira . Os demais equipamentos da Rede de Operação desta área    constam nesta instrução somente no caso de suas manobras necessitarem de procedimentos específicos de ajustes no sistema.  O restabelecimento de linhas de transmissão em sentido normal, após desligamento automático, pode ser realizado com autonomia da operação da instalação, desde que explicitado nas Instruções de Operação de Instalações.  Quando as condições de energização ou fechamento em anel a serem observadas pela operação da instalação não estiverem atendidas, a manobra é coordenada pelo ONS. O restabelecimento de transformadores, por ambos os terminais, pode ser realizada com autonomia pela operação da instalação, desde que explicitadas nas Instruções de Operação de Instalações.  O restabelecimento de linhas de transmissão ou transformadores, após abertura de apenas uns dos terminais, pode ser realizada com autonomia pela operação da instalação, desde que explicitadas nas Instruções de Operação de Instalações.  Caso a operação da instalação constate que durante o procedimento de manobra existe um fechamento de paralelo, o agente deve informar ao ONS para que este coordene as ações necessárias para o atendimento das condições de fechamento.  É prerrogativa do ONS, em função de necessidade da operação do sistema, intervir nas manobras de energização ou fechamento de anel que são realizadas com autonomia pela operação da instalação.  As manobras programadas ou de urgência para desenergização de linhas de transmissão    e o restabelecimento após desligamentos programados, após desligamentos de    urgência ou após desligamentos de emergência, são sempre coordenados pelo ONS .  Os procedimentos para manobras de linhas de transmissão e equipamentos sistêmicos só podem ser iniciados após autorização do CNOS.  É dispensada a autorização para energização de linhas de transmissão e equipamentos sistêmicos quando a operação da instalação tem autonomia para restabelecimento prevista nas Instruções de Operação de Instalação. Nos procedimentos em que o   remanejamento da geração é coordenado pelo COSR-NCO, este centro deve acionar previamente o CNOS sempre que houver necessidade de remanejamento de geração envolvendo usinas da Rede de Operação sistêmica    ou usinas da Rede de Operação sistêmica ou regional sob responsabilidade de outro Centro de Operação do ONS.  Todo redespacho de geração que envolva alteração de intercâmbio entre regiões somente pode ser realizado pelo COSR-NCO e COSR-SE, após autorização do CNOS. Qualquer sincronismo e partida de usinas térmicas deve ser previamente autorizado pelo CNOS. Quando se tratar de manobras programadas, os procedimentos contidos no Programa Diário de Operação – PDO prevalecem sobre os procedimentos contidos nesta Instrução de Operação.  Os procedimentos para realização de manobras de desenergização devem atender os limites operativos sistêmicos definidos pelo ONS e os limites operativos declarados pelos agentes nos Cadastros de Informações Operacionais de Limites de Equipamentos.  A definição do número de tentativas de energização manual de linha de transmissão ou equipamentos, bem como o intervalo entre elas é de responsabilidade do agente proprietário, conforme declarado pelos agentes nos Cadastros de Informações Operacionais de Dados de Equipamentos.  Depois de efetuadas as tentativas de energização previstas pelo agente e não havendo sucesso, é de responsabilidade do agente solicitar tentativas adicionais, inversão de sentido de energização ou declarar impedimento para manutenção. Caberá ao COSR-NCO autorizar as solicitações de tentativas de energização adicionais e/ou inversão de sentido da manobra em função das condições de operação do sistema. O relacionamento operacional para autorização para desligamento ou disponibilização de linhas de transmissão que interligam instalações subordinadas a dois Centros de Operação do ONS devem ser efetuadas entre o'"
      ]
     },
     "metadata": {},
     "execution_count": 126
    }
   ],
   "source": [
    "df_mpo['Texto'].iloc[10]"
   ]
  },
  {
   "cell_type": "code",
   "execution_count": 127,
   "metadata": {},
   "outputs": [
    {
     "output_type": "execute_result",
     "data": {
      "text/plain": [
       "'3.4.2.1.        Energização da LT 500 kV Ribeirãozinho / Cuiabá C1 (circuito 1) a)      A partir da SE Ribeirãozinho (sentido normal) Estando um dos reatores de linha da LT 500 kV Ribeirãozinho / Cuiabá C1 indisponível, essa LT não poderá ser energizada. 1 COSR-NCO COSR-NCO  ITE (COS-State Grid) Energizar a LT 500 kV Ribeirãozinho / Cuiabá C1,  pelo terminal da   SE Ribeirãozinho. - Reatores de linha da LT conectados. - SE Ribeirãozinho  ≤   537 kV . - SE Cuiabá  ≤   531 kV . - CE da SE Coxipó com folga para absorção de  70 Mvar. Observação: Preferencialmente , manter as tensões nos barramentos de 230 kV das SEs Rio Verde, Barra do Peixe e Ribeirãozinho  em valor inferior a 235 kV . Fechar o terminal da LT 500 kV Ribeirãozinho / Cuiabá C1,  na SE Cuiabá .   V  ≤  100 kV   \\uf071   ≤  30 0   b)     A partir da SE Cuiabá (sentido inverso) Estando um dos reatores de linha da LT 500 kV Ribeirãozinho / Cuiabá C1  indisponível , essa LT não poderá ser energizada. 1 COSR-NCO COSR-NCO  ITE (COS-State Grid) Energizar  a LT 500 kV Ribeirãozinho / Cuiabá C1,  pelo terminal da SE Cuiabá . - Reatores de linha da LT conectados. - SE Ribeirãozinho  ≤   528 kV . - SE Cuiabá  ≤   525 kV . - CE da SE Coxipó com folga para absorção de  70 Mvar . Observação: Preferencialmente , manter as tensões nos barramentos de 230 kV das SEs Rio Verde, Barra do Peixe e Ribeirãozinho  em valor inferior a 235 kV . Fechar o terminal da LT 500 kV Ribeirãozinho / Cuiabá C1,  na SE Ribeirãozinho .   V  ≤  100 kV   \\uf071   ≤  30 0 3.4.2.2.        Energização da LT 500 kV Ribeirãozinho / Cuiabá C2 (circuito 2) a)      A partir da SE Ribeirãozinho (sentido normal) Estando um dos reatores de linha da LT 500 kV Ribeirãozinho / Cuiabá C2  indisponível , essa LT não poderá ser energizada. 1 COSR-NCO COSR-NCO  Catxerê (COS-State Grid) Configurar a SE Cuiabá de forma que o reator de barra 500 kV (RT01CB) dessa Subestação seja energizado simultaneamente com a LT 500 kV Ribeirãozinho / Cuiabá C2.   Observação: Na impossibilidade de utilização do reator de barra (RT01CB) da  Catxerê , utilizar o reator de barra (RT11CB), pertencente à  ITE . 2 COSR-NCO COSR-NCO  Catxerê (COS-State Grid) Energizar a LT 500 kV Ribeirãozinho / Cuiabá C2,  pelo terminal da SE Ribeirãozinho. - Reatores de linha da LT conectados. - 01 (um) reator de barra 500 kV da SE Cuiabá configurado para ser energizado simultaneamente com a LT. - SE Ribeirãozinho  ≤   535 kV . - SE Cuiabá  ≤   540 kV . - CE da SE Coxipó com folga para absorção de  70 Mvar . Observação: Preferencialmente , manter as tensões nos barramentos de 230 kV das SEs Rio Verde, Barra do Peixe e Ribeirãozinho  em valor inferior a 236 kV . Fechar o terminal da LT 500 kV Ribeirãozinho / Cuiabá C2,  na SE Cuiabá .   V  ≤  100 kV '"
      ]
     },
     "metadata": {},
     "execution_count": 127
    }
   ],
   "source": [
    "df_mpo[df_mpo['MpoLigadoDesligado']=='Ligar']['Texto'].iloc[200]"
   ]
  },
  {
   "cell_type": "code",
   "execution_count": 128,
   "metadata": {},
   "outputs": [
    {
     "output_type": "execute_result",
     "data": {
      "text/plain": [
       "'1 COSR-NCO COSR-NCO --- Atender previamente as restrições de operação impostas por esta indisponibilidade. Conforme  IO-OC.6MD . 2 Sendo a desenergização do  C4 ,  primeiramente  adotar o procedimento a seguir: 2.1 COSR-NCO COSR-NCO Santo Antônio Abrir ou manter aberto o terminal de 500 kV do Transformador TF13  525 /23 0 kV da SE Coletora Porto Velho . Conforme   item específico desta  IO-PM.6MD . 3 COSR-NCO COSR-NCO Santo Antônio Abri r o terminal da LT 500 kV Santo Antônio Margem Esquerda / Coletora Porto Velho C3 ou C4,  na UHE Santo Antônio . SE Coletora Porto Velho ≤  550 kV . Desenergizar a LT 500 kV Santo Antônio Margem Esquerda / Coletora Porto Velho C3 ou C4,  pelo terminal da SE Coletora Porto Velho .     '"
      ]
     },
     "metadata": {},
     "execution_count": 128
    }
   ],
   "source": [
    "df_mpo[df_mpo['MpoLigadoDesligado']=='Desligar']['Texto'].iloc[3]"
   ]
  },
  {
   "source": [
    "## 3. Gerando parquet para uso na operação dos dados"
   ],
   "cell_type": "markdown",
   "metadata": {}
  },
  {
   "cell_type": "code",
   "execution_count": 129,
   "metadata": {},
   "outputs": [],
   "source": [
    "PARQUET_MPO_PREPARADOS = '../../Data/Processed/mpo_preparados.parquet'\n",
    "\n",
    "df_mpo.to_parquet(PARQUET_MPO_PREPARADOS)"
   ]
  },
  {
   "cell_type": "code",
   "execution_count": null,
   "metadata": {},
   "outputs": [],
   "source": []
  }
 ]
}