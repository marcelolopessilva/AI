{
 "metadata": {
  "language_info": {
   "codemirror_mode": {
    "name": "ipython",
    "version": 3
   },
   "file_extension": ".py",
   "mimetype": "text/x-python",
   "name": "python",
   "nbconvert_exporter": "python",
   "pygments_lexer": "ipython3",
   "version": "3.8.5-final"
  },
  "orig_nbformat": 2,
  "kernelspec": {
   "name": "python38564bitmod3nlppythonhqpzdnr6ab3f1781bf094d7f825e8de4eadf86c2",
   "display_name": "Python 3.8.5 64-bit ('mod3_nlp_python-Hqpzdnr6')",
   "language": "python"
  }
 },
 "nbformat": 4,
 "nbformat_minor": 2,
 "cells": [
  {
   "source": [
    "# Preparação de dados para processamento NLP"
   ],
   "cell_type": "markdown",
   "metadata": {}
  },
  {
   "cell_type": "code",
   "execution_count": 22,
   "metadata": {},
   "outputs": [],
   "source": [
    "import pandas as pd\n",
    "from bleach.sanitizer import Cleaner"
   ]
  },
  {
   "source": [
    "## 1. Importando dados da análise"
   ],
   "cell_type": "markdown",
   "metadata": {}
  },
  {
   "cell_type": "code",
   "execution_count": 23,
   "metadata": {},
   "outputs": [],
   "source": [
    "PARQUET_MPO_SELECIONADOS = '../../Data/Processed/mpo_selecionados.parquet'\n",
    "\n",
    "df_mpo = pd.read_parquet(PARQUET_MPO_SELECIONADOS)"
   ]
  },
  {
   "cell_type": "code",
   "execution_count": 24,
   "metadata": {},
   "outputs": [
    {
     "output_type": "execute_result",
     "data": {
      "text/plain": [
       "          ID  Level MpoIdentificador MpoAreaEletrica MpoCentro  \\\n",
       "0     161279      1        IO-PM.6MD             6MD      CNOS   \n",
       "1     161280      2        IO-PM.6MD             6MD      CNOS   \n",
       "2     161281      3        IO-PM.6MD             6MD      CNOS   \n",
       "3     161282    3.1        IO-PM.6MD             6MD      CNOS   \n",
       "4     161283  3.1.1        IO-PM.6MD             6MD      CNOS   \n",
       "...      ...    ...              ...             ...       ...   \n",
       "5451  166760  5.5.3        IO-PM.SSE             SSE      CNOS   \n",
       "5452  166761    5.6        IO-PM.SSE             SSE      CNOS   \n",
       "5453  166762  5.6.1        IO-PM.SSE             SSE      CNOS   \n",
       "5454  166763  5.6.2        IO-PM.SSE             SSE      CNOS   \n",
       "5455  166764  5.6.3        IO-PM.SSE             SSE      CNOS   \n",
       "\n",
       "     MpoLigadoDesligado                                              Texto  \\\n",
       "0          Não definido  <div><p style=\"margin-top:0pt; margin-bottom:6...   \n",
       "1          Não definido  <div><p style=\"margin-top:6pt; margin-left:34p...   \n",
       "2          Não definido  <div><p style=\"margin-top:0pt; margin-bottom:0...   \n",
       "3          Não definido  <div><p style=\"margin-top:0pt; margin-bottom:0...   \n",
       "4              Desligar  <div><h4 style=\"margin-top:12pt; margin-left:4...   \n",
       "...                 ...                                                ...   \n",
       "5451              Ligar  <div><table style=\"margin-left:3.5pt; border-c...   \n",
       "5452       Não definido  <div><p style=\"margin-top:0pt; margin-bottom:0...   \n",
       "5453           Desligar  <div><table style=\"margin-left:3.5pt; border:2...   \n",
       "5454              Ligar  <div><table style=\"width:465.4pt; margin-left:...   \n",
       "5455              Ligar  <div><table style=\"width:484.2pt; margin-left:...   \n",
       "\n",
       "                                                 Título  \n",
       "0                                              OBJETIVO  \n",
       "1                                  CONSIDERAÇÕES GERAIS  \n",
       "2     PREPARAÇÃO PARA MANOBRAS EM LINHAS DE TRANSMISSÃO  \n",
       "3     LT 230 kV Coletora Porto Velho / Porto Velho C...  \n",
       "4     Desenergização da LT 230 kV Coletora Porto Vel...  \n",
       "...                                                 ...  \n",
       "5451  Energização do banco de autotransformadores de...  \n",
       "5452  SE IBIÚNA – BANCO DE AUTOTRANSFORMADORES DE 50...  \n",
       "5453  Desenergização de um Banco de transformador 50...  \n",
       "5454  Energização de um Banco de transformador 500/3...  \n",
       "5455  Energização de um Banco de transformador 500/3...  \n",
       "\n",
       "[5456 rows x 8 columns]"
      ],
      "text/html": "<div>\n<style scoped>\n    .dataframe tbody tr th:only-of-type {\n        vertical-align: middle;\n    }\n\n    .dataframe tbody tr th {\n        vertical-align: top;\n    }\n\n    .dataframe thead th {\n        text-align: right;\n    }\n</style>\n<table border=\"1\" class=\"dataframe\">\n  <thead>\n    <tr style=\"text-align: right;\">\n      <th></th>\n      <th>ID</th>\n      <th>Level</th>\n      <th>MpoIdentificador</th>\n      <th>MpoAreaEletrica</th>\n      <th>MpoCentro</th>\n      <th>MpoLigadoDesligado</th>\n      <th>Texto</th>\n      <th>Título</th>\n    </tr>\n  </thead>\n  <tbody>\n    <tr>\n      <th>0</th>\n      <td>161279</td>\n      <td>1</td>\n      <td>IO-PM.6MD</td>\n      <td>6MD</td>\n      <td>CNOS</td>\n      <td>Não definido</td>\n      <td>&lt;div&gt;&lt;p style=\"margin-top:0pt; margin-bottom:6...</td>\n      <td>OBJETIVO</td>\n    </tr>\n    <tr>\n      <th>1</th>\n      <td>161280</td>\n      <td>2</td>\n      <td>IO-PM.6MD</td>\n      <td>6MD</td>\n      <td>CNOS</td>\n      <td>Não definido</td>\n      <td>&lt;div&gt;&lt;p style=\"margin-top:6pt; margin-left:34p...</td>\n      <td>CONSIDERAÇÕES GERAIS</td>\n    </tr>\n    <tr>\n      <th>2</th>\n      <td>161281</td>\n      <td>3</td>\n      <td>IO-PM.6MD</td>\n      <td>6MD</td>\n      <td>CNOS</td>\n      <td>Não definido</td>\n      <td>&lt;div&gt;&lt;p style=\"margin-top:0pt; margin-bottom:0...</td>\n      <td>PREPARAÇÃO PARA MANOBRAS EM LINHAS DE TRANSMISSÃO</td>\n    </tr>\n    <tr>\n      <th>3</th>\n      <td>161282</td>\n      <td>3.1</td>\n      <td>IO-PM.6MD</td>\n      <td>6MD</td>\n      <td>CNOS</td>\n      <td>Não definido</td>\n      <td>&lt;div&gt;&lt;p style=\"margin-top:0pt; margin-bottom:0...</td>\n      <td>LT 230 kV Coletora Porto Velho / Porto Velho C...</td>\n    </tr>\n    <tr>\n      <th>4</th>\n      <td>161283</td>\n      <td>3.1.1</td>\n      <td>IO-PM.6MD</td>\n      <td>6MD</td>\n      <td>CNOS</td>\n      <td>Desligar</td>\n      <td>&lt;div&gt;&lt;h4 style=\"margin-top:12pt; margin-left:4...</td>\n      <td>Desenergização da LT 230 kV Coletora Porto Vel...</td>\n    </tr>\n    <tr>\n      <th>...</th>\n      <td>...</td>\n      <td>...</td>\n      <td>...</td>\n      <td>...</td>\n      <td>...</td>\n      <td>...</td>\n      <td>...</td>\n      <td>...</td>\n    </tr>\n    <tr>\n      <th>5451</th>\n      <td>166760</td>\n      <td>5.5.3</td>\n      <td>IO-PM.SSE</td>\n      <td>SSE</td>\n      <td>CNOS</td>\n      <td>Ligar</td>\n      <td>&lt;div&gt;&lt;table style=\"margin-left:3.5pt; border-c...</td>\n      <td>Energização do banco de autotransformadores de...</td>\n    </tr>\n    <tr>\n      <th>5452</th>\n      <td>166761</td>\n      <td>5.6</td>\n      <td>IO-PM.SSE</td>\n      <td>SSE</td>\n      <td>CNOS</td>\n      <td>Não definido</td>\n      <td>&lt;div&gt;&lt;p style=\"margin-top:0pt; margin-bottom:0...</td>\n      <td>SE IBIÚNA – BANCO DE AUTOTRANSFORMADORES DE 50...</td>\n    </tr>\n    <tr>\n      <th>5453</th>\n      <td>166762</td>\n      <td>5.6.1</td>\n      <td>IO-PM.SSE</td>\n      <td>SSE</td>\n      <td>CNOS</td>\n      <td>Desligar</td>\n      <td>&lt;div&gt;&lt;table style=\"margin-left:3.5pt; border:2...</td>\n      <td>Desenergização de um Banco de transformador 50...</td>\n    </tr>\n    <tr>\n      <th>5454</th>\n      <td>166763</td>\n      <td>5.6.2</td>\n      <td>IO-PM.SSE</td>\n      <td>SSE</td>\n      <td>CNOS</td>\n      <td>Ligar</td>\n      <td>&lt;div&gt;&lt;table style=\"width:465.4pt; margin-left:...</td>\n      <td>Energização de um Banco de transformador 500/3...</td>\n    </tr>\n    <tr>\n      <th>5455</th>\n      <td>166764</td>\n      <td>5.6.3</td>\n      <td>IO-PM.SSE</td>\n      <td>SSE</td>\n      <td>CNOS</td>\n      <td>Ligar</td>\n      <td>&lt;div&gt;&lt;table style=\"width:484.2pt; margin-left:...</td>\n      <td>Energização de um Banco de transformador 500/3...</td>\n    </tr>\n  </tbody>\n</table>\n<p>5456 rows × 8 columns</p>\n</div>"
     },
     "metadata": {},
     "execution_count": 24
    }
   ],
   "source": [
    "df_mpo"
   ]
  },
  {
   "source": [
    "## 2. Limpando elementos HTML da coluna Texto"
   ],
   "cell_type": "markdown",
   "metadata": {}
  },
  {
   "cell_type": "code",
   "execution_count": 25,
   "metadata": {},
   "outputs": [],
   "source": [
    "cleaner = Cleaner(tags=[], attributes=[], styles=[], protocols=[], strip=True, strip_comments=True, filters=None)\n",
    "\n",
    "# Retira todas as tags html do texto\n",
    "df_mpo['Texto'] = df_mpo['Texto'].apply(lambda x: cleaner.clean(x))"
   ]
  },
  {
   "cell_type": "code",
   "execution_count": 26,
   "metadata": {},
   "outputs": [
    {
     "output_type": "execute_result",
     "data": {
      "text/plain": [
       "'2.1.&#xa0;&#xa0;&#xa0;&#xa0;&#xa0;&#xa0;&#xa0;&#xa0;&#xa0;&#xa0;&#xa0; Os procedimentos contidos nesta instrução de operação são aqueles necessários para realização de manobras de desenergização e energização somente de linhas de transmissão e equipamentos da Rede de Operação, considerando em operação as demais linhas de transmissão e equipamentos das subestações envolvidas na manobra.As manobras que consideram equipamento(s) ou linha(s) de transmissão desligado(s) ou restrições adicionais no sistema devem estar especificadas nos itens da respectiva manobra.2.2.&#xa0;&#xa0;&#xa0;&#xa0;&#xa0;&#xa0;&#xa0;&#xa0;&#xa0;&#xa0;&#xa0; Constam nesta instrução de operação os procedimentos para manobras de todas as linhas de transmissão e transformadores da Rede de Operação Interligação em Corrente Contínua do Madeira. Os demais equipamentos da Rede de Operação desta área&#xa0; constam nesta instrução somente no caso de suas manobras necessitarem de procedimentos específicos de ajustes no sistema.2.3.&#xa0;&#xa0;&#xa0;&#xa0;&#xa0;&#xa0;&#xa0;&#xa0;&#xa0;&#xa0;&#xa0; O restabelecimento de linhas de transmissão em sentido normal, após desligamento automático, pode ser realizado com autonomia da operação da instalação, desde que explicitado nas Instruções de Operação de Instalações.Quando as condições de energização ou fechamento em anel a serem observadas pela operação da instalação não estiverem atendidas, a manobra é coordenada pelo ONS.2.4.&#xa0;&#xa0;&#xa0;&#xa0;&#xa0;&#xa0;&#xa0;&#xa0;&#xa0;&#xa0;&#xa0; O restabelecimento de transformadores, por ambos os terminais, pode ser realizada com autonomia pela operação da instalação, desde que explicitadas nas Instruções de Operação de Instalações.2.5.&#xa0;&#xa0;&#xa0;&#xa0;&#xa0;&#xa0;&#xa0;&#xa0;&#xa0;&#xa0;&#xa0; O restabelecimento de linhas de transmissão ou transformadores, após abertura de apenas uns dos terminais, pode ser realizada com autonomia pela operação da instalação, desde que explicitadas nas Instruções de Operação de Instalações.2.6.&#xa0;&#xa0;&#xa0;&#xa0;&#xa0;&#xa0;&#xa0;&#xa0;&#xa0;&#xa0;&#xa0; Caso a operação da instalação constate que durante o procedimento de manobra existe um fechamento de paralelo, o agente deve informar ao ONS para que este coordene as ações necessárias para o atendimento das condições de fechamento.2.7.&#xa0;&#xa0;&#xa0;&#xa0;&#xa0;&#xa0;&#xa0;&#xa0;&#xa0;&#xa0;&#xa0; É prerrogativa do ONS, em função de necessidade da operação do sistema, intervir nas manobras de energização ou fechamento de anel que são realizadas com autonomia pela operação da instalação.2.8.&#xa0;&#xa0;&#xa0;&#xa0;&#xa0;&#xa0;&#xa0;&#xa0;&#xa0;&#xa0;&#xa0; As manobras programadas ou de urgência para desenergização de linhas de transmissão&#xa0; e o restabelecimento após desligamentos programados, após desligamentos de&#xa0; urgência ou após desligamentos de emergência, são sempre coordenados pelo ONS.2.9.&#xa0;&#xa0;&#xa0;&#xa0;&#xa0;&#xa0;&#xa0;&#xa0;&#xa0;&#xa0;&#xa0; Os procedimentos para manobras de linhas de transmissão e equipamentos sistêmicos só podem ser iniciados após autorização do CNOS.É dispensada a autorização para energização de linhas de transmissão e equipamentos sistêmicos quando a operação da instalação tem autonomia para restabelecimento prevista nas Instruções de Operação de Instalação.2.10.&#xa0;&#xa0;&#xa0;&#xa0;&#xa0;&#xa0;&#xa0; Nos procedimentos em que o remanejamento da geração é coordenado pelo COSR-NCO, este centro deve acionar previamente o CNOS sempre que houver necessidade de remanejamento de geração envolvendo usinas da Rede de Operação sistêmica&#xa0; ou usinas da Rede de Operação sistêmica ou regional sob responsabilidade de outro Centro de Operação do ONS.Todo redespacho de geração que envolva alteração de intercâmbio entre regiões somente pode ser realizado pelo COSR-NCO e COSR-SE, após autorização do CNOS.Qualquer sincronismo e partida de usinas térmicas deve ser previamente autorizado pelo CNOS.2.11.&#xa0;&#xa0;&#xa0;&#xa0;&#xa0;&#xa0;&#xa0; Quando se tratar de manobras programadas, os procedimentos contidos no Programa Diário de Operação – PDO prevalecem sobre os procedimentos contidos nesta Instrução de Operação.2.12.&#xa0;&#xa0;&#xa0;&#xa0;&#xa0;&#xa0;&#xa0; Os procedimentos para realização de manobras de desenergização devem atender os limites operativos sistêmicos definidos pelo ONS e os limites operativos declarados pelos agentes nos Cadastros de Informações Operacionais de Limites de Equipamentos.2.13.&#xa0;&#xa0;&#xa0;&#xa0;&#xa0;&#xa0;&#xa0; A definição do número de tentativas de energização manual de linha de transmissão ou equipamentos, bem como o intervalo entre elas é de responsabilidade do agente proprietário, conforme declarado pelos agentes nos Cadastros de Informações Operacionais de Dados de Equipamentos.Depois de efetuadas as tentativas de energização previstas pelo agente e não havendo sucesso, é de responsabilidade do agente solicitar tentativas adicionais, inversão de sentido de energização ou declarar impedimento para manutenção. Caberá ao COSR-NCO autorizar as solicitações de tentativas de energização adicionais e/ou inversão de sentido da manobra em função das condições de operação do sistema.2.14.&#xa0;&#xa0;&#xa0;&#xa0;&#xa0;&#xa0;&#xa0; O relacionamento operacional para autorização para desligamento ou disponibilização de linhas de transmissão que interligam instalações subordinadas a dois Centros de Operação do ONS devem ser efetuadas entre o agente e o COSR que tem a linha de transmissão dentro da sua área de atuação.2.15.&#xa0;&#xa0;&#xa0;&#xa0;&#xa0;&#xa0;&#xa0; Para manobras em instalações compartilhadas, o Centro de Operação do ONS deve se relacionar somente com o agente responsável pela operação do equipamento ou linha a ser manobrado. Cabe a este agente contatar os agentes envolvidos para a realização das manobras necessárias.2.16.&#xa0;&#xa0;&#xa0;&#xa0;&#xa0;&#xa0;&#xa0; Deve ser caracterizado pelos agentes ao COSR-NCO as restrições de proteção, controle, canal de transferência de disparo que necessitem de desligamento em urgência de linha de transmissão ou equipamentos da Rede de Operação.2.17.&#xa0;&#xa0;&#xa0;&#xa0;&#xa0;&#xa0;&#xa0; Caso seja caracterizado o impedimento de linhas de transmissão ou equipamentos, devem ser adotados os procedimentos previstos nas Instruções de Operação de Contingência.2.18.&#xa0;&#xa0;&#xa0;&#xa0;&#xa0;&#xa0;&#xa0; Quando for necessário desligar uma linha de transmissão, reator ou capacitor para controle de tensão, devem ser adotados os critérios para complementação de vãos estabelecidos nas Instruções de Operação Normal.2.19.&#xa0;&#xa0;&#xa0;&#xa0;&#xa0;&#xa0;&#xa0; Nas energizações de linhas de transmissão ou transformadores que operam em paralelo, a energização do segundo equipamento em paralelo deve ser realizada após verificação de carga ativa no primeiro e assim sucessivamente, excetuando-se casos previstos nesta instrução. 2.20.&#xa0;&#xa0;&#xa0;&#xa0;&#xa0;&#xa0;&#xa0; Quando não for possível atender limitações de ângulo para o fechamento de anel constantes das Instruções de Operação, o ONS deve coordenar o fechamento de anel com qualquer ângulo, se houver:\\uf0b7&#xa0;&#xa0;&#xa0;&#xa0;&#xa0; Carga interrompida.\\uf0b7&#xa0;&#xa0;&#xa0;&#xa0;&#xa0; Equipamentos em sobrecarga inadmissível.\\uf0b7&#xa0;&#xa0;&#xa0;&#xa0;&#xa0; Níveis de confiabilidade críticos.\\uf0b7&#xa0;&#xa0;&#xa0;&#xa0;&#xa0; Níveis de tensão superior / inferior a 10 % da tensão nominal, exceto para o 765 KV, cujo limite superior é 4,5 % e para tensões nominais menores ou iguais à 138 KV, cujo limite superior é 5 %.'"
      ]
     },
     "metadata": {},
     "execution_count": 26
    }
   ],
   "source": [
    "df_mpo['Texto'].iloc[1]"
   ]
  },
  {
   "cell_type": "code",
   "execution_count": 27,
   "metadata": {},
   "outputs": [
    {
     "output_type": "execute_result",
     "data": {
      "text/plain": [
       "'PassoCoordenaçãoControleComando/ ExecuçãoProcedimentoObjetivo / Item de controle-Adotar os procedimentos do passo 1 para a energização da primeira conversora Back-to-Back na indisponibilidade do TF13 ou do passo 2 considerando o TF13 em operação.1Caso o sincronizador do disjuntor que irá energizar o transformador conversor esteja COM O REGISTRO do fluxo remanescente referente ao último desligamento, adotar os seguintes procedimentos:Observação: O disjuntor 1190 da SE Coletora Porto Velho não pode ser utilizado para energização do transformador TF10 do Back-to-back 2, devido seu sincronizador estar inoperante.1.1COSR-NCOCOSR-NCOEletronorte (OEORR)Energizar o transformador conversor de 500 kV da primeira conversora Back-to-Back (01 ou 02).Obs.: TF10 do Back-to-back 2&#xa0;por meio do disjuntor&#xa0;1192.- Sincronizador do disjuntor com o registro do fluxo remanescente referente ao último desligamento.- UHE Santo Antônio 500 kV ≥ 12 UGs- SE Coletora Porto Velho ≤ 550 kV- Nenhum transformador elevador das UHE Santo Antônio 500 kV e Jirau pode estar ligado em vazio ou só alimentando cargas do serviço auxiliar.- Nenhuma LT 500 kV da Coletora Porto Velho pode estar ligada em vazio.1.2COSR-NCOCOSR-NCOEletronorte (OEORR)Energizar o transformador conversor de 230 kV da primeira conversora Back-to-Back (01 ou 02).- Sincronizador do disjuntor com o registro do fluxo remanescente referente ao último desligamento.- UHE Samuel + UHE Santo Antônio 230 kV ≥ 06 UGs, sendo no mínimo 01 UG na UHE Samuel.- SE Coletora Porto Velho ≤ 242 kV.2Estando o sincronizador do disjuntor que irá energizar o transformador conversor SEM O REGISTRO do fluxo remanescente referente ao último desligamento (no disjuntor de 500 kV ou de 230 kV) OU o número de UGs sincronizadas na UHE Santo Antônio 500 kV não atendido, adotar os procedimentos a seguir:Observação: As manobras a seguir só podem ser realizadas com o TF13 LIGADO.2.1COSR-NCOCOSR-NCOEletronorte (OEORR)Energizar o transformador conversor de 500 kV da primeira conversora Back-to-back.- TF13 ligado.- UHE Santo Antônio 500 kV + Jirau ≥ 12 UGs - SE Coletora Porto Velho ≤ 550 kV- Estando os Bipolos 1 e 2 fora de operação, manter o fluxo no TF13 ≥ 100 MW (no sentido do 500 para o 230 kV).- Nenhum transformador elevador 13,8/525 kV das UHE Santo Antônio 500 kV e Jirau pode estar ligado em vazio ou só alimentando cargas dos serviços auxiliares.- Nenhuma LT 500 kV da Coletora Porto Velho pode estar ligada em vazio.2.2COSR-NCOCOSR-NCOEletronorte (OEORR)Energizar o transformador conversor de 230 kV da primeira conversora Back-to-Back (01 ou 02).- TF13 ligado.- UHE Samuel + UHE Santo Antônio 230 kV ≥ 06 UGs, sendo no mínimo 01 UG na UHE Samuel.- SE Coletora Porto Velho ≤ 242 kV.3COSR-NCOCOSR-NCOEletronorte (OEORR)Executar ordem de potência mínima da primeira conversora Back-to-back.- Conversora Back-to-back em modo de Controle de Potência de Bi-bloco (BBPC).- Atendido o número mínimo de UGs sincronizadas nas UHEs Santo Antônio 500 kV e Jirau, para a configuração desejada, conforme IO-ON.6MD (item “SE Coletora Porto Velho 500 kV, filtros conectados pelas Conversoras Back-to-back e número mínimo de unidades geradoras” ou item ”SE Coletora Porto Velho, filtros conectados pelo Bipolo 1 e número mínimo de unidades geradoras”).4Para a energização da segunda conversora Back-to-back adotar os procedimentos do item específico desta IO-PM.6MD.&#xa0;'"
      ]
     },
     "metadata": {},
     "execution_count": 27
    }
   ],
   "source": [
    "df_mpo['Texto'].iloc[55]"
   ]
  },
  {
   "cell_type": "code",
   "execution_count": 28,
   "metadata": {},
   "outputs": [
    {
     "output_type": "execute_result",
     "data": {
      "text/plain": [
       "'PassoCoordenaçãoControleComando / execuçãoProcedimentoItem de Controle/Objetivo1COSR-SECOSR-SETAESAEnergizar o banco de autotransformadores de 525/440&#xa0;kV pelo lado de 525&#xa0;kV.SE Assis 500 kV ≤ 550&#xa0;kV, com as LT 525 kV Londrina/Assis e Assis/Araquara em operação ou;SE Assis 500 kV ≤ 525&#xa0;kV, com uma LT 525 kV Londrina/Assis ou Assis/Araquara fora de operação2COSR-SECOSR-SETAESAFechar em anel banco de autotransformadores de 525/440&#xa0;kV pelo lado de 440&#xa0;kV.&#xa0;&#xa0;'"
      ]
     },
     "metadata": {},
     "execution_count": 28
    }
   ],
   "source": [
    "df_mpo['Texto'].iloc[5451]"
   ]
  },
  {
   "cell_type": "code",
   "execution_count": 29,
   "metadata": {},
   "outputs": [
    {
     "output_type": "execute_result",
     "data": {
      "text/plain": [
       "          ID  Level MpoIdentificador MpoAreaEletrica MpoCentro  \\\n",
       "0     161279      1        IO-PM.6MD             6MD      CNOS   \n",
       "1     161280      2        IO-PM.6MD             6MD      CNOS   \n",
       "2     161281      3        IO-PM.6MD             6MD      CNOS   \n",
       "3     161282    3.1        IO-PM.6MD             6MD      CNOS   \n",
       "4     161283  3.1.1        IO-PM.6MD             6MD      CNOS   \n",
       "...      ...    ...              ...             ...       ...   \n",
       "5451  166760  5.5.3        IO-PM.SSE             SSE      CNOS   \n",
       "5452  166761    5.6        IO-PM.SSE             SSE      CNOS   \n",
       "5453  166762  5.6.1        IO-PM.SSE             SSE      CNOS   \n",
       "5454  166763  5.6.2        IO-PM.SSE             SSE      CNOS   \n",
       "5455  166764  5.6.3        IO-PM.SSE             SSE      CNOS   \n",
       "\n",
       "     MpoLigadoDesligado                                              Texto  \\\n",
       "0          Não definido  Estabelecer os procedimentos a serem seguidos ...   \n",
       "1          Não definido  2.1.&#xa0;&#xa0;&#xa0;&#xa0;&#xa0;&#xa0;&#xa0;...   \n",
       "2          Não definido  &#xa0;1.&#xa0;OBJETIVO2..........................   \n",
       "3          Não definido  &#xa0;1.&#xa0;OBJETIVO2..........................   \n",
       "4              Desligar  3.1.1.1.&#xa0;&#xa0;&#xa0;&#xa0;&#xa0; Desener...   \n",
       "...                 ...                                                ...   \n",
       "5451              Ligar  PassoCoordenaçãoControleComando / execuçãoProc...   \n",
       "5452       Não definido  &#xa0;1.&#xa0;OBJETIVO2..........................   \n",
       "5453           Desligar  PassoCoordenaçãoControleComando / ExecuçãoProc...   \n",
       "5454              Ligar  PassoCoordenaçãoControleComando / ExecuçãoProc...   \n",
       "5455              Ligar  PassoCoordenaçãoControleComando / ExecuçãoProc...   \n",
       "\n",
       "                                                 Título  \n",
       "0                                              OBJETIVO  \n",
       "1                                  CONSIDERAÇÕES GERAIS  \n",
       "2     PREPARAÇÃO PARA MANOBRAS EM LINHAS DE TRANSMISSÃO  \n",
       "3     LT 230 kV Coletora Porto Velho / Porto Velho C...  \n",
       "4     Desenergização da LT 230 kV Coletora Porto Vel...  \n",
       "...                                                 ...  \n",
       "5451  Energização do banco de autotransformadores de...  \n",
       "5452  SE IBIÚNA – BANCO DE AUTOTRANSFORMADORES DE 50...  \n",
       "5453  Desenergização de um Banco de transformador 50...  \n",
       "5454  Energização de um Banco de transformador 500/3...  \n",
       "5455  Energização de um Banco de transformador 500/3...  \n",
       "\n",
       "[5456 rows x 8 columns]"
      ],
      "text/html": "<div>\n<style scoped>\n    .dataframe tbody tr th:only-of-type {\n        vertical-align: middle;\n    }\n\n    .dataframe tbody tr th {\n        vertical-align: top;\n    }\n\n    .dataframe thead th {\n        text-align: right;\n    }\n</style>\n<table border=\"1\" class=\"dataframe\">\n  <thead>\n    <tr style=\"text-align: right;\">\n      <th></th>\n      <th>ID</th>\n      <th>Level</th>\n      <th>MpoIdentificador</th>\n      <th>MpoAreaEletrica</th>\n      <th>MpoCentro</th>\n      <th>MpoLigadoDesligado</th>\n      <th>Texto</th>\n      <th>Título</th>\n    </tr>\n  </thead>\n  <tbody>\n    <tr>\n      <th>0</th>\n      <td>161279</td>\n      <td>1</td>\n      <td>IO-PM.6MD</td>\n      <td>6MD</td>\n      <td>CNOS</td>\n      <td>Não definido</td>\n      <td>Estabelecer os procedimentos a serem seguidos ...</td>\n      <td>OBJETIVO</td>\n    </tr>\n    <tr>\n      <th>1</th>\n      <td>161280</td>\n      <td>2</td>\n      <td>IO-PM.6MD</td>\n      <td>6MD</td>\n      <td>CNOS</td>\n      <td>Não definido</td>\n      <td>2.1.&amp;#xa0;&amp;#xa0;&amp;#xa0;&amp;#xa0;&amp;#xa0;&amp;#xa0;&amp;#xa0;...</td>\n      <td>CONSIDERAÇÕES GERAIS</td>\n    </tr>\n    <tr>\n      <th>2</th>\n      <td>161281</td>\n      <td>3</td>\n      <td>IO-PM.6MD</td>\n      <td>6MD</td>\n      <td>CNOS</td>\n      <td>Não definido</td>\n      <td>&amp;#xa0;1.&amp;#xa0;OBJETIVO2..........................</td>\n      <td>PREPARAÇÃO PARA MANOBRAS EM LINHAS DE TRANSMISSÃO</td>\n    </tr>\n    <tr>\n      <th>3</th>\n      <td>161282</td>\n      <td>3.1</td>\n      <td>IO-PM.6MD</td>\n      <td>6MD</td>\n      <td>CNOS</td>\n      <td>Não definido</td>\n      <td>&amp;#xa0;1.&amp;#xa0;OBJETIVO2..........................</td>\n      <td>LT 230 kV Coletora Porto Velho / Porto Velho C...</td>\n    </tr>\n    <tr>\n      <th>4</th>\n      <td>161283</td>\n      <td>3.1.1</td>\n      <td>IO-PM.6MD</td>\n      <td>6MD</td>\n      <td>CNOS</td>\n      <td>Desligar</td>\n      <td>3.1.1.1.&amp;#xa0;&amp;#xa0;&amp;#xa0;&amp;#xa0;&amp;#xa0; Desener...</td>\n      <td>Desenergização da LT 230 kV Coletora Porto Vel...</td>\n    </tr>\n    <tr>\n      <th>...</th>\n      <td>...</td>\n      <td>...</td>\n      <td>...</td>\n      <td>...</td>\n      <td>...</td>\n      <td>...</td>\n      <td>...</td>\n      <td>...</td>\n    </tr>\n    <tr>\n      <th>5451</th>\n      <td>166760</td>\n      <td>5.5.3</td>\n      <td>IO-PM.SSE</td>\n      <td>SSE</td>\n      <td>CNOS</td>\n      <td>Ligar</td>\n      <td>PassoCoordenaçãoControleComando / execuçãoProc...</td>\n      <td>Energização do banco de autotransformadores de...</td>\n    </tr>\n    <tr>\n      <th>5452</th>\n      <td>166761</td>\n      <td>5.6</td>\n      <td>IO-PM.SSE</td>\n      <td>SSE</td>\n      <td>CNOS</td>\n      <td>Não definido</td>\n      <td>&amp;#xa0;1.&amp;#xa0;OBJETIVO2..........................</td>\n      <td>SE IBIÚNA – BANCO DE AUTOTRANSFORMADORES DE 50...</td>\n    </tr>\n    <tr>\n      <th>5453</th>\n      <td>166762</td>\n      <td>5.6.1</td>\n      <td>IO-PM.SSE</td>\n      <td>SSE</td>\n      <td>CNOS</td>\n      <td>Desligar</td>\n      <td>PassoCoordenaçãoControleComando / ExecuçãoProc...</td>\n      <td>Desenergização de um Banco de transformador 50...</td>\n    </tr>\n    <tr>\n      <th>5454</th>\n      <td>166763</td>\n      <td>5.6.2</td>\n      <td>IO-PM.SSE</td>\n      <td>SSE</td>\n      <td>CNOS</td>\n      <td>Ligar</td>\n      <td>PassoCoordenaçãoControleComando / ExecuçãoProc...</td>\n      <td>Energização de um Banco de transformador 500/3...</td>\n    </tr>\n    <tr>\n      <th>5455</th>\n      <td>166764</td>\n      <td>5.6.3</td>\n      <td>IO-PM.SSE</td>\n      <td>SSE</td>\n      <td>CNOS</td>\n      <td>Ligar</td>\n      <td>PassoCoordenaçãoControleComando / ExecuçãoProc...</td>\n      <td>Energização de um Banco de transformador 500/3...</td>\n    </tr>\n  </tbody>\n</table>\n<p>5456 rows × 8 columns</p>\n</div>"
     },
     "metadata": {},
     "execution_count": 29
    }
   ],
   "source": [
    "df_mpo"
   ]
  },
  {
   "cell_type": "code",
   "execution_count": 30,
   "metadata": {},
   "outputs": [],
   "source": [
    "### &#xa0 e \\uf0b7 - Substituindo por espaço."
   ]
  },
  {
   "cell_type": "code",
   "execution_count": 31,
   "metadata": {},
   "outputs": [],
   "source": [
    "df_mpo['Texto'] = df_mpo['Texto'].apply(lambda x: x.replace('&#xa0;', ' ').replace('\\uf0b7', ' '))"
   ]
  },
  {
   "cell_type": "code",
   "execution_count": null,
   "metadata": {},
   "outputs": [],
   "source": []
  },
  {
   "cell_type": "code",
   "execution_count": 32,
   "metadata": {},
   "outputs": [
    {
     "output_type": "execute_result",
     "data": {
      "text/plain": [
       "'2.1.            Os procedimentos contidos nesta instrução de operação são aqueles necessários para realização de manobras de desenergização e energização somente de linhas de transmissão e equipamentos da Rede de Operação, considerando em operação as demais linhas de transmissão e equipamentos das subestações envolvidas na manobra.As manobras que consideram equipamento(s) ou linha(s) de transmissão desligado(s) ou restrições adicionais no sistema devem estar especificadas nos itens da respectiva manobra.2.2.            Constam nesta instrução de operação os procedimentos para manobras de todas as linhas de transmissão e transformadores da Rede de Operação Interligação em Corrente Contínua do Madeira. Os demais equipamentos da Rede de Operação desta área  constam nesta instrução somente no caso de suas manobras necessitarem de procedimentos específicos de ajustes no sistema.2.3.            O restabelecimento de linhas de transmissão em sentido normal, após desligamento automático, pode ser realizado com autonomia da operação da instalação, desde que explicitado nas Instruções de Operação de Instalações.Quando as condições de energização ou fechamento em anel a serem observadas pela operação da instalação não estiverem atendidas, a manobra é coordenada pelo ONS.2.4.            O restabelecimento de transformadores, por ambos os terminais, pode ser realizada com autonomia pela operação da instalação, desde que explicitadas nas Instruções de Operação de Instalações.2.5.            O restabelecimento de linhas de transmissão ou transformadores, após abertura de apenas uns dos terminais, pode ser realizada com autonomia pela operação da instalação, desde que explicitadas nas Instruções de Operação de Instalações.2.6.            Caso a operação da instalação constate que durante o procedimento de manobra existe um fechamento de paralelo, o agente deve informar ao ONS para que este coordene as ações necessárias para o atendimento das condições de fechamento.2.7.            É prerrogativa do ONS, em função de necessidade da operação do sistema, intervir nas manobras de energização ou fechamento de anel que são realizadas com autonomia pela operação da instalação.2.8.            As manobras programadas ou de urgência para desenergização de linhas de transmissão  e o restabelecimento após desligamentos programados, após desligamentos de  urgência ou após desligamentos de emergência, são sempre coordenados pelo ONS.2.9.            Os procedimentos para manobras de linhas de transmissão e equipamentos sistêmicos só podem ser iniciados após autorização do CNOS.É dispensada a autorização para energização de linhas de transmissão e equipamentos sistêmicos quando a operação da instalação tem autonomia para restabelecimento prevista nas Instruções de Operação de Instalação.2.10.        Nos procedimentos em que o remanejamento da geração é coordenado pelo COSR-NCO, este centro deve acionar previamente o CNOS sempre que houver necessidade de remanejamento de geração envolvendo usinas da Rede de Operação sistêmica  ou usinas da Rede de Operação sistêmica ou regional sob responsabilidade de outro Centro de Operação do ONS.Todo redespacho de geração que envolva alteração de intercâmbio entre regiões somente pode ser realizado pelo COSR-NCO e COSR-SE, após autorização do CNOS.Qualquer sincronismo e partida de usinas térmicas deve ser previamente autorizado pelo CNOS.2.11.        Quando se tratar de manobras programadas, os procedimentos contidos no Programa Diário de Operação – PDO prevalecem sobre os procedimentos contidos nesta Instrução de Operação.2.12.        Os procedimentos para realização de manobras de desenergização devem atender os limites operativos sistêmicos definidos pelo ONS e os limites operativos declarados pelos agentes nos Cadastros de Informações Operacionais de Limites de Equipamentos.2.13.        A definição do número de tentativas de energização manual de linha de transmissão ou equipamentos, bem como o intervalo entre elas é de responsabilidade do agente proprietário, conforme declarado pelos agentes nos Cadastros de Informações Operacionais de Dados de Equipamentos.Depois de efetuadas as tentativas de energização previstas pelo agente e não havendo sucesso, é de responsabilidade do agente solicitar tentativas adicionais, inversão de sentido de energização ou declarar impedimento para manutenção. Caberá ao COSR-NCO autorizar as solicitações de tentativas de energização adicionais e/ou inversão de sentido da manobra em função das condições de operação do sistema.2.14.        O relacionamento operacional para autorização para desligamento ou disponibilização de linhas de transmissão que interligam instalações subordinadas a dois Centros de Operação do ONS devem ser efetuadas entre o agente e o COSR que tem a linha de transmissão dentro da sua área de atuação.2.15.        Para manobras em instalações compartilhadas, o Centro de Operação do ONS deve se relacionar somente com o agente responsável pela operação do equipamento ou linha a ser manobrado. Cabe a este agente contatar os agentes envolvidos para a realização das manobras necessárias.2.16.        Deve ser caracterizado pelos agentes ao COSR-NCO as restrições de proteção, controle, canal de transferência de disparo que necessitem de desligamento em urgência de linha de transmissão ou equipamentos da Rede de Operação.2.17.        Caso seja caracterizado o impedimento de linhas de transmissão ou equipamentos, devem ser adotados os procedimentos previstos nas Instruções de Operação de Contingência.2.18.        Quando for necessário desligar uma linha de transmissão, reator ou capacitor para controle de tensão, devem ser adotados os critérios para complementação de vãos estabelecidos nas Instruções de Operação Normal.2.19.        Nas energizações de linhas de transmissão ou transformadores que operam em paralelo, a energização do segundo equipamento em paralelo deve ser realizada após verificação de carga ativa no primeiro e assim sucessivamente, excetuando-se casos previstos nesta instrução. 2.20.        Quando não for possível atender limitações de ângulo para o fechamento de anel constantes das Instruções de Operação, o ONS deve coordenar o fechamento de anel com qualquer ângulo, se houver:       Carga interrompida.       Equipamentos em sobrecarga inadmissível.       Níveis de confiabilidade críticos.       Níveis de tensão superior / inferior a 10 % da tensão nominal, exceto para o 765 KV, cujo limite superior é 4,5 % e para tensões nominais menores ou iguais à 138 KV, cujo limite superior é 5 %.'"
      ]
     },
     "metadata": {},
     "execution_count": 32
    }
   ],
   "source": [
    "df_mpo['Texto'].iloc[1]"
   ]
  },
  {
   "cell_type": "code",
   "execution_count": 34,
   "metadata": {},
   "outputs": [
    {
     "output_type": "execute_result",
     "data": {
      "text/plain": [
       "'PassoCoordenaçãoControleComando/ ExecuçãoProcedimentoObjetivo / Item de controle-Adotar os procedimentos do passo 1 para a energização da primeira conversora Back-to-Back na indisponibilidade do TF13 ou do passo 2 considerando o TF13 em operação.1Caso o sincronizador do disjuntor que irá energizar o transformador conversor esteja COM O REGISTRO do fluxo remanescente referente ao último desligamento, adotar os seguintes procedimentos:Observação: O disjuntor 1190 da SE Coletora Porto Velho não pode ser utilizado para energização do transformador TF10 do Back-to-back 2, devido seu sincronizador estar inoperante.1.1COSR-NCOCOSR-NCOEletronorte (OEORR)Energizar o transformador conversor de 500 kV da primeira conversora Back-to-Back (01 ou 02).Obs.: TF10 do Back-to-back 2 por meio do disjuntor 1192.- Sincronizador do disjuntor com o registro do fluxo remanescente referente ao último desligamento.- UHE Santo Antônio 500 kV ≥ 12 UGs- SE Coletora Porto Velho ≤ 550 kV- Nenhum transformador elevador das UHE Santo Antônio 500 kV e Jirau pode estar ligado em vazio ou só alimentando cargas do serviço auxiliar.- Nenhuma LT 500 kV da Coletora Porto Velho pode estar ligada em vazio.1.2COSR-NCOCOSR-NCOEletronorte (OEORR)Energizar o transformador conversor de 230 kV da primeira conversora Back-to-Back (01 ou 02).- Sincronizador do disjuntor com o registro do fluxo remanescente referente ao último desligamento.- UHE Samuel + UHE Santo Antônio 230 kV ≥ 06 UGs, sendo no mínimo 01 UG na UHE Samuel.- SE Coletora Porto Velho ≤ 242 kV.2Estando o sincronizador do disjuntor que irá energizar o transformador conversor SEM O REGISTRO do fluxo remanescente referente ao último desligamento (no disjuntor de 500 kV ou de 230 kV) OU o número de UGs sincronizadas na UHE Santo Antônio 500 kV não atendido, adotar os procedimentos a seguir:Observação: As manobras a seguir só podem ser realizadas com o TF13 LIGADO.2.1COSR-NCOCOSR-NCOEletronorte (OEORR)Energizar o transformador conversor de 500 kV da primeira conversora Back-to-back.- TF13 ligado.- UHE Santo Antônio 500 kV + Jirau ≥ 12 UGs - SE Coletora Porto Velho ≤ 550 kV- Estando os Bipolos 1 e 2 fora de operação, manter o fluxo no TF13 ≥ 100 MW (no sentido do 500 para o 230 kV).- Nenhum transformador elevador 13,8/525 kV das UHE Santo Antônio 500 kV e Jirau pode estar ligado em vazio ou só alimentando cargas dos serviços auxiliares.- Nenhuma LT 500 kV da Coletora Porto Velho pode estar ligada em vazio.2.2COSR-NCOCOSR-NCOEletronorte (OEORR)Energizar o transformador conversor de 230 kV da primeira conversora Back-to-Back (01 ou 02).- TF13 ligado.- UHE Samuel + UHE Santo Antônio 230 kV ≥ 06 UGs, sendo no mínimo 01 UG na UHE Samuel.- SE Coletora Porto Velho ≤ 242 kV.3COSR-NCOCOSR-NCOEletronorte (OEORR)Executar ordem de potência mínima da primeira conversora Back-to-back.- Conversora Back-to-back em modo de Controle de Potência de Bi-bloco (BBPC).- Atendido o número mínimo de UGs sincronizadas nas UHEs Santo Antônio 500 kV e Jirau, para a configuração desejada, conforme IO-ON.6MD (item “SE Coletora Porto Velho 500 kV, filtros conectados pelas Conversoras Back-to-back e número mínimo de unidades geradoras” ou item ”SE Coletora Porto Velho, filtros conectados pelo Bipolo 1 e número mínimo de unidades geradoras”).4Para a energização da segunda conversora Back-to-back adotar os procedimentos do item específico desta IO-PM.6MD. '"
      ]
     },
     "metadata": {},
     "execution_count": 34
    }
   ],
   "source": [
    "df_mpo['Texto'].iloc[55]"
   ]
  },
  {
   "cell_type": "code",
   "execution_count": 33,
   "metadata": {},
   "outputs": [
    {
     "output_type": "execute_result",
     "data": {
      "text/plain": [
       "'PassoCoordenaçãoControleComando / execuçãoProcedimentoItem de Controle/Objetivo1COSR-SECOSR-SETAESAEnergizar o banco de autotransformadores de 525/440 kV pelo lado de 525 kV.SE Assis 500 kV ≤ 550 kV, com as LT 525 kV Londrina/Assis e Assis/Araquara em operação ou;SE Assis 500 kV ≤ 525 kV, com uma LT 525 kV Londrina/Assis ou Assis/Araquara fora de operação2COSR-SECOSR-SETAESAFechar em anel banco de autotransformadores de 525/440 kV pelo lado de 440 kV.  '"
      ]
     },
     "metadata": {},
     "execution_count": 33
    }
   ],
   "source": [
    "df_mpo['Texto'].iloc[5451]"
   ]
  },
  {
   "source": [
    "## 3. Gerando parquet para uso na preparação dos dados"
   ],
   "cell_type": "markdown",
   "metadata": {}
  },
  {
   "cell_type": "code",
   "execution_count": 35,
   "metadata": {},
   "outputs": [],
   "source": [
    "PARQUET_MPO_PREPARADOS = '../../Data/Processed/mpo_preparados.parquet'\n",
    "\n",
    "df_mpo.to_parquet(PARQUET_MPO_PREPARADOS)"
   ]
  },
  {
   "cell_type": "code",
   "execution_count": null,
   "metadata": {},
   "outputs": [],
   "source": []
  }
 ]
}