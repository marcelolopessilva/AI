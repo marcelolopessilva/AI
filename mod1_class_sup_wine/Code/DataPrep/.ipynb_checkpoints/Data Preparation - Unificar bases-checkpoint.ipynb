{
 "cells": [
  {
   "cell_type": "markdown",
   "metadata": {},
   "source": [
    "# Unificar as bases de dados de Wine\n",
    "\n",
    "### Foram recebidos 2 arquivos .csv com informações sobre vinhos brancos e tintos. Unificar as bases de vinho branco e tinto e adicionar a feature 'type' branco/tinto (0/1) como coluna\n",
    "\n",
    "## Definição de pronto\n",
    "\n",
    "### Dados preparados no ambiente\n",
    "\n",
    "## Definição de entregue\n",
    "\n",
    "### Notebook fazendo a avaliação"
   ]
  },
  {
   "cell_type": "code",
   "execution_count": 1,
   "metadata": {
    "scrolled": false
   },
   "outputs": [
    {
     "name": "stdout",
     "output_type": "stream",
     "text": [
      "Registros arquivo winequality-red.csv: 1599\n",
      "Registros arquivo winequality-white.csv: 4898\n",
      "Registros dataframe df_red_white: 6497 check: 6497 \n"
     ]
    }
   ],
   "source": [
    "import pandas as pd\n",
    "\n",
    "# Lê arquivos .csv\n",
    "df_red = pd.read_csv('../../Data/Raw/wine/winequality-red.csv', sep=';')\n",
    "df_white = pd.read_csv('../../Data/Raw/wine/winequality-white.csv', sep=';')\n",
    "\n",
    "# Cria nova coluna de tipo\n",
    "df_red['type'] = 1\n",
    "df_white['type'] = 0\n",
    "\n",
    "#Concatena dataframes\n",
    "df_red_white = pd.concat([df_red, df_white])\n",
    "\n",
    "# Verificação\n",
    "print(f\"Registros arquivo winequality-red.csv: {len(df_red)}\")\n",
    "print(f\"Registros arquivo winequality-white.csv: {len(df_white)}\")\n",
    "print(f\"Registros dataframe df_red_white: {len(df_red_white)} check: { len(df_red) + len(df_white)} \")\n",
    "\n",
    "#Gera arquivo parquet com base única para ser utilizada nos notebooks seguintes'''\n",
    "df_red_white.to_parquet('../../Data/Processed/wine/df_wine.parquet',compression='gzip') "
   ]
  },
  {
   "cell_type": "code",
   "execution_count": null,
   "metadata": {},
   "outputs": [],
   "source": []
  }
 ],
 "metadata": {
  "kernelspec": {
   "display_name": "Python 3",
   "language": "python",
   "name": "python3"
  },
  "language_info": {
   "codemirror_mode": {
    "name": "ipython",
    "version": 3
   },
   "file_extension": ".py",
   "mimetype": "text/x-python",
   "name": "python",
   "nbconvert_exporter": "python",
   "pygments_lexer": "ipython3",
   "version": "3.8.2"
  }
 },
 "nbformat": 4,
 "nbformat_minor": 4
}
