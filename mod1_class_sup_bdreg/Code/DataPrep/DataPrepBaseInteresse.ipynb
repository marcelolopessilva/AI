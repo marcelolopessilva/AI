{
 "metadata": {
  "language_info": {
   "codemirror_mode": {
    "name": "ipython",
    "version": 3
   },
   "file_extension": ".py",
   "mimetype": "text/x-python",
   "name": "python",
   "nbconvert_exporter": "python",
   "pygments_lexer": "ipython3",
   "version": "3.8.2-final"
  },
  "orig_nbformat": 2,
  "kernelspec": {
   "name": "python38264bitcodevenv7ce5c7b02a11492e84877e70da9e32b5",
   "display_name": "Python 3.8.2 64-bit ('Code': venv)"
  }
 },
 "nbformat": 4,
 "nbformat_minor": 2,
 "cells": [
  {
   "cell_type": "code",
   "execution_count": 3,
   "metadata": {},
   "outputs": [],
   "source": [
    "import pandas as pd\n",
    "\n",
    "pd.set_option('max_colwidth', 100)"
   ]
  },
  {
   "source": [
    "### Carrega base de interesse fornecida pelos analistas da empresa"
   ],
   "cell_type": "markdown",
   "metadata": {}
  },
  {
   "cell_type": "code",
   "execution_count": 4,
   "metadata": {},
   "outputs": [],
   "source": [
    "\n",
    "ARQ_BASE_INTERESSE = '../../Data/Raw/BPREG_CSVdelimited.csv'\n",
    "\n",
    "base_interesse = pd.read_csv(ARQ_BASE_INTERESSE, header=None, delimiter=\"|\", encoding = \"utf-8\")"
   ]
  },
  {
   "source": [
    "### Inclusão de nome nas colunas"
   ],
   "cell_type": "markdown",
   "metadata": {}
  },
  {
   "cell_type": "code",
   "execution_count": 5,
   "metadata": {},
   "outputs": [],
   "source": [
    "base_interesse.columns = ['id', 'objeto','origem','data_publicacao','informacao','data_inclusao']"
   ]
  },
  {
   "cell_type": "code",
   "execution_count": 6,
   "metadata": {},
   "outputs": [
    {
     "output_type": "execute_result",
     "data": {
      "text/plain": "    id  \\\n0  404   \n1  405   \n2  406   \n3  407   \n4  408   \n5  409   \n6  410   \n7  411   \n8  412   \n9  413   \n\n                                                                                                objeto  \\\n0                                       Despacho SFG/ANEEL nº 2125 - Operação comercial UG1 UTE Imcopa   \n1                           Resolução Autorizativa ANEEL nº 1382 - Módulo 26 dos Procedimentos de Rede   \n2                                 Despacho SFG/ANEEL nº 2157 - Operação comercial UG3 UHE Castro Alves   \n3                                     Resolução Autorizativa ANEEL nº 1391 - Concessão AHE Salto Pilão   \n4  Resolução Autorizativa ANEEL nº 1370 - Autoriza a CTEEP a implantar reforços em instalações de t...   \n5           Resolução Autorizativa ANEEL nº 1373 - Ampliação da capacidade instalada da PCH Contestado   \n6  Resolução Autorizativa ANEEL nº 1376 - Transferência do controle societário da Breitener Energét...   \n7  Resolução Autorizativa ANEEL nº 1377 - Entrada em operação LT Campos Novos - Nova Santa Rita, 52...   \n8          Resolução Homologatória ANEEL nº 653 - Antecipação  Interligação Norte - Sul III, Trecho 3.   \n9                       Resolução Normativa ANEEL nº 318 -  Contaminação do óleo por enxofre corrosivo   \n\n                 origem      data_publicacao  \\\n0  DOU No. 104 de 3 de   2008-06-03 12:00:00   \n1  DOU No. 107 de 6 dej  2008-06-06 12:00:00   \n2  DOU No. 107 de 6 de   2008-06-06 12:00:00   \n3  DOU No. 107 de 6 de   2008-06-06 12:00:00   \n4  DOU No. 108 de 9 de   2008-06-09 12:00:00   \n5  DOU No. 108 de 9 de   2008-06-09 12:00:00   \n6  DOU No. 108 de 9 de   2008-06-09 12:00:00   \n7  DOU No. 108 de 9 de   2008-06-09 12:00:00   \n8  DOU No. 108 de 9 de   2008-06-06 12:00:00   \n9  DOU No. 108 de 9 de   2008-06-09 12:00:00   \n\n                                                                                            informacao  \\\n0  Levamos ao conhecimento Despacho SFG/ANEEL nº 2125 de 2 de junho de 2008, publicado no DOU de 3 ...   \n1  Levamos ao conhecimento Resolução Autorizativa ANEEL nº 1382 de 3 de junho de 2008, publicada no...   \n2  Levamos ao conhecimento Despacho SFG/ANEEL nº 2157 de 5 de junho de 2008, publicado no DOU de 6 ...   \n3  Levamos ao conhecimento Resolução Autorizativa ANEEL nº 1391 de 3 de junho de 2008, publicada no...   \n4  Levamos ao conhecimento Resolução Autorizativa ANEEL nº 1370 de 20 de maio de 2008, publicada no...   \n5  Levamos ao conhecimento Resolução Autorizativa ANEEL nº 1373 de 20 de maio de 2008, publicada no...   \n6  Levamos ao conhecimento Resolução Autorizativa ANEEL nº 1376 de 26 de maio de 2008, publicada no...   \n7  Levamos ao conhecimento Resolução Autorizativa ANEEL nº 1377 de 26 de maio de 2008, publicada no...   \n8  Levamos ao conhecimento Resolução Homologatória ANEEL nº 653 de 20 de maio de 2008, publicada no...   \n9  Levamos ao conhecimento Resolução Normativa ANEEL nº 318 de 13 de maio de 2008, publicada no DOU...   \n\n         data_inclusao  \n0  2008-06-03 12:00:00  \n1  2008-06-06 12:00:00  \n2  2008-06-06 12:00:00  \n3  2008-06-06 12:00:00  \n4  2008-06-09 12:00:00  \n5  2008-06-09 12:00:00  \n6  2008-06-09 12:00:00  \n7  2008-06-09 12:00:00  \n8  2008-06-09 12:00:00  \n9  2008-06-09 12:00:00  ",
      "text/html": "<div>\n<style scoped>\n    .dataframe tbody tr th:only-of-type {\n        vertical-align: middle;\n    }\n\n    .dataframe tbody tr th {\n        vertical-align: top;\n    }\n\n    .dataframe thead th {\n        text-align: right;\n    }\n</style>\n<table border=\"1\" class=\"dataframe\">\n  <thead>\n    <tr style=\"text-align: right;\">\n      <th></th>\n      <th>id</th>\n      <th>objeto</th>\n      <th>origem</th>\n      <th>data_publicacao</th>\n      <th>informacao</th>\n      <th>data_inclusao</th>\n    </tr>\n  </thead>\n  <tbody>\n    <tr>\n      <th>0</th>\n      <td>404</td>\n      <td>Despacho SFG/ANEEL nº 2125 - Operação comercial UG1 UTE Imcopa</td>\n      <td>DOU No. 104 de 3 de</td>\n      <td>2008-06-03 12:00:00</td>\n      <td>Levamos ao conhecimento Despacho SFG/ANEEL nº 2125 de 2 de junho de 2008, publicado no DOU de 3 ...</td>\n      <td>2008-06-03 12:00:00</td>\n    </tr>\n    <tr>\n      <th>1</th>\n      <td>405</td>\n      <td>Resolução Autorizativa ANEEL nº 1382 - Módulo 26 dos Procedimentos de Rede</td>\n      <td>DOU No. 107 de 6 dej</td>\n      <td>2008-06-06 12:00:00</td>\n      <td>Levamos ao conhecimento Resolução Autorizativa ANEEL nº 1382 de 3 de junho de 2008, publicada no...</td>\n      <td>2008-06-06 12:00:00</td>\n    </tr>\n    <tr>\n      <th>2</th>\n      <td>406</td>\n      <td>Despacho SFG/ANEEL nº 2157 - Operação comercial UG3 UHE Castro Alves</td>\n      <td>DOU No. 107 de 6 de</td>\n      <td>2008-06-06 12:00:00</td>\n      <td>Levamos ao conhecimento Despacho SFG/ANEEL nº 2157 de 5 de junho de 2008, publicado no DOU de 6 ...</td>\n      <td>2008-06-06 12:00:00</td>\n    </tr>\n    <tr>\n      <th>3</th>\n      <td>407</td>\n      <td>Resolução Autorizativa ANEEL nº 1391 - Concessão AHE Salto Pilão</td>\n      <td>DOU No. 107 de 6 de</td>\n      <td>2008-06-06 12:00:00</td>\n      <td>Levamos ao conhecimento Resolução Autorizativa ANEEL nº 1391 de 3 de junho de 2008, publicada no...</td>\n      <td>2008-06-06 12:00:00</td>\n    </tr>\n    <tr>\n      <th>4</th>\n      <td>408</td>\n      <td>Resolução Autorizativa ANEEL nº 1370 - Autoriza a CTEEP a implantar reforços em instalações de t...</td>\n      <td>DOU No. 108 de 9 de</td>\n      <td>2008-06-09 12:00:00</td>\n      <td>Levamos ao conhecimento Resolução Autorizativa ANEEL nº 1370 de 20 de maio de 2008, publicada no...</td>\n      <td>2008-06-09 12:00:00</td>\n    </tr>\n    <tr>\n      <th>5</th>\n      <td>409</td>\n      <td>Resolução Autorizativa ANEEL nº 1373 - Ampliação da capacidade instalada da PCH Contestado</td>\n      <td>DOU No. 108 de 9 de</td>\n      <td>2008-06-09 12:00:00</td>\n      <td>Levamos ao conhecimento Resolução Autorizativa ANEEL nº 1373 de 20 de maio de 2008, publicada no...</td>\n      <td>2008-06-09 12:00:00</td>\n    </tr>\n    <tr>\n      <th>6</th>\n      <td>410</td>\n      <td>Resolução Autorizativa ANEEL nº 1376 - Transferência do controle societário da Breitener Energét...</td>\n      <td>DOU No. 108 de 9 de</td>\n      <td>2008-06-09 12:00:00</td>\n      <td>Levamos ao conhecimento Resolução Autorizativa ANEEL nº 1376 de 26 de maio de 2008, publicada no...</td>\n      <td>2008-06-09 12:00:00</td>\n    </tr>\n    <tr>\n      <th>7</th>\n      <td>411</td>\n      <td>Resolução Autorizativa ANEEL nº 1377 - Entrada em operação LT Campos Novos - Nova Santa Rita, 52...</td>\n      <td>DOU No. 108 de 9 de</td>\n      <td>2008-06-09 12:00:00</td>\n      <td>Levamos ao conhecimento Resolução Autorizativa ANEEL nº 1377 de 26 de maio de 2008, publicada no...</td>\n      <td>2008-06-09 12:00:00</td>\n    </tr>\n    <tr>\n      <th>8</th>\n      <td>412</td>\n      <td>Resolução Homologatória ANEEL nº 653 - Antecipação  Interligação Norte - Sul III, Trecho 3.</td>\n      <td>DOU No. 108 de 9 de</td>\n      <td>2008-06-06 12:00:00</td>\n      <td>Levamos ao conhecimento Resolução Homologatória ANEEL nº 653 de 20 de maio de 2008, publicada no...</td>\n      <td>2008-06-09 12:00:00</td>\n    </tr>\n    <tr>\n      <th>9</th>\n      <td>413</td>\n      <td>Resolução Normativa ANEEL nº 318 -  Contaminação do óleo por enxofre corrosivo</td>\n      <td>DOU No. 108 de 9 de</td>\n      <td>2008-06-09 12:00:00</td>\n      <td>Levamos ao conhecimento Resolução Normativa ANEEL nº 318 de 13 de maio de 2008, publicada no DOU...</td>\n      <td>2008-06-09 12:00:00</td>\n    </tr>\n  </tbody>\n</table>\n</div>"
     },
     "metadata": {},
     "execution_count": 6
    }
   ],
   "source": [
    "base_interesse.head(10)"
   ]
  },
  {
   "source": [
    "#### Verificação de nulos"
   ],
   "cell_type": "markdown",
   "metadata": {}
  },
  {
   "cell_type": "code",
   "execution_count": 7,
   "metadata": {
    "tags": []
   },
   "outputs": [
    {
     "output_type": "stream",
     "name": "stdout",
     "text": "<class 'pandas.core.frame.DataFrame'>\nRangeIndex: 71674 entries, 0 to 71673\nData columns (total 6 columns):\n #   Column           Non-Null Count  Dtype \n---  ------           --------------  ----- \n 0   id               64894 non-null  object\n 1   objeto           27179 non-null  object\n 2   origem           20399 non-null  object\n 3   data_publicacao  20399 non-null  object\n 4   informacao       20399 non-null  object\n 5   data_inclusao    13619 non-null  object\ndtypes: object(6)\nmemory usage: 3.3+ MB\n"
    }
   ],
   "source": [
    "base_interesse.info()"
   ]
  },
  {
   "source": [
    "### Retira linhas vazias que não tenham a feature informação"
   ],
   "cell_type": "markdown",
   "metadata": {}
  },
  {
   "cell_type": "code",
   "execution_count": 8,
   "metadata": {},
   "outputs": [],
   "source": [
    "base_interesse.dropna(subset=['informacao'],inplace=True)"
   ]
  },
  {
   "cell_type": "code",
   "execution_count": 9,
   "metadata": {
    "tags": []
   },
   "outputs": [
    {
     "output_type": "stream",
     "name": "stdout",
     "text": "<class 'pandas.core.frame.DataFrame'>\nInt64Index: 20399 entries, 0 to 71665\nData columns (total 6 columns):\n #   Column           Non-Null Count  Dtype \n---  ------           --------------  ----- \n 0   id               20399 non-null  object\n 1   objeto           20399 non-null  object\n 2   origem           20399 non-null  object\n 3   data_publicacao  20399 non-null  object\n 4   informacao       20399 non-null  object\n 5   data_inclusao    13619 non-null  object\ndtypes: object(6)\nmemory usage: 1.1+ MB\n"
    }
   ],
   "source": [
    "base_interesse.info()\n"
   ]
  },
  {
   "cell_type": "code",
   "execution_count": 10,
   "metadata": {
    "tags": []
   },
   "outputs": [
    {
     "output_type": "stream",
     "name": "stdout",
     "text": "Mínimo:30, Máximo:51344, Média:1442.8197950879944\n"
    }
   ],
   "source": [
    "tamanho_informacao = base_interesse['informacao'].str.len()\n",
    "\n",
    "print(f'Mínimo:{min(tamanho_informacao)}, Máximo:{max(tamanho_informacao)}, Média:{tamanho_informacao.mean()}')"
   ]
  },
  {
   "cell_type": "code",
   "execution_count": 11,
   "metadata": {},
   "outputs": [
    {
     "output_type": "execute_result",
     "data": {
      "text/plain": "          id                                                          objeto  \\\n71651  34940           Despacho SFG/ANEEL nº 2.573, de 3 de setembro de 2020   \n71654  34941           Despacho SFG/ANEEL nº 2.574, de 3 de setembro de 2020   \n71656  34942           Despacho SFG/ANEEL nº 2.575, de 3 de setembro de 2020   \n71659  34943                 Portaria MME nº 327, de 1º de setembro de 2020    \n71665  34944  Resolução Autorizativa ANEEL nº 190, de 1º de setembro de 2020   \n\n           origem      data_publicacao  \\\n71651  DOU nº 171  2020-09-04 12:00:00   \n71654  DOU nº 171  2020-09-04 12:00:00   \n71656  DOU nº 171  2020-09-04 12:00:00   \n71659  DOU nº 171  2020-09-04 12:00:00   \n71665  DOU nº 171  2020-09-04 12:00:00   \n\n                                                                                                informacao  \\\n71651  <p>O SUPERINTENDENTE DE FISCALIZA&Ccedil;&Atilde;O DOS SERVI&Ccedil;OS DE GERA&Ccedil;&Atilde;O ...   \n71654  <p style=\"text-align:justify\">O SUPERINTENDENTE DE FISCALIZA&Ccedil;&Atilde;O DOS SERVI&Ccedil;O...   \n71656  <p style=\"text-align:justify\">O SUPERINTENDENTE DE FISCALIZA&Ccedil;&Atilde;O DOS SERVI&Ccedil;O...   \n71659  <p style=\"text-align:justify\">O MINISTRO DE ESTADO DE MINAS E ENERGIA, no uso das atribui&ccedil...   \n71665  <p style=\"text-align:justify\">O DIRETOR-GERAL DA AG&Ecirc;NCIA NACIONAL DE ENERGIA EL&Eacute;TRI...   \n\n      data_inclusao  \n71651           NaN  \n71654           NaN  \n71656           NaN  \n71659           NaN  \n71665           NaN  ",
      "text/html": "<div>\n<style scoped>\n    .dataframe tbody tr th:only-of-type {\n        vertical-align: middle;\n    }\n\n    .dataframe tbody tr th {\n        vertical-align: top;\n    }\n\n    .dataframe thead th {\n        text-align: right;\n    }\n</style>\n<table border=\"1\" class=\"dataframe\">\n  <thead>\n    <tr style=\"text-align: right;\">\n      <th></th>\n      <th>id</th>\n      <th>objeto</th>\n      <th>origem</th>\n      <th>data_publicacao</th>\n      <th>informacao</th>\n      <th>data_inclusao</th>\n    </tr>\n  </thead>\n  <tbody>\n    <tr>\n      <th>71651</th>\n      <td>34940</td>\n      <td>Despacho SFG/ANEEL nº 2.573, de 3 de setembro de 2020</td>\n      <td>DOU nº 171</td>\n      <td>2020-09-04 12:00:00</td>\n      <td>&lt;p&gt;O SUPERINTENDENTE DE FISCALIZA&amp;Ccedil;&amp;Atilde;O DOS SERVI&amp;Ccedil;OS DE GERA&amp;Ccedil;&amp;Atilde;O ...</td>\n      <td>NaN</td>\n    </tr>\n    <tr>\n      <th>71654</th>\n      <td>34941</td>\n      <td>Despacho SFG/ANEEL nº 2.574, de 3 de setembro de 2020</td>\n      <td>DOU nº 171</td>\n      <td>2020-09-04 12:00:00</td>\n      <td>&lt;p style=\"text-align:justify\"&gt;O SUPERINTENDENTE DE FISCALIZA&amp;Ccedil;&amp;Atilde;O DOS SERVI&amp;Ccedil;O...</td>\n      <td>NaN</td>\n    </tr>\n    <tr>\n      <th>71656</th>\n      <td>34942</td>\n      <td>Despacho SFG/ANEEL nº 2.575, de 3 de setembro de 2020</td>\n      <td>DOU nº 171</td>\n      <td>2020-09-04 12:00:00</td>\n      <td>&lt;p style=\"text-align:justify\"&gt;O SUPERINTENDENTE DE FISCALIZA&amp;Ccedil;&amp;Atilde;O DOS SERVI&amp;Ccedil;O...</td>\n      <td>NaN</td>\n    </tr>\n    <tr>\n      <th>71659</th>\n      <td>34943</td>\n      <td>Portaria MME nº 327, de 1º de setembro de 2020</td>\n      <td>DOU nº 171</td>\n      <td>2020-09-04 12:00:00</td>\n      <td>&lt;p style=\"text-align:justify\"&gt;O MINISTRO DE ESTADO DE MINAS E ENERGIA, no uso das atribui&amp;ccedil...</td>\n      <td>NaN</td>\n    </tr>\n    <tr>\n      <th>71665</th>\n      <td>34944</td>\n      <td>Resolução Autorizativa ANEEL nº 190, de 1º de setembro de 2020</td>\n      <td>DOU nº 171</td>\n      <td>2020-09-04 12:00:00</td>\n      <td>&lt;p style=\"text-align:justify\"&gt;O DIRETOR-GERAL DA AG&amp;Ecirc;NCIA NACIONAL DE ENERGIA EL&amp;Eacute;TRI...</td>\n      <td>NaN</td>\n    </tr>\n  </tbody>\n</table>\n</div>"
     },
     "metadata": {},
     "execution_count": 11
    }
   ],
   "source": [
    "base_interesse.tail(5)"
   ]
  },
  {
   "source": [
    "### Realiza decode de html. Ex.: Troca &Ccedil; por Ç"
   ],
   "cell_type": "markdown",
   "metadata": {}
  },
  {
   "cell_type": "code",
   "execution_count": 12,
   "metadata": {},
   "outputs": [],
   "source": [
    "import html\n",
    "\n",
    "base_interesse = base_interesse.fillna(\"\").applymap(html.unescape)"
   ]
  },
  {
   "cell_type": "code",
   "execution_count": 13,
   "metadata": {},
   "outputs": [
    {
     "output_type": "execute_result",
     "data": {
      "text/plain": "'Levamos ao conhecimento o Despacho do Diretor Geral da ANEEL nº 3.564, de 24/10/2017, publicado em 23/11/2017, e que resolveu o DIRETOR-GERAL DA AGÊNCIA NACIONAL DE ENERGIA ELÉTRICA – ANEEL, no uso de suas atribuições regimentais, tendo em vista a deliberação da Diretoria e o que consta do processo 48500.005396/2013-08, 48500.005397/2013-44 e 48500.005427/2013-12 decide conhecer e, no mérito, indeferir o pedido de reconhecimento de excludente de responsabilidade e de alteração dos cronogramas de implantação das Centrais Geradoras Eólicas Assuruá II, Assuruá V e Assuruá VII e da data do início de suprimento dos Contratos de Energia de Reserva - CERs.'"
     },
     "metadata": {},
     "execution_count": 13
    }
   ],
   "source": [
    "base_interesse['informacao'][13000]"
   ]
  },
  {
   "source": [
    "### Limpeza de tags HTML. Foi verificado que a partir de um certo momento os texto foram gravados com as tags HTML, provavelmente para facilitar a formatação no momento de visualização"
   ],
   "cell_type": "markdown",
   "metadata": {}
  },
  {
   "cell_type": "code",
   "execution_count": 14,
   "metadata": {
    "tags": []
   },
   "outputs": [
    {
     "output_type": "stream",
     "name": "stdout",
     "text": "Retiradas tags HTML\n"
    }
   ],
   "source": [
    "from bleach.sanitizer import Cleaner\n",
    "\n",
    "cleaner = Cleaner(tags=[], attributes={}, styles=[], protocols=[], strip=True, strip_comments=True, filters=None)\n",
    "\n",
    "# Retira todas as tags html do texto do DOU\n",
    "base_interesse['informacao'] = base_interesse['informacao'].apply(lambda x: cleaner.clean(x))\n",
    "\n",
    "print(\"Retiradas tags HTML\")"
   ]
  },
  {
   "cell_type": "code",
   "execution_count": 14,
   "metadata": {},
   "outputs": [
    {
     "output_type": "execute_result",
     "data": {
      "text/plain": "          id                                                          objeto  \\\n71651  34940           Despacho SFG/ANEEL nº 2.573, de 3 de setembro de 2020   \n71654  34941           Despacho SFG/ANEEL nº 2.574, de 3 de setembro de 2020   \n71656  34942           Despacho SFG/ANEEL nº 2.575, de 3 de setembro de 2020   \n71659  34943                 Portaria MME nº 327, de 1º de setembro de 2020    \n71665  34944  Resolução Autorizativa ANEEL nº 190, de 1º de setembro de 2020   \n\n           origem      data_publicacao  \\\n71651  DOU nº 171  2020-09-04 12:00:00   \n71654  DOU nº 171  2020-09-04 12:00:00   \n71656  DOU nº 171  2020-09-04 12:00:00   \n71659  DOU nº 171  2020-09-04 12:00:00   \n71665  DOU nº 171  2020-09-04 12:00:00   \n\n                                                                                                informacao  \\\n71651  O SUPERINTENDENTE DE FISCALIZAÇÃO DOS SERVIÇOS DE GERAÇÃO DA AGÊNCIA NACIONAL DE ENERGIA ELÉTRIC...   \n71654  O SUPERINTENDENTE DE FISCALIZAÇÃO DOS SERVIÇOS DE GERAÇÃO DA AGÊNCIA NACIONAL DE ENERGIA ELÉTRIC...   \n71656  O SUPERINTENDENTE DE FISCALIZAÇÃO DOS SERVIÇOS DE GERAÇÃO DA AGÊNCIA NACIONAL DE ENERGIA ELÉTRIC...   \n71659  O MINISTRO DE ESTADO DE MINAS E ENERGIA, no uso das atribuições que lhe confere o art. 87, parág...   \n71665  O DIRETOR-GERAL DA AGÊNCIA NACIONAL DE ENERGIA ELÉTRICA –ANEEL, no uso de suas atribuições regim...   \n\n      data_inclusao  \n71651                \n71654                \n71656                \n71659                \n71665                ",
      "text/html": "<div>\n<style scoped>\n    .dataframe tbody tr th:only-of-type {\n        vertical-align: middle;\n    }\n\n    .dataframe tbody tr th {\n        vertical-align: top;\n    }\n\n    .dataframe thead th {\n        text-align: right;\n    }\n</style>\n<table border=\"1\" class=\"dataframe\">\n  <thead>\n    <tr style=\"text-align: right;\">\n      <th></th>\n      <th>id</th>\n      <th>objeto</th>\n      <th>origem</th>\n      <th>data_publicacao</th>\n      <th>informacao</th>\n      <th>data_inclusao</th>\n    </tr>\n  </thead>\n  <tbody>\n    <tr>\n      <th>71651</th>\n      <td>34940</td>\n      <td>Despacho SFG/ANEEL nº 2.573, de 3 de setembro de 2020</td>\n      <td>DOU nº 171</td>\n      <td>2020-09-04 12:00:00</td>\n      <td>O SUPERINTENDENTE DE FISCALIZAÇÃO DOS SERVIÇOS DE GERAÇÃO DA AGÊNCIA NACIONAL DE ENERGIA ELÉTRIC...</td>\n      <td></td>\n    </tr>\n    <tr>\n      <th>71654</th>\n      <td>34941</td>\n      <td>Despacho SFG/ANEEL nº 2.574, de 3 de setembro de 2020</td>\n      <td>DOU nº 171</td>\n      <td>2020-09-04 12:00:00</td>\n      <td>O SUPERINTENDENTE DE FISCALIZAÇÃO DOS SERVIÇOS DE GERAÇÃO DA AGÊNCIA NACIONAL DE ENERGIA ELÉTRIC...</td>\n      <td></td>\n    </tr>\n    <tr>\n      <th>71656</th>\n      <td>34942</td>\n      <td>Despacho SFG/ANEEL nº 2.575, de 3 de setembro de 2020</td>\n      <td>DOU nº 171</td>\n      <td>2020-09-04 12:00:00</td>\n      <td>O SUPERINTENDENTE DE FISCALIZAÇÃO DOS SERVIÇOS DE GERAÇÃO DA AGÊNCIA NACIONAL DE ENERGIA ELÉTRIC...</td>\n      <td></td>\n    </tr>\n    <tr>\n      <th>71659</th>\n      <td>34943</td>\n      <td>Portaria MME nº 327, de 1º de setembro de 2020</td>\n      <td>DOU nº 171</td>\n      <td>2020-09-04 12:00:00</td>\n      <td>O MINISTRO DE ESTADO DE MINAS E ENERGIA, no uso das atribuições que lhe confere o art. 87, parág...</td>\n      <td></td>\n    </tr>\n    <tr>\n      <th>71665</th>\n      <td>34944</td>\n      <td>Resolução Autorizativa ANEEL nº 190, de 1º de setembro de 2020</td>\n      <td>DOU nº 171</td>\n      <td>2020-09-04 12:00:00</td>\n      <td>O DIRETOR-GERAL DA AGÊNCIA NACIONAL DE ENERGIA ELÉTRICA –ANEEL, no uso de suas atribuições regim...</td>\n      <td></td>\n    </tr>\n  </tbody>\n</table>\n</div>"
     },
     "metadata": {},
     "execution_count": 14
    }
   ],
   "source": [
    "base_interesse.tail(5)"
   ]
  },
  {
   "cell_type": "code",
   "execution_count": 15,
   "metadata": {},
   "outputs": [
    {
     "output_type": "execute_result",
     "data": {
      "text/plain": "71651    O SUPERINTENDENTE DE FISCALIZAÇÃO DOS SERVIÇOS DE GERAÇÃO DA AGÊNCIA NACIONAL DE ENERGIA ELÉTRIC...\n71654    O SUPERINTENDENTE DE FISCALIZAÇÃO DOS SERVIÇOS DE GERAÇÃO DA AGÊNCIA NACIONAL DE ENERGIA ELÉTRIC...\n71656    O SUPERINTENDENTE DE FISCALIZAÇÃO DOS SERVIÇOS DE GERAÇÃO DA AGÊNCIA NACIONAL DE ENERGIA ELÉTRIC...\n71659    O MINISTRO DE ESTADO DE MINAS E ENERGIA, no uso das atribuições que lhe confere o art. 87, parág...\n71665    O DIRETOR-GERAL DA AGÊNCIA NACIONAL DE ENERGIA ELÉTRICA –ANEEL, no uso de suas atribuições regim...\nName: informacao, dtype: object"
     },
     "metadata": {},
     "execution_count": 15
    }
   ],
   "source": [
    "base_interesse['informacao'].tail(5)"
   ]
  },
  {
   "source": [
    "### Limpeza de ruído - Transformar em minúsculo, limpeza de caracteres especiais"
   ],
   "cell_type": "markdown",
   "metadata": {}
  },
  {
   "cell_type": "code",
   "execution_count": 16,
   "metadata": {},
   "outputs": [
    {
     "output_type": "execute_result",
     "data": {
      "text/plain": "0    levamos ao conhecimento despacho sfganeel nº  de  de junho de  publicado no dou de  de junho de ...\n1    levamos ao conhecimento resolução autorizativa aneel nº  de  de junho de  publicada no dou de  d...\n2    levamos ao conhecimento despacho sfganeel nº  de  de junho de  publicado no dou de  de junho de ...\n3    levamos ao conhecimento resolução autorizativa aneel nº  de  de junho de  publicada no dou de  d...\n4    levamos ao conhecimento resolução autorizativa aneel nº  de  de maio de  publicada no dou de  de...\nName: informacao, dtype: object"
     },
     "metadata": {},
     "execution_count": 16
    }
   ],
   "source": [
    "import regex as re\n",
    "import string\n",
    "\n",
    "def limpa_ruido_texto(texto):\n",
    "    texto = texto.lower()\n",
    "    texto = re.sub('[%s]' % re.escape(string.punctuation), '', texto) # Retira pontuações\n",
    "    texto = re.sub('\\w*\\d\\w*', '', texto) # Retira números entre palavras\n",
    "    texto = re.sub('§–', '', texto) # Casos específicos para os textos do DOU\n",
    "    return texto\n",
    "\n",
    "base_interesse['informacao'] = base_interesse['informacao'].apply(lambda x: limpa_ruido_texto(x))\n",
    "\n",
    "base_interesse['informacao'].head()"
   ]
  },
  {
   "source": [
    "### Criação de matriz de termos utilizando CountVectorizer"
   ],
   "cell_type": "markdown",
   "metadata": {}
  },
  {
   "cell_type": "code",
   "execution_count": 22,
   "metadata": {
    "tags": []
   },
   "outputs": [
    {
     "output_type": "stream",
     "name": "stderr",
     "text": "[nltk_data] Downloading package stopwords to\n[nltk_data]     /home/marcelo/nltk_data...\n[nltk_data]   Package stopwords is already up-to-date!\n"
    },
    {
     "output_type": "execute_result",
     "data": {
      "text/plain": "       00  000  000 kw  0001  001  003  003 10  003 1996  01  01 12  ...  \\\n0       0    0       0     0    0    0       0         0   1      0  ...   \n1       0    0       0     0    0    0       0         0   0      0  ...   \n2       0    0       0     0    0    0       0         0   0      0  ...   \n3       0    0       0     0    0    0       0         0   0      0  ...   \n4       0    0       0     0    0    0       0         0   0      0  ...   \n...    ..  ...     ...   ...  ...  ...     ...       ...  ..    ...  ...   \n71651   0    0       0     0    0    0       0         0   0      0  ...   \n71654   0    1       1     0    0    0       0         0   1      0  ...   \n71656   0    0       0     0    0    0       0         0   0      0  ...   \n71659   0    0       0     0    0    0       0         0   0      0  ...   \n71665   0    0       0     0    0    1       1         0   0      0  ...   \n\n       última unidade  único  único descumprimento  único empreendimento  \\\n0                   0      0                     0                     0   \n1                   0      0                     0                     0   \n2                   0      0                     0                     0   \n3                   0      0                     0                     0   \n4                   0      0                     0                     0   \n...               ...    ...                   ...                   ...   \n71651               0      0                     0                     0   \n71654               0      1                     0                     0   \n71656               0      0                     0                     0   \n71659               0      1                     0                     0   \n71665               0      0                     0                     0   \n\n       único empreendimentos  único energia  único incisos  único montante  \\\n0                          0              0              0               0   \n1                          0              0              0               0   \n2                          0              0              0               0   \n3                          0              0              0               0   \n4                          0              0              0               0   \n...                      ...            ...            ...             ...   \n71651                      0              0              0               0   \n71654                      1              0              0               0   \n71656                      0              0              0               0   \n71659                      0              0              1               0   \n71665                      0              0              0               0   \n\n       único projeto  único revogação  \n0                  0                0  \n1                  0                0  \n2                  0                0  \n3                  0                0  \n4                  0                0  \n...              ...              ...  \n71651              0                0  \n71654              0                0  \n71656              0                0  \n71659              0                0  \n71665              0                0  \n\n[20399 rows x 2982 columns]",
      "text/html": "<div>\n<style scoped>\n    .dataframe tbody tr th:only-of-type {\n        vertical-align: middle;\n    }\n\n    .dataframe tbody tr th {\n        vertical-align: top;\n    }\n\n    .dataframe thead th {\n        text-align: right;\n    }\n</style>\n<table border=\"1\" class=\"dataframe\">\n  <thead>\n    <tr style=\"text-align: right;\">\n      <th></th>\n      <th>00</th>\n      <th>000</th>\n      <th>000 kw</th>\n      <th>0001</th>\n      <th>001</th>\n      <th>003</th>\n      <th>003 10</th>\n      <th>003 1996</th>\n      <th>01</th>\n      <th>01 12</th>\n      <th>...</th>\n      <th>última unidade</th>\n      <th>único</th>\n      <th>único descumprimento</th>\n      <th>único empreendimento</th>\n      <th>único empreendimentos</th>\n      <th>único energia</th>\n      <th>único incisos</th>\n      <th>único montante</th>\n      <th>único projeto</th>\n      <th>único revogação</th>\n    </tr>\n  </thead>\n  <tbody>\n    <tr>\n      <th>0</th>\n      <td>0</td>\n      <td>0</td>\n      <td>0</td>\n      <td>0</td>\n      <td>0</td>\n      <td>0</td>\n      <td>0</td>\n      <td>0</td>\n      <td>1</td>\n      <td>0</td>\n      <td>...</td>\n      <td>0</td>\n      <td>0</td>\n      <td>0</td>\n      <td>0</td>\n      <td>0</td>\n      <td>0</td>\n      <td>0</td>\n      <td>0</td>\n      <td>0</td>\n      <td>0</td>\n    </tr>\n    <tr>\n      <th>1</th>\n      <td>0</td>\n      <td>0</td>\n      <td>0</td>\n      <td>0</td>\n      <td>0</td>\n      <td>0</td>\n      <td>0</td>\n      <td>0</td>\n      <td>0</td>\n      <td>0</td>\n      <td>...</td>\n      <td>0</td>\n      <td>0</td>\n      <td>0</td>\n      <td>0</td>\n      <td>0</td>\n      <td>0</td>\n      <td>0</td>\n      <td>0</td>\n      <td>0</td>\n      <td>0</td>\n    </tr>\n    <tr>\n      <th>2</th>\n      <td>0</td>\n      <td>0</td>\n      <td>0</td>\n      <td>0</td>\n      <td>0</td>\n      <td>0</td>\n      <td>0</td>\n      <td>0</td>\n      <td>0</td>\n      <td>0</td>\n      <td>...</td>\n      <td>0</td>\n      <td>0</td>\n      <td>0</td>\n      <td>0</td>\n      <td>0</td>\n      <td>0</td>\n      <td>0</td>\n      <td>0</td>\n      <td>0</td>\n      <td>0</td>\n    </tr>\n    <tr>\n      <th>3</th>\n      <td>0</td>\n      <td>0</td>\n      <td>0</td>\n      <td>0</td>\n      <td>0</td>\n      <td>0</td>\n      <td>0</td>\n      <td>0</td>\n      <td>0</td>\n      <td>0</td>\n      <td>...</td>\n      <td>0</td>\n      <td>0</td>\n      <td>0</td>\n      <td>0</td>\n      <td>0</td>\n      <td>0</td>\n      <td>0</td>\n      <td>0</td>\n      <td>0</td>\n      <td>0</td>\n    </tr>\n    <tr>\n      <th>4</th>\n      <td>0</td>\n      <td>0</td>\n      <td>0</td>\n      <td>0</td>\n      <td>0</td>\n      <td>0</td>\n      <td>0</td>\n      <td>0</td>\n      <td>0</td>\n      <td>0</td>\n      <td>...</td>\n      <td>0</td>\n      <td>0</td>\n      <td>0</td>\n      <td>0</td>\n      <td>0</td>\n      <td>0</td>\n      <td>0</td>\n      <td>0</td>\n      <td>0</td>\n      <td>0</td>\n    </tr>\n    <tr>\n      <th>...</th>\n      <td>...</td>\n      <td>...</td>\n      <td>...</td>\n      <td>...</td>\n      <td>...</td>\n      <td>...</td>\n      <td>...</td>\n      <td>...</td>\n      <td>...</td>\n      <td>...</td>\n      <td>...</td>\n      <td>...</td>\n      <td>...</td>\n      <td>...</td>\n      <td>...</td>\n      <td>...</td>\n      <td>...</td>\n      <td>...</td>\n      <td>...</td>\n      <td>...</td>\n      <td>...</td>\n    </tr>\n    <tr>\n      <th>71651</th>\n      <td>0</td>\n      <td>0</td>\n      <td>0</td>\n      <td>0</td>\n      <td>0</td>\n      <td>0</td>\n      <td>0</td>\n      <td>0</td>\n      <td>0</td>\n      <td>0</td>\n      <td>...</td>\n      <td>0</td>\n      <td>0</td>\n      <td>0</td>\n      <td>0</td>\n      <td>0</td>\n      <td>0</td>\n      <td>0</td>\n      <td>0</td>\n      <td>0</td>\n      <td>0</td>\n    </tr>\n    <tr>\n      <th>71654</th>\n      <td>0</td>\n      <td>1</td>\n      <td>1</td>\n      <td>0</td>\n      <td>0</td>\n      <td>0</td>\n      <td>0</td>\n      <td>0</td>\n      <td>1</td>\n      <td>0</td>\n      <td>...</td>\n      <td>0</td>\n      <td>1</td>\n      <td>0</td>\n      <td>0</td>\n      <td>1</td>\n      <td>0</td>\n      <td>0</td>\n      <td>0</td>\n      <td>0</td>\n      <td>0</td>\n    </tr>\n    <tr>\n      <th>71656</th>\n      <td>0</td>\n      <td>0</td>\n      <td>0</td>\n      <td>0</td>\n      <td>0</td>\n      <td>0</td>\n      <td>0</td>\n      <td>0</td>\n      <td>0</td>\n      <td>0</td>\n      <td>...</td>\n      <td>0</td>\n      <td>0</td>\n      <td>0</td>\n      <td>0</td>\n      <td>0</td>\n      <td>0</td>\n      <td>0</td>\n      <td>0</td>\n      <td>0</td>\n      <td>0</td>\n    </tr>\n    <tr>\n      <th>71659</th>\n      <td>0</td>\n      <td>0</td>\n      <td>0</td>\n      <td>0</td>\n      <td>0</td>\n      <td>0</td>\n      <td>0</td>\n      <td>0</td>\n      <td>0</td>\n      <td>0</td>\n      <td>...</td>\n      <td>0</td>\n      <td>1</td>\n      <td>0</td>\n      <td>0</td>\n      <td>0</td>\n      <td>0</td>\n      <td>1</td>\n      <td>0</td>\n      <td>0</td>\n      <td>0</td>\n    </tr>\n    <tr>\n      <th>71665</th>\n      <td>0</td>\n      <td>0</td>\n      <td>0</td>\n      <td>0</td>\n      <td>0</td>\n      <td>1</td>\n      <td>1</td>\n      <td>0</td>\n      <td>0</td>\n      <td>0</td>\n      <td>...</td>\n      <td>0</td>\n      <td>0</td>\n      <td>0</td>\n      <td>0</td>\n      <td>0</td>\n      <td>0</td>\n      <td>0</td>\n      <td>0</td>\n      <td>0</td>\n      <td>0</td>\n    </tr>\n  </tbody>\n</table>\n<p>20399 rows × 2982 columns</p>\n</div>"
     },
     "metadata": {},
     "execution_count": 22
    }
   ],
   "source": [
    "import nltk\n",
    "\n",
    "nltk.download('stopwords')\n",
    "\n",
    "from sklearn.feature_extraction.text import CountVectorizer\n",
    "\n",
    "nltk_pt_stopwords = nltk.corpus.stopwords.words('portuguese')\n",
    "\n",
    "cv = CountVectorizer(stop_words=nltk_pt_stopwords, ngram_range = (1, 2), min_df = 0.01, max_df = 0.99)\n",
    "cv_informacao = cv.fit_transform(base_interesse['informacao'].values.tolist())\n",
    "mt_informacao = pd.DataFrame(cv_informacao.toarray(), columns=cv.get_feature_names())\n",
    "mt_informacao.index = base_interesse['informacao'].index\n",
    "mt_informacao"
   ]
  },
  {
   "source": [
    "### Guardando a informação para uso futuro na EAD"
   ],
   "cell_type": "markdown",
   "metadata": {}
  },
  {
   "cell_type": "code",
   "execution_count": 24,
   "metadata": {},
   "outputs": [],
   "source": [
    "import pickle\n",
    "\n",
    "# Matriz de termos\n",
    "mt_informacao.to_pickle('matrix_termos_base_interesse.pkl')\n",
    "\n",
    "# Base de interesse higienizada\n",
    "\n",
    "base_interesse.to_pickle('base_interesse_limpa.pkl')\n",
    "pickle.dump(cv_informacao, open('countvectorizer_base_interesse.pkl', 'wb'))\n"
   ]
  },
  {
   "cell_type": "code",
   "execution_count": null,
   "metadata": {},
   "outputs": [],
   "source": []
  }
 ]
}