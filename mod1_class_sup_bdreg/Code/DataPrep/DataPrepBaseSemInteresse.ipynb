{
 "metadata": {
  "language_info": {
   "codemirror_mode": {
    "name": "ipython",
    "version": 3
   },
   "file_extension": ".py",
   "mimetype": "text/x-python",
   "name": "python",
   "nbconvert_exporter": "python",
   "pygments_lexer": "ipython3",
   "version": "3.8.2-final"
  },
  "orig_nbformat": 2,
  "kernelspec": {
   "name": "python38264bitcodevenv7ce5c7b02a11492e84877e70da9e32b5",
   "display_name": "Python 3.8.2 64-bit ('Code': venv)"
  }
 },
 "nbformat": 4,
 "nbformat_minor": 2,
 "cells": [
  {
   "cell_type": "code",
   "execution_count": 12,
   "metadata": {},
   "outputs": [],
   "source": [
    "import pandas as pd\n",
    "\n",
    "pd.set_option('max_colwidth', 100)\n",
    "\n",
    "# Gerenciador OS\n",
    "import os, shutil\n",
    "\n",
    "import glob\n",
    "\n",
    "# Módulo gerenciador arquivos compactados\n",
    "import zipfile"
   ]
  },
  {
   "cell_type": "code",
   "execution_count": 13,
   "metadata": {
    "tags": [
     "outputPrepend"
    ]
   },
   "outputs": [
    {
     "output_type": "stream",
     "name": "stdout",
     "text": "                 2020-08-26 23:42:34         1515\n530_20200827_12889802.xml                      2020-08-26 23:42:36         1655\n530_20200827_12889803.xml                      2020-08-26 23:42:40         2676\n530_20200827_12889804.xml                      2020-08-26 23:43:36         2982\n530_20200827_12889805.xml                      2020-08-26 23:43:14         1950\n530_20200827_12889806.xml                      2020-08-26 23:42:36         1921\n530_20200827_12889807.xml                      2020-08-26 23:47:02         1448\n530_20200827_12889809.xml                      2020-08-26 23:46:58         1779\n530_20200827_12889810.xml                      2020-08-26 23:46:18         1514\n530_20200827_12889811.xml                      2020-08-26 23:46:58         2138\n530_20200827_12889812.xml                      2020-08-26 23:42:16         1853\n530_20200827_12889813.xml                      2020-08-26 23:37:16         2310\n530_20200827_12889815.xml                      2020-08-26 23:47:18         1671\n530_20200827_12889816.xml                      2020-08-26 23:40:46         2680\n530_20200827_12889826.xml                      2020-08-26 23:38:48         1453\n530_20200827_12889827.xml                      2020-08-26 23:35:32         1569\n530_20200827_12889828.xml                      2020-08-26 23:43:16         2093\n530_20200827_12889829.xml                      2020-08-26 23:44:04         1906\n530_20200827_12889831.xml                      2020-08-26 23:48:34         2775\n530_20200827_12889832.xml                      2020-08-26 23:48:34         1986\n530_20200827_12889833.xml                      2020-08-26 23:48:32         2038\n530_20200827_12889835.xml                      2020-08-26 23:43:32         2562\n530_20200827_12889836.xml                      2020-08-26 23:46:32         3087\n530_20200827_12889837.xml                      2020-08-26 23:47:44         1768\n530_20200827_12889838.xml                      2020-08-26 23:43:04         2260\n530_20200827_12889839.xml                      2020-08-26 23:42:54         1826\n530_20200827_12889840.xml                      2020-08-26 23:39:34         1585\n530_20200827_12889841.xml                      2020-08-26 23:36:38         1417\n530_20200827_12889842.xml                      2020-08-26 23:41:20         2624\n530_20200827_12889843.xml                      2020-08-26 23:37:26         2214\n530_20200827_12889844.xml                      2020-08-26 23:37:30         1746\n530_20200827_12889845.xml                      2020-08-26 23:37:26         2070\n530_20200827_12889846.xml                      2020-08-26 23:37:28         1834\n530_20200827_12889847.xml                      2020-08-26 23:37:26         1827\n530_20200827_12889848.xml                      2020-08-26 23:37:26         1889\n530_20200827_12889849.xml                      2020-08-26 23:37:32         2048\n530_20200827_12889850.xml                      2020-08-26 23:37:28         2015\n530_20200827_12889851.xml                      2020-08-26 23:37:32         1672\n530_20200827_12889852.xml                      2020-08-26 23:37:26         1706\n530_20200827_12889853.xml                      2020-08-26 23:42:24         2010\n530_20200827_12889854.xml                      2020-08-26 23:42:24         2001\n530_20200827_12889855.xml                      2020-08-26 23:43:04         2206\n530_20200827_12889859.xml                      2020-08-26 23:47:02         1772\n530_20200827_12889860.xml                      2020-08-26 23:43:12         2026\n530_20200827_12889868.xml                      2020-08-26 23:34:54         1493\n530_20200827_12889870.xml                      2020-08-26 23:36:24         1858\n530_20200827_12889871.xml                      2020-08-26 23:36:24         2095\n530_20200827_12889873.xml                      2020-08-26 23:33:36         1525\n530_20200827_12889874.xml                      2020-08-26 23:40:08         2764\n530_20200827_12889875.xml                      2020-08-26 23:42:24         1572\n530_20200827_12889876.xml                      2020-08-26 23:42:56         3112\n530_20200827_12889877.xml                      2020-08-26 23:35:54         1732\n530_20200827_12889880.xml                      2020-08-26 23:38:44         1985\n530_20200827_12889882.xml                      2020-08-26 23:32:48         1502\n530_20200827_12889883.xml                      2020-08-26 23:34:54         1457\n530_20200827_12889885.xml                      2020-08-26 23:37:06         1580\n530_20200827_12889886.xml                      2020-08-26 23:42:56         2309\n530_20200827_12889887.xml                      2020-08-26 23:42:58         2066\n530_20200827_12889888.xml                      2020-08-26 23:43:00         1608\n530_20200827_12889889.xml                      2020-08-26 23:43:04         2127\n530_20200827_12889890.xml                      2020-08-26 23:43:00         5426\n530_20200827_12889892.xml                      2020-08-26 23:37:06         1684\n530_20200827_12889896.xml                      2020-08-26 23:33:36         1982\n530_20200827_12889898.xml                      2020-08-26 23:47:54         1672\n530_20200827_12889899.xml                      2020-08-26 23:47:54         1562\n530_20200827_12889900.xml                      2020-08-26 23:42:14         1993\n530_20200827_12889901.xml                      2020-08-26 23:33:36         1593\n530_20200827_12889902.xml                      2020-08-26 23:44:40         3134\n530_20200827_12889903.xml                      2020-08-26 23:35:08         2001\n530_20200827_12889904.xml                      2020-08-26 23:41:04         1837\n530_20200827_12889905.xml                      2020-08-26 23:45:44         1432\n530_20200827_12889906.xml                      2020-08-26 23:40:16         1384\n530_20200827_12889909.xml                      2020-08-26 23:48:38         1821\n530_20200827_12889910.xml                      2020-08-26 23:48:38         1549\n530_20200827_12889918.xml                      2020-08-26 23:48:20         2323\n530_20200827_12889919.xml                      2020-08-26 23:48:48         1924\n530_20200827_12889920.xml                      2020-08-26 23:48:38         1643\n530_20200827_12889921.xml                      2020-08-26 23:48:38         1829\n530_20200827_12889929.xml                      2020-08-26 23:35:08         1724\n530_20200827_12889947.xml                      2020-08-26 23:42:46         2242\n530_20200827_12889949.xml                      2020-08-26 23:47:28         1187\n530_20200827_12889951.xml                      2020-08-26 23:48:26         1457\n530_20200827_12889953.xml                      2020-08-26 23:42:46         2045\n530_20200827_12889955.xml                      2020-08-26 23:42:46         2226\n530_20200827_12889958.xml                      2020-08-26 23:42:46         2586\n530_20200827_12889960.xml                      2020-08-26 23:42:44         1298\n530_20200827_12889962.xml                      2020-08-26 23:42:46         1444\n530_20200827_12889963.xml                      2020-08-26 23:39:56         1475\n530_20200827_12889964.xml                      2020-08-26 23:39:56         2462\n530_20200827_12889965.xml                      2020-08-26 23:46:52         2433\n530_20200827_12889966.xml                      2020-08-26 23:37:02         3703\n530_20200827_12889967.xml                      2020-08-26 23:33:36         1192\n530_20200827_12889968.xml                      2020-08-26 23:43:30         1903\n530_20200827_12889969.xml                      2020-08-26 23:43:28         1534\n530_20200827_12889970.xml                      2020-08-26 23:43:28         1725\n530_20200827_12889971.xml                      2020-08-26 23:43:28         1408\n530_20200827_12889972.xml                      2020-08-26 23:41:20         1905\n530_20200827_12889974.xml                      2020-08-26 23:33:36         1174\n530_20200827_12889978.xml                      2020-08-26 23:40:20         1999\n530_20200827_12889983.xml                      2020-08-26 23:34:28         1353\n530_20200827_12889984.xml                      2020-08-26 23:34:30         1356\n530_20200827_12889985.xml                      2020-08-26 23:34:26         1343\n530_20200827_12889986.xml                      2020-08-26 23:34:30         1361\n530_20200827_12889987.xml                      2020-08-26 23:34:28         1361\n530_20200827_12889988.xml                      2020-08-26 23:34:24         1361\n530_20200827_12889989.xml                      2020-08-26 23:34:28         1361\n530_20200827_12889995.xml                      2020-08-26 23:47:54         1540\n530_20200827_12889996.xml                      2020-08-26 23:47:54         1480\n530_20200827_12889998.xml                      2020-08-26 23:48:28         2148\n530_20200827_12889999.xml                      2020-08-26 23:32:58         1689\n530_20200827_12890001.xml                      2020-08-26 23:33:36         1179\n530_20200827_12890003.xml                      2020-08-26 23:43:12         2394\n530_20200827_12890020.xml                      2020-08-26 23:40:24        15373\n530_20200827_12890021.xml                      2020-08-26 23:42:52         2078\n530_20200827_12890023.xml                      2020-08-26 23:42:56         1985\n530_20200827_12890024.xml                      2020-08-26 23:43:02         1417\n530_20200827_12890025.xml                      2020-08-26 23:43:06         2154\n530_20200827_12890026.xml                      2020-08-26 23:43:02         2054\n530_20200827_12890027.xml                      2020-08-26 23:42:56         1873\n530_20200827_12890028.xml                      2020-08-26 23:42:56         1903\n530_20200827_12890029.xml                      2020-08-26 23:40:04         1333\n530_20200827_12890030.xml                      2020-08-26 23:35:22         1246\n530_20200827_12890031.xml                      2020-08-26 23:43:50         1197\n530_20200827_12890032.xml                      2020-08-26 23:43:56        10170\n530_20200827_12890033.xml                      2020-08-26 23:43:56         1573\n530_20200827_12890034.xml                      2020-08-26 23:43:54         1478\n530_20200827_12890035.xml                      2020-08-26 23:43:50         1823\n530_20200827_12890036.xml                      2020-08-26 23:43:50         3672\n530_20200827_12890037.xml                      2020-08-26 23:43:54         1548\n530_20200827_12890038.xml                      2020-08-26 23:43:52         1559\n530_20200827_12890039.xml                      2020-08-26 23:43:54         1282\n530_20200827_12890044.xml                      2020-08-26 23:35:56         1320\n530_20200827_12890045.xml                      2020-08-26 23:35:56         1488\n530_20200827_12890048.xml                      2020-08-26 23:42:24         1857\n530_20200827_12890054.xml                      2020-08-26 23:43:22         2060\n530_20200827_12890055.xml                      2020-08-26 23:43:24         2244\n530_20200827_12890056.xml                      2020-08-26 23:43:20         2169\n530_20200827_12890057.xml                      2020-08-26 23:43:20         1939\n530_20200827_12890058.xml                      2020-08-26 23:43:20         2093\n530_20200827_12890060.xml                      2020-08-26 23:43:52         1488\n530_20200827_12890061.xml                      2020-08-26 23:43:52         2415\n530_20200827_12890062.xml                      2020-08-26 23:43:54         2641\n530_20200827_12890063.xml                      2020-08-26 23:42:24         1868\n530_20200827_12890064.xml                      2020-08-26 23:32:52         1320\n530_20200827_12890068.xml                      2020-08-26 23:32:52         1559\n530_20200827_12890070.xml                      2020-08-26 23:41:58         1894\n530_20200827_12890071.xml                      2020-08-26 23:42:00         1973\n530_20200827_12890072.xml                      2020-08-26 23:41:52         1749\n530_20200827_12890073.xml                      2020-08-26 23:41:56         1656\n530_20200827_12890074.xml                      2020-08-26 23:38:56         2552\n530_20200827_12890075.xml                      2020-08-26 23:38:56         2020\n530_20200827_12890076.xml                      2020-08-26 23:38:56         1750\n530_20200827_12890077.xml                      2020-08-26 23:38:54         2014\n530_20200827_12890079.xml                      2020-08-26 23:34:58         1252\n530_20200827_12890088.xml                      2020-08-26 23:36:24         2695\n530_20200827_12890089.xml                      2020-08-26 23:36:58         2412\n530_20200827_12890090.xml                      2020-08-26 23:36:58         2986\n530_20200827_12890091.xml                      2020-08-26 23:36:56         2518\n530_20200827_12890092.xml                      2020-08-26 23:36:58         2576\n530_20200827_12890093.xml                      2020-08-26 23:36:56         3144\n530_20200827_12890094.xml                      2020-08-26 23:36:58         2467\n530_20200827_12890100.xml                      2020-08-26 23:46:00         1800\n530_20200827_12890101.xml                      2020-08-26 23:46:00         1905\n530_20200827_12890102.xml                      2020-08-26 23:46:00         1233\n530_20200827_12890103.xml                      2020-08-26 23:46:04         1665\n530_20200827_12890104.xml                      2020-08-26 23:46:08         4495\n530_20200827_12890105.xml                      2020-08-26 23:46:14         1411\n530_20200827_12890106.xml                      2020-08-26 23:46:14         1963\n530_20200827_12890107.xml                      2020-08-26 23:46:18         2569\n530_20200827_12890110.xml                      2020-08-26 23:47:02         1697\n530_20200827_12890111.xml                      2020-08-26 23:45:48         1786\n530_20200827_12890112.xml                      2020-08-26 23:43:24         1904\n530_20200827_12890113.xml                      2020-08-26 23:43:24         1938\n530_20200827_12890114.xml                      2020-08-26 23:43:24         2114\n530_20200827_12890115.xml                      2020-08-26 23:43:24         2367\n530_20200827_12890116.xml                      2020-08-26 23:43:24         1999\n530_20200827_12890117.xml                      2020-08-26 23:42:36         1551\n530_20200827_12890118.xml                      2020-08-26 23:47:58         2452\n530_20200827_12890120.xml                      2020-08-26 23:34:58         1290\n530_20200827_12890121.xml                      2020-08-26 23:42:58         2791\n530_20200827_12890122.xml                      2020-08-26 23:46:06         1830\n530_20200827_12890128.xml                      2020-08-26 23:48:34         1802\n530_20200827_12890130.xml                      2020-08-26 23:48:44         2304\n530_20200827_12890131.xml                      2020-08-26 23:39:34         2694\n530_20200827_12890141.xml                      2020-08-26 23:45:50         1604\n530_20200827_12890143.xml                      2020-08-26 23:43:16         3672\n530_20200827_12890149.xml                      2020-08-26 23:44:12        32354\n530_20200827_12890150.xml                      2020-08-26 23:47:48         1708\n530_20200827_12890153.xml                      2020-08-26 23:33:14         2045\n530_20200827_12890155.xml                      2020-08-26 23:34:48         1611\n530_20200827_12890156.xml                      2020-08-26 23:34:54         1984\n530_20200827_12890161.xml                      2020-08-26 23:33:18         2401\n530_20200827_12890162.xml                      2020-08-26 23:33:18         2570\n530_20200827_12890163.xml                      2020-08-26 23:47:32         1943\n530_20200827_12890164.xml                      2020-08-26 23:48:22         1818\n530_20200827_12890165.xml                      2020-08-26 23:46:42         2196\n530_20200827_12890166.xml                      2020-08-26 23:48:24         2103\n530_20200827_12890167.xml                      2020-08-26 23:48:34         1798\n530_20200827_12890168.xml                      2020-08-26 23:46:22         1697\n530_20200827_12890169.xml                      2020-08-26 23:44:44         2141\n530_20200827_12890170.xml                      2020-08-26 23:44:44         1542\n530_20200827_12890171.xml                      2020-08-26 23:44:44         1686\n530_20200827_12890183.xml                      2020-08-26 23:35:12         1975\n530_20200827_12890185.xml                      2020-08-26 23:35:26         1660\n530_20200827_12890186.xml                      2020-08-26 23:35:26         1501\n530_20200827_12890200.xml                      2020-08-26 23:39:42         2604\n530_20200827_12890201.xml                      2020-08-26 23:39:42         2529\n530_20200827_12890204.xml                      2020-08-26 23:38:56         2673\n530_20200827_12890207.xml                      2020-08-26 23:35:16         1665\n530_20200827_12890208.xml                      2020-08-26 23:48:06         2164\n530_20200827_12890212.xml                      2020-08-26 23:33:26         1849\n530_20200827_12890213.xml                      2020-08-26 23:34:36         1700\n530_20200827_12890214.xml                      2020-08-26 23:33:02         2952\n530_20200827_12890218.xml                      2020-08-26 23:42:32         2255\n530_20200827_12890219.xml                      2020-08-26 23:35:32         1916\n530_20200827_12890221.xml                      2020-08-26 23:38:48         1378\n530_20200827_12890222.xml                      2020-08-26 23:48:06         1838\n530_20200827_12890224.xml                      2020-08-26 23:34:48         1365\n530_20200827_12890225.xml                      2020-08-26 23:34:50         1712\n530_20200827_12890239.xml                      2020-08-26 23:42:26         3370\n530_20200827_12890240.xml                      2020-08-26 23:35:36         1623\n530_20200827_12890241.xml                      2020-08-26 23:35:36         1616\n530_20200827_12890242.xml                      2020-08-26 23:35:32         1974\n530_20200827_12890243.xml                      2020-08-26 23:35:36         1619\n530_20200827_12890244.xml                      2020-08-26 23:35:36         1558\n530_20200827_12890245.xml                      2020-08-26 23:35:36         1670\n530_20200827_12890248.xml                      2020-08-26 23:35:16         2668\n530_20200827_12890249.xml                      2020-08-26 23:35:16         1562\n530_20200827_12890250.xml                      2020-08-26 23:35:16         1606\n530_20200827_12890263.xml                      2020-08-26 23:33:36         1593\n530_20200827_12890264.xml                      2020-08-26 23:46:52         2516\n530_20200827_12890273.xml                      2020-08-26 23:38:58         1613\n530_20200827_12890274.xml                      2020-08-26 23:39:12        30762\n530_20200827_12890278.xml                      2020-08-26 23:44:24         1692\n530_20200827_12890279.xml                      2020-08-26 23:42:28         2166\n530_20200827_12890280.xml                      2020-08-26 23:42:26         2350\n530_20200827_12890281.xml                      2020-08-26 23:42:26         2032\n530_20200827_12890282.xml                      2020-08-26 23:42:26         3273\n530_20200827_12890283.xml                      2020-08-26 23:42:26         2599\n530_20200827_12890290.xml                      2020-08-26 23:38:58         1616\n530_20200827_12890291.xml                      2020-08-26 23:48:30         2501\n530_20200827_12890292.xml                      2020-08-26 23:48:30         3264\n530_20200827_12890293.xml                      2020-08-26 23:35:04         1382\n530_20200827_12890298.xml                      2020-08-26 23:46:28         3914\n530_20200827_12890300.xml                      2020-08-26 23:42:26         2310\n530_20200827_12890301.xml                      2020-08-26 23:42:28         1581\n530_20200827_12890302.xml                      2020-08-26 23:42:28         2299\n530_20200827_12890303.xml                      2020-08-26 23:42:28         2711\n530_20200827_12890304.xml                      2020-08-26 23:34:30         1879\n530_20200827_12890305.xml                      2020-08-26 23:34:30         1580\nExtraindo arquivos...\nFeito!\n\n"
    }
   ],
   "source": [
    "path_raw = '../../Data/Raw/'\n",
    "path_processed = '../../Data/Processed/'\n",
    "\n",
    "#Garantir diretório de processamento vazio\n",
    "for filename in os.listdir(path_processed):\n",
    "    file_path = os.path.join(path_processed, filename)\n",
    "    try:\n",
    "        if os.path.isfile(file_path) or os.path.islink(file_path):\n",
    "            os.unlink(file_path)\n",
    "        elif os.path.isdir(file_path):\n",
    "            shutil.rmtree(file_path)\n",
    "    except Exception as e:\n",
    "        print('Falha ao apagar %s. Razão: %s' % (file_path, e))\n",
    "\n",
    "print(\"Extraindo arquivos xml...\")\n",
    "print()\n",
    "\n",
    "# Iniciando a extração\n",
    "zip_files = [f for f in glob.glob(\"\".join([path_raw,\"*.zip\"]), recursive=False)]\n",
    "\n",
    "for file_file in zip_files:\n",
    "    with zipfile.ZipFile(file_file, 'r') as zip: \n",
    "        # Imprimir conteúdo do ZIP\n",
    "        zip.printdir() \n",
    "        # Extraindo o ZIP \n",
    "        print('Extraindo arquivos...') \n",
    "        zip.extractall(path = path_processed)\n",
    "print('Feito!')\n",
    "print()"
   ]
  },
  {
   "cell_type": "code",
   "execution_count": 14,
   "metadata": {
    "tags": []
   },
   "outputs": [],
   "source": [
    "import bs4\n",
    "import lxml\n",
    "from datetime import datetime \n",
    "\n",
    "categoria_interesse = ['Atos do Congresso Nacional'\n",
    "                      ,'Atos do Poder Executivo'\n",
    "                      ,'Presidência da República'\n",
    "                      ,'Ministério do Desenvolvimento Regional'\n",
    "                      ,'Ministério de Minas e Energia'\n",
    "                      ,'Ministério do Meio Ambiente'] \n",
    "\n",
    "conteudo = []\n",
    "insumos_dou = []\n",
    "\n",
    "# Todos os arquivos extraídos\n",
    "xml_files = [f for f in glob.glob(\"\".join([path_processed, \"*.xml\"]), recursive=False)]\n",
    "\n",
    "# Processa cada arquivo\n",
    "for file in xml_files:\n",
    "        \n",
    "    # Read the XML file\n",
    "    with open(\"\".join([path_processed, file]), \"r\", encoding='utf-8') as file:\n",
    "        # Lê cada arquivo, retorna uma lista de linhas\n",
    "        conteudo = file.readlines()\n",
    "        \n",
    "        # Combina linha em string\n",
    "        conteudo = \"\".join(conteudo)\n",
    "\n",
    "        # html.parser sendo utilizado, pois lxml retira informações CDATA\n",
    "        bs_conteudo = bs4.BeautifulSoup(conteudo, \"html.parser\")\n",
    "\n",
    "        #Separar artcategory de interesse\n",
    "        bs_artcategory = bs_conteudo.find(\"article\").get(\"artcategory\")\n",
    "           \n",
    "        e_interesse = [categoria in bs_artcategory for categoria in categoria_interesse]\n",
    "        \n",
    "        # Verifica se categoria não é de interesse no texto\n",
    "        if False in e_interesse:\n",
    "            \n",
    "            id = bs_conteudo.find(\"article\").get(\"id\")\n",
    "            objeto = bs_conteudo.identifica.string if bs_conteudo.identifica.string else ''\n",
    "            origem = bs_conteudo.find(\"article\").get(\"pubname\")\n",
    "            data_publicacao = datetime.strptime(bs_conteudo.find(\"article\").get(\"pubdate\"), '%d/%m/%Y').strftime(\"%Y-%m-%d %H:%M:%S\")\n",
    "            informacao = bs_conteudo.texto.string if bs_conteudo.texto.string else ''\n",
    "            data_inclusao = datetime.now().strftime(\"%Y-%m-%d %H:%M:%S\")\n",
    "\n",
    "            # print('nome: ', bs_nome)\n",
    "            # print('secao: ', bs_secao)\n",
    "            # print('datap: ' + str(bs_data_publicacao))\n",
    "            # print('categ: '+ bs_artcategory)\n",
    "            # print('pag: '+ bs_num_pagina)\n",
    "            # print('url: ' + bs_url_pdf)\n",
    "            # print('idmateria: '+ bs_id_materia)\n",
    "            # print('num_edicao: '+ bs_num_edicao)\n",
    "            # print('texto: '+origem)\n",
    "            # print('objeto: '+ objeto)\n",
    "            # print('ementa: '+ informacao)\n",
    "            \n",
    "            insumo = (id, objeto, origem, data_publicacao, informacao, data_inclusao)\n",
    "            \n",
    "            insumos_dou.append(insumo)"
   ]
  },
  {
   "cell_type": "code",
   "execution_count": 15,
   "metadata": {},
   "outputs": [],
   "source": [
    "# create DataFrame using data \n",
    "base_sem_interesse = pd.DataFrame(insumos_dou, columns =['id', 'objeto','origem','data_publicacao','informacao','data_inclusao']) "
   ]
  },
  {
   "cell_type": "code",
   "execution_count": 16,
   "metadata": {},
   "outputs": [
    {
     "output_type": "execute_result",
     "data": {
      "text/plain": "         id                                          objeto origem  \\\n0  15943207                AVISOs DE DISPENSAs DE LICITAÇÃO    DO3   \n1  16044513               PORTARIAS DE 24 DE AGOSTO DE 2020    DO2   \n2  16057413    EXTRATO DE CONTRATO Nº 26/2020 - UASG 150182    DO3   \n3  16004412  aviso de alteração Pregão Eletrônico nº 6/2020    DO3   \n4  16062398                        EXTRATO DE TERMO ADITIVO    DO3   \n\n       data_publicacao  \\\n0  2020-08-25 00:00:00   \n1  2020-09-01 00:00:00   \n2  2020-09-01 00:00:00   \n3  2020-08-28 00:00:00   \n4  2020-09-01 00:00:00   \n\n                                                                                            informacao  \\\n0  <p class=\"identifica\">AVISOs DE DISPENSAs DE LICITAÇÃO</p><p>ÓRGÃO: Prefeitura Municipal de Pres...   \n1  <p class=\"identifica\">PORTARIAS DE 24 DE AGOSTO DE 2020</p><p><strong>O DIRETOR-GERAL DA AGÊNCIA...   \n2  <p class=\"identifica\">EXTRATO DE CONTRATO Nº 26/2020 - UASG 150182</p><p>Nº Processo: 2306915365...   \n3  <p class=\"identifica\">aviso de alteração Pregão Eletrônico nº 6/2020</p><p>O município de Guaran...   \n4  <p class=\"identifica\">EXTRATO DE TERMO ADITIVO</p><p>Processo TST nº 503.525/2019-4. Centro Clín...   \n\n         data_inclusao  \n0  2020-09-12 16:41:30  \n1  2020-09-12 16:41:30  \n2  2020-09-12 16:41:30  \n3  2020-09-12 16:41:30  \n4  2020-09-12 16:41:30  ",
      "text/html": "<div>\n<style scoped>\n    .dataframe tbody tr th:only-of-type {\n        vertical-align: middle;\n    }\n\n    .dataframe tbody tr th {\n        vertical-align: top;\n    }\n\n    .dataframe thead th {\n        text-align: right;\n    }\n</style>\n<table border=\"1\" class=\"dataframe\">\n  <thead>\n    <tr style=\"text-align: right;\">\n      <th></th>\n      <th>id</th>\n      <th>objeto</th>\n      <th>origem</th>\n      <th>data_publicacao</th>\n      <th>informacao</th>\n      <th>data_inclusao</th>\n    </tr>\n  </thead>\n  <tbody>\n    <tr>\n      <th>0</th>\n      <td>15943207</td>\n      <td>AVISOs DE DISPENSAs DE LICITAÇÃO</td>\n      <td>DO3</td>\n      <td>2020-08-25 00:00:00</td>\n      <td>&lt;p class=\"identifica\"&gt;AVISOs DE DISPENSAs DE LICITAÇÃO&lt;/p&gt;&lt;p&gt;ÓRGÃO: Prefeitura Municipal de Pres...</td>\n      <td>2020-09-12 16:41:30</td>\n    </tr>\n    <tr>\n      <th>1</th>\n      <td>16044513</td>\n      <td>PORTARIAS DE 24 DE AGOSTO DE 2020</td>\n      <td>DO2</td>\n      <td>2020-09-01 00:00:00</td>\n      <td>&lt;p class=\"identifica\"&gt;PORTARIAS DE 24 DE AGOSTO DE 2020&lt;/p&gt;&lt;p&gt;&lt;strong&gt;O DIRETOR-GERAL DA AGÊNCIA...</td>\n      <td>2020-09-12 16:41:30</td>\n    </tr>\n    <tr>\n      <th>2</th>\n      <td>16057413</td>\n      <td>EXTRATO DE CONTRATO Nº 26/2020 - UASG 150182</td>\n      <td>DO3</td>\n      <td>2020-09-01 00:00:00</td>\n      <td>&lt;p class=\"identifica\"&gt;EXTRATO DE CONTRATO Nº 26/2020 - UASG 150182&lt;/p&gt;&lt;p&gt;Nº Processo: 2306915365...</td>\n      <td>2020-09-12 16:41:30</td>\n    </tr>\n    <tr>\n      <th>3</th>\n      <td>16004412</td>\n      <td>aviso de alteração Pregão Eletrônico nº 6/2020</td>\n      <td>DO3</td>\n      <td>2020-08-28 00:00:00</td>\n      <td>&lt;p class=\"identifica\"&gt;aviso de alteração Pregão Eletrônico nº 6/2020&lt;/p&gt;&lt;p&gt;O município de Guaran...</td>\n      <td>2020-09-12 16:41:30</td>\n    </tr>\n    <tr>\n      <th>4</th>\n      <td>16062398</td>\n      <td>EXTRATO DE TERMO ADITIVO</td>\n      <td>DO3</td>\n      <td>2020-09-01 00:00:00</td>\n      <td>&lt;p class=\"identifica\"&gt;EXTRATO DE TERMO ADITIVO&lt;/p&gt;&lt;p&gt;Processo TST nº 503.525/2019-4. Centro Clín...</td>\n      <td>2020-09-12 16:41:30</td>\n    </tr>\n  </tbody>\n</table>\n</div>"
     },
     "metadata": {},
     "execution_count": 16
    }
   ],
   "source": [
    "base_sem_interesse.head(5)"
   ]
  },
  {
   "cell_type": "code",
   "execution_count": 17,
   "metadata": {
    "tags": []
   },
   "outputs": [
    {
     "output_type": "stream",
     "name": "stdout",
     "text": "<class 'pandas.core.frame.DataFrame'>\nRangeIndex: 23649 entries, 0 to 23648\nData columns (total 6 columns):\n #   Column           Non-Null Count  Dtype \n---  ------           --------------  ----- \n 0   id               23649 non-null  object\n 1   objeto           23649 non-null  object\n 2   origem           23649 non-null  object\n 3   data_publicacao  23649 non-null  object\n 4   informacao       23649 non-null  object\n 5   data_inclusao    23649 non-null  object\ndtypes: object(6)\nmemory usage: 1.1+ MB\n"
    }
   ],
   "source": [
    "base_sem_interesse.info()"
   ]
  },
  {
   "cell_type": "code",
   "execution_count": 18,
   "metadata": {},
   "outputs": [],
   "source": [
    "# Retira linhas vazias que não tenham a feature informação\n",
    "base_sem_interesse.dropna(subset=['informacao'],inplace=True)"
   ]
  },
  {
   "cell_type": "code",
   "execution_count": 19,
   "metadata": {
    "tags": []
   },
   "outputs": [
    {
     "output_type": "stream",
     "name": "stdout",
     "text": "<class 'pandas.core.frame.DataFrame'>\nInt64Index: 23649 entries, 0 to 23648\nData columns (total 6 columns):\n #   Column           Non-Null Count  Dtype \n---  ------           --------------  ----- \n 0   id               23649 non-null  object\n 1   objeto           23649 non-null  object\n 2   origem           23649 non-null  object\n 3   data_publicacao  23649 non-null  object\n 4   informacao       23649 non-null  object\n 5   data_inclusao    23649 non-null  object\ndtypes: object(6)\nmemory usage: 1.3+ MB\n"
    }
   ],
   "source": [
    "base_sem_interesse.info()\n"
   ]
  },
  {
   "cell_type": "code",
   "execution_count": 20,
   "metadata": {},
   "outputs": [],
   "source": [
    "# Realiza decode de html. Ex.: Troca &Ccedil; por Ç\n",
    "import html\n",
    "\n",
    "base_sem_interesse = base_sem_interesse.fillna(\"\").applymap(html.unescape)"
   ]
  },
  {
   "cell_type": "code",
   "execution_count": 21,
   "metadata": {},
   "outputs": [
    {
     "output_type": "execute_result",
     "data": {
      "text/plain": "0        <p class=\"identifica\">AVISOs DE DISPENSAs DE LICITAÇÃO</p><p>ÓRGÃO: Prefeitura Municipal de Pres...\n1        <p class=\"identifica\">PORTARIAS DE 24 DE AGOSTO DE 2020</p><p><strong>O DIRETOR-GERAL DA AGÊNCIA...\n2        <p class=\"identifica\">EXTRATO DE CONTRATO Nº 26/2020 - UASG 150182</p><p>Nº Processo: 2306915365...\n3        <p class=\"identifica\">aviso de alteração Pregão Eletrônico nº 6/2020</p><p>O município de Guaran...\n4        <p class=\"identifica\">EXTRATO DE TERMO ADITIVO</p><p>Processo TST nº 503.525/2019-4. Centro Clín...\n                                                        ...                                                 \n23644    <p class=\"identifica\">PORTARIA Nº 19.755, DE 24 DE AGOSTO DE 2020</p><p>O COORDENADOR-GERAL DE B...\n23645    <p class=\"identifica\">AVISO DE LICITAÇÃO Nº 7003210032</p><p>Objeto: Suporte às atividades de pr...\n23646    <p class=\"identifica\">Aviso de Licitação Tomada de Preços nº 7/2020</p><p>Torna público Processo...\n23647    <p class=\"identifica\">EDITAL Nº 58, DE 21 DE AGOSTO DE 2020</p><p class=\"identifica\">RETIFICAÇÃO...\n23648    <p class=\"identifica\">DESPACHO DE 26 DE AGOSTO DE 2020</p><p>Dispensa Eletrônica nº 029/2020.</p...\nName: informacao, Length: 23649, dtype: object"
     },
     "metadata": {},
     "execution_count": 21
    }
   ],
   "source": [
    "base_sem_interesse['informacao']"
   ]
  },
  {
   "cell_type": "code",
   "execution_count": 22,
   "metadata": {
    "tags": []
   },
   "outputs": [
    {
     "output_type": "stream",
     "name": "stdout",
     "text": "Retiradas tags HTML\n"
    }
   ],
   "source": [
    "# Limpeza de tags HTML. Foi verificado que a partir de um certo momento os texto foram gravados com as tags HTML, provavelmente para facilitar a formatação no momento de visualização\n",
    "\n",
    "from bleach.sanitizer import Cleaner\n",
    "\n",
    "cleaner = Cleaner(tags=[], attributes={}, styles=[], protocols=[], strip=True, strip_comments=True, filters=None)\n",
    "\n",
    "# Retira todas as tags html do texto do DOU\n",
    "base_sem_interesse['informacao'] = base_sem_interesse['informacao'].apply(lambda x: cleaner.clean(x))\n",
    "\n",
    "print(\"Retiradas tags HTML\")"
   ]
  },
  {
   "cell_type": "code",
   "execution_count": 51,
   "metadata": {},
   "outputs": [
    {
     "output_type": "execute_result",
     "data": {
      "text/plain": "             id                                                  objeto  \\\n26944  16035432                        AVISO DE LICITAÇÃO Nº 7003210032   \n26945  16090870   AVISO DE PRORROGAÇÃO PREGÃO ELETRÔNICO SRP Nº 10/2020   \n26946  15982942          Aviso de Licitação Tomada de Preços nº 7/2020    \n26947  15931086                  EDITAL  Nº 58, DE 21 DE AGOSTO DE 2020   \n26948  16009580                        DESPACHO DE 26 DE AGOSTO DE 2020   \n\n      origem      data_publicacao  \\\n26944    DO3  2020-08-31 00:00:00   \n26945    DO3  2020-09-03 00:00:00   \n26946    DO3  2020-08-27 00:00:00   \n26947    DO3  2020-08-24 00:00:00   \n26948    DO3  2020-08-28 00:00:00   \n\n                                                                                                informacao  \\\n26944  AVISO DE LICITAÇÃO Nº 7003210032Objeto: Suporte às atividades de projeto e gestão da produçãoAbe...   \n26945  AVISO DE PRORROGAÇÃO PREGÃO ELETRÔNICO SRP Nº 10/2020OBJETO: REGISTRO DE PREÇO PARA EVENTUAL AQU...   \n26946  Aviso de Licitação Tomada de Preços nº 7/2020Torna público Processo nº 035/2020 - Tomada de Preç...   \n26947  EDITAL Nº 58, DE 21 DE AGOSTO DE 2020RETIFICAÇÃO DO EDITAL DE HOMOLOGAÇÃO DE RESULTADO FINAL Nº ...   \n26948  DESPACHO DE 26 DE AGOSTO DE 2020Dispensa Eletrônica nº 029/2020.Objeto: aquisição de EPI. Assunt...   \n\n             data_inclusao  \n26944  2020-09-06 18:49:03  \n26945  2020-09-06 18:49:03  \n26946  2020-09-06 18:49:03  \n26947  2020-09-06 18:49:03  \n26948  2020-09-06 18:49:03  ",
      "text/html": "<div>\n<style scoped>\n    .dataframe tbody tr th:only-of-type {\n        vertical-align: middle;\n    }\n\n    .dataframe tbody tr th {\n        vertical-align: top;\n    }\n\n    .dataframe thead th {\n        text-align: right;\n    }\n</style>\n<table border=\"1\" class=\"dataframe\">\n  <thead>\n    <tr style=\"text-align: right;\">\n      <th></th>\n      <th>id</th>\n      <th>objeto</th>\n      <th>origem</th>\n      <th>data_publicacao</th>\n      <th>informacao</th>\n      <th>data_inclusao</th>\n    </tr>\n  </thead>\n  <tbody>\n    <tr>\n      <th>26944</th>\n      <td>16035432</td>\n      <td>AVISO DE LICITAÇÃO Nº 7003210032</td>\n      <td>DO3</td>\n      <td>2020-08-31 00:00:00</td>\n      <td>AVISO DE LICITAÇÃO Nº 7003210032Objeto: Suporte às atividades de projeto e gestão da produçãoAbe...</td>\n      <td>2020-09-06 18:49:03</td>\n    </tr>\n    <tr>\n      <th>26945</th>\n      <td>16090870</td>\n      <td>AVISO DE PRORROGAÇÃO PREGÃO ELETRÔNICO SRP Nº 10/2020</td>\n      <td>DO3</td>\n      <td>2020-09-03 00:00:00</td>\n      <td>AVISO DE PRORROGAÇÃO PREGÃO ELETRÔNICO SRP Nº 10/2020OBJETO: REGISTRO DE PREÇO PARA EVENTUAL AQU...</td>\n      <td>2020-09-06 18:49:03</td>\n    </tr>\n    <tr>\n      <th>26946</th>\n      <td>15982942</td>\n      <td>Aviso de Licitação Tomada de Preços nº 7/2020</td>\n      <td>DO3</td>\n      <td>2020-08-27 00:00:00</td>\n      <td>Aviso de Licitação Tomada de Preços nº 7/2020Torna público Processo nº 035/2020 - Tomada de Preç...</td>\n      <td>2020-09-06 18:49:03</td>\n    </tr>\n    <tr>\n      <th>26947</th>\n      <td>15931086</td>\n      <td>EDITAL  Nº 58, DE 21 DE AGOSTO DE 2020</td>\n      <td>DO3</td>\n      <td>2020-08-24 00:00:00</td>\n      <td>EDITAL Nº 58, DE 21 DE AGOSTO DE 2020RETIFICAÇÃO DO EDITAL DE HOMOLOGAÇÃO DE RESULTADO FINAL Nº ...</td>\n      <td>2020-09-06 18:49:03</td>\n    </tr>\n    <tr>\n      <th>26948</th>\n      <td>16009580</td>\n      <td>DESPACHO DE 26 DE AGOSTO DE 2020</td>\n      <td>DO3</td>\n      <td>2020-08-28 00:00:00</td>\n      <td>DESPACHO DE 26 DE AGOSTO DE 2020Dispensa Eletrônica nº 029/2020.Objeto: aquisição de EPI. Assunt...</td>\n      <td>2020-09-06 18:49:03</td>\n    </tr>\n  </tbody>\n</table>\n</div>"
     },
     "metadata": {},
     "execution_count": 51
    }
   ],
   "source": [
    "base_sem_interesse.tail(5)"
   ]
  },
  {
   "cell_type": "code",
   "execution_count": 23,
   "metadata": {},
   "outputs": [
    {
     "output_type": "execute_result",
     "data": {
      "text/plain": "0        AVISOs DE DISPENSAs DE LICITAÇÃOÓRGÃO: Prefeitura Municipal de Presidente Prudente INTERESSADA: ...\n1        PORTARIAS DE 24 DE AGOSTO DE 2020O DIRETOR-GERAL DA AGÊNCIA BRASILEIRA DE INTELIGÊNCIA DO GABINE...\n2        EXTRATO DE CONTRATO Nº 26/2020 - UASG 150182Nº Processo: 23069153651202064.Regime de Execução: E...\n3        aviso de alteração Pregão Eletrônico nº 6/2020O município de Guarantã do Norte/MT, representado ...\n4        EXTRATO DE TERMO ADITIVOProcesso TST nº 503.525/2019-4. Centro Clínico Bandeirante Serviços e As...\n                                                        ...                                                 \n23644    PORTARIA Nº 19.755, DE 24 DE AGOSTO DE 2020O COORDENADOR-GERAL DE BENEFÍCIOS DO DEPARTAMENTO DE ...\n23645    AVISO DE LICITAÇÃO Nº 7003210032Objeto: Suporte às atividades de projeto e gestão da produçãoAbe...\n23646    Aviso de Licitação Tomada de Preços nº 7/2020Torna público Processo nº 035/2020 - Tomada de Preç...\n23647    EDITAL Nº 58, DE 21 DE AGOSTO DE 2020RETIFICAÇÃO DO EDITAL DE HOMOLOGAÇÃO DE RESULTADO FINAL Nº ...\n23648    DESPACHO DE 26 DE AGOSTO DE 2020Dispensa Eletrônica nº 029/2020.Objeto: aquisição de EPI. Assunt...\nName: informacao, Length: 23649, dtype: object"
     },
     "metadata": {},
     "execution_count": 23
    }
   ],
   "source": [
    "base_sem_interesse.informacao"
   ]
  },
  {
   "cell_type": "code",
   "execution_count": 24,
   "metadata": {},
   "outputs": [
    {
     "output_type": "execute_result",
     "data": {
      "text/plain": "0    avisos de dispensas de licitaçãoórgão prefeitura municipal de presidente prudente interessada sa...\n1    portarias de  de agosto de  diretorgeral da agência brasileira de inteligência do gabinete de se...\n2    extrato de contrato nº   uasg  processo  de execução empreitada por preço unitáriordc eletrônico...\n3    aviso de alteração pregão eletrônico nº  município de guarantã do nortemt representado pela pref...\n4    extrato de termo aditivoprocesso tst nº  centro clínico bandeirante serviços e assistência médic...\nName: informacao, dtype: object"
     },
     "metadata": {},
     "execution_count": 24
    }
   ],
   "source": [
    "# Limpeza de ruído - Transformar em minúsculo, limpeza de caracteres especiais\n",
    "\n",
    "import regex as re\n",
    "import string\n",
    "\n",
    "def limpa_ruido_texto(texto):\n",
    "    texto = texto.lower()\n",
    "    texto = re.sub('[%s]' % re.escape(string.punctuation), '', texto) # Retira pontuações\n",
    "    texto = re.sub('\\w*\\d\\w*', '', texto) # Retira números entre palavras\n",
    "    texto = re.sub('§–', '', texto) # Casos específicos para os textos do DOU\n",
    "    return texto\n",
    "\n",
    "base_sem_interesse['informacao'] = base_sem_interesse['informacao'].apply(lambda x: limpa_ruido_texto(x))\n",
    "\n",
    "base_sem_interesse['informacao'].head()"
   ]
  },
  {
   "cell_type": "code",
   "execution_count": 25,
   "metadata": {
    "tags": []
   },
   "outputs": [
    {
     "output_type": "stream",
     "name": "stderr",
     "text": "[nltk_data] Downloading package stopwords to\n[nltk_data]     /home/marcelo/nltk_data...\n[nltk_data]   Package stopwords is already up-to-date!\n"
    },
    {
     "output_type": "execute_result",
     "data": {
      "text/plain": "       abaixo  abastecimento  aberto  abertura  abertura propostas  abril  \\\n0           0              0       0         0                   0      0   \n1           0              0       0         0                   0      0   \n2           0              0       0         0                   0      0   \n3           0              0       0         1                   0      0   \n4           0              0       0         0                   0      0   \n...       ...            ...     ...       ...                 ...    ...   \n23644       0              0       0         0                   0      0   \n23645       0              0       0         0                   0      0   \n23646       0              0       0         0                   0      0   \n23647       0              0       1         0                   0      0   \n23648       0              0       0         0                   0      0   \n\n       acesso  acima  acolhimento  acompanhamento  ...  água  área  áreas  \\\n0           0      0            0               0  ...     0     0      0   \n1           0      0            0               0  ...     0     0      0   \n2           0      0            0               0  ...     0     0      0   \n3           0      0            0               0  ...     0     0      0   \n4           0      0            0               0  ...     0     0      0   \n...       ...    ...          ...             ...  ...   ...   ...    ...   \n23644       0      0            0               0  ...     0     0      0   \n23645       0      0            0               0  ...     0     0      0   \n23646       0      0            0               0  ...     0     0      0   \n23647       0      0            0               0  ...     0     3      0   \n23648       0      0            0               0  ...     0     0      0   \n\n       âmbito  íntegra  órgão  órgãos  único  único art  úteis  \n0           0        0      0       0      0          0      0  \n1           0        0      0       0      0          0      0  \n2           0        0      0       0      0          0      0  \n3           0        0      0       0      0          0      0  \n4           0        0      0       0      0          0      0  \n...       ...      ...    ...     ...    ...        ...    ...  \n23644       0        0      0       1      0          0      0  \n23645       0        0      0       0      0          0      0  \n23646       0        0      0       0      0          0      0  \n23647       0        0      0       0      0          0      0  \n23648       0        0      0       0      0          0      0  \n\n[23649 rows x 1491 columns]",
      "text/html": "<div>\n<style scoped>\n    .dataframe tbody tr th:only-of-type {\n        vertical-align: middle;\n    }\n\n    .dataframe tbody tr th {\n        vertical-align: top;\n    }\n\n    .dataframe thead th {\n        text-align: right;\n    }\n</style>\n<table border=\"1\" class=\"dataframe\">\n  <thead>\n    <tr style=\"text-align: right;\">\n      <th></th>\n      <th>abaixo</th>\n      <th>abastecimento</th>\n      <th>aberto</th>\n      <th>abertura</th>\n      <th>abertura propostas</th>\n      <th>abril</th>\n      <th>acesso</th>\n      <th>acima</th>\n      <th>acolhimento</th>\n      <th>acompanhamento</th>\n      <th>...</th>\n      <th>água</th>\n      <th>área</th>\n      <th>áreas</th>\n      <th>âmbito</th>\n      <th>íntegra</th>\n      <th>órgão</th>\n      <th>órgãos</th>\n      <th>único</th>\n      <th>único art</th>\n      <th>úteis</th>\n    </tr>\n  </thead>\n  <tbody>\n    <tr>\n      <th>0</th>\n      <td>0</td>\n      <td>0</td>\n      <td>0</td>\n      <td>0</td>\n      <td>0</td>\n      <td>0</td>\n      <td>0</td>\n      <td>0</td>\n      <td>0</td>\n      <td>0</td>\n      <td>...</td>\n      <td>0</td>\n      <td>0</td>\n      <td>0</td>\n      <td>0</td>\n      <td>0</td>\n      <td>0</td>\n      <td>0</td>\n      <td>0</td>\n      <td>0</td>\n      <td>0</td>\n    </tr>\n    <tr>\n      <th>1</th>\n      <td>0</td>\n      <td>0</td>\n      <td>0</td>\n      <td>0</td>\n      <td>0</td>\n      <td>0</td>\n      <td>0</td>\n      <td>0</td>\n      <td>0</td>\n      <td>0</td>\n      <td>...</td>\n      <td>0</td>\n      <td>0</td>\n      <td>0</td>\n      <td>0</td>\n      <td>0</td>\n      <td>0</td>\n      <td>0</td>\n      <td>0</td>\n      <td>0</td>\n      <td>0</td>\n    </tr>\n    <tr>\n      <th>2</th>\n      <td>0</td>\n      <td>0</td>\n      <td>0</td>\n      <td>0</td>\n      <td>0</td>\n      <td>0</td>\n      <td>0</td>\n      <td>0</td>\n      <td>0</td>\n      <td>0</td>\n      <td>...</td>\n      <td>0</td>\n      <td>0</td>\n      <td>0</td>\n      <td>0</td>\n      <td>0</td>\n      <td>0</td>\n      <td>0</td>\n      <td>0</td>\n      <td>0</td>\n      <td>0</td>\n    </tr>\n    <tr>\n      <th>3</th>\n      <td>0</td>\n      <td>0</td>\n      <td>0</td>\n      <td>1</td>\n      <td>0</td>\n      <td>0</td>\n      <td>0</td>\n      <td>0</td>\n      <td>0</td>\n      <td>0</td>\n      <td>...</td>\n      <td>0</td>\n      <td>0</td>\n      <td>0</td>\n      <td>0</td>\n      <td>0</td>\n      <td>0</td>\n      <td>0</td>\n      <td>0</td>\n      <td>0</td>\n      <td>0</td>\n    </tr>\n    <tr>\n      <th>4</th>\n      <td>0</td>\n      <td>0</td>\n      <td>0</td>\n      <td>0</td>\n      <td>0</td>\n      <td>0</td>\n      <td>0</td>\n      <td>0</td>\n      <td>0</td>\n      <td>0</td>\n      <td>...</td>\n      <td>0</td>\n      <td>0</td>\n      <td>0</td>\n      <td>0</td>\n      <td>0</td>\n      <td>0</td>\n      <td>0</td>\n      <td>0</td>\n      <td>0</td>\n      <td>0</td>\n    </tr>\n    <tr>\n      <th>...</th>\n      <td>...</td>\n      <td>...</td>\n      <td>...</td>\n      <td>...</td>\n      <td>...</td>\n      <td>...</td>\n      <td>...</td>\n      <td>...</td>\n      <td>...</td>\n      <td>...</td>\n      <td>...</td>\n      <td>...</td>\n      <td>...</td>\n      <td>...</td>\n      <td>...</td>\n      <td>...</td>\n      <td>...</td>\n      <td>...</td>\n      <td>...</td>\n      <td>...</td>\n      <td>...</td>\n    </tr>\n    <tr>\n      <th>23644</th>\n      <td>0</td>\n      <td>0</td>\n      <td>0</td>\n      <td>0</td>\n      <td>0</td>\n      <td>0</td>\n      <td>0</td>\n      <td>0</td>\n      <td>0</td>\n      <td>0</td>\n      <td>...</td>\n      <td>0</td>\n      <td>0</td>\n      <td>0</td>\n      <td>0</td>\n      <td>0</td>\n      <td>0</td>\n      <td>1</td>\n      <td>0</td>\n      <td>0</td>\n      <td>0</td>\n    </tr>\n    <tr>\n      <th>23645</th>\n      <td>0</td>\n      <td>0</td>\n      <td>0</td>\n      <td>0</td>\n      <td>0</td>\n      <td>0</td>\n      <td>0</td>\n      <td>0</td>\n      <td>0</td>\n      <td>0</td>\n      <td>...</td>\n      <td>0</td>\n      <td>0</td>\n      <td>0</td>\n      <td>0</td>\n      <td>0</td>\n      <td>0</td>\n      <td>0</td>\n      <td>0</td>\n      <td>0</td>\n      <td>0</td>\n    </tr>\n    <tr>\n      <th>23646</th>\n      <td>0</td>\n      <td>0</td>\n      <td>0</td>\n      <td>0</td>\n      <td>0</td>\n      <td>0</td>\n      <td>0</td>\n      <td>0</td>\n      <td>0</td>\n      <td>0</td>\n      <td>...</td>\n      <td>0</td>\n      <td>0</td>\n      <td>0</td>\n      <td>0</td>\n      <td>0</td>\n      <td>0</td>\n      <td>0</td>\n      <td>0</td>\n      <td>0</td>\n      <td>0</td>\n    </tr>\n    <tr>\n      <th>23647</th>\n      <td>0</td>\n      <td>0</td>\n      <td>1</td>\n      <td>0</td>\n      <td>0</td>\n      <td>0</td>\n      <td>0</td>\n      <td>0</td>\n      <td>0</td>\n      <td>0</td>\n      <td>...</td>\n      <td>0</td>\n      <td>3</td>\n      <td>0</td>\n      <td>0</td>\n      <td>0</td>\n      <td>0</td>\n      <td>0</td>\n      <td>0</td>\n      <td>0</td>\n      <td>0</td>\n    </tr>\n    <tr>\n      <th>23648</th>\n      <td>0</td>\n      <td>0</td>\n      <td>0</td>\n      <td>0</td>\n      <td>0</td>\n      <td>0</td>\n      <td>0</td>\n      <td>0</td>\n      <td>0</td>\n      <td>0</td>\n      <td>...</td>\n      <td>0</td>\n      <td>0</td>\n      <td>0</td>\n      <td>0</td>\n      <td>0</td>\n      <td>0</td>\n      <td>0</td>\n      <td>0</td>\n      <td>0</td>\n      <td>0</td>\n    </tr>\n  </tbody>\n</table>\n<p>23649 rows × 1491 columns</p>\n</div>"
     },
     "metadata": {},
     "execution_count": 25
    }
   ],
   "source": [
    "# Criação de matrix de termos utilizando CountVectorizer. \n",
    "# Estouro por falta de memória para a matrix de termos\n",
    "\n",
    "import nltk\n",
    "\n",
    "nltk.download('stopwords')\n",
    "\n",
    "from sklearn.feature_extraction.text import CountVectorizer\n",
    "\n",
    "nltk_pt_stopwords = nltk.corpus.stopwords.words('portuguese')\n",
    "\n",
    "cv = CountVectorizer(stop_words=nltk_pt_stopwords, ngram_range = (1, 2), min_df = 0.01, max_df = 0.99)\n",
    "cv_informacao = cv.fit_transform(base_sem_interesse['informacao'])\n",
    "mt_informacao = pd.DataFrame(cv_informacao.toarray(), columns=cv.get_feature_names())\n",
    "mt_informacao.index = base_sem_interesse['informacao'].index\n",
    "mt_informacao"
   ]
  },
  {
   "cell_type": "code",
   "execution_count": 26,
   "metadata": {},
   "outputs": [],
   "source": [
    "# Guardando a informação para uso futuro na EAD\n",
    "import pickle\n",
    "\n",
    "# Matriz de termos\n",
    "mt_informacao.to_pickle('matrix_termos_base_SEM_interesse.pkl')\n",
    "\n",
    "# Base de interesse higienizada\n",
    "base_sem_interesse.to_pickle('base_SEM_interesse_limpa.pkl')\n",
    "pickle.dump(cv_informacao, open('countvectorizer_base_SEM_interesse.pkl', 'wb'))\n"
   ]
  },
  {
   "cell_type": "code",
   "execution_count": null,
   "metadata": {},
   "outputs": [],
   "source": []
  }
 ]
}