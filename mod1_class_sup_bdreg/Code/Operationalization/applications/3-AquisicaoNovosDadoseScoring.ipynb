{
 "cells": [
  {
   "cell_type": "code",
   "execution_count": 2,
   "metadata": {
    "tags": []
   },
   "outputs": [],
   "source": [
    "import requests\n",
    "import pandas as pd\n",
    "import pickle\n",
    "from urllib.parse import urlencode\n",
    "from datetime import datetime"
   ]
  },
  {
   "cell_type": "markdown",
   "metadata": {},
   "source": [
    "### <span style=\"color:Red\"> **1. Carrega Dados via mock API Pública** </span>"
   ]
  },
  {
   "cell_type": "code",
   "execution_count": 3,
   "metadata": {
    "tags": []
   },
   "outputs": [
    {
     "output_type": "stream",
     "name": "stdout",
     "text": "Recuperando dados da API - lista de do Diário Oficial para o dia 08/09/2020\n\n214 registros recuperados\n\n"
    }
   ],
   "source": [
    "dataHoje = datetime.now().strftime(\"%d/%m/%Y\")\n",
    "parametros = {'dat_inicio': dataHoje, 'dat_fim': dataHoje}\n",
    "\n",
    "baseurl = f'http://127.0.0.1:8000/api/v1/insumodou'\n",
    "\n",
    "print(f'Recuperando dados da API - lista de do Diário Oficial para o dia {dataHoje}')\n",
    "print()\n",
    "\n",
    "response = requests.get(baseurl, params=parametros)\n",
    "\n",
    "if response.status_code == requests.codes.ok:\n",
    "    # Monta dataframe\n",
    "    df_response =  pd.DataFrame.from_dict(response.json())\n",
    "\n",
    "    print(f\"{df_response.shape[0]} registros recuperados\")\n",
    "    print()\n",
    "else:\n",
    "    response.raise_for_status()"
   ]
  },
  {
   "cell_type": "markdown",
   "metadata": {},
   "source": [
    "### <span style=\"color:Red\">** 2. Ajusta dataframe com features de interesse ** </span>"
   ]
  },
  {
   "cell_type": "code",
   "execution_count": 4,
   "metadata": {},
   "outputs": [],
   "source": [
    "df_response.drop(df_response.columns.difference(['id', 'dsc_texto']), 1, inplace=True)"
   ]
  },
  {
   "cell_type": "markdown",
   "metadata": {},
   "source": [
    "### <span style=\"color:Red\"> **3. Limpa tags HTML e torna texto minúsculo**</span>"
   ]
  },
  {
   "cell_type": "code",
   "execution_count": 5,
   "metadata": {
    "tags": []
   },
   "outputs": [
    {
     "output_type": "stream",
     "name": "stdout",
     "text": "Retiradas tags HTML\n"
    }
   ],
   "source": [
    "    from bleach.sanitizer import Cleaner\n",
    "    \n",
    "    cleaner = Cleaner(tags=[], attributes={}, styles=[], protocols=[], strip=True, strip_comments=True, filters=None)\n",
    "    \n",
    "    # Retira todas as tags html do texto do DOU\n",
    "    df_response['dsc_texto'] = df_response['dsc_texto'].apply(lambda x: cleaner.clean(x))\n",
    "\n",
    "    print(\"Retiradas tags HTML\")"
   ]
  },
  {
   "cell_type": "code",
   "execution_count": 6,
   "metadata": {},
   "outputs": [
    {
     "output_type": "execute_result",
     "data": {
      "text/plain": "0    extrato de contratopregão presencial n° pp  co...\n1    aviso de edital para alienação de bens leilão ...\n2    despachofase de requerimento de pesquisaindefe...\n3    portaria nº  de  de setembro de  secretário na...\n4    portaria nº  de  de setembro de  ministro de e...\nName: dsc_texto, dtype: object"
     },
     "metadata": {},
     "execution_count": 6
    }
   ],
   "source": [
    "# Limpeza de ruído - Transformar em minúsculo, limpeza de caracteres especiais\n",
    "\n",
    "import regex as re\n",
    "import string\n",
    "\n",
    "def limpa_ruido_texto(texto):\n",
    "    texto = texto.lower()\n",
    "    texto = re.sub('[%s]' % re.escape(string.punctuation), '', texto) # Retira pontuações\n",
    "    texto = re.sub('\\w*\\d\\w*', '', texto) # Retira números entre palavras\n",
    "    texto = re.sub('§–', '', texto) # Casos específicos para os textos do DOU\n",
    "    return texto\n",
    "\n",
    "df_response['dsc_texto'] = df_response['dsc_texto'].apply(lambda x: limpa_ruido_texto(x))\n",
    "\n",
    "df_response['dsc_texto'].head()"
   ]
  },
  {
   "cell_type": "markdown",
   "metadata": {},
   "source": [
    "### <span style=\"color:Red\"> **3.Remove linhas duplicadas no Dataframe**</span>"
   ]
  },
  {
   "cell_type": "code",
   "execution_count": 7,
   "metadata": {
    "tags": []
   },
   "outputs": [
    {
     "output_type": "stream",
     "name": "stdout",
     "text": "Retiradas duplicações. 214 restantes\n\n"
    }
   ],
   "source": [
    "df_response = df_response.drop_duplicates()\n",
    "\n",
    "print(f\"Retiradas duplicações. {df_response.shape[0]} restantes\")\n",
    "print()"
   ]
  },
  {
   "cell_type": "markdown",
   "metadata": {},
   "source": [
    "### <span style=\"color:Red\"> **4. Chama API com modelo para classificação e persistência**</span>"
   ]
  },
  {
   "cell_type": "code",
   "execution_count": 8,
   "metadata": {
    "tags": []
   },
   "outputs": [
    {
     "output_type": "stream",
     "name": "stdout",
     "text": "Iniciando a classificação e atualização dos registros\n\nClassificação realizada: Texto de id 16129361 atualizado, resultado: Sem Interesse\nClassificação realizada: Texto de id 16129400 atualizado, resultado: Sem Interesse\nClassificação realizada: Texto de id 16129685 atualizado, resultado: Sem Interesse\nClassificação realizada: Texto de id 16129694 atualizado, resultado: Sem Interesse\nClassificação realizada: Texto de id 16129718 atualizado, resultado: Sem Interesse\nClassificação realizada: Texto de id 16129724 atualizado, resultado: Sem Interesse\nClassificação realizada: Texto de id 16129781 atualizado, resultado: Sem Interesse\nClassificação realizada: Texto de id 16129814 atualizado, resultado: Sem Interesse\nClassificação realizada: Texto de id 16129871 atualizado, resultado: Sem Interesse\nClassificação realizada: Texto de id 16129892 atualizado, resultado: Sem Interesse\nClassificação realizada: Texto de id 16129934 atualizado, resultado: De Interesse\nClassificação realizada: Texto de id 16130030 atualizado, resultado: Sem Interesse\nClassificação realizada: Texto de id 16130261 atualizado, resultado: Sem Interesse\nClassificação realizada: Texto de id 16130318 atualizado, resultado: De Interesse\nClassificação realizada: Texto de id 16130321 atualizado, resultado: De Interesse\nClassificação realizada: Texto de id 16130324 atualizado, resultado: De Interesse\nClassificação realizada: Texto de id 16130339 atualizado, resultado: De Interesse\nClassificação realizada: Texto de id 16130366 atualizado, resultado: Sem Interesse\nClassificação realizada: Texto de id 16130504 atualizado, resultado: Sem Interesse\nClassificação realizada: Texto de id 16130522 atualizado, resultado: Sem Interesse\nClassificação realizada: Texto de id 16130555 atualizado, resultado: Sem Interesse\nClassificação realizada: Texto de id 16130627 atualizado, resultado: Sem Interesse\nClassificação realizada: Texto de id 16131593 atualizado, resultado: Sem Interesse\nClassificação realizada: Texto de id 16131749 atualizado, resultado: Sem Interesse\nClassificação realizada: Texto de id 16131758 atualizado, resultado: Sem Interesse\nClassificação realizada: Texto de id 16131932 atualizado, resultado: Sem Interesse\nClassificação realizada: Texto de id 16132073 atualizado, resultado: Sem Interesse\nClassificação realizada: Texto de id 16132445 atualizado, resultado: Sem Interesse\nClassificação realizada: Texto de id 16132541 atualizado, resultado: Sem Interesse\nClassificação realizada: Texto de id 16132689 atualizado, resultado: Sem Interesse\nClassificação realizada: Texto de id 16132710 atualizado, resultado: Sem Interesse\nClassificação realizada: Texto de id 16133475 atualizado, resultado: Sem Interesse\nClassificação realizada: Texto de id 16133532 atualizado, resultado: Sem Interesse\nClassificação realizada: Texto de id 16133562 atualizado, resultado: Sem Interesse\nClassificação realizada: Texto de id 16133646 atualizado, resultado: Sem Interesse\nClassificação realizada: Texto de id 16133697 atualizado, resultado: Sem Interesse\nClassificação realizada: Texto de id 16133733 atualizado, resultado: Sem Interesse\nClassificação realizada: Texto de id 16133745 atualizado, resultado: Sem Interesse\nClassificação realizada: Texto de id 16134054 atualizado, resultado: Sem Interesse\nClassificação realizada: Texto de id 16134075 atualizado, resultado: Sem Interesse\nClassificação realizada: Texto de id 16134141 atualizado, resultado: Sem Interesse\nClassificação realizada: Texto de id 16134414 atualizado, resultado: Sem Interesse\nClassificação realizada: Texto de id 16134453 atualizado, resultado: Sem Interesse\nClassificação realizada: Texto de id 16134567 atualizado, resultado: Sem Interesse\nClassificação realizada: Texto de id 16134609 atualizado, resultado: Sem Interesse\nClassificação realizada: Texto de id 16134612 atualizado, resultado: Sem Interesse\nClassificação realizada: Texto de id 16134615 atualizado, resultado: Sem Interesse\nClassificação realizada: Texto de id 16134660 atualizado, resultado: Sem Interesse\nClassificação realizada: Texto de id 16134720 atualizado, resultado: Sem Interesse\nClassificação realizada: Texto de id 16134780 atualizado, resultado: Sem Interesse\nClassificação realizada: Texto de id 16134783 atualizado, resultado: Sem Interesse\nClassificação realizada: Texto de id 16134951 atualizado, resultado: Sem Interesse\nClassificação realizada: Texto de id 16134963 atualizado, resultado: Sem Interesse\nClassificação realizada: Texto de id 16134972 atualizado, resultado: Sem Interesse\nClassificação realizada: Texto de id 16134975 atualizado, resultado: Sem Interesse\nClassificação realizada: Texto de id 16134978 atualizado, resultado: Sem Interesse\nClassificação realizada: Texto de id 16134981 atualizado, resultado: Sem Interesse\nClassificação realizada: Texto de id 16134984 atualizado, resultado: Sem Interesse\nClassificação realizada: Texto de id 16134987 atualizado, resultado: Sem Interesse\nClassificação realizada: Texto de id 16134990 atualizado, resultado: Sem Interesse\nClassificação realizada: Texto de id 16134993 atualizado, resultado: Sem Interesse\nClassificação realizada: Texto de id 16135002 atualizado, resultado: Sem Interesse\nClassificação realizada: Texto de id 16135011 atualizado, resultado: Sem Interesse\nClassificação realizada: Texto de id 16135014 atualizado, resultado: Sem Interesse\nClassificação realizada: Texto de id 16135020 atualizado, resultado: Sem Interesse\nClassificação realizada: Texto de id 16135200 atualizado, resultado: Sem Interesse\nClassificação realizada: Texto de id 16135602 atualizado, resultado: Sem Interesse\nClassificação realizada: Texto de id 16135614 atualizado, resultado: Sem Interesse\nClassificação realizada: Texto de id 16135813 atualizado, resultado: Sem Interesse\nClassificação realizada: Texto de id 16135819 atualizado, resultado: Sem Interesse\nClassificação realizada: Texto de id 16135822 atualizado, resultado: Sem Interesse\nClassificação realizada: Texto de id 16135924 atualizado, resultado: Sem Interesse\nClassificação realizada: Texto de id 16135927 atualizado, resultado: Sem Interesse\nClassificação realizada: Texto de id 16135936 atualizado, resultado: Sem Interesse\nClassificação realizada: Texto de id 16135954 atualizado, resultado: Sem Interesse\nClassificação realizada: Texto de id 16135975 atualizado, resultado: Sem Interesse\nClassificação realizada: Texto de id 16136152 atualizado, resultado: Sem Interesse\nClassificação realizada: Texto de id 16136155 atualizado, resultado: Sem Interesse\nClassificação realizada: Texto de id 16136158 atualizado, resultado: Sem Interesse\nClassificação realizada: Texto de id 16136389 atualizado, resultado: Sem Interesse\nClassificação realizada: Texto de id 16136431 atualizado, resultado: Sem Interesse\nClassificação realizada: Texto de id 16136434 atualizado, resultado: Sem Interesse\nClassificação realizada: Texto de id 16136567 atualizado, resultado: Sem Interesse\nClassificação realizada: Texto de id 16136570 atualizado, resultado: Sem Interesse\nClassificação realizada: Texto de id 16136573 atualizado, resultado: Sem Interesse\nClassificação realizada: Texto de id 16136576 atualizado, resultado: Sem Interesse\nClassificação realizada: Texto de id 16136842 atualizado, resultado: Sem Interesse\nClassificação realizada: Texto de id 16136872 atualizado, resultado: Sem Interesse\nClassificação realizada: Texto de id 16137040 atualizado, resultado: Sem Interesse\nClassificação realizada: Texto de id 16137142 atualizado, resultado: Sem Interesse\nClassificação realizada: Texto de id 16137148 atualizado, resultado: Sem Interesse\nClassificação realizada: Texto de id 16137241 atualizado, resultado: Sem Interesse\nClassificação realizada: Texto de id 16137289 atualizado, resultado: Sem Interesse\nClassificação realizada: Texto de id 16137346 atualizado, resultado: Sem Interesse\nClassificação realizada: Texto de id 16137448 atualizado, resultado: Sem Interesse\nClassificação realizada: Texto de id 16137598 atualizado, resultado: De Interesse\nClassificação realizada: Texto de id 16137790 atualizado, resultado: De Interesse\nClassificação realizada: Texto de id 16138048 atualizado, resultado: Sem Interesse\nClassificação realizada: Texto de id 16138051 atualizado, resultado: Sem Interesse\nClassificação realizada: Texto de id 16138070 atualizado, resultado: Sem Interesse\nClassificação realizada: Texto de id 16138338 atualizado, resultado: Sem Interesse\nClassificação realizada: Texto de id 16138776 atualizado, resultado: Sem Interesse\nClassificação realizada: Texto de id 16138785 atualizado, resultado: Sem Interesse\nClassificação realizada: Texto de id 16138815 atualizado, resultado: Sem Interesse\nClassificação realizada: Texto de id 16138854 atualizado, resultado: Sem Interesse\nClassificação realizada: Texto de id 16138878 atualizado, resultado: Sem Interesse\nClassificação realizada: Texto de id 16138920 atualizado, resultado: De Interesse\nClassificação realizada: Texto de id 16139055 atualizado, resultado: Sem Interesse\nClassificação realizada: Texto de id 16139379 atualizado, resultado: Sem Interesse\nClassificação realizada: Texto de id 16139409 atualizado, resultado: Sem Interesse\nClassificação realizada: Texto de id 16139616 atualizado, resultado: Sem Interesse\nClassificação realizada: Texto de id 16139640 atualizado, resultado: Sem Interesse\nClassificação realizada: Texto de id 16139670 atualizado, resultado: Sem Interesse\nClassificação realizada: Texto de id 16139901 atualizado, resultado: Sem Interesse\nClassificação realizada: Texto de id 16139904 atualizado, resultado: Sem Interesse\nClassificação realizada: Texto de id 16139952 atualizado, resultado: Sem Interesse\nClassificação realizada: Texto de id 16140012 atualizado, resultado: Sem Interesse\nClassificação realizada: Texto de id 16140030 atualizado, resultado: Sem Interesse\nClassificação realizada: Texto de id 16140063 atualizado, resultado: Sem Interesse\nClassificação realizada: Texto de id 16140066 atualizado, resultado: Sem Interesse\nClassificação realizada: Texto de id 16140075 atualizado, resultado: Sem Interesse\nClassificação realizada: Texto de id 16140123 atualizado, resultado: Sem Interesse\nClassificação realizada: Texto de id 16140726 atualizado, resultado: Sem Interesse\nClassificação realizada: Texto de id 16140738 atualizado, resultado: Sem Interesse\nClassificação realizada: Texto de id 16140810 atualizado, resultado: Sem Interesse\nClassificação realizada: Texto de id 16140849 atualizado, resultado: Sem Interesse\nClassificação realizada: Texto de id 16140870 atualizado, resultado: Sem Interesse\nClassificação realizada: Texto de id 16140873 atualizado, resultado: Sem Interesse\nClassificação realizada: Texto de id 16141476 atualizado, resultado: Sem Interesse\nClassificação realizada: Texto de id 16141527 atualizado, resultado: Sem Interesse\nClassificação realizada: Texto de id 16141533 atualizado, resultado: Sem Interesse\nClassificação realizada: Texto de id 16141581 atualizado, resultado: Sem Interesse\nClassificação realizada: Texto de id 16141614 atualizado, resultado: Sem Interesse\nClassificação realizada: Texto de id 16141638 atualizado, resultado: Sem Interesse\nClassificação realizada: Texto de id 16141680 atualizado, resultado: Sem Interesse\nClassificação realizada: Texto de id 16141722 atualizado, resultado: Sem Interesse\nClassificação realizada: Texto de id 16141725 atualizado, resultado: Sem Interesse\nClassificação realizada: Texto de id 16142061 atualizado, resultado: Sem Interesse\nClassificação realizada: Texto de id 16142067 atualizado, resultado: Sem Interesse\nClassificação realizada: Texto de id 16142298 atualizado, resultado: Sem Interesse\nClassificação realizada: Texto de id 16142409 atualizado, resultado: Sem Interesse\nClassificação realizada: Texto de id 16142493 atualizado, resultado: Sem Interesse\nClassificação realizada: Texto de id 16142502 atualizado, resultado: Sem Interesse\nClassificação realizada: Texto de id 16142840 atualizado, resultado: Sem Interesse\nClassificação realizada: Texto de id 16142864 atualizado, resultado: Sem Interesse\nClassificação realizada: Texto de id 16143316 atualizado, resultado: Sem Interesse\nClassificação realizada: Texto de id 16143322 atualizado, resultado: Sem Interesse\nClassificação realizada: Texto de id 16143325 atualizado, resultado: Sem Interesse\nClassificação realizada: Texto de id 16143328 atualizado, resultado: Sem Interesse\nClassificação realizada: Texto de id 16143331 atualizado, resultado: Sem Interesse\nClassificação realizada: Texto de id 16143334 atualizado, resultado: Sem Interesse\nClassificação realizada: Texto de id 16143340 atualizado, resultado: Sem Interesse\nClassificação realizada: Texto de id 16143343 atualizado, resultado: De Interesse\nClassificação realizada: Texto de id 16143349 atualizado, resultado: De Interesse\nClassificação realizada: Texto de id 16143352 atualizado, resultado: Sem Interesse\nClassificação realizada: Texto de id 16143358 atualizado, resultado: Sem Interesse\nClassificação realizada: Texto de id 16143361 atualizado, resultado: De Interesse\nClassificação realizada: Texto de id 16143364 atualizado, resultado: Sem Interesse\nClassificação realizada: Texto de id 16143367 atualizado, resultado: Sem Interesse\nClassificação realizada: Texto de id 16143370 atualizado, resultado: Sem Interesse\nClassificação realizada: Texto de id 16143373 atualizado, resultado: Sem Interesse\nClassificação realizada: Texto de id 16143376 atualizado, resultado: De Interesse\nClassificação realizada: Texto de id 16143379 atualizado, resultado: Sem Interesse\nClassificação realizada: Texto de id 16143382 atualizado, resultado: De Interesse\nClassificação realizada: Texto de id 16143385 atualizado, resultado: Sem Interesse\nClassificação realizada: Texto de id 16143388 atualizado, resultado: Sem Interesse\nClassificação realizada: Texto de id 16143391 atualizado, resultado: Sem Interesse\nClassificação realizada: Texto de id 16143394 atualizado, resultado: Sem Interesse\nClassificação realizada: Texto de id 16143397 atualizado, resultado: Sem Interesse\nClassificação realizada: Texto de id 16143400 atualizado, resultado: De Interesse\nClassificação realizada: Texto de id 16143403 atualizado, resultado: Sem Interesse\nClassificação realizada: Texto de id 16143406 atualizado, resultado: Sem Interesse\nClassificação realizada: Texto de id 16143409 atualizado, resultado: Sem Interesse\nClassificação realizada: Texto de id 16143436 atualizado, resultado: Sem Interesse\nClassificação realizada: Texto de id 16143538 atualizado, resultado: Sem Interesse\nClassificação realizada: Texto de id 16143562 atualizado, resultado: Sem Interesse\nClassificação realizada: Texto de id 16143568 atualizado, resultado: Sem Interesse\nClassificação realizada: Texto de id 16143684 atualizado, resultado: Sem Interesse\nClassificação realizada: Texto de id 16143789 atualizado, resultado: Sem Interesse\nClassificação realizada: Texto de id 16143858 atualizado, resultado: Sem Interesse\nClassificação realizada: Texto de id 16144010 atualizado, resultado: Sem Interesse\nClassificação realizada: Texto de id 16144037 atualizado, resultado: Sem Interesse\nClassificação realizada: Texto de id 16144079 atualizado, resultado: Sem Interesse\nClassificação realizada: Texto de id 16144151 atualizado, resultado: Sem Interesse\nClassificação realizada: Texto de id 16144427 atualizado, resultado: Sem Interesse\nClassificação realizada: Texto de id 16144460 atualizado, resultado: Sem Interesse\nClassificação realizada: Texto de id 16144463 atualizado, resultado: Sem Interesse\nClassificação realizada: Texto de id 16144472 atualizado, resultado: Sem Interesse\nClassificação realizada: Texto de id 16144484 atualizado, resultado: Sem Interesse\nClassificação realizada: Texto de id 16144607 atualizado, resultado: Sem Interesse\nClassificação realizada: Texto de id 16144951 atualizado, resultado: Sem Interesse\nClassificação realizada: Texto de id 16144978 atualizado, resultado: Sem Interesse\nClassificação realizada: Texto de id 16145281 atualizado, resultado: Sem Interesse\nClassificação realizada: Texto de id 16145284 atualizado, resultado: Sem Interesse\nClassificação realizada: Texto de id 16145416 atualizado, resultado: Sem Interesse\nClassificação realizada: Texto de id 16146325 atualizado, resultado: Sem Interesse\nClassificação realizada: Texto de id 16146337 atualizado, resultado: Sem Interesse\nClassificação realizada: Texto de id 16146349 atualizado, resultado: Sem Interesse\nClassificação realizada: Texto de id 16146355 atualizado, resultado: Sem Interesse\nClassificação realizada: Texto de id 16146361 atualizado, resultado: Sem Interesse\nClassificação realizada: Texto de id 16146367 atualizado, resultado: Sem Interesse\nClassificação realizada: Texto de id 16146370 atualizado, resultado: Sem Interesse\nClassificação realizada: Texto de id 16146376 atualizado, resultado: Sem Interesse\nClassificação realizada: Texto de id 16146379 atualizado, resultado: Sem Interesse\nClassificação realizada: Texto de id 16146391 atualizado, resultado: Sem Interesse\nClassificação realizada: Texto de id 16146394 atualizado, resultado: Sem Interesse\nClassificação realizada: Texto de id 16147410 atualizado, resultado: Sem Interesse\nClassificação realizada: Texto de id 16148417 atualizado, resultado: Sem Interesse\nClassificação realizada: Texto de id 16148426 atualizado, resultado: Sem Interesse\nClassificação realizada: Texto de id 16148432 atualizado, resultado: Sem Interesse\nClassificação realizada: Texto de id 16148441 atualizado, resultado: Sem Interesse\nClassificação realizada: Texto de id 16148444 atualizado, resultado: Sem Interesse\nClassificação realizada: Texto de id 16148450 atualizado, resultado: Sem Interesse\nClassificação realizada: Texto de id 16148453 atualizado, resultado: Sem Interesse\n"
    }
   ],
   "source": [
    "import json\n",
    "import re\n",
    "\n",
    "print(\"Iniciando a classificação e atualização dos registros\")\n",
    "print()\n",
    "\n",
    "for registro in df_response.to_dict(orient='records'):\n",
    "    \n",
    "    baseurlupdate = f'http://127.0.0.1:8000/api/v1/insumodou/{registro[\"id\"]}/'\n",
    "  \n",
    "    response = requests.patch(baseurlupdate, json = { \"dsc_texto\":registro[\"dsc_texto\"]})\n",
    "\n",
    "    if response.status_code == requests.codes.ok:\n",
    "        print(f\"{response.json().get('msg')}: Texto de id {response.json().get('id')} atualizado, resultado: {response.json().get('cod_interesse')}\")\n",
    "    else:\n",
    "        print(f\"Chamada a API para o id {response.json().get('id')} com erro {response.status_code}\")\n"
   ]
  },
  {
   "cell_type": "code",
   "execution_count": null,
   "metadata": {},
   "outputs": [],
   "source": []
  }
 ],
 "metadata": {
  "kernelspec": {
   "display_name": "Python 3.8.2 64-bit ('Code': venv)",
   "language": "python",
   "name": "python38264bitcodevenvbcbf95d254724d9cacd59e17ba0af0b8"
  },
  "language_info": {
   "codemirror_mode": {
    "name": "ipython",
    "version": 3
   },
   "file_extension": ".py",
   "mimetype": "text/x-python",
   "name": "python",
   "nbconvert_exporter": "python",
   "pygments_lexer": "ipython3",
   "version": "3.8.2-final"
  }
 },
 "nbformat": 4,
 "nbformat_minor": 4
}