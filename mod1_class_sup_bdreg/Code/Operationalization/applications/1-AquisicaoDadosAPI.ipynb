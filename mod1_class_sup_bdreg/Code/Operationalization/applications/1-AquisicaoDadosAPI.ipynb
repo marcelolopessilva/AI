{
 "metadata": {
  "language_info": {
   "codemirror_mode": {
    "name": "ipython",
    "version": 3
   },
   "file_extension": ".py",
   "mimetype": "text/x-python",
   "name": "python",
   "nbconvert_exporter": "python",
   "pygments_lexer": "ipython3",
   "version": "3.8.2-final"
  },
  "orig_nbformat": 2,
  "kernelspec": {
   "name": "python38264bitcodevenv7ce5c7b02a11492e84877e70da9e32b5",
   "display_name": "Python 3.8.2 64-bit ('Code': venv)"
  }
 },
 "nbformat": 4,
 "nbformat_minor": 2,
 "cells": [
  {
   "cell_type": "markdown",
   "metadata": {},
   "source": [
    "# Aquisição de dados do diário oficial \n",
    "Site: Inlabs Periodicidade: Diária\n",
    "\n",
    "Pré requisito de browser: https://sites.google.com/a/chromium.org/chromedriver/downloads - Baixar de acordo com a sua versão do Chrome"
   ]
  },
  {
   "cell_type": "code",
   "execution_count": 3,
   "metadata": {
    "tags": []
   },
   "outputs": [
    {
     "output_type": "stream",
     "name": "stdout",
     "text": "Site acessado, baixando arquivos\n\nArquivo 2020-09-08-DO3.zip baixado.\nArquivo 2020-09-08-DO2.zip baixado.\nArquivo 2020-09-08-DO1.zip baixado.\n\nArquivo 2020-09-08-DO2.zip copiado para processamento.\nArquivo 2020-09-08-DO1.zip copiado para processamento.\nArquivo 2020-09-08-DO3.zip copiado para processamento.\n"
    }
   ],
   "source": [
    "from selenium import webdriver\n",
    "from selenium.webdriver.common.keys import Keys\n",
    "from selenium.webdriver.common.by import By\n",
    "from selenium.webdriver.support.ui import WebDriverWait\n",
    "from selenium.webdriver.support import expected_conditions as EC\n",
    "from datetime import datetime\n",
    "import time\n",
    "from pathlib import Path\n",
    "import os\n",
    "import shutil\n",
    "\n",
    "# Caminho do chromedriver\n",
    "PATH_CHROMEDRIVER = \"./chromedriver\"\n",
    "# Caminho dos arquivos\n",
    "PATH_ARQUIVOS = \"../../../Data/Raw\"\n",
    "# Caminho pasta Downloads do usuário executor do notebook\n",
    "PATH_DOWNLOADS = str(os.path.join(Path.home(), \"Downloads\"))\n",
    "\n",
    "driver = webdriver.Chrome(executable_path=PATH_CHROMEDRIVER)\n",
    "driver.get(\"https://inlabs.in.gov.br/acessar.php\")\n",
    "\n",
    "# Usuário e senha de testes. Em ambiente de produção passar para arquivo criptografado.\n",
    "EMAIL = \"marcelolopes@ons.org.br\"\n",
    "SENHA = \"P@ssw0rd1\"\n",
    "\n",
    "# Envia email\n",
    "driver.find_element_by_xpath(\"/html/body/div[1]/div[2]/div[2]/form[1]/div[1]/div/input\").send_keys(EMAIL)\n",
    "# Envia senha\n",
    "driver.find_element_by_xpath(\"/html/body/div[1]/div[2]/div[2]/form[1]/div[2]/div/input\").send_keys(SENHA)\n",
    "# Clica no botão para logar\n",
    "driver.find_element_by_xpath(\"/html/body/div[1]/div[2]/div[2]/form[1]/div[3]/div/input\").send_keys(Keys.RETURN)\n",
    "\n",
    "# Formata a data de hoje para AAAA-MM-DD\n",
    "dataHoje = datetime.now().strftime(\"%Y-%m-%d\")\n",
    "\n",
    "# Aguarda link dos arquivos do dia ser renderizado no DOM para acessar os arquivos\n",
    "try:\n",
    "    linkDataHoje = WebDriverWait(driver, 10).until(\n",
    "        EC.presence_of_element_located((By.LINK_TEXT, dataHoje))\n",
    "    )\n",
    "\n",
    "    linkDataHoje.click()\n",
    "\n",
    "    # Tabela com todos os arquivos zip e pdf\n",
    "    tabela = driver.find_element_by_xpath(\"/html/body/div[1]/div[2]/table\")\n",
    "\n",
    "    # Âncora dos arquivos com link para download\n",
    "    arquivos = tabela.find_elements_by_xpath(\"//div[@class='filename']/a\")\n",
    "\n",
    "    print(\"Site acessado, baixando arquivos\")\n",
    "    print()\n",
    "\n",
    "    #download dos arquivos zip\n",
    "    for arquivo in arquivos:\n",
    "        if \".zip\" in arquivo.text:\n",
    "            arquivo.click()\n",
    "            print(f\"Arquivo {arquivo.text} baixado.\")\n",
    "    \n",
    "    print()\n",
    "\n",
    "    # Aguarda 10s para baixar todos os arquivos completamente\n",
    "    time.sleep(10)\n",
    "\n",
    "    # Garantir que diretório esteja vazio antes da cópia\n",
    "    for filename in os.listdir(PATH_ARQUIVOS):\n",
    "        file_path = os.path.join(PATH_ARQUIVOS, filename)\n",
    "        try:\n",
    "            if os.path.isfile(file_path) or os.path.islink(file_path):\n",
    "                os.unlink(file_path)\n",
    "            elif os.path.isdir(file_path):\n",
    "                shutil.rmtree(file_path)\n",
    "        except Exception as e:\n",
    "            print('Falha ao apagar %s. Razão: %s' % (file_path, e))\n",
    "\n",
    "    # No linux o chrome não permite a alteração do diretório de download para o home. \n",
    "    # Os arquivos devem ser movidos para o diretório onde serão consumidos\n",
    "    \n",
    "    arquivos = [arq for arq in os.listdir(PATH_DOWNLOADS) if dataHoje in arq]\n",
    "\n",
    "    for arquivo in arquivos:\n",
    "        shutil.copy(PATH_DOWNLOADS + \"/\" + arquivo, PATH_ARQUIVOS)\n",
    "        print(f\"Arquivo {arquivo} copiado para processamento.\")\n",
    "\n",
    "except:\n",
    "    print(f\"Link para os arquivos de {dataHoje} não encontrado no site.\")\n",
    "finally:\n",
    "    driver.quit()\n",
    "\n",
    "\n",
    "\n",
    "\n",
    "\n",
    "        "
   ]
  },
  {
   "cell_type": "code",
   "execution_count": 2,
   "metadata": {},
   "outputs": [
    {
     "output_type": "execute_result",
     "data": {
      "text/plain": "'/home/marcelo/Documentos/infnet/mit_data_science/Code/Operationalization/applications'"
     },
     "metadata": {},
     "execution_count": 2
    }
   ],
   "source": [
    "pwd"
   ]
  }
 ]
}